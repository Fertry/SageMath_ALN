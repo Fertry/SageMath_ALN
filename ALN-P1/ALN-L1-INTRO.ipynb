{
 "cells": [
  {
   "cell_type": "markdown",
   "metadata": {},
   "source": [
    "<div style=\"color: #000000; background-image: initial; background-attachment: initial; background-origin: initial; background-clip: initial; background-color: #ffffff; background-position: initial initial; background-repeat: initial initial; margin: 8px;\">\n",
    "<h3 style=\"font-size: 1.17em; text-align: center;\">ESCUELA TÉCNICA SUPERIOR DE INGENIERÍA INFORMÁTICA</h3>\n",
    "<h3 style=\"font-size: 1.17em; text-align: center;\">UNIVERSIDAD DE SEVILLA</h3>\n",
    "<h4 style=\"font-size: 1em; text-align: center;\"><strong>ÁLGEBRA LINEAL Y NUMÉRICA</strong></h4>\n",
    "<h3 style=\"font-size: 1.17em;\">Introducción a SageMath y su uso en Álgebra Lineal y Numérica</h3>\n",
    "<p>En esta primera sesión nos marcamos los siguientes objetivos:</p>\n",
    "<ul>\n",
    "<li>Dar una introducción al software SageMath y al <a href=\"#intro\">manejo de esta interfaz</a>.</li>\n",
    "<li>Familiarizarnos con los <a href=\"#basicos\">procedimientos básicos</a> del álgebra lineal trabajando con SageMath.</li>\n",
    "<li>Trabajar con el método de <a href=\"#eliminacion\">eliminación gaussiana</a> y el algoritmo de Gauss-Jordan.</li>\n",
    "<li>Conocer algunas posibilidades de SageMath para trabajar con diferentes <a href=\"#anillos\">anillos de números</a>.</li>\n",
    "<li>Ilustrar algunas <a href=\"#aplicaciones\">aplicaciones prácticas</a> de la resolución de sistemas de ecuaciones lineales a problemas reales.</li>\n",
    "</ul>\n",
    "<p>La práctica finaliza con la realización por parte del alumnado de un <a href=\"#cuestionario\">cuestionario</a> personalizado.</p>\n",
    "</div>"
   ]
  },
  {
   "cell_type": "markdown",
   "metadata": {},
   "source": [
    "<h2><a name=\"intro\"></a> Introducción a SageMath</h2>\n",
    "<h3 style=\"font-size: 1.17em;\">Breve descripción</h3>\n",
    "<p>SageMath es un paquete de <strong>software matemático libre y de código abierto</strong> bajo licencia GNU GPL. En realidad SageMath engloba, bajo una misma interfaz, a cerca de un centenar de paquetes de software matemático libre, poniéndolos a disposición del usuario de forma transparente. El lenguaje de programación empleado para ello es <strong>Python </strong>(actualmente Python 2.7 para versiones de SageMath inferiores a la 9 y Python 3 a partir de la versión 9 de SageMath) y en ese sentido, el lenguaje propio de SageMath es compatible en un 99% con Python.  Intentaremos dar una pequeña introducción al manejo de SageMath desde la asignatura de Álgebra Lineal y Numérica.</p>\n",
    "<h3 style=\"font-size: 1.17em;\">Manejo de esta interfaz<span style=\"font-weight: normal; font-size: small;\"> <br /></span></h3>\n",
    "<p>Este documento es un ejemplo de cuaderno (<strong>notebook</strong>) en SageMath, en formato `.ipynb` (ipython notebook), visualizado por medio del interfaz *Jupyter*. Si has seguido una introducción a Python en la asignatura <strong>Fundamentos de la programación</strong> o utilizaste SageMath en la asignatura <strong>Cálculo Infinitesimal y Numérico</strong>, ya utilizaste el interfaz <strong>Jupyter</strong> y puedes pasar a la sección siguiente de este notebook.\n",
    "\n",
    "Hay dos tipos de recuadros o espacios (celdas)  a lo largo del documento:\n",
    "* los que no son ejecutables, que normalmente contienen texto, como este espacio que estás leyendo. Son celdas \"Markdown\" ya que se utiliza la [sintaxis Markdown](https://es.wikipedia.org/wiki/Markdown) utilizada también en muchos wikis.\n",
    "* y  recuadros ejecutables (contienen instrucciones ó código de SageMath)."
   ]
  },
  {
   "cell_type": "markdown",
   "metadata": {},
   "source": [
    "Esta celda es una celda de texto. Para editar esta celda, haz doble-click en la celda. Puedes guardar y visualizar tus modificaciones con *Shift+Enter*.  \n",
    "\n",
    "La sintaxis Markdown permite\n",
    "* insertar facilmente listas, hyperenlaces...\n",
    "* **enfatizar** de *varias maneras* ...\n",
    "\n",
    "Se puede utilizar también <font color=\"red\">sintaxís HTML </font>. <br /> <br />\n",
    "Para escribir formulas de matemáticas, se puede utilizar la sintaxís [LaTeX](https://es.wikipedia.org/wiki/LaTeX). Por ejemplo: \n",
    "$$\\int_0^{\\infty} e^{-\\frac{x^2}{2}} dx = \\sqrt{\\frac{\\pi}{2}}.$$\n",
    "\n",
    ">*Haz doble-click en esta celda para ver como este texto fue elaborado con Markdown, HTML y LaTeX.*\n",
    "\n",
    "La celda que viene a continuación es una celda de código. Haz click en la celda  y pulsa MAYÚSCULAS +  ENTER para ejecutar el código. Si SageMath devuelve un resultado, lo hace en el espacio inferior, justo debajo de la celda."
   ]
  },
  {
   "cell_type": "code",
   "execution_count": 9,
   "metadata": {},
   "outputs": [
    {
     "name": "stdout",
     "output_type": "stream",
     "text": [
      "Hello world!\n",
      "1+1= 2\n"
     ]
    }
   ],
   "source": [
    "print(\"Hello world!\")\n",
    "print(\"1+1=\", 1+1)"
   ]
  },
  {
   "cell_type": "markdown",
   "metadata": {},
   "source": [
    "Puedes \n",
    "* modificar el tipo de una celda (de texto/de código) por medio del menú \"Cell/Cell Type\", \n",
    "* insertar nuevas celdas con el menú \"Insert\" o pinchando en el icono \"+\" debajo del menú \"File\". La nueva celda insertada con \"+\" es, por defecto, una celda de comandos; la puedes convertir en celda de texto colocando el ratón en el margen izquierdo y tecleando allí \"m\". \n",
    "* eliminar, copiar, mover celdas con el menú \"Edit\".\n",
    "\n",
    "Para guardar las modificaciones realizadas en el cuaderno, utiliza el menu \"File/Save and Checkpoint\" o pincha en el icono de disco al lado del menu \"File\". Para cerrar el cuaderno, utiliza \"File/Close and halt\"."
   ]
  },
  {
   "cell_type": "markdown",
   "metadata": {},
   "source": [
    "<h3>Ejemplo 1:</h3>\n",
    "<p>A continuación, ejecuta las instrucciones de las siguientes celdas y experimenta con la inserción de nuevas celdas ejecutables y de texto.</p>"
   ]
  },
  {
   "cell_type": "code",
   "execution_count": 4,
   "metadata": {},
   "outputs": [
    {
     "data": {
      "text/plain": [
       "4"
      ]
     },
     "execution_count": 4,
     "metadata": {},
     "output_type": "execute_result"
    }
   ],
   "source": [
    "5 + 2*3 -(4 + 3)"
   ]
  },
  {
   "cell_type": "code",
   "execution_count": 5,
   "metadata": {},
   "outputs": [
    {
     "data": {
      "text/plain": [
       "5/6"
      ]
     },
     "execution_count": 5,
     "metadata": {},
     "output_type": "execute_result"
    }
   ],
   "source": [
    "5 - 3*2; 2 + 3^2; 1/3 + 1/2"
   ]
  },
  {
   "cell_type": "code",
   "execution_count": 6,
   "metadata": {},
   "outputs": [
    {
     "data": {
      "text/plain": [
       "15"
      ]
     },
     "execution_count": 6,
     "metadata": {},
     "output_type": "execute_result"
    }
   ],
   "source": [
    "x = 7; y = 3\n",
    "2 + 3\n",
    "5 + x + y"
   ]
  },
  {
   "cell_type": "markdown",
   "metadata": {},
   "source": [
    "<div style=\"color: #000000; background-image: initial; background-attachment: initial; background-origin: initial; background-clip: initial; background-color: #ffffff; background-position: initial initial; background-repeat: initial initial; margin: 8px;\">\n",
    "<p>SageMath utiliza un lenguaje interpretado y orientado a objetos. En SageMath hay <span style=\"color: #0000ff;\">funciones</span> y <span style=\"color: #0000ff;\">métodos</span>. Para usar una función escribimos el nombre de la función y entre parántesis el objeto al que se le aplica la función. Si usamos un método, primero escribimos el objeto sobre el que se va a actuar, a continuación un punto y finalmente el método, con paréntesis, en cuyo interior se pueden escribir las opciones (en caso necesario).</p>\n",
    "<p>En el siguiente ejemplo hemos usado  la función <span style=\"color: #0000ff;\">sqrt( )</span> para hallar la raiz cuadrada del número 2 y la función <span style=\"color: #0000ff;\">n( )</span> para hallar una aproximación numérica en coma flotante. Ésta última también actúa como un método, aplicable al resultado numérico; como opción, en el último caso, hemos precisado el número de cifras decimales con <span style=\"color: #0000ff;\">digits</span>.</p>\n",
    "</div>"
   ]
  },
  {
   "cell_type": "code",
   "execution_count": 7,
   "metadata": {},
   "outputs": [
    {
     "data": {
      "text/plain": [
       "1.414214"
      ]
     },
     "execution_count": 7,
     "metadata": {},
     "output_type": "execute_result"
    }
   ],
   "source": [
    "sqrt(2)                  # usamos la función sqrt() sobre el objeto 2\n",
    "n(sqrt(2))               # usamos la función n() sobre el objeto sqrt(2)\n",
    "sqrt(2).n()              # al objeto sqrt(2) le aplicamos el método n()\n",
    "n(sqrt(2), digits = 7)   # aplicamos la función n(), la cual actúa sobre el objeto sqrt(2) y utiliza el parámetro opcional digits=7"
   ]
  },
  {
   "cell_type": "markdown",
   "metadata": {},
   "source": [
    "<p>Podemos obtener una representación de los resultados más amigable con la función  <span style=\"color: #0000ff;\">show()</span>:</p>"
   ]
  },
  {
   "cell_type": "code",
   "execution_count": 10,
   "metadata": {},
   "outputs": [
    {
     "data": {
      "text/html": [
       "<html><script type=\"math/tex; mode=display\">\\newcommand{\\Bold}[1]{\\mathbf{#1}}\\frac{1}{5} \\, \\sqrt{2}</script></html>"
      ],
      "text/latex": [
       "\\begin{math}\n",
       "\\newcommand{\\Bold}[1]{\\mathbf{#1}}\\frac{1}{5} \\, \\sqrt{2}\n",
       "\\end{math}"
      ],
      "text/plain": [
       "1/5*sqrt(2)"
      ]
     },
     "metadata": {},
     "output_type": "display_data"
    }
   ],
   "source": [
    "show(sqrt(2)/ 5)"
   ]
  },
  {
   "cell_type": "markdown",
   "metadata": {},
   "source": [
    "## Autocompletar y ayuda\n",
    "\n",
    "<p>La notación de función nos resulta más próxima a la escritura en Matemáticas. Sin embargo, los métodos o atributos tienen una ventaja adicional: como primero tenemos que escribir el objeto, SageMath \"sabe\" qué métodos se pueden aplicar a dicho objeto. Si escribimos un objeto, a continuación un punto y pulsamos el tabulador nos aparece un listado con todos los métodos que se pueden aplicar a dicho objeto. Si hemos empezado a escribir el objeto y pulsamos el tabulador, el programa completará el nombre o nos dará las diversas posibilidades, si hay más de una.</p>\n",
    "<p>Para obtener ayuda sobre un método o función sustituimos los paréntesis por el signo de interrogación \"?\" y pulsamos el tabulador.</p>\n",
    "<p>La asignación de un valor a cierta variable en SageMath se hace con el signo de la igualdad, uno solo.</p>"
   ]
  },
  {
   "cell_type": "code",
   "execution_count": 14,
   "metadata": {},
   "outputs": [
    {
     "data": {
      "text/plain": [
       "[1 2]\n",
       "[3 4]"
      ]
     },
     "execution_count": 14,
     "metadata": {},
     "output_type": "execute_result"
    }
   ],
   "source": [
    "M = matrix([[1,2],[3,4]])\n",
    "M"
   ]
  },
  {
   "cell_type": "markdown",
   "metadata": {},
   "source": [
    "A continuación, buscamos un método para obtener la inversa de $M$. Empezamos escribiendo `M.inv`, esperando que el método correcto empieze por `inv`, y a continuación presionamos la tecla de tabulación: SAGE ofrece las maneras posibles de completar.\n",
    "\n",
    "> &#9758; Coloca el ratón all final del `M.inv` que sigue y presiona la tecla de tabulación. Calcula luego la inversa de $M$."
   ]
  },
  {
   "cell_type": "code",
   "execution_count": 15,
   "metadata": {},
   "outputs": [
    {
     "ename": "AttributeError",
     "evalue": "'sage.matrix.matrix_integer_dense.Matrix_integer_dense' object has no attribute 'inv'",
     "output_type": "error",
     "traceback": [
      "\u001b[0;31m---------------------------------------------------------------------------\u001b[0m",
      "\u001b[0;31mAttributeError\u001b[0m                            Traceback (most recent call last)",
      "\u001b[0;32m<ipython-input-15-a7aa0ae40fb7>\u001b[0m in \u001b[0;36m<module>\u001b[0;34m\u001b[0m\n\u001b[0;32m----> 1\u001b[0;31m \u001b[0mM\u001b[0m\u001b[0;34m.\u001b[0m\u001b[0minv\u001b[0m\u001b[0;34m\u001b[0m\u001b[0;34m\u001b[0m\u001b[0m\n\u001b[0m",
      "\u001b[0;32m/opt/sagemath-9.2/local/lib/python3.7/site-packages/sage/structure/element.pyx\u001b[0m in \u001b[0;36msage.structure.element.Element.__getattr__ (build/cythonized/sage/structure/element.c:4703)\u001b[0;34m()\u001b[0m\n\u001b[1;32m    491\u001b[0m             \u001b[0mAttributeError\u001b[0m\u001b[0;34m:\u001b[0m \u001b[0;34m'LeftZeroSemigroup_with_category.element_class'\u001b[0m \u001b[0mobject\u001b[0m \u001b[0mhas\u001b[0m \u001b[0mno\u001b[0m \u001b[0mattribute\u001b[0m \u001b[0;34m'blah_blah'\u001b[0m\u001b[0;34m\u001b[0m\u001b[0;34m\u001b[0m\u001b[0m\n\u001b[1;32m    492\u001b[0m         \"\"\"\n\u001b[0;32m--> 493\u001b[0;31m         \u001b[0;32mreturn\u001b[0m \u001b[0mself\u001b[0m\u001b[0;34m.\u001b[0m\u001b[0mgetattr_from_category\u001b[0m\u001b[0;34m(\u001b[0m\u001b[0mname\u001b[0m\u001b[0;34m)\u001b[0m\u001b[0;34m\u001b[0m\u001b[0;34m\u001b[0m\u001b[0m\n\u001b[0m\u001b[1;32m    494\u001b[0m \u001b[0;34m\u001b[0m\u001b[0m\n\u001b[1;32m    495\u001b[0m     \u001b[0mcdef\u001b[0m \u001b[0mgetattr_from_category\u001b[0m\u001b[0;34m(\u001b[0m\u001b[0mself\u001b[0m\u001b[0;34m,\u001b[0m \u001b[0mname\u001b[0m\u001b[0;34m)\u001b[0m\u001b[0;34m:\u001b[0m\u001b[0;34m\u001b[0m\u001b[0;34m\u001b[0m\u001b[0m\n",
      "\u001b[0;32m/opt/sagemath-9.2/local/lib/python3.7/site-packages/sage/structure/element.pyx\u001b[0m in \u001b[0;36msage.structure.element.Element.getattr_from_category (build/cythonized/sage/structure/element.c:4815)\u001b[0;34m()\u001b[0m\n\u001b[1;32m    504\u001b[0m         \u001b[0;32melse\u001b[0m\u001b[0;34m:\u001b[0m\u001b[0;34m\u001b[0m\u001b[0;34m\u001b[0m\u001b[0m\n\u001b[1;32m    505\u001b[0m             \u001b[0mcls\u001b[0m \u001b[0;34m=\u001b[0m \u001b[0mP\u001b[0m\u001b[0;34m.\u001b[0m\u001b[0m_abstract_element_class\u001b[0m\u001b[0;34m\u001b[0m\u001b[0;34m\u001b[0m\u001b[0m\n\u001b[0;32m--> 506\u001b[0;31m         \u001b[0;32mreturn\u001b[0m \u001b[0mgetattr_from_other_class\u001b[0m\u001b[0;34m(\u001b[0m\u001b[0mself\u001b[0m\u001b[0;34m,\u001b[0m \u001b[0mcls\u001b[0m\u001b[0;34m,\u001b[0m \u001b[0mname\u001b[0m\u001b[0;34m)\u001b[0m\u001b[0;34m\u001b[0m\u001b[0;34m\u001b[0m\u001b[0m\n\u001b[0m\u001b[1;32m    507\u001b[0m \u001b[0;34m\u001b[0m\u001b[0m\n\u001b[1;32m    508\u001b[0m     \u001b[0;32mdef\u001b[0m \u001b[0m__dir__\u001b[0m\u001b[0;34m(\u001b[0m\u001b[0mself\u001b[0m\u001b[0;34m)\u001b[0m\u001b[0;34m:\u001b[0m\u001b[0;34m\u001b[0m\u001b[0;34m\u001b[0m\u001b[0m\n",
      "\u001b[0;32m/opt/sagemath-9.2/local/lib/python3.7/site-packages/sage/cpython/getattr.pyx\u001b[0m in \u001b[0;36msage.cpython.getattr.getattr_from_other_class (build/cythonized/sage/cpython/getattr.c:2619)\u001b[0;34m()\u001b[0m\n\u001b[1;32m    370\u001b[0m         \u001b[0mdummy_error_message\u001b[0m\u001b[0;34m.\u001b[0m\u001b[0mcls\u001b[0m \u001b[0;34m=\u001b[0m \u001b[0mtype\u001b[0m\u001b[0;34m(\u001b[0m\u001b[0mself\u001b[0m\u001b[0;34m)\u001b[0m\u001b[0;34m\u001b[0m\u001b[0;34m\u001b[0m\u001b[0m\n\u001b[1;32m    371\u001b[0m         \u001b[0mdummy_error_message\u001b[0m\u001b[0;34m.\u001b[0m\u001b[0mname\u001b[0m \u001b[0;34m=\u001b[0m \u001b[0mname\u001b[0m\u001b[0;34m\u001b[0m\u001b[0;34m\u001b[0m\u001b[0m\n\u001b[0;32m--> 372\u001b[0;31m         \u001b[0;32mraise\u001b[0m \u001b[0mAttributeError\u001b[0m\u001b[0;34m(\u001b[0m\u001b[0mdummy_error_message\u001b[0m\u001b[0;34m)\u001b[0m\u001b[0;34m\u001b[0m\u001b[0;34m\u001b[0m\u001b[0m\n\u001b[0m\u001b[1;32m    373\u001b[0m     \u001b[0mattribute\u001b[0m \u001b[0;34m=\u001b[0m \u001b[0;34m<\u001b[0m\u001b[0mobject\u001b[0m\u001b[0;34m>\u001b[0m\u001b[0mattr\u001b[0m\u001b[0;34m\u001b[0m\u001b[0;34m\u001b[0m\u001b[0m\n\u001b[1;32m    374\u001b[0m     \u001b[0;31m# Check for a descriptor (__get__ in Python)\u001b[0m\u001b[0;34m\u001b[0m\u001b[0;34m\u001b[0m\u001b[0;34m\u001b[0m\u001b[0m\n",
      "\u001b[0;31mAttributeError\u001b[0m: 'sage.matrix.matrix_integer_dense.Matrix_integer_dense' object has no attribute 'inv'"
     ]
    }
   ],
   "source": [
    "M.inv"
   ]
  },
  {
   "cell_type": "markdown",
   "metadata": {},
   "source": [
    "Obtenemos ayuda sobre un método con el ?\n",
    "\n",
    "> &#9758; ejecuta la celda que sigue para saber más sobre el método `inverse`."
   ]
  },
  {
   "cell_type": "code",
   "execution_count": 13,
   "metadata": {},
   "outputs": [
    {
     "name": "stderr",
     "output_type": "stream",
     "text": [
      "/opt/sagemath-9.2/local/lib/python3.7/site-packages/docutils/writers/latex2e/__init__.py:2978: DeprecationWarning: invalid escape sequence \\l\n",
      "  self.out.append('}] \\leavevmode ')\n"
     ]
    }
   ],
   "source": [
    "M.inverse?"
   ]
  },
  {
   "cell_type": "markdown",
   "metadata": {},
   "source": [
    "<h2><a name=\"basicos\"></a>Procedimientos básicos del Álgebra Lineal</h2>\n",
    "<p>Vamos a familiarizarnos con los procedimientos y cálculos básicos que se emplean en el álgebra lineal.</p>\n",
    "<p>Empezamos con la introducción de matrices y vectores:</p>\n",
    "\n",
    "* A continuación guardamos en la memoria una variable $A$ que contiene una matriz no singular de orden $3\\times 3$.\n",
    "* Similarmente, $b$ se corresponde con un vector de $\\mathbb{R}^3$."
   ]
  },
  {
   "cell_type": "code",
   "execution_count": 1,
   "metadata": {},
   "outputs": [
    {
     "data": {
      "text/plain": [
       "[    1     1     1     1     0     0]\n",
       "[    0    -1     0    -1     7     0]\n",
       "[    0     0    -1    -1     1     1]\n",
       "[    0     0     0     1    -8    -1]\n",
       "[    0     0     0     0     1  -1/3]\n",
       "[    0     0     0     0     0 -46/3]"
      ]
     },
     "execution_count": 1,
     "metadata": {},
     "output_type": "execute_result"
    }
   ],
   "source": [
    "A = matrix([[1, 1, 1, 1, 0, 0],[0, -1, 0, -1, 7, 0],[0, 0, -1, -1, 1, 1],[0, 0, 0, 1, -8, -1], [0, 0, 0, 0, 1, -1/3],[0, 0, 0, 0, 0, -46/3]])\n",
    "A"
   ]
  },
  {
   "cell_type": "code",
   "execution_count": 3,
   "metadata": {},
   "outputs": [
    {
     "data": {
      "text/plain": [
       "(0, 0, 0, 0, 0, 0)"
      ]
     },
     "execution_count": 3,
     "metadata": {},
     "output_type": "execute_result"
    }
   ],
   "source": [
    "b = vector([0, 0, 0, 0, 0, 0])\n",
    "b"
   ]
  },
  {
   "cell_type": "code",
   "execution_count": 4,
   "metadata": {},
   "outputs": [
    {
     "data": {
      "text/plain": [
       "(0, 0, 0, 0, 0, 0)"
      ]
     },
     "execution_count": 4,
     "metadata": {},
     "output_type": "execute_result"
    }
   ],
   "source": [
    "A.solve_right(b)"
   ]
  },
  {
   "cell_type": "code",
   "execution_count": 9,
   "metadata": {},
   "outputs": [
    {
     "data": {
      "text/plain": [
       "[ 1  1  1  1  0  0]\n",
       "[ 0 -1  0 -1  7  0]\n",
       "[ 0  0 -1 -1  1  1]"
      ]
     },
     "execution_count": 9,
     "metadata": {},
     "output_type": "execute_result"
    }
   ],
   "source": [
    "A = matrix([[1, 1, 1, 1, 0, 0],[0, -1, 0, -1, 7, 0],[0, 0, -1, -1, 1, 1]])\n",
    "A"
   ]
  },
  {
   "cell_type": "code",
   "execution_count": 10,
   "metadata": {},
   "outputs": [
    {
     "data": {
      "text/plain": [
       "(0, 0, 0)"
      ]
     },
     "execution_count": 10,
     "metadata": {},
     "output_type": "execute_result"
    }
   ],
   "source": [
    "b = vector([0, 0, 0])\n",
    "b"
   ]
  },
  {
   "cell_type": "code",
   "execution_count": 11,
   "metadata": {},
   "outputs": [
    {
     "data": {
      "text/plain": [
       "(0, 0, 0, 0, 0, 0)"
      ]
     },
     "execution_count": 11,
     "metadata": {},
     "output_type": "execute_result"
    }
   ],
   "source": [
    "A.solve_right(b)"
   ]
  },
  {
   "cell_type": "code",
   "execution_count": 5,
   "metadata": {},
   "outputs": [
    {
     "data": {
      "text/html": [
       "<html><script type=\"math/tex; mode=display\">\\newcommand{\\Bold}[1]{\\mathbf{#1}}\\left(\\begin{array}{rrrrrr}\n",
       "1 & 1 & 2 & 2 & 3 & 3 \\\\\n",
       "3 & 0 & 0 & 4 & 0 & 5 \\\\\n",
       "4 & 0 & 6 & 0 & 7 & 1 \\\\\n",
       "-4 & 1 & 1 & 1 & 0 & 0 \\\\\n",
       "-3 & 2 & -1 & 0 & 1 & 0 \\\\\n",
       "-12 & 7 & 3 & 0 & 0 & 1\n",
       "\\end{array}\\right)</script></html>"
      ],
      "text/plain": [
       "[  1   1   2   2   3   3]\n",
       "[  3   0   0   4   0   5]\n",
       "[  4   0   6   0   7   1]\n",
       "[ -4   1   1   1   0   0]\n",
       "[ -3   2  -1   0   1   0]\n",
       "[-12   7   3   0   0   1]"
      ]
     },
     "metadata": {},
     "output_type": "display_data"
    },
    {
     "ename": "TypeError",
     "evalue": "no conversion of this rational to integer",
     "output_type": "error",
     "traceback": [
      "\u001b[0;31m---------------------------------------------------------------------------\u001b[0m",
      "\u001b[0;31mTypeError\u001b[0m                                 Traceback (most recent call last)",
      "\u001b[0;32m<ipython-input-5-ee5656778d1f>\u001b[0m in \u001b[0;36m<module>\u001b[0;34m()\u001b[0m\n\u001b[1;32m      2\u001b[0m \u001b[0mshow\u001b[0m\u001b[0;34m(\u001b[0m\u001b[0mA\u001b[0m\u001b[0;34m)\u001b[0m\u001b[0;34m\u001b[0m\u001b[0;34m\u001b[0m\u001b[0m\n\u001b[1;32m      3\u001b[0m \u001b[0mA\u001b[0m\u001b[0;34m.\u001b[0m\u001b[0mrank\u001b[0m\u001b[0;34m(\u001b[0m\u001b[0;34m)\u001b[0m\u001b[0;34m\u001b[0m\u001b[0;34m\u001b[0m\u001b[0m\n\u001b[0;32m----> 4\u001b[0;31m \u001b[0mF\u001b[0m\u001b[0;34m,\u001b[0m \u001b[0mE\u001b[0m \u001b[0;34m=\u001b[0m \u001b[0mforma_escalonada\u001b[0m\u001b[0;34m(\u001b[0m\u001b[0mA\u001b[0m\u001b[0;34m,\u001b[0m \u001b[0;32mTrue\u001b[0m\u001b[0;34m,\u001b[0m \u001b[0;32mTrue\u001b[0m\u001b[0;34m)\u001b[0m\u001b[0;34m\u001b[0m\u001b[0;34m\u001b[0m\u001b[0m\n\u001b[0m",
      "\u001b[0;32m<ipython-input-4-2f89d6015178>\u001b[0m in \u001b[0;36mforma_escalonada\u001b[0;34m(M, canon, ver_transfo)\u001b[0m\n\u001b[1;32m     26\u001b[0m                 \u001b[0;32mif\u001b[0m \u001b[0mmultip\u001b[0m \u001b[0;34m!=\u001b[0m \u001b[0mInteger\u001b[0m\u001b[0;34m(\u001b[0m\u001b[0;36m0\u001b[0m\u001b[0;34m)\u001b[0m\u001b[0;34m:\u001b[0m\u001b[0;34m\u001b[0m\u001b[0;34m\u001b[0m\u001b[0m\n\u001b[1;32m     27\u001b[0m                     \u001b[0mA\u001b[0m\u001b[0;34m[\u001b[0m\u001b[0mt\u001b[0m\u001b[0;34m,\u001b[0m \u001b[0ms\u001b[0m\u001b[0;34m]\u001b[0m \u001b[0;34m=\u001b[0m \u001b[0mInteger\u001b[0m\u001b[0;34m(\u001b[0m\u001b[0;36m0\u001b[0m\u001b[0;34m)\u001b[0m\u001b[0;34m\u001b[0m\u001b[0;34m\u001b[0m\u001b[0m\n\u001b[0;32m---> 28\u001b[0;31m                     \u001b[0mF\u001b[0m\u001b[0;34m[\u001b[0m\u001b[0mt\u001b[0m\u001b[0;34m]\u001b[0m \u001b[0;34m=\u001b[0m \u001b[0mF\u001b[0m\u001b[0;34m[\u001b[0m\u001b[0mt\u001b[0m\u001b[0;34m]\u001b[0m \u001b[0;34m-\u001b[0m \u001b[0mmultip\u001b[0m\u001b[0;34m*\u001b[0m\u001b[0mF\u001b[0m\u001b[0;34m[\u001b[0m\u001b[0mk\u001b[0m\u001b[0;34m]\u001b[0m\u001b[0;34m\u001b[0m\u001b[0;34m\u001b[0m\u001b[0m\n\u001b[0m\u001b[1;32m     29\u001b[0m                     \u001b[0mlista_transfos\u001b[0m\u001b[0;34m.\u001b[0m\u001b[0mappend\u001b[0m\u001b[0;34m(\u001b[0m \u001b[0;34m(\u001b[0m\u001b[0;34m'combination'\u001b[0m\u001b[0;34m,\u001b[0m \u001b[0;34m(\u001b[0m\u001b[0mt\u001b[0m\u001b[0;34m+\u001b[0m\u001b[0mInteger\u001b[0m\u001b[0;34m(\u001b[0m\u001b[0;36m1\u001b[0m\u001b[0;34m)\u001b[0m\u001b[0;34m,\u001b[0m \u001b[0mk\u001b[0m\u001b[0;34m+\u001b[0m\u001b[0mInteger\u001b[0m\u001b[0;34m(\u001b[0m\u001b[0;36m1\u001b[0m\u001b[0;34m)\u001b[0m\u001b[0;34m,\u001b[0m \u001b[0;34m-\u001b[0m\u001b[0mmultip\u001b[0m\u001b[0;34m)\u001b[0m\u001b[0;34m)\u001b[0m\u001b[0;34m)\u001b[0m\u001b[0;34m\u001b[0m\u001b[0;34m\u001b[0m\u001b[0m\n\u001b[1;32m     30\u001b[0m                     \u001b[0;32mfor\u001b[0m \u001b[0mv\u001b[0m \u001b[0;32min\u001b[0m \u001b[0mrange\u001b[0m\u001b[0;34m(\u001b[0m\u001b[0ms\u001b[0m \u001b[0;34m+\u001b[0m \u001b[0mInteger\u001b[0m\u001b[0;34m(\u001b[0m\u001b[0;36m1\u001b[0m\u001b[0;34m)\u001b[0m\u001b[0;34m,\u001b[0m \u001b[0mn\u001b[0m\u001b[0;34m)\u001b[0m\u001b[0;34m:\u001b[0m\u001b[0;34m\u001b[0m\u001b[0;34m\u001b[0m\u001b[0m\n",
      "\u001b[0;32m/opt/sagemath-9.1/local/lib/python3.7/site-packages/sage/matrix/matrix0.pyx\u001b[0m in \u001b[0;36msage.matrix.matrix0.Matrix.__setitem__ (build/cythonized/sage/matrix/matrix0.c:9799)\u001b[0;34m()\u001b[0m\n\u001b[1;32m   1496\u001b[0m             \u001b[0;32mif\u001b[0m \u001b[0mno_col_index\u001b[0m\u001b[0;34m:\u001b[0m\u001b[0;34m\u001b[0m\u001b[0;34m\u001b[0m\u001b[0m\n\u001b[1;32m   1497\u001b[0m                 \u001b[0;32mfor\u001b[0m \u001b[0mcol\u001b[0m \u001b[0;32min\u001b[0m \u001b[0mrange\u001b[0m\u001b[0;34m(\u001b[0m\u001b[0mcol_list_len\u001b[0m\u001b[0;34m)\u001b[0m\u001b[0;34m:\u001b[0m\u001b[0;34m\u001b[0m\u001b[0;34m\u001b[0m\u001b[0m\n\u001b[0;32m-> 1498\u001b[0;31m                     \u001b[0mself\u001b[0m\u001b[0;34m.\u001b[0m\u001b[0mset_unsafe\u001b[0m\u001b[0;34m(\u001b[0m\u001b[0mrow\u001b[0m\u001b[0;34m,\u001b[0m \u001b[0mcol\u001b[0m\u001b[0;34m,\u001b[0m \u001b[0mself\u001b[0m\u001b[0;34m.\u001b[0m\u001b[0m_coerce_element\u001b[0m\u001b[0;34m(\u001b[0m\u001b[0mvalue_row\u001b[0m\u001b[0;34m[\u001b[0m\u001b[0mcol\u001b[0m\u001b[0;34m]\u001b[0m\u001b[0;34m)\u001b[0m\u001b[0;34m)\u001b[0m\u001b[0;34m\u001b[0m\u001b[0;34m\u001b[0m\u001b[0m\n\u001b[0m\u001b[1;32m   1499\u001b[0m             \u001b[0;32melse\u001b[0m\u001b[0;34m:\u001b[0m\u001b[0;34m\u001b[0m\u001b[0;34m\u001b[0m\u001b[0m\n\u001b[1;32m   1500\u001b[0m                 \u001b[0;32mfor\u001b[0m \u001b[0mcol\u001b[0m \u001b[0;32min\u001b[0m \u001b[0mrange\u001b[0m\u001b[0;34m(\u001b[0m\u001b[0mcol_list_len\u001b[0m\u001b[0;34m)\u001b[0m\u001b[0;34m:\u001b[0m\u001b[0;34m\u001b[0m\u001b[0;34m\u001b[0m\u001b[0m\n",
      "\u001b[0;32m/opt/sagemath-9.1/local/lib/python3.7/site-packages/sage/matrix/matrix0.pyx\u001b[0m in \u001b[0;36msage.matrix.matrix0.Matrix._coerce_element (build/cythonized/sage/matrix/matrix0.c:10310)\u001b[0;34m()\u001b[0m\n\u001b[1;32m   1531\u001b[0m         \u001b[0;32mif\u001b[0m \u001b[0misinstance\u001b[0m\u001b[0;34m(\u001b[0m\u001b[0mx\u001b[0m\u001b[0;34m,\u001b[0m \u001b[0mElement\u001b[0m\u001b[0;34m)\u001b[0m \u001b[0;32mand\u001b[0m \u001b[0;34m(\u001b[0m\u001b[0;34m<\u001b[0m\u001b[0mElement\u001b[0m\u001b[0;34m>\u001b[0m \u001b[0mx\u001b[0m\u001b[0;34m)\u001b[0m\u001b[0;34m.\u001b[0m\u001b[0m_parent\u001b[0m \u001b[0;32mis\u001b[0m \u001b[0mself\u001b[0m\u001b[0;34m.\u001b[0m\u001b[0m_base_ring\u001b[0m\u001b[0;34m:\u001b[0m\u001b[0;34m\u001b[0m\u001b[0;34m\u001b[0m\u001b[0m\n\u001b[1;32m   1532\u001b[0m             \u001b[0;32mreturn\u001b[0m \u001b[0mx\u001b[0m\u001b[0;34m\u001b[0m\u001b[0;34m\u001b[0m\u001b[0m\n\u001b[0;32m-> 1533\u001b[0;31m         \u001b[0;32mreturn\u001b[0m \u001b[0mself\u001b[0m\u001b[0;34m.\u001b[0m\u001b[0m_base_ring\u001b[0m\u001b[0;34m(\u001b[0m\u001b[0mx\u001b[0m\u001b[0;34m)\u001b[0m\u001b[0;34m\u001b[0m\u001b[0;34m\u001b[0m\u001b[0m\n\u001b[0m\u001b[1;32m   1534\u001b[0m \u001b[0;34m\u001b[0m\u001b[0m\n\u001b[1;32m   1535\u001b[0m     \u001b[0;31m###########################################################\u001b[0m\u001b[0;34m\u001b[0m\u001b[0;34m\u001b[0m\u001b[0;34m\u001b[0m\u001b[0m\n",
      "\u001b[0;32m/opt/sagemath-9.1/local/lib/python3.7/site-packages/sage/structure/parent.pyx\u001b[0m in \u001b[0;36msage.structure.parent.Parent.__call__ (build/cythonized/sage/structure/parent.c:9218)\u001b[0;34m()\u001b[0m\n\u001b[1;32m    898\u001b[0m         \u001b[0;32mif\u001b[0m \u001b[0mmor\u001b[0m \u001b[0;32mis\u001b[0m \u001b[0;32mnot\u001b[0m \u001b[0;32mNone\u001b[0m\u001b[0;34m:\u001b[0m\u001b[0;34m\u001b[0m\u001b[0;34m\u001b[0m\u001b[0m\n\u001b[1;32m    899\u001b[0m             \u001b[0;32mif\u001b[0m \u001b[0mno_extra_args\u001b[0m\u001b[0;34m:\u001b[0m\u001b[0;34m\u001b[0m\u001b[0;34m\u001b[0m\u001b[0m\n\u001b[0;32m--> 900\u001b[0;31m                 \u001b[0;32mreturn\u001b[0m \u001b[0mmor\u001b[0m\u001b[0;34m.\u001b[0m\u001b[0m_call_\u001b[0m\u001b[0;34m(\u001b[0m\u001b[0mx\u001b[0m\u001b[0;34m)\u001b[0m\u001b[0;34m\u001b[0m\u001b[0;34m\u001b[0m\u001b[0m\n\u001b[0m\u001b[1;32m    901\u001b[0m             \u001b[0;32melse\u001b[0m\u001b[0;34m:\u001b[0m\u001b[0;34m\u001b[0m\u001b[0;34m\u001b[0m\u001b[0m\n\u001b[1;32m    902\u001b[0m                 \u001b[0;32mreturn\u001b[0m \u001b[0mmor\u001b[0m\u001b[0;34m.\u001b[0m\u001b[0m_call_with_args\u001b[0m\u001b[0;34m(\u001b[0m\u001b[0mx\u001b[0m\u001b[0;34m,\u001b[0m \u001b[0margs\u001b[0m\u001b[0;34m,\u001b[0m \u001b[0mkwds\u001b[0m\u001b[0;34m)\u001b[0m\u001b[0;34m\u001b[0m\u001b[0;34m\u001b[0m\u001b[0m\n",
      "\u001b[0;32m/opt/sagemath-9.1/local/lib/python3.7/site-packages/sage/rings/rational.pyx\u001b[0m in \u001b[0;36msage.rings.rational.Q_to_Z._call_ (build/cythonized/sage/rings/rational.c:32152)\u001b[0;34m()\u001b[0m\n\u001b[1;32m   4187\u001b[0m         \"\"\"\n\u001b[1;32m   4188\u001b[0m         \u001b[0;32mif\u001b[0m \u001b[0;32mnot\u001b[0m \u001b[0mmpz_cmp_si\u001b[0m\u001b[0;34m(\u001b[0m\u001b[0mmpq_denref\u001b[0m\u001b[0;34m(\u001b[0m\u001b[0;34m(\u001b[0m\u001b[0;34m<\u001b[0m\u001b[0mRational\u001b[0m\u001b[0;34m>\u001b[0m\u001b[0mx\u001b[0m\u001b[0;34m)\u001b[0m\u001b[0;34m.\u001b[0m\u001b[0mvalue\u001b[0m\u001b[0;34m)\u001b[0m\u001b[0;34m,\u001b[0m \u001b[0;36m1\u001b[0m\u001b[0;34m)\u001b[0m \u001b[0;34m==\u001b[0m \u001b[0;36m0\u001b[0m\u001b[0;34m:\u001b[0m\u001b[0;34m\u001b[0m\u001b[0;34m\u001b[0m\u001b[0m\n\u001b[0;32m-> 4189\u001b[0;31m             \u001b[0;32mraise\u001b[0m \u001b[0mTypeError\u001b[0m\u001b[0;34m(\u001b[0m\u001b[0;34m\"no conversion of this rational to integer\"\u001b[0m\u001b[0;34m)\u001b[0m\u001b[0;34m\u001b[0m\u001b[0;34m\u001b[0m\u001b[0m\n\u001b[0m\u001b[1;32m   4190\u001b[0m         \u001b[0mcdef\u001b[0m \u001b[0mInteger\u001b[0m \u001b[0mn\u001b[0m \u001b[0;34m=\u001b[0m \u001b[0mInteger\u001b[0m\u001b[0;34m.\u001b[0m\u001b[0m__new__\u001b[0m\u001b[0;34m(\u001b[0m\u001b[0mInteger\u001b[0m\u001b[0;34m)\u001b[0m\u001b[0;34m\u001b[0m\u001b[0;34m\u001b[0m\u001b[0m\n\u001b[1;32m   4191\u001b[0m         \u001b[0mn\u001b[0m\u001b[0;34m.\u001b[0m\u001b[0mset_from_mpz\u001b[0m\u001b[0;34m(\u001b[0m\u001b[0mmpq_numref\u001b[0m\u001b[0;34m(\u001b[0m\u001b[0;34m(\u001b[0m\u001b[0;34m<\u001b[0m\u001b[0mRational\u001b[0m\u001b[0;34m>\u001b[0m\u001b[0mx\u001b[0m\u001b[0;34m)\u001b[0m\u001b[0;34m.\u001b[0m\u001b[0mvalue\u001b[0m\u001b[0;34m)\u001b[0m\u001b[0;34m)\u001b[0m\u001b[0;34m\u001b[0m\u001b[0;34m\u001b[0m\u001b[0m\n",
      "\u001b[0;31mTypeError\u001b[0m: no conversion of this rational to integer"
     ]
    }
   ],
   "source": [
    "A = matrix([[1, 1, 2, 2, 3, 3],[3, 0, 0, 4, 0, 5],[4, 0, 6, 0, 7, 1],[-4, 1, 1, 1, 0, 0],[-3, 2, -1, 0, 1, 0], [-12, 7, 3, 0, 0, 1]])\n",
    "show(A)\n",
    "A.rank()"
   ]
  },
  {
   "cell_type": "code",
   "execution_count": 3,
   "metadata": {},
   "outputs": [
    {
     "data": {
      "text/html": [
       "<html><script type=\"math/tex; mode=display\">\\newcommand{\\Bold}[1]{\\mathbf{#1}}\\left(\\begin{array}{rrrrrr}\n",
       "1 & 1 & 1 & 1 & 0 & 0 \\\\\n",
       "1 & 1 & 0 & 0 & 1 & 1 \\\\\n",
       "1 & 0 & 1 & 0 & 7 & 0 \\\\\n",
       "1 & 1 & 2 & 2 & 3 & 3 \\\\\n",
       "3 & 0 & 0 & 4 & 0 & 5 \\\\\n",
       "4 & 0 & 6 & 0 & 7 & 0\n",
       "\\end{array}\\right)</script></html>"
      ],
      "text/latex": [
       "\\begin{math}\n",
       "\\newcommand{\\Bold}[1]{\\mathbf{#1}}\\left(\\begin{array}{rrrrrr}\n",
       "1 & 1 & 1 & 1 & 0 & 0 \\\\\n",
       "1 & 1 & 0 & 0 & 1 & 1 \\\\\n",
       "1 & 0 & 1 & 0 & 7 & 0 \\\\\n",
       "1 & 1 & 2 & 2 & 3 & 3 \\\\\n",
       "3 & 0 & 0 & 4 & 0 & 5 \\\\\n",
       "4 & 0 & 6 & 0 & 7 & 0\n",
       "\\end{array}\\right)\n",
       "\\end{math}"
      ],
      "text/plain": [
       "[1 1 1 1 0 0]\n",
       "[1 1 0 0 1 1]\n",
       "[1 0 1 0 7 0]\n",
       "[1 1 2 2 3 3]\n",
       "[3 0 0 4 0 5]\n",
       "[4 0 6 0 7 0]"
      ]
     },
     "metadata": {},
     "output_type": "display_data"
    },
    {
     "data": {
      "text/plain": [
       "6"
      ]
     },
     "execution_count": 3,
     "metadata": {},
     "output_type": "execute_result"
    }
   ],
   "source": [
    "A = matrix([[1, 1, 1, 1, 0, 0],[1, 1, 0, 0, 1, 1], [1, 0, 1, 0, 7, 0],[1, 1, 2, 2, 3, 3],[3, 0, 0, 4, 0, 5],[4, 0, 6, 0, 7, 0]])\n",
    "show(A)\n",
    "A.rank()"
   ]
  },
  {
   "cell_type": "markdown",
   "metadata": {},
   "source": [
    "**Para obtener una solución de un sistema lineal** $Ax=b$ , primero debemos haber guardado los datos de la matriz $A$ en formato matriz y los datos del vector de términos independientes $b$ en formato vector. Aplicamos a A el método `.solve_right` con argumento adicional `b `. Es importante tener en cuenta que dicho método tan solo proporciona una solución, caso de que exista, aun cuando haya infinitas posibilidades."
   ]
  },
  {
   "cell_type": "code",
   "execution_count": null,
   "metadata": {},
   "outputs": [],
   "source": []
  },
  {
   "cell_type": "code",
   "execution_count": 21,
   "metadata": {},
   "outputs": [
    {
     "data": {
      "text/plain": [
       "(2, 1, -1)"
      ]
     },
     "execution_count": 21,
     "metadata": {},
     "output_type": "execute_result"
    }
   ],
   "source": [
    "A.solve_right(b)"
   ]
  },
  {
   "cell_type": "markdown",
   "metadata": {},
   "source": [
    "<p>Comprobamos que $A$ es no singular hallando su determinante (en este caso, la solución es única):</p>"
   ]
  },
  {
   "cell_type": "code",
   "execution_count": 22,
   "metadata": {},
   "outputs": [
    {
     "data": {
      "text/plain": [
       "299/3"
      ]
     },
     "execution_count": 22,
     "metadata": {},
     "output_type": "execute_result"
    }
   ],
   "source": [
    "A.det()  # el determinante no se anula (A es no singular)"
   ]
  },
  {
   "cell_type": "markdown",
   "metadata": {},
   "source": [
    "Así obtenemos la **traspuesta** $A^t$ de la matriz $A$:"
   ]
  },
  {
   "cell_type": "code",
   "execution_count": 23,
   "metadata": {},
   "outputs": [
    {
     "data": {
      "text/plain": [
       "[  2  -1 1/2]\n",
       "[  1   6   1]\n",
       "[1/3   2   8]"
      ]
     },
     "execution_count": 23,
     "metadata": {},
     "output_type": "execute_result"
    }
   ],
   "source": [
    "A.transpose()"
   ]
  },
  {
   "cell_type": "markdown",
   "metadata": {},
   "source": [
    " y **la inversa** $A^{-1}$ de $A$:"
   ]
  },
  {
   "cell_type": "code",
   "execution_count": 24,
   "metadata": {},
   "outputs": [
    {
     "data": {
      "text/plain": [
       "[   6/13   -1/13       0]\n",
       "[ 27/299  95/598   -1/23]\n",
       "[-12/299  -9/598    3/23]"
      ]
     },
     "execution_count": 24,
     "metadata": {},
     "output_type": "execute_result"
    }
   ],
   "source": [
    "A.inverse()"
   ]
  },
  {
   "cell_type": "markdown",
   "metadata": {},
   "source": [
    "<p>Los vectores actúan indistintamente como filas o columnas, sin necesidad de introducir órdenes para trasponerlos:</p>"
   ]
  },
  {
   "cell_type": "code",
   "execution_count": 25,
   "metadata": {},
   "outputs": [
    {
     "data": {
      "text/plain": [
       "(13/3, 32/3, -382/9)"
      ]
     },
     "execution_count": 25,
     "metadata": {},
     "output_type": "execute_result"
    }
   ],
   "source": [
    "b*A"
   ]
  },
  {
   "cell_type": "code",
   "execution_count": 17,
   "metadata": {},
   "outputs": [
    {
     "data": {
      "text/plain": [
       "(28/3, -14/3, -131/3)"
      ]
     },
     "execution_count": 17,
     "metadata": {},
     "output_type": "execute_result"
    }
   ],
   "source": [
    "A*b"
   ]
  },
  {
   "cell_type": "markdown",
   "metadata": {},
   "source": [
    "<p>Calculamos $A^{-1}b$</p>"
   ]
  },
  {
   "cell_type": "code",
   "execution_count": 26,
   "metadata": {},
   "outputs": [
    {
     "data": {
      "text/plain": [
       "(2, 1, -1)"
      ]
     },
     "execution_count": 26,
     "metadata": {},
     "output_type": "execute_result"
    }
   ],
   "source": [
    "A.inverse()*b"
   ]
  },
  {
   "cell_type": "markdown",
   "metadata": {},
   "source": [
    "<p>Podemos convertir un vector en una matriz fila (fila = \"row\" en inglés):</p>"
   ]
  },
  {
   "cell_type": "code",
   "execution_count": 27,
   "metadata": {},
   "outputs": [
    {
     "data": {
      "text/html": [
       "<html><script type=\"math/tex; mode=display\">\\newcommand{\\Bold}[1]{\\mathbf{#1}}\\left(\\frac{14}{3},\\,2,\\,-6\\right)</script></html>"
      ],
      "text/latex": [
       "\\begin{math}\n",
       "\\newcommand{\\Bold}[1]{\\mathbf{#1}}\\left(\\frac{14}{3},\\,2,\\,-6\\right)\n",
       "\\end{math}"
      ],
      "text/plain": [
       "(14/3, 2, -6)"
      ]
     },
     "metadata": {},
     "output_type": "display_data"
    },
    {
     "data": {
      "text/html": [
       "<html><script type=\"math/tex; mode=display\">\\newcommand{\\Bold}[1]{\\mathbf{#1}}\\left(\\begin{array}{rrr}\n",
       "\\frac{14}{3} & 2 & -6\n",
       "\\end{array}\\right)</script></html>"
      ],
      "text/latex": [
       "\\begin{math}\n",
       "\\newcommand{\\Bold}[1]{\\mathbf{#1}}\\left(\\begin{array}{rrr}\n",
       "\\frac{14}{3} & 2 & -6\n",
       "\\end{array}\\right)\n",
       "\\end{math}"
      ],
      "text/plain": [
       "[14/3    2   -6]"
      ]
     },
     "metadata": {},
     "output_type": "display_data"
    }
   ],
   "source": [
    "show(b)\n",
    "mb = b.row()\n",
    "show(mb)"
   ]
  },
  {
   "cell_type": "markdown",
   "metadata": {},
   "source": [
    "<p>O en una matriz columna:</p>"
   ]
  },
  {
   "cell_type": "code",
   "execution_count": 28,
   "metadata": {},
   "outputs": [
    {
     "data": {
      "text/plain": [
       "[14/3]\n",
       "[   2]\n",
       "[  -6]"
      ]
     },
     "execution_count": 28,
     "metadata": {},
     "output_type": "execute_result"
    }
   ],
   "source": [
    "b.column()"
   ]
  },
  {
   "cell_type": "code",
   "execution_count": 29,
   "metadata": {},
   "outputs": [
    {
     "data": {
      "text/html": [
       "<html><script type=\"math/tex; mode=display\">\\newcommand{\\Bold}[1]{\\mathbf{#1}}\\left(\\frac{14}{3},\\,2,\\,-6\\right)</script></html>"
      ],
      "text/latex": [
       "\\begin{math}\n",
       "\\newcommand{\\Bold}[1]{\\mathbf{#1}}\\left(\\frac{14}{3},\\,2,\\,-6\\right)\n",
       "\\end{math}"
      ],
      "text/plain": [
       "(14/3, 2, -6)"
      ]
     },
     "metadata": {},
     "output_type": "display_data"
    },
    {
     "data": {
      "text/html": [
       "<html><script type=\"math/tex; mode=display\">\\newcommand{\\Bold}[1]{\\mathbf{#1}}\\left(\\begin{array}{r}\n",
       "\\frac{14}{3} \\\\\n",
       "2 \\\\\n",
       "-6\n",
       "\\end{array}\\right)</script></html>"
      ],
      "text/latex": [
       "\\begin{math}\n",
       "\\newcommand{\\Bold}[1]{\\mathbf{#1}}\\left(\\begin{array}{r}\n",
       "\\frac{14}{3} \\\\\n",
       "2 \\\\\n",
       "-6\n",
       "\\end{array}\\right)\n",
       "\\end{math}"
      ],
      "text/plain": [
       "[14/3]\n",
       "[   2]\n",
       "[  -6]"
      ]
     },
     "metadata": {},
     "output_type": "display_data"
    }
   ],
   "source": [
    "show(b)\n",
    "mbt = b.column()\n",
    "show(mbt)"
   ]
  },
  {
   "cell_type": "markdown",
   "metadata": {},
   "source": [
    "**Algunos datos básicos de una matriz y extracción de vectores filas o columnas.**\n",
    "<p>Obsérvese que en SageMath se enumeran los elementos empezando por 0:</p>"
   ]
  },
  {
   "cell_type": "code",
   "execution_count": 30,
   "metadata": {},
   "outputs": [
    {
     "name": "stdout",
     "output_type": "stream",
     "text": [
      "rango: 3\n",
      "nº columnas: 3\n",
      "nº filas: 3\n",
      "3ª fila: (1/2, 1, 8)\n",
      "1ª columna: (2, -1, 1/2)\n"
     ]
    }
   ],
   "source": [
    "print(\"rango:\", A.rank())\n",
    "print(\"nº columnas:\", A.ncols())\n",
    "print(\"nº filas:\", A.nrows())\n",
    "print(\"3ª fila:\", A.row(2))          ### en Sage se empieza a contar por 0\n",
    "print(\"1ª columna:\", A.column(0))"
   ]
  },
  {
   "cell_type": "markdown",
   "metadata": {},
   "source": [
    "Extracción de una **submatriz**:"
   ]
  },
  {
   "cell_type": "code",
   "execution_count": 31,
   "metadata": {},
   "outputs": [
    {
     "data": {
      "text/html": [
       "<html><script type=\"math/tex; mode=display\">\\newcommand{\\Bold}[1]{\\mathbf{#1}}\\left(\\begin{array}{rrr}\n",
       "1 & -1 & 4 \\\\\n",
       "-1 & 0 & 3 \\\\\n",
       "5 & -2 & 4\n",
       "\\end{array}\\right)</script></html>"
      ],
      "text/latex": [
       "\\begin{math}\n",
       "\\newcommand{\\Bold}[1]{\\mathbf{#1}}\\left(\\begin{array}{rrr}\n",
       "1 & -1 & 4 \\\\\n",
       "-1 & 0 & 3 \\\\\n",
       "5 & -2 & 4\n",
       "\\end{array}\\right)\n",
       "\\end{math}"
      ],
      "text/plain": [
       "[ 1 -1  4]\n",
       "[-1  0  3]\n",
       "[ 5 -2  4]"
      ]
     },
     "metadata": {},
     "output_type": "display_data"
    }
   ],
   "source": [
    "B = matrix([[1, -1, 4],[-1, 0, 3],[5, -2, 4]])\n",
    "show(B)\n"
   ]
  },
  {
   "cell_type": "code",
   "execution_count": 32,
   "metadata": {},
   "outputs": [
    {
     "data": {
      "text/html": [
       "<html><script type=\"math/tex; mode=display\">\\newcommand{\\Bold}[1]{\\mathbf{#1}}\\left(\\begin{array}{rr}\n",
       "-1 & 0 \\\\\n",
       "5 & -2\n",
       "\\end{array}\\right)</script></html>"
      ],
      "text/latex": [
       "\\begin{math}\n",
       "\\newcommand{\\Bold}[1]{\\mathbf{#1}}\\left(\\begin{array}{rr}\n",
       "-1 & 0 \\\\\n",
       "5 & -2\n",
       "\\end{array}\\right)\n",
       "\\end{math}"
      ],
      "text/plain": [
       "[-1  0]\n",
       "[ 5 -2]"
      ]
     },
     "metadata": {},
     "output_type": "display_data"
    }
   ],
   "source": [
    "B2 = B.matrix_from_rows_and_columns([1,2],[0,1])  # filas 1 y 2, columnas 0 y 1\n",
    "show(B2)"
   ]
  },
  {
   "cell_type": "markdown",
   "metadata": {},
   "source": [
    "**Agrupar** dos matrices por filas:"
   ]
  },
  {
   "cell_type": "code",
   "execution_count": 33,
   "metadata": {},
   "outputs": [
    {
     "data": {
      "text/plain": [
       "[  2   1 1/3   1  -1   4]\n",
       "[ -1   6   2  -1   0   3]\n",
       "[1/2   1   8   5  -2   4]"
      ]
     },
     "execution_count": 33,
     "metadata": {},
     "output_type": "execute_result"
    }
   ],
   "source": [
    "A.augment(B)"
   ]
  },
  {
   "cell_type": "markdown",
   "metadata": {},
   "source": [
    "Se puede hacer también guardando una \"separación\" entre los dos bloques $A$ y $B$:"
   ]
  },
  {
   "cell_type": "code",
   "execution_count": 34,
   "metadata": {
    "scrolled": true
   },
   "outputs": [
    {
     "data": {
      "text/plain": [
       "[  2   1 1/3|  1  -1   4]\n",
       "[ -1   6   2| -1   0   3]\n",
       "[1/2   1   8|  5  -2   4]"
      ]
     },
     "execution_count": 34,
     "metadata": {},
     "output_type": "execute_result"
    }
   ],
   "source": [
    "block_matrix([[A, B]])"
   ]
  },
  {
   "cell_type": "code",
   "execution_count": 27,
   "metadata": {},
   "outputs": [
    {
     "data": {
      "text/html": [
       "<html><script type=\"math/tex; mode=display\">\\newcommand{\\Bold}[1]{\\mathbf{#1}}\\left(\\begin{array}{rrr|rrr}\n",
       "2 & 1 & \\frac{1}{3} & 1 & -1 & 4 \\\\\n",
       "-1 & 6 & 2 & -1 & 0 & 3 \\\\\n",
       "\\frac{1}{2} & 1 & 8 & 5 & -2 & 4\n",
       "\\end{array}\\right)</script></html>"
      ],
      "text/plain": [
       "[  2   1 1/3|  1  -1   4]\n",
       "[ -1   6   2| -1   0   3]\n",
       "[1/2   1   8|  5  -2   4]"
      ]
     },
     "execution_count": 27,
     "metadata": {},
     "output_type": "execute_result"
    }
   ],
   "source": [
    "show(block_matrix([[A, B]]))"
   ]
  },
  {
   "cell_type": "markdown",
   "metadata": {},
   "source": [
    "<p>Agrupar dos matrices por columnas:</p>"
   ]
  },
  {
   "cell_type": "code",
   "execution_count": 35,
   "metadata": {},
   "outputs": [
    {
     "data": {
      "text/plain": [
       "[  2   1 1/3]\n",
       "[ -1   6   2]\n",
       "[1/2   1   8]\n",
       "[  1  -1   4]\n",
       "[ -1   0   3]\n",
       "[  5  -2   4]"
      ]
     },
     "execution_count": 35,
     "metadata": {},
     "output_type": "execute_result"
    }
   ],
   "source": [
    "A.stack(B)"
   ]
  },
  {
   "cell_type": "markdown",
   "metadata": {},
   "source": [
    "También:"
   ]
  },
  {
   "cell_type": "code",
   "execution_count": 36,
   "metadata": {},
   "outputs": [
    {
     "data": {
      "text/html": [
       "<html><script type=\"math/tex; mode=display\">\\newcommand{\\Bold}[1]{\\mathbf{#1}}\\left(\\begin{array}{rrr}\n",
       "2 & 1 & \\frac{1}{3} \\\\\n",
       "-1 & 6 & 2 \\\\\n",
       "\\frac{1}{2} & 1 & 8 \\\\\n",
       "\\hline\n",
       " 1 & -1 & 4 \\\\\n",
       "-1 & 0 & 3 \\\\\n",
       "5 & -2 & 4\n",
       "\\end{array}\\right)</script></html>"
      ],
      "text/latex": [
       "\\begin{math}\n",
       "\\newcommand{\\Bold}[1]{\\mathbf{#1}}\\left(\\begin{array}{rrr}\n",
       "2 & 1 & \\frac{1}{3} \\\\\n",
       "-1 & 6 & 2 \\\\\n",
       "\\frac{1}{2} & 1 & 8 \\\\\n",
       "\\hline\n",
       " 1 & -1 & 4 \\\\\n",
       "-1 & 0 & 3 \\\\\n",
       "5 & -2 & 4\n",
       "\\end{array}\\right)\n",
       "\\end{math}"
      ],
      "text/plain": [
       "[  2   1 1/3]\n",
       "[ -1   6   2]\n",
       "[1/2   1   8]\n",
       "[-----------]\n",
       "[  1  -1   4]\n",
       "[ -1   0   3]\n",
       "[  5  -2   4]"
      ]
     },
     "metadata": {},
     "output_type": "display_data"
    }
   ],
   "source": [
    "show(block_matrix([[A],[B]]))"
   ]
  },
  {
   "cell_type": "markdown",
   "metadata": {},
   "source": [
    "La **matriz identidad** de orden 3:"
   ]
  },
  {
   "cell_type": "code",
   "execution_count": 37,
   "metadata": {},
   "outputs": [
    {
     "data": {
      "text/plain": [
       "[1 0 0]\n",
       "[0 1 0]\n",
       "[0 0 1]"
      ]
     },
     "execution_count": 37,
     "metadata": {},
     "output_type": "execute_result"
    }
   ],
   "source": [
    "identity_matrix(3)"
   ]
  },
  {
   "cell_type": "markdown",
   "metadata": {},
   "source": [
    "Una **matriz diagonal**:"
   ]
  },
  {
   "cell_type": "code",
   "execution_count": 38,
   "metadata": {},
   "outputs": [
    {
     "data": {
      "text/plain": [
       "[ 2  0  0]\n",
       "[ 0 -3  0]\n",
       "[ 0  0  4]"
      ]
     },
     "execution_count": 38,
     "metadata": {},
     "output_type": "execute_result"
    }
   ],
   "source": [
    "diagonal_matrix(3, [2, -3, 4])"
   ]
  },
  {
   "cell_type": "markdown",
   "metadata": {},
   "source": [
    "**Matriz nula** de orden $3 \\times 2$:"
   ]
  },
  {
   "cell_type": "code",
   "execution_count": 39,
   "metadata": {},
   "outputs": [
    {
     "data": {
      "text/plain": [
       "[0 0]\n",
       "[0 0]\n",
       "[0 0]"
      ]
     },
     "execution_count": 39,
     "metadata": {},
     "output_type": "execute_result"
    }
   ],
   "source": [
    "matrix(3, 2, 0)"
   ]
  },
  {
   "cell_type": "code",
   "execution_count": 0,
   "metadata": {},
   "outputs": [],
   "source": []
  },
  {
   "cell_type": "markdown",
   "metadata": {},
   "source": [
    "<h2 style=\"font-size: 1.5em;\"><a name=\"eliminacion\"></a>Eliminación gaussiana y algoritmo de Gauss-Jordan</h2>\n",
    "<p>Hemos visto en clase los siguientes teoremas:</p>\n",
    "<p><strong>Teorema 1</strong>.(algoritmo de eliminación gaussiana)  Para cualquier matriz $A$ de orden $m \\times\n",
    "n$ existe otra matriz cuadrada $F$ de orden $m$ tal que $F\\cdot A=U$, siendo $U$ una matriz escalonada.</p>\n",
    "<p><strong>Teorema 2</strong>. (algoritmo de Gauss-Jordan) En el resultado anterior, podemos conseguir, además, que $U$ sea una matriz escalonada reducida.</p>\n",
    "<p> </p>\n",
    "<p>Como bien sabemos, los algoritmos correspondientes que resuelven ambos problemas se basan en la aplicación de transformaciones elementales fila sobre la matriz ampliada del sistema.</p>\n",
    "<p> </p>\n",
    "<p>SageMath incorpora algunas instrucciones relacionadas con las transformaciones elementales entre filas de una matriz y con el proceso de escalonamiento para obtener una matriz escalonada canónica.</p>"
   ]
  },
  {
   "cell_type": "code",
   "execution_count": 40,
   "metadata": {},
   "outputs": [
    {
     "data": {
      "text/plain": [
       "[  2   1 1/3]\n",
       "[ -1   6   2]\n",
       "[1/2   1   8]"
      ]
     },
     "execution_count": 40,
     "metadata": {},
     "output_type": "execute_result"
    }
   ],
   "source": [
    "A = matrix([[2, 1, 1/3], [-1, 6, 2], [1/2, 1, 8]])\n",
    "A"
   ]
  },
  {
   "cell_type": "markdown",
   "metadata": {},
   "source": [
    "<p>Hacemos una copia de la matriz $A$ y aplicamos un intercambio de filas:</p>"
   ]
  },
  {
   "cell_type": "code",
   "execution_count": 41,
   "metadata": {},
   "outputs": [
    {
     "data": {
      "text/html": [
       "<html><script type=\"math/tex; mode=display\">\\newcommand{\\Bold}[1]{\\mathbf{#1}}\\left(\\begin{array}{rrr}\n",
       "2 & 1 & \\frac{1}{3} \\\\\n",
       "-1 & 6 & 2 \\\\\n",
       "\\frac{1}{2} & 1 & 8\n",
       "\\end{array}\\right)</script></html>"
      ],
      "text/latex": [
       "\\begin{math}\n",
       "\\newcommand{\\Bold}[1]{\\mathbf{#1}}\\left(\\begin{array}{rrr}\n",
       "2 & 1 & \\frac{1}{3} \\\\\n",
       "-1 & 6 & 2 \\\\\n",
       "\\frac{1}{2} & 1 & 8\n",
       "\\end{array}\\right)\n",
       "\\end{math}"
      ],
      "text/plain": [
       "[  2   1 1/3]\n",
       "[ -1   6   2]\n",
       "[1/2   1   8]"
      ]
     },
     "metadata": {},
     "output_type": "display_data"
    },
    {
     "data": {
      "text/html": [
       "<html><script type=\"math/tex; mode=display\">\\newcommand{\\Bold}[1]{\\mathbf{#1}}\\left(\\begin{array}{rrr}\n",
       "2 & 1 & \\frac{1}{3} \\\\\n",
       "\\frac{1}{2} & 1 & 8 \\\\\n",
       "-1 & 6 & 2\n",
       "\\end{array}\\right)</script></html>"
      ],
      "text/latex": [
       "\\begin{math}\n",
       "\\newcommand{\\Bold}[1]{\\mathbf{#1}}\\left(\\begin{array}{rrr}\n",
       "2 & 1 & \\frac{1}{3} \\\\\n",
       "\\frac{1}{2} & 1 & 8 \\\\\n",
       "-1 & 6 & 2\n",
       "\\end{array}\\right)\n",
       "\\end{math}"
      ],
      "text/plain": [
       "[  2   1 1/3]\n",
       "[1/2   1   8]\n",
       "[ -1   6   2]"
      ]
     },
     "metadata": {},
     "output_type": "display_data"
    }
   ],
   "source": [
    "B = copy(A);\n",
    "B.swap_rows(1, 2);  #  F2 <-> F3 (empezando a contar desde 0, convención matemática)\n",
    "show(A)\n",
    "show(B)"
   ]
  },
  {
   "cell_type": "markdown",
   "metadata": {},
   "source": [
    "<p>Hacemos una copia de la matriz $A$ y multiplicamos una fila por un escalar:</p>"
   ]
  },
  {
   "cell_type": "code",
   "execution_count": 42,
   "metadata": {},
   "outputs": [
    {
     "data": {
      "text/html": [
       "<html><script type=\"math/tex; mode=display\">\\newcommand{\\Bold}[1]{\\mathbf{#1}}\\left(\\begin{array}{rrr}\n",
       "2 & 1 & \\frac{1}{3} \\\\\n",
       "-1 & 6 & 2 \\\\\n",
       "\\frac{1}{2} & 1 & 8\n",
       "\\end{array}\\right)</script></html>"
      ],
      "text/latex": [
       "\\begin{math}\n",
       "\\newcommand{\\Bold}[1]{\\mathbf{#1}}\\left(\\begin{array}{rrr}\n",
       "2 & 1 & \\frac{1}{3} \\\\\n",
       "-1 & 6 & 2 \\\\\n",
       "\\frac{1}{2} & 1 & 8\n",
       "\\end{array}\\right)\n",
       "\\end{math}"
      ],
      "text/plain": [
       "[  2   1 1/3]\n",
       "[ -1   6   2]\n",
       "[1/2   1   8]"
      ]
     },
     "metadata": {},
     "output_type": "display_data"
    },
    {
     "data": {
      "text/html": [
       "<html><script type=\"math/tex; mode=display\">\\newcommand{\\Bold}[1]{\\mathbf{#1}}\\left(\\begin{array}{rrr}\n",
       "2 & 1 & \\frac{1}{3} \\\\\n",
       "2 & -12 & -4 \\\\\n",
       "\\frac{1}{2} & 1 & 8\n",
       "\\end{array}\\right)</script></html>"
      ],
      "text/latex": [
       "\\begin{math}\n",
       "\\newcommand{\\Bold}[1]{\\mathbf{#1}}\\left(\\begin{array}{rrr}\n",
       "2 & 1 & \\frac{1}{3} \\\\\n",
       "2 & -12 & -4 \\\\\n",
       "\\frac{1}{2} & 1 & 8\n",
       "\\end{array}\\right)\n",
       "\\end{math}"
      ],
      "text/plain": [
       "[  2   1 1/3]\n",
       "[  2 -12  -4]\n",
       "[1/2   1   8]"
      ]
     },
     "metadata": {},
     "output_type": "display_data"
    }
   ],
   "source": [
    "B = copy(A)\n",
    "B.rescale_row(1, -2) # F2 <- -2 F2\n",
    "show(A)\n",
    "show(B)"
   ]
  },
  {
   "cell_type": "markdown",
   "metadata": {},
   "source": [
    "<p>Hacemos una copia de la matriz $A$ y a una fila le sumamos un múltiplo de otra fila:</p>"
   ]
  },
  {
   "cell_type": "code",
   "execution_count": 43,
   "metadata": {},
   "outputs": [
    {
     "data": {
      "text/html": [
       "<html><script type=\"math/tex; mode=display\">\\newcommand{\\Bold}[1]{\\mathbf{#1}}\\left(\\begin{array}{rrr}\n",
       "2 & 1 & \\frac{1}{3} \\\\\n",
       "-1 & 6 & 2 \\\\\n",
       "\\frac{1}{2} & 1 & 8\n",
       "\\end{array}\\right)</script></html>"
      ],
      "text/latex": [
       "\\begin{math}\n",
       "\\newcommand{\\Bold}[1]{\\mathbf{#1}}\\left(\\begin{array}{rrr}\n",
       "2 & 1 & \\frac{1}{3} \\\\\n",
       "-1 & 6 & 2 \\\\\n",
       "\\frac{1}{2} & 1 & 8\n",
       "\\end{array}\\right)\n",
       "\\end{math}"
      ],
      "text/plain": [
       "[  2   1 1/3]\n",
       "[ -1   6   2]\n",
       "[1/2   1   8]"
      ]
     },
     "metadata": {},
     "output_type": "display_data"
    },
    {
     "data": {
      "text/html": [
       "<html><script type=\"math/tex; mode=display\">\\newcommand{\\Bold}[1]{\\mathbf{#1}}\\left(\\begin{array}{rrr}\n",
       "2 & 1 & \\frac{1}{3} \\\\\n",
       "-1 & 6 & 2 \\\\\n",
       "\\frac{3}{2} & -5 & 6\n",
       "\\end{array}\\right)</script></html>"
      ],
      "text/latex": [
       "\\begin{math}\n",
       "\\newcommand{\\Bold}[1]{\\mathbf{#1}}\\left(\\begin{array}{rrr}\n",
       "2 & 1 & \\frac{1}{3} \\\\\n",
       "-1 & 6 & 2 \\\\\n",
       "\\frac{3}{2} & -5 & 6\n",
       "\\end{array}\\right)\n",
       "\\end{math}"
      ],
      "text/plain": [
       "[  2   1 1/3]\n",
       "[ -1   6   2]\n",
       "[3/2  -5   6]"
      ]
     },
     "metadata": {},
     "output_type": "display_data"
    }
   ],
   "source": [
    "B = copy(A)\n",
    "B.add_multiple_of_row(2, 1, -1) # F3 <- F3 - F2\n",
    "show(A)\n",
    "show(B)"
   ]
  },
  {
   "cell_type": "markdown",
   "metadata": {},
   "source": [
    "<p>Dado el sistema lineal $Ax=b$, construimos la matriz ampliada $M$ del sistema:</p>"
   ]
  },
  {
   "cell_type": "code",
   "execution_count": 44,
   "metadata": {},
   "outputs": [
    {
     "data": {
      "text/html": [
       "<html><script type=\"math/tex; mode=display\">\\newcommand{\\Bold}[1]{\\mathbf{#1}}\\left(\\begin{array}{rrrr}\n",
       "2 & 1 & \\frac{1}{3} & \\frac{14}{3} \\\\\n",
       "-1 & 6 & 2 & 2 \\\\\n",
       "\\frac{1}{2} & 1 & 8 & -6\n",
       "\\end{array}\\right)</script></html>"
      ],
      "text/latex": [
       "\\begin{math}\n",
       "\\newcommand{\\Bold}[1]{\\mathbf{#1}}\\left(\\begin{array}{rrrr}\n",
       "2 & 1 & \\frac{1}{3} & \\frac{14}{3} \\\\\n",
       "-1 & 6 & 2 & 2 \\\\\n",
       "\\frac{1}{2} & 1 & 8 & -6\n",
       "\\end{array}\\right)\n",
       "\\end{math}"
      ],
      "text/plain": [
       "[   2    1  1/3 14/3]\n",
       "[  -1    6    2    2]\n",
       "[ 1/2    1    8   -6]"
      ]
     },
     "metadata": {},
     "output_type": "display_data"
    }
   ],
   "source": [
    "b = vector([14/3, 2, -6])\n",
    "\n",
    "M = A.augment(b.column())\n",
    "show(M)"
   ]
  },
  {
   "cell_type": "markdown",
   "metadata": {},
   "source": [
    "<p>Resolución del sistema mediante eliminación gaussiana aplicada a la matriz ampliada, obteniendo la <strong>forma escalonada canónica (o \"reducida\")</strong>:</p>"
   ]
  },
  {
   "cell_type": "code",
   "execution_count": 45,
   "metadata": {},
   "outputs": [
    {
     "data": {
      "text/html": [
       "<html><script type=\"math/tex; mode=display\">\\newcommand{\\Bold}[1]{\\mathbf{#1}}\\left(\\begin{array}{rrrr}\n",
       "1 & 0 & 0 & 2 \\\\\n",
       "0 & 1 & 0 & 1 \\\\\n",
       "0 & 0 & 1 & -1\n",
       "\\end{array}\\right)</script></html>"
      ],
      "text/latex": [
       "\\begin{math}\n",
       "\\newcommand{\\Bold}[1]{\\mathbf{#1}}\\left(\\begin{array}{rrrr}\n",
       "1 & 0 & 0 & 2 \\\\\n",
       "0 & 1 & 0 & 1 \\\\\n",
       "0 & 0 & 1 & -1\n",
       "\\end{array}\\right)\n",
       "\\end{math}"
      ],
      "text/plain": [
       "[ 1  0  0  2]\n",
       "[ 0  1  0  1]\n",
       "[ 0  0  1 -1]"
      ]
     },
     "metadata": {},
     "output_type": "display_data"
    }
   ],
   "source": [
    "show(M.echelon_form())"
   ]
  },
  {
   "cell_type": "markdown",
   "metadata": {},
   "source": [
    "<h3>Transformaciones elementales <em>(ad hoc)</em></h3>\n",
    "<p>Para hacer más sencilla la sintaxis de las instrucciones para aplicar transformaciones elementales por filas o culumnas sobre una matriz, hemos creado nuevas funciones. En esta versión, las filas y columnas se enumeran comenzando por 1, lo que corresponde a las convenciones en matemáticas.</p>\n",
    "<p>Las siguientes funciones, aplicadas sobre una matriz, producen transformaciones elementales:</p>\n",
    "<p><span style=\"color: #0000ff;\">Fij(A,i,j)</span>   equivale a la transformación elemental fila $F_{i,j}$ aplicada sobre la matriz $A$</p>\n",
    "<p><span style=\"color: #0000ff;\">Fia(A,i,a)</span>   equivale a la transformación elemental fila $F_{i}(a)$ aplicada sobre la matriz $A$</p>\n",
    "<p><span style=\"color: #0000ff;\">Fija(A,i,j,a)</span>   equivale a la transformación elemental fila $F_{i,j}(a)$ aplicada sobre la matriz $A$</p>\n",
    "<p>Existe la versión equivalente para transformaciones elementales por columnas cambiando la F inicial por C:</p>\n",
    "<p><span style=\"color: #0000ff;\">Cij(A,i,j)</span>,   <span style=\"color: #0000ff;\">Cia(A,i,a)</span>,   <span style=\"color: #0000ff;\">Cija(A,i,j,a)</span></p>"
   ]
  },
  {
   "cell_type": "code",
   "execution_count": 46,
   "metadata": {},
   "outputs": [],
   "source": [
    "\n",
    "def Fij(M, i, j):\n",
    "    M.swap_rows(i - 1, j - 1)\n",
    "    return M\n",
    "\n",
    "def Fia(M, i, a):\n",
    "    M.rescale_row(i - 1, a)\n",
    "    return M\n",
    "\n",
    "def Fija(M, i, j, a):\n",
    "    M.add_multiple_of_row(i - 1, j -1, a)\n",
    "    return M\n",
    "\n",
    "def Cij(M, i, j):\n",
    "    (M.transpose()).swap_rows(i - 1, j - 1)\n",
    "    return M\n",
    "\n",
    "def Cia(M, i, a):\n",
    "    M.rescale_col(i - 1, a)\n",
    "    return M\n",
    "\n",
    "def Cija(M, i, j, a):\n",
    "    M.add_multiple_of_column(i - 1, j - 1, a)\n",
    "    return M"
   ]
  },
  {
   "cell_type": "markdown",
   "metadata": {},
   "source": [
    "<p>A modo de ejemplo, retomamos la matriz ampliada del sistema anterior y la escalonamos paso a paso:</p>"
   ]
  },
  {
   "cell_type": "code",
   "execution_count": 47,
   "metadata": {},
   "outputs": [
    {
     "data": {
      "text/html": [
       "<html><script type=\"math/tex; mode=display\">\\newcommand{\\Bold}[1]{\\mathbf{#1}}\\left(\\begin{array}{rrrr}\n",
       "2 & 1 & \\frac{1}{3} & \\frac{14}{3} \\\\\n",
       "-1 & 6 & 2 & 2 \\\\\n",
       "\\frac{1}{2} & 1 & 8 & -6\n",
       "\\end{array}\\right)</script></html>"
      ],
      "text/latex": [
       "\\begin{math}\n",
       "\\newcommand{\\Bold}[1]{\\mathbf{#1}}\\left(\\begin{array}{rrrr}\n",
       "2 & 1 & \\frac{1}{3} & \\frac{14}{3} \\\\\n",
       "-1 & 6 & 2 & 2 \\\\\n",
       "\\frac{1}{2} & 1 & 8 & -6\n",
       "\\end{array}\\right)\n",
       "\\end{math}"
      ],
      "text/plain": [
       "[   2    1  1/3 14/3]\n",
       "[  -1    6    2    2]\n",
       "[ 1/2    1    8   -6]"
      ]
     },
     "metadata": {},
     "output_type": "display_data"
    }
   ],
   "source": [
    "A = matrix([[2, 1, 1/3], [-1, 6, 2], [1/2, 1, 8]])\n",
    "b = vector([14/3, 2, -6])\n",
    "M = A.augment(b.column())\n",
    "show(M)"
   ]
  },
  {
   "cell_type": "code",
   "execution_count": 48,
   "metadata": {},
   "outputs": [
    {
     "data": {
      "text/plain": [
       "[   2    1  1/3 14/3]\n",
       "[   0 13/2 13/6 13/3]\n",
       "[ 1/2    1    8   -6]"
      ]
     },
     "execution_count": 48,
     "metadata": {},
     "output_type": "execute_result"
    }
   ],
   "source": [
    "Fija(M, 2, 1, 1/2)"
   ]
  },
  {
   "cell_type": "code",
   "execution_count": 49,
   "metadata": {},
   "outputs": [
    {
     "data": {
      "text/plain": [
       "[   2    1  1/3 14/3]\n",
       "[   0  1/2  1/6  1/3]\n",
       "[ 1/2    1    8   -6]"
      ]
     },
     "execution_count": 49,
     "metadata": {},
     "output_type": "execute_result"
    }
   ],
   "source": [
    "Fia(M, 2, 1/13)"
   ]
  },
  {
   "cell_type": "code",
   "execution_count": 50,
   "metadata": {},
   "outputs": [
    {
     "data": {
      "text/plain": [
       "[    2     1   1/3  14/3]\n",
       "[    0   1/2   1/6   1/3]\n",
       "[    0   3/4 95/12 -43/6]"
      ]
     },
     "execution_count": 50,
     "metadata": {},
     "output_type": "execute_result"
    }
   ],
   "source": [
    "Fija(M, 3, 1, -1/4)"
   ]
  },
  {
   "cell_type": "code",
   "execution_count": 51,
   "metadata": {},
   "outputs": [
    {
     "data": {
      "text/plain": [
       "[    2     1   1/3  14/3]\n",
       "[    0   1/2   1/6   1/3]\n",
       "[    0     0  23/3 -23/3]"
      ]
     },
     "execution_count": 51,
     "metadata": {},
     "output_type": "execute_result"
    }
   ],
   "source": [
    "Fija(M, 3, 2, (-3/4)/(1/2))"
   ]
  },
  {
   "cell_type": "code",
   "execution_count": 52,
   "metadata": {},
   "outputs": [
    {
     "data": {
      "text/plain": [
       "[   2    1  1/3 14/3]\n",
       "[   0  1/2  1/6  1/3]\n",
       "[   0    0    1   -1]"
      ]
     },
     "execution_count": 52,
     "metadata": {},
     "output_type": "execute_result"
    }
   ],
   "source": [
    "Fia(M, 3, 3/23)"
   ]
  },
  {
   "cell_type": "code",
   "execution_count": 53,
   "metadata": {},
   "outputs": [
    {
     "data": {
      "text/plain": [
       "[   2    1  1/3 14/3]\n",
       "[   0  1/2    0  1/2]\n",
       "[   0    0    1   -1]"
      ]
     },
     "execution_count": 53,
     "metadata": {},
     "output_type": "execute_result"
    }
   ],
   "source": [
    "Fija(M, 2, 3, -1/6)"
   ]
  },
  {
   "cell_type": "code",
   "execution_count": 54,
   "metadata": {},
   "outputs": [
    {
     "data": {
      "text/plain": [
       "[  2   1   0   5]\n",
       "[  0 1/2   0 1/2]\n",
       "[  0   0   1  -1]"
      ]
     },
     "execution_count": 54,
     "metadata": {},
     "output_type": "execute_result"
    }
   ],
   "source": [
    "Fija(M, 1, 3, -1/3)"
   ]
  },
  {
   "cell_type": "code",
   "execution_count": 55,
   "metadata": {},
   "outputs": [
    {
     "data": {
      "text/plain": [
       "[ 2  1  0  5]\n",
       "[ 0  1  0  1]\n",
       "[ 0  0  1 -1]"
      ]
     },
     "execution_count": 55,
     "metadata": {},
     "output_type": "execute_result"
    }
   ],
   "source": [
    "Fia(M, 2, 2)"
   ]
  },
  {
   "cell_type": "code",
   "execution_count": 56,
   "metadata": {},
   "outputs": [
    {
     "data": {
      "text/plain": [
       "[ 2  0  0  4]\n",
       "[ 0  1  0  1]\n",
       "[ 0  0  1 -1]"
      ]
     },
     "execution_count": 56,
     "metadata": {},
     "output_type": "execute_result"
    }
   ],
   "source": [
    "Fija(M, 1, 2, -1)"
   ]
  },
  {
   "cell_type": "code",
   "execution_count": 57,
   "metadata": {},
   "outputs": [
    {
     "data": {
      "text/plain": [
       "[ 1  0  0  2]\n",
       "[ 0  1  0  1]\n",
       "[ 0  0  1 -1]"
      ]
     },
     "execution_count": 57,
     "metadata": {},
     "output_type": "execute_result"
    }
   ],
   "source": [
    "Fia(M, 1, 1/2)"
   ]
  },
  {
   "cell_type": "markdown",
   "metadata": {},
   "source": [
    "<p>En el mismo sentido, de simpificar la sintaxis y ampliar las posibilidades de la función <span style=\"color: #0000ff;\">echelon_form</span>, hemos creado una nueva función que aplicada sobre una matriz nos proporcione su forma escalonada y, opcionalmente, nos aporte información sobre las transformaciones realizadas durante el procedimiento.</p>\n",
    "<p>La función <span style=\"color: #0000ff;\">forma_escalonada( A)</span> nos permite obtener tanto las matrices $F$ y $U$  de la descomposición $FA=U$ como la secuencia de transformaciones elementales por filas que reproducen el proceso seguido para escalonar la matriz $A$. Admite las siguientes opciones y parámetros:</p>\n",
    "<p style=\"text-align: center;\"><span style=\"color: #0000ff;\">F, U =forma_escalonada(A, canonica?, transformaciones?)</span></p>\n",
    "<p>donde</p>\n",
    "<ul>\n",
    "<li><span style=\"color: #0000ff;\">canonica?</span>  es un parámetro opcional que puede ser <span style=\"color: #0000ff;\">True</span> para obtener la forma escalonada canónica y <span style=\"color: #0000ff;\">False</span> para forma escalonada simple</li>\n",
    "<li><span style=\"color: #0000ff;\">transformaciones?</span> es un parámetro opcional que puede ser <span style=\"color: #0000ff;\">True </span>para que se proporcione la lista de transformaciones elementales filas que se han realizado y <span style=\"color: #0000ff;\">False </span>para que se omitan.</li>\n",
    "</ul>\n",
    "<p>Por defecto, <span style=\"color: #0000ff;\">F, U = forma_escalonada(A)  </span>proporciona la forma escalonada simple, sin mostrar las transformaciones elementales.</p>\n"
   ]
  },
  {
   "cell_type": "code",
   "execution_count": 3,
   "metadata": {},
   "outputs": [],
   "source": [
    "def forma_escalonada(M, canon = False, ver_transfo = False):\n",
    "    \"\"\"forma escalonada de una matriz - Práctica 1 de ALN.\"\"\"\n",
    "    A  = copy(M)\n",
    "    m  = A.nrows() # número de filas\n",
    "    n  = A.ncols() # número de columnas\n",
    "    mindim = min(m, n)\n",
    "    lista_transfos = []                         # Lista que recordará las operaciones realizadas.\n",
    "    F  = copy(identity_matrix(base_ring(A), m)) \n",
    "    s  = -1\n",
    "    for k in range(mindim):\n",
    "        r = k      # r: indice de fila\n",
    "        s = s + 1  # s: indice de columna\n",
    "        # Buscamos pivote  en filas a partir de k ...\n",
    "        while (r < m) and (s < n) and (A[r, s] == 0):\n",
    "            r = r + 1             # ... en primer lugar en la misma columna s.\n",
    "            if r == m:            # r ha superado el indice máximo de fila, que es m-1\n",
    "                s = s + 1;r = k   # pasamos a la columna siguiente\n",
    "        if (r < m) and (s < n):   # Si hemos encontrado un pivote...\n",
    "            if (r != k):          #    Si el pivote no está en la primera fila considerada...  \n",
    "                A.swap_rows(k, r) #    ... lo colocamos allí (fila k)\n",
    "                F.swap_rows(k, r)\n",
    "                lista_transfos.append( ('swap',(k+1,r+1)) )\n",
    "            piv = A[k, s]             # Valor del pivote. Su posicion es ahora: fila k, col s.\n",
    "            for t in range(k + 1, m): # reducimos los coeficientes DEBAJO del pivote.\n",
    "                multip = A[t, s]*piv^-1 \n",
    "                if multip != 0:\n",
    "                    A[t, s] = 0\n",
    "                    F[t] = F[t] - multip*F[k]\n",
    "                    lista_transfos.append( ('combination', (t+1, k+1, -multip)))\n",
    "                    for v in range(s + 1, n):\n",
    "                        A[t, v] = A[t, v] - multip*A[k, v]\n",
    "            if canon:    ## si queremos la forma canonica...\n",
    "                for t in range(k):   # reducimos los coeficientes que estan ENCIMA del pivote\n",
    "                    multip = A[t, s]*piv^(-1)\n",
    "                    if multip != 0:\n",
    "                        A[t, s] = 0\n",
    "                        F[t] = F[t] - multip*F[k]\n",
    "                        lista_transfos.append( ('combination',(t+1, k+1, -multip)))\n",
    "                        for v in range(s + 1, n):\n",
    "                            A[t, v] = A[t, v] - multip*A[k, v]\n",
    "                F[k] = F[k]*piv^(-1)  # reducimos también el pivote a 1.\n",
    "                A[k] = A[k]*piv^(-1)\n",
    "                lista_transfos.append( ('rescale', (k+1, piv^(-1))) )\n",
    "    print()\n",
    "    ## Presentación de los resultados\n",
    "    if ver_transfo:\n",
    "        print('Matriz original:')\n",
    "        print(M)\n",
    "        print()\n",
    "        print('Transformaciones elementales realizadas:')\n",
    "        for (tipo, parametros) in lista_transfos:\n",
    "            if tipo == 'swap':\n",
    "                (indice1, indice2) = parametros\n",
    "                #pretty_print(html('$F_{%s,%s}$'%(latex(indice1), latex(indice2))))\n",
    "                pretty_print(html('$F_{%s} \\\\leftrightarrow F_{%s}$'%(latex(indice1), latex(indice2))))\n",
    "                print()\n",
    "            elif tipo == 'combination':\n",
    "                (indice1, indice2, factor) = parametros\n",
    "                #pretty_print(html('$F_{%s,%s}(%s)$'%(latex(indice1),latex(indice2), latex(factor))))\n",
    "                pretty_print(html('$F_{%s}\\\\leftarrow F_{%s} + (%s) \\\\cdot F_{%s}$'\n",
    "                                  %(latex(indice1),latex(indice1), latex(factor), latex(indice2))))\n",
    "                print()\n",
    "            elif tipo == 'rescale':\n",
    "                (indice, factor) = parametros\n",
    "                #pretty_print(html('$F_{%s}(%s)$'%(latex(indice), latex(factor))))\n",
    "                pretty_print(html('$F_{%s} \\\\leftarrow %s\\\\cdot F_{%s}$'\n",
    "                                  %(latex(indice), latex(factor), latex(indice))))\n",
    "                print()\n",
    "    if canon:\n",
    "        print('Forma escalonada canónica:')\n",
    "    else:\n",
    "        print('Forma escalonada simple:')\n",
    "    print(A)\n",
    "    return(F, A)\n"
   ]
  },
  {
   "cell_type": "markdown",
   "metadata": {},
   "source": [
    "<p>Retomando el ejemplo anterior, tenemos:</p>"
   ]
  },
  {
   "cell_type": "code",
   "execution_count": 59,
   "metadata": {},
   "outputs": [
    {
     "data": {
      "text/html": [
       "<html><script type=\"math/tex; mode=display\">\\newcommand{\\Bold}[1]{\\mathbf{#1}}\\left(\\begin{array}{rrrr}\n",
       "2 & 1 & \\frac{1}{3} & \\frac{14}{3} \\\\\n",
       "-1 & 6 & 2 & 2 \\\\\n",
       "\\frac{1}{2} & 1 & 8 & -6\n",
       "\\end{array}\\right)</script></html>"
      ],
      "text/latex": [
       "\\begin{math}\n",
       "\\newcommand{\\Bold}[1]{\\mathbf{#1}}\\left(\\begin{array}{rrrr}\n",
       "2 & 1 & \\frac{1}{3} & \\frac{14}{3} \\\\\n",
       "-1 & 6 & 2 & 2 \\\\\n",
       "\\frac{1}{2} & 1 & 8 & -6\n",
       "\\end{array}\\right)\n",
       "\\end{math}"
      ],
      "text/plain": [
       "[   2    1  1/3 14/3]\n",
       "[  -1    6    2    2]\n",
       "[ 1/2    1    8   -6]"
      ]
     },
     "metadata": {},
     "output_type": "display_data"
    }
   ],
   "source": [
    "A = matrix([[2, 1, 1/3], [-1, 6, 2], [1/2, 1, 8]])\n",
    "b = vector([14/3, 2, -6])\n",
    "M = A.augment(b.column())\n",
    "show(M)"
   ]
  },
  {
   "cell_type": "code",
   "execution_count": 60,
   "metadata": {},
   "outputs": [
    {
     "name": "stdout",
     "output_type": "stream",
     "text": [
      "\n",
      "Matriz original:\n",
      "[   2    1  1/3 14/3]\n",
      "[  -1    6    2    2]\n",
      "[ 1/2    1    8   -6]\n",
      "\n",
      "Transformaciones elementales realizadas:\n"
     ]
    },
    {
     "data": {
      "text/html": [
       "<script type=\"math/tex\">F_{2}\\leftarrow F_{2} + (\\frac{1}{2}) \\cdot F_{1}</script>"
      ],
      "text/plain": [
       "<script type=\"math/tex\">F_{2}\\leftarrow F_{2} + (\\frac{1}{2}) \\cdot F_{1}</script>"
      ]
     },
     "metadata": {},
     "output_type": "display_data"
    },
    {
     "name": "stdout",
     "output_type": "stream",
     "text": [
      "\n"
     ]
    },
    {
     "data": {
      "text/html": [
       "<script type=\"math/tex\">F_{3}\\leftarrow F_{3} + (-\\frac{1}{4}) \\cdot F_{1}</script>"
      ],
      "text/plain": [
       "<script type=\"math/tex\">F_{3}\\leftarrow F_{3} + (-\\frac{1}{4}) \\cdot F_{1}</script>"
      ]
     },
     "metadata": {},
     "output_type": "display_data"
    },
    {
     "name": "stdout",
     "output_type": "stream",
     "text": [
      "\n"
     ]
    },
    {
     "data": {
      "text/html": [
       "<script type=\"math/tex\">F_{1} \\leftarrow \\frac{1}{2}\\cdot F_{1}</script>"
      ],
      "text/plain": [
       "<script type=\"math/tex\">F_{1} \\leftarrow \\frac{1}{2}\\cdot F_{1}</script>"
      ]
     },
     "metadata": {},
     "output_type": "display_data"
    },
    {
     "name": "stdout",
     "output_type": "stream",
     "text": [
      "\n"
     ]
    },
    {
     "data": {
      "text/html": [
       "<script type=\"math/tex\">F_{3}\\leftarrow F_{3} + (-\\frac{3}{26}) \\cdot F_{2}</script>"
      ],
      "text/plain": [
       "<script type=\"math/tex\">F_{3}\\leftarrow F_{3} + (-\\frac{3}{26}) \\cdot F_{2}</script>"
      ]
     },
     "metadata": {},
     "output_type": "display_data"
    },
    {
     "name": "stdout",
     "output_type": "stream",
     "text": [
      "\n"
     ]
    },
    {
     "data": {
      "text/html": [
       "<script type=\"math/tex\">F_{1}\\leftarrow F_{1} + (-\\frac{1}{13}) \\cdot F_{2}</script>"
      ],
      "text/plain": [
       "<script type=\"math/tex\">F_{1}\\leftarrow F_{1} + (-\\frac{1}{13}) \\cdot F_{2}</script>"
      ]
     },
     "metadata": {},
     "output_type": "display_data"
    },
    {
     "name": "stdout",
     "output_type": "stream",
     "text": [
      "\n"
     ]
    },
    {
     "data": {
      "text/html": [
       "<script type=\"math/tex\">F_{2} \\leftarrow \\frac{2}{13}\\cdot F_{2}</script>"
      ],
      "text/plain": [
       "<script type=\"math/tex\">F_{2} \\leftarrow \\frac{2}{13}\\cdot F_{2}</script>"
      ]
     },
     "metadata": {},
     "output_type": "display_data"
    },
    {
     "name": "stdout",
     "output_type": "stream",
     "text": [
      "\n"
     ]
    },
    {
     "data": {
      "text/html": [
       "<script type=\"math/tex\">F_{2}\\leftarrow F_{2} + (-\\frac{1}{23}) \\cdot F_{3}</script>"
      ],
      "text/plain": [
       "<script type=\"math/tex\">F_{2}\\leftarrow F_{2} + (-\\frac{1}{23}) \\cdot F_{3}</script>"
      ]
     },
     "metadata": {},
     "output_type": "display_data"
    },
    {
     "name": "stdout",
     "output_type": "stream",
     "text": [
      "\n"
     ]
    },
    {
     "data": {
      "text/html": [
       "<script type=\"math/tex\">F_{3} \\leftarrow \\frac{3}{23}\\cdot F_{3}</script>"
      ],
      "text/plain": [
       "<script type=\"math/tex\">F_{3} \\leftarrow \\frac{3}{23}\\cdot F_{3}</script>"
      ]
     },
     "metadata": {},
     "output_type": "display_data"
    },
    {
     "name": "stdout",
     "output_type": "stream",
     "text": [
      "\n",
      "Forma escalonada canónica:\n",
      "[ 1  0  0  2]\n",
      "[ 0  1  0  1]\n",
      "[ 0  0  1 -1]\n"
     ]
    }
   ],
   "source": [
    "F, E = forma_escalonada(M, True, True)"
   ]
  },
  {
   "cell_type": "markdown",
   "metadata": {},
   "source": [
    "<p>Ahora comprobamos los resultados obtenidos:</p>"
   ]
  },
  {
   "cell_type": "code",
   "execution_count": 61,
   "metadata": {},
   "outputs": [
    {
     "data": {
      "text/plain": [
       "[ 1  0  0  2]\n",
       "[ 0  1  0  1]\n",
       "[ 0  0  1 -1]"
      ]
     },
     "execution_count": 61,
     "metadata": {},
     "output_type": "execute_result"
    }
   ],
   "source": [
    "E"
   ]
  },
  {
   "cell_type": "code",
   "execution_count": 62,
   "metadata": {},
   "outputs": [
    {
     "data": {
      "text/plain": [
       "[ 1  0  0  2]\n",
       "[ 0  1  0  1]\n",
       "[ 0  0  1 -1]"
      ]
     },
     "execution_count": 62,
     "metadata": {},
     "output_type": "execute_result"
    }
   ],
   "source": [
    "F*M"
   ]
  },
  {
   "cell_type": "code",
   "execution_count": 63,
   "metadata": {},
   "outputs": [
    {
     "data": {
      "text/plain": [
       "True"
      ]
     },
     "execution_count": 63,
     "metadata": {},
     "output_type": "execute_result"
    }
   ],
   "source": [
    "F*M == E"
   ]
  },
  {
   "cell_type": "markdown",
   "metadata": {},
   "source": [
    "<p>Otras variantes:</p>"
   ]
  },
  {
   "cell_type": "code",
   "execution_count": 64,
   "metadata": {},
   "outputs": [
    {
     "name": "stdout",
     "output_type": "stream",
     "text": [
      "\n",
      "Forma escalonada simple:\n",
      "[    2     1   1/3  14/3]\n",
      "[    0  13/2  13/6  13/3]\n",
      "[    0     0  23/3 -23/3]\n"
     ]
    }
   ],
   "source": [
    "F, E = forma_escalonada(M)\n"
   ]
  },
  {
   "cell_type": "code",
   "execution_count": 65,
   "metadata": {},
   "outputs": [
    {
     "name": "stdout",
     "output_type": "stream",
     "text": [
      "\n",
      "Forma escalonada canónica:\n",
      "[ 1  0  0  2]\n",
      "[ 0  1  0  1]\n",
      "[ 0  0  1 -1]\n"
     ]
    }
   ],
   "source": [
    "F, E = forma_escalonada(M, True)"
   ]
  },
  {
   "cell_type": "code",
   "execution_count": 66,
   "metadata": {},
   "outputs": [
    {
     "name": "stdout",
     "output_type": "stream",
     "text": [
      "\n",
      "Matriz original:\n",
      "[   2    1  1/3 14/3]\n",
      "[  -1    6    2    2]\n",
      "[ 1/2    1    8   -6]\n",
      "\n",
      "Transformaciones elementales realizadas:\n"
     ]
    },
    {
     "data": {
      "text/html": [
       "<script type=\"math/tex\">F_{2}\\leftarrow F_{2} + (\\frac{1}{2}) \\cdot F_{1}</script>"
      ],
      "text/plain": [
       "<script type=\"math/tex\">F_{2}\\leftarrow F_{2} + (\\frac{1}{2}) \\cdot F_{1}</script>"
      ]
     },
     "metadata": {},
     "output_type": "display_data"
    },
    {
     "name": "stdout",
     "output_type": "stream",
     "text": [
      "\n"
     ]
    },
    {
     "data": {
      "text/html": [
       "<script type=\"math/tex\">F_{3}\\leftarrow F_{3} + (-\\frac{1}{4}) \\cdot F_{1}</script>"
      ],
      "text/plain": [
       "<script type=\"math/tex\">F_{3}\\leftarrow F_{3} + (-\\frac{1}{4}) \\cdot F_{1}</script>"
      ]
     },
     "metadata": {},
     "output_type": "display_data"
    },
    {
     "name": "stdout",
     "output_type": "stream",
     "text": [
      "\n"
     ]
    },
    {
     "data": {
      "text/html": [
       "<script type=\"math/tex\">F_{3}\\leftarrow F_{3} + (-\\frac{3}{26}) \\cdot F_{2}</script>"
      ],
      "text/plain": [
       "<script type=\"math/tex\">F_{3}\\leftarrow F_{3} + (-\\frac{3}{26}) \\cdot F_{2}</script>"
      ]
     },
     "metadata": {},
     "output_type": "display_data"
    },
    {
     "name": "stdout",
     "output_type": "stream",
     "text": [
      "\n",
      "Forma escalonada simple:\n",
      "[    2     1   1/3  14/3]\n",
      "[    0  13/2  13/6  13/3]\n",
      "[    0     0  23/3 -23/3]\n"
     ]
    }
   ],
   "source": [
    "F, E = forma_escalonada(M, False, True)"
   ]
  },
  {
   "cell_type": "markdown",
   "metadata": {},
   "source": [
    "<h3>Cálculo de las soluciones de un sistema de ecuaciones</h3>\n",
    "<p>A modo de ejemplo, aplicaremos el método de escalonamiento para hallar todas las posibles soluciones del sistema lineal</p>\n",
    "<p>\n",
    "$$\\left\\lbrace \\begin{array}{rcl} x+2y-z&=& 3\\\\ 2x-3y+2z&=&-1\\\\  3x-y+z&=&2\\end{array}\\right. $$\n",
    "</p>"
   ]
  },
  {
   "cell_type": "code",
   "execution_count": 67,
   "metadata": {},
   "outputs": [
    {
     "data": {
      "text/html": [
       "<html><script type=\"math/tex; mode=display\">\\newcommand{\\Bold}[1]{\\mathbf{#1}}\\left(\\begin{array}{rrrr}\n",
       "1 & 2 & -1 & 3 \\\\\n",
       "2 & -3 & 2 & -1 \\\\\n",
       "3 & -1 & 1 & 2\n",
       "\\end{array}\\right)</script></html>"
      ],
      "text/latex": [
       "\\begin{math}\n",
       "\\newcommand{\\Bold}[1]{\\mathbf{#1}}\\left(\\begin{array}{rrrr}\n",
       "1 & 2 & -1 & 3 \\\\\n",
       "2 & -3 & 2 & -1 \\\\\n",
       "3 & -1 & 1 & 2\n",
       "\\end{array}\\right)\n",
       "\\end{math}"
      ],
      "text/plain": [
       "[ 1  2 -1  3]\n",
       "[ 2 -3  2 -1]\n",
       "[ 3 -1  1  2]"
      ]
     },
     "metadata": {},
     "output_type": "display_data"
    }
   ],
   "source": [
    "M = matrix(QQ,[[1,2,-1,3],[2,-3,2,-1],[3,-1,1,2]])\n",
    "show(M)"
   ]
  },
  {
   "cell_type": "code",
   "execution_count": 68,
   "metadata": {},
   "outputs": [
    {
     "name": "stdout",
     "output_type": "stream",
     "text": [
      "\n",
      "Forma escalonada canónica:\n",
      "[   1    0  1/7    1]\n",
      "[   0    1 -4/7    1]\n",
      "[   0    0    0    0]\n"
     ]
    }
   ],
   "source": [
    "F, U = forma_escalonada(M, True, False)"
   ]
  },
  {
   "cell_type": "markdown",
   "metadata": {},
   "source": [
    "Del resultado obtenido se deduce que podemos tomar como variables dependientes:$x,y$ y como variable independiente:$z$. El sistema tiene infinitas soluciones que pueden expresarse, en función de un parámetro $\\alpha$, como:\n",
    "$$\\left\\lbrace \\begin{array}{rcl} x&=& 1-\\frac 17 \\alpha\\\\ y&=&1+\\frac 47 \\alpha\\\\  z&=&\\alpha\\end{array}\\right. $$"
   ]
  },
  {
   "cell_type": "markdown",
   "metadata": {},
   "source": [
    "<h3>Cálculo de la matriz inversa por el método de Gaus-Jordan</h3>\n",
    "<p>Recrearemos el método de Gauss-Jordan para hallar la inversa de una matriz $A$:</p>"
   ]
  },
  {
   "cell_type": "code",
   "execution_count": 69,
   "metadata": {},
   "outputs": [
    {
     "data": {
      "text/html": [
       "<html><script type=\"math/tex; mode=display\">\\newcommand{\\Bold}[1]{\\mathbf{#1}}\\left(\\begin{array}{rrr}\n",
       "0 & 1 & -2 \\\\\n",
       "4 & 1 & 0 \\\\\n",
       "2 & 1 & 1\n",
       "\\end{array}\\right)</script></html>"
      ],
      "text/latex": [
       "\\begin{math}\n",
       "\\newcommand{\\Bold}[1]{\\mathbf{#1}}\\left(\\begin{array}{rrr}\n",
       "0 & 1 & -2 \\\\\n",
       "4 & 1 & 0 \\\\\n",
       "2 & 1 & 1\n",
       "\\end{array}\\right)\n",
       "\\end{math}"
      ],
      "text/plain": [
       "[ 0  1 -2]\n",
       "[ 4  1  0]\n",
       "[ 2  1  1]"
      ]
     },
     "metadata": {},
     "output_type": "display_data"
    }
   ],
   "source": [
    "A = matrix(QQ, [[0, 1, -2], [4, 1, 0], [2, 1, 1]])\n",
    "show(A)"
   ]
  },
  {
   "cell_type": "markdown",
   "metadata": {},
   "source": [
    "<p>Construimos la matriz de dos bloques $(A|I)$:</p>"
   ]
  },
  {
   "cell_type": "code",
   "execution_count": 70,
   "metadata": {},
   "outputs": [
    {
     "data": {
      "text/html": [
       "<html><script type=\"math/tex; mode=display\">\\newcommand{\\Bold}[1]{\\mathbf{#1}}\\left(\\begin{array}{rrr|rrr}\n",
       "0 & 1 & -2 & 1 & 0 & 0 \\\\\n",
       "4 & 1 & 0 & 0 & 1 & 0 \\\\\n",
       "2 & 1 & 1 & 0 & 0 & 1\n",
       "\\end{array}\\right)</script></html>"
      ],
      "text/latex": [
       "\\begin{math}\n",
       "\\newcommand{\\Bold}[1]{\\mathbf{#1}}\\left(\\begin{array}{rrr|rrr}\n",
       "0 & 1 & -2 & 1 & 0 & 0 \\\\\n",
       "4 & 1 & 0 & 0 & 1 & 0 \\\\\n",
       "2 & 1 & 1 & 0 & 0 & 1\n",
       "\\end{array}\\right)\n",
       "\\end{math}"
      ],
      "text/plain": [
       "[ 0  1 -2| 1  0  0]\n",
       "[ 4  1  0| 0  1  0]\n",
       "[ 2  1  1| 0  0  1]"
      ]
     },
     "metadata": {},
     "output_type": "display_data"
    }
   ],
   "source": [
    "M = block_matrix([[A, identity_matrix(base_ring(A), A.nrows())]])\n",
    "show(M)"
   ]
  },
  {
   "cell_type": "markdown",
   "metadata": {},
   "source": [
    "<p>Aplicamos el método de Gauss-Jordan a esta matriz doble:</p>"
   ]
  },
  {
   "cell_type": "code",
   "execution_count": 71,
   "metadata": {},
   "outputs": [
    {
     "name": "stdout",
     "output_type": "stream",
     "text": [
      "\n",
      "Matriz original:\n",
      "[ 0  1 -2| 1  0  0]\n",
      "[ 4  1  0| 0  1  0]\n",
      "[ 2  1  1| 0  0  1]\n",
      "\n",
      "Transformaciones elementales realizadas:\n"
     ]
    },
    {
     "data": {
      "text/html": [
       "<script type=\"math/tex\">F_{1} \\leftrightarrow F_{2}</script>"
      ],
      "text/plain": [
       "<script type=\"math/tex\">F_{1} \\leftrightarrow F_{2}</script>"
      ]
     },
     "metadata": {},
     "output_type": "display_data"
    },
    {
     "name": "stdout",
     "output_type": "stream",
     "text": [
      "\n"
     ]
    },
    {
     "data": {
      "text/html": [
       "<script type=\"math/tex\">F_{3}\\leftarrow F_{3} + (-\\frac{1}{2}) \\cdot F_{1}</script>"
      ],
      "text/plain": [
       "<script type=\"math/tex\">F_{3}\\leftarrow F_{3} + (-\\frac{1}{2}) \\cdot F_{1}</script>"
      ]
     },
     "metadata": {},
     "output_type": "display_data"
    },
    {
     "name": "stdout",
     "output_type": "stream",
     "text": [
      "\n"
     ]
    },
    {
     "data": {
      "text/html": [
       "<script type=\"math/tex\">F_{1} \\leftarrow \\frac{1}{4}\\cdot F_{1}</script>"
      ],
      "text/plain": [
       "<script type=\"math/tex\">F_{1} \\leftarrow \\frac{1}{4}\\cdot F_{1}</script>"
      ]
     },
     "metadata": {},
     "output_type": "display_data"
    },
    {
     "name": "stdout",
     "output_type": "stream",
     "text": [
      "\n"
     ]
    },
    {
     "data": {
      "text/html": [
       "<script type=\"math/tex\">F_{3}\\leftarrow F_{3} + (-\\frac{1}{2}) \\cdot F_{2}</script>"
      ],
      "text/plain": [
       "<script type=\"math/tex\">F_{3}\\leftarrow F_{3} + (-\\frac{1}{2}) \\cdot F_{2}</script>"
      ]
     },
     "metadata": {},
     "output_type": "display_data"
    },
    {
     "name": "stdout",
     "output_type": "stream",
     "text": [
      "\n"
     ]
    },
    {
     "data": {
      "text/html": [
       "<script type=\"math/tex\">F_{1}\\leftarrow F_{1} + (-\\frac{1}{4}) \\cdot F_{2}</script>"
      ],
      "text/plain": [
       "<script type=\"math/tex\">F_{1}\\leftarrow F_{1} + (-\\frac{1}{4}) \\cdot F_{2}</script>"
      ]
     },
     "metadata": {},
     "output_type": "display_data"
    },
    {
     "name": "stdout",
     "output_type": "stream",
     "text": [
      "\n"
     ]
    },
    {
     "data": {
      "text/html": [
       "<script type=\"math/tex\">F_{2} \\leftarrow 1\\cdot F_{2}</script>"
      ],
      "text/plain": [
       "<script type=\"math/tex\">F_{2} \\leftarrow 1\\cdot F_{2}</script>"
      ]
     },
     "metadata": {},
     "output_type": "display_data"
    },
    {
     "name": "stdout",
     "output_type": "stream",
     "text": [
      "\n"
     ]
    },
    {
     "data": {
      "text/html": [
       "<script type=\"math/tex\">F_{1}\\leftarrow F_{1} + (-\\frac{1}{4}) \\cdot F_{3}</script>"
      ],
      "text/plain": [
       "<script type=\"math/tex\">F_{1}\\leftarrow F_{1} + (-\\frac{1}{4}) \\cdot F_{3}</script>"
      ]
     },
     "metadata": {},
     "output_type": "display_data"
    },
    {
     "name": "stdout",
     "output_type": "stream",
     "text": [
      "\n"
     ]
    },
    {
     "data": {
      "text/html": [
       "<script type=\"math/tex\">F_{2}\\leftarrow F_{2} + (1) \\cdot F_{3}</script>"
      ],
      "text/plain": [
       "<script type=\"math/tex\">F_{2}\\leftarrow F_{2} + (1) \\cdot F_{3}</script>"
      ]
     },
     "metadata": {},
     "output_type": "display_data"
    },
    {
     "name": "stdout",
     "output_type": "stream",
     "text": [
      "\n"
     ]
    },
    {
     "data": {
      "text/html": [
       "<script type=\"math/tex\">F_{3} \\leftarrow \\frac{1}{2}\\cdot F_{3}</script>"
      ],
      "text/plain": [
       "<script type=\"math/tex\">F_{3} \\leftarrow \\frac{1}{2}\\cdot F_{3}</script>"
      ]
     },
     "metadata": {},
     "output_type": "display_data"
    },
    {
     "name": "stdout",
     "output_type": "stream",
     "text": [
      "\n",
      "Forma escalonada canónica:\n",
      "[   1    0    0|-1/8  3/8 -1/4]\n",
      "[   0    1    0| 1/2 -1/2    1]\n",
      "[   0    0    1|-1/4 -1/4  1/2]\n"
     ]
    }
   ],
   "source": [
    "F, U = forma_escalonada(M, True, True)"
   ]
  },
  {
   "cell_type": "markdown",
   "metadata": {},
   "source": [
    "La matriz inversa de $A$ es el bloque de la derecha de la matriz $U$ obtenida."
   ]
  },
  {
   "cell_type": "code",
   "execution_count": 72,
   "metadata": {},
   "outputs": [
    {
     "data": {
      "text/plain": [
       "[   1    0    0|-1/8  3/8 -1/4]\n",
       "[   0    1    0| 1/2 -1/2    1]\n",
       "[   0    0    1|-1/4 -1/4  1/2]"
      ]
     },
     "execution_count": 72,
     "metadata": {},
     "output_type": "execute_result"
    }
   ],
   "source": [
    "U"
   ]
  },
  {
   "cell_type": "code",
   "execution_count": 73,
   "metadata": {},
   "outputs": [
    {
     "data": {
      "text/plain": [
       "[-1/8  3/8 -1/4]\n",
       "[ 1/2 -1/2    1]\n",
       "[-1/4 -1/4  1/2]"
      ]
     },
     "execution_count": 73,
     "metadata": {},
     "output_type": "execute_result"
    }
   ],
   "source": [
    "U.matrix_from_columns([3,4,5])"
   ]
  },
  {
   "cell_type": "markdown",
   "metadata": {},
   "source": [
    "<h2><a name=\"anillos\"></a>Trabajando con diferentes dominios (anillos) de números</h2>\n",
    "<p>En SageMath se declaran lo que se conoce como *clases* de objetos y, en el caso de manipulaciones numéricas, están declaradas las clases <span style=\"color: #0000ff;\">ZZ</span>, <span style=\"color: #0000ff;\">QQ</span>, <span style=\"color: #0000ff;\">RR</span> y <span style=\"color: #0000ff;\">CC</span> para representar los anillos de los números enteros, racionales, reales y complejos, respectivamente. Cuando una función actúa sobre un objeto, su comportamiento puede depender de la clase a la que pertenezca el objeto. Es decir, SageMath respeta en todos sus procedimientos, por defecto, el tipo de datos declarados en la entrada y acomoda sus cálculos y funciones a esos tipos. Particularmente interesante puede resultar trabajar sobre el anillo $Z_n$ de los enteros modulo $n$ (https://es.wikipedia.org/wiki/Aritmética_modular) (ver también la asignatura de I.M.D.) y que podemos declarar con la clase <span style=\"color: #0000ff;\">IntegerModRing(n)</span>.<br /><br /><br /></p>\n",
    "<h3>Ejemplo 2:</h3>\n",
    "<p>A continuación declaramos una matriz de números racionales y comprobamos que su  inversa dentro de ese dominio es tratada diferente que en otros dominios como los reales o $Z_n$.</p>"
   ]
  },
  {
   "cell_type": "code",
   "execution_count": 74,
   "metadata": {},
   "outputs": [
    {
     "data": {
      "text/html": [
       "<html><script type=\"math/tex; mode=display\">\\newcommand{\\Bold}[1]{\\mathbf{#1}}\\left(\\begin{array}{rrr}\n",
       "2 & 1 & 4 \\\\\n",
       "1 & 6 & 3 \\\\\n",
       "1 & 1 & 8\n",
       "\\end{array}\\right)</script></html>"
      ],
      "text/latex": [
       "\\begin{math}\n",
       "\\newcommand{\\Bold}[1]{\\mathbf{#1}}\\left(\\begin{array}{rrr}\n",
       "2 & 1 & 4 \\\\\n",
       "1 & 6 & 3 \\\\\n",
       "1 & 1 & 8\n",
       "\\end{array}\\right)\n",
       "\\end{math}"
      ],
      "text/plain": [
       "[2 1 4]\n",
       "[1 6 3]\n",
       "[1 1 8]"
      ]
     },
     "metadata": {},
     "output_type": "display_data"
    },
    {
     "data": {
      "text/html": [
       "<html><script type=\"math/tex; mode=display\">\\newcommand{\\Bold}[1]{\\mathbf{#1}}\\left(\\begin{array}{rrr}\n",
       "\\frac{9}{13} & -\\frac{4}{65} & -\\frac{21}{65} \\\\\n",
       "-\\frac{1}{13} & \\frac{12}{65} & -\\frac{2}{65} \\\\\n",
       "-\\frac{1}{13} & -\\frac{1}{65} & \\frac{11}{65}\n",
       "\\end{array}\\right)</script></html>"
      ],
      "text/latex": [
       "\\begin{math}\n",
       "\\newcommand{\\Bold}[1]{\\mathbf{#1}}\\left(\\begin{array}{rrr}\n",
       "\\frac{9}{13} & -\\frac{4}{65} & -\\frac{21}{65} \\\\\n",
       "-\\frac{1}{13} & \\frac{12}{65} & -\\frac{2}{65} \\\\\n",
       "-\\frac{1}{13} & -\\frac{1}{65} & \\frac{11}{65}\n",
       "\\end{array}\\right)\n",
       "\\end{math}"
      ],
      "text/plain": [
       "[  9/13  -4/65 -21/65]\n",
       "[ -1/13  12/65  -2/65]\n",
       "[ -1/13  -1/65  11/65]"
      ]
     },
     "metadata": {},
     "output_type": "display_data"
    }
   ],
   "source": [
    "A = matrix(QQ, [[2, 1, 4], [1, 6, 3], [1, 1, 8]])\n",
    "show(A)\n",
    "Ai = A.inverse()\n",
    "show(Ai)"
   ]
  },
  {
   "cell_type": "code",
   "execution_count": 75,
   "metadata": {},
   "outputs": [
    {
     "data": {
      "text/html": [
       "<html><script type=\"math/tex; mode=display\">\\newcommand{\\Bold}[1]{\\mathbf{#1}}\\left(\\begin{array}{rrr}\n",
       "1 & 0 & 0 \\\\\n",
       "0 & 1 & 0 \\\\\n",
       "0 & 0 & 1\n",
       "\\end{array}\\right)</script></html>"
      ],
      "text/latex": [
       "\\begin{math}\n",
       "\\newcommand{\\Bold}[1]{\\mathbf{#1}}\\left(\\begin{array}{rrr}\n",
       "1 & 0 & 0 \\\\\n",
       "0 & 1 & 0 \\\\\n",
       "0 & 0 & 1\n",
       "\\end{array}\\right)\n",
       "\\end{math}"
      ],
      "text/plain": [
       "[1 0 0]\n",
       "[0 1 0]\n",
       "[0 0 1]"
      ]
     },
     "metadata": {},
     "output_type": "display_data"
    }
   ],
   "source": [
    "show(A*Ai)"
   ]
  },
  {
   "cell_type": "markdown",
   "metadata": {},
   "source": [
    "<p>Cambiamos de clase o dominio al de los números reales (en realidad son números en punto flotante con 16 dígitos de presición, por defecto):</p>"
   ]
  },
  {
   "cell_type": "code",
   "execution_count": 76,
   "metadata": {},
   "outputs": [
    {
     "data": {
      "text/html": [
       "<html><script type=\"math/tex; mode=display\">\\newcommand{\\Bold}[1]{\\mathbf{#1}}\\left(\\begin{array}{rrr}\n",
       "2.00000000000000 & 1.00000000000000 & 4.00000000000000 \\\\\n",
       "1.00000000000000 & 6.00000000000000 & 3.00000000000000 \\\\\n",
       "1.00000000000000 & 1.00000000000000 & 8.00000000000000\n",
       "\\end{array}\\right)</script></html>"
      ],
      "text/latex": [
       "\\begin{math}\n",
       "\\newcommand{\\Bold}[1]{\\mathbf{#1}}\\left(\\begin{array}{rrr}\n",
       "2.00000000000000 & 1.00000000000000 & 4.00000000000000 \\\\\n",
       "1.00000000000000 & 6.00000000000000 & 3.00000000000000 \\\\\n",
       "1.00000000000000 & 1.00000000000000 & 8.00000000000000\n",
       "\\end{array}\\right)\n",
       "\\end{math}"
      ],
      "text/plain": [
       "[2.00000000000000 1.00000000000000 4.00000000000000]\n",
       "[1.00000000000000 6.00000000000000 3.00000000000000]\n",
       "[1.00000000000000 1.00000000000000 8.00000000000000]"
      ]
     },
     "metadata": {},
     "output_type": "display_data"
    }
   ],
   "source": [
    "B = A.change_ring(RR)\n",
    "show(B)\n"
   ]
  },
  {
   "cell_type": "code",
   "execution_count": 77,
   "metadata": {},
   "outputs": [
    {
     "data": {
      "text/html": [
       "<html><script type=\"math/tex; mode=display\">\\newcommand{\\Bold}[1]{\\mathbf{#1}}\\left(\\begin{array}{rrr}\n",
       "0.692307692307692 & -0.0615384615384615 & -0.323076923076923 \\\\\n",
       "-0.0769230769230769 & 0.184615384615385 & -0.0307692307692308 \\\\\n",
       "-0.0769230769230769 & -0.0153846153846154 & 0.169230769230769\n",
       "\\end{array}\\right)</script></html>"
      ],
      "text/latex": [
       "\\begin{math}\n",
       "\\newcommand{\\Bold}[1]{\\mathbf{#1}}\\left(\\begin{array}{rrr}\n",
       "0.692307692307692 & -0.0615384615384615 & -0.323076923076923 \\\\\n",
       "-0.0769230769230769 & 0.184615384615385 & -0.0307692307692308 \\\\\n",
       "-0.0769230769230769 & -0.0153846153846154 & 0.169230769230769\n",
       "\\end{array}\\right)\n",
       "\\end{math}"
      ],
      "text/plain": [
       "[  0.692307692307692 -0.0615384615384615  -0.323076923076923]\n",
       "[-0.0769230769230769   0.184615384615385 -0.0307692307692308]\n",
       "[-0.0769230769230769 -0.0153846153846154   0.169230769230769]"
      ]
     },
     "metadata": {},
     "output_type": "display_data"
    }
   ],
   "source": [
    "Bi = B.inverse();\n",
    "show(Bi)\n"
   ]
  },
  {
   "cell_type": "code",
   "execution_count": 78,
   "metadata": {},
   "outputs": [
    {
     "data": {
      "text/html": [
       "<html><script type=\"math/tex; mode=display\">\\newcommand{\\Bold}[1]{\\mathbf{#1}}\\left(\\begin{array}{rrr}\n",
       "1.00000000000000 & 0.000000000000000 & 0.000000000000000 \\\\\n",
       "-5.55111512312578 \\times 10^{-17} & 1.00000000000000 & 0.000000000000000 \\\\\n",
       "0.000000000000000 & 0.000000000000000 & 1.00000000000000\n",
       "\\end{array}\\right)</script></html>"
      ],
      "text/latex": [
       "\\begin{math}\n",
       "\\newcommand{\\Bold}[1]{\\mathbf{#1}}\\left(\\begin{array}{rrr}\n",
       "1.00000000000000 & 0.000000000000000 & 0.000000000000000 \\\\\n",
       "-5.55111512312578 \\times 10^{-17} & 1.00000000000000 & 0.000000000000000 \\\\\n",
       "0.000000000000000 & 0.000000000000000 & 1.00000000000000\n",
       "\\end{array}\\right)\n",
       "\\end{math}"
      ],
      "text/plain": [
       "[     1.00000000000000     0.000000000000000     0.000000000000000]\n",
       "[-5.55111512312578e-17      1.00000000000000     0.000000000000000]\n",
       "[    0.000000000000000     0.000000000000000      1.00000000000000]"
      ]
     },
     "metadata": {},
     "output_type": "display_data"
    }
   ],
   "source": [
    "show(B*Bi) # debe dar la matriz identidad ... aproximadamente."
   ]
  },
  {
   "cell_type": "markdown",
   "metadata": {},
   "source": [
    "<p>Por defecto, SageMath trabaja con una precisión numérica en el caso de números en formato de coma flotante correspondiente a 53 bits en la mantisa.  Podemos elegir otra precisión diferente. Por ejemplo, vamos a limitar la precisión a 12 bits en la mantisa:</p>"
   ]
  },
  {
   "cell_type": "code",
   "execution_count": 79,
   "metadata": {},
   "outputs": [
    {
     "data": {
      "text/html": [
       "<html><script type=\"math/tex; mode=display\">\\newcommand{\\Bold}[1]{\\mathbf{#1}}\\left(\\begin{array}{rrr}\n",
       "2.00 & 1.00 & 4.00 \\\\\n",
       "1.00 & 6.00 & 3.00 \\\\\n",
       "1.00 & 1.00 & 8.00\n",
       "\\end{array}\\right)</script></html>"
      ],
      "text/latex": [
       "\\begin{math}\n",
       "\\newcommand{\\Bold}[1]{\\mathbf{#1}}\\left(\\begin{array}{rrr}\n",
       "2.00 & 1.00 & 4.00 \\\\\n",
       "1.00 & 6.00 & 3.00 \\\\\n",
       "1.00 & 1.00 & 8.00\n",
       "\\end{array}\\right)\n",
       "\\end{math}"
      ],
      "text/plain": [
       "[2.00 1.00 4.00]\n",
       "[1.00 6.00 3.00]\n",
       "[1.00 1.00 8.00]"
      ]
     },
     "metadata": {},
     "output_type": "display_data"
    }
   ],
   "source": [
    "B = A.change_ring(RealField(12)) # creamos una copia con menor precisión numérica\n",
    "show(B)"
   ]
  },
  {
   "cell_type": "code",
   "execution_count": 80,
   "metadata": {},
   "outputs": [
    {
     "data": {
      "text/html": [
       "<html><script type=\"math/tex; mode=display\">\\newcommand{\\Bold}[1]{\\mathbf{#1}}\\left(\\begin{array}{rrr}\n",
       "0.692 & -0.0615 & -0.323 \\\\\n",
       "-0.0769 & 0.185 & -0.0308 \\\\\n",
       "-0.0769 & -0.0154 & 0.169\n",
       "\\end{array}\\right)</script></html>"
      ],
      "text/latex": [
       "\\begin{math}\n",
       "\\newcommand{\\Bold}[1]{\\mathbf{#1}}\\left(\\begin{array}{rrr}\n",
       "0.692 & -0.0615 & -0.323 \\\\\n",
       "-0.0769 & 0.185 & -0.0308 \\\\\n",
       "-0.0769 & -0.0154 & 0.169\n",
       "\\end{array}\\right)\n",
       "\\end{math}"
      ],
      "text/plain": [
       "[  0.692 -0.0615  -0.323]\n",
       "[-0.0769   0.185 -0.0308]\n",
       "[-0.0769 -0.0154   0.169]"
      ]
     },
     "metadata": {},
     "output_type": "display_data"
    }
   ],
   "source": [
    "Bi = B.inverse();\n",
    "show(Bi)"
   ]
  },
  {
   "cell_type": "code",
   "execution_count": 81,
   "metadata": {},
   "outputs": [
    {
     "data": {
      "text/html": [
       "<html><script type=\"math/tex; mode=display\">\\newcommand{\\Bold}[1]{\\mathbf{#1}}\\left(\\begin{array}{rrr}\n",
       "1.00 & 0.0000305 & 0.000 \\\\\n",
       "-0.000122 & 1.00 & 0.000 \\\\\n",
       "0.000 & 0.000 & 1.00\n",
       "\\end{array}\\right)</script></html>"
      ],
      "text/latex": [
       "\\begin{math}\n",
       "\\newcommand{\\Bold}[1]{\\mathbf{#1}}\\left(\\begin{array}{rrr}\n",
       "1.00 & 0.0000305 & 0.000 \\\\\n",
       "-0.000122 & 1.00 & 0.000 \\\\\n",
       "0.000 & 0.000 & 1.00\n",
       "\\end{array}\\right)\n",
       "\\end{math}"
      ],
      "text/plain": [
       "[     1.00 0.0000305     0.000]\n",
       "[-0.000122      1.00     0.000]\n",
       "[    0.000     0.000      1.00]"
      ]
     },
     "metadata": {},
     "output_type": "display_data"
    }
   ],
   "source": [
    "show(B*Bi) # como consecuencia de la menor precisión ,obtenemos un mayor error en nuestros cálculos"
   ]
  },
  {
   "cell_type": "markdown",
   "metadata": {},
   "source": [
    "<p>Ahora pasemos al anillo $Z_6$ de los números enteros módulo 6:</p>"
   ]
  },
  {
   "cell_type": "code",
   "execution_count": 82,
   "metadata": {},
   "outputs": [
    {
     "data": {
      "text/html": [
       "<html><script type=\"math/tex; mode=display\">\\newcommand{\\Bold}[1]{\\mathbf{#1}}\\left(\\begin{array}{rrr}\n",
       "2 & 1 & 4 \\\\\n",
       "1 & 6 & 3 \\\\\n",
       "1 & 1 & 8\n",
       "\\end{array}\\right)</script></html>"
      ],
      "text/latex": [
       "\\begin{math}\n",
       "\\newcommand{\\Bold}[1]{\\mathbf{#1}}\\left(\\begin{array}{rrr}\n",
       "2 & 1 & 4 \\\\\n",
       "1 & 6 & 3 \\\\\n",
       "1 & 1 & 8\n",
       "\\end{array}\\right)\n",
       "\\end{math}"
      ],
      "text/plain": [
       "[2 1 4]\n",
       "[1 6 3]\n",
       "[1 1 8]"
      ]
     },
     "metadata": {},
     "output_type": "display_data"
    },
    {
     "data": {
      "text/html": [
       "<html><script type=\"math/tex; mode=display\">\\newcommand{\\Bold}[1]{\\mathbf{#1}}\\left(\\begin{array}{rrr}\n",
       "2 & 1 & 4 \\\\\n",
       "1 & 0 & 3 \\\\\n",
       "1 & 1 & 2\n",
       "\\end{array}\\right)</script></html>"
      ],
      "text/latex": [
       "\\begin{math}\n",
       "\\newcommand{\\Bold}[1]{\\mathbf{#1}}\\left(\\begin{array}{rrr}\n",
       "2 & 1 & 4 \\\\\n",
       "1 & 0 & 3 \\\\\n",
       "1 & 1 & 2\n",
       "\\end{array}\\right)\n",
       "\\end{math}"
      ],
      "text/plain": [
       "[2 1 4]\n",
       "[1 0 3]\n",
       "[1 1 2]"
      ]
     },
     "metadata": {},
     "output_type": "display_data"
    }
   ],
   "source": [
    "show(A)\n",
    "C = A.change_ring(IntegerModRing(6))\n",
    "show(C)"
   ]
  },
  {
   "cell_type": "code",
   "execution_count": 83,
   "metadata": {},
   "outputs": [
    {
     "data": {
      "text/html": [
       "<html><script type=\"math/tex; mode=display\">\\newcommand{\\Bold}[1]{\\mathbf{#1}}\\left(\\begin{array}{rrr}\n",
       "3 & 4 & 3 \\\\\n",
       "5 & 0 & 2 \\\\\n",
       "5 & 1 & 1\n",
       "\\end{array}\\right)</script></html>"
      ],
      "text/latex": [
       "\\begin{math}\n",
       "\\newcommand{\\Bold}[1]{\\mathbf{#1}}\\left(\\begin{array}{rrr}\n",
       "3 & 4 & 3 \\\\\n",
       "5 & 0 & 2 \\\\\n",
       "5 & 1 & 1\n",
       "\\end{array}\\right)\n",
       "\\end{math}"
      ],
      "text/plain": [
       "[3 4 3]\n",
       "[5 0 2]\n",
       "[5 1 1]"
      ]
     },
     "metadata": {},
     "output_type": "display_data"
    }
   ],
   "source": [
    "Ci = C.inverse(); # El cálculo se hace con los enteros módulo 6.\n",
    "show(Ci)"
   ]
  },
  {
   "cell_type": "code",
   "execution_count": 84,
   "metadata": {},
   "outputs": [
    {
     "data": {
      "text/html": [
       "<html><script type=\"math/tex; mode=display\">\\newcommand{\\Bold}[1]{\\mathbf{#1}}\\left(\\begin{array}{rrr}\n",
       "1 & 0 & 0 \\\\\n",
       "0 & 1 & 0 \\\\\n",
       "0 & 0 & 1\n",
       "\\end{array}\\right)</script></html>"
      ],
      "text/latex": [
       "\\begin{math}\n",
       "\\newcommand{\\Bold}[1]{\\mathbf{#1}}\\left(\\begin{array}{rrr}\n",
       "1 & 0 & 0 \\\\\n",
       "0 & 1 & 0 \\\\\n",
       "0 & 0 & 1\n",
       "\\end{array}\\right)\n",
       "\\end{math}"
      ],
      "text/plain": [
       "[1 0 0]\n",
       "[0 1 0]\n",
       "[0 0 1]"
      ]
     },
     "metadata": {},
     "output_type": "display_data"
    }
   ],
   "source": [
    "show(C*Ci) # Son cálculos exactos."
   ]
  },
  {
   "cell_type": "markdown",
   "metadata": {},
   "source": [
    "<h2><a name=\"aplicaciones\"></a>Algunas aplicaciones prácticas</h2>\n",
    "<p>Estudiamos algunos ejemplos de problemas reales cuyo planteamiento y posterior resolución puede conseguirse mediante sistemas de ecuaciones lineales.</p>\n",
    "\n",
    "<h3>Optimización del tráfico en una red</h3>\n",
    "<p>Se pretende averiguar cuál es la mejor forma de distribuir un flujo o tráfico dado de vehículos en cierta zona de una ciudad. Más concretamente, considérese la red de tráfico dada en el siguiente dibujo:</p>\n",
    "<p><img src=\"network.jpg\" alt=\"\" /></p>\n",
    "<p>En esta red, las letras {A, B,...,F} representan cruces o intersecciones de calles, las flechas indican la dirección en la que circulan los vehículos y los números la cantidad media de vehículos que surcan las calles en las horas punta, medidos en los puntos de entrada y salida a esa zona. Por otra parte, las variables $\\{t, u, v,\\dots, z\\}$ representan el reparto ideal del flujo de tráfico por cada calle. Se pide:</p>\n",
    "<p>a) Encontrar una relación entre las variables que permita distribuir de manera óptima el tráfico en hora punta.</p>\n",
    "<p>b) En caso de que las calles de $A$ a $B$ y de $B$ a $C$ deban cerrarse al tráfico por algún motivo, ¿cómo debería reorganizarse el tráfico?</p>\n",
    "<h4>Solución:</h4>\n",
    "<p>a) El problema se puede modelar mediante un sistema lineal de ecuaciones, asumiendo que en hora punta el flujo que entra en un vértice coincide con el flujo que sale del mismo. Así, asumiendo la notación del dibujo anterior, y traduciendo las ecuaciones que corresponden a los vértices $A,B,C,D,E,F$, tenemos el sistema</p>\n",
    "$$\\left\\lbrace \\begin{array}{rcl} 800&=& x+v\\\\ u+x&=&y+400\\\\ y&=&z+600\\\\ 1600+z&=&t+400\\\\ t&=&u+w\\\\ v+w&=&1000\\end{array}\\right. $$\n",
    "que se escribe de forma matricial como\n",
    "$$\\left[ \\begin{array}{rrrrrrr} 0&0&1&0&1&0&0\\\\ 0&1&0&0&1&-1&0\\\\ 0&0&0&0&0&1&-1\\\\ -1&0&0&0&0&0&1\\\\ -1&1&0&1&0&0&0\\\\ 0&0&1&1&0&0&0 \\end{array} \\right]\\left[ \\begin{array}{c}t\\\\ u\\\\v\\\\w\\\\x\\\\y\\\\z \\end{array}\\right]= \\left[ \\begin{array}{r} 800\\\\ 400 \\\\ 600 \\\\ -1200\\\\ 0 \\\\ 1000 \\end{array}\\right]$$"
   ]
  },
  {
   "cell_type": "code",
   "execution_count": 85,
   "metadata": {},
   "outputs": [
    {
     "data": {
      "text/html": [
       "<html><script type=\"math/tex; mode=display\">\\newcommand{\\Bold}[1]{\\mathbf{#1}}\\left(\\begin{array}{rrrrrrrr}\n",
       "0 & 0 & 1 & 0 & 1 & 0 & 0 & 800 \\\\\n",
       "0 & 1 & 0 & 0 & 1 & -1 & 0 & 400 \\\\\n",
       "0 & 0 & 0 & 0 & 0 & 1 & -1 & 600 \\\\\n",
       "-1 & 0 & 0 & 0 & 0 & 0 & 1 & -1200 \\\\\n",
       "-1 & 1 & 0 & 1 & 0 & 0 & 0 & 0 \\\\\n",
       "0 & 0 & 1 & 1 & 0 & 0 & 0 & 1000\n",
       "\\end{array}\\right)</script></html>"
      ],
      "text/latex": [
       "\\begin{math}\n",
       "\\newcommand{\\Bold}[1]{\\mathbf{#1}}\\left(\\begin{array}{rrrrrrrr}\n",
       "0 & 0 & 1 & 0 & 1 & 0 & 0 & 800 \\\\\n",
       "0 & 1 & 0 & 0 & 1 & -1 & 0 & 400 \\\\\n",
       "0 & 0 & 0 & 0 & 0 & 1 & -1 & 600 \\\\\n",
       "-1 & 0 & 0 & 0 & 0 & 0 & 1 & -1200 \\\\\n",
       "-1 & 1 & 0 & 1 & 0 & 0 & 0 & 0 \\\\\n",
       "0 & 0 & 1 & 1 & 0 & 0 & 0 & 1000\n",
       "\\end{array}\\right)\n",
       "\\end{math}"
      ],
      "text/plain": [
       "[    0     0     1     0     1     0     0   800]\n",
       "[    0     1     0     0     1    -1     0   400]\n",
       "[    0     0     0     0     0     1    -1   600]\n",
       "[   -1     0     0     0     0     0     1 -1200]\n",
       "[   -1     1     0     1     0     0     0     0]\n",
       "[    0     0     1     1     0     0     0  1000]"
      ]
     },
     "metadata": {},
     "output_type": "display_data"
    }
   ],
   "source": [
    "A = matrix(QQ,\n",
    "[\n",
    "[0, 0, 1, 0, 1, 0, 0, 800],\n",
    "[0, 1, 0, 0, 1, -1, 0, 400],\n",
    "[0, 0, 0, 0, 0, 1, -1, 600],\n",
    "[-1, 0, 0, 0, 0, 0, 1, -1200],\n",
    "[-1, 1, 0, 1, 0, 0, 0, 0],\n",
    "[0, 0, 1, 1, 0, 0, 0, 1000]\n",
    "])\n",
    "show(A)"
   ]
  },
  {
   "cell_type": "code",
   "execution_count": 4,
   "metadata": {},
   "outputs": [
    {
     "data": {
      "text/html": [
       "<html><script type=\"math/tex; mode=display\">\\newcommand{\\Bold}[1]{\\mathbf{#1}}\\left(\\begin{array}{rrrrrrr}\n",
       "1 & -1 & 0 & 0 & 0 & 0 & -1 \\\\\n",
       "0 & -\\frac{1}{2} & 1 & 0 & 0 & 0 & 0 \\\\\n",
       "0 & 0 & -3 & 1 & 0 & 0 & 0 \\\\\n",
       "0 & 0 & 0 & -1 & 9 & 10 & 0 \\\\\n",
       "1 & 1 & 1 & 1 & 1 & 1 & 24\n",
       "\\end{array}\\right)</script></html>"
      ],
      "text/latex": [
       "\\begin{math}\n",
       "\\newcommand{\\Bold}[1]{\\mathbf{#1}}\\left(\\begin{array}{rrrrrrr}\n",
       "1 & -1 & 0 & 0 & 0 & 0 & -1 \\\\\n",
       "0 & -\\frac{1}{2} & 1 & 0 & 0 & 0 & 0 \\\\\n",
       "0 & 0 & -3 & 1 & 0 & 0 & 0 \\\\\n",
       "0 & 0 & 0 & -1 & 9 & 10 & 0 \\\\\n",
       "1 & 1 & 1 & 1 & 1 & 1 & 24\n",
       "\\end{array}\\right)\n",
       "\\end{math}"
      ],
      "text/plain": [
       "[   1   -1    0    0    0    0   -1]\n",
       "[   0 -1/2    1    0    0    0    0]\n",
       "[   0    0   -3    1    0    0    0]\n",
       "[   0    0    0   -1    9   10    0]\n",
       "[   1    1    1    1    1    1   24]"
      ]
     },
     "metadata": {},
     "output_type": "display_data"
    }
   ],
   "source": [
    "A = matrix(QQ,\n",
    "[\n",
    "[1, -1, 0, 0, 0, 0, -1],\n",
    "[0, -1/2, 1, 0, 0, 0, 0],\n",
    "[0, 0, -3, 1, 0, 0, 0],\n",
    "[0, 0, 0, -1, 9, 10, 0],\n",
    "[1, 1, 1, 1, 1, 1, 24]\n",
    "])\n",
    "show(A)"
   ]
  },
  {
   "cell_type": "code",
   "execution_count": 5,
   "metadata": {},
   "outputs": [
    {
     "name": "stdout",
     "output_type": "stream",
     "text": [
      "\n",
      "Forma escalonada canónica:\n",
      "[    1     0     0     0     0 -2/75     5]\n",
      "[    0     1     0     0     0 -2/75     6]\n",
      "[    0     0     1     0     0 -1/75     3]\n",
      "[    0     0     0     1     0 -1/25     9]\n",
      "[    0     0     0     0     1 83/75     1]\n"
     ]
    }
   ],
   "source": [
    "F, U = forma_escalonada(A, True)"
   ]
  },
  {
   "cell_type": "markdown",
   "metadata": {},
   "source": [
    "<p>Resolvemos el sistema llevándolo a su forma escalonada reducida:</p>"
   ]
  },
  {
   "cell_type": "code",
   "execution_count": 86,
   "metadata": {},
   "outputs": [
    {
     "name": "stdout",
     "output_type": "stream",
     "text": [
      "\n",
      "Forma escalonada canónica:\n",
      "[   1    0    0    0    0    0   -1 1200]\n",
      "[   0    1    0    0    1    0   -1 1000]\n",
      "[   0    0    1    0    1    0    0  800]\n",
      "[   0    0    0    1   -1    0    0  200]\n",
      "[   0    0    0    0    0    1   -1  600]\n",
      "[   0    0    0    0    0    0    0    0]\n"
     ]
    }
   ],
   "source": [
    "F, U = forma_escalonada(A, True)"
   ]
  },
  {
   "cell_type": "markdown",
   "metadata": {},
   "source": [
    "<p>Tomando como variables dependientes las asociadas a los pivotes, tenemos variables independientes $x$ y $z$. Expresamos así las relaciones entre todas las variables:</p>\n",
    "<p>$$t=z+1200,\\ u=z-x+1000,\\ v=800-x,\\ w=x+200,\\ y=z+600$$</p>\n",
    "<p>b) La ausencia de tráfico entre los cruces A y B y entre B y C se expresan con  $x=y=0$. En particular, de $y=0$ se tiene que $z=-600$. Finalmente resulta:</p>\n",
    "<p>$$t=600, \\ u=400, \\ v=800, \\ w=200$$</p>\n",
    "<p>El valor negativo $z=-600$ indica que se tendría que cambiar el sentido de la calle entre C y D.</p>"
   ]
  },
  {
   "cell_type": "markdown",
   "metadata": {},
   "source": [
    "<h3>Atacando criptosistemas afines</h3>\n",
    "<p>En la antigüedad, una forma de encriptar mensajes consistía en asignar un número $x$ a cada elemento de un alfabeto de longitud $n$, tal como se muestra en la siguiente tabla (alfabeto de 29 caracteres, donde el caracter \"Ñ\" se ha sustituido por \"-\" para evitar problemas con caracteres especiales) y posteriormente transformar dicho número en otro diferente $y=ax+b$.</p>\n",
    "<p>Para que los valores transformados sean también números de la tabla y por tanto se correspondan con letras, basta trabajar con el anillo $Z_{29}$ de los enteros modulares y tomar  el parámetro $a$ y el parámetro $b$ cualesquiera números entre 0 y 28, por ser 29 un número primo; en caso contrario, debería ser el parámetro $a$ coprimo con $n$. Tales sistemas de encriptación se conocen como criptosistemas afines y como veremos a continuación son relativamente sencillos de romper, esto es, desencriptar si se dispone de un poco de información. No obstante fueron utilizados hasta finales del siglo XV.</p>\n",
    "<p> </p>\n",
    "<table border=\"0\" cellspacing=\"0\"><colgroup span=\"13\" width=\"59\"></colgroup>\n",
    "<tbody>\n",
    "<tr>\n",
    "<td style=\"border: 1px solid #000000;\" align=\"CENTER\" valign=\"TOP\" bgcolor=\"#CCCCCC\" height=\"20\"><span style=\"font-family: DejaVu Sans;\">A</span></td>\n",
    "<td style=\"border: 1px solid #000000;\" align=\"CENTER\" valign=\"TOP\" bgcolor=\"#CCCCCC\"><span style=\"font-family: DejaVu Sans;\">B</span></td>\n",
    "<td style=\"border: 1px solid #000000;\" align=\"CENTER\" valign=\"TOP\" bgcolor=\"#CCCCCC\"><span style=\"font-family: DejaVu Sans;\">C</span></td>\n",
    "<td style=\"border: 1px solid #000000;\" align=\"CENTER\" valign=\"TOP\" bgcolor=\"#CCCCCC\"><span style=\"font-family: DejaVu Sans;\">D</span></td>\n",
    "<td style=\"border: 1px solid #000000;\" align=\"CENTER\" valign=\"TOP\" bgcolor=\"#CCCCCC\"><span style=\"font-family: DejaVu Sans;\">E</span></td>\n",
    "<td style=\"border: 1px solid #000000;\" align=\"CENTER\" valign=\"TOP\" bgcolor=\"#CCCCCC\"><span style=\"font-family: DejaVu Sans;\">F</span></td>\n",
    "<td style=\"border: 1px solid #000000;\" align=\"CENTER\" valign=\"TOP\" bgcolor=\"#CCCCCC\"><span style=\"font-family: DejaVu Sans;\">G</span></td>\n",
    "<td style=\"border: 1px solid #000000;\" align=\"CENTER\" valign=\"TOP\" bgcolor=\"#CCCCCC\"><span style=\"font-family: DejaVu Sans;\">H</span></td>\n",
    "<td style=\"border: 1px solid #000000;\" align=\"CENTER\" valign=\"TOP\" bgcolor=\"#CCCCCC\"><span style=\"font-family: DejaVu Sans;\">I</span></td>\n",
    "<td style=\"border: 1px solid #000000;\" align=\"CENTER\" valign=\"TOP\" bgcolor=\"#CCCCCC\"><span style=\"font-family: DejaVu Sans;\">J</span></td>\n",
    "<td style=\"border: 1px solid #000000;\" align=\"CENTER\" valign=\"TOP\" bgcolor=\"#CCCCCC\"><span style=\"font-family: DejaVu Sans;\">K</span></td>\n",
    "<td style=\"border: 1px solid #000000;\" align=\"CENTER\" valign=\"TOP\" bgcolor=\"#CCCCCC\"><span style=\"font-family: DejaVu Sans;\">L</span></td>\n",
    "<td style=\"border: 1px solid #000000;\" align=\"CENTER\" valign=\"TOP\" bgcolor=\"#CCCCCC\"><span style=\"font-family: DejaVu Sans;\">M</span></td>\n",
    "</tr>\n",
    "<tr>\n",
    "<td style=\"border: 1px solid #000000;\" align=\"CENTER\" valign=\"TOP\" height=\"20\"><span style=\"font-family: DejaVu Sans;\">0</span></td>\n",
    "<td style=\"border: 1px solid #000000;\" align=\"CENTER\" valign=\"TOP\"><span style=\"font-family: DejaVu Sans;\">1</span></td>\n",
    "<td style=\"border: 1px solid #000000;\" align=\"CENTER\" valign=\"TOP\"><span style=\"font-family: DejaVu Sans;\">2</span></td>\n",
    "<td style=\"border: 1px solid #000000;\" align=\"CENTER\" valign=\"TOP\"><span style=\"font-family: DejaVu Sans;\">3</span></td>\n",
    "<td style=\"border: 1px solid #000000;\" align=\"CENTER\" valign=\"TOP\"><span style=\"font-family: DejaVu Sans;\">4</span></td>\n",
    "<td style=\"border: 1px solid #000000;\" align=\"CENTER\" valign=\"TOP\"><span style=\"font-family: DejaVu Sans;\">5</span></td>\n",
    "<td style=\"border: 1px solid #000000;\" align=\"CENTER\" valign=\"TOP\"><span style=\"font-family: DejaVu Sans;\">6</span></td>\n",
    "<td style=\"border: 1px solid #000000;\" align=\"CENTER\" valign=\"TOP\"><span style=\"font-family: DejaVu Sans;\">7</span></td>\n",
    "<td style=\"border: 1px solid #000000;\" align=\"CENTER\" valign=\"TOP\"><span style=\"font-family: DejaVu Sans;\">8</span></td>\n",
    "<td style=\"border: 1px solid #000000;\" align=\"CENTER\" valign=\"TOP\"><span style=\"font-family: DejaVu Sans;\">9</span></td>\n",
    "<td style=\"border: 1px solid #000000;\" align=\"CENTER\" valign=\"TOP\"><span style=\"font-family: DejaVu Sans;\">10</span></td>\n",
    "<td style=\"border: 1px solid #000000;\" align=\"CENTER\" valign=\"TOP\"><span style=\"font-family: DejaVu Sans;\">11</span></td>\n",
    "<td style=\"border: 1px solid #000000;\" align=\"CENTER\" valign=\"TOP\"><span style=\"font-family: DejaVu Sans;\">12</span></td>\n",
    "</tr>\n",
    "<tr>\n",
    "<td style=\"border: 1px solid #000000;\" align=\"CENTER\" valign=\"TOP\" bgcolor=\"#CCCCCC\" height=\"20\"><span style=\"font-family: DejaVu Sans;\">N</span></td>\n",
    "<td style=\"border: 1px solid #000000;\" align=\"CENTER\" bgcolor=\"#CCCCCC\">-</td>\n",
    "<td style=\"border: 1px solid #000000;\" align=\"CENTER\" valign=\"TOP\" bgcolor=\"#CCCCCC\"><span style=\"font-family: DejaVu Sans;\">O</span></td>\n",
    "<td style=\"border: 1px solid #000000;\" align=\"CENTER\" valign=\"TOP\" bgcolor=\"#CCCCCC\"><span style=\"font-family: DejaVu Sans;\">P</span></td>\n",
    "<td style=\"border: 1px solid #000000;\" align=\"CENTER\" valign=\"TOP\" bgcolor=\"#CCCCCC\"><span style=\"font-family: DejaVu Sans;\">Q</span></td>\n",
    "<td style=\"border: 1px solid #000000;\" align=\"CENTER\" valign=\"TOP\" bgcolor=\"#CCCCCC\"><span style=\"font-family: DejaVu Sans;\">R</span></td>\n",
    "<td style=\"border: 1px solid #000000;\" align=\"CENTER\" valign=\"TOP\" bgcolor=\"#CCCCCC\"><span style=\"font-family: DejaVu Sans;\">S</span></td>\n",
    "<td style=\"border: 1px solid #000000;\" align=\"CENTER\" valign=\"TOP\" bgcolor=\"#CCCCCC\"><span style=\"font-family: DejaVu Sans;\">T</span></td>\n",
    "<td style=\"border: 1px solid #000000;\" align=\"CENTER\" valign=\"TOP\" bgcolor=\"#CCCCCC\"><span style=\"font-family: DejaVu Sans;\">U</span></td>\n",
    "<td style=\"border: 1px solid #000000;\" align=\"CENTER\" valign=\"TOP\" bgcolor=\"#CCCCCC\"><span style=\"font-family: DejaVu Sans;\">V</span></td>\n",
    "<td style=\"border: 1px solid #000000;\" align=\"CENTER\" valign=\"TOP\" bgcolor=\"#CCCCCC\"><span style=\"font-family: DejaVu Sans;\">W</span></td>\n",
    "<td style=\"border: 1px solid #000000;\" align=\"CENTER\" valign=\"TOP\" bgcolor=\"#CCCCCC\"><span style=\"font-family: DejaVu Sans;\">X</span></td>\n",
    "<td style=\"border: 1px solid #000000;\" align=\"CENTER\" valign=\"TOP\" bgcolor=\"#CCCCCC\"><span style=\"font-family: DejaVu Sans;\">Y</span></td>\n",
    "</tr>\n",
    "<tr>\n",
    "<td style=\"border: 1px solid #000000;\" align=\"CENTER\" valign=\"TOP\" height=\"20\"><span style=\"font-family: DejaVu Sans;\">13</span></td>\n",
    "<td style=\"border: 1px solid #000000;\" align=\"CENTER\"><span style=\"font-family: DejaVu Sans;\">14</span></td>\n",
    "<td style=\"border: 1px solid #000000;\" align=\"CENTER\" valign=\"TOP\"><span style=\"font-family: DejaVu Sans;\">15</span></td>\n",
    "<td style=\"border: 1px solid #000000;\" align=\"CENTER\" valign=\"TOP\"><span style=\"font-family: DejaVu Sans;\">16</span></td>\n",
    "<td style=\"border: 1px solid #000000;\" align=\"CENTER\" valign=\"TOP\"><span style=\"font-family: DejaVu Sans;\">17</span></td>\n",
    "<td style=\"border: 1px solid #000000;\" align=\"CENTER\" valign=\"TOP\"><span style=\"font-family: DejaVu Sans;\">18</span></td>\n",
    "<td style=\"border: 1px solid #000000;\" align=\"CENTER\" valign=\"TOP\"><span style=\"font-family: DejaVu Sans;\">19</span></td>\n",
    "<td style=\"border: 1px solid #000000;\" align=\"CENTER\" valign=\"TOP\"><span style=\"font-family: DejaVu Sans;\">20</span></td>\n",
    "<td style=\"border: 1px solid #000000;\" align=\"CENTER\" valign=\"TOP\"><span style=\"font-family: DejaVu Sans;\">21</span></td>\n",
    "<td style=\"border: 1px solid #000000;\" align=\"CENTER\" valign=\"TOP\"><span style=\"font-family: DejaVu Sans;\">22</span></td>\n",
    "<td style=\"border: 1px solid #000000;\" align=\"CENTER\" valign=\"TOP\"><span style=\"font-family: DejaVu Sans;\">23</span></td>\n",
    "<td style=\"border: 1px solid #000000;\" align=\"CENTER\" valign=\"TOP\"><span style=\"font-family: DejaVu Sans;\">24</span></td>\n",
    "<td style=\"border: 1px solid #000000;\" align=\"CENTER\" valign=\"TOP\"><span style=\"font-family: DejaVu Sans;\">25</span></td>\n",
    "</tr>\n",
    "<tr>\n",
    "<td style=\"border: 1px solid #000000;\" align=\"CENTER\" bgcolor=\"#CCCCCC\" height=\"19\"><span style=\"font-family: DejaVu Sans;\">Z</span></td>\n",
    "<td style=\"border: 1px solid #000000;\" align=\"CENTER\" bgcolor=\"#CCCCCC\"><span style=\"font-family: DejaVu Sans;\">.</span></td>\n",
    "<td style=\"border: 1px solid #000000;\" align=\"CENTER\" bgcolor=\"#CCCCCC\"><span style=\"font-family: DejaVu Sans;\">_<br /></span></td>\n",
    "<td align=\"CENTER\"><span style=\"font-family: DejaVu Sans;\"><br /></span></td>\n",
    "<td align=\"CENTER\"><span style=\"font-family: DejaVu Sans;\"><br /></span></td>\n",
    "<td align=\"CENTER\"><span style=\"font-family: DejaVu Sans;\"><br /></span></td>\n",
    "<td align=\"CENTER\"><span style=\"font-family: DejaVu Sans;\"><br /></span></td>\n",
    "<td align=\"CENTER\"><span style=\"font-family: DejaVu Sans;\"><br /></span></td>\n",
    "<td align=\"CENTER\"><span style=\"font-family: DejaVu Sans;\"><br /></span></td>\n",
    "<td align=\"CENTER\"><span style=\"font-family: DejaVu Sans;\"><br /></span></td>\n",
    "<td align=\"CENTER\"><span style=\"font-family: DejaVu Sans;\"><br /></span></td>\n",
    "<td align=\"CENTER\"><span style=\"font-family: DejaVu Sans;\"><br /></span></td>\n",
    "<td align=\"CENTER\"><span style=\"font-family: DejaVu Sans;\"><br /></span></td>\n",
    "</tr>\n",
    "<tr>\n",
    "<td style=\"border: 1px solid #000000;\" align=\"CENTER\" height=\"19\"><span style=\"font-family: DejaVu Sans;\">26</span></td>\n",
    "<td style=\"border: 1px solid #000000;\" align=\"CENTER\"><span style=\"font-family: DejaVu Sans;\">27</span></td>\n",
    "<td style=\"border: 1px solid #000000;\" align=\"CENTER\"><span style=\"font-family: DejaVu Sans;\">28</span></td>\n",
    "<td align=\"CENTER\"><span style=\"font-family: DejaVu Sans;\"><br /></span></td>\n",
    "<td align=\"CENTER\"><span style=\"font-family: DejaVu Sans;\"><br /></span></td>\n",
    "<td align=\"CENTER\"><span style=\"font-family: DejaVu Sans;\"><br /></span></td>\n",
    "<td align=\"CENTER\"><span style=\"font-family: DejaVu Sans;\"><br /></span></td>\n",
    "<td align=\"CENTER\"><span style=\"font-family: DejaVu Sans;\"><br /></span></td>\n",
    "<td align=\"CENTER\"><span style=\"font-family: DejaVu Sans;\"><br /></span></td>\n",
    "<td align=\"CENTER\"><span style=\"font-family: DejaVu Sans;\"><br /></span></td>\n",
    "<td align=\"CENTER\"><span style=\"font-family: DejaVu Sans;\"><br /></span></td>\n",
    "<td align=\"CENTER\"><span style=\"font-family: DejaVu Sans;\"><br /></span></td>\n",
    "<td align=\"CENTER\"> </td>\n",
    "</tr>\n",
    "</tbody>\n",
    "</table>\n",
    "<p> </p>\n",
    "<p>Para descifrar cada letra, basta tomar $x=a^{-1} (y-b)$. De ahí la importancia de que $a$ sea coprimo con $n$, para garantizar que existe su inverso modular.</p>\n",
    "<p>a) Descifrar el texto \"NSM-YT.E\", sabiendo que la \"E\" se codifica como  \".\" y la \"N\" se codifica como una  \"E\".</p>\n",
    "<p>b) Una versión más moderna es el  <b>cifrado de Hill </b>, que usa la versión matricial de las ecuaciones anteriores: $y=Ax+b$, $x=A^{-1}(y-b)$. Descifrar el texto \"P.SPGZOHF\", sabiendo que se ha usado una matriz $A$ de orden $3$, y que los cifrados de \"SECRET\" y \"MYCODE\" son, respectivamente, \"QACNQN\" y \"OQCTZJ\". Deducir que la versión matricial no aporta realmente ninguna seguridad al método clásico, salvo  un incremento del  cálculo necesario, fácilmente computable con un ordenador.</p>\n",
    "<h4>Solución:</h4>\n",
    "<p>a) Planteamos el sistema de ecuaciones a partir de la información disponible $y_i=ax_i+b$ en las incógnitas $\\{ a, b\\}$. Una vez obtenida la solución al sistema, podemos decodificar el mensaje  utilizando $x_i=a^{-1}y_i-a^{-1}b$.  Si denotamos $A=a^{-1}$, y $B=a^{-1}b$, resulta $x_i=Ay_i-B$.</p>\n",
    "<p>Sustituyendo los valores conocidos, tenemos el sistema:</p>\n",
    "<p>$\\left.\\begin{array}{rcr} 27&=&4a &+b\\\\4&=&13a &+b  \\end{array}\\right\\}$</p>\n",
    "<p>La matriz ampliada del sistema es</p>"
   ]
  },
  {
   "cell_type": "code",
   "execution_count": 87,
   "metadata": {},
   "outputs": [
    {
     "data": {
      "text/html": [
       "<html><script type=\"math/tex; mode=display\">\\newcommand{\\Bold}[1]{\\mathbf{#1}}\\left(\\begin{array}{rrr}\n",
       "4 & 1 & 27 \\\\\n",
       "13 & 1 & 4\n",
       "\\end{array}\\right)</script></html>"
      ],
      "text/latex": [
       "\\begin{math}\n",
       "\\newcommand{\\Bold}[1]{\\mathbf{#1}}\\left(\\begin{array}{rrr}\n",
       "4 & 1 & 27 \\\\\n",
       "13 & 1 & 4\n",
       "\\end{array}\\right)\n",
       "\\end{math}"
      ],
      "text/plain": [
       "[ 4  1 27]\n",
       "[13  1  4]"
      ]
     },
     "metadata": {},
     "output_type": "display_data"
    }
   ],
   "source": [
    "M = matrix(IntegerModRing(29), [[4, 1, 27], [13, 1, 4]])\n",
    "show(M)\n"
   ]
  },
  {
   "cell_type": "markdown",
   "metadata": {},
   "source": [
    "<p>Ahora resolvemos el sistema mediante escalonamiento:</p>"
   ]
  },
  {
   "cell_type": "code",
   "execution_count": 88,
   "metadata": {},
   "outputs": [
    {
     "name": "stdout",
     "output_type": "stream",
     "text": [
      "\n",
      "Forma escalonada canónica:\n",
      "[ 1  0 20]\n",
      "[ 0  1  5]\n"
     ]
    }
   ],
   "source": [
    "F, U = forma_escalonada(M, True)"
   ]
  },
  {
   "cell_type": "markdown",
   "metadata": {},
   "source": [
    "<p>Ha resultado la siguiente solución:</p>\n",
    "<p>$a=20\\mod(29),\\ b=5\\mod(29)$</p>\n",
    "<p>A continuación procedemos a decodificar el mensaje:</p>"
   ]
  },
  {
   "cell_type": "code",
   "execution_count": 89,
   "metadata": {},
   "outputs": [
    {
     "data": {
      "text/plain": [
       "(16, 22)"
      ]
     },
     "execution_count": 89,
     "metadata": {},
     "output_type": "execute_result"
    }
   ],
   "source": [
    "a = mod(20, 29); b = mod(5, 29)\n",
    "A = a^-1; B = a^-1*b\n",
    "(A, B)\n"
   ]
  },
  {
   "cell_type": "code",
   "execution_count": 21,
   "metadata": {},
   "outputs": [],
   "source": [
    "alfabeto = \"ABCDEFGHIJKLMN-OPQRSTUVWXYZ._\""
   ]
  },
  {
   "cell_type": "code",
   "execution_count": 91,
   "metadata": {},
   "outputs": [],
   "source": [
    "mensaje_codificado = \"NSM-YT.E\""
   ]
  },
  {
   "cell_type": "code",
   "execution_count": 92,
   "metadata": {},
   "outputs": [
    {
     "data": {
      "text/plain": [
       "[13, 19, 12, 14, 25, 20, 27, 4]"
      ]
     },
     "execution_count": 92,
     "metadata": {},
     "output_type": "execute_result"
    }
   ],
   "source": [
    "cifrado_mensaje = [alfabeto.index(i) for i in mensaje_codificado]\n",
    "cifrado_mensaje"
   ]
  },
  {
   "cell_type": "code",
   "execution_count": 93,
   "metadata": {},
   "outputs": [
    {
     "data": {
      "text/plain": [
       "[12, 21, 25, 28, 1, 8, 4, 13]"
      ]
     },
     "execution_count": 93,
     "metadata": {},
     "output_type": "execute_result"
    }
   ],
   "source": [
    "descifrado_mensaje = [A*mod(y, 29) - B for y in cifrado_mensaje]\n",
    "descifrado_mensaje"
   ]
  },
  {
   "cell_type": "code",
   "execution_count": 94,
   "metadata": {},
   "outputs": [
    {
     "data": {
      "text/plain": [
       "'MUY_BIEN'"
      ]
     },
     "execution_count": 94,
     "metadata": {},
     "output_type": "execute_result"
    }
   ],
   "source": [
    "mensaje_original=\"\"\n",
    "for i in descifrado_mensaje:\n",
    "    mensaje_original = mensaje_original + alfabeto[i]\n",
    "\n",
    "mensaje_original"
   ]
  },
  {
   "cell_type": "markdown",
   "metadata": {},
   "source": [
    "<p>b) Llamemos $A=\\left( \\begin{array}{ccc} a_{11}&a_{12}&a_{13}\\\\ a_{21}&a_{22}&a_{23}\\\\ a_{31}&a_{32}&a_{33}\\end{array} \\right)$ y ${\\bf b}= \\left( \\begin{array}{c}b_1\\\\b_2\\\\b_3 \\end{array}\\right)$</p>\n",
    "<p>Si sustituimos en la ecuación ${\\bf y}=A{\\bf x}+{\\bf b}$ la información del enunciado relativa a los dos mensajes conocidos, tomando cadenas de longitud tres, y dados los siguientes valores numéricos asociados a las letras implicadas:</p>"
   ]
  },
  {
   "cell_type": "code",
   "execution_count": 95,
   "metadata": {},
   "outputs": [
    {
     "data": {
      "text/plain": [
       "[19, 4, 2, 18, 4, 20, 12, 25, 2, 15, 3, 4]"
      ]
     },
     "execution_count": 95,
     "metadata": {},
     "output_type": "execute_result"
    }
   ],
   "source": [
    "pistas = \"SECRET\"+\"MYCODE\"\n",
    "cifrado_pistas = [alfabeto.index(i) for i in pistas]\n",
    "cifrado_pistas"
   ]
  },
  {
   "cell_type": "code",
   "execution_count": 96,
   "metadata": {},
   "outputs": [
    {
     "data": {
      "text/plain": [
       "[17, 0, 2, 13, 17, 13, 15, 17, 2, 20, 26, 9]"
      ]
     },
     "execution_count": 96,
     "metadata": {},
     "output_type": "execute_result"
    }
   ],
   "source": [
    "pistas_codificadas = \"QACNQN\"+\"OQCTZJ\"\n",
    "cifrado_pistas_codificadas = [alfabeto.index(i) for i in pistas_codificadas]\n",
    "cifrado_pistas_codificadas"
   ]
  },
  {
   "cell_type": "markdown",
   "metadata": {},
   "source": [
    "<p>se obtiene el sistema:</p>\n",
    "$$\\left.\\begin{matrix}\n",
    "19a_{11}&+ 4a_{12}&+ 2a_{13}& & & & & & &+ b_1& & &=&17 \\\\\n",
    "& & & 19a_{21}&+ 4a_{22}&+ 2a_{23}& & & & &+ b_2& &=&0 \\\\\n",
    "& & & & & & 19a_{31}&+ 4a_{32}&+ 2a_{33}& & &+ b_3&=&2 \\\\\n",
    "18a_{11}&+ 4a_{12}&+ 20a_{13}& & & & & & &+ b_1& & &=&13 \\\\\n",
    "& & & 18a_{21}&+ 4a_{22}&+ 20a_{23}& & & & &+ b_2& &=&17 \\\\\n",
    "& & & & & & 18a_{31}&+ 4a_{32}&+ 20a_{33}& & &+ b_3&=&13\\\\\n",
    "12a_{11}&+ 25a_{12}&+ 2a_{13}& & & & & & &+ b_1& & &=&15 \\\\\n",
    "& & & 12a_{21}&+ 25a_{22}&+ 2a_{23}& & & & &+ b_2& &=&17 \\\\\n",
    "& & & & & & 12a_{31}&+ 25a_{32}&+ 2a_{33}& & &+ b_3&=&2\\\\\n",
    "15a_{11}&+ 3a_{12}&+ 4a_{13}& & & & & & &+ b_1& & &=&20 \\\\\n",
    "& & & 15a_{21}&+ 3a_{22}&+ 4a_{23}& & & & &+ b_2& &=&26 \\\\\n",
    "& & & & & & 15a_{31}&+ 3a_{32}&+ 4a_{33}& & &+ b_3&=&9\n",
    "\\end{matrix}\\right\\rbrace$$\n",
    "<p> Creamos la matriz ampliada de dicho sistema:</p>"
   ]
  },
  {
   "cell_type": "code",
   "execution_count": 97,
   "metadata": {},
   "outputs": [
    {
     "data": {
      "text/html": [
       "<html><script type=\"math/tex; mode=display\">\\newcommand{\\Bold}[1]{\\mathbf{#1}}\\left(\\begin{array}{rrrrrrrrrrrrr}\n",
       "19 & 4 & 2 & 0 & 0 & 0 & 0 & 0 & 0 & 1 & 0 & 0 & 17 \\\\\n",
       "0 & 0 & 0 & 19 & 4 & 2 & 0 & 0 & 0 & 0 & 1 & 0 & 0 \\\\\n",
       "0 & 0 & 0 & 0 & 0 & 0 & 19 & 4 & 2 & 0 & 0 & 1 & 2 \\\\\n",
       "18 & 4 & 20 & 0 & 0 & 0 & 0 & 0 & 0 & 1 & 0 & 0 & 13 \\\\\n",
       "0 & 0 & 0 & 18 & 4 & 20 & 0 & 0 & 0 & 0 & 1 & 0 & 17 \\\\\n",
       "0 & 0 & 0 & 0 & 0 & 0 & 18 & 4 & 20 & 0 & 0 & 1 & 13 \\\\\n",
       "12 & 25 & 2 & 0 & 0 & 0 & 0 & 0 & 0 & 1 & 0 & 0 & 15 \\\\\n",
       "0 & 0 & 0 & 12 & 25 & 2 & 0 & 0 & 0 & 0 & 1 & 0 & 17 \\\\\n",
       "0 & 0 & 0 & 0 & 0 & 0 & 12 & 25 & 2 & 0 & 0 & 1 & 2 \\\\\n",
       "15 & 3 & 4 & 0 & 0 & 0 & 0 & 0 & 0 & 1 & 0 & 0 & 20 \\\\\n",
       "0 & 0 & 0 & 15 & 3 & 4 & 0 & 0 & 0 & 0 & 1 & 0 & 26 \\\\\n",
       "0 & 0 & 0 & 0 & 0 & 0 & 15 & 3 & 4 & 0 & 0 & 1 & 9\n",
       "\\end{array}\\right)</script></html>"
      ],
      "text/latex": [
       "\\begin{math}\n",
       "\\newcommand{\\Bold}[1]{\\mathbf{#1}}\\left(\\begin{array}{rrrrrrrrrrrrr}\n",
       "19 & 4 & 2 & 0 & 0 & 0 & 0 & 0 & 0 & 1 & 0 & 0 & 17 \\\\\n",
       "0 & 0 & 0 & 19 & 4 & 2 & 0 & 0 & 0 & 0 & 1 & 0 & 0 \\\\\n",
       "0 & 0 & 0 & 0 & 0 & 0 & 19 & 4 & 2 & 0 & 0 & 1 & 2 \\\\\n",
       "18 & 4 & 20 & 0 & 0 & 0 & 0 & 0 & 0 & 1 & 0 & 0 & 13 \\\\\n",
       "0 & 0 & 0 & 18 & 4 & 20 & 0 & 0 & 0 & 0 & 1 & 0 & 17 \\\\\n",
       "0 & 0 & 0 & 0 & 0 & 0 & 18 & 4 & 20 & 0 & 0 & 1 & 13 \\\\\n",
       "12 & 25 & 2 & 0 & 0 & 0 & 0 & 0 & 0 & 1 & 0 & 0 & 15 \\\\\n",
       "0 & 0 & 0 & 12 & 25 & 2 & 0 & 0 & 0 & 0 & 1 & 0 & 17 \\\\\n",
       "0 & 0 & 0 & 0 & 0 & 0 & 12 & 25 & 2 & 0 & 0 & 1 & 2 \\\\\n",
       "15 & 3 & 4 & 0 & 0 & 0 & 0 & 0 & 0 & 1 & 0 & 0 & 20 \\\\\n",
       "0 & 0 & 0 & 15 & 3 & 4 & 0 & 0 & 0 & 0 & 1 & 0 & 26 \\\\\n",
       "0 & 0 & 0 & 0 & 0 & 0 & 15 & 3 & 4 & 0 & 0 & 1 & 9\n",
       "\\end{array}\\right)\n",
       "\\end{math}"
      ],
      "text/plain": [
       "[19  4  2  0  0  0  0  0  0  1  0  0 17]\n",
       "[ 0  0  0 19  4  2  0  0  0  0  1  0  0]\n",
       "[ 0  0  0  0  0  0 19  4  2  0  0  1  2]\n",
       "[18  4 20  0  0  0  0  0  0  1  0  0 13]\n",
       "[ 0  0  0 18  4 20  0  0  0  0  1  0 17]\n",
       "[ 0  0  0  0  0  0 18  4 20  0  0  1 13]\n",
       "[12 25  2  0  0  0  0  0  0  1  0  0 15]\n",
       "[ 0  0  0 12 25  2  0  0  0  0  1  0 17]\n",
       "[ 0  0  0  0  0  0 12 25  2  0  0  1  2]\n",
       "[15  3  4  0  0  0  0  0  0  1  0  0 20]\n",
       "[ 0  0  0 15  3  4  0  0  0  0  1  0 26]\n",
       "[ 0  0  0  0  0  0 15  3  4  0  0  1  9]"
      ]
     },
     "metadata": {},
     "output_type": "display_data"
    }
   ],
   "source": [
    "M = matrix(IntegerModRing(29),\n",
    "[\n",
    "[19, 4, 2, 0, 0, 0, 0, 0, 0, 1, 0, 0],\n",
    "[0, 0, 0, 19, 4, 2, 0, 0, 0, 0, 1, 0],\n",
    "[0, 0, 0, 0, 0, 0, 19, 4, 2, 0, 0, 1],\n",
    "[18, 4, 20, 0, 0, 0, 0, 0, 0, 1, 0, 0],\n",
    "[0, 0, 0, 18, 4, 20, 0, 0, 0, 0, 1, 0],\n",
    "[0, 0, 0, 0, 0, 0, 18, 4, 20, 0, 0, 1],\n",
    "[12, 25, 2, 0, 0, 0, 0, 0, 0, 1, 0, 0],\n",
    "[0, 0, 0, 12, 25, 2, 0, 0, 0, 0, 1, 0],\n",
    "[0, 0, 0, 0, 0, 0, 12, 25, 2, 0, 0, 1],\n",
    "[15, 3, 4, 0, 0, 0, 0, 0, 0, 1, 0, 0],\n",
    "[0, 0, 0, 15, 3, 4, 0, 0, 0, 0, 1, 0],\n",
    "[0, 0, 0, 0, 0, 0, 15, 3, 4, 0, 0, 1]\n",
    "]).augment(column_matrix(IntegerModRing(29),cifrado_pistas_codificadas))\n",
    "show(M)"
   ]
  },
  {
   "cell_type": "markdown",
   "metadata": {},
   "source": [
    "<p>Ahora intentamos resolver el sistema mediante escalonamiento:</p>"
   ]
  },
  {
   "cell_type": "code",
   "execution_count": 98,
   "metadata": {},
   "outputs": [
    {
     "name": "stdout",
     "output_type": "stream",
     "text": [
      "\n",
      "Forma escalonada canónica:\n",
      "[ 1  0  0  0  0  0  0  0  0  0  0  0 10]\n",
      "[ 0  1  0  0  0  0  0  0  0  0  0  0  6]\n",
      "[ 0  0  1  0  0  0  0  0  0  0  0  0 10]\n",
      "[ 0  0  0  1  0  0  0  0  0  0  0  0  5]\n",
      "[ 0  0  0  0  1  0  0  0  0  0  0  0  8]\n",
      "[ 0  0  0  0  0  1  0  0  0  0  0  0 27]\n",
      "[ 0  0  0  0  0  0  1  0  0  0  0  0 20]\n",
      "[ 0  0  0  0  0  0  0  1  0  0  0  0 26]\n",
      "[ 0  0  0  0  0  0  0  0  1  0  0  0 13]\n",
      "[ 0  0  0  0  0  0  0  0  0  1  0  0 15]\n",
      "[ 0  0  0  0  0  0  0  0  0  0  1  0 22]\n",
      "[ 0  0  0  0  0  0  0  0  0  0  0  1 14]\n"
     ]
    }
   ],
   "source": [
    "F, U = forma_escalonada(M, True)"
   ]
  },
  {
   "cell_type": "markdown",
   "metadata": {},
   "source": [
    "<p>Construimos la matriz $A$ y el vector $b$ soluciones del sistema anterior:</p>"
   ]
  },
  {
   "cell_type": "code",
   "execution_count": 99,
   "metadata": {},
   "outputs": [
    {
     "data": {
      "text/html": [
       "<html><script type=\"math/tex; mode=display\">\\newcommand{\\Bold}[1]{\\mathbf{#1}}\\left(\\begin{array}{rrr}\n",
       "10 & 6 & 10 \\\\\n",
       "5 & 8 & 27 \\\\\n",
       "20 & 26 & 13\n",
       "\\end{array}\\right)</script></html>"
      ],
      "text/latex": [
       "\\begin{math}\n",
       "\\newcommand{\\Bold}[1]{\\mathbf{#1}}\\left(\\begin{array}{rrr}\n",
       "10 & 6 & 10 \\\\\n",
       "5 & 8 & 27 \\\\\n",
       "20 & 26 & 13\n",
       "\\end{array}\\right)\n",
       "\\end{math}"
      ],
      "text/plain": [
       "[10  6 10]\n",
       "[ 5  8 27]\n",
       "[20 26 13]"
      ]
     },
     "metadata": {},
     "output_type": "display_data"
    },
    {
     "data": {
      "text/html": [
       "<html><script type=\"math/tex; mode=display\">\\newcommand{\\Bold}[1]{\\mathbf{#1}}\\left(15,\\,22,\\,14\\right)</script></html>"
      ],
      "text/latex": [
       "\\begin{math}\n",
       "\\newcommand{\\Bold}[1]{\\mathbf{#1}}\\left(15,\\,22,\\,14\\right)\n",
       "\\end{math}"
      ],
      "text/plain": [
       "(15, 22, 14)"
      ]
     },
     "metadata": {},
     "output_type": "display_data"
    }
   ],
   "source": [
    "A = matrix(IntegerModRing(29), 3, 3, list(U.column(12)[0:9]))\n",
    "show(A)\n",
    "b = vector(IntegerModRing(29), list(U.column(12)[9:]))\n",
    "show(b)"
   ]
  },
  {
   "cell_type": "code",
   "execution_count": 100,
   "metadata": {},
   "outputs": [
    {
     "data": {
      "text/html": [
       "<html><script type=\"math/tex; mode=display\">\\newcommand{\\Bold}[1]{\\mathbf{#1}}\\left(\\begin{array}{rrr}\n",
       "24 & 28 & 26 \\\\\n",
       "24 & 16 & 13 \\\\\n",
       "11 & 3 & 1\n",
       "\\end{array}\\right)</script></html>"
      ],
      "text/latex": [
       "\\begin{math}\n",
       "\\newcommand{\\Bold}[1]{\\mathbf{#1}}\\left(\\begin{array}{rrr}\n",
       "24 & 28 & 26 \\\\\n",
       "24 & 16 & 13 \\\\\n",
       "11 & 3 & 1\n",
       "\\end{array}\\right)\n",
       "\\end{math}"
      ],
      "text/plain": [
       "[24 28 26]\n",
       "[24 16 13]\n",
       "[11  3  1]"
      ]
     },
     "metadata": {},
     "output_type": "display_data"
    }
   ],
   "source": [
    "Ai = A.inverse()\n",
    "show(Ai)"
   ]
  },
  {
   "cell_type": "markdown",
   "metadata": {},
   "source": [
    "<p>Ahora ya tenemos todos los cálculos requeridos para poder desencriptar el código proporcionado:</p>"
   ]
  },
  {
   "cell_type": "code",
   "execution_count": 101,
   "metadata": {},
   "outputs": [],
   "source": [
    "mensaje_codificado = \"P.SPGZOHF\""
   ]
  },
  {
   "cell_type": "code",
   "execution_count": 102,
   "metadata": {},
   "outputs": [
    {
     "data": {
      "text/plain": [
       "[16, 27, 19, 16, 6, 26, 15, 7, 5]"
      ]
     },
     "execution_count": 102,
     "metadata": {},
     "output_type": "execute_result"
    }
   ],
   "source": [
    "cifrado_mensaje = [alfabeto.index(i) for i in mensaje_codificado]\n",
    "cifrado_mensaje"
   ]
  },
  {
   "cell_type": "markdown",
   "metadata": {},
   "source": [
    "<p>Ahora ya podemos descifrar el texto \"P.SPGZOHF\", que es la suma de las cadenas \"P.S\" , \"PGZ\" y \"OHF\", las cuales se corresponden, según el alfabeto, con los vectores</p>\n",
    "<p>$y_1=(16,27,19)$ , $y_2=(16,6,26)$, $y_3=(15,7,5)$</p>\n",
    "<p>Los correspondientes $x_i=A^{-1}(y_i-b)$ se obtienen a continuación:</p>"
   ]
  },
  {
   "cell_type": "code",
   "execution_count": 103,
   "metadata": {},
   "outputs": [
    {
     "data": {
      "text/plain": [
       "[4, 24, 2]"
      ]
     },
     "execution_count": 103,
     "metadata": {},
     "output_type": "execute_result"
    }
   ],
   "source": [
    "x1 = list(Ai*(vector(IntegerModRing(29),cifrado_mensaje[0:3])-b))\n",
    "x1\n"
   ]
  },
  {
   "cell_type": "code",
   "execution_count": 104,
   "metadata": {},
   "outputs": [
    {
     "data": {
      "text/plain": [
       "[4, 11, 4]"
      ]
     },
     "execution_count": 104,
     "metadata": {},
     "output_type": "execute_result"
    }
   ],
   "source": [
    "x2 = list(Ai*(vector(IntegerModRing(29),cifrado_mensaje[3:6])-b))\n",
    "x2"
   ]
  },
  {
   "cell_type": "code",
   "execution_count": 105,
   "metadata": {},
   "outputs": [
    {
     "data": {
      "text/plain": [
       "[13, 20, 4]"
      ]
     },
     "execution_count": 105,
     "metadata": {},
     "output_type": "execute_result"
    }
   ],
   "source": [
    "x3 = list(Ai*(vector(IntegerModRing(29),cifrado_mensaje[6:9])-b))\n",
    "x3"
   ]
  },
  {
   "cell_type": "code",
   "execution_count": 106,
   "metadata": {},
   "outputs": [
    {
     "data": {
      "text/plain": [
       "[4, 24, 2, 4, 11, 4, 13, 20, 4]"
      ]
     },
     "execution_count": 106,
     "metadata": {},
     "output_type": "execute_result"
    }
   ],
   "source": [
    "descifrado_mensaje = x1 + x2 + x3\n",
    "descifrado_mensaje"
   ]
  },
  {
   "cell_type": "code",
   "execution_count": 107,
   "metadata": {},
   "outputs": [
    {
     "data": {
      "text/plain": [
       "'EXCELENTE'"
      ]
     },
     "execution_count": 107,
     "metadata": {},
     "output_type": "execute_result"
    }
   ],
   "source": [
    "mensaje_original = \"\"\n",
    "for i in descifrado_mensaje:\n",
    "    mensaje_original = mensaje_original + alfabeto[i]\n",
    "\n",
    "mensaje_original"
   ]
  },
  {
   "cell_type": "markdown",
   "metadata": {},
   "source": [
    "<h3> </h3>\n",
    "<h2>Construcción de cuadrados mágicos</h2>\n",
    "<p>Un cuadrado mágico de tamaño $n$ consiste en una matriz cuadrada de orden $n$ cuyas entradas son todos los enteros desde 1 hasta $n^2$, con la propiedad adicional de que la suma de cada fila, columna o diagonal es la misma constante.</p>\n",
    "<p>De la fórmula</p>\n",
    "<p>$$1+2+3+\\cdots + N=\\frac{N(N+1)}{2}$$</p>\n",
    "<p>aplicada con $N=n^2$, deducimos que la suma de todas las entradas de un cuadrado mágico de tamaño $n$ debe ser $\\frac{n^2(n^2+1)}{2}$.Como las $n$ filas deben sumar igual, cada fila debe tener como suma el número anterior dividido entre $n$, o sea: $\\frac{n(n^2+1)}{2}$.</p>\n",
    "<p>Considérese el caso de $n=2$,</p>\n",
    "\n",
    "<table border=\"1\" cellpadding=\"2\">\n",
    "<tbody>\n",
    "<tr>\n",
    "<td>a</td>\n",
    "<td>b</td>\n",
    "</tr>\n",
    "<tr>\n",
    "<td>c</td>\n",
    "<td>d</td>\n",
    "</tr>\n",
    "</tbody>\n",
    "</table>\n",
    "\n",
    "<p>Para que los parámetros den un cuadrado mágico, además de ser los números 1,2,3,4, deben satisfacer el siguiente sistema de ecuaciones:</p>\n",
    "$$\\left\\lbrace \\begin{eqnarray}a + b &=5 \\\\c + d & = 5 \\\\ a+c &=5 \\\\ b+ d &= 5 \\\\ a+d &=5 \\\\ b + c &=5\\end{eqnarray}\\right.$$\n",
    "<p>Para el caso $n=3$, un cuadrado mágico genérico tendría la forma</p>\n",
    "<table border=\"1\" cellpadding=\"2\">\n",
    "<tbody>\n",
    "<tr>\n",
    "<td>a</td>\n",
    "<td>b</td>\n",
    "<td>c</td>\n",
    "</tr>\n",
    "<tr>\n",
    "<td>d</td>\n",
    "<td>e</td>\n",
    "<td>f</td>\n",
    "</tr>\n",
    "<tr>\n",
    "<td>g</td>\n",
    "<td>h</td>\n",
    "<td>i</td>\n",
    "</tr>\n",
    "</tbody>\n",
    "</table>\n",
    "<p>En este caso, se tendría que satisfacer el sistema de ecuaciones siguiente:</p>\n",
    "$$\\left\\lbrace \\begin{eqnarray}a+b+c = 15\\\\d +e +f = 15\\\\g + h + i = 15\\\\a  + d + g = 15\\\\b + e + h = 15\\\\c + f + i = 15\\\\a + e + i = 15\\\\c + e + g = 15\\\\\\end{eqnarray}\\right.$$\n",
    "<p> </p>\n",
    "<p>Se pide:</p>\n",
    "<p>a) Mediante transformaciones elementales por filas, encontrar la solución del sistema para $n=2$. Deducir que no existen cuadrados mágicos para $n=2$.</p>\n",
    "<p>b) Encontrar la solución general del sistema para el caso $n=3$. Dar explícitamente un cuadrado mágico que sea solución particular del sistema.</p>\n",
    "<h4>Solución:</h4>\n",
    "<p>a) Montamos el sistema correspondiente al cuadrado mágico de orden 2</p>"
   ]
  },
  {
   "cell_type": "code",
   "execution_count": 108,
   "metadata": {},
   "outputs": [
    {
     "data": {
      "text/html": [
       "<html><script type=\"math/tex; mode=display\">\\newcommand{\\Bold}[1]{\\mathbf{#1}}\\left(\\begin{array}{rrrrr}\n",
       "1 & 1 & 0 & 0 & 5 \\\\\n",
       "0 & 0 & 1 & 1 & 5 \\\\\n",
       "1 & 0 & 1 & 0 & 5 \\\\\n",
       "0 & 1 & 0 & 1 & 5 \\\\\n",
       "1 & 0 & 0 & 1 & 5 \\\\\n",
       "0 & 1 & 1 & 0 & 5\n",
       "\\end{array}\\right)</script></html>"
      ],
      "text/latex": [
       "\\begin{math}\n",
       "\\newcommand{\\Bold}[1]{\\mathbf{#1}}\\left(\\begin{array}{rrrrr}\n",
       "1 & 1 & 0 & 0 & 5 \\\\\n",
       "0 & 0 & 1 & 1 & 5 \\\\\n",
       "1 & 0 & 1 & 0 & 5 \\\\\n",
       "0 & 1 & 0 & 1 & 5 \\\\\n",
       "1 & 0 & 0 & 1 & 5 \\\\\n",
       "0 & 1 & 1 & 0 & 5\n",
       "\\end{array}\\right)\n",
       "\\end{math}"
      ],
      "text/plain": [
       "[1 1 0 0 5]\n",
       "[0 0 1 1 5]\n",
       "[1 0 1 0 5]\n",
       "[0 1 0 1 5]\n",
       "[1 0 0 1 5]\n",
       "[0 1 1 0 5]"
      ]
     },
     "metadata": {},
     "output_type": "display_data"
    }
   ],
   "source": [
    "A = matrix(QQ, [\n",
    "[1, 1, 0, 0, 5],\n",
    "[0, 0, 1, 1, 5],\n",
    "[1, 0, 1, 0, 5],\n",
    "[0, 1, 0, 1, 5],\n",
    "[1, 0, 0, 1, 5],\n",
    "[0, 1, 1, 0, 5]\n",
    "])\n",
    "show(A)"
   ]
  },
  {
   "cell_type": "code",
   "execution_count": 109,
   "metadata": {},
   "outputs": [
    {
     "name": "stdout",
     "output_type": "stream",
     "text": [
      "\n",
      "Forma escalonada canónica:\n",
      "[  1   0   0   0 5/2]\n",
      "[  0   1   0   0 5/2]\n",
      "[  0   0   1   0 5/2]\n",
      "[  0   0   0   1 5/2]\n",
      "[  0   0   0   0   0]\n",
      "[  0   0   0   0   0]\n"
     ]
    }
   ],
   "source": [
    "F, U = forma_escalonada(A, True)"
   ]
  },
  {
   "cell_type": "markdown",
   "metadata": {},
   "source": [
    "<p>De donde este sistema tiene un a única solución: $a=5/2, b=5/2, c=5/2, d=5/2$, pero no es formada por enteros. Por tanto no existen cuadrados mágicos de orden 2.</p>\n",
    "<p>b) El sistema correspondiente a cuadrados mágicos de orden 3 es:</p>"
   ]
  },
  {
   "cell_type": "code",
   "execution_count": 110,
   "metadata": {},
   "outputs": [
    {
     "data": {
      "text/html": [
       "<html><script type=\"math/tex; mode=display\">\\newcommand{\\Bold}[1]{\\mathbf{#1}}\\left(\\begin{array}{rrrrrrrrrr}\n",
       "1 & 1 & 1 & 0 & 0 & 0 & 0 & 0 & 0 & 15 \\\\\n",
       "0 & 0 & 0 & 1 & 1 & 1 & 0 & 0 & 0 & 15 \\\\\n",
       "0 & 0 & 0 & 0 & 0 & 0 & 1 & 1 & 1 & 15 \\\\\n",
       "1 & 0 & 0 & 1 & 0 & 0 & 1 & 0 & 0 & 15 \\\\\n",
       "0 & 1 & 0 & 0 & 1 & 0 & 0 & 1 & 0 & 15 \\\\\n",
       "0 & 0 & 1 & 0 & 0 & 1 & 0 & 0 & 1 & 15 \\\\\n",
       "1 & 0 & 0 & 0 & 1 & 0 & 0 & 0 & 1 & 15 \\\\\n",
       "0 & 0 & 1 & 0 & 1 & 0 & 1 & 0 & 0 & 15\n",
       "\\end{array}\\right)</script></html>"
      ],
      "text/latex": [
       "\\begin{math}\n",
       "\\newcommand{\\Bold}[1]{\\mathbf{#1}}\\left(\\begin{array}{rrrrrrrrrr}\n",
       "1 & 1 & 1 & 0 & 0 & 0 & 0 & 0 & 0 & 15 \\\\\n",
       "0 & 0 & 0 & 1 & 1 & 1 & 0 & 0 & 0 & 15 \\\\\n",
       "0 & 0 & 0 & 0 & 0 & 0 & 1 & 1 & 1 & 15 \\\\\n",
       "1 & 0 & 0 & 1 & 0 & 0 & 1 & 0 & 0 & 15 \\\\\n",
       "0 & 1 & 0 & 0 & 1 & 0 & 0 & 1 & 0 & 15 \\\\\n",
       "0 & 0 & 1 & 0 & 0 & 1 & 0 & 0 & 1 & 15 \\\\\n",
       "1 & 0 & 0 & 0 & 1 & 0 & 0 & 0 & 1 & 15 \\\\\n",
       "0 & 0 & 1 & 0 & 1 & 0 & 1 & 0 & 0 & 15\n",
       "\\end{array}\\right)\n",
       "\\end{math}"
      ],
      "text/plain": [
       "[ 1  1  1  0  0  0  0  0  0 15]\n",
       "[ 0  0  0  1  1  1  0  0  0 15]\n",
       "[ 0  0  0  0  0  0  1  1  1 15]\n",
       "[ 1  0  0  1  0  0  1  0  0 15]\n",
       "[ 0  1  0  0  1  0  0  1  0 15]\n",
       "[ 0  0  1  0  0  1  0  0  1 15]\n",
       "[ 1  0  0  0  1  0  0  0  1 15]\n",
       "[ 0  0  1  0  1  0  1  0  0 15]"
      ]
     },
     "metadata": {},
     "output_type": "display_data"
    }
   ],
   "source": [
    "A = matrix(QQ,\n",
    "[\n",
    "[1, 1, 1, 0, 0, 0, 0, 0, 0, 15],\n",
    "[0, 0, 0, 1, 1, 1, 0, 0, 0, 15],\n",
    "[0, 0, 0, 0, 0, 0, 1, 1, 1, 15],\n",
    "[1, 0, 0, 1, 0, 0, 1, 0, 0, 15],\n",
    "[0, 1, 0, 0, 1, 0, 0, 1, 0, 15],\n",
    "[0, 0, 1, 0, 0, 1, 0, 0, 1, 15],\n",
    "[1, 0, 0, 0, 1, 0, 0, 0, 1, 15],\n",
    "[0, 0, 1, 0, 1, 0, 1, 0, 0, 15]\n",
    "])\n",
    "show(A)"
   ]
  },
  {
   "cell_type": "code",
   "execution_count": 111,
   "metadata": {},
   "outputs": [
    {
     "name": "stdout",
     "output_type": "stream",
     "text": [
      "\n",
      "Forma escalonada canónica:\n",
      "[  1   0   0   0   0   0   0   0   1  10]\n",
      "[  0   1   0   0   0   0   0   1   0  10]\n",
      "[  0   0   1   0   0   0   0  -1  -1  -5]\n",
      "[  0   0   0   1   0   0   0  -1  -2 -10]\n",
      "[  0   0   0   0   1   0   0   0   0   5]\n",
      "[  0   0   0   0   0   1   0   1   2  20]\n",
      "[  0   0   0   0   0   0   1   1   1  15]\n",
      "[  0   0   0   0   0   0   0   0   0   0]\n"
     ]
    }
   ],
   "source": [
    "F, U = forma_escalonada(A, True)"
   ]
  },
  {
   "cell_type": "markdown",
   "metadata": {},
   "source": [
    "<p>El sistema es equivalente a</p>\n",
    "$$\\begin{align}a&=10-i,\\\\ b&=10-h,\\\\ c&=h+i-5,\\\\ d&=h+2i-10,\\\\ e&=5,\\\\ f&=20-h-2i,\\\\ g&=15-h-i\\end{align}$$\n",
    "<p>Además $h$ e $i$ deben ser enteros distintos, entre $1$ y $9$. Podemos listar las 56 posibilidades (81 parejas $(h,i)$ con $1 \\leq h,i \\leq 9$, menos las parejas del tipo $(k,k)$ con dos entradas iguales, $1 \\leq k \\leq 9$, menos 8 entradas del tipo $(5,\\ast)$, menos 8 entradas del tipo $(\\ast,5)$), y descartar de entre ellas aquellas en las que las variables $a,b,c,d,e,f,g,h,i$ no tomen el abanico completo de valores comprendidos entre $1$ y $9$.</p>"
   ]
  },
  {
   "cell_type": "code",
   "execution_count": 112,
   "metadata": {},
   "outputs": [
    {
     "name": "stdout",
     "output_type": "stream",
     "text": [
      "Encontrada solución para el par (h, i): (h,i) = (1,6).\n",
      "Encontrada solución para el par (h, i): (h,i) = (1,8).\n",
      "Encontrada solución para el par (h, i): (h,i) = (3,4).\n",
      "Encontrada solución para el par (h, i): (h,i) = (3,8).\n",
      "Encontrada solución para el par (h, i): (h,i) = (7,2).\n",
      "Encontrada solución para el par (h, i): (h,i) = (7,6).\n",
      "Encontrada solución para el par (h, i): (h,i) = (9,2).\n",
      "Encontrada solución para el par (h, i): (h,i) = (9,4).\n"
     ]
    }
   ],
   "source": [
    "for h in [1, 2, 3, 4, 6, 7, 8, 9]:\n",
    "    for i in [1, 2, 3, 4, 6, 7, 8, 9]:\n",
    "        if h != i:\n",
    "            S = set([10 - i, 10 - h, h + i - 5, h + 2*i - 10, 5, 20 - h - 2*i, 15 - h - i, h, i])\n",
    "            if S == set([1, 2, 3, 4, 5, 6, 7, 8, 9]):\n",
    "                print(\"Encontrada solución para el par (h, i): (h,i) = (%d,%d).\"%(h,i))"
   ]
  },
  {
   "cell_type": "markdown",
   "metadata": {},
   "source": [
    "<p>Por ejemplo, tomemos el par $(h,i)=(1,6)$, y resulta la matriz con valores:</p>"
   ]
  },
  {
   "cell_type": "code",
   "execution_count": 113,
   "metadata": {},
   "outputs": [
    {
     "data": {
      "text/plain": [
       "[4, 9, 2, 3, 5, 7, 8, 1, 6]"
      ]
     },
     "execution_count": 113,
     "metadata": {},
     "output_type": "execute_result"
    }
   ],
   "source": [
    "h = 1; i = 6\n",
    "valores = [10 - i, 10 - h, h + i - 5, h + 2*i - 10, 5, 20 - h - 2*i, 15 - h - i, h, i]\n",
    "valores"
   ]
  },
  {
   "cell_type": "code",
   "execution_count": 114,
   "metadata": {},
   "outputs": [
    {
     "data": {
      "text/html": [
       "<html><script type=\"math/tex; mode=display\">\\newcommand{\\Bold}[1]{\\mathbf{#1}}\\left(\\begin{array}{rrr}\n",
       "4 & 9 & 2 \\\\\n",
       "3 & 5 & 7 \\\\\n",
       "8 & 1 & 6\n",
       "\\end{array}\\right)</script></html>"
      ],
      "text/latex": [
       "\\begin{math}\n",
       "\\newcommand{\\Bold}[1]{\\mathbf{#1}}\\left(\\begin{array}{rrr}\n",
       "4 & 9 & 2 \\\\\n",
       "3 & 5 & 7 \\\\\n",
       "8 & 1 & 6\n",
       "\\end{array}\\right)\n",
       "\\end{math}"
      ],
      "text/plain": [
       "[4 9 2]\n",
       "[3 5 7]\n",
       "[8 1 6]"
      ]
     },
     "metadata": {},
     "output_type": "display_data"
    }
   ],
   "source": [
    "cuadrado_magico_3 = matrix(3,valores)\n",
    "show(cuadrado_magico_3)"
   ]
  },
  {
   "cell_type": "markdown",
   "metadata": {},
   "source": [
    "<h3><a name=\"cuestionario\"></a></h3>\n",
    "<h3>CUESTIONARIO PARA EL ALUMNADO</h3>\n",
    "<p><span id=\"cell_outer_0\">Asigna a la variable NUMERO_CUESTIONARIO, que aparece más abajo, el número correspondiente a tu cuestionario y ejecuta la celda (*Shift* + *Enter* desde dentro de la celda). Accederás a un cuestionario con respuestas tipo test que se entregarán antes de finalizar esta sesión práctica, siguiendo las instrucciones del profesorado.</span></p>"
   ]
  },
  {
   "cell_type": "code",
   "execution_count": 2,
   "metadata": {},
   "outputs": [
    {
     "data": {
      "text/html": [
       "<center><h4>E.T.S.I.I. - GRADOS EN INGENIERÍA INFORMÁTICA</h4></center><center><h4>Álgebra Lineal y Numérica - PRIMERA PRÁCTICA DE LABORATORIO</h4></center><hr  align=center><center>APELLIDOS, NOMBRE: <INPUT value= \"\",type=text size=70> <INPUT type=submit value=167-64375><hr  align=center></center><hr  align=center><b> <span style=\"color: #0000ff;\">EJERCICIO 1 </span></b><br> Sean las matrices <script type=\"math/tex; mode=display\">A=\\left(\\begin{array}{rrr} -1 & 1 & \\frac{1}{4} \\\\ 2 & 1 & 0 \\\\ 3 & 0 & -\\frac{1}{4}\\end{array}\\right)\\quad S=\\left(\\begin{array}{rrr} 3 & 1 & 0 \\\\ 6 & 2 & 1 \\\\ -1 & -\\frac{1}{3} & 2\\end{array}\\right)</script>\n",
       " y vectores <script type=\"math/tex; mode=display\">b=\\left(\\begin{array}{r} 0 \\\\ 3 \\\\ 3\\end{array}\\right)\\quad t=\\left(\\begin{array}{r} 3 \\\\ 5 \\\\ -3\\end{array}\\right)</script> Se pide:<ol><li>Calcular <script type=\"math/tex\">(S-S^t)^2</script>.</li><li>Estudiar el rango de las matrices <script type=\"math/tex\">B=(A-A^t)^2</script> y <script type=\"math/tex\">C=(S+S^t)^2</script>.</li><li>Hallar el conjunto de soluciones del sistema de ecuaciones lineales <script type=\"math/tex\">Ax=b</script>.</li><li>Hallar el conjunto de soluciones del sistema de ecuaciones lineales <script type=\"math/tex\">Sx=b</script>.</li><li>Hallar el conjunto de soluciones del sistema de ecuaciones lineales <script type=\"math/tex\">Sx=t</script>.</li></ol>Marcar la respuesta correcta.<br><hr  align=center><b> <span style=\"color: #ff0000;\">Respuesta al apartado 1 </span></b><br><br> <table style=\" width:100%\"> <tr> <td style=\"border:none; text-align:left\">1.<input type=checkbox> <script type=\"math/tex\">\\left(\\begin{array}{rrr} -\\frac{41}{4} & 0 & 0 \\\\ 0 & -4 & -5 \\\\ 0 & -5 & -\\frac{25}{4}\\end{array}\\right)</script>    </td> <td style=\"border:none; text-align:left\">2.<input type=checkbox> <script type=\"math/tex\">\\left(\\begin{array}{rrr} -26 & -\\frac{4}{3} & -\\frac{20}{3} \\\\ -\\frac{4}{3} & -\\frac{241}{9} & 5 \\\\ -\\frac{20}{3} & 5 & -\\frac{25}{9}\\end{array}\\right)</script>    </td> </tr> <tr> <td style=\"border:none; text-align:left\">3.<input type=checkbox> <script type=\"math/tex\">\\left(\\begin{array}{rrr} \\frac{113}{4} & 0 & -\\frac{35}{2} \\\\ 0 & 4 & 0 \\\\ -\\frac{35}{2} & 0 & \\frac{53}{4}\\end{array}\\right)</script>    </td> <td style=\"border:none; text-align:left\">4.<input type=checkbox> <script type=\"math/tex\">\\left(\\begin{array}{rrr} -\\frac{25}{4} & -2 & \\frac{3}{2} \\\\ -2 & -\\frac{13}{4} & -3 \\\\ \\frac{3}{2} & -3 & -5\\end{array}\\right)</script>    </td> </tr> </table><br><br><b> <span style=\"color: #ff0000;\">Respuesta al apartado 2 </span></b><br><br> <table style=\" width:100%\"> <tr> <td style=\"border:none; text-align:left\">1.<input type=checkbox> <script type=\"math/tex\">{\\rm rang}(B)={\\rm rang}(C)=2</script>.    </td> <td style=\"border:none; text-align:left\">2.<input type=checkbox> <script type=\"math/tex\">{\\rm rang}(B)=3</script> y <script type=\"math/tex\">{\\rm rang}(C)=2</script>.    </td> </tr> <tr> <td style=\"border:none; text-align:left\">3.<input type=checkbox> <script type=\"math/tex\">{\\rm rang}(B)=2</script> y <script type=\"math/tex\">{\\rm rang}(C)=3</script>.    </td> <td style=\"border:none; text-align:left\">4.<input type=checkbox> <script type=\"math/tex\">{\\rm rang}(B)={\\rm rang}(C)=3</script>.    </td> </tr> </table><br><br><b> <span style=\"color: #ff0000;\">Respuesta al apartado 3 </span></b><br><br> 1.<input type=checkbox> El sistema tiene solución única: <script type=\"math/tex\">x=-3,\\,y=0\\,z=-1</script> <br> 2.<input type=checkbox> El conjunto de soluciones es <script type=\"math/tex; mode=display\">\\begin{array}{ccl}x & = & 1+\\frac{1}{12}\\alpha\\\\ y & = & 1-\\frac{1}{6}\\alpha\\\\ z & = & \\alpha\\end{array}</script>. <br> 3.<input type=checkbox> El sistema tiene solución única: <script type=\"math/tex\">x=\\frac{1}{3},\\,y=-\\frac{5}{3}\\,z=0</script> <br> 4.<input type=checkbox> El sistema tiene solución única: <script type=\"math/tex\">x=1,\\,y=1\\,z=0</script><br><br><b> <span style=\"color: #ff0000;\">Respuesta al apartado 4 </span></b><br><br> 1.<input type=checkbox> El sistema tiene solución única: <script type=\"math/tex\">x=3,\\,y=0\\,z=-3</script> <br> 2.<input type=checkbox> El sistema no tiene ninguna solución, es un sistema incompatible. <br> 3.<input type=checkbox> El conjunto de soluciones es <script type=\"math/tex; mode=display\">\\begin{array}{ccl}x & = & -3+3\\alpha\\\\ y & = & \\alpha\\\\ z & = & -1\\end{array}</script>. <br> 4.<input type=checkbox> El sistema tiene solución única: <script type=\"math/tex\">x=1,\\,y=0\\,z=-1</script><br><br><b> <span style=\"color: #ff0000;\">Respuesta al apartado 5 </span></b><br><br> 1.<input type=checkbox> El sistema tiene solución única: <script type=\"math/tex\">x=1,\\,y=1\\,z=0</script> <br> 2.<input type=checkbox> El sistema tiene solución única: <script type=\"math/tex\">x=1,\\,y=2\\,z=0</script> <br> 3.<input type=checkbox> El conjunto de soluciones es <script type=\"math/tex; mode=display\">\\begin{array}{ccl}x & = & -1-\\frac{1}{3}\\alpha\\\\ y & = & -3-\\frac{1}{3}\\alpha\\\\ z & = & \\alpha\\end{array}</script>. <br> 4.<input type=checkbox> El conjunto de soluciones es <script type=\"math/tex; mode=display\">\\begin{array}{ccl}x & = & 1-\\frac{1}{3}\\alpha\\\\ y & = & \\alpha\\\\ z & = & -1\\end{array}</script>.<br><br><hr  align=center><b> <span style=\"color: #0000ff;\">EJERCICIO 2 </span></b><br> Dada la matriz <script type=\"math/tex\">A=\\left(\\begin{array}{rrrr} -23 & -35 & 13 & -42 \\\\ 18 & 4 & -29 & -15 \\\\ -28 & 34 & -19 & 37 \\\\ 23 & 40 & -48 & -33 \\end{array}\\right)</script>, se pide:<ol><li>Almacenar los datos trabajando con números en coma flotante para 22 bits en la mantisa\n",
       " y calcular entonces el valor del determinante.</li><li>Almacenar los datos trabajando con números enteros modulares <script type=\"math/tex\">Z_{29}</script> y hallar <script type=\"math/tex\">B=A^{-1}</script>. \n",
       " Indicar el valor obtenido para el elemento <script type=\"math/tex\">b_{4,4}</script>.</li></ol>Marcar la respuesta correcta.<br><hr  align=center><b> <span style=\"color: #ff0000;\">Respuesta al apartado 1 </span></b><br><br> 1.<input type=checkbox> 1.93229200000000e6 <br> 2.<input type=checkbox> -9.70000000000000e6 <br> 3.<input type=checkbox> 2.98300000000000e6 <br> 4.<input type=checkbox> -2.56000000000000e6<br><br><b> <span style=\"color: #ff0000;\">Respuesta al apartado 2 </span></b><br><br> 1.<input type=checkbox> 26 <br> 2.<input type=checkbox> 10 <br> 3.<input type=checkbox> 18 <br> 4.<input type=checkbox> 1<br><br><hr  align=center><b> <span style=\"color: #0000ff;\">EJERCICIO 3 </span></b><br> Utilizando el mismo criptosistema afín del ejercicio de la práctica, responder a las siguientes cuestiones:<ol><li>Sabiendo que las palabras \"SECRET\"  y  \"MYCODE\" son encriptadas, respectivamente, \n",
       " como \"EAJLMV\"  y  \"PUEGKC\", desencriptar el código \"SOBJB_PYG\".</li><li>Sabiendo que las palabras \"SECRET\"  y  \"MYCODE\" son encriptadas, respectivamente, \n",
       " como \"WKRSJY\"  y  \"YDTSMG\", encriptar la palabra \"REQUISITO\".</li></ol>Marcar la respuesta correcta.<br><hr  align=center><b> <span style=\"color: #ff0000;\">Respuesta al apartado 1 </span></b><br><br> 1.<input type=checkbox> FLAGRANTE   2.<input type=checkbox> TOTALIDAD   3.<input type=checkbox> ESCOBILLA   4.<input type=checkbox> MANICOMIO<br><br><b> <span style=\"color: #ff0000;\">Respuesta al apartado 2 </span></b><br><br> 1.<input type=checkbox> OMNK.W-TR   2.<input type=checkbox> F.QJY.-TR   3.<input type=checkbox> BCHLZNXL.   4.<input type=checkbox> XKDWYQSSK<br><br><hr  align=center><center><span style=\"font-size: x-small;\"> Final del documento </span></center>"
      ],
      "text/plain": [
       "<center><h4>E.T.S.I.I. - GRADOS EN INGENIERÍA INFORMÁTICA</h4></center><center><h4>Álgebra Lineal y Numérica - PRIMERA PRÁCTICA DE LABORATORIO</h4></center><hr  align=center><center>APELLIDOS, NOMBRE: <INPUT value= \"\",type=text size=70> <INPUT type=submit value=167-64375><hr  align=center></center><hr  align=center><b> <span style=\"color: #0000ff;\">EJERCICIO 1 </span></b><br> Sean las matrices <script type=\"math/tex; mode=display\">A=\\left(\\begin{array}{rrr} -1 & 1 & \\frac{1}{4} \\\\ 2 & 1 & 0 \\\\ 3 & 0 & -\\frac{1}{4}\\end{array}\\right)\\quad S=\\left(\\begin{array}{rrr} 3 & 1 & 0 \\\\ 6 & 2 & 1 \\\\ -1 & -\\frac{1}{3} & 2\\end{array}\\right)</script>\n",
       " y vectores <script type=\"math/tex; mode=display\">b=\\left(\\begin{array}{r} 0 \\\\ 3 \\\\ 3\\end{array}\\right)\\quad t=\\left(\\begin{array}{r} 3 \\\\ 5 \\\\ -3\\end{array}\\right)</script> Se pide:<ol><li>Calcular <script type=\"math/tex\">(S-S^t)^2</script>.</li><li>Estudiar el rango de las matrices <script type=\"math/tex\">B=(A-A^t)^2</script> y <script type=\"math/tex\">C=(S+S^t)^2</script>.</li><li>Hallar el conjunto de soluciones del sistema de ecuaciones lineales <script type=\"math/tex\">Ax=b</script>.</li><li>Hallar el conjunto de soluciones del sistema de ecuaciones lineales <script type=\"math/tex\">Sx=b</script>.</li><li>Hallar el conjunto de soluciones del sistema de ecuaciones lineales <script type=\"math/tex\">Sx=t</script>.</li></ol>Marcar la respuesta correcta.<br><hr  align=center><b> <span style=\"color: #ff0000;\">Respuesta al apartado 1 </span></b><br><br> <table style=\" width:100%\"> <tr> <td style=\"border:none; text-align:left\">1.<input type=checkbox> <script type=\"math/tex\">\\left(\\begin{array}{rrr} -\\frac{41}{4} & 0 & 0 \\\\ 0 & -4 & -5 \\\\ 0 & -5 & -\\frac{25}{4}\\end{array}\\right)</script>    </td> <td style=\"border:none; text-align:left\">2.<input type=checkbox> <script type=\"math/tex\">\\left(\\begin{array}{rrr} -26 & -\\frac{4}{3} & -\\frac{20}{3} \\\\ -\\frac{4}{3} & -\\frac{241}{9} & 5 \\\\ -\\frac{20}{3} & 5 & -\\frac{25}{9}\\end{array}\\right)</script>    </td> </tr> <tr> <td style=\"border:none; text-align:left\">3.<input type=checkbox> <script type=\"math/tex\">\\left(\\begin{array}{rrr} \\frac{113}{4} & 0 & -\\frac{35}{2} \\\\ 0 & 4 & 0 \\\\ -\\frac{35}{2} & 0 & \\frac{53}{4}\\end{array}\\right)</script>    </td> <td style=\"border:none; text-align:left\">4.<input type=checkbox> <script type=\"math/tex\">\\left(\\begin{array}{rrr} -\\frac{25}{4} & -2 & \\frac{3}{2} \\\\ -2 & -\\frac{13}{4} & -3 \\\\ \\frac{3}{2} & -3 & -5\\end{array}\\right)</script>    </td> </tr> </table><br><br><b> <span style=\"color: #ff0000;\">Respuesta al apartado 2 </span></b><br><br> <table style=\" width:100%\"> <tr> <td style=\"border:none; text-align:left\">1.<input type=checkbox> <script type=\"math/tex\">{\\rm rang}(B)={\\rm rang}(C)=2</script>.    </td> <td style=\"border:none; text-align:left\">2.<input type=checkbox> <script type=\"math/tex\">{\\rm rang}(B)=3</script> y <script type=\"math/tex\">{\\rm rang}(C)=2</script>.    </td> </tr> <tr> <td style=\"border:none; text-align:left\">3.<input type=checkbox> <script type=\"math/tex\">{\\rm rang}(B)=2</script> y <script type=\"math/tex\">{\\rm rang}(C)=3</script>.    </td> <td style=\"border:none; text-align:left\">4.<input type=checkbox> <script type=\"math/tex\">{\\rm rang}(B)={\\rm rang}(C)=3</script>.    </td> </tr> </table><br><br><b> <span style=\"color: #ff0000;\">Respuesta al apartado 3 </span></b><br><br> 1.<input type=checkbox> El sistema tiene solución única: <script type=\"math/tex\">x=-3,\\,y=0\\,z=-1</script> <br> 2.<input type=checkbox> El conjunto de soluciones es <script type=\"math/tex; mode=display\">\\begin{array}{ccl}x & = & 1+\\frac{1}{12}\\alpha\\\\ y & = & 1-\\frac{1}{6}\\alpha\\\\ z & = & \\alpha\\end{array}</script>. <br> 3.<input type=checkbox> El sistema tiene solución única: <script type=\"math/tex\">x=\\frac{1}{3},\\,y=-\\frac{5}{3}\\,z=0</script> <br> 4.<input type=checkbox> El sistema tiene solución única: <script type=\"math/tex\">x=1,\\,y=1\\,z=0</script><br><br><b> <span style=\"color: #ff0000;\">Respuesta al apartado 4 </span></b><br><br> 1.<input type=checkbox> El sistema tiene solución única: <script type=\"math/tex\">x=3,\\,y=0\\,z=-3</script> <br> 2.<input type=checkbox> El sistema no tiene ninguna solución, es un sistema incompatible. <br> 3.<input type=checkbox> El conjunto de soluciones es <script type=\"math/tex; mode=display\">\\begin{array}{ccl}x & = & -3+3\\alpha\\\\ y & = & \\alpha\\\\ z & = & -1\\end{array}</script>. <br> 4.<input type=checkbox> El sistema tiene solución única: <script type=\"math/tex\">x=1,\\,y=0\\,z=-1</script><br><br><b> <span style=\"color: #ff0000;\">Respuesta al apartado 5 </span></b><br><br> 1.<input type=checkbox> El sistema tiene solución única: <script type=\"math/tex\">x=1,\\,y=1\\,z=0</script> <br> 2.<input type=checkbox> El sistema tiene solución única: <script type=\"math/tex\">x=1,\\,y=2\\,z=0</script> <br> 3.<input type=checkbox> El conjunto de soluciones es <script type=\"math/tex; mode=display\">\\begin{array}{ccl}x & = & -1-\\frac{1}{3}\\alpha\\\\ y & = & -3-\\frac{1}{3}\\alpha\\\\ z & = & \\alpha\\end{array}</script>. <br> 4.<input type=checkbox> El conjunto de soluciones es <script type=\"math/tex; mode=display\">\\begin{array}{ccl}x & = & 1-\\frac{1}{3}\\alpha\\\\ y & = & \\alpha\\\\ z & = & -1\\end{array}</script>.<br><br><hr  align=center><b> <span style=\"color: #0000ff;\">EJERCICIO 2 </span></b><br> Dada la matriz <script type=\"math/tex\">A=\\left(\\begin{array}{rrrr} -23 & -35 & 13 & -42 \\\\ 18 & 4 & -29 & -15 \\\\ -28 & 34 & -19 & 37 \\\\ 23 & 40 & -48 & -33 \\end{array}\\right)</script>, se pide:<ol><li>Almacenar los datos trabajando con números en coma flotante para 22 bits en la mantisa\n",
       " y calcular entonces el valor del determinante.</li><li>Almacenar los datos trabajando con números enteros modulares <script type=\"math/tex\">Z_{29}</script> y hallar <script type=\"math/tex\">B=A^{-1}</script>. \n",
       " Indicar el valor obtenido para el elemento <script type=\"math/tex\">b_{4,4}</script>.</li></ol>Marcar la respuesta correcta.<br><hr  align=center><b> <span style=\"color: #ff0000;\">Respuesta al apartado 1 </span></b><br><br> 1.<input type=checkbox> 1.93229200000000e6 <br> 2.<input type=checkbox> -9.70000000000000e6 <br> 3.<input type=checkbox> 2.98300000000000e6 <br> 4.<input type=checkbox> -2.56000000000000e6<br><br><b> <span style=\"color: #ff0000;\">Respuesta al apartado 2 </span></b><br><br> 1.<input type=checkbox> 26 <br> 2.<input type=checkbox> 10 <br> 3.<input type=checkbox> 18 <br> 4.<input type=checkbox> 1<br><br><hr  align=center><b> <span style=\"color: #0000ff;\">EJERCICIO 3 </span></b><br> Utilizando el mismo criptosistema afín del ejercicio de la práctica, responder a las siguientes cuestiones:<ol><li>Sabiendo que las palabras \"SECRET\"  y  \"MYCODE\" son encriptadas, respectivamente, \n",
       " como \"EAJLMV\"  y  \"PUEGKC\", desencriptar el código \"SOBJB_PYG\".</li><li>Sabiendo que las palabras \"SECRET\"  y  \"MYCODE\" son encriptadas, respectivamente, \n",
       " como \"WKRSJY\"  y  \"YDTSMG\", encriptar la palabra \"REQUISITO\".</li></ol>Marcar la respuesta correcta.<br><hr  align=center><b> <span style=\"color: #ff0000;\">Respuesta al apartado 1 </span></b><br><br> 1.<input type=checkbox> FLAGRANTE   2.<input type=checkbox> TOTALIDAD   3.<input type=checkbox> ESCOBILLA   4.<input type=checkbox> MANICOMIO<br><br><b> <span style=\"color: #ff0000;\">Respuesta al apartado 2 </span></b><br><br> 1.<input type=checkbox> OMNK.W-TR   2.<input type=checkbox> F.QJY.-TR   3.<input type=checkbox> BCHLZNXL.   4.<input type=checkbox> XKDWYQSSK<br><br><hr  align=center><center><span style=\"font-size: x-small;\"> Final del documento </span></center>"
      ]
     },
     "metadata": {},
     "output_type": "display_data"
    }
   ],
   "source": [
    "NUMERO_CUESTIONARIO = 167    ## introducir el número asignado durante la práctica, entre 1 y 200\n",
    "\n",
    "## no modificar el código de abajo\n",
    "NOMBRE_FICHERO_EXAMEN = 'ALN_L1_t.htl'\n",
    "load('codigo_examinar_html.sage')\n",
    "\n",
    "if NUMERO_CUESTIONARIO>0:\n",
    "    lector_examenes(NOMBRE_FICHERO_EXAMEN,NUMERO_CUESTIONARIO,False)"
   ]
  },
  {
   "cell_type": "code",
   "execution_count": 14,
   "metadata": {},
   "outputs": [
    {
     "data": {
      "text/plain": [
       "[  -1    1  1/4]\n",
       "[   2    1    0]\n",
       "[   3    0 -1/4]"
      ]
     },
     "execution_count": 14,
     "metadata": {},
     "output_type": "execute_result"
    }
   ],
   "source": [
    "# EJERCICIO 1\n",
    "# QTICI__IB\n",
    "# Definir la matriz:\n",
    "A = matrix([[-1, 1, 1/4],[2, 1, 0],[3, 0, -1/4]])\n",
    "A"
   ]
  },
  {
   "cell_type": "code",
   "execution_count": 118,
   "metadata": {},
   "outputs": [
    {
     "data": {
      "text/plain": [
       "[  -2    1    0]\n",
       "[  -1   -1    0]\n",
       "[ 1/2    0 -1/2]"
      ]
     },
     "execution_count": 118,
     "metadata": {},
     "output_type": "execute_result"
    }
   ],
   "source": []
  },
  {
   "cell_type": "code",
   "execution_count": 16,
   "metadata": {},
   "outputs": [
    {
     "ename": "ValueError",
     "evalue": "matrix equation has no solutions",
     "output_type": "error",
     "traceback": [
      "\u001b[0;31m---------------------------------------------------------------------------\u001b[0m",
      "\u001b[0;31mNotFullRankError\u001b[0m                          Traceback (most recent call last)",
      "\u001b[0;32m/opt/sagemath-9.2/local/lib/python3.7/site-packages/sage/matrix/matrix2.pyx\u001b[0m in \u001b[0;36msage.matrix.matrix2.Matrix.solve_right (build/cythonized/sage/matrix/matrix2.c:8498)\u001b[0;34m()\u001b[0m\n\u001b[1;32m    849\u001b[0m             \u001b[0;32mtry\u001b[0m\u001b[0;34m:\u001b[0m\u001b[0;34m\u001b[0m\u001b[0;34m\u001b[0m\u001b[0m\n\u001b[0;32m--> 850\u001b[0;31m                 \u001b[0mX\u001b[0m \u001b[0;34m=\u001b[0m \u001b[0mself\u001b[0m\u001b[0;34m.\u001b[0m\u001b[0m_solve_right_nonsingular_square\u001b[0m\u001b[0;34m(\u001b[0m\u001b[0mC\u001b[0m\u001b[0;34m,\u001b[0m \u001b[0mcheck_rank\u001b[0m\u001b[0;34m=\u001b[0m\u001b[0;32mTrue\u001b[0m\u001b[0;34m)\u001b[0m\u001b[0;34m\u001b[0m\u001b[0;34m\u001b[0m\u001b[0m\n\u001b[0m\u001b[1;32m    851\u001b[0m             \u001b[0;32mexcept\u001b[0m \u001b[0mNotFullRankError\u001b[0m\u001b[0;34m:\u001b[0m\u001b[0;34m\u001b[0m\u001b[0;34m\u001b[0m\u001b[0m\n",
      "\u001b[0;32m/opt/sagemath-9.2/local/lib/python3.7/site-packages/sage/matrix/matrix2.pyx\u001b[0m in \u001b[0;36msage.matrix.matrix2.Matrix._solve_right_nonsingular_square (build/cythonized/sage/matrix/matrix2.c:8867)\u001b[0;34m()\u001b[0m\n\u001b[1;32m    895\u001b[0m         \u001b[0;32mif\u001b[0m \u001b[0mcheck_rank\u001b[0m \u001b[0;32mand\u001b[0m \u001b[0mself\u001b[0m\u001b[0;34m.\u001b[0m\u001b[0mrank\u001b[0m\u001b[0;34m(\u001b[0m\u001b[0;34m)\u001b[0m \u001b[0;34m<\u001b[0m \u001b[0mself\u001b[0m\u001b[0;34m.\u001b[0m\u001b[0mnrows\u001b[0m\u001b[0;34m(\u001b[0m\u001b[0;34m)\u001b[0m\u001b[0;34m:\u001b[0m\u001b[0;34m\u001b[0m\u001b[0;34m\u001b[0m\u001b[0m\n\u001b[0;32m--> 896\u001b[0;31m             \u001b[0;32mraise\u001b[0m \u001b[0mNotFullRankError\u001b[0m\u001b[0;34m\u001b[0m\u001b[0;34m\u001b[0m\u001b[0m\n\u001b[0m\u001b[1;32m    897\u001b[0m         \u001b[0mD\u001b[0m \u001b[0;34m=\u001b[0m \u001b[0mself\u001b[0m\u001b[0;34m.\u001b[0m\u001b[0maugment\u001b[0m\u001b[0;34m(\u001b[0m\u001b[0mB\u001b[0m\u001b[0;34m)\u001b[0m\u001b[0;34m\u001b[0m\u001b[0;34m\u001b[0m\u001b[0m\n",
      "\u001b[0;31mNotFullRankError\u001b[0m: ",
      "\nDuring handling of the above exception, another exception occurred:\n",
      "\u001b[0;31mValueError\u001b[0m                                Traceback (most recent call last)",
      "\u001b[0;32m<ipython-input-16-399a3825a680>\u001b[0m in \u001b[0;36m<module>\u001b[0;34m\u001b[0m\n\u001b[1;32m      3\u001b[0m \u001b[0mS\u001b[0m\u001b[0;34m\u001b[0m\u001b[0;34m\u001b[0m\u001b[0m\n\u001b[1;32m      4\u001b[0m \u001b[0mt\u001b[0m \u001b[0;34m=\u001b[0m \u001b[0mvector\u001b[0m\u001b[0;34m(\u001b[0m\u001b[0;34m[\u001b[0m\u001b[0mInteger\u001b[0m\u001b[0;34m(\u001b[0m\u001b[0;36m3\u001b[0m\u001b[0;34m)\u001b[0m\u001b[0;34m,\u001b[0m \u001b[0mInteger\u001b[0m\u001b[0;34m(\u001b[0m\u001b[0;36m5\u001b[0m\u001b[0;34m)\u001b[0m\u001b[0;34m,\u001b[0m \u001b[0;34m-\u001b[0m\u001b[0mInteger\u001b[0m\u001b[0;34m(\u001b[0m\u001b[0;36m3\u001b[0m\u001b[0;34m)\u001b[0m\u001b[0;34m]\u001b[0m\u001b[0;34m)\u001b[0m\u001b[0;34m\u001b[0m\u001b[0;34m\u001b[0m\u001b[0m\n\u001b[0;32m----> 5\u001b[0;31m \u001b[0mS\u001b[0m\u001b[0;34m.\u001b[0m\u001b[0msolve_right\u001b[0m\u001b[0;34m(\u001b[0m\u001b[0mb\u001b[0m\u001b[0;34m)\u001b[0m\u001b[0;34m\u001b[0m\u001b[0;34m\u001b[0m\u001b[0m\n\u001b[0m",
      "\u001b[0;32m/opt/sagemath-9.2/local/lib/python3.7/site-packages/sage/matrix/matrix2.pyx\u001b[0m in \u001b[0;36msage.matrix.matrix2.Matrix.solve_right (build/cythonized/sage/matrix/matrix2.c:8565)\u001b[0;34m()\u001b[0m\n\u001b[1;32m    850\u001b[0m                 \u001b[0mX\u001b[0m \u001b[0;34m=\u001b[0m \u001b[0mself\u001b[0m\u001b[0;34m.\u001b[0m\u001b[0m_solve_right_nonsingular_square\u001b[0m\u001b[0;34m(\u001b[0m\u001b[0mC\u001b[0m\u001b[0;34m,\u001b[0m \u001b[0mcheck_rank\u001b[0m\u001b[0;34m=\u001b[0m\u001b[0;32mTrue\u001b[0m\u001b[0;34m)\u001b[0m\u001b[0;34m\u001b[0m\u001b[0;34m\u001b[0m\u001b[0m\n\u001b[1;32m    851\u001b[0m             \u001b[0;32mexcept\u001b[0m \u001b[0mNotFullRankError\u001b[0m\u001b[0;34m:\u001b[0m\u001b[0;34m\u001b[0m\u001b[0;34m\u001b[0m\u001b[0m\n\u001b[0;32m--> 852\u001b[0;31m                 \u001b[0mX\u001b[0m \u001b[0;34m=\u001b[0m \u001b[0mself\u001b[0m\u001b[0;34m.\u001b[0m\u001b[0m_solve_right_general\u001b[0m\u001b[0;34m(\u001b[0m\u001b[0mC\u001b[0m\u001b[0;34m,\u001b[0m \u001b[0mcheck\u001b[0m\u001b[0;34m=\u001b[0m\u001b[0mcheck\u001b[0m\u001b[0;34m)\u001b[0m\u001b[0;34m\u001b[0m\u001b[0;34m\u001b[0m\u001b[0m\n\u001b[0m\u001b[1;32m    853\u001b[0m \u001b[0;34m\u001b[0m\u001b[0m\n\u001b[1;32m    854\u001b[0m         \u001b[0;32mif\u001b[0m \u001b[0mb_is_vec\u001b[0m\u001b[0;34m:\u001b[0m\u001b[0;34m\u001b[0m\u001b[0;34m\u001b[0m\u001b[0m\n",
      "\u001b[0;32m/opt/sagemath-9.2/local/lib/python3.7/site-packages/sage/matrix/matrix2.pyx\u001b[0m in \u001b[0;36msage.matrix.matrix2.Matrix._solve_right_general (build/cythonized/sage/matrix/matrix2.c:9786)\u001b[0;34m()\u001b[0m\n\u001b[1;32m    968\u001b[0m             \u001b[0;31m# Have to check that we actually solved the equation.\u001b[0m\u001b[0;34m\u001b[0m\u001b[0;34m\u001b[0m\u001b[0;34m\u001b[0m\u001b[0m\n\u001b[1;32m    969\u001b[0m             \u001b[0;32mif\u001b[0m \u001b[0mself\u001b[0m\u001b[0;34m*\u001b[0m\u001b[0mX\u001b[0m \u001b[0;34m!=\u001b[0m \u001b[0mB\u001b[0m\u001b[0;34m:\u001b[0m\u001b[0;34m\u001b[0m\u001b[0;34m\u001b[0m\u001b[0m\n\u001b[0;32m--> 970\u001b[0;31m                 \u001b[0;32mraise\u001b[0m \u001b[0mValueError\u001b[0m\u001b[0;34m(\u001b[0m\u001b[0;34m\"matrix equation has no solutions\"\u001b[0m\u001b[0;34m)\u001b[0m\u001b[0;34m\u001b[0m\u001b[0;34m\u001b[0m\u001b[0m\n\u001b[0m\u001b[1;32m    971\u001b[0m         \u001b[0;32mreturn\u001b[0m \u001b[0mX\u001b[0m\u001b[0;34m\u001b[0m\u001b[0;34m\u001b[0m\u001b[0m\n\u001b[1;32m    972\u001b[0m \u001b[0;34m\u001b[0m\u001b[0m\n",
      "\u001b[0;31mValueError\u001b[0m: matrix equation has no solutions"
     ]
    }
   ],
   "source": [
    "# Definir la matriz:\n",
    "S = matrix([[3, 1, 0],[6, 2, 1],[-1, -1/3, 2]])\n",
    "S\n",
    "t = vector([3, 5, -3])\n",
    "S.solve_right(b)"
   ]
  },
  {
   "cell_type": "code",
   "execution_count": 5,
   "metadata": {},
   "outputs": [
    {
     "data": {
      "text/html": [
       "<html><script type=\"math/tex; mode=display\">\\newcommand{\\Bold}[1]{\\mathbf{#1}}\\left[\\begin{array}{rrr}\n",
       "-26 & -\\frac{4}{3} & -\\frac{20}{3} \\\\\n",
       "-\\frac{4}{3} & -\\frac{241}{9} & 5 \\\\\n",
       "-\\frac{20}{3} & 5 & -\\frac{25}{9}\n",
       "\\end{array}\\right]</script></html>"
      ],
      "text/latex": [
       "\\begin{math}\n",
       "\\newcommand{\\Bold}[1]{\\mathbf{#1}}\\left[\\begin{array}{rrr}\n",
       "-26 & -\\frac{4}{3} & -\\frac{20}{3} \\\\\n",
       "-\\frac{4}{3} & -\\frac{241}{9} & 5 \\\\\n",
       "-\\frac{20}{3} & 5 & -\\frac{25}{9}\n",
       "\\end{array}\\right]\n",
       "\\end{math}"
      ],
      "text/plain": [
       "[   -26   -4/3  -20/3]\n",
       "[  -4/3 -241/9      5]\n",
       "[ -20/3      5  -25/9]"
      ]
     },
     "metadata": {},
     "output_type": "display_data"
    }
   ],
   "source": [
    "#1 Calcular (S-St)2.\n",
    "# Transpuesta, calculo y mostrar: \n",
    "St = S.transpose()\n",
    "F = (S - St)^2\n",
    "show(F)"
   ]
  },
  {
   "cell_type": "code",
   "execution_count": 6,
   "metadata": {},
   "outputs": [
    {
     "name": "stdout",
     "output_type": "stream",
     "text": [
      "rango B: 2\n",
      "rango C: 3\n"
     ]
    }
   ],
   "source": [
    "#2 Estudiar el rango de las matrices B=(A−At)2 y C=(S+St)2.\n",
    "# Transpuesta, calculo y mostrar:\n",
    "At = A.transpose()\n",
    "B = (A - At)^2\n",
    "C = (S + St)^2\n",
    "# Propiedad: rango: \n",
    "print(\"rango B:\", B.rank())\n",
    "print(\"rango C:\", C.rank())"
   ]
  },
  {
   "cell_type": "code",
   "execution_count": 13,
   "metadata": {},
   "outputs": [
    {
     "ename": "ValueError",
     "evalue": "matrix equation has no solutions",
     "output_type": "error",
     "traceback": [
      "\u001b[0;31m---------------------------------------------------------------------------\u001b[0m",
      "\u001b[0;31mNotFullRankError\u001b[0m                          Traceback (most recent call last)",
      "\u001b[0;32m/opt/sagemath-9.2/local/lib/python3.7/site-packages/sage/matrix/matrix2.pyx\u001b[0m in \u001b[0;36msage.matrix.matrix2.Matrix.solve_right (build/cythonized/sage/matrix/matrix2.c:8498)\u001b[0;34m()\u001b[0m\n\u001b[1;32m    849\u001b[0m             \u001b[0;32mtry\u001b[0m\u001b[0;34m:\u001b[0m\u001b[0;34m\u001b[0m\u001b[0;34m\u001b[0m\u001b[0m\n\u001b[0;32m--> 850\u001b[0;31m                 \u001b[0mX\u001b[0m \u001b[0;34m=\u001b[0m \u001b[0mself\u001b[0m\u001b[0;34m.\u001b[0m\u001b[0m_solve_right_nonsingular_square\u001b[0m\u001b[0;34m(\u001b[0m\u001b[0mC\u001b[0m\u001b[0;34m,\u001b[0m \u001b[0mcheck_rank\u001b[0m\u001b[0;34m=\u001b[0m\u001b[0;32mTrue\u001b[0m\u001b[0;34m)\u001b[0m\u001b[0;34m\u001b[0m\u001b[0;34m\u001b[0m\u001b[0m\n\u001b[0m\u001b[1;32m    851\u001b[0m             \u001b[0;32mexcept\u001b[0m \u001b[0mNotFullRankError\u001b[0m\u001b[0;34m:\u001b[0m\u001b[0;34m\u001b[0m\u001b[0;34m\u001b[0m\u001b[0m\n",
      "\u001b[0;32m/opt/sagemath-9.2/local/lib/python3.7/site-packages/sage/matrix/matrix2.pyx\u001b[0m in \u001b[0;36msage.matrix.matrix2.Matrix._solve_right_nonsingular_square (build/cythonized/sage/matrix/matrix2.c:8867)\u001b[0;34m()\u001b[0m\n\u001b[1;32m    895\u001b[0m         \u001b[0;32mif\u001b[0m \u001b[0mcheck_rank\u001b[0m \u001b[0;32mand\u001b[0m \u001b[0mself\u001b[0m\u001b[0;34m.\u001b[0m\u001b[0mrank\u001b[0m\u001b[0;34m(\u001b[0m\u001b[0;34m)\u001b[0m \u001b[0;34m<\u001b[0m \u001b[0mself\u001b[0m\u001b[0;34m.\u001b[0m\u001b[0mnrows\u001b[0m\u001b[0;34m(\u001b[0m\u001b[0;34m)\u001b[0m\u001b[0;34m:\u001b[0m\u001b[0;34m\u001b[0m\u001b[0;34m\u001b[0m\u001b[0m\n\u001b[0;32m--> 896\u001b[0;31m             \u001b[0;32mraise\u001b[0m \u001b[0mNotFullRankError\u001b[0m\u001b[0;34m\u001b[0m\u001b[0;34m\u001b[0m\u001b[0m\n\u001b[0m\u001b[1;32m    897\u001b[0m         \u001b[0mD\u001b[0m \u001b[0;34m=\u001b[0m \u001b[0mself\u001b[0m\u001b[0;34m.\u001b[0m\u001b[0maugment\u001b[0m\u001b[0;34m(\u001b[0m\u001b[0mB\u001b[0m\u001b[0;34m)\u001b[0m\u001b[0;34m\u001b[0m\u001b[0;34m\u001b[0m\u001b[0m\n",
      "\u001b[0;31mNotFullRankError\u001b[0m: ",
      "\nDuring handling of the above exception, another exception occurred:\n",
      "\u001b[0;31mValueError\u001b[0m                                Traceback (most recent call last)",
      "\u001b[0;32m<ipython-input-13-24c1544c1dda>\u001b[0m in \u001b[0;36m<module>\u001b[0;34m\u001b[0m\n\u001b[1;32m      2\u001b[0m \u001b[0;31m# Definir un vector y resolver por la derecha:\u001b[0m\u001b[0;34m\u001b[0m\u001b[0;34m\u001b[0m\u001b[0;34m\u001b[0m\u001b[0m\n\u001b[1;32m      3\u001b[0m \u001b[0mt\u001b[0m \u001b[0;34m=\u001b[0m \u001b[0mvector\u001b[0m\u001b[0;34m(\u001b[0m\u001b[0;34m[\u001b[0m\u001b[0mInteger\u001b[0m\u001b[0;34m(\u001b[0m\u001b[0;36m3\u001b[0m\u001b[0;34m)\u001b[0m\u001b[0;34m,\u001b[0m \u001b[0mInteger\u001b[0m\u001b[0;34m(\u001b[0m\u001b[0;36m5\u001b[0m\u001b[0;34m)\u001b[0m\u001b[0;34m,\u001b[0m \u001b[0;34m-\u001b[0m\u001b[0mInteger\u001b[0m\u001b[0;34m(\u001b[0m\u001b[0;36m3\u001b[0m\u001b[0;34m)\u001b[0m\u001b[0;34m]\u001b[0m\u001b[0;34m)\u001b[0m\u001b[0;34m\u001b[0m\u001b[0;34m\u001b[0m\u001b[0m\n\u001b[0;32m----> 4\u001b[0;31m \u001b[0mS\u001b[0m\u001b[0;34m.\u001b[0m\u001b[0msolve_right\u001b[0m\u001b[0;34m(\u001b[0m\u001b[0mb\u001b[0m\u001b[0;34m)\u001b[0m\u001b[0;34m\u001b[0m\u001b[0;34m\u001b[0m\u001b[0m\n\u001b[0m",
      "\u001b[0;32m/opt/sagemath-9.2/local/lib/python3.7/site-packages/sage/matrix/matrix2.pyx\u001b[0m in \u001b[0;36msage.matrix.matrix2.Matrix.solve_right (build/cythonized/sage/matrix/matrix2.c:8565)\u001b[0;34m()\u001b[0m\n\u001b[1;32m    850\u001b[0m                 \u001b[0mX\u001b[0m \u001b[0;34m=\u001b[0m \u001b[0mself\u001b[0m\u001b[0;34m.\u001b[0m\u001b[0m_solve_right_nonsingular_square\u001b[0m\u001b[0;34m(\u001b[0m\u001b[0mC\u001b[0m\u001b[0;34m,\u001b[0m \u001b[0mcheck_rank\u001b[0m\u001b[0;34m=\u001b[0m\u001b[0;32mTrue\u001b[0m\u001b[0;34m)\u001b[0m\u001b[0;34m\u001b[0m\u001b[0;34m\u001b[0m\u001b[0m\n\u001b[1;32m    851\u001b[0m             \u001b[0;32mexcept\u001b[0m \u001b[0mNotFullRankError\u001b[0m\u001b[0;34m:\u001b[0m\u001b[0;34m\u001b[0m\u001b[0;34m\u001b[0m\u001b[0m\n\u001b[0;32m--> 852\u001b[0;31m                 \u001b[0mX\u001b[0m \u001b[0;34m=\u001b[0m \u001b[0mself\u001b[0m\u001b[0;34m.\u001b[0m\u001b[0m_solve_right_general\u001b[0m\u001b[0;34m(\u001b[0m\u001b[0mC\u001b[0m\u001b[0;34m,\u001b[0m \u001b[0mcheck\u001b[0m\u001b[0;34m=\u001b[0m\u001b[0mcheck\u001b[0m\u001b[0;34m)\u001b[0m\u001b[0;34m\u001b[0m\u001b[0;34m\u001b[0m\u001b[0m\n\u001b[0m\u001b[1;32m    853\u001b[0m \u001b[0;34m\u001b[0m\u001b[0m\n\u001b[1;32m    854\u001b[0m         \u001b[0;32mif\u001b[0m \u001b[0mb_is_vec\u001b[0m\u001b[0;34m:\u001b[0m\u001b[0;34m\u001b[0m\u001b[0;34m\u001b[0m\u001b[0m\n",
      "\u001b[0;32m/opt/sagemath-9.2/local/lib/python3.7/site-packages/sage/matrix/matrix2.pyx\u001b[0m in \u001b[0;36msage.matrix.matrix2.Matrix._solve_right_general (build/cythonized/sage/matrix/matrix2.c:9786)\u001b[0;34m()\u001b[0m\n\u001b[1;32m    968\u001b[0m             \u001b[0;31m# Have to check that we actually solved the equation.\u001b[0m\u001b[0;34m\u001b[0m\u001b[0;34m\u001b[0m\u001b[0;34m\u001b[0m\u001b[0m\n\u001b[1;32m    969\u001b[0m             \u001b[0;32mif\u001b[0m \u001b[0mself\u001b[0m\u001b[0;34m*\u001b[0m\u001b[0mX\u001b[0m \u001b[0;34m!=\u001b[0m \u001b[0mB\u001b[0m\u001b[0;34m:\u001b[0m\u001b[0;34m\u001b[0m\u001b[0;34m\u001b[0m\u001b[0m\n\u001b[0;32m--> 970\u001b[0;31m                 \u001b[0;32mraise\u001b[0m \u001b[0mValueError\u001b[0m\u001b[0;34m(\u001b[0m\u001b[0;34m\"matrix equation has no solutions\"\u001b[0m\u001b[0;34m)\u001b[0m\u001b[0;34m\u001b[0m\u001b[0;34m\u001b[0m\u001b[0m\n\u001b[0m\u001b[1;32m    971\u001b[0m         \u001b[0;32mreturn\u001b[0m \u001b[0mX\u001b[0m\u001b[0;34m\u001b[0m\u001b[0;34m\u001b[0m\u001b[0m\n\u001b[1;32m    972\u001b[0m \u001b[0;34m\u001b[0m\u001b[0m\n",
      "\u001b[0;31mValueError\u001b[0m: matrix equation has no solutions"
     ]
    }
   ],
   "source": [
    "#3 Hallar el conjunto de soluciones del sistema de ecuaciones lineales Ax=b.\n",
    "# Definir un vector y resolver por la derecha:\n",
    "t = vector([3, 5, -3])\n",
    "S.solve_right(b)"
   ]
  },
  {
   "cell_type": "code",
   "execution_count": 10,
   "metadata": {},
   "outputs": [
    {
     "data": {
      "text/plain": [
       "(1, 0, -1)"
      ]
     },
     "execution_count": 10,
     "metadata": {},
     "output_type": "execute_result"
    }
   ],
   "source": [
    "#4 Hallar el conjunto de soluciones del sistema de ecuaciones lineales Ax=t.\n",
    "# Definir un vector y resolver por la derecha:\n",
    "t = vector([3, 5, -3])\n",
    "S.solve_right(t)"
   ]
  },
  {
   "cell_type": "code",
   "execution_count": 9,
   "metadata": {},
   "outputs": [
    {
     "ename": "ValueError",
     "evalue": "matrix equation has no solutions",
     "output_type": "error",
     "traceback": [
      "\u001b[0;31m---------------------------------------------------------------------------\u001b[0m",
      "\u001b[0;31mNotFullRankError\u001b[0m                          Traceback (most recent call last)",
      "\u001b[0;32m/opt/sagemath-9.2/local/lib/python3.7/site-packages/sage/matrix/matrix2.pyx\u001b[0m in \u001b[0;36msage.matrix.matrix2.Matrix.solve_right (build/cythonized/sage/matrix/matrix2.c:8498)\u001b[0;34m()\u001b[0m\n\u001b[1;32m    849\u001b[0m             \u001b[0;32mtry\u001b[0m\u001b[0;34m:\u001b[0m\u001b[0;34m\u001b[0m\u001b[0;34m\u001b[0m\u001b[0m\n\u001b[0;32m--> 850\u001b[0;31m                 \u001b[0mX\u001b[0m \u001b[0;34m=\u001b[0m \u001b[0mself\u001b[0m\u001b[0;34m.\u001b[0m\u001b[0m_solve_right_nonsingular_square\u001b[0m\u001b[0;34m(\u001b[0m\u001b[0mC\u001b[0m\u001b[0;34m,\u001b[0m \u001b[0mcheck_rank\u001b[0m\u001b[0;34m=\u001b[0m\u001b[0;32mTrue\u001b[0m\u001b[0;34m)\u001b[0m\u001b[0;34m\u001b[0m\u001b[0;34m\u001b[0m\u001b[0m\n\u001b[0m\u001b[1;32m    851\u001b[0m             \u001b[0;32mexcept\u001b[0m \u001b[0mNotFullRankError\u001b[0m\u001b[0;34m:\u001b[0m\u001b[0;34m\u001b[0m\u001b[0;34m\u001b[0m\u001b[0m\n",
      "\u001b[0;32m/opt/sagemath-9.2/local/lib/python3.7/site-packages/sage/matrix/matrix2.pyx\u001b[0m in \u001b[0;36msage.matrix.matrix2.Matrix._solve_right_nonsingular_square (build/cythonized/sage/matrix/matrix2.c:8867)\u001b[0;34m()\u001b[0m\n\u001b[1;32m    895\u001b[0m         \u001b[0;32mif\u001b[0m \u001b[0mcheck_rank\u001b[0m \u001b[0;32mand\u001b[0m \u001b[0mself\u001b[0m\u001b[0;34m.\u001b[0m\u001b[0mrank\u001b[0m\u001b[0;34m(\u001b[0m\u001b[0;34m)\u001b[0m \u001b[0;34m<\u001b[0m \u001b[0mself\u001b[0m\u001b[0;34m.\u001b[0m\u001b[0mnrows\u001b[0m\u001b[0;34m(\u001b[0m\u001b[0;34m)\u001b[0m\u001b[0;34m:\u001b[0m\u001b[0;34m\u001b[0m\u001b[0;34m\u001b[0m\u001b[0m\n\u001b[0;32m--> 896\u001b[0;31m             \u001b[0;32mraise\u001b[0m \u001b[0mNotFullRankError\u001b[0m\u001b[0;34m\u001b[0m\u001b[0;34m\u001b[0m\u001b[0m\n\u001b[0m\u001b[1;32m    897\u001b[0m         \u001b[0mD\u001b[0m \u001b[0;34m=\u001b[0m \u001b[0mself\u001b[0m\u001b[0;34m.\u001b[0m\u001b[0maugment\u001b[0m\u001b[0;34m(\u001b[0m\u001b[0mB\u001b[0m\u001b[0;34m)\u001b[0m\u001b[0;34m\u001b[0m\u001b[0;34m\u001b[0m\u001b[0m\n",
      "\u001b[0;31mNotFullRankError\u001b[0m: ",
      "\nDuring handling of the above exception, another exception occurred:\n",
      "\u001b[0;31mValueError\u001b[0m                                Traceback (most recent call last)",
      "\u001b[0;32m<ipython-input-9-a8808238a7a5>\u001b[0m in \u001b[0;36m<module>\u001b[0;34m\u001b[0m\n\u001b[1;32m      1\u001b[0m \u001b[0;31m#5 Hallar el conjunto de soluciones del sistema de ecuaciones lineales Sx=b.\u001b[0m\u001b[0;34m\u001b[0m\u001b[0;34m\u001b[0m\u001b[0;34m\u001b[0m\u001b[0m\n\u001b[1;32m      2\u001b[0m \u001b[0;31m# Resolver por la derecha:\u001b[0m\u001b[0;34m\u001b[0m\u001b[0;34m\u001b[0m\u001b[0;34m\u001b[0m\u001b[0m\n\u001b[0;32m----> 3\u001b[0;31m \u001b[0mS\u001b[0m\u001b[0;34m.\u001b[0m\u001b[0msolve_right\u001b[0m\u001b[0;34m(\u001b[0m\u001b[0mb\u001b[0m\u001b[0;34m)\u001b[0m\u001b[0;34m\u001b[0m\u001b[0;34m\u001b[0m\u001b[0m\n\u001b[0m",
      "\u001b[0;32m/opt/sagemath-9.2/local/lib/python3.7/site-packages/sage/matrix/matrix2.pyx\u001b[0m in \u001b[0;36msage.matrix.matrix2.Matrix.solve_right (build/cythonized/sage/matrix/matrix2.c:8565)\u001b[0;34m()\u001b[0m\n\u001b[1;32m    850\u001b[0m                 \u001b[0mX\u001b[0m \u001b[0;34m=\u001b[0m \u001b[0mself\u001b[0m\u001b[0;34m.\u001b[0m\u001b[0m_solve_right_nonsingular_square\u001b[0m\u001b[0;34m(\u001b[0m\u001b[0mC\u001b[0m\u001b[0;34m,\u001b[0m \u001b[0mcheck_rank\u001b[0m\u001b[0;34m=\u001b[0m\u001b[0;32mTrue\u001b[0m\u001b[0;34m)\u001b[0m\u001b[0;34m\u001b[0m\u001b[0;34m\u001b[0m\u001b[0m\n\u001b[1;32m    851\u001b[0m             \u001b[0;32mexcept\u001b[0m \u001b[0mNotFullRankError\u001b[0m\u001b[0;34m:\u001b[0m\u001b[0;34m\u001b[0m\u001b[0;34m\u001b[0m\u001b[0m\n\u001b[0;32m--> 852\u001b[0;31m                 \u001b[0mX\u001b[0m \u001b[0;34m=\u001b[0m \u001b[0mself\u001b[0m\u001b[0;34m.\u001b[0m\u001b[0m_solve_right_general\u001b[0m\u001b[0;34m(\u001b[0m\u001b[0mC\u001b[0m\u001b[0;34m,\u001b[0m \u001b[0mcheck\u001b[0m\u001b[0;34m=\u001b[0m\u001b[0mcheck\u001b[0m\u001b[0;34m)\u001b[0m\u001b[0;34m\u001b[0m\u001b[0;34m\u001b[0m\u001b[0m\n\u001b[0m\u001b[1;32m    853\u001b[0m \u001b[0;34m\u001b[0m\u001b[0m\n\u001b[1;32m    854\u001b[0m         \u001b[0;32mif\u001b[0m \u001b[0mb_is_vec\u001b[0m\u001b[0;34m:\u001b[0m\u001b[0;34m\u001b[0m\u001b[0;34m\u001b[0m\u001b[0m\n",
      "\u001b[0;32m/opt/sagemath-9.2/local/lib/python3.7/site-packages/sage/matrix/matrix2.pyx\u001b[0m in \u001b[0;36msage.matrix.matrix2.Matrix._solve_right_general (build/cythonized/sage/matrix/matrix2.c:9786)\u001b[0;34m()\u001b[0m\n\u001b[1;32m    968\u001b[0m             \u001b[0;31m# Have to check that we actually solved the equation.\u001b[0m\u001b[0;34m\u001b[0m\u001b[0;34m\u001b[0m\u001b[0;34m\u001b[0m\u001b[0m\n\u001b[1;32m    969\u001b[0m             \u001b[0;32mif\u001b[0m \u001b[0mself\u001b[0m\u001b[0;34m*\u001b[0m\u001b[0mX\u001b[0m \u001b[0;34m!=\u001b[0m \u001b[0mB\u001b[0m\u001b[0;34m:\u001b[0m\u001b[0;34m\u001b[0m\u001b[0;34m\u001b[0m\u001b[0m\n\u001b[0;32m--> 970\u001b[0;31m                 \u001b[0;32mraise\u001b[0m \u001b[0mValueError\u001b[0m\u001b[0;34m(\u001b[0m\u001b[0;34m\"matrix equation has no solutions\"\u001b[0m\u001b[0;34m)\u001b[0m\u001b[0;34m\u001b[0m\u001b[0;34m\u001b[0m\u001b[0m\n\u001b[0m\u001b[1;32m    971\u001b[0m         \u001b[0;32mreturn\u001b[0m \u001b[0mX\u001b[0m\u001b[0;34m\u001b[0m\u001b[0;34m\u001b[0m\u001b[0m\n\u001b[1;32m    972\u001b[0m \u001b[0;34m\u001b[0m\u001b[0m\n",
      "\u001b[0;31mValueError\u001b[0m: matrix equation has no solutions"
     ]
    }
   ],
   "source": [
    "#5 Hallar el conjunto de soluciones del sistema de ecuaciones lineales Sx=b.\n",
    "# Resolver por la derecha:\n",
    "S.solve_right(b)"
   ]
  },
  {
   "cell_type": "code",
   "execution_count": 18,
   "metadata": {},
   "outputs": [
    {
     "name": "stdout",
     "output_type": "stream",
     "text": [
      "2.98300e6\n"
     ]
    }
   ],
   "source": [
    "# EJERCICIO 2\n",
    "#1 Almacenar los datos trabajando con números en coma flotante para 22 bits en la mantisa y calcular entonces el valor del determinante.\n",
    "# Definir la matriz:\n",
    "A = matrix([[-23, -35, 13, -42],[18, 4, -29, -15],[-28, 34, -19, 37],[23, 40, -48, -33]])\n",
    "# 22 bits en la mantisa:\n",
    "B = A.change_ring(RealField(22))\n",
    "# Mostrar el determinante:\n",
    "print(B.det())"
   ]
  },
  {
   "cell_type": "code",
   "execution_count": 19,
   "metadata": {},
   "outputs": [
    {
     "data": {
      "text/html": [
       "<html><script type=\"math/tex; mode=display\">\\newcommand{\\Bold}[1]{\\mathbf{#1}}\\left[\\begin{array}{rrrr}\n",
       "7 & 27 & 18 & 28 \\\\\n",
       "10 & 1 & 15 & 1 \\\\\n",
       "10 & 9 & 26 & 22 \\\\\n",
       "13 & 21 & 14 & 1\n",
       "\\end{array}\\right]</script></html>"
      ],
      "text/latex": [
       "\\begin{math}\n",
       "\\newcommand{\\Bold}[1]{\\mathbf{#1}}\\left[\\begin{array}{rrrr}\n",
       "7 & 27 & 18 & 28 \\\\\n",
       "10 & 1 & 15 & 1 \\\\\n",
       "10 & 9 & 26 & 22 \\\\\n",
       "13 & 21 & 14 & 1\n",
       "\\end{array}\\right]\n",
       "\\end{math}"
      ],
      "text/plain": [
       "[ 7 27 18 28]\n",
       "[10  1 15  1]\n",
       "[10  9 26 22]\n",
       "[13 21 14  1]"
      ]
     },
     "metadata": {},
     "output_type": "display_data"
    }
   ],
   "source": [
    "#2 Almacenar los datos trabajando con números enteros modulares Z29 y hallar B=A−1. Indicar el valor obtenido para el elemento b4,4.\n",
    "# Modulo Z29:\n",
    "mod = A.change_ring(IntegerModRing(29))\n",
    "# Calcular la inversa y mostrarla:\n",
    "B = mod.inverse()\n",
    "show(B)"
   ]
  },
  {
   "cell_type": "code",
   "execution_count": 138,
   "metadata": {},
   "outputs": [
    {
     "data": {
      "text/html": [
       "<html><script type=\"math/tex; mode=display\">\\newcommand{\\Bold}[1]{\\mathbf{#1}}\\left[\\begin{array}{rrrrrrrr}\n",
       "0 & 0 & 1 & 0 & 1 & 0 & 0 & -600 \\\\\n",
       "0 & 1 & 0 & 0 & 1 & -1 & 0 & 300 \\\\\n",
       "0 & 0 & 0 & 0 & 0 & 1 & -1 & -300 \\\\\n",
       "-1 & 0 & 0 & 0 & 0 & 0 & 1 & 1100 \\\\\n",
       "-1 & 1 & 0 & 1 & 0 & 0 & 0 & 0 \\\\\n",
       "0 & 0 & 1 & 1 & 0 & 0 & 0 & 900\n",
       "\\end{array}\\right]</script></html>"
      ],
      "text/latex": [
       "\\begin{math}\n",
       "\\newcommand{\\Bold}[1]{\\mathbf{#1}}\\left[\\begin{array}{rrrrrrrr}\n",
       "0 & 0 & 1 & 0 & 1 & 0 & 0 & -600 \\\\\n",
       "0 & 1 & 0 & 0 & 1 & -1 & 0 & 300 \\\\\n",
       "0 & 0 & 0 & 0 & 0 & 1 & -1 & -300 \\\\\n",
       "-1 & 0 & 0 & 0 & 0 & 0 & 1 & 1100 \\\\\n",
       "-1 & 1 & 0 & 1 & 0 & 0 & 0 & 0 \\\\\n",
       "0 & 0 & 1 & 1 & 0 & 0 & 0 & 900\n",
       "\\end{array}\\right]\n",
       "\\end{math}"
      ],
      "text/plain": [
       "[   0    0    1    0    1    0    0 -600]\n",
       "[   0    1    0    0    1   -1    0  300]\n",
       "[   0    0    0    0    0    1   -1 -300]\n",
       "[  -1    0    0    0    0    0    1 1100]\n",
       "[  -1    1    0    1    0    0    0    0]\n",
       "[   0    0    1    1    0    0    0  900]"
      ]
     },
     "metadata": {},
     "output_type": "display_data"
    }
   ],
   "source": [
    "# EJERCICIO 3\n",
    "#1 Averiguar los pesos de los flujos de los nodos de la red proporcionada con el exterior si los \n",
    "#flujos de las calles del enunciado son [-600, 300, -300, 800, -300, 700, 200], respectivamente. \n",
    "A = matrix(QQ,\n",
    "[\n",
    "[0, 0, 1, 0, 1, 0, 0, -600],\n",
    "[0, 1, 0, 0, 1, -1, 0, 300],\n",
    "[0, 0, 0, 0, 0, 1, -1, -300],\n",
    "[-1, 0, 0, 0, 0, 0, 1, 1100],\n",
    "[-1, 1, 0, 1, 0, 0, 0, 0],\n",
    "[0, 0, 1, 1, 0, 0, 0, 900]\n",
    "])\n",
    "show(A)"
   ]
  },
  {
   "cell_type": "code",
   "execution_count": 139,
   "metadata": {},
   "outputs": [
    {
     "name": "stdout",
     "output_type": "stream",
     "text": [
      "\n",
      "Forma escalonada canónica:\n",
      "[ 1  0  0  0  0  0 -1  0]\n",
      "[ 0  1  0  0  1  0 -1  0]\n",
      "[ 0  0  1  0  1  0  0  0]\n",
      "[ 0  0  0  1 -1  0  0  0]\n",
      "[ 0  0  0  0  0  1 -1  0]\n",
      "[ 0  0  0  0  0  0  0  1]\n"
     ]
    }
   ],
   "source": [
    "F, U = forma_escalonada(A, True)"
   ]
  },
  {
   "cell_type": "code",
   "execution_count": 62,
   "metadata": {},
   "outputs": [
    {
     "data": {
      "text/html": [
       "<html><script type=\"math/tex; mode=display\">\\newcommand{\\Bold}[1]{\\mathbf{#1}}\\left[19, 4, 2, 18, 4, 20, 12, 25, 2, 15, 3, 4\\right]</script></html>"
      ],
      "text/latex": [
       "\\begin{math}\n",
       "\\newcommand{\\Bold}[1]{\\mathbf{#1}}\\left[19, 4, 2, 18, 4, 20, 12, 25, 2, 15, 3, 4\\right]\n",
       "\\end{math}"
      ],
      "text/plain": [
       "[19, 4, 2, 18, 4, 20, 12, 25, 2, 15, 3, 4]"
      ]
     },
     "metadata": {},
     "output_type": "display_data"
    }
   ],
   "source": [
    "pistas = \"SECRET\"+\"MYCODE\"\n",
    "cifrado_pistas = [alfabeto.index(i) for i in pistas]\n",
    "show(cifrado_pistas)"
   ]
  },
  {
   "cell_type": "code",
   "execution_count": 63,
   "metadata": {},
   "outputs": [
    {
     "data": {
      "text/html": [
       "<html><script type=\"math/tex; mode=display\">\\newcommand{\\Bold}[1]{\\mathbf{#1}}\\left[23, 10, 18, 19, 9, 25, 25, 3, 20, 19, 12, 6\\right]</script></html>"
      ],
      "text/latex": [
       "\\begin{math}\n",
       "\\newcommand{\\Bold}[1]{\\mathbf{#1}}\\left[23, 10, 18, 19, 9, 25, 25, 3, 20, 19, 12, 6\\right]\n",
       "\\end{math}"
      ],
      "text/plain": [
       "[23, 10, 18, 19, 9, 25, 25, 3, 20, 19, 12, 6]"
      ]
     },
     "metadata": {},
     "output_type": "display_data"
    }
   ],
   "source": [
    "pistas_codificadas = \"WKRSJY\"+\"YDTSMG\"\n",
    "cifrado_pistas_codificadas = [alfabeto.index(i) for i in pistas_codificadas]\n",
    "show(cifrado_pistas_codificadas)"
   ]
  },
  {
   "cell_type": "code",
   "execution_count": 64,
   "metadata": {},
   "outputs": [
    {
     "data": {
      "text/html": [
       "<html><script type=\"math/tex; mode=display\">\\newcommand{\\Bold}[1]{\\mathbf{#1}}\\left[\\begin{array}{rrrrrrrrrrrrr}\n",
       "19 & 4 & 2 & 0 & 0 & 0 & 0 & 0 & 0 & 1 & 0 & 0 & 23 \\\\\n",
       "0 & 0 & 0 & 19 & 4 & 2 & 0 & 0 & 0 & 0 & 1 & 0 & 10 \\\\\n",
       "0 & 0 & 0 & 0 & 0 & 0 & 19 & 4 & 2 & 0 & 0 & 1 & 18 \\\\\n",
       "18 & 4 & 20 & 0 & 0 & 0 & 0 & 0 & 0 & 1 & 0 & 0 & 19 \\\\\n",
       "0 & 0 & 0 & 18 & 4 & 20 & 0 & 0 & 0 & 0 & 1 & 0 & 9 \\\\\n",
       "0 & 0 & 0 & 0 & 0 & 0 & 18 & 4 & 20 & 0 & 0 & 1 & 25 \\\\\n",
       "12 & 25 & 2 & 0 & 0 & 0 & 0 & 0 & 0 & 1 & 0 & 0 & 25 \\\\\n",
       "0 & 0 & 0 & 12 & 25 & 2 & 0 & 0 & 0 & 0 & 1 & 0 & 3 \\\\\n",
       "0 & 0 & 0 & 0 & 0 & 0 & 12 & 25 & 2 & 0 & 0 & 1 & 20 \\\\\n",
       "15 & 3 & 4 & 0 & 0 & 0 & 0 & 0 & 0 & 1 & 0 & 0 & 19 \\\\\n",
       "0 & 0 & 0 & 15 & 3 & 4 & 0 & 0 & 0 & 0 & 1 & 0 & 12 \\\\\n",
       "0 & 0 & 0 & 0 & 0 & 0 & 15 & 3 & 4 & 0 & 0 & 1 & 6\n",
       "\\end{array}\\right]</script></html>"
      ],
      "text/latex": [
       "\\begin{math}\n",
       "\\newcommand{\\Bold}[1]{\\mathbf{#1}}\\left[\\begin{array}{rrrrrrrrrrrrr}\n",
       "19 & 4 & 2 & 0 & 0 & 0 & 0 & 0 & 0 & 1 & 0 & 0 & 23 \\\\\n",
       "0 & 0 & 0 & 19 & 4 & 2 & 0 & 0 & 0 & 0 & 1 & 0 & 10 \\\\\n",
       "0 & 0 & 0 & 0 & 0 & 0 & 19 & 4 & 2 & 0 & 0 & 1 & 18 \\\\\n",
       "18 & 4 & 20 & 0 & 0 & 0 & 0 & 0 & 0 & 1 & 0 & 0 & 19 \\\\\n",
       "0 & 0 & 0 & 18 & 4 & 20 & 0 & 0 & 0 & 0 & 1 & 0 & 9 \\\\\n",
       "0 & 0 & 0 & 0 & 0 & 0 & 18 & 4 & 20 & 0 & 0 & 1 & 25 \\\\\n",
       "12 & 25 & 2 & 0 & 0 & 0 & 0 & 0 & 0 & 1 & 0 & 0 & 25 \\\\\n",
       "0 & 0 & 0 & 12 & 25 & 2 & 0 & 0 & 0 & 0 & 1 & 0 & 3 \\\\\n",
       "0 & 0 & 0 & 0 & 0 & 0 & 12 & 25 & 2 & 0 & 0 & 1 & 20 \\\\\n",
       "15 & 3 & 4 & 0 & 0 & 0 & 0 & 0 & 0 & 1 & 0 & 0 & 19 \\\\\n",
       "0 & 0 & 0 & 15 & 3 & 4 & 0 & 0 & 0 & 0 & 1 & 0 & 12 \\\\\n",
       "0 & 0 & 0 & 0 & 0 & 0 & 15 & 3 & 4 & 0 & 0 & 1 & 6\n",
       "\\end{array}\\right]\n",
       "\\end{math}"
      ],
      "text/plain": [
       "[19  4  2  0  0  0  0  0  0  1  0  0 23]\n",
       "[ 0  0  0 19  4  2  0  0  0  0  1  0 10]\n",
       "[ 0  0  0  0  0  0 19  4  2  0  0  1 18]\n",
       "[18  4 20  0  0  0  0  0  0  1  0  0 19]\n",
       "[ 0  0  0 18  4 20  0  0  0  0  1  0  9]\n",
       "[ 0  0  0  0  0  0 18  4 20  0  0  1 25]\n",
       "[12 25  2  0  0  0  0  0  0  1  0  0 25]\n",
       "[ 0  0  0 12 25  2  0  0  0  0  1  0  3]\n",
       "[ 0  0  0  0  0  0 12 25  2  0  0  1 20]\n",
       "[15  3  4  0  0  0  0  0  0  1  0  0 19]\n",
       "[ 0  0  0 15  3  4  0  0  0  0  1  0 12]\n",
       "[ 0  0  0  0  0  0 15  3  4  0  0  1  6]"
      ]
     },
     "metadata": {},
     "output_type": "display_data"
    }
   ],
   "source": [
    "M = matrix(IntegerModRing(29),\n",
    "[\n",
    "[19, 4, 2, 0, 0, 0, 0, 0, 0, 1, 0, 0],\n",
    "[0, 0, 0, 19, 4, 2, 0, 0, 0, 0, 1, 0],\n",
    "[0, 0, 0, 0, 0, 0, 19, 4, 2, 0, 0, 1],\n",
    "[18, 4, 20, 0, 0, 0, 0, 0, 0, 1, 0, 0],\n",
    "[0, 0, 0, 18, 4, 20, 0, 0, 0, 0, 1, 0],\n",
    "[0, 0, 0, 0, 0, 0, 18, 4, 20, 0, 0, 1],\n",
    "[12, 25, 2, 0, 0, 0, 0, 0, 0, 1, 0, 0],\n",
    "[0, 0, 0, 12, 25, 2, 0, 0, 0, 0, 1, 0],\n",
    "[0, 0, 0, 0, 0, 0, 12, 25, 2, 0, 0, 1],\n",
    "[15, 3, 4, 0, 0, 0, 0, 0, 0, 1, 0, 0],\n",
    "[0, 0, 0, 15, 3, 4, 0, 0, 0, 0, 1, 0],\n",
    "[0, 0, 0, 0, 0, 0, 15, 3, 4, 0, 0, 1]\n",
    "]).augment(column_matrix(IntegerModRing(29),cifrado_pistas_codificadas))\n",
    "show(M)"
   ]
  },
  {
   "cell_type": "code",
   "execution_count": 65,
   "metadata": {},
   "outputs": [
    {
     "name": "stdout",
     "output_type": "stream",
     "text": [
      "\n",
      "Forma escalonada canónica:\n",
      "[ 1  0  0  0  0  0  0  0  0  0  0  0  3]\n",
      "[ 0  1  0  0  0  0  0  0  0  0  0  0  8]\n",
      "[ 0  0  1  0  0  0  0  0  0  0  0  0  8]\n",
      "[ 0  0  0  1  0  0  0  0  0  0  0  0 24]\n",
      "[ 0  0  0  0  1  0  0  0  0  0  0  0 27]\n",
      "[ 0  0  0  0  0  1  0  0  0  0  0  0 19]\n",
      "[ 0  0  0  0  0  0  1  0  0  0  0  0  9]\n",
      "[ 0  0  0  0  0  0  0  1  0  0  0  0 10]\n",
      "[ 0  0  0  0  0  0  0  0  1  0  0  0 17]\n",
      "[ 0  0  0  0  0  0  0  0  0  1  0  0  5]\n",
      "[ 0  0  0  0  0  0  0  0  0  0  1  0 17]\n",
      "[ 0  0  0  0  0  0  0  0  0  0  0  1  5]\n"
     ]
    }
   ],
   "source": [
    "F, U = forma_escalonada(M, True)"
   ]
  },
  {
   "cell_type": "code",
   "execution_count": 66,
   "metadata": {},
   "outputs": [
    {
     "data": {
      "text/html": [
       "<html><script type=\"math/tex; mode=display\">\\newcommand{\\Bold}[1]{\\mathbf{#1}}\\left[\\begin{array}{rrr}\n",
       "3 & 8 & 8 \\\\\n",
       "24 & 27 & 19 \\\\\n",
       "9 & 10 & 17\n",
       "\\end{array}\\right]</script></html>"
      ],
      "text/latex": [
       "\\begin{math}\n",
       "\\newcommand{\\Bold}[1]{\\mathbf{#1}}\\left[\\begin{array}{rrr}\n",
       "3 & 8 & 8 \\\\\n",
       "24 & 27 & 19 \\\\\n",
       "9 & 10 & 17\n",
       "\\end{array}\\right]\n",
       "\\end{math}"
      ],
      "text/plain": [
       "[ 3  8  8]\n",
       "[24 27 19]\n",
       "[ 9 10 17]"
      ]
     },
     "metadata": {},
     "output_type": "display_data"
    },
    {
     "data": {
      "text/html": [
       "<html><script type=\"math/tex; mode=display\">\\newcommand{\\Bold}[1]{\\mathbf{#1}}\\left(5,\\,17,\\,5\\right)</script></html>"
      ],
      "text/latex": [
       "\\begin{math}\n",
       "\\newcommand{\\Bold}[1]{\\mathbf{#1}}\\left(5,\\,17,\\,5\\right)\n",
       "\\end{math}"
      ],
      "text/plain": [
       "(5, 17, 5)"
      ]
     },
     "metadata": {},
     "output_type": "display_data"
    }
   ],
   "source": [
    "#SOBJB_PYG\n",
    "A = matrix(IntegerModRing(29),3,3,list(U.column(12)[0:9]))\n",
    "show(A)\n",
    "b = vector(IntegerModRing(29),list(U.column(12)[9:]))\n",
    "show(b)\n"
   ]
  },
  {
   "cell_type": "code",
   "execution_count": 67,
   "metadata": {},
   "outputs": [],
   "source": [
    "Ai = A.inverse()"
   ]
  },
  {
   "cell_type": "code",
   "execution_count": 82,
   "metadata": {},
   "outputs": [
    {
     "data": {
      "text/plain": [
       "[24, 10, 3, 23, 25, 17, 19, 19, 10]"
      ]
     },
     "execution_count": 82,
     "metadata": {},
     "output_type": "execute_result"
    }
   ],
   "source": [
    "mensaje_codificado = \"XKDWYQSSK\"\n",
    "cifrado_mensaje = [alfabeto.index(i) for i in mensaje_codificado]\n",
    "cifrado_mensaje"
   ]
  },
  {
   "cell_type": "code",
   "execution_count": 84,
   "metadata": {},
   "outputs": [],
   "source": [
    "x1 = list(Ai*(vector(IntegerModRing(29),cifrado_mensaje[0:3])-b))\n",
    "x2 = list(Ai*(vector(IntegerModRing(29),cifrado_mensaje[3:6])-b))\n",
    "x3 = list(Ai*(vector(IntegerModRing(29),cifrado_mensaje[6:9])-b))"
   ]
  },
  {
   "cell_type": "code",
   "execution_count": 85,
   "metadata": {},
   "outputs": [
    {
     "data": {
      "text/plain": [
       "[18, 4, 17, 21, 8, 19, 8, 20, 15]"
      ]
     },
     "execution_count": 85,
     "metadata": {},
     "output_type": "execute_result"
    }
   ],
   "source": [
    "descifrado_mensaje = x1+x2+x3\n",
    "descifrado_mensaje"
   ]
  },
  {
   "cell_type": "code",
   "execution_count": 86,
   "metadata": {},
   "outputs": [
    {
     "data": {
      "text/plain": [
       "'REQUISITO'"
      ]
     },
     "execution_count": 86,
     "metadata": {},
     "output_type": "execute_result"
    }
   ],
   "source": [
    "mensaje_original = \"\"\n",
    "for i in descifrado_mensaje:\n",
    "    mensaje_original = mensaje_original + alfabeto[i]\n",
    "    \n",
    "mensaje_original"
   ]
  },
  {
   "cell_type": "code",
   "execution_count": null,
   "metadata": {},
   "outputs": [],
   "source": []
  }
 ],
 "metadata": {
  "kernelspec": {
   "display_name": "SageMath 9.2",
   "language": "sage",
   "name": "sagemath"
  },
  "language": "python",
  "language_info": {
   "codemirror_mode": {
    "name": "ipython",
    "version": 3
   },
   "file_extension": ".py",
   "mimetype": "text/x-python",
   "name": "python",
   "nbconvert_exporter": "python",
   "pygments_lexer": "ipython3",
   "version": "3.7.7"
  }
 },
 "nbformat": 4,
 "nbformat_minor": 4
}
