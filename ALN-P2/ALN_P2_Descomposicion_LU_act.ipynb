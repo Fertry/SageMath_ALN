{
 "cells": [
  {
   "cell_type": "markdown",
   "metadata": {},
   "source": [
    "<address style=\"font-size: 1.17em; text-align: left;\"><span style=\"font-size: xx-small;\"> Actualizada el 15-03-2021.<br /></span></address>\n",
    "<h3 style=\"font-size: 1.17em; text-align: center;\">ESCUELA TÉCNICA SUPERIOR DE INGENIERÍA INFORMÁTICA</h3>\n",
    "<h3 style=\"font-size: 1.17em; text-align: center;\">UNIVERSIDAD DE SEVILLA</h3>\n",
    "<h4 style=\"font-size: 1em; text-align: center;\"><strong>ÁLGEBRA LINEAL Y NUMÉRICA</strong></h4>\n",
    "<p> </p>\n",
    "<h2>Eliminación gaussiana, pivoteo parcial, descomposiciones LU y de Cholesky</h2>\n",
    "<p>En esta sesión práctica abordaremos los siguientes contenidos:</p>\n",
    "<ul>\n",
    "<li>Un repaso al proceso de <a href=\"#eliminacion\">eliminación gaussiana</a> de una matriz $A$ y su aplicación a la resolución de sistemas de ecuaciones lineales. Mostraremos ejemplos numéricos de como el procedimiento de eliminación estándar puede provocar grandes errores  al trabajar con una precisión numérica finita.</li>\n",
    "<li>Mostraremos dos modificaciones del proceso de eliminación gaussiana: el método con <a href=\"#pivoteo\">pivoteo parcial</a> y el método con <a href=\"#pivoteope\">pivoteo parcial escalado</a>. Ilustraremos con ejemplos como se pueden mejorar los errores provocados por el método estándar.</li>\n",
    "<li>Se definirá la <a href=\"#desclu\">descomposición $LU$</a> de una matriz $A$, aportando algoritmos para obtener tales descomposiciones bajo las técnicas de pivoteo estudiadas anteriormente.</li>\n",
    "<li>Analizaremos la <strong>aplicación </strong>de la descomposición $LU$ a la <a href=\"#sislin\">resolución de sistemas lineales</a> $Ax=b$.</li>\n",
    "<li>Estudiaremos un caso particular de descomposición $LU$ cuando la matriz $A$ es <strong>simétrica y definida positiva</strong>, conocido como <a href=\"#cholesky\">descomposición de Cholesky</a>.</li>\n",
    "</ul>\n",
    "<p>La práctica finaliza con la realización por parte del alumnado de un <a href=\"#cuestionario\">cuestionario</a> personalizado.</p>"
   ]
  },
  {
   "cell_type": "markdown",
   "metadata": {},
   "source": [
    "<p><a name=\"eliminacion\"></a></p>\n",
    "<div style=\"color: #000000; background-image: initial; background-attachment: initial; background-origin: initial; background-clip: initial; background-color: #ffffff; background-position: initial initial; background-repeat: initial initial; margin: 8px;\">\n",
    "<h3>Resolución de sistemas mediante eliminación gaussiana</h3>\n",
    "<p>En la práctica anterior, definimos la función <span style=\"color: #0000ff;\">forma_escalonada( A)</span> que nos permite obtener tanto las matrices $F$ y $U$ como la secuencia de transformaciones elementales por filas que reproducen el proceso seguido para escalonar la matriz $A$, según la relación $FA=U$. Admite las siguientes opciones y parámetros:</p>\n",
    "<p style=\"text-align: center;\"><span style=\"color: #0000ff;\">F,U=forma_escalonada(A, canonica?,transformaciones?)</span></p>\n",
    "<p>donde</p>\n",
    "<ul>\n",
    "<li><span style=\"color: #0000ff;\">canonica?</span> puede ser <span style=\"color: #0000ff;\">True</span> para forma escalonada canónica y <span style=\"color: #0000ff;\">False</span> para forma escalonada simple</li>\n",
    "<li><span style=\"color: #0000ff;\">transformaciones?</span> puede ser <span style=\"color: #0000ff;\">True </span>para que se proporcione la lista de transformaciones elementales filas que se han realizado y <span style=\"color: #0000ff;\">False </span>para que se omitan.</li>\n",
    "</ul>\n",
    "</div>\n",
    "\n",
    ">Ejecutar la celda que sigue para poder utilizar esta función."
   ]
  },
  {
   "cell_type": "code",
   "execution_count": 1,
   "metadata": {},
   "outputs": [],
   "source": [
    "load('codigo_P2.sage')   ## IMPRESCINDIBLE EJECUTAR esta celda para acceder a las funciones definidas."
   ]
  },
  {
   "cell_type": "markdown",
   "metadata": {},
   "source": [
    "<h3><span style=\"color: #0000ff;\">Ejemplo 1</span></h3>\n",
    "<p>Recordemos su uso con un ejemplo de escalonamiento de una matriz de números racionales, de orden 3x4:</p>"
   ]
  },
  {
   "cell_type": "code",
   "execution_count": 2,
   "metadata": {},
   "outputs": [
    {
     "data": {
      "text/html": [
       "<html><script type=\"math/tex; mode=display\">\\newcommand{\\Bold}[1]{\\mathbf{#1}}\\left(\\begin{array}{rrrr}\n",
       "0 & 1 & -2 & 1 \\\\\n",
       "4 & 1 & 0 & 3 \\\\\n",
       "2 & 1 & 1 & -2\n",
       "\\end{array}\\right)</script></html>"
      ],
      "text/latex": [
       "\\begin{math}\n",
       "\\newcommand{\\Bold}[1]{\\mathbf{#1}}\\left(\\begin{array}{rrrr}\n",
       "0 & 1 & -2 & 1 \\\\\n",
       "4 & 1 & 0 & 3 \\\\\n",
       "2 & 1 & 1 & -2\n",
       "\\end{array}\\right)\n",
       "\\end{math}"
      ],
      "text/plain": [
       "[ 0  1 -2  1]\n",
       "[ 4  1  0  3]\n",
       "[ 2  1  1 -2]"
      ]
     },
     "metadata": {},
     "output_type": "display_data"
    }
   ],
   "source": [
    "A = matrix(QQ, [[0, 1, -2, 1], [4, 1, 0, 3], [2, 1, 1, -2]]); show(A)"
   ]
  },
  {
   "cell_type": "code",
   "execution_count": 3,
   "metadata": {},
   "outputs": [
    {
     "name": "stdout",
     "output_type": "stream",
     "text": [
      "Matriz original:\n"
     ]
    },
    {
     "data": {
      "text/html": [
       "<html><script type=\"math/tex; mode=display\">\\newcommand{\\Bold}[1]{\\mathbf{#1}}\\left(\\begin{array}{rrrr}\n",
       "0 & 1 & -2 & 1 \\\\\n",
       "4 & 1 & 0 & 3 \\\\\n",
       "2 & 1 & 1 & -2\n",
       "\\end{array}\\right)</script></html>"
      ],
      "text/latex": [
       "\\begin{math}\n",
       "\\newcommand{\\Bold}[1]{\\mathbf{#1}}\\left(\\begin{array}{rrrr}\n",
       "0 & 1 & -2 & 1 \\\\\n",
       "4 & 1 & 0 & 3 \\\\\n",
       "2 & 1 & 1 & -2\n",
       "\\end{array}\\right)\n",
       "\\end{math}"
      ],
      "text/plain": [
       "[ 0  1 -2  1]\n",
       "[ 4  1  0  3]\n",
       "[ 2  1  1 -2]"
      ]
     },
     "metadata": {},
     "output_type": "display_data"
    },
    {
     "name": "stdout",
     "output_type": "stream",
     "text": [
      "Transformaciones elementales realizadas:\n"
     ]
    },
    {
     "data": {
      "text/html": [
       "<script type=\"math/tex\">F_{1,2}</script>"
      ],
      "text/plain": [
       "<script type=\"math/tex\">F_{1,2}</script>"
      ]
     },
     "metadata": {},
     "output_type": "display_data"
    },
    {
     "data": {
      "text/html": [
       "<script type=\"math/tex\">F_{3,1}(-\\frac{1}{2})</script>"
      ],
      "text/plain": [
       "<script type=\"math/tex\">F_{3,1}(-\\frac{1}{2})</script>"
      ]
     },
     "metadata": {},
     "output_type": "display_data"
    },
    {
     "data": {
      "text/html": [
       "<script type=\"math/tex\">F_{1}(\\frac{1}{4})</script>"
      ],
      "text/plain": [
       "<script type=\"math/tex\">F_{1}(\\frac{1}{4})</script>"
      ]
     },
     "metadata": {},
     "output_type": "display_data"
    },
    {
     "data": {
      "text/html": [
       "<script type=\"math/tex\">F_{3,2}(-\\frac{1}{2})</script>"
      ],
      "text/plain": [
       "<script type=\"math/tex\">F_{3,2}(-\\frac{1}{2})</script>"
      ]
     },
     "metadata": {},
     "output_type": "display_data"
    },
    {
     "data": {
      "text/html": [
       "<script type=\"math/tex\">F_{1,2}(-\\frac{1}{4})</script>"
      ],
      "text/plain": [
       "<script type=\"math/tex\">F_{1,2}(-\\frac{1}{4})</script>"
      ]
     },
     "metadata": {},
     "output_type": "display_data"
    },
    {
     "data": {
      "text/html": [
       "<script type=\"math/tex\">F_{2}(1)</script>"
      ],
      "text/plain": [
       "<script type=\"math/tex\">F_{2}(1)</script>"
      ]
     },
     "metadata": {},
     "output_type": "display_data"
    },
    {
     "data": {
      "text/html": [
       "<script type=\"math/tex\">F_{1,3}(-\\frac{1}{4})</script>"
      ],
      "text/plain": [
       "<script type=\"math/tex\">F_{1,3}(-\\frac{1}{4})</script>"
      ]
     },
     "metadata": {},
     "output_type": "display_data"
    },
    {
     "data": {
      "text/html": [
       "<script type=\"math/tex\">F_{2,3}(1)</script>"
      ],
      "text/plain": [
       "<script type=\"math/tex\">F_{2,3}(1)</script>"
      ]
     },
     "metadata": {},
     "output_type": "display_data"
    },
    {
     "data": {
      "text/html": [
       "<script type=\"math/tex\">F_{3}(\\frac{1}{2})</script>"
      ],
      "text/plain": [
       "<script type=\"math/tex\">F_{3}(\\frac{1}{2})</script>"
      ]
     },
     "metadata": {},
     "output_type": "display_data"
    },
    {
     "name": "stdout",
     "output_type": "stream",
     "text": [
      "Forma escalonada canónica:\n"
     ]
    },
    {
     "data": {
      "text/html": [
       "<html><script type=\"math/tex; mode=display\">\\newcommand{\\Bold}[1]{\\mathbf{#1}}\\left(\\begin{array}{rrrr}\n",
       "1 & 0 & 0 & \\frac{3}{2} \\\\\n",
       "0 & 1 & 0 & -3 \\\\\n",
       "0 & 0 & 1 & -2\n",
       "\\end{array}\\right)</script></html>"
      ],
      "text/latex": [
       "\\begin{math}\n",
       "\\newcommand{\\Bold}[1]{\\mathbf{#1}}\\left(\\begin{array}{rrrr}\n",
       "1 & 0 & 0 & \\frac{3}{2} \\\\\n",
       "0 & 1 & 0 & -3 \\\\\n",
       "0 & 0 & 1 & -2\n",
       "\\end{array}\\right)\n",
       "\\end{math}"
      ],
      "text/plain": [
       "[  1   0   0 3/2]\n",
       "[  0   1   0  -3]\n",
       "[  0   0   1  -2]"
      ]
     },
     "metadata": {},
     "output_type": "display_data"
    }
   ],
   "source": [
    "F, U = forma_escalonada(A, True, True)"
   ]
  },
  {
   "cell_type": "code",
   "execution_count": 4,
   "metadata": {},
   "outputs": [
    {
     "data": {
      "text/plain": [
       "True"
      ]
     },
     "execution_count": 4,
     "metadata": {},
     "output_type": "execute_result"
    }
   ],
   "source": [
    "F*A == U"
   ]
  },
  {
   "cell_type": "markdown",
   "metadata": {},
   "source": [
    "<h4>Resolución de sistemas lineales</h4>\n",
    "<p>Podemos aplicar esta función para la resolución de un sistema de ecuaciones lineales $Ax=b$, mediante escalonamiento de la matriz ampliada $\\ M=(A|b)$.  El proceso se completa con la resolución del sistema a partir de la nueva matriz escalonada, mediante la técnica de <strong>sustitución regresiva</strong>.</p>\n",
    "<p>La función <span style=\"color: #0000ff;\">sustitucion_regresiva()</span> que definimos a continuación, aplicada sobre la matriz ampliada escalonada de un sistema de ecuaciones, devuelve su solución.</p>"
   ]
  },
  {
   "cell_type": "code",
   "execution_count": 5,
   "metadata": {},
   "outputs": [],
   "source": [
    "def sustitucion_regresiva(U):\n",
    "    m = U.ncols()\n",
    "    n = U.nrows()\n",
    "    # Se separa la ultima columna: U = ( M | x )\n",
    "    M = U.submatrix(ncols=m-1) # Las m-1 primeras columnas (se quita la ultima)\n",
    "    x = U.column(-1)           # La ultima columna.\n",
    "    for k in range(n - 1, -1, -1):\n",
    "        x[k] = (x[k] - sum(M[k, j]*x[j] for j in range(k + 1, n)))/M[k, k]\n",
    "    return x"
   ]
  },
  {
   "cell_type": "markdown",
   "metadata": {},
   "source": [
    "<h3 style=\"font-size: 1.17em;\"><span style=\"color: #0000ff;\">Ejemplo 2</span></h3>\n",
    "<p>Se considera el sistema de ecuaciones $Ax=b$, donde</p>\n",
    "<p>$$ A=\\left(\\begin{array}{rrrr} 8 & -2 & 0 & 7 \\\\ -4 & 5 & 6 & -22 \\\\ 2 & -2 & 5 & 5 \\\\ 2 & -1 & 1 & 3\\end{array}\\right) \\ \\ \\ \\ {\\rm y} \\ \\ \\ \\ b=\\left(\\begin{array}{r}13 \\\\ -15 \\\\ 10 \\\\ 5\\end{array}\\right)$$</p>\n",
    "<p>Resolver el sistema  siguiendo los siguientes procedimientos:</p>\n",
    "<p>a) utilizando la función de SAGE  <span style=\"color: #0000ff;\">solve_right(),</span></p>\n",
    "<p>b) mediante eliminación gaussiana sobre la matriz ampliada del sistema,</p>\n",
    "<p>c) a partir de la forma escalonada canónica de la matriz ampliada.</p>"
   ]
  },
  {
   "cell_type": "code",
   "execution_count": 6,
   "metadata": {},
   "outputs": [
    {
     "data": {
      "text/html": [
       "<html><script type=\"math/tex; mode=display\">\\newcommand{\\Bold}[1]{\\mathbf{#1}}\\left(\\begin{array}{rrrr}\n",
       "8 & -2 & 0 & 7 \\\\\n",
       "-4 & 5 & 6 & -22 \\\\\n",
       "2 & -2 & 5 & 5 \\\\\n",
       "2 & -1 & 1 & 3\n",
       "\\end{array}\\right)</script></html>"
      ],
      "text/latex": [
       "\\begin{math}\n",
       "\\newcommand{\\Bold}[1]{\\mathbf{#1}}\\left(\\begin{array}{rrrr}\n",
       "8 & -2 & 0 & 7 \\\\\n",
       "-4 & 5 & 6 & -22 \\\\\n",
       "2 & -2 & 5 & 5 \\\\\n",
       "2 & -1 & 1 & 3\n",
       "\\end{array}\\right)\n",
       "\\end{math}"
      ],
      "text/plain": [
       "[  8  -2   0   7]\n",
       "[ -4   5   6 -22]\n",
       "[  2  -2   5   5]\n",
       "[  2  -1   1   3]"
      ]
     },
     "metadata": {},
     "output_type": "display_data"
    }
   ],
   "source": [
    "A = matrix(QQ, [[8, -2, 0, 7], [-4, 5, 6, -22], [2, -2, 5, 5], [2, -1, 1, 3]]); show(A)"
   ]
  },
  {
   "cell_type": "code",
   "execution_count": 7,
   "metadata": {},
   "outputs": [
    {
     "data": {
      "text/html": [
       "<html><script type=\"math/tex; mode=display\">\\newcommand{\\Bold}[1]{\\mathbf{#1}}\\left(13,\\,-15,\\,10,\\,5\\right)</script></html>"
      ],
      "text/latex": [
       "\\begin{math}\n",
       "\\newcommand{\\Bold}[1]{\\mathbf{#1}}\\left(13,\\,-15,\\,10,\\,5\\right)\n",
       "\\end{math}"
      ],
      "text/plain": [
       "(13, -15, 10, 5)"
      ]
     },
     "metadata": {},
     "output_type": "display_data"
    }
   ],
   "source": [
    "b = vector(QQ, [13, -15, 10, 5]); show(b)"
   ]
  },
  {
   "cell_type": "markdown",
   "metadata": {},
   "source": [
    "<p>a) utilizando la función de SAGE  <span style=\"color: #0000ff;\">solve_right():</span></p>"
   ]
  },
  {
   "cell_type": "code",
   "execution_count": 8,
   "metadata": {},
   "outputs": [
    {
     "data": {
      "text/plain": [
       "(1, 1, 1, 1)"
      ]
     },
     "execution_count": 8,
     "metadata": {},
     "output_type": "execute_result"
    }
   ],
   "source": [
    "A.solve_right(b)"
   ]
  },
  {
   "cell_type": "markdown",
   "metadata": {},
   "source": [
    "<p>b) mediante eliminación gaussiana sobre la matriz ampliada del sistema:</p>"
   ]
  },
  {
   "cell_type": "code",
   "execution_count": 9,
   "metadata": {},
   "outputs": [
    {
     "data": {
      "text/html": [
       "<html><script type=\"math/tex; mode=display\">\\newcommand{\\Bold}[1]{\\mathbf{#1}}\\left(\\begin{array}{rrrr|r}\n",
       "8 & -2 & 0 & 7 & 13 \\\\\n",
       "-4 & 5 & 6 & -22 & -15 \\\\\n",
       "2 & -2 & 5 & 5 & 10 \\\\\n",
       "2 & -1 & 1 & 3 & 5\n",
       "\\end{array}\\right)</script></html>"
      ],
      "text/latex": [
       "\\begin{math}\n",
       "\\newcommand{\\Bold}[1]{\\mathbf{#1}}\\left(\\begin{array}{rrrr|r}\n",
       "8 & -2 & 0 & 7 & 13 \\\\\n",
       "-4 & 5 & 6 & -22 & -15 \\\\\n",
       "2 & -2 & 5 & 5 & 10 \\\\\n",
       "2 & -1 & 1 & 3 & 5\n",
       "\\end{array}\\right)\n",
       "\\end{math}"
      ],
      "text/plain": [
       "[  8  -2   0   7| 13]\n",
       "[ -4   5   6 -22|-15]\n",
       "[  2  -2   5   5| 10]\n",
       "[  2  -1   1   3|  5]"
      ]
     },
     "metadata": {},
     "output_type": "display_data"
    }
   ],
   "source": [
    "M = block_matrix([[A, b.column()]])\n",
    "show(M)"
   ]
  },
  {
   "cell_type": "code",
   "execution_count": 10,
   "metadata": {},
   "outputs": [
    {
     "data": {
      "text/html": [
       "<html><script type=\"math/tex; mode=display\">\\newcommand{\\Bold}[1]{\\mathbf{#1}}\\left(\\begin{array}{rrrr|r}\n",
       "8 & -2 & 0 & 7 & 13 \\\\\n",
       "0 & 4 & 6 & -\\frac{37}{2} & -\\frac{17}{2} \\\\\n",
       "0 & 0 & \\frac{29}{4} & -\\frac{59}{16} & \\frac{57}{16} \\\\\n",
       "0 & 0 & 0 & -\\frac{5}{29} & -\\frac{5}{29}\n",
       "\\end{array}\\right)</script></html>"
      ],
      "text/latex": [
       "\\begin{math}\n",
       "\\newcommand{\\Bold}[1]{\\mathbf{#1}}\\left(\\begin{array}{rrrr|r}\n",
       "8 & -2 & 0 & 7 & 13 \\\\\n",
       "0 & 4 & 6 & -\\frac{37}{2} & -\\frac{17}{2} \\\\\n",
       "0 & 0 & \\frac{29}{4} & -\\frac{59}{16} & \\frac{57}{16} \\\\\n",
       "0 & 0 & 0 & -\\frac{5}{29} & -\\frac{5}{29}\n",
       "\\end{array}\\right)\n",
       "\\end{math}"
      ],
      "text/plain": [
       "[     8     -2      0      7|    13]\n",
       "[     0      4      6  -37/2| -17/2]\n",
       "[     0      0   29/4 -59/16| 57/16]\n",
       "[     0      0      0  -5/29| -5/29]"
      ]
     },
     "metadata": {},
     "output_type": "display_data"
    }
   ],
   "source": [
    "F, U = forma_escalonada(M)\n",
    "show(U)"
   ]
  },
  {
   "cell_type": "code",
   "execution_count": 11,
   "metadata": {},
   "outputs": [
    {
     "data": {
      "text/plain": [
       "(1, 1, 1, 1)"
      ]
     },
     "execution_count": 11,
     "metadata": {},
     "output_type": "execute_result"
    }
   ],
   "source": [
    "sustitucion_regresiva(U)"
   ]
  },
  {
   "cell_type": "markdown",
   "metadata": {},
   "source": [
    "<p>c) a partir de la forma escalonada canónica de la matriz ampliada:</p>"
   ]
  },
  {
   "cell_type": "code",
   "execution_count": 12,
   "metadata": {},
   "outputs": [
    {
     "data": {
      "text/html": [
       "<html><script type=\"math/tex; mode=display\">\\newcommand{\\Bold}[1]{\\mathbf{#1}}\\left(\\begin{array}{rrrr|r}\n",
       "1 & 0 & 0 & 0 & 1 \\\\\n",
       "0 & 1 & 0 & 0 & 1 \\\\\n",
       "0 & 0 & 1 & 0 & 1 \\\\\n",
       "0 & 0 & 0 & 1 & 1\n",
       "\\end{array}\\right)</script></html>"
      ],
      "text/latex": [
       "\\begin{math}\n",
       "\\newcommand{\\Bold}[1]{\\mathbf{#1}}\\left(\\begin{array}{rrrr|r}\n",
       "1 & 0 & 0 & 0 & 1 \\\\\n",
       "0 & 1 & 0 & 0 & 1 \\\\\n",
       "0 & 0 & 1 & 0 & 1 \\\\\n",
       "0 & 0 & 0 & 1 & 1\n",
       "\\end{array}\\right)\n",
       "\\end{math}"
      ],
      "text/plain": [
       "[1 0 0 0|1]\n",
       "[0 1 0 0|1]\n",
       "[0 0 1 0|1]\n",
       "[0 0 0 1|1]"
      ]
     },
     "metadata": {},
     "output_type": "display_data"
    }
   ],
   "source": [
    "F,U = forma_escalonada(M, True)\n",
    "show(U)"
   ]
  },
  {
   "cell_type": "markdown",
   "metadata": {},
   "source": [
    "<p>Siendo las variables $x,y,z,t$,  la matriz ampliada del sistema se interpreta como:</p>\n",
    "<p>$$\\left\\lbrace \\begin{array}{ccccc} x&&&&=1\\\\ &y&&&=1\\\\ &&z&&=1 \\\\ &&&t&=1 \\end{array}\\right.$$</p>\n",
    "<p>La solución se lee directamente en este sistema.</p>\n",
    "<h3><a name=\"pivoteo\"></a>Técnicas de pivoteo</h3>\n",
    "<p>La resolución de un sistema de ecuaciones lineales mediante el método de eliminación gaussiana no está exenta de problemas debido a la transmisión de los errores de redondeo durante todo el proceso de cálculo. Veamos un ejemplo ilustrativo, trabajando con números reales en punto flotante.</p>\n",
    "<h3><strong><span style=\"color: #0000ff;\">Ejemplo 3</span></strong></h3>\n",
    "<p>Consideremos el sistema lineal $\\ Ax=b\\ $ para las entradas</p>\n",
    "<p>$ A=\\left(\\begin{array}{rrrr} 0.003 & 9.00 \\\\ 4.00 & 0.100 \\end{array}\\right) \\ \\ \\ \\ {\\rm y} \\ \\ \\ \\ b=\\left(\\begin{array}{r}9.03 \\\\ 40.1\\end{array}\\right)$</p>\n",
    "<p>cuya solución exacta es $x=\\left(\\begin{array}{r}10 \\\\ 1\\end{array}\\right)$</p>\n",
    "<p>Lo resolvemos mediante escalonamiento simple sobre la matriz ampliada del sistema:</p>\n",
    "<p> </p>"
   ]
  },
  {
   "cell_type": "code",
   "execution_count": 13,
   "metadata": {},
   "outputs": [
    {
     "data": {
      "text/html": [
       "<html><script type=\"math/tex; mode=display\">\\newcommand{\\Bold}[1]{\\mathbf{#1}}\\left(\\begin{array}{rrr}\n",
       "0.00300000000000000 & 9.00000000000000 & 9.03000000000000 \\\\\n",
       "4.00000000000000 & 0.100000000000000 & 40.1000000000000\n",
       "\\end{array}\\right)</script></html>"
      ],
      "text/latex": [
       "\\begin{math}\n",
       "\\newcommand{\\Bold}[1]{\\mathbf{#1}}\\left(\\begin{array}{rrr}\n",
       "0.00300000000000000 & 9.00000000000000 & 9.03000000000000 \\\\\n",
       "4.00000000000000 & 0.100000000000000 & 40.1000000000000\n",
       "\\end{array}\\right)\n",
       "\\end{math}"
      ],
      "text/plain": [
       "[0.00300000000000000    9.00000000000000    9.03000000000000]\n",
       "[   4.00000000000000   0.100000000000000    40.1000000000000]"
      ]
     },
     "metadata": {},
     "output_type": "display_data"
    }
   ],
   "source": [
    "M = matrix([[0.003, 9.00, 9.03], [4.00, 0.100, 40.1]]); show(M)"
   ]
  },
  {
   "cell_type": "code",
   "execution_count": 16,
   "metadata": {},
   "outputs": [
    {
     "name": "stdout",
     "output_type": "stream",
     "text": [
      "Matriz original:\n"
     ]
    },
    {
     "data": {
      "text/html": [
       "<html><script type=\"math/tex; mode=display\">\\newcommand{\\Bold}[1]{\\mathbf{#1}}\\left[\\begin{array}{rrr}\n",
       "0.00300000000000000 & 9.00000000000000 & 9.03000000000000 \\\\\n",
       "4.00000000000000 & 0.100000000000000 & 40.1000000000000\n",
       "\\end{array}\\right]</script></html>"
      ],
      "text/plain": [
       "[0.00300000000000000    9.00000000000000    9.03000000000000]\n",
       "[   4.00000000000000   0.100000000000000    40.1000000000000]"
      ]
     },
     "metadata": {},
     "output_type": "display_data"
    },
    {
     "name": "stdout",
     "output_type": "stream",
     "text": [
      "Transformaciones elementales realizadas:\n"
     ]
    },
    {
     "data": {
      "text/html": [
       "<script type=\"math/tex\">F_{2,1}(-1333.33333333333)</script>"
      ],
      "text/plain": [
       "<script type=\"math/tex\">F_{2,1}(-1333.33333333333)</script>"
      ]
     },
     "metadata": {},
     "output_type": "display_data"
    },
    {
     "name": "stdout",
     "output_type": "stream",
     "text": [
      "Forma escalonada simple:\n"
     ]
    },
    {
     "data": {
      "text/html": [
       "<html><script type=\"math/tex; mode=display\">\\newcommand{\\Bold}[1]{\\mathbf{#1}}\\left[\\begin{array}{rrr}\n",
       "0.00300000000000000 & 9.00000000000000 & 9.03000000000000 \\\\\n",
       "0.000000000000000 & -11999.9000000000 & -11999.9000000000\n",
       "\\end{array}\\right]</script></html>"
      ],
      "text/plain": [
       "[0.00300000000000000    9.00000000000000    9.03000000000000]\n",
       "[  0.000000000000000   -11999.9000000000   -11999.9000000000]"
      ]
     },
     "metadata": {},
     "output_type": "display_data"
    }
   ],
   "source": [
    "F, U = forma_escalonada(M, False, True)"
   ]
  },
  {
   "cell_type": "code",
   "execution_count": 14,
   "metadata": {},
   "outputs": [
    {
     "data": {
      "text/plain": [
       "(1, 1, 1, 1)"
      ]
     },
     "execution_count": 14,
     "metadata": {},
     "output_type": "execute_result"
    }
   ],
   "source": [
    "sustitucion_regresiva(U)"
   ]
  },
  {
   "cell_type": "markdown",
   "metadata": {},
   "source": [
    "<p>Obsérvese que la solución se ve afectada por un pequeño error $(0.0000000000004)$, insignificante en este caso. No obstante, tales errores pueden magnificarse a medida que disminuye la precisión con la que realicemos los cálculos.</p>\n",
    "<p>Vamos a repetir el proceso pero obligando a SAGE a realizar los cálculos con números reales en <span style=\"color: #000000;\"><strong>punto flotante y 8 bits de precisión para la mantisa</strong></span>, lo que provocará grandes errores de redondeo al almacenar los datos:</p>"
   ]
  },
  {
   "cell_type": "code",
   "execution_count": 15,
   "metadata": {},
   "outputs": [
    {
     "data": {
      "text/html": [
       "<html><script type=\"math/tex; mode=display\">\\newcommand{\\Bold}[1]{\\mathbf{#1}}\\left(\\begin{array}{rrr}\n",
       "0.0030 & 9.0 & 9.0 \\\\\n",
       "4.0 & 0.10 & 40.\n",
       "\\end{array}\\right)</script></html>"
      ],
      "text/latex": [
       "\\begin{math}\n",
       "\\newcommand{\\Bold}[1]{\\mathbf{#1}}\\left(\\begin{array}{rrr}\n",
       "0.0030 & 9.0 & 9.0 \\\\\n",
       "4.0 & 0.10 & 40.\n",
       "\\end{array}\\right)\n",
       "\\end{math}"
      ],
      "text/plain": [
       "[0.0030    9.0    9.0]\n",
       "[   4.0   0.10    40.]"
      ]
     },
     "metadata": {},
     "output_type": "display_data"
    }
   ],
   "source": [
    "M8 = matrix(RealField(8), [[0.003, 9.00, 9.03], [4.00, 0.100, 40.1]])  ## RealField(8)  especifica 8 bits en la mantisa\n",
    "show(M8)"
   ]
  },
  {
   "cell_type": "markdown",
   "metadata": {},
   "source": [
    "<p>Mostramos los valores numéricos almacenados en memoria, ligeramente diferentes de los mostrados en pantalla:</p>"
   ]
  },
  {
   "cell_type": "code",
   "execution_count": 16,
   "metadata": {},
   "outputs": [
    {
     "data": {
      "text/plain": [
       "[0.00300598144531250    9.00000000000000    9.00000000000000]\n",
       "[   4.00000000000000   0.100097656250000    40.0000000000000]"
      ]
     },
     "execution_count": 16,
     "metadata": {},
     "output_type": "execute_result"
    }
   ],
   "source": [
    "n(M8)"
   ]
  },
  {
   "cell_type": "code",
   "execution_count": 17,
   "metadata": {},
   "outputs": [
    {
     "name": "stdout",
     "output_type": "stream",
     "text": [
      "Matriz original:\n"
     ]
    },
    {
     "data": {
      "text/html": [
       "<html><script type=\"math/tex; mode=display\">\\newcommand{\\Bold}[1]{\\mathbf{#1}}\\left(\\begin{array}{rrr}\n",
       "0.0030 & 9.0 & 9.0 \\\\\n",
       "4.0 & 0.10 & 40.\n",
       "\\end{array}\\right)</script></html>"
      ],
      "text/latex": [
       "\\begin{math}\n",
       "\\newcommand{\\Bold}[1]{\\mathbf{#1}}\\left(\\begin{array}{rrr}\n",
       "0.0030 & 9.0 & 9.0 \\\\\n",
       "4.0 & 0.10 & 40.\n",
       "\\end{array}\\right)\n",
       "\\end{math}"
      ],
      "text/plain": [
       "[0.0030    9.0    9.0]\n",
       "[   4.0   0.10    40.]"
      ]
     },
     "metadata": {},
     "output_type": "display_data"
    },
    {
     "name": "stdout",
     "output_type": "stream",
     "text": [
      "Transformaciones elementales realizadas:\n"
     ]
    },
    {
     "data": {
      "text/html": [
       "<script type=\"math/tex\">F_{2,1}(-1300.)</script>"
      ],
      "text/plain": [
       "<script type=\"math/tex\">F_{2,1}(-1300.)</script>"
      ]
     },
     "metadata": {},
     "output_type": "display_data"
    },
    {
     "name": "stdout",
     "output_type": "stream",
     "text": [
      "Forma escalonada simple:\n"
     ]
    },
    {
     "data": {
      "text/html": [
       "<html><script type=\"math/tex; mode=display\">\\newcommand{\\Bold}[1]{\\mathbf{#1}}\\left(\\begin{array}{rrr}\n",
       "0.0030 & 9.0 & 9.0 \\\\\n",
       "0.00 & -12000. & -12000.\n",
       "\\end{array}\\right)</script></html>"
      ],
      "text/latex": [
       "\\begin{math}\n",
       "\\newcommand{\\Bold}[1]{\\mathbf{#1}}\\left(\\begin{array}{rrr}\n",
       "0.0030 & 9.0 & 9.0 \\\\\n",
       "0.00 & -12000. & -12000.\n",
       "\\end{array}\\right)\n",
       "\\end{math}"
      ],
      "text/plain": [
       "[ 0.0030     9.0     9.0]\n",
       "[   0.00 -12000. -12000.]"
      ]
     },
     "metadata": {},
     "output_type": "display_data"
    }
   ],
   "source": [
    "F,U = forma_escalonada(M8, False, True)"
   ]
  },
  {
   "cell_type": "code",
   "execution_count": 18,
   "metadata": {},
   "outputs": [
    {
     "data": {
      "text/plain": [
       "(21., 1.0)"
      ]
     },
     "execution_count": 18,
     "metadata": {},
     "output_type": "execute_result"
    }
   ],
   "source": [
    "sustitucion_regresiva(U)"
   ]
  },
  {
   "cell_type": "code",
   "execution_count": null,
   "metadata": {},
   "outputs": [],
   "source": []
  },
  {
   "cell_type": "markdown",
   "metadata": {},
   "source": [
    "<p>Obsérvese que ahora la solución obtenida $x=(21,1.0)$ dista mucho de la solución exacta $x=(10,1)$.</p>\n",
    "<p>El problema viene motivado, fundamentalmente, porque la transformación elemental $F_{2,1}(-1300.)$ ha amplificado los errores de redondeo iniciales al multiplicar la primera fila por 1300.</p>\n",
    "<p>Es preciso por tanto introducir alguna técnica que controle el tamaño de los multiplicadores que se emplean en las transformaciones elementales durante el proceso de escalonamiento. Vamos a estudiar, a continuación, variantes de eliminación gaussiana con estrategias de  elección de pivotes.</p>\n",
    "<h4><strong>Eliminación gaussiana con pivoteo parcial</strong></h4>\n",
    "<p>En el proceso de escalonamiento, en la etapa k-ésima, hasta ahora hemos tomado como pivote el primer elemento no nulo de la columna correspondiente, por debajo de la diagonal. Una variante consiste en buscar el elemento de esa parte de la columna que es mayor en valor absoluto a todos los demás e intercambiar las filas de forma que el elemento localizado pase a ser el pivote. De esta forma, al dividir por el nuevo pivote conseguimos que el multiplicador sea menor o igual que 1. Esta técnica se denomina eliminación gaussiana con <strong>pivoteo parcial</strong>.</p>\n",
    "<p>Implentamos esta nueva estrategía. El método de Gauss  con pivoteo parcial, será realizado con</p>\n",
    "<p style=\"text-align: center;\"><span style=\"color: #0000ff;\">forma_escalonada(M, algoritmo='pivoteo parcial')</span></p>"
   ]
  },
  {
   "cell_type": "code",
   "execution_count": 19,
   "metadata": {},
   "outputs": [],
   "source": [
    "def busca_pivote_con_pivoteo_parcial(A, k, s):\n",
    "    vmax = 0    \n",
    "    (m, n) = A.dimensions()\n",
    "    r = m\n",
    "    while (s < n) and (vmax == 0):\n",
    "        # buscamos el coef max (en valor absoluto) en la col s, a partir de la fila k y por debajo\n",
    "        (vmax, r) = max( (abs(A[p, s]), p)  for p in range(k, m) )  \n",
    "        if vmax == 0: s = s + 1 # sin pivote en esta columna, pasamos a la siguiente.\n",
    "    return (r, s)    \n",
    "    \n",
    "busca_pivote['pivoteo parcial'] = busca_pivote_con_pivoteo_parcial"
   ]
  },
  {
   "cell_type": "markdown",
   "metadata": {},
   "source": [
    "<h3><strong><span style=\"color: #0000ff;\">Ejemplo 4</span></strong></h3>\n",
    "<p>Volvemos sobre el  ejemplo anterior, para precisión de 8 bits en punto flotante pero con técnica de pivoteo parcial.</p>"
   ]
  },
  {
   "cell_type": "code",
   "execution_count": 20,
   "metadata": {},
   "outputs": [
    {
     "name": "stdout",
     "output_type": "stream",
     "text": [
      "Matriz original:\n"
     ]
    },
    {
     "data": {
      "text/html": [
       "<html><script type=\"math/tex; mode=display\">\\newcommand{\\Bold}[1]{\\mathbf{#1}}\\left(\\begin{array}{rrr}\n",
       "0.0030 & 9.0 & 9.0 \\\\\n",
       "4.0 & 0.10 & 40.\n",
       "\\end{array}\\right)</script></html>"
      ],
      "text/latex": [
       "\\begin{math}\n",
       "\\newcommand{\\Bold}[1]{\\mathbf{#1}}\\left(\\begin{array}{rrr}\n",
       "0.0030 & 9.0 & 9.0 \\\\\n",
       "4.0 & 0.10 & 40.\n",
       "\\end{array}\\right)\n",
       "\\end{math}"
      ],
      "text/plain": [
       "[0.0030    9.0    9.0]\n",
       "[   4.0   0.10    40.]"
      ]
     },
     "metadata": {},
     "output_type": "display_data"
    },
    {
     "name": "stdout",
     "output_type": "stream",
     "text": [
      "Transformaciones elementales realizadas:\n"
     ]
    },
    {
     "data": {
      "text/html": [
       "<script type=\"math/tex\">F_{1,2}</script>"
      ],
      "text/plain": [
       "<script type=\"math/tex\">F_{1,2}</script>"
      ]
     },
     "metadata": {},
     "output_type": "display_data"
    },
    {
     "data": {
      "text/html": [
       "<script type=\"math/tex\">F_{2,1}(-0.00075)</script>"
      ],
      "text/plain": [
       "<script type=\"math/tex\">F_{2,1}(-0.00075)</script>"
      ]
     },
     "metadata": {},
     "output_type": "display_data"
    },
    {
     "name": "stdout",
     "output_type": "stream",
     "text": [
      "Forma escalonada simple:\n"
     ]
    },
    {
     "data": {
      "text/html": [
       "<html><script type=\"math/tex; mode=display\">\\newcommand{\\Bold}[1]{\\mathbf{#1}}\\left(\\begin{array}{rrr}\n",
       "4.0 & 0.10 & 40. \\\\\n",
       "0.00 & 9.0 & 9.0\n",
       "\\end{array}\\right)</script></html>"
      ],
      "text/latex": [
       "\\begin{math}\n",
       "\\newcommand{\\Bold}[1]{\\mathbf{#1}}\\left(\\begin{array}{rrr}\n",
       "4.0 & 0.10 & 40. \\\\\n",
       "0.00 & 9.0 & 9.0\n",
       "\\end{array}\\right)\n",
       "\\end{math}"
      ],
      "text/plain": [
       "[ 4.0 0.10  40.]\n",
       "[0.00  9.0  9.0]"
      ]
     },
     "metadata": {},
     "output_type": "display_data"
    }
   ],
   "source": [
    "M8 = matrix(RealField(8), [[0.003, 9.00, 9.03], [4.00, 0.100, 40.1]])\n",
    "F, U = forma_escalonada(M8, False, True, algoritmo = 'pivoteo parcial')"
   ]
  },
  {
   "cell_type": "code",
   "execution_count": 21,
   "metadata": {},
   "outputs": [
    {
     "data": {
      "text/plain": [
       "(10., 1.0)"
      ]
     },
     "execution_count": 21,
     "metadata": {},
     "output_type": "execute_result"
    }
   ],
   "source": [
    "sustitucion_regresiva(U)"
   ]
  },
  {
   "cell_type": "markdown",
   "metadata": {},
   "source": [
    "<p>¡Hemos obtenido la solución exacta!</p>\n",
    "<p> No obstante, en la práctica pueden surgir nuevos contratiempos que no resuelve esta técnica de pivoteo parcial. El más característico es el <strong>problema del escalado </strong>de las filas de la matriz:</p>\n",
    "<p>Supongamos que sustituimos una ecuación del sistema por un múltiplo grande de ella misma. Los elementos de la fila correspondiente se convierten, \"artificialmente\", en candidatos para pivotes en el método de pivoteo parcial ya que han crecido de tamaño, lo que puede generar nuevos problemas. Lo ilustraremos con el ejemplo anterior al multiplicar la primera fila por $10^4$ y repetir la técnica de pivoteo parcial.</p>\n",
    "<h3><span style=\"color: #0000ff;\">Ejemplo 5</span></h3>"
   ]
  },
  {
   "cell_type": "code",
   "execution_count": 22,
   "metadata": {},
   "outputs": [
    {
     "data": {
      "text/html": [
       "<html><script type=\"math/tex; mode=display\">\\newcommand{\\Bold}[1]{\\mathbf{#1}}\\left(\\begin{array}{rrr}\n",
       "30. & 90000. & 90000. \\\\\n",
       "4.0 & 0.10 & 40.\n",
       "\\end{array}\\right)</script></html>"
      ],
      "text/latex": [
       "\\begin{math}\n",
       "\\newcommand{\\Bold}[1]{\\mathbf{#1}}\\left(\\begin{array}{rrr}\n",
       "30. & 90000. & 90000. \\\\\n",
       "4.0 & 0.10 & 40.\n",
       "\\end{array}\\right)\n",
       "\\end{math}"
      ],
      "text/plain": [
       "[   30. 90000. 90000.]\n",
       "[   4.0   0.10    40.]"
      ]
     },
     "metadata": {},
     "output_type": "display_data"
    }
   ],
   "source": [
    "M8 = matrix(RealField(8), [[0.003, 9.00, 9.03], [4.00, 0.100, 40.1]])\n",
    "M8.rescale_row(0, 10^4)   # modificamos la primera fila; recuerda que Sage enumera comenzando por 0\n",
    "show(M8)"
   ]
  },
  {
   "cell_type": "code",
   "execution_count": 23,
   "metadata": {},
   "outputs": [
    {
     "name": "stdout",
     "output_type": "stream",
     "text": [
      "Matriz original:\n"
     ]
    },
    {
     "data": {
      "text/html": [
       "<html><script type=\"math/tex; mode=display\">\\newcommand{\\Bold}[1]{\\mathbf{#1}}\\left(\\begin{array}{rrr}\n",
       "30. & 90000. & 90000. \\\\\n",
       "4.0 & 0.10 & 40.\n",
       "\\end{array}\\right)</script></html>"
      ],
      "text/latex": [
       "\\begin{math}\n",
       "\\newcommand{\\Bold}[1]{\\mathbf{#1}}\\left(\\begin{array}{rrr}\n",
       "30. & 90000. & 90000. \\\\\n",
       "4.0 & 0.10 & 40.\n",
       "\\end{array}\\right)\n",
       "\\end{math}"
      ],
      "text/plain": [
       "[   30. 90000. 90000.]\n",
       "[   4.0   0.10    40.]"
      ]
     },
     "metadata": {},
     "output_type": "display_data"
    },
    {
     "name": "stdout",
     "output_type": "stream",
     "text": [
      "Transformaciones elementales realizadas:\n"
     ]
    },
    {
     "data": {
      "text/html": [
       "<script type=\"math/tex\">F_{2,1}(-0.13)</script>"
      ],
      "text/plain": [
       "<script type=\"math/tex\">F_{2,1}(-0.13)</script>"
      ]
     },
     "metadata": {},
     "output_type": "display_data"
    },
    {
     "name": "stdout",
     "output_type": "stream",
     "text": [
      "Forma escalonada simple:\n"
     ]
    },
    {
     "data": {
      "text/html": [
       "<html><script type=\"math/tex; mode=display\">\\newcommand{\\Bold}[1]{\\mathbf{#1}}\\left(\\begin{array}{rrr}\n",
       "30. & 90000. & 90000. \\\\\n",
       "0.00 & -12000. & -12000.\n",
       "\\end{array}\\right)</script></html>"
      ],
      "text/latex": [
       "\\begin{math}\n",
       "\\newcommand{\\Bold}[1]{\\mathbf{#1}}\\left(\\begin{array}{rrr}\n",
       "30. & 90000. & 90000. \\\\\n",
       "0.00 & -12000. & -12000.\n",
       "\\end{array}\\right)\n",
       "\\end{math}"
      ],
      "text/plain": [
       "[    30.  90000.  90000.]\n",
       "[   0.00 -12000. -12000.]"
      ]
     },
     "metadata": {},
     "output_type": "display_data"
    }
   ],
   "source": [
    "F,U = forma_escalonada(M8, False, True, algoritmo = 'pivoteo parcial')"
   ]
  },
  {
   "cell_type": "code",
   "execution_count": 24,
   "metadata": {},
   "outputs": [
    {
     "data": {
      "text/plain": [
       "(17., 1.0)"
      ]
     },
     "execution_count": 24,
     "metadata": {},
     "output_type": "execute_result"
    }
   ],
   "source": [
    "sustitucion_regresiva(U)"
   ]
  },
  {
   "cell_type": "code",
   "execution_count": null,
   "metadata": {},
   "outputs": [],
   "source": []
  },
  {
   "cell_type": "markdown",
   "metadata": {},
   "source": [
    "<p>Como se puede observar, hemos vuelto a obtener una solución totalmente errónea.</p>\n",
    "<h4><a name=\"pivoteope\"></a>Pivoteo parcial escalado</h4>\n",
    "<p>Una nueva técnica de elección de pivote que intenta paliar este problema de escalado consiste en modificar el pivoteo parcial, tomando como nuevo pivote en la parte de columna correspondiente aquel que resulte mayor al dividir su valor absoluto por el mayor valor absoluto de los elementos de la fila que lo contiene. En lo sucesivo llamaremos a esta técnica como eliminación gaussiana con pivoteo parcial escalado.</p>\n",
    "<p>Implementamos la nueva estrategía de busqueda del pivote y la utilizaremos con</p>\n",
    "<p style=\"text-align: center;\"><span style=\"color: #0000ff;\">forma_escalonada(M, algoritmo='pivoteo parcial escalado')</span></p>"
   ]
  },
  {
   "cell_type": "code",
   "execution_count": 25,
   "metadata": {},
   "outputs": [],
   "source": [
    "def busca_pivote_con_pivoteo_parcial_escalado(A, k, s):\n",
    "    vmax = 0    \n",
    "    (m, n) = A.dimensions()\n",
    "    r = m\n",
    "    while (s < n) and (vmax == 0):\n",
    "        for p in range(k,m):\n",
    "            rowmax = max( abs(A[p,j]) for j in range(s,n) )\n",
    "            if rowmax != 0 and abs(A[p,s])/rowmax > vmax: \n",
    "                (vmax, r) = (abs(A[p,s]) / rowmax , p)\n",
    "        if vmax == 0: s = s+1\n",
    "    return (r, s)    \n",
    "    \n",
    "    \n",
    "busca_pivote['pivoteo parcial escalado'] = busca_pivote_con_pivoteo_parcial_escalado"
   ]
  },
  {
   "cell_type": "markdown",
   "metadata": {},
   "source": [
    "<h3><span style=\"color: #0000ff;\">Ejemplo 6</span></h3>\n",
    "<p>Volvemos sobre el <strong>ejemplo anterior, </strong>aplicando ahora la técnica de escalonamiento con pivoteo parcial escalado.</p>"
   ]
  },
  {
   "cell_type": "code",
   "execution_count": 26,
   "metadata": {},
   "outputs": [
    {
     "name": "stdout",
     "output_type": "stream",
     "text": [
      "Matriz original:\n"
     ]
    },
    {
     "data": {
      "text/html": [
       "<html><script type=\"math/tex; mode=display\">\\newcommand{\\Bold}[1]{\\mathbf{#1}}\\left(\\begin{array}{rrr}\n",
       "30. & 90000. & 90000. \\\\\n",
       "4.0 & 0.10 & 40.\n",
       "\\end{array}\\right)</script></html>"
      ],
      "text/latex": [
       "\\begin{math}\n",
       "\\newcommand{\\Bold}[1]{\\mathbf{#1}}\\left(\\begin{array}{rrr}\n",
       "30. & 90000. & 90000. \\\\\n",
       "4.0 & 0.10 & 40.\n",
       "\\end{array}\\right)\n",
       "\\end{math}"
      ],
      "text/plain": [
       "[   30. 90000. 90000.]\n",
       "[   4.0   0.10    40.]"
      ]
     },
     "metadata": {},
     "output_type": "display_data"
    },
    {
     "name": "stdout",
     "output_type": "stream",
     "text": [
      "Transformaciones elementales realizadas:\n"
     ]
    },
    {
     "data": {
      "text/html": [
       "<script type=\"math/tex\">F_{1,2}</script>"
      ],
      "text/plain": [
       "<script type=\"math/tex\">F_{1,2}</script>"
      ]
     },
     "metadata": {},
     "output_type": "display_data"
    },
    {
     "data": {
      "text/html": [
       "<script type=\"math/tex\">F_{2,1}(-7.5)</script>"
      ],
      "text/plain": [
       "<script type=\"math/tex\">F_{2,1}(-7.5)</script>"
      ]
     },
     "metadata": {},
     "output_type": "display_data"
    },
    {
     "name": "stdout",
     "output_type": "stream",
     "text": [
      "Forma escalonada simple:\n"
     ]
    },
    {
     "data": {
      "text/html": [
       "<html><script type=\"math/tex; mode=display\">\\newcommand{\\Bold}[1]{\\mathbf{#1}}\\left(\\begin{array}{rrr}\n",
       "4.0 & 0.10 & 40. \\\\\n",
       "0.00 & 90000. & 90000.\n",
       "\\end{array}\\right)</script></html>"
      ],
      "text/latex": [
       "\\begin{math}\n",
       "\\newcommand{\\Bold}[1]{\\mathbf{#1}}\\left(\\begin{array}{rrr}\n",
       "4.0 & 0.10 & 40. \\\\\n",
       "0.00 & 90000. & 90000.\n",
       "\\end{array}\\right)\n",
       "\\end{math}"
      ],
      "text/plain": [
       "[   4.0   0.10    40.]\n",
       "[  0.00 90000. 90000.]"
      ]
     },
     "metadata": {},
     "output_type": "display_data"
    }
   ],
   "source": [
    "F, U = forma_escalonada(M8, False, True, algoritmo = 'pivoteo parcial escalado')"
   ]
  },
  {
   "cell_type": "code",
   "execution_count": 27,
   "metadata": {},
   "outputs": [
    {
     "data": {
      "text/plain": [
       "(10., 1.0)"
      ]
     },
     "execution_count": 27,
     "metadata": {},
     "output_type": "execute_result"
    }
   ],
   "source": [
    "sustitucion_regresiva(U)"
   ]
  },
  {
   "cell_type": "code",
   "execution_count": null,
   "metadata": {},
   "outputs": [],
   "source": []
  },
  {
   "cell_type": "markdown",
   "metadata": {},
   "source": [
    "<p>Como puede observarse, una vez más, hemos paliado los efectos del problema de escalado, obteniendo la solución exacta.</p>\n",
    "\n",
    "<h3><a name=\"desclu\"></a><strong>Descomposición $LU$ de una matriz</strong></h3>\n",
    "<p>El proceso de eliminación gaussiana de una matriz $A$, como hemos visto, nos lleva a una descomposición matricial del tipo $F\\cdot A=U$, donde $U$ es una matriz triangular superior y $F$ es una matriz cuadrada no singular, cuya inversa llamaremos $L=F^{-1}$, resultando $A=L\\cdot U$.</p>\n",
    "<p>Por otra parte, el proceso de eliminación gaussiana sólo requiere a lo sumo dos tipos de transformaciones elementales: intercambios de filas, $F_{ij}\\ $, y adición a una fila de un múltiplo de otra, $F_{i,j}(-m_{ij})$. Si podemos prescindir de intercambios de filas, resulta que $F$ y $L$ son <strong>matrices triangulares inferiores unitarias</strong> y, concretamente el elemento $l_{ij}$ de la parte inferior de la matriz $L$ viene dado por los multiplicadores utilizados en el escalonamiento, cambiados de signo; esto es, $l_{ij}=m_{ij}$.</p>\n",
    "<p>En caso de que sea preciso o nos interese utilizar intercambio de filas, se puede obtener una descomposición del tipo $P\\cdot A=L\\cdot U$, donde ahora $P$ representa una matriz de permutación, cuyo efecto al multiplicar por la matriz $A$ consiste en reordenar las filas de la misma. Para obtener la matriz $P$ basta con guardar memoria de todos los intercambios de filas realizados a lo largo del proceso de eliminación y aplicar estos mismos intercambios a la matriz unidad.</p>\n",
    "<p>Modificamos los algoritmos anteriores para que guarden memoria de las matrices $P$, $L$ y $U$. </p>\n",
    "<p>A continuación se definen varias funciones que actúan sobre una matriz:</p>\n",
    "<p><span style=\"color: #0000ff;\">descompLU(A)</span> proporciona la descomposición LU de una matriz A en caso de que exista, informando en caso contrario. Nos devuelve la secuencia de las dos matrices de la descomposición:  L, U.</p>\n",
    "<p><span style=\"color: #0000ff;\">descompPLU(A)</span> proporciona la descomposición PLU de una matriz A resultante de la eliminación gaussiana con <span style=\"color: #0000ff;\">pivoteo parcial</span>. Nos devuelve una secuencia de las tres matrices de la descomposición: P, L, U.</p>\n",
    "<p><span style=\"color: #0000ff;\">descompPLUppe(A)</span> proporciona la descomposición PLU de una matriz A resultante de la eliminación gaussiana con <span style=\"color: #0000ff;\">pivoteo parcial escalado</span>. Nos devuelve una secuencia de las tres matrices de la descomposición: P, L, U.</p>"
   ]
  },
  {
   "cell_type": "code",
   "execution_count": 28,
   "metadata": {},
   "outputs": [],
   "source": [
    "def tril(A, k = 0):\n",
    "    L = copy(A)\n",
    "    m = A.nrows()\n",
    "    n = A.ncols()\n",
    "    L = matrix(A.base_ring(),m, n, lambda i,j : 0 if j > i+k else A[i,j])\n",
    "    return(L)\n",
    "\n",
    "def triu(A, k = 0):\n",
    "    return(tril(A.transpose(), k).transpose())\n",
    "\n",
    "def descompLU(M):\n",
    "    A = copy(M)\n",
    "    m = A.nrows(); n = A.ncols()\n",
    "    for k in range(m):\n",
    "        if A[k, k] != 0:\n",
    "            for t in range(k + 1, m):\n",
    "                A[t, k] = A[t, k]/A[k, k]\n",
    "                A[t, k+1:] = A[t, k+1:] - A[t, k]*A[k, k+1:]\n",
    "        elif any( x!=0 for x in A[k+1:, k]):\n",
    "            print('La matriz no admite descomposición LU sin intercambio de filas')\n",
    "            return None, None\n",
    "    L = identity_matrix(base_ring(A), m) + tril(A, -1)\n",
    "    U = triu(A)\n",
    "    return L, U\n",
    "\n",
    "def descompPLU(M):\n",
    "    'Descomposicion PLU de A. Se tiene PA=LU.'\n",
    "    A = copy(M)\n",
    "    m = A.nrows(); n = A.ncols()\n",
    "    piv = list(range(n))\n",
    "    for k in range(m):\n",
    "        (vmax, q) = max(  (abs(A[s, k]), s) for s in range(k, m) )\n",
    "        if q != k:\n",
    "            piv[k], piv[q] = piv[q], piv[k]\n",
    "            A.swap_rows(q, k)\n",
    "        if A[k, k] != 0:\n",
    "            for t in range(k + 1, m):\n",
    "                A[t, k]    = A[t, k]/A[k, k]\n",
    "                A[t, k+1:] = A[t, k+1:] - A[t, k]*A[k, k+1:]\n",
    "    L = identity_matrix(base_ring(A), m) + tril(A, -1)\n",
    "    U = triu(A)\n",
    "    P = identity_matrix(base_ring(A), m).matrix_from_rows(piv)\n",
    "    return P, L, U\n",
    "        \n",
    "        \n",
    "def descompPLUppe(M):\n",
    "    A = copy(M)\n",
    "    m = A.nrows(); n = A.ncols()\n",
    "    piv = list(range(n))\n",
    "    for k in range(m):\n",
    "        vmax = 0\n",
    "        for s in range(k,m):\n",
    "            mm = max( abs(A[s,j]) for j in range(k,n) )\n",
    "            if mm!=0:\n",
    "                v = abs(A[s, k])/mm\n",
    "                if v > vmax: (vmax, q) = (v, s)\n",
    "        if q != k:\n",
    "            piv[k], piv[q] = piv[q], piv[k]\n",
    "            A.swap_rows(q, k)\n",
    "        if A[k, k] != 0:\n",
    "            for t in range(k + 1, m):\n",
    "                A[t, k] = A[t, k]/A[k, k]\n",
    "                A[t, k+1:] = A[t, k+1:] - A[t, k]*A[k, k+1:]\n",
    "    L = identity_matrix(base_ring(A), m) + tril(A, -1)\n",
    "    U = triu(A)\n",
    "    P = identity_matrix(base_ring(A), m).matrix_from_rows(piv)\n",
    "    return P, L, U"
   ]
  },
  {
   "cell_type": "markdown",
   "metadata": {},
   "source": [
    "<h3><span style=\"color: #0000ff;\">Ejemplo 7</span></h3>\n",
    "<p>Calculamos la descomposición $LU$ de una matriz $A$ de orden 3 y comparamos con el proceso de escalonamiento:</p>"
   ]
  },
  {
   "cell_type": "code",
   "execution_count": 29,
   "metadata": {},
   "outputs": [
    {
     "data": {
      "text/html": [
       "<html><script type=\"math/tex; mode=display\">\\newcommand{\\Bold}[1]{\\mathbf{#1}}\\left(\\begin{array}{rrr}\n",
       "1 & 2 & 3 \\\\\n",
       "3 & 24 & 1 \\\\\n",
       "-1 & 5 & 1\n",
       "\\end{array}\\right)</script></html>"
      ],
      "text/latex": [
       "\\begin{math}\n",
       "\\newcommand{\\Bold}[1]{\\mathbf{#1}}\\left(\\begin{array}{rrr}\n",
       "1 & 2 & 3 \\\\\n",
       "3 & 24 & 1 \\\\\n",
       "-1 & 5 & 1\n",
       "\\end{array}\\right)\n",
       "\\end{math}"
      ],
      "text/plain": [
       "[ 1  2  3]\n",
       "[ 3 24  1]\n",
       "[-1  5  1]"
      ]
     },
     "metadata": {},
     "output_type": "display_data"
    }
   ],
   "source": [
    "A=matrix(QQ, [[1, 2, 3], [3, 24, 1], [-1, 5, 1]]); show(A)"
   ]
  },
  {
   "cell_type": "code",
   "execution_count": 30,
   "metadata": {},
   "outputs": [
    {
     "data": {
      "text/html": [
       "<html><script type=\"math/tex; mode=display\">\\newcommand{\\Bold}[1]{\\mathbf{#1}}\\left(\\begin{array}{rrr}\n",
       "1 & 0 & 0 \\\\\n",
       "3 & 1 & 0 \\\\\n",
       "-1 & \\frac{7}{18} & 1\n",
       "\\end{array}\\right)</script></html>"
      ],
      "text/latex": [
       "\\begin{math}\n",
       "\\newcommand{\\Bold}[1]{\\mathbf{#1}}\\left(\\begin{array}{rrr}\n",
       "1 & 0 & 0 \\\\\n",
       "3 & 1 & 0 \\\\\n",
       "-1 & \\frac{7}{18} & 1\n",
       "\\end{array}\\right)\n",
       "\\end{math}"
      ],
      "text/plain": [
       "[   1    0    0]\n",
       "[   3    1    0]\n",
       "[  -1 7/18    1]"
      ]
     },
     "metadata": {},
     "output_type": "display_data"
    },
    {
     "data": {
      "text/html": [
       "<html><script type=\"math/tex; mode=display\">\\newcommand{\\Bold}[1]{\\mathbf{#1}}\\left(\\begin{array}{rrr}\n",
       "1 & 2 & 3 \\\\\n",
       "0 & 18 & -8 \\\\\n",
       "0 & 0 & \\frac{64}{9}\n",
       "\\end{array}\\right)</script></html>"
      ],
      "text/latex": [
       "\\begin{math}\n",
       "\\newcommand{\\Bold}[1]{\\mathbf{#1}}\\left(\\begin{array}{rrr}\n",
       "1 & 2 & 3 \\\\\n",
       "0 & 18 & -8 \\\\\n",
       "0 & 0 & \\frac{64}{9}\n",
       "\\end{array}\\right)\n",
       "\\end{math}"
      ],
      "text/plain": [
       "[   1    2    3]\n",
       "[   0   18   -8]\n",
       "[   0    0 64/9]"
      ]
     },
     "metadata": {},
     "output_type": "display_data"
    }
   ],
   "source": [
    "L, U = descompLU(A)\n",
    "show(L)\n",
    "show(U)"
   ]
  },
  {
   "cell_type": "code",
   "execution_count": 31,
   "metadata": {},
   "outputs": [
    {
     "data": {
      "text/plain": [
       "True"
      ]
     },
     "execution_count": 31,
     "metadata": {},
     "output_type": "execute_result"
    }
   ],
   "source": [
    "L*U == A"
   ]
  },
  {
   "cell_type": "code",
   "execution_count": 32,
   "metadata": {},
   "outputs": [
    {
     "name": "stdout",
     "output_type": "stream",
     "text": [
      "Matriz original:\n"
     ]
    },
    {
     "data": {
      "text/html": [
       "<html><script type=\"math/tex; mode=display\">\\newcommand{\\Bold}[1]{\\mathbf{#1}}\\left(\\begin{array}{rrr}\n",
       "1 & 2 & 3 \\\\\n",
       "3 & 24 & 1 \\\\\n",
       "-1 & 5 & 1\n",
       "\\end{array}\\right)</script></html>"
      ],
      "text/latex": [
       "\\begin{math}\n",
       "\\newcommand{\\Bold}[1]{\\mathbf{#1}}\\left(\\begin{array}{rrr}\n",
       "1 & 2 & 3 \\\\\n",
       "3 & 24 & 1 \\\\\n",
       "-1 & 5 & 1\n",
       "\\end{array}\\right)\n",
       "\\end{math}"
      ],
      "text/plain": [
       "[ 1  2  3]\n",
       "[ 3 24  1]\n",
       "[-1  5  1]"
      ]
     },
     "metadata": {},
     "output_type": "display_data"
    },
    {
     "name": "stdout",
     "output_type": "stream",
     "text": [
      "Transformaciones elementales realizadas:\n"
     ]
    },
    {
     "data": {
      "text/html": [
       "<script type=\"math/tex\">F_{2,1}(-3)</script>"
      ],
      "text/plain": [
       "<script type=\"math/tex\">F_{2,1}(-3)</script>"
      ]
     },
     "metadata": {},
     "output_type": "display_data"
    },
    {
     "data": {
      "text/html": [
       "<script type=\"math/tex\">F_{3,1}(1)</script>"
      ],
      "text/plain": [
       "<script type=\"math/tex\">F_{3,1}(1)</script>"
      ]
     },
     "metadata": {},
     "output_type": "display_data"
    },
    {
     "data": {
      "text/html": [
       "<script type=\"math/tex\">F_{3,2}(-\\frac{7}{18})</script>"
      ],
      "text/plain": [
       "<script type=\"math/tex\">F_{3,2}(-\\frac{7}{18})</script>"
      ]
     },
     "metadata": {},
     "output_type": "display_data"
    },
    {
     "name": "stdout",
     "output_type": "stream",
     "text": [
      "Forma escalonada simple:\n"
     ]
    },
    {
     "data": {
      "text/html": [
       "<html><script type=\"math/tex; mode=display\">\\newcommand{\\Bold}[1]{\\mathbf{#1}}\\left(\\begin{array}{rrr}\n",
       "1 & 2 & 3 \\\\\n",
       "0 & 18 & -8 \\\\\n",
       "0 & 0 & \\frac{64}{9}\n",
       "\\end{array}\\right)</script></html>"
      ],
      "text/latex": [
       "\\begin{math}\n",
       "\\newcommand{\\Bold}[1]{\\mathbf{#1}}\\left(\\begin{array}{rrr}\n",
       "1 & 2 & 3 \\\\\n",
       "0 & 18 & -8 \\\\\n",
       "0 & 0 & \\frac{64}{9}\n",
       "\\end{array}\\right)\n",
       "\\end{math}"
      ],
      "text/plain": [
       "[   1    2    3]\n",
       "[   0   18   -8]\n",
       "[   0    0 64/9]"
      ]
     },
     "metadata": {},
     "output_type": "display_data"
    }
   ],
   "source": [
    "F, U1 = forma_escalonada(A, False, True)"
   ]
  },
  {
   "cell_type": "markdown",
   "metadata": {},
   "source": [
    "<h3><span style=\"color: #0000ff;\">Ejemplo 8</span></h3>\n",
    "<p>Sobre el <strong>ejemplo anterior</strong>, calculamos las descomposiciones PLU con pivoteo parcial y parcial escalado:</p>"
   ]
  },
  {
   "cell_type": "code",
   "execution_count": 33,
   "metadata": {},
   "outputs": [
    {
     "data": {
      "text/html": [
       "<html><script type=\"math/tex; mode=display\">\\newcommand{\\Bold}[1]{\\mathbf{#1}}\\left(\\begin{array}{rrr}\n",
       "0 & 1 & 0 \\\\\n",
       "0 & 0 & 1 \\\\\n",
       "1 & 0 & 0\n",
       "\\end{array}\\right)</script></html>"
      ],
      "text/latex": [
       "\\begin{math}\n",
       "\\newcommand{\\Bold}[1]{\\mathbf{#1}}\\left(\\begin{array}{rrr}\n",
       "0 & 1 & 0 \\\\\n",
       "0 & 0 & 1 \\\\\n",
       "1 & 0 & 0\n",
       "\\end{array}\\right)\n",
       "\\end{math}"
      ],
      "text/plain": [
       "[0 1 0]\n",
       "[0 0 1]\n",
       "[1 0 0]"
      ]
     },
     "metadata": {},
     "output_type": "display_data"
    },
    {
     "data": {
      "text/html": [
       "<html><script type=\"math/tex; mode=display\">\\newcommand{\\Bold}[1]{\\mathbf{#1}}\\left(\\begin{array}{rrr}\n",
       "1 & 0 & 0 \\\\\n",
       "-\\frac{1}{3} & 1 & 0 \\\\\n",
       "\\frac{1}{3} & -\\frac{6}{13} & 1\n",
       "\\end{array}\\right)</script></html>"
      ],
      "text/latex": [
       "\\begin{math}\n",
       "\\newcommand{\\Bold}[1]{\\mathbf{#1}}\\left(\\begin{array}{rrr}\n",
       "1 & 0 & 0 \\\\\n",
       "-\\frac{1}{3} & 1 & 0 \\\\\n",
       "\\frac{1}{3} & -\\frac{6}{13} & 1\n",
       "\\end{array}\\right)\n",
       "\\end{math}"
      ],
      "text/plain": [
       "[    1     0     0]\n",
       "[ -1/3     1     0]\n",
       "[  1/3 -6/13     1]"
      ]
     },
     "metadata": {},
     "output_type": "display_data"
    },
    {
     "data": {
      "text/html": [
       "<html><script type=\"math/tex; mode=display\">\\newcommand{\\Bold}[1]{\\mathbf{#1}}\\left(\\begin{array}{rrr}\n",
       "3 & 24 & 1 \\\\\n",
       "0 & 13 & \\frac{4}{3} \\\\\n",
       "0 & 0 & \\frac{128}{39}\n",
       "\\end{array}\\right)</script></html>"
      ],
      "text/latex": [
       "\\begin{math}\n",
       "\\newcommand{\\Bold}[1]{\\mathbf{#1}}\\left(\\begin{array}{rrr}\n",
       "3 & 24 & 1 \\\\\n",
       "0 & 13 & \\frac{4}{3} \\\\\n",
       "0 & 0 & \\frac{128}{39}\n",
       "\\end{array}\\right)\n",
       "\\end{math}"
      ],
      "text/plain": [
       "[     3     24      1]\n",
       "[     0     13    4/3]\n",
       "[     0      0 128/39]"
      ]
     },
     "metadata": {},
     "output_type": "display_data"
    }
   ],
   "source": [
    "P, L, U = descompPLU(A)\n",
    "show(P)\n",
    "show(L)\n",
    "show(U)"
   ]
  },
  {
   "cell_type": "code",
   "execution_count": 34,
   "metadata": {},
   "outputs": [
    {
     "data": {
      "text/plain": [
       "True"
      ]
     },
     "execution_count": 34,
     "metadata": {},
     "output_type": "execute_result"
    }
   ],
   "source": [
    "L*U == P*A"
   ]
  },
  {
   "cell_type": "code",
   "execution_count": 35,
   "metadata": {},
   "outputs": [
    {
     "data": {
      "text/html": [
       "<html><script type=\"math/tex; mode=display\">\\newcommand{\\Bold}[1]{\\mathbf{#1}}\\left(\\begin{array}{rrr}\n",
       "1 & 0 & 0 \\\\\n",
       "0 & 1 & 0 \\\\\n",
       "0 & 0 & 1\n",
       "\\end{array}\\right)</script></html>"
      ],
      "text/latex": [
       "\\begin{math}\n",
       "\\newcommand{\\Bold}[1]{\\mathbf{#1}}\\left(\\begin{array}{rrr}\n",
       "1 & 0 & 0 \\\\\n",
       "0 & 1 & 0 \\\\\n",
       "0 & 0 & 1\n",
       "\\end{array}\\right)\n",
       "\\end{math}"
      ],
      "text/plain": [
       "[1 0 0]\n",
       "[0 1 0]\n",
       "[0 0 1]"
      ]
     },
     "metadata": {},
     "output_type": "display_data"
    },
    {
     "data": {
      "text/html": [
       "<html><script type=\"math/tex; mode=display\">\\newcommand{\\Bold}[1]{\\mathbf{#1}}\\left(\\begin{array}{rrr}\n",
       "1 & 0 & 0 \\\\\n",
       "3 & 1 & 0 \\\\\n",
       "-1 & \\frac{7}{18} & 1\n",
       "\\end{array}\\right)</script></html>"
      ],
      "text/latex": [
       "\\begin{math}\n",
       "\\newcommand{\\Bold}[1]{\\mathbf{#1}}\\left(\\begin{array}{rrr}\n",
       "1 & 0 & 0 \\\\\n",
       "3 & 1 & 0 \\\\\n",
       "-1 & \\frac{7}{18} & 1\n",
       "\\end{array}\\right)\n",
       "\\end{math}"
      ],
      "text/plain": [
       "[   1    0    0]\n",
       "[   3    1    0]\n",
       "[  -1 7/18    1]"
      ]
     },
     "metadata": {},
     "output_type": "display_data"
    },
    {
     "data": {
      "text/html": [
       "<html><script type=\"math/tex; mode=display\">\\newcommand{\\Bold}[1]{\\mathbf{#1}}\\left(\\begin{array}{rrr}\n",
       "1 & 2 & 3 \\\\\n",
       "0 & 18 & -8 \\\\\n",
       "0 & 0 & \\frac{64}{9}\n",
       "\\end{array}\\right)</script></html>"
      ],
      "text/latex": [
       "\\begin{math}\n",
       "\\newcommand{\\Bold}[1]{\\mathbf{#1}}\\left(\\begin{array}{rrr}\n",
       "1 & 2 & 3 \\\\\n",
       "0 & 18 & -8 \\\\\n",
       "0 & 0 & \\frac{64}{9}\n",
       "\\end{array}\\right)\n",
       "\\end{math}"
      ],
      "text/plain": [
       "[   1    2    3]\n",
       "[   0   18   -8]\n",
       "[   0    0 64/9]"
      ]
     },
     "metadata": {},
     "output_type": "display_data"
    }
   ],
   "source": [
    "P, L, U = descompPLUppe(A)\n",
    "show(P)\n",
    "show(L)\n",
    "show(U)"
   ]
  },
  {
   "cell_type": "code",
   "execution_count": 36,
   "metadata": {},
   "outputs": [
    {
     "data": {
      "text/plain": [
       "True"
      ]
     },
     "execution_count": 36,
     "metadata": {},
     "output_type": "execute_result"
    }
   ],
   "source": [
    "L*U == P*A"
   ]
  },
  {
   "cell_type": "code",
   "execution_count": null,
   "metadata": {},
   "outputs": [],
   "source": []
  },
  {
   "cell_type": "markdown",
   "metadata": {},
   "source": [
    "<h4><a name=\"sislin\"></a>Aplicación de la descomposición $LU$ a la resolución de sistemas lineales</h4>\n",
    "<p>Dado el sistema lineal $A\\cdot x=b$ y la descomposición $L\\cdot U=P\\cdot A$, obtenemos las siguientes relaciones:</p>\n",
    "<p>\\begin{align*}A x = b &\\Leftrightarrow& P A x = Pb \\\\&\\Leftrightarrow& LU x = Pb\\\\&\\Leftrightarrow& LU x = b_P\\end{align*}</p>\n",
    "<p> donde $b_P$ es una permutación del vector $b$. Podemos ahora separar el sistema lineal en dos subsistemas:</p>\n",
    "<p>$$LU x = b_P \\Leftrightarrow \\left\\lbrace \\begin{array}{l} U x = g \\\\ L g = b_P\\end{array}\\right.$$</p>\n",
    "<p>El primer sistema, $Ux=g$,  es triangular superior y se resuelve por sustitución regresiva de las variables $x_i$, aplicando para $i=n, i=n-1, \\ldots, i=1$ (en este orden)</p>\n",
    "<p>$$ x_i=\\frac{g_i-\\sum_{j=i+1}^{n}u_{ij}x_j}{u_{ii}}$$</p>\n",
    "<p>El segundo sistema, triangular inferior, aunque también se podría resolver de forma similar, podemos interpretarlo y resolverlo a través de los multiplicadores que se han empleado durante el escalonamiento, ya que en realidad $g$ es el resultado de aplicar sobre $b_p$ las transformaciones del proceso de escalonamiento. Otra forma de verlo  es a partir de  la ecuación $\\ \\ L\\cdot g=b_p$, de donde se obtiene que $\\ \\ g=L^{-1}\\cdot b_p\\ \\ $ y $L^{-1}=F$ la matriz de las transformaciones elementales fila . Podemos obtener recursivamente $g$ de la siguiente forma:</p>\n",
    "\\begin{align*}\n",
    "b_{p}^{(n)} & =g, \\\\\n",
    " & \\text{y para $j$, $k$ con } 1 \\le k < j \\le n,\\\\\n",
    "{ b_{p}}_{j}^{(k+1)} & ={ b_{p}}_{j}^{(k)}-m_{jk} { b_{p}}_{k}^{(k)} \n",
    "\\end{align*}\n",
    "<p>La función <span style=\"color: #0000ff;\">modifica_lado_derecho($L, b_p$)</span> modifica el vector $b_p$ del lado derecho, obteniendo el vector $g$.</p>\n",
    "<p>La función <span style=\"color: #0000ff;\">sustitucion_regresiva2(U, g)</span> devuelve la solución $x$ del sistema. Esta función es similar a sustitucion_regresiva(U) con la única diferencia de que toma 2 parámetros por separado: la matriz U y el término de la derecha, el vector g, mientras que en la versión anterior se tomaba la matriz ampliada $(U|g)$.</p>"
   ]
  },
  {
   "cell_type": "code",
   "execution_count": 37,
   "metadata": {},
   "outputs": [],
   "source": [
    "def modifica_lado_derecho(L, b):\n",
    "    g = b.column()\n",
    "    n = g.nrows()\n",
    "    for k in range(n - 1):\n",
    "        g[k+1:] = g[k+1:] - g[k,0]*L[k+1:, k]\n",
    "    return g\n",
    "    \n",
    "        \n",
    "def sustitucion_regresiva2(U, g):\n",
    "    n = U.ncols()\n",
    "    x = copy(g)\n",
    "    for k in range(n - 1, -1, -1):\n",
    "        x[k] = (g[k] - sum(U[k, j]*x[j] for j in range(k + 1, n)))/U[k, k]\n",
    "    return x"
   ]
  },
  {
   "cell_type": "markdown",
   "metadata": {},
   "source": [
    "<h4>Finalmente, la resolución de un sistema lineal $A\\cdot x=b$ puede quedar reducida a tres fases:</h4>\n",
    "<p>1) Descomposición $LU$ de la matriz $A$; si se hacen intercambio de filas (matriz $P$), entonces hay que actualizar el vector $b$ sustituyéndolo por el nuevo vector $b_p=P\\cdot b$; en caso contrario, $b_p=b$.</p>\n",
    "<p>2) Resolución del <span style=\"text-decoration: underline;\"> sistema auxiliar</span>  $L\\cdot g=b_p$, obteniendo el vector $g$. La resolución puede hacerse directamente como fase de modificación del lado derecho, de acuerdo a los multiplicadores empleados en las transformaciones elementales, con la función <span style=\"color: #0000ff;\">modifica_lado_derecho</span>.</p>\n",
    "<p>3) Sustitución regresiva en el sistema $U\\cdot x=g$, con la función <span style=\"color: #0000ff;\">sustitucion_regresiva2</span>.</p>\n",
    "<h4>Interés de la descomposición $LU$ para la resolución de sistemas lineales:</h4>\n",
    "<p>En ocasiones es preciso resolver sistemas lineales $Ax=b_i$ para una misma matriz $A$ y diferentes vectores $b_i$, con $i=1,2,...k$. No tiene sentido escalonar la matriz $A$ en cada caso sino que habrá que hacerlo una única vez y guardar el resultado para poder aplicarlo a cada vector $b_i$. Precisamente, la descomposición $LU$ o $PLU$, que solo depende de la matriz $A$, permite resolver los diferentes sistemas según el esquema de tres pasos descrito anteriormente. Esto es necesario sobre todo para valores $k$ muy grandes (muchos sistemas) o cuando los posibles vectores $b_i$ no se conocen a priori.</p>"
   ]
  },
  {
   "cell_type": "code",
   "execution_count": null,
   "metadata": {},
   "outputs": [],
   "source": []
  },
  {
   "cell_type": "markdown",
   "metadata": {},
   "source": [
    "<h3><span style=\"color: #0000ff;\">Ejemplo 9</span></h3>\n",
    "<p>Resolver, con ayuda de la descomposición LU, los sistemas de ecuaciones $Ax=b_i$ para los siguientes valores:</p>\n",
    "<p>$ A=\\left(\\begin{array}{rrrr} 1 & 3 & -2 \\\\ 2 & -1 & 1\\\\ -1 & 2 & 0 \\end{array}\\right) \\ \\ \\ \\ {\\rm y} \\ \\ \\ \\ b_1=\\left(\\begin{array}{r}2 \\\\ 2\\\\ 1\\end{array}\\right),\\ \\ b_2=\\left(\\begin{array}{r}4 \\\\ -1\\\\ 3\\end{array}\\right),\\ \\  b_3=\\left(\\begin{array}{r}0 \\\\ 1\\\\ 1\\end{array}\\right)$</p>\n",
    "<p> </p>"
   ]
  },
  {
   "cell_type": "code",
   "execution_count": 38,
   "metadata": {},
   "outputs": [
    {
     "data": {
      "text/html": [
       "<html><script type=\"math/tex; mode=display\">\\newcommand{\\Bold}[1]{\\mathbf{#1}}\\left(\\begin{array}{rrr}\n",
       "1 & 3 & -2 \\\\\n",
       "2 & -1 & 1 \\\\\n",
       "-1 & 2 & 0\n",
       "\\end{array}\\right)</script></html>"
      ],
      "text/latex": [
       "\\begin{math}\n",
       "\\newcommand{\\Bold}[1]{\\mathbf{#1}}\\left(\\begin{array}{rrr}\n",
       "1 & 3 & -2 \\\\\n",
       "2 & -1 & 1 \\\\\n",
       "-1 & 2 & 0\n",
       "\\end{array}\\right)\n",
       "\\end{math}"
      ],
      "text/plain": [
       "[ 1  3 -2]\n",
       "[ 2 -1  1]\n",
       "[-1  2  0]"
      ]
     },
     "metadata": {},
     "output_type": "display_data"
    }
   ],
   "source": [
    "A = matrix(QQ, [[1, 3, -2], [2, -1, 1], [-1, 2, 0]]); show(A)"
   ]
  },
  {
   "cell_type": "code",
   "execution_count": 39,
   "metadata": {},
   "outputs": [],
   "source": [
    "b1 = vector(QQ, [2, 2, 1])\n",
    "b2 = vector(QQ, [4, -1, 3])\n",
    "b3 = vector(QQ, [0, 1, 1])"
   ]
  },
  {
   "cell_type": "code",
   "execution_count": 40,
   "metadata": {},
   "outputs": [
    {
     "data": {
      "text/html": [
       "<html><script type=\"math/tex; mode=display\">\\newcommand{\\Bold}[1]{\\mathbf{#1}}\\left(\\begin{array}{rrr}\n",
       "1 & 0 & 0 \\\\\n",
       "2 & 1 & 0 \\\\\n",
       "-1 & -\\frac{5}{7} & 1\n",
       "\\end{array}\\right)</script></html>"
      ],
      "text/latex": [
       "\\begin{math}\n",
       "\\newcommand{\\Bold}[1]{\\mathbf{#1}}\\left(\\begin{array}{rrr}\n",
       "1 & 0 & 0 \\\\\n",
       "2 & 1 & 0 \\\\\n",
       "-1 & -\\frac{5}{7} & 1\n",
       "\\end{array}\\right)\n",
       "\\end{math}"
      ],
      "text/plain": [
       "[   1    0    0]\n",
       "[   2    1    0]\n",
       "[  -1 -5/7    1]"
      ]
     },
     "metadata": {},
     "output_type": "display_data"
    },
    {
     "data": {
      "text/html": [
       "<html><script type=\"math/tex; mode=display\">\\newcommand{\\Bold}[1]{\\mathbf{#1}}\\left(\\begin{array}{rrr}\n",
       "1 & 3 & -2 \\\\\n",
       "0 & -7 & 5 \\\\\n",
       "0 & 0 & \\frac{11}{7}\n",
       "\\end{array}\\right)</script></html>"
      ],
      "text/latex": [
       "\\begin{math}\n",
       "\\newcommand{\\Bold}[1]{\\mathbf{#1}}\\left(\\begin{array}{rrr}\n",
       "1 & 3 & -2 \\\\\n",
       "0 & -7 & 5 \\\\\n",
       "0 & 0 & \\frac{11}{7}\n",
       "\\end{array}\\right)\n",
       "\\end{math}"
      ],
      "text/plain": [
       "[   1    3   -2]\n",
       "[   0   -7    5]\n",
       "[   0    0 11/7]"
      ]
     },
     "metadata": {},
     "output_type": "display_data"
    }
   ],
   "source": [
    "L, U = descompLU(A)\n",
    "show(L)\n",
    "show(U)"
   ]
  },
  {
   "cell_type": "code",
   "execution_count": 45,
   "metadata": {},
   "outputs": [
    {
     "data": {
      "text/html": [
       "<html><script type=\"math/tex; mode=display\">\\newcommand{\\Bold}[1]{\\mathbf{#1}}\\left(2,\\,2,\\,1\\right)</script></html>"
      ],
      "text/plain": [
       "(2, 2, 1)"
      ]
     },
     "metadata": {},
     "output_type": "display_data"
    },
    {
     "data": {
      "text/html": [
       "<html><script type=\"math/tex; mode=display\">\\newcommand{\\Bold}[1]{\\mathbf{#1}}\\left[\\begin{array}{r}\n",
       "2 \\\\\n",
       "-2 \\\\\n",
       "\\frac{11}{7}\n",
       "\\end{array}\\right]</script></html>"
      ],
      "text/plain": [
       "[   2]\n",
       "[  -2]\n",
       "[11/7]"
      ]
     },
     "metadata": {},
     "output_type": "display_data"
    },
    {
     "data": {
      "text/html": [
       "<html><script type=\"math/tex; mode=display\">\\newcommand{\\Bold}[1]{\\mathbf{#1}}\\left[\\begin{array}{r}\n",
       "1 \\\\\n",
       "1 \\\\\n",
       "1\n",
       "\\end{array}\\right]</script></html>"
      ],
      "text/plain": [
       "[1]\n",
       "[1]\n",
       "[1]"
      ]
     },
     "metadata": {},
     "output_type": "display_data"
    },
    {
     "data": {
      "text/html": [
       "<html><script type=\"math/tex; mode=display\">\\newcommand{\\Bold}[1]{\\mathbf{#1}}\\left[\\begin{array}{r}\n",
       "2 \\\\\n",
       "2 \\\\\n",
       "1\n",
       "\\end{array}\\right]</script></html>"
      ],
      "text/plain": [
       "[2]\n",
       "[2]\n",
       "[1]"
      ]
     },
     "metadata": {},
     "output_type": "display_data"
    },
    {
     "name": "stdout",
     "output_type": "stream",
     "text": [
      "-----\n"
     ]
    },
    {
     "data": {
      "text/html": [
       "<html><script type=\"math/tex; mode=display\">\\newcommand{\\Bold}[1]{\\mathbf{#1}}\\left(4,\\,-1,\\,3\\right)</script></html>"
      ],
      "text/plain": [
       "(4, -1, 3)"
      ]
     },
     "metadata": {},
     "output_type": "display_data"
    },
    {
     "data": {
      "text/html": [
       "<html><script type=\"math/tex; mode=display\">\\newcommand{\\Bold}[1]{\\mathbf{#1}}\\left[\\begin{array}{r}\n",
       "4 \\\\\n",
       "-9 \\\\\n",
       "\\frac{4}{7}\n",
       "\\end{array}\\right]</script></html>"
      ],
      "text/plain": [
       "[  4]\n",
       "[ -9]\n",
       "[4/7]"
      ]
     },
     "metadata": {},
     "output_type": "display_data"
    },
    {
     "data": {
      "text/html": [
       "<html><script type=\"math/tex; mode=display\">\\newcommand{\\Bold}[1]{\\mathbf{#1}}\\left[\\begin{array}{r}\n",
       "\\frac{1}{11} \\\\\n",
       "\\frac{17}{11} \\\\\n",
       "\\frac{4}{11}\n",
       "\\end{array}\\right]</script></html>"
      ],
      "text/plain": [
       "[ 1/11]\n",
       "[17/11]\n",
       "[ 4/11]"
      ]
     },
     "metadata": {},
     "output_type": "display_data"
    },
    {
     "data": {
      "text/html": [
       "<html><script type=\"math/tex; mode=display\">\\newcommand{\\Bold}[1]{\\mathbf{#1}}\\left[\\begin{array}{r}\n",
       "4 \\\\\n",
       "-1 \\\\\n",
       "3\n",
       "\\end{array}\\right]</script></html>"
      ],
      "text/plain": [
       "[ 4]\n",
       "[-1]\n",
       "[ 3]"
      ]
     },
     "metadata": {},
     "output_type": "display_data"
    },
    {
     "name": "stdout",
     "output_type": "stream",
     "text": [
      "-----\n"
     ]
    },
    {
     "data": {
      "text/html": [
       "<html><script type=\"math/tex; mode=display\">\\newcommand{\\Bold}[1]{\\mathbf{#1}}\\left(0,\\,1,\\,1\\right)</script></html>"
      ],
      "text/plain": [
       "(0, 1, 1)"
      ]
     },
     "metadata": {},
     "output_type": "display_data"
    },
    {
     "data": {
      "text/html": [
       "<html><script type=\"math/tex; mode=display\">\\newcommand{\\Bold}[1]{\\mathbf{#1}}\\left[\\begin{array}{r}\n",
       "0 \\\\\n",
       "1 \\\\\n",
       "\\frac{12}{7}\n",
       "\\end{array}\\right]</script></html>"
      ],
      "text/plain": [
       "[   0]\n",
       "[   1]\n",
       "[12/7]"
      ]
     },
     "metadata": {},
     "output_type": "display_data"
    },
    {
     "data": {
      "text/html": [
       "<html><script type=\"math/tex; mode=display\">\\newcommand{\\Bold}[1]{\\mathbf{#1}}\\left[\\begin{array}{r}\n",
       "\\frac{3}{11} \\\\\n",
       "\\frac{7}{11} \\\\\n",
       "\\frac{12}{11}\n",
       "\\end{array}\\right]</script></html>"
      ],
      "text/plain": [
       "[ 3/11]\n",
       "[ 7/11]\n",
       "[12/11]"
      ]
     },
     "metadata": {},
     "output_type": "display_data"
    },
    {
     "data": {
      "text/html": [
       "<html><script type=\"math/tex; mode=display\">\\newcommand{\\Bold}[1]{\\mathbf{#1}}\\left[\\begin{array}{r}\n",
       "0 \\\\\n",
       "1 \\\\\n",
       "1\n",
       "\\end{array}\\right]</script></html>"
      ],
      "text/plain": [
       "[0]\n",
       "[1]\n",
       "[1]"
      ]
     },
     "metadata": {},
     "output_type": "display_data"
    },
    {
     "name": "stdout",
     "output_type": "stream",
     "text": [
      "-----\n"
     ]
    }
   ],
   "source": [
    "for b in [b1, b2, b3]:\n",
    "    show(b)\n",
    "    g = modifica_lado_derecho(L, b)\n",
    "    show(g)  # obtenemos la solución del sistema auxiliar\n",
    "    z = sustitucion_regresiva2(U, g)    # obtenemos la solución final por sustitución regresiva.\n",
    "    show(z)\n",
    "    show(A*z)  # comprobamos la solución\n",
    "    print('-----')"
   ]
  },
  {
   "cell_type": "markdown",
   "metadata": {},
   "source": [
    "<div style=\"color: #000000; background-image: initial; background-attachment: initial; background-origin: initial; background-clip: initial; background-color: #ffffff; background-position: initial initial; background-repeat: initial initial; margin: 8px;\">\n",
    "<h3 style=\"font-size: 1.17em;\"><span style=\"color: #0000ff;\">Ejemplo 10</span></h3>\n",
    "<p>Resolver, con ayuda de la descomposición PLU, los sistemas de ecuaciones $Ax=b_i$ para los siguientes valores:</p>\n",
    "<p>$ A=\\left(\\begin{array}{rrrr} 0 & 1 & -2 \\\\ 2 & -1 & 1\\\\ -1 & 2 & 0 \\end{array}\\right) \\ \\ \\ \\ {\\rm y} \\ \\ \\ \\ b_1=\\left(\\begin{array}{r}2 \\\\ 1\\\\ 1\\end{array}\\right),\\ \\ b_2=\\left(\\begin{array}{r}4 \\\\ -1\\\\ 3\\end{array}\\right),\\ \\  b_3=\\left(\\begin{array}{r}-3 \\\\ 1\\\\ 1\\end{array}\\right)$</p>\n",
    "</div>"
   ]
  },
  {
   "cell_type": "code",
   "execution_count": 41,
   "metadata": {},
   "outputs": [
    {
     "data": {
      "text/html": [
       "<html><script type=\"math/tex; mode=display\">\\newcommand{\\Bold}[1]{\\mathbf{#1}}\\left(\\begin{array}{rrr}\n",
       "0 & 1 & -2 \\\\\n",
       "2 & -1 & 1 \\\\\n",
       "-1 & 2 & 0\n",
       "\\end{array}\\right)</script></html>"
      ],
      "text/latex": [
       "\\begin{math}\n",
       "\\newcommand{\\Bold}[1]{\\mathbf{#1}}\\left(\\begin{array}{rrr}\n",
       "0 & 1 & -2 \\\\\n",
       "2 & -1 & 1 \\\\\n",
       "-1 & 2 & 0\n",
       "\\end{array}\\right)\n",
       "\\end{math}"
      ],
      "text/plain": [
       "[ 0  1 -2]\n",
       "[ 2 -1  1]\n",
       "[-1  2  0]"
      ]
     },
     "metadata": {},
     "output_type": "display_data"
    }
   ],
   "source": [
    "A=matrix(QQ, [[0, 1, -2], [2, -1, 1], [-1, 2, 0]]); show(A)\n",
    "b1 = vector(QQ,[2,1,1])\n",
    "b2 = vector(QQ,[4,-1,3])\n",
    "b3 = vector(QQ,[-3,1,1])"
   ]
  },
  {
   "cell_type": "code",
   "execution_count": 42,
   "metadata": {},
   "outputs": [
    {
     "name": "stdout",
     "output_type": "stream",
     "text": [
      "La matriz no admite descomposición LU sin intercambio de filas\n"
     ]
    }
   ],
   "source": [
    "L, U = descompLU(A)  # primero vamos a probar si existe descomposición LU"
   ]
  },
  {
   "cell_type": "code",
   "execution_count": 43,
   "metadata": {},
   "outputs": [
    {
     "data": {
      "text/html": [
       "<html><script type=\"math/tex; mode=display\">\\newcommand{\\Bold}[1]{\\mathbf{#1}}\\left(\\begin{array}{rrr}\n",
       "0 & 1 & 0 \\\\\n",
       "0 & 0 & 1 \\\\\n",
       "1 & 0 & 0\n",
       "\\end{array}\\right)</script></html>"
      ],
      "text/latex": [
       "\\begin{math}\n",
       "\\newcommand{\\Bold}[1]{\\mathbf{#1}}\\left(\\begin{array}{rrr}\n",
       "0 & 1 & 0 \\\\\n",
       "0 & 0 & 1 \\\\\n",
       "1 & 0 & 0\n",
       "\\end{array}\\right)\n",
       "\\end{math}"
      ],
      "text/plain": [
       "[0 1 0]\n",
       "[0 0 1]\n",
       "[1 0 0]"
      ]
     },
     "metadata": {},
     "output_type": "display_data"
    },
    {
     "data": {
      "text/html": [
       "<html><script type=\"math/tex; mode=display\">\\newcommand{\\Bold}[1]{\\mathbf{#1}}\\left(\\begin{array}{rrr}\n",
       "1 & 0 & 0 \\\\\n",
       "-\\frac{1}{2} & 1 & 0 \\\\\n",
       "0 & \\frac{2}{3} & 1\n",
       "\\end{array}\\right)</script></html>"
      ],
      "text/latex": [
       "\\begin{math}\n",
       "\\newcommand{\\Bold}[1]{\\mathbf{#1}}\\left(\\begin{array}{rrr}\n",
       "1 & 0 & 0 \\\\\n",
       "-\\frac{1}{2} & 1 & 0 \\\\\n",
       "0 & \\frac{2}{3} & 1\n",
       "\\end{array}\\right)\n",
       "\\end{math}"
      ],
      "text/plain": [
       "[   1    0    0]\n",
       "[-1/2    1    0]\n",
       "[   0  2/3    1]"
      ]
     },
     "metadata": {},
     "output_type": "display_data"
    },
    {
     "data": {
      "text/html": [
       "<html><script type=\"math/tex; mode=display\">\\newcommand{\\Bold}[1]{\\mathbf{#1}}\\left(\\begin{array}{rrr}\n",
       "2 & -1 & 1 \\\\\n",
       "0 & \\frac{3}{2} & \\frac{1}{2} \\\\\n",
       "0 & 0 & -\\frac{7}{3}\n",
       "\\end{array}\\right)</script></html>"
      ],
      "text/latex": [
       "\\begin{math}\n",
       "\\newcommand{\\Bold}[1]{\\mathbf{#1}}\\left(\\begin{array}{rrr}\n",
       "2 & -1 & 1 \\\\\n",
       "0 & \\frac{3}{2} & \\frac{1}{2} \\\\\n",
       "0 & 0 & -\\frac{7}{3}\n",
       "\\end{array}\\right)\n",
       "\\end{math}"
      ],
      "text/plain": [
       "[   2   -1    1]\n",
       "[   0  3/2  1/2]\n",
       "[   0    0 -7/3]"
      ]
     },
     "metadata": {},
     "output_type": "display_data"
    }
   ],
   "source": [
    "P, L, U = descompPLU(A)\n",
    "show(P)\n",
    "show(L)\n",
    "show(U)"
   ]
  },
  {
   "cell_type": "code",
   "execution_count": 44,
   "metadata": {},
   "outputs": [
    {
     "data": {
      "text/plain": [
       "True"
      ]
     },
     "execution_count": 44,
     "metadata": {},
     "output_type": "execute_result"
    }
   ],
   "source": [
    "P*A == L*U"
   ]
  },
  {
   "cell_type": "code",
   "execution_count": 50,
   "metadata": {},
   "outputs": [
    {
     "data": {
      "text/html": [
       "<html><script type=\"math/tex; mode=display\">\\newcommand{\\Bold}[1]{\\mathbf{#1}}\\left(2,\\,1,\\,1\\right)</script></html>"
      ],
      "text/plain": [
       "(2, 1, 1)"
      ]
     },
     "metadata": {},
     "output_type": "display_data"
    },
    {
     "data": {
      "text/html": [
       "<html><script type=\"math/tex; mode=display\">\\newcommand{\\Bold}[1]{\\mathbf{#1}}\\left(1,\\,1,\\,2\\right)</script></html>"
      ],
      "text/plain": [
       "(1, 1, 2)"
      ]
     },
     "metadata": {},
     "output_type": "display_data"
    },
    {
     "data": {
      "text/html": [
       "<html><script type=\"math/tex; mode=display\">\\newcommand{\\Bold}[1]{\\mathbf{#1}}\\left[\\begin{array}{r}\n",
       "1 \\\\\n",
       "\\frac{3}{2} \\\\\n",
       "1\n",
       "\\end{array}\\right]</script></html>"
      ],
      "text/plain": [
       "[  1]\n",
       "[3/2]\n",
       "[  1]"
      ]
     },
     "metadata": {},
     "output_type": "display_data"
    },
    {
     "data": {
      "text/html": [
       "<html><script type=\"math/tex; mode=display\">\\newcommand{\\Bold}[1]{\\mathbf{#1}}\\left[\\begin{array}{r}\n",
       "\\frac{9}{7} \\\\\n",
       "\\frac{8}{7} \\\\\n",
       "-\\frac{3}{7}\n",
       "\\end{array}\\right]</script></html>"
      ],
      "text/plain": [
       "[ 9/7]\n",
       "[ 8/7]\n",
       "[-3/7]"
      ]
     },
     "metadata": {},
     "output_type": "display_data"
    },
    {
     "data": {
      "text/html": [
       "<html><script type=\"math/tex; mode=display\">\\newcommand{\\Bold}[1]{\\mathbf{#1}}\\left[\\begin{array}{r}\n",
       "2 \\\\\n",
       "1 \\\\\n",
       "1\n",
       "\\end{array}\\right]</script></html>"
      ],
      "text/plain": [
       "[2]\n",
       "[1]\n",
       "[1]"
      ]
     },
     "metadata": {},
     "output_type": "display_data"
    },
    {
     "name": "stdout",
     "output_type": "stream",
     "text": [
      "-----\n"
     ]
    },
    {
     "data": {
      "text/html": [
       "<html><script type=\"math/tex; mode=display\">\\newcommand{\\Bold}[1]{\\mathbf{#1}}\\left(4,\\,-1,\\,3\\right)</script></html>"
      ],
      "text/plain": [
       "(4, -1, 3)"
      ]
     },
     "metadata": {},
     "output_type": "display_data"
    },
    {
     "data": {
      "text/html": [
       "<html><script type=\"math/tex; mode=display\">\\newcommand{\\Bold}[1]{\\mathbf{#1}}\\left(-1,\\,3,\\,4\\right)</script></html>"
      ],
      "text/plain": [
       "(-1, 3, 4)"
      ]
     },
     "metadata": {},
     "output_type": "display_data"
    },
    {
     "data": {
      "text/html": [
       "<html><script type=\"math/tex; mode=display\">\\newcommand{\\Bold}[1]{\\mathbf{#1}}\\left[\\begin{array}{r}\n",
       "-1 \\\\\n",
       "\\frac{5}{2} \\\\\n",
       "\\frac{7}{3}\n",
       "\\end{array}\\right]</script></html>"
      ],
      "text/plain": [
       "[ -1]\n",
       "[5/2]\n",
       "[7/3]"
      ]
     },
     "metadata": {},
     "output_type": "display_data"
    },
    {
     "data": {
      "text/html": [
       "<html><script type=\"math/tex; mode=display\">\\newcommand{\\Bold}[1]{\\mathbf{#1}}\\left[\\begin{array}{r}\n",
       "1 \\\\\n",
       "2 \\\\\n",
       "-1\n",
       "\\end{array}\\right]</script></html>"
      ],
      "text/plain": [
       "[ 1]\n",
       "[ 2]\n",
       "[-1]"
      ]
     },
     "metadata": {},
     "output_type": "display_data"
    },
    {
     "data": {
      "text/html": [
       "<html><script type=\"math/tex; mode=display\">\\newcommand{\\Bold}[1]{\\mathbf{#1}}\\left[\\begin{array}{r}\n",
       "4 \\\\\n",
       "-1 \\\\\n",
       "3\n",
       "\\end{array}\\right]</script></html>"
      ],
      "text/plain": [
       "[ 4]\n",
       "[-1]\n",
       "[ 3]"
      ]
     },
     "metadata": {},
     "output_type": "display_data"
    },
    {
     "name": "stdout",
     "output_type": "stream",
     "text": [
      "-----\n"
     ]
    },
    {
     "data": {
      "text/html": [
       "<html><script type=\"math/tex; mode=display\">\\newcommand{\\Bold}[1]{\\mathbf{#1}}\\left(-3,\\,1,\\,1\\right)</script></html>"
      ],
      "text/plain": [
       "(-3, 1, 1)"
      ]
     },
     "metadata": {},
     "output_type": "display_data"
    },
    {
     "data": {
      "text/html": [
       "<html><script type=\"math/tex; mode=display\">\\newcommand{\\Bold}[1]{\\mathbf{#1}}\\left(1,\\,1,\\,-3\\right)</script></html>"
      ],
      "text/plain": [
       "(1, 1, -3)"
      ]
     },
     "metadata": {},
     "output_type": "display_data"
    },
    {
     "data": {
      "text/html": [
       "<html><script type=\"math/tex; mode=display\">\\newcommand{\\Bold}[1]{\\mathbf{#1}}\\left[\\begin{array}{r}\n",
       "1 \\\\\n",
       "\\frac{3}{2} \\\\\n",
       "-4\n",
       "\\end{array}\\right]</script></html>"
      ],
      "text/plain": [
       "[  1]\n",
       "[3/2]\n",
       "[ -4]"
      ]
     },
     "metadata": {},
     "output_type": "display_data"
    },
    {
     "data": {
      "text/html": [
       "<html><script type=\"math/tex; mode=display\">\\newcommand{\\Bold}[1]{\\mathbf{#1}}\\left[\\begin{array}{r}\n",
       "-\\frac{1}{7} \\\\\n",
       "\\frac{3}{7} \\\\\n",
       "\\frac{12}{7}\n",
       "\\end{array}\\right]</script></html>"
      ],
      "text/plain": [
       "[-1/7]\n",
       "[ 3/7]\n",
       "[12/7]"
      ]
     },
     "metadata": {},
     "output_type": "display_data"
    },
    {
     "data": {
      "text/html": [
       "<html><script type=\"math/tex; mode=display\">\\newcommand{\\Bold}[1]{\\mathbf{#1}}\\left[\\begin{array}{r}\n",
       "-3 \\\\\n",
       "1 \\\\\n",
       "1\n",
       "\\end{array}\\right]</script></html>"
      ],
      "text/plain": [
       "[-3]\n",
       "[ 1]\n",
       "[ 1]"
      ]
     },
     "metadata": {},
     "output_type": "display_data"
    },
    {
     "name": "stdout",
     "output_type": "stream",
     "text": [
      "-----\n"
     ]
    }
   ],
   "source": [
    "for b in [b1, b2, b3]:\n",
    "    show(b)\n",
    "    bp = P*b\n",
    "    show(bp)\n",
    "    g = modifica_lado_derecho(L, bp)\n",
    "    show(g)             # resolvemos el sistema auxiliar\n",
    "    z = sustitucion_regresiva2(U, g)   #  obtenemos la solución final para el primer vector b propuesto\n",
    "    show(z)\n",
    "    show(A*z)           #  comprobamos que todo ha ido bien y la solución es correcta\n",
    "    print('-----')"
   ]
  },
  {
   "cell_type": "markdown",
   "metadata": {},
   "source": [
    "<h3>Matrices regulares y diagonalmente dominantes</h3>\n",
    "<p>Se dice que una matriz cuadrada $A$  es no singular, invertible o <strong>regular</strong> si tiene matriz inversa, esto es, existe otra matriz $B$ tal que $AB=BA=I$ (entonces $B$ es la matriz inversa de $A$ y se nota $A^{-1}$).</p>\n",
    "<p>Desde el punto de vista computacional, el método de Gauss-Jordan es el más eficiente para hallar la inversa de una matriz dada. Así, una matriz es regular si y solo si su forma escalonada canónica es la matriz unidad.</p>\n",
    "<p>Hay ocasiones donde se puede garantizar que una matriz es regular con un coste computacional menor. Tal es el caso de las matrices diagonalmente dominantes. Se dice que una matriz es <strong>diagonalmente dominante</strong> por filas  si el valor absoluto de cada elemento de la diagonal es mayor que la suma de los valores absolutos del resto de elementos de la misma fila. De manera similar, se define una matriz diagonalmente dominante por columnas.</p>\n",
    "<p><strong>Teorema</strong></p>\n",
    "<p>Toda matriz diagonalmente dominante por filas o por columnas es regular.</p>"
   ]
  },
  {
   "cell_type": "code",
   "execution_count": null,
   "metadata": {},
   "outputs": [],
   "source": []
  },
  {
   "cell_type": "markdown",
   "metadata": {},
   "source": [
    "<h3 style=\"font-size: 1.17em;\"><span style=\"color: #0000ff;\">Ejemplo 11</span></h3>\n",
    "<p><span style=\"color: #0000ff;\"><span style=\"color: #000000;\">Comprobar que la siguiente matriz es diagonalmente dominante p<span style=\"color: #000000;\">o</span></span><span style=\"color: #000000;\">r</span><span style=\"color: #000000;\"><span style=\"color: #000000;\"> fila</span>s pero no lo es por columnas. Comprobar que es regular.</span><br /></span></p>"
   ]
  },
  {
   "cell_type": "code",
   "execution_count": 45,
   "metadata": {},
   "outputs": [
    {
     "data": {
      "text/html": [
       "<html><script type=\"math/tex; mode=display\">\\newcommand{\\Bold}[1]{\\mathbf{#1}}\\left(\\begin{array}{rrr}\n",
       "4 & 1 & -2 \\\\\n",
       "2 & -5 & 1 \\\\\n",
       "-3 & 2 & 6\n",
       "\\end{array}\\right)</script></html>"
      ],
      "text/latex": [
       "\\begin{math}\n",
       "\\newcommand{\\Bold}[1]{\\mathbf{#1}}\\left(\\begin{array}{rrr}\n",
       "4 & 1 & -2 \\\\\n",
       "2 & -5 & 1 \\\\\n",
       "-3 & 2 & 6\n",
       "\\end{array}\\right)\n",
       "\\end{math}"
      ],
      "text/plain": [
       "[ 4  1 -2]\n",
       "[ 2 -5  1]\n",
       "[-3  2  6]"
      ]
     },
     "metadata": {},
     "output_type": "display_data"
    }
   ],
   "source": [
    "A = matrix(QQ, [[4, 1, -2], [2, -5, 1], [-3, 2, 6]]); show(A)"
   ]
  },
  {
   "cell_type": "code",
   "execution_count": 46,
   "metadata": {
    "scrolled": true
   },
   "outputs": [],
   "source": [
    "F, U = forma_escalonada(A, True) # la matriz A tendrá inversa si su forma escalonada canónica es I"
   ]
  },
  {
   "cell_type": "markdown",
   "metadata": {},
   "source": [
    "<p>En tal caso, la inversa de $A$ es $A^{-1}=F$.</p>"
   ]
  },
  {
   "cell_type": "code",
   "execution_count": 47,
   "metadata": {},
   "outputs": [
    {
     "data": {
      "text/html": [
       "<html><script type=\"math/tex; mode=display\">\\newcommand{\\Bold}[1]{\\mathbf{#1}}\\left(\\begin{array}{rrr}\n",
       "1 & 0 & 0 \\\\\n",
       "0 & 1 & 0 \\\\\n",
       "0 & 0 & 1\n",
       "\\end{array}\\right)</script></html>"
      ],
      "text/latex": [
       "\\begin{math}\n",
       "\\newcommand{\\Bold}[1]{\\mathbf{#1}}\\left(\\begin{array}{rrr}\n",
       "1 & 0 & 0 \\\\\n",
       "0 & 1 & 0 \\\\\n",
       "0 & 0 & 1\n",
       "\\end{array}\\right)\n",
       "\\end{math}"
      ],
      "text/plain": [
       "[1 0 0]\n",
       "[0 1 0]\n",
       "[0 0 1]"
      ]
     },
     "metadata": {},
     "output_type": "display_data"
    }
   ],
   "source": [
    "show(U)"
   ]
  },
  {
   "cell_type": "code",
   "execution_count": 48,
   "metadata": {},
   "outputs": [
    {
     "data": {
      "text/html": [
       "<html><script type=\"math/tex; mode=display\">\\newcommand{\\Bold}[1]{\\mathbf{#1}}\\left(\\begin{array}{rrr}\n",
       "\\frac{32}{121} & \\frac{10}{121} & \\frac{9}{121} \\\\\n",
       "\\frac{15}{121} & -\\frac{18}{121} & \\frac{8}{121} \\\\\n",
       "\\frac{1}{11} & \\frac{1}{11} & \\frac{2}{11}\n",
       "\\end{array}\\right)</script></html>"
      ],
      "text/latex": [
       "\\begin{math}\n",
       "\\newcommand{\\Bold}[1]{\\mathbf{#1}}\\left(\\begin{array}{rrr}\n",
       "\\frac{32}{121} & \\frac{10}{121} & \\frac{9}{121} \\\\\n",
       "\\frac{15}{121} & -\\frac{18}{121} & \\frac{8}{121} \\\\\n",
       "\\frac{1}{11} & \\frac{1}{11} & \\frac{2}{11}\n",
       "\\end{array}\\right)\n",
       "\\end{math}"
      ],
      "text/plain": [
       "[ 32/121  10/121   9/121]\n",
       "[ 15/121 -18/121   8/121]\n",
       "[   1/11    1/11    2/11]"
      ]
     },
     "metadata": {},
     "output_type": "display_data"
    }
   ],
   "source": [
    "show(F)"
   ]
  },
  {
   "cell_type": "code",
   "execution_count": 49,
   "metadata": {},
   "outputs": [
    {
     "data": {
      "text/plain": [
       "[1 0 0]\n",
       "[0 1 0]\n",
       "[0 0 1]"
      ]
     },
     "execution_count": 49,
     "metadata": {},
     "output_type": "execute_result"
    }
   ],
   "source": [
    "F*A"
   ]
  },
  {
   "cell_type": "code",
   "execution_count": 50,
   "metadata": {},
   "outputs": [
    {
     "data": {
      "text/plain": [
       "[1 0 0]\n",
       "[0 1 0]\n",
       "[0 0 1]"
      ]
     },
     "execution_count": 50,
     "metadata": {},
     "output_type": "execute_result"
    }
   ],
   "source": [
    "A*F"
   ]
  },
  {
   "cell_type": "markdown",
   "metadata": {},
   "source": [
    "<h3><a name=\"cholesky\"></a>Matrices simétricas y descomposición de Cholesky</h3>\n",
    "<h4>Definiciones</h4>\n",
    "<p>Una matriz $A$ se dice  <span style=\"color: #0000ff;\">simétrica <span style=\"color: #000000;\">si verifica que $\\ A=A^t$</span></span> , es decir, coincide con su matriz traspuesta.</p>\n",
    "<p>Una matriz simétrica se dice que es <span style=\"color: #0000ff;\">definida positiva <span style=\"color: #000000;\">si verifica que</span></span> para cualquier $x \\in R^n$, distinto del vector nulo, $\\ x^{t}Ax > 0$.</p>\n",
    "<p> </p>\n",
    "<h4><span style=\"background-color: #ffffff;\">Teorema</span></h4>\n",
    "<p><span style=\"background-color: #ffffff;\">Toda matriz simétrica y definida positiva admite descomposición $LU$.</span></p>\n",
    "<p> </p>\n",
    "<p>En SAGE podemos comprobar si una matriz $A$ es simétrica mediante el atributo <span style=\"color: #0000ff;\">is_symmetric()</span></p>"
   ]
  },
  {
   "cell_type": "code",
   "execution_count": 51,
   "metadata": {},
   "outputs": [
    {
     "data": {
      "text/html": [
       "<html><script type=\"math/tex; mode=display\">\\newcommand{\\Bold}[1]{\\mathbf{#1}}\\left(\\begin{array}{rrr}\n",
       "4.0 & 2.0 & 1.0 \\\\\n",
       "2.0 & 3.0 & 0.0 \\\\\n",
       "1.0 & 0.0 & 4.0\n",
       "\\end{array}\\right)</script></html>"
      ],
      "text/latex": [
       "\\begin{math}\n",
       "\\newcommand{\\Bold}[1]{\\mathbf{#1}}\\left(\\begin{array}{rrr}\n",
       "4.0 & 2.0 & 1.0 \\\\\n",
       "2.0 & 3.0 & 0.0 \\\\\n",
       "1.0 & 0.0 & 4.0\n",
       "\\end{array}\\right)\n",
       "\\end{math}"
      ],
      "text/plain": [
       "[4.0 2.0 1.0]\n",
       "[2.0 3.0 0.0]\n",
       "[1.0 0.0 4.0]"
      ]
     },
     "metadata": {},
     "output_type": "display_data"
    }
   ],
   "source": [
    "A = matrix(RDF, [[4, 2, 1], [2, 3, 0], [1, 0, 4]])\n",
    "show(A)"
   ]
  },
  {
   "cell_type": "code",
   "execution_count": 52,
   "metadata": {},
   "outputs": [
    {
     "data": {
      "text/plain": [
       "True"
      ]
     },
     "execution_count": 52,
     "metadata": {},
     "output_type": "execute_result"
    }
   ],
   "source": [
    "A.is_symmetric()"
   ]
  },
  {
   "cell_type": "code",
   "execution_count": null,
   "metadata": {},
   "outputs": [],
   "source": []
  },
  {
   "cell_type": "markdown",
   "metadata": {},
   "source": [
    "<h4>Definición</h4>\n",
    "Se dice que una matriz $A$ simétrica admite una descomposición de Cholesky si existe otra matriz $T=(t_{ij})$ triangular superior con $\\forall i, t_{ii} > 0$ y $A=T^{t} T$.\n",
    "\n",
    "<h4>Teorema</h4>\n",
    "Sea $A$ una matriz simétrica. Las condiciones siguientes son equivalentes:\n",
    "<ul>\n",
    "<li>$A$ es definida positiva.</li>\n",
    "<li>Todos los menores principales $A_k$ de $A$ son positivos.</li>\n",
    "<li>$A$ admite descomposición de Cholesky.</li>\n",
    "</ul>\n",
    "\n",
    "<h4>Relación con la descomposición LU</h4>\n",
    "Una matriz definida positiva siempre admite factorización $LU$.\n",
    "<p>Sea $A=LU$ con</p>\n",
    "<p>$$L=\\left(\\begin{array}{cccc}1 & 0 & \\cdots & 0\\\\ l_{21} & 1 & \\cdots & 0\\\\ \\vdots & \\vdots & \\ddots & \\vdots\\\\ l_{n1} & l_{n2} & \\cdots & 1\\end{array}\\right), \\qquad U=\\left(\\begin{array}{cccc}u_{11} & u_{12} & \\cdots & u_{1n}\\\\ 0 & u_{22} & \\cdots & u_{2n}\\\\ \\vdots & \\vdots & \\ddots & \\vdots\\\\ 0 & 0 & \\cdots & u_{nn}\\end{array}\\right).$$</p>\n",
    "<p>En $U$ extraemos de cada fila la raíz cuadrada del coeficiente diagonal de la fila. Da</p>\n",
    "$$U=\\left(\\begin{array}{cccc}\\sqrt{u_{11}} & 0 & \\cdots & 0\\\\ 0 & \\sqrt{u_{22}} & \\cdots & 0\\\\ \\vdots & \\vdots & \\ddots & \\vdots\\\\ 0 & 0 & \\cdots & \\sqrt{u_{nn}} \\end{array}\\right)\\left(\\begin{array}{cccc}1 & \\frac{u_{12}}{\\sqrt{u_{11}}}& \\cdots & \\frac{u_{1n}}{\\sqrt{u_{11}}} \\\\ 0 & 1 & \\cdots & \\frac{u_{2n}}{\\sqrt{u_{22}}}\\\\ \\vdots & \\vdots & \\ddots & \\vdots\\\\ 0 & 0 & \\cdots & 1 \\end{array}\\right).$$\n",
    "Escribimos esto como\n",
    "$$U=DV$$ \n",
    "con\n",
    "$$D=\\left(\\begin{array}{cccc}\\sqrt{u_{11}} & 0 & \\cdots & 0\\\\ 0 & \\sqrt{u_{22}} & \\cdots & 0\\\\ \\vdots & \\vdots & \\ddots & \\vdots\\\\ 0 & 0 & \\cdots & \\sqrt{u_{nn}} \\end{array}\\right), \\qquad \n",
    "V=\\left(\\begin{array}{cccc}1 & \\frac{u_{12}}{\\sqrt{u_{11}}}& \\cdots & \\frac{u_{1n}}{\\sqrt{u_{11}}} \\\\ 0 & 1 & \\cdots & \\frac{u_{2n}}{\\sqrt{u_{22}}}\\\\ \\vdots & \\vdots & \\ddots & \\vdots\\\\ 0 & 0 & \\cdots & 1 \\end{array}\\right).$$\n",
    "\n",
    "Tenemos, por tanto, $A=LDV=(LD)V=BV$ con $B=LD$ (triangular inferior), $V$ triangular superior. De la simetría de $A$ se deduce que $B=T^t$. \n",
    "<p> </p>\n",
    "<h4 style=\"font-size: 1em;\">Cálculo directo de la descomposición de Cholesky</h4>\n",
    "<p> </p>\n",
    "<div style=\"color: #000000; background-image: initial; background-attachment: initial; background-origin: initial; background-clip: initial; background-color: #ffffff; background-position: initial initial; background-repeat: initial initial; margin: 8px;\">\n",
    "<p>Partiendo de la descomposición $A=T^tT$, podemos plantear un sistema de ecuaciones con los elementos $t_{ij}$ como incógnitas:</p>\n",
    "<p>$A=\\left(\\begin{array}{cccc}t_{11} & 0 & \\cdots & 0\\\\ t_{21} & t_{22} & \\cdots & 0\\\\ \\vdots & \\vdots & \\ddots & \\vdots\\\\ t_{n1} & t_{n2} & \\cdots & t_{nn}\\end{array}\\right)\\left(\\begin{array}{cccc}t_{11} & t_{21} & \\cdots & t_{n1}\\\\ 0 & t_{22} & \\cdots & t_{n2}\\\\ \\vdots & \\vdots & \\ddots & \\vdots\\\\ 0 & 0 & \\cdots & t_{nn}\\end{array}\\right)$</p>\n",
    "<p>resultando las siguientes ecuaciones:</p>\n",
    "<p>$$\\forall i,\\quad  t_{ii}=\\sqrt{a_{ii}-\\sum_{k=1}^{i-1}t_{ik}^2}$$</p>\n",
    "<p>$$\\forall i, j \\text{ con $j < i$,} \\quad t_{ij}=\\frac1{t_{jj}}\\left(a_{ij}-\\sum_{k=1}^{j-1}t_{ik}t_{jk}\\right)$$</p>\n",
    "<p>La siguiente función <span style=\"color: #0000ff;\">Cholesky(A)</span> proporciona la matriz $T$ de la descomposición de Cholesky $A=T^tT$, para una matriz $A$ simétrica y definida positiva.</p>\n",
    "</div>\n",
    "<p> </p>\n",
    "</div>"
   ]
  },
  {
   "cell_type": "code",
   "execution_count": 53,
   "metadata": {},
   "outputs": [],
   "source": [
    "def Cholesky(M):\n",
    "    A = copy(M)\n",
    "    R = A.base_ring()\n",
    "    n = A.nrows()\n",
    "    L = matrix(R, n, n, 0)\n",
    "    if not A.is_symmetric():\n",
    "        print('La matriz no es simétrica.')\n",
    "        return None\n",
    "    else:\n",
    "        for i in range(n):\n",
    "            for j in range(i):\n",
    "                L[i,j]=1/L[j,j] * (A[i,j] - add(L[i,k]*L[j,k] for k in range(j)))\n",
    "            aux = A[i,i] - sum(L[i,k]**2 for k in range(i))\n",
    "            if aux <= 0:\n",
    "                print('La matriz no es definida positiva. No admite descomposición de Cholesky.')\n",
    "                return None\n",
    "            L[i, i] = sqrt(aux)\n",
    "        return L.transpose()"
   ]
  },
  {
   "cell_type": "markdown",
   "metadata": {},
   "source": [
    "<h3><span style=\"color: #0000ff;\">Ejemplo 12</span></h3>\n",
    "<p>Dada la siguiente matriz</p>\n",
    "<p>$$A=\\left(\\begin{array}{ccc}4 & 2 & 1\\\\2 &3 &0\\\\\\ 1 & 0 & 4\\end{array}\\right)$$</p>\n",
    "<p>se pide:</p>\n",
    "<p>a) comprobar que es simétrica</p>\n",
    "<p>b) demostrar que es definida positiva estudiando el signo de sus menores principales</p>\n",
    "<p>c) demostrar que es definida positiva hallando su descomposición de Cholesky.</p>"
   ]
  },
  {
   "cell_type": "code",
   "execution_count": 54,
   "metadata": {},
   "outputs": [
    {
     "data": {
      "text/html": [
       "<html><script type=\"math/tex; mode=display\">\\newcommand{\\Bold}[1]{\\mathbf{#1}}\\left(\\begin{array}{rrr}\n",
       "4 & 2 & 1 \\\\\n",
       "2 & 3 & 0 \\\\\n",
       "1 & 0 & 4\n",
       "\\end{array}\\right)</script></html>"
      ],
      "text/latex": [
       "\\begin{math}\n",
       "\\newcommand{\\Bold}[1]{\\mathbf{#1}}\\left(\\begin{array}{rrr}\n",
       "4 & 2 & 1 \\\\\n",
       "2 & 3 & 0 \\\\\n",
       "1 & 0 & 4\n",
       "\\end{array}\\right)\n",
       "\\end{math}"
      ],
      "text/plain": [
       "[4 2 1]\n",
       "[2 3 0]\n",
       "[1 0 4]"
      ]
     },
     "metadata": {},
     "output_type": "display_data"
    }
   ],
   "source": [
    "### La matriz se elige de tipo SR (Symbolic Ring) para poder expresar \n",
    "### las raices cuadradas en el cálculo de la descomposición de Cholesky\n",
    "\n",
    "A = matrix(SR, [[4, 2, 1], [2, 3, 0],[1, 0, 4]])  \n",
    "show(A)"
   ]
  },
  {
   "cell_type": "markdown",
   "metadata": {},
   "source": [
    "<p>a)</p>"
   ]
  },
  {
   "cell_type": "code",
   "execution_count": 55,
   "metadata": {},
   "outputs": [
    {
     "data": {
      "text/plain": [
       "True"
      ]
     },
     "execution_count": 55,
     "metadata": {},
     "output_type": "execute_result"
    }
   ],
   "source": [
    "A.is_symmetric()"
   ]
  },
  {
   "cell_type": "markdown",
   "metadata": {},
   "source": [
    "<p>b)</p>\n",
    "\n",
    "<p>El sguiente bucle va calculando los menores principales de la matriz $A$. Hay que elegir el orden adecuado de la matriz.</p>"
   ]
  },
  {
   "cell_type": "code",
   "execution_count": 56,
   "metadata": {},
   "outputs": [
    {
     "name": "stdout",
     "output_type": "stream",
     "text": [
      "orden: 1 signo: positivo.\n",
      "orden: 2 signo: positivo.\n",
      "orden: 3 signo: positivo.\n"
     ]
    }
   ],
   "source": [
    "orden = 3  ### orden de la matriz\n",
    "\n",
    "for i in range(orden):\n",
    "    menor_principal = A[:i + 1, :i + 1].det()\n",
    "    if menor_principal >0   : signo = 'positivo'\n",
    "    elif menor_principal < 0: signo = 'negativo'\n",
    "    else                    : signo = 'nulo'\n",
    "    print('orden: %i signo: %s.'%(i+1, signo))"
   ]
  },
  {
   "cell_type": "markdown",
   "metadata": {},
   "source": [
    "<p>c)</p>"
   ]
  },
  {
   "cell_type": "code",
   "execution_count": 57,
   "metadata": {},
   "outputs": [
    {
     "data": {
      "text/html": [
       "<html><script type=\"math/tex; mode=display\">\\newcommand{\\Bold}[1]{\\mathbf{#1}}\\left(\\begin{array}{rrr}\n",
       "2 & 1 & \\frac{1}{2} \\\\\n",
       "0 & \\sqrt{2} & -\\frac{1}{4} \\, \\sqrt{2} \\\\\n",
       "0 & 0 & \\frac{1}{2} \\, \\sqrt{\\frac{29}{2}}\n",
       "\\end{array}\\right)</script></html>"
      ],
      "text/latex": [
       "\\begin{math}\n",
       "\\newcommand{\\Bold}[1]{\\mathbf{#1}}\\left(\\begin{array}{rrr}\n",
       "2 & 1 & \\frac{1}{2} \\\\\n",
       "0 & \\sqrt{2} & -\\frac{1}{4} \\, \\sqrt{2} \\\\\n",
       "0 & 0 & \\frac{1}{2} \\, \\sqrt{\\frac{29}{2}}\n",
       "\\end{array}\\right)\n",
       "\\end{math}"
      ],
      "text/plain": [
       "[             2              1            1/2]\n",
       "[             0        sqrt(2)   -1/4*sqrt(2)]\n",
       "[             0              0 1/2*sqrt(29/2)]"
      ]
     },
     "metadata": {},
     "output_type": "display_data"
    }
   ],
   "source": [
    "T = Cholesky(A)\n",
    "show(T)"
   ]
  },
  {
   "cell_type": "code",
   "execution_count": 58,
   "metadata": {},
   "outputs": [
    {
     "data": {
      "text/plain": [
       "True"
      ]
     },
     "execution_count": 58,
     "metadata": {},
     "output_type": "execute_result"
    }
   ],
   "source": [
    "T.transpose()*T == A"
   ]
  },
  {
   "cell_type": "markdown",
   "metadata": {},
   "source": [
    "<div style=\"color: #000000; background-image: initial; background-attachment: initial; background-origin: initial; background-clip: initial; background-color: #ffffff; background-position: initial initial; background-repeat: initial initial; margin: 8px;\">\n",
    "<h4>Coste computacional de la descomposición de Cholesky</h4>\n",
    "<p>El coste computacional es aproximadamente del orden  $O(\\frac 16 n^3)$ para la resolución del sistema anterior  en el caso de una matriz cuadrada de orden $n$, aunque se precisa calcular además $n$ raices cuadradas. Para $n$ grande, el coste es casi la mitad que el asociado a la descomposición $LU$.</p>\n",
    "</div>\n",
    "\n",
    "<div style=\"color: #000000; background-image: initial; background-attachment: initial; background-origin: initial; background-clip: initial; background-color: #ffffff; background-position: initial initial; background-repeat: initial initial; margin: 8px;\">\n",
    "<h4>Aplicación de la descomposición de Cholesky a la resolución de sistemas lineales</h4>\n",
    "<p>Tal como sucediera con la descomposición $A=LU$ podemos aplicar la misma técnica para la descomposición $A=T^tT$ en caso de que $A$ sea simétrica y definida positiva, para resolver en dos etapas el sistema lineal $Ax=b$</p>\n",
    "<p>Podemos ahora separar el sistema lineal en dos subsistemas:</p>\n",
    "<p style=\"text-align: center;\">$T\\cdot x=g\\ \\ $  y  $\\ \\ T^t\\cdot g=b$</p>\n",
    "<p>El primer sistema es triangular superior y se resuelve por <strong>sustitución regresiva</strong> de las variables del vector $x$. El segundo sistema es triangular inferior y se resuelve, de manera similar, por <strong>sustitución progresiva</strong>. La fórmula que se aplica con $i=1$, $i=2 \\ldots i=n$ (en este orden) es</p>\n",
    "<p>$$ g_i=\\frac{b_i-\\sum_{j=1}^{i-1}t_{ij}g_j}{t_{ii}}$$</p>\n",
    "<p>La siguiente función <span style=\"color: #0000ff;\">sustitucion_progresiva2(L, b)</span> resuelve un sistema lineal con matriz L triangular inferior mediante sustitución progresiva</p>\n",
    "</div>"
   ]
  },
  {
   "cell_type": "code",
   "execution_count": 59,
   "metadata": {},
   "outputs": [],
   "source": [
    "def sustitucion_progresiva2(L, g):\n",
    "    n = L.ncols()\n",
    "    x = copy(g)\n",
    "    for k in range(n):\n",
    "        x[k] = (g[k] - sum(L[k, j]*x[j] for j in range(k)))/L[k, k]\n",
    "    return x"
   ]
  },
  {
   "cell_type": "markdown",
   "metadata": {},
   "source": [
    "<div style=\"color: #000000; background-image: initial; background-attachment: initial; background-origin: initial; background-clip: initial; background-color: #ffffff; background-position: initial initial; background-repeat: initial initial; margin: 8px;\">\n",
    "<h3 style=\"font-size: 1.17em;\"><span style=\"color: #0000ff;\">Ejemplo 13</span></h3>\n",
    "<p>A partir de la matriz del <strong>ejemplo anterior</strong>, resolver el sistema lineal $Ax=b$ utilizando la descomposición de Cholesky, para </p>\n",
    "<p>$$b=\\left(\\begin{array}{c}1 \\\\ 0 \\\\ 1 \\end{array}\\right)$$</p>\n",
    "<p> </p>\n",
    "</div>"
   ]
  },
  {
   "cell_type": "code",
   "execution_count": 60,
   "metadata": {},
   "outputs": [
    {
     "data": {
      "text/html": [
       "<html><script type=\"math/tex; mode=display\">\\newcommand{\\Bold}[1]{\\mathbf{#1}}\\left(\\begin{array}{rrr}\n",
       "4 & 2 & 1 \\\\\n",
       "2 & 3 & 0 \\\\\n",
       "1 & 0 & 4\n",
       "\\end{array}\\right)</script></html>"
      ],
      "text/latex": [
       "\\begin{math}\n",
       "\\newcommand{\\Bold}[1]{\\mathbf{#1}}\\left(\\begin{array}{rrr}\n",
       "4 & 2 & 1 \\\\\n",
       "2 & 3 & 0 \\\\\n",
       "1 & 0 & 4\n",
       "\\end{array}\\right)\n",
       "\\end{math}"
      ],
      "text/plain": [
       "[4 2 1]\n",
       "[2 3 0]\n",
       "[1 0 4]"
      ]
     },
     "metadata": {},
     "output_type": "display_data"
    }
   ],
   "source": [
    "A = matrix(SR, [[4, 2, 1], [2, 3, 0], [1, 0, 4]])\n",
    "show(A)"
   ]
  },
  {
   "cell_type": "code",
   "execution_count": 61,
   "metadata": {},
   "outputs": [
    {
     "data": {
      "text/plain": [
       "(1, 0, 1)"
      ]
     },
     "execution_count": 61,
     "metadata": {},
     "output_type": "execute_result"
    }
   ],
   "source": [
    "b = vector(SR, [1, 0, 1]); b"
   ]
  },
  {
   "cell_type": "code",
   "execution_count": 62,
   "metadata": {},
   "outputs": [
    {
     "data": {
      "text/html": [
       "<html><script type=\"math/tex; mode=display\">\\newcommand{\\Bold}[1]{\\mathbf{#1}}\\left(\\begin{array}{rrr}\n",
       "2 & 1 & \\frac{1}{2} \\\\\n",
       "0 & \\sqrt{2} & -\\frac{1}{4} \\, \\sqrt{2} \\\\\n",
       "0 & 0 & \\frac{1}{2} \\, \\sqrt{\\frac{29}{2}}\n",
       "\\end{array}\\right)</script></html>"
      ],
      "text/latex": [
       "\\begin{math}\n",
       "\\newcommand{\\Bold}[1]{\\mathbf{#1}}\\left(\\begin{array}{rrr}\n",
       "2 & 1 & \\frac{1}{2} \\\\\n",
       "0 & \\sqrt{2} & -\\frac{1}{4} \\, \\sqrt{2} \\\\\n",
       "0 & 0 & \\frac{1}{2} \\, \\sqrt{\\frac{29}{2}}\n",
       "\\end{array}\\right)\n",
       "\\end{math}"
      ],
      "text/plain": [
       "[             2              1            1/2]\n",
       "[             0        sqrt(2)   -1/4*sqrt(2)]\n",
       "[             0              0 1/2*sqrt(29/2)]"
      ]
     },
     "metadata": {},
     "output_type": "display_data"
    }
   ],
   "source": [
    "T = Cholesky(A)\n",
    "show(T)"
   ]
  },
  {
   "cell_type": "code",
   "execution_count": 63,
   "metadata": {},
   "outputs": [
    {
     "data": {
      "text/html": [
       "<html><script type=\"math/tex; mode=display\">\\newcommand{\\Bold}[1]{\\mathbf{#1}}\\left(\\frac{1}{2},\\,-\\frac{1}{4} \\, \\sqrt{2},\\,\\frac{5}{58} \\, \\sqrt{\\frac{29}{2}}\\right)</script></html>"
      ],
      "text/latex": [
       "\\begin{math}\n",
       "\\newcommand{\\Bold}[1]{\\mathbf{#1}}\\left(\\frac{1}{2},\\,-\\frac{1}{4} \\, \\sqrt{2},\\,\\frac{5}{58} \\, \\sqrt{\\frac{29}{2}}\\right)\n",
       "\\end{math}"
      ],
      "text/plain": [
       "(1/2, -1/4*sqrt(2), 5/58*sqrt(29/2))"
      ]
     },
     "metadata": {},
     "output_type": "display_data"
    }
   ],
   "source": [
    "g = sustitucion_progresiva2(T.transpose(), b)\n",
    "show(g)         # resolvemos el primer sistema auxiliar por sustitución progresiva"
   ]
  },
  {
   "cell_type": "code",
   "execution_count": 64,
   "metadata": {},
   "outputs": [
    {
     "data": {
      "text/plain": [
       "(9/29, -6/29, 5/29)"
      ]
     },
     "execution_count": 64,
     "metadata": {},
     "output_type": "execute_result"
    }
   ],
   "source": [
    "z = sustitucion_regresiva2(T, g)  # resolvemos el segundo sistema por sustitución regresiva, obteniendo la solución final\n",
    "z"
   ]
  },
  {
   "cell_type": "code",
   "execution_count": 65,
   "metadata": {},
   "outputs": [
    {
     "data": {
      "text/html": [
       "<html><script type=\"math/tex; mode=display\">\\newcommand{\\Bold}[1]{\\mathbf{#1}}\\left(1,\\,0,\\,1\\right)</script></html>"
      ],
      "text/latex": [
       "\\begin{math}\n",
       "\\newcommand{\\Bold}[1]{\\mathbf{#1}}\\left(1,\\,0,\\,1\\right)\n",
       "\\end{math}"
      ],
      "text/plain": [
       "(1, 0, 1)"
      ]
     },
     "metadata": {},
     "output_type": "display_data"
    },
    {
     "data": {
      "text/plain": [
       "True"
      ]
     },
     "execution_count": 65,
     "metadata": {},
     "output_type": "execute_result"
    }
   ],
   "source": [
    "show(A*z)\n",
    "A*z == b #  comprobamos si las soluciones coinciden"
   ]
  },
  {
   "cell_type": "code",
   "execution_count": null,
   "metadata": {},
   "outputs": [],
   "source": []
  },
  {
   "cell_type": "markdown",
   "metadata": {},
   "source": [
    "<hr>\n",
    "\n",
    "<h3><a name=\"cuestionario\"></a></h3>\n",
    "<h3>CUESTIONARIO PARA EL ALUMNADO</h3>\n",
    "\n",
    "Introduzca en la variable NUMERO_CUESTIONARIO, que aparece más abajo, el número correspondiente a su cuestionario asignado y ejecuta la celda (*Shift* + *Enter* desde dentro de la celda). Accederá a un cuestionario con respuestas tipo test que se entregará cumplimentado antes de finalizar esta sesión práctica, siguiendo un modelo impreso que entregará el profesor y/o on-line en la plataforma de enseñanza virtual (seguir las instrucciones dadas en la clase de laboratorio por el docente).\n",
    "\n",
    "**Ayuda para copiar los datos de los enunciados:**\n",
    "\n",
    "* Se puede utilizar la función `matrix_from_copypaste` para copiar y pegar los coeficientes de las matrices. Selecciona con el ratón todos los datos del interior de la matriz y cópialos con Ctrl+C. Luego, pégalos (entre comillas) con Ctrl+V en el interior de la siguiente orden:\n",
    "      A = matrix_from_copypaste(QQ, 3, 4, 'pegar_aqui_los_coeficientes' )   # matriz de orden 3x4 para datos en QQ.\n",
    "* De forma análoga, se puede utilizar la función `vector_from_copypaste` para copiar y pegar los coeficientes de los vectores.\n",
    "      b = vector_from_copypaste(QQ, 'pegar_aqui_los_coeficientes' )    # vector para datos en QQ."
   ]
  },
  {
   "cell_type": "code",
   "execution_count": 66,
   "metadata": {
    "scrolled": false
   },
   "outputs": [
    {
     "data": {
      "text/html": [
       "<center><h4>E.T.S.I.I. - GRADOS EN INGENIERÍA INFORMÁTICA</h4></center><center><h4>Álgebra Lineal y Numérica - SEGUNDA PRÁCTICA DE LABORATORIO</h4></center><hr  align=center><center>APELLIDOS, NOMBRE: <INPUT value= \"\",type=text size=70> <INPUT type=submit value=1-1F38FC><hr  align=center></center><hr  align=center><b> <span style=\"color: #0000ff;\">EJERCICIO 1 </span></b><br> El sistema de ecuaciones <script type=\"math/tex\">Ax=b</script>, donde \n",
       " <script type=\"math/tex; mode=display\">A=\\left(\\begin{array}{rrr} -1.130,  & 1.958, & 2.361, \\\\ 0.818,  &  -0.180,  &  -2.860, \\\\ 1.953,  &  1.050,  &  1.597,  \\end{array}\\right)\\ ,\\ b=\\left(\\begin{array}{r} -12.000,  \\\\ 11.000, \\\\ 19.000, \\end{array}\\right)</script> ha de ser almacenado usando 6 bits para la mantisa.<ol><li>Obtener la solución del sistema a partir del escalonamiento simple sin pivoteo más sustitución regresiva.</li><li>Obtener la solución del sistema a partir del escalonamiento simple con pivoteo parcial escalado más sustituión regresiva.</li></ol>Marcar la respuesta que contenga menor error respecto de la obtenida.<br><hr  align=center><b> <span style=\"color: #ff0000;\">Respuesta al apartado 1 </span></b><br><br> <table style=\" width:100%\"> <tr> <td style=\"border:none; text-align:left\">1.<input type=checkbox> (9.8, 0.98, -0.98)    </td> <td style=\"border:none; text-align:left\">2.<input type=checkbox> (8.8, 3.0, -1.4)    </td> </tr> <tr> <td style=\"border:none; text-align:left\">3.<input type=checkbox> (9.5, 0.90, -1.1)    </td> <td style=\"border:none; text-align:left\">4.<input type=checkbox> (10., 1.0, -1.1)    </td> </tr> </table><br><br><b> <span style=\"color: #ff0000;\">Respuesta al apartado 2 </span></b><br><br> <table style=\" width:100%\"> <tr> <td style=\"border:none; text-align:left\">1.<input type=checkbox> (7.9, 6.0, -3.0)    </td> <td style=\"border:none; text-align:left\">2.<input type=checkbox> (10., 0.55, -0.93)    </td> </tr> <tr> <td style=\"border:none; text-align:left\">3.<input type=checkbox> (10., 0.91, -1.0)    </td> <td style=\"border:none; text-align:left\">4.<input type=checkbox> (11., 1.2, 2.6)    </td> </tr> </table><br><br><hr  align=center><b> <span style=\"color: #0000ff;\">EJERCICIO 2 </span></b><br> Consideremos el sistema de ecuaciones <script type=\"math/tex\">Ax=b</script>, donde \n",
       " <script type=\"math/tex; mode=display\">A=\\left(\\begin{array}{rrr} 81,  & -81, & -54, \\\\ -81,  &  145,  &  126, \\\\ -54,  &  126,  &  198,  \\end{array}\\right)\\ ,\\ b=\\left(\\begin{array}{r} -324,  \\\\ 388, \\\\ 288, \\end{array}\\right)</script>.\n",
       " Se pide:<ol><li>Hallar la descomposición de Cholesky <script type=\"math/tex\">A=T^tT</script> e indicar el valor del elemento <script type=\"math/tex\">t_{2,3}</script> de la matriz <script type=\"math/tex\">T</script>.</li><li>Hallar la solución del sistema auxiliar resuelto por sustitución progresiva.</li><li>Hallar la solución final del sistema <script type=\"math/tex\">Ax=b</script>.</li></ol>Marcar la respuesta correcta. Se recomienda trabajar sobre el anillo QQ de los números racionales.<br><hr  align=center><b> <span style=\"color: #ff0000;\">Respuesta al apartado 1 </span></b><br><br> 1.<input type=checkbox> -1   2.<input type=checkbox> 3   3.<input type=checkbox> 9   4.<input type=checkbox> 7<br><br><b> <span style=\"color: #ff0000;\">Respuesta al apartado 2 </span></b><br><br> 1.<input type=checkbox> [-36, 8, 0]   2.<input type=checkbox> [-19, 1, -3]   3.<input type=checkbox> [-18, -14, 0]   4.<input type=checkbox> [-17, 22, 10]<br><br><b> <span style=\"color: #ff0000;\">Respuesta al apartado 3 </span></b><br><br> 1.<input type=checkbox> [-3, -3, -3]   2.<input type=checkbox> [0, 0, -1]   3.<input type=checkbox> [1, 0, 0]   4.<input type=checkbox> [-3, 1, 0]<br><br><hr  align=center><b> <span style=\"color: #0000ff;\">EJERCICIO 3 </span></b><br> Dada la matriz \n",
       " <script type=\"math/tex; mode=display\">A= \\left(\\begin{array}{rrrrr} 199, & 15, & 48, & -47, & -63, \\\\ 15, & 91, & -84, & -39, & 9, \\\\ 48, & -84, & 170, & 55, & -81, \\\\ -47, & -39, & 55, & 65, & 9, \\\\ -63, & 9, & -81, & 9, & 81,\\end{array}\\right)</script> \n",
       " queremos estudiar si es regular, diagonal dominante, simétrica y definida positiva.<ol><li>Indicar la respuesta que mejor describe las propiedades de la matriz.</li></ol>Marcar la respuesta correcta.<br><hr  align=center><b> <span style=\"color: #ff0000;\">Respuesta al apartado 1 </span></b><br><br> 1.<input type=checkbox> La matriz es singular y no tiene ninguna propiedad más. <br> 2.<input type=checkbox> Es regular, simétrica y definida positiva, aunque no es diagonal dominante. <br> 3.<input type=checkbox> Tan solo es simétrica y singular. <br> 4.<input type=checkbox> Ninguna de las otras respuestas.<br><br><hr  align=center><b> <span style=\"color: #0000ff;\">EJERCICIO 4 </span></b><br> Se considera el sistema de ecuaciones lineales <script type=\"math/tex\">Ax=b</script>, donde \n",
       " <script type=\"math/tex; mode=display\">A= \\left(\\begin{array}{rrrrr} 3, & 3, & -3, & -1, & 2, \\\\ -3, & -5, & 2, & -1, & -4, \\\\ 9, & 5, & -10, & -8, & 1, \\\\ -6, & -2, & 11, & 1, & -2, \\\\ 21, & 9, & -32, & -10, & 5,\\end{array}\\right)\\ \\ , \\ \\  b= \\left(\\begin{array}{r} 3, \\\\ -1, \\\\ -3,\\\\ 2, \\\\ 3, \\end{array}\\right)</script>\n",
       " Se pretende resolverlo utilizando alguna descomposición tipo LU.<ol><li>¿Existe una descomposición LU para la matriz <script type=\"math/tex\">A</script> del sistema anterior? Seleccionar la respuesta más precisa.</li><li>Hallar la matriz <script type=\"math/tex\">U</script> de la descomposición LU, si esta es factible o, en caso contrario,\n",
       " la matriz <script type=\"math/tex\">U</script> de la descomposición PLU con intercambio de filas. Indicar el valor del \n",
       " elemento de la tercera fila <script type=\"math/tex\">u_{3,3}</script>.</li><li>Determinar la solución del sistema auxiliar, con el tipo de descomposición del apartado anterior.</li><li>Dar la solución del sistema inicial <script type=\"math/tex\">Ax=b</script>.</li></ol>Marcar la respuesta correcta.<br><hr  align=center><b> <span style=\"color: #ff0000;\">Respuesta al apartado 1 </span></b><br><br> 1.<input type=checkbox> La matriz <script type=\"math/tex\">A</script> no admite ni descomposición LU ni descomposición PLU. <br> 2.<input type=checkbox> La matriz <script type=\"math/tex\">A</script> admite descomposicion LU sin intercambio de filas. <br> 3.<input type=checkbox> La matriz <script type=\"math/tex\">A</script> no admite descomposición LU porque es singular. <br> 4.<input type=checkbox> La matriz <script type=\"math/tex\">A</script> no admite descomposicion LU sin intercambio de filas, pero sí admite descomposición PLU.<br><br><b> <span style=\"color: #ff0000;\">Respuesta al apartado 2 </span></b><br><br> 1.<input type=checkbox> 1   2.<input type=checkbox> 135/13   3.<input type=checkbox> 39/7   4.<input type=checkbox> -13/4<br><br><b> <span style=\"color: #ff0000;\">Respuesta al apartado 3 </span></b><br><br> <table style=\" width:100%\"> <tr> <td style=\"border:none; text-align:left\">1.<input type=checkbox> (3, 2, -16, 60, 10)    </td> <td style=\"border:none; text-align:left\">2.<input type=checkbox> (-10, 48, 306/7, 10, -9/7)    </td> </tr> <tr> <td style=\"border:none; text-align:left\">3.<input type=checkbox> (34, -52/3, 43/7, -21/2, 5)    </td> <td style=\"border:none; text-align:left\">4.<input type=checkbox> (-9, 1, 4, -8, -4)    </td> </tr> </table><br><br><b> <span style=\"color: #ff0000;\">Respuesta al apartado 4 </span></b><br><br> <table style=\" width:100%\"> <tr> <td style=\"border:none; text-align:left\">1.<input type=checkbox> (-2, 2, 1, -3, 2)    </td> <td style=\"border:none; text-align:left\">2.<input type=checkbox> (3, -2, -1, -2, 1)    </td> </tr> <tr> <td style=\"border:none; text-align:left\">3.<input type=checkbox> El sistema no tiene solución.    </td> <td style=\"border:none; text-align:left\">4.<input type=checkbox> (2, -2, 3, -3, -3)    </td> </tr> </table><br><br><hr  align=center><center><span style=\"font-size: x-small;\"> Final del documento </span></center>"
      ],
      "text/plain": [
       "<center><h4>E.T.S.I.I. - GRADOS EN INGENIERÍA INFORMÁTICA</h4></center><center><h4>Álgebra Lineal y Numérica - SEGUNDA PRÁCTICA DE LABORATORIO</h4></center><hr  align=center><center>APELLIDOS, NOMBRE: <INPUT value= \"\",type=text size=70> <INPUT type=submit value=1-1F38FC><hr  align=center></center><hr  align=center><b> <span style=\"color: #0000ff;\">EJERCICIO 1 </span></b><br> El sistema de ecuaciones <script type=\"math/tex\">Ax=b</script>, donde \n",
       " <script type=\"math/tex; mode=display\">A=\\left(\\begin{array}{rrr} -1.130,  & 1.958, & 2.361, \\\\ 0.818,  &  -0.180,  &  -2.860, \\\\ 1.953,  &  1.050,  &  1.597,  \\end{array}\\right)\\ ,\\ b=\\left(\\begin{array}{r} -12.000,  \\\\ 11.000, \\\\ 19.000, \\end{array}\\right)</script> ha de ser almacenado usando 6 bits para la mantisa.<ol><li>Obtener la solución del sistema a partir del escalonamiento simple sin pivoteo más sustitución regresiva.</li><li>Obtener la solución del sistema a partir del escalonamiento simple con pivoteo parcial escalado más sustituión regresiva.</li></ol>Marcar la respuesta que contenga menor error respecto de la obtenida.<br><hr  align=center><b> <span style=\"color: #ff0000;\">Respuesta al apartado 1 </span></b><br><br> <table style=\" width:100%\"> <tr> <td style=\"border:none; text-align:left\">1.<input type=checkbox> (9.8, 0.98, -0.98)    </td> <td style=\"border:none; text-align:left\">2.<input type=checkbox> (8.8, 3.0, -1.4)    </td> </tr> <tr> <td style=\"border:none; text-align:left\">3.<input type=checkbox> (9.5, 0.90, -1.1)    </td> <td style=\"border:none; text-align:left\">4.<input type=checkbox> (10., 1.0, -1.1)    </td> </tr> </table><br><br><b> <span style=\"color: #ff0000;\">Respuesta al apartado 2 </span></b><br><br> <table style=\" width:100%\"> <tr> <td style=\"border:none; text-align:left\">1.<input type=checkbox> (7.9, 6.0, -3.0)    </td> <td style=\"border:none; text-align:left\">2.<input type=checkbox> (10., 0.55, -0.93)    </td> </tr> <tr> <td style=\"border:none; text-align:left\">3.<input type=checkbox> (10., 0.91, -1.0)    </td> <td style=\"border:none; text-align:left\">4.<input type=checkbox> (11., 1.2, 2.6)    </td> </tr> </table><br><br><hr  align=center><b> <span style=\"color: #0000ff;\">EJERCICIO 2 </span></b><br> Consideremos el sistema de ecuaciones <script type=\"math/tex\">Ax=b</script>, donde \n",
       " <script type=\"math/tex; mode=display\">A=\\left(\\begin{array}{rrr} 81,  & -81, & -54, \\\\ -81,  &  145,  &  126, \\\\ -54,  &  126,  &  198,  \\end{array}\\right)\\ ,\\ b=\\left(\\begin{array}{r} -324,  \\\\ 388, \\\\ 288, \\end{array}\\right)</script>.\n",
       " Se pide:<ol><li>Hallar la descomposición de Cholesky <script type=\"math/tex\">A=T^tT</script> e indicar el valor del elemento <script type=\"math/tex\">t_{2,3}</script> de la matriz <script type=\"math/tex\">T</script>.</li><li>Hallar la solución del sistema auxiliar resuelto por sustitución progresiva.</li><li>Hallar la solución final del sistema <script type=\"math/tex\">Ax=b</script>.</li></ol>Marcar la respuesta correcta. Se recomienda trabajar sobre el anillo QQ de los números racionales.<br><hr  align=center><b> <span style=\"color: #ff0000;\">Respuesta al apartado 1 </span></b><br><br> 1.<input type=checkbox> -1   2.<input type=checkbox> 3   3.<input type=checkbox> 9   4.<input type=checkbox> 7<br><br><b> <span style=\"color: #ff0000;\">Respuesta al apartado 2 </span></b><br><br> 1.<input type=checkbox> [-36, 8, 0]   2.<input type=checkbox> [-19, 1, -3]   3.<input type=checkbox> [-18, -14, 0]   4.<input type=checkbox> [-17, 22, 10]<br><br><b> <span style=\"color: #ff0000;\">Respuesta al apartado 3 </span></b><br><br> 1.<input type=checkbox> [-3, -3, -3]   2.<input type=checkbox> [0, 0, -1]   3.<input type=checkbox> [1, 0, 0]   4.<input type=checkbox> [-3, 1, 0]<br><br><hr  align=center><b> <span style=\"color: #0000ff;\">EJERCICIO 3 </span></b><br> Dada la matriz \n",
       " <script type=\"math/tex; mode=display\">A= \\left(\\begin{array}{rrrrr} 199, & 15, & 48, & -47, & -63, \\\\ 15, & 91, & -84, & -39, & 9, \\\\ 48, & -84, & 170, & 55, & -81, \\\\ -47, & -39, & 55, & 65, & 9, \\\\ -63, & 9, & -81, & 9, & 81,\\end{array}\\right)</script> \n",
       " queremos estudiar si es regular, diagonal dominante, simétrica y definida positiva.<ol><li>Indicar la respuesta que mejor describe las propiedades de la matriz.</li></ol>Marcar la respuesta correcta.<br><hr  align=center><b> <span style=\"color: #ff0000;\">Respuesta al apartado 1 </span></b><br><br> 1.<input type=checkbox> La matriz es singular y no tiene ninguna propiedad más. <br> 2.<input type=checkbox> Es regular, simétrica y definida positiva, aunque no es diagonal dominante. <br> 3.<input type=checkbox> Tan solo es simétrica y singular. <br> 4.<input type=checkbox> Ninguna de las otras respuestas.<br><br><hr  align=center><b> <span style=\"color: #0000ff;\">EJERCICIO 4 </span></b><br> Se considera el sistema de ecuaciones lineales <script type=\"math/tex\">Ax=b</script>, donde \n",
       " <script type=\"math/tex; mode=display\">A= \\left(\\begin{array}{rrrrr} 3, & 3, & -3, & -1, & 2, \\\\ -3, & -5, & 2, & -1, & -4, \\\\ 9, & 5, & -10, & -8, & 1, \\\\ -6, & -2, & 11, & 1, & -2, \\\\ 21, & 9, & -32, & -10, & 5,\\end{array}\\right)\\ \\ , \\ \\  b= \\left(\\begin{array}{r} 3, \\\\ -1, \\\\ -3,\\\\ 2, \\\\ 3, \\end{array}\\right)</script>\n",
       " Se pretende resolverlo utilizando alguna descomposición tipo LU.<ol><li>¿Existe una descomposición LU para la matriz <script type=\"math/tex\">A</script> del sistema anterior? Seleccionar la respuesta más precisa.</li><li>Hallar la matriz <script type=\"math/tex\">U</script> de la descomposición LU, si esta es factible o, en caso contrario,\n",
       " la matriz <script type=\"math/tex\">U</script> de la descomposición PLU con intercambio de filas. Indicar el valor del \n",
       " elemento de la tercera fila <script type=\"math/tex\">u_{3,3}</script>.</li><li>Determinar la solución del sistema auxiliar, con el tipo de descomposición del apartado anterior.</li><li>Dar la solución del sistema inicial <script type=\"math/tex\">Ax=b</script>.</li></ol>Marcar la respuesta correcta.<br><hr  align=center><b> <span style=\"color: #ff0000;\">Respuesta al apartado 1 </span></b><br><br> 1.<input type=checkbox> La matriz <script type=\"math/tex\">A</script> no admite ni descomposición LU ni descomposición PLU. <br> 2.<input type=checkbox> La matriz <script type=\"math/tex\">A</script> admite descomposicion LU sin intercambio de filas. <br> 3.<input type=checkbox> La matriz <script type=\"math/tex\">A</script> no admite descomposición LU porque es singular. <br> 4.<input type=checkbox> La matriz <script type=\"math/tex\">A</script> no admite descomposicion LU sin intercambio de filas, pero sí admite descomposición PLU.<br><br><b> <span style=\"color: #ff0000;\">Respuesta al apartado 2 </span></b><br><br> 1.<input type=checkbox> 1   2.<input type=checkbox> 135/13   3.<input type=checkbox> 39/7   4.<input type=checkbox> -13/4<br><br><b> <span style=\"color: #ff0000;\">Respuesta al apartado 3 </span></b><br><br> <table style=\" width:100%\"> <tr> <td style=\"border:none; text-align:left\">1.<input type=checkbox> (3, 2, -16, 60, 10)    </td> <td style=\"border:none; text-align:left\">2.<input type=checkbox> (-10, 48, 306/7, 10, -9/7)    </td> </tr> <tr> <td style=\"border:none; text-align:left\">3.<input type=checkbox> (34, -52/3, 43/7, -21/2, 5)    </td> <td style=\"border:none; text-align:left\">4.<input type=checkbox> (-9, 1, 4, -8, -4)    </td> </tr> </table><br><br><b> <span style=\"color: #ff0000;\">Respuesta al apartado 4 </span></b><br><br> <table style=\" width:100%\"> <tr> <td style=\"border:none; text-align:left\">1.<input type=checkbox> (-2, 2, 1, -3, 2)    </td> <td style=\"border:none; text-align:left\">2.<input type=checkbox> (3, -2, -1, -2, 1)    </td> </tr> <tr> <td style=\"border:none; text-align:left\">3.<input type=checkbox> El sistema no tiene solución.    </td> <td style=\"border:none; text-align:left\">4.<input type=checkbox> (2, -2, 3, -3, -3)    </td> </tr> </table><br><br><hr  align=center><center><span style=\"font-size: x-small;\"> Final del documento </span></center>"
      ]
     },
     "metadata": {},
     "output_type": "display_data"
    }
   ],
   "source": [
    "NUMERO_CUESTIONARIO = 1   ### asignar un número natural entre 1 y 500\n",
    "\n",
    "### No modificar el código de abajo\n",
    "\n",
    "NOMBRE_FICHERO_EXAMEN = 'ALN_P2_t.htl'\n",
    "load('show_html.sage')\n",
    "load('codigo_examinar_html.sage')\n",
    "\n",
    "if NUMERO_CUESTIONARIO>0:\n",
    "    lector_examenes(NOMBRE_FICHERO_EXAMEN,NUMERO_CUESTIONARIO,False)"
   ]
  },
  {
   "cell_type": "code",
   "execution_count": 75,
   "metadata": {},
   "outputs": [
    {
     "data": {
      "text/html": [
       "<html><script type=\"math/tex; mode=display\">\\newcommand{\\Bold}[1]{\\mathbf{#1}}\\left[\\begin{array}{rrr}\n",
       "-\\frac{113}{100} & \\frac{979}{500} & \\frac{2361}{1000} \\\\\n",
       "\\frac{409}{500} & -\\frac{9}{50} & -\\frac{143}{50} \\\\\n",
       "\\frac{1953}{1000} & \\frac{21}{20} & \\frac{1597}{1000}\n",
       "\\end{array}\\right]</script></html>"
      ],
      "text/latex": [
       "\\begin{math}\n",
       "\\newcommand{\\Bold}[1]{\\mathbf{#1}}\\left[\\begin{array}{rrr}\n",
       "-\\frac{113}{100} & \\frac{979}{500} & \\frac{2361}{1000} \\\\\n",
       "\\frac{409}{500} & -\\frac{9}{50} & -\\frac{143}{50} \\\\\n",
       "\\frac{1953}{1000} & \\frac{21}{20} & \\frac{1597}{1000}\n",
       "\\end{array}\\right]\n",
       "\\end{math}"
      ],
      "text/plain": [
       "[ -113/100   979/500 2361/1000]\n",
       "[  409/500     -9/50   -143/50]\n",
       "[1953/1000     21/20 1597/1000]"
      ]
     },
     "metadata": {},
     "output_type": "display_data"
    }
   ],
   "source": [
    "A = matrix_from_copypaste(QQ, 3, 3, '−1.130,0.818,1.953,1.958,−0.180,1.050,2.361,−2.860,1.597' )  ## una matriz de orden 3x3 en QQ\n",
    "show(A)"
   ]
  },
  {
   "cell_type": "code",
   "execution_count": 83,
   "metadata": {},
   "outputs": [
    {
     "data": {
      "text/html": [
       "<html><script type=\"math/tex; mode=display\">\\newcommand{\\Bold}[1]{\\mathbf{#1}}\\left(-12,\\,11,\\,19\\right)</script></html>"
      ],
      "text/latex": [
       "\\begin{math}\n",
       "\\newcommand{\\Bold}[1]{\\mathbf{#1}}\\left(-12,\\,11,\\,19\\right)\n",
       "\\end{math}"
      ],
      "text/plain": [
       "(-12, 11, 19)"
      ]
     },
     "metadata": {},
     "output_type": "display_data"
    }
   ],
   "source": [
    "B = vector_from_copypaste(QQ, '−12.000,11.000,19.000')  ## un vector en QQ\n",
    "show(B)"
   ]
  },
  {
   "cell_type": "code",
   "execution_count": 70,
   "metadata": {},
   "outputs": [],
   "source": [
    "# Ejercicio 1"
   ]
  },
  {
   "cell_type": "code",
   "execution_count": 71,
   "metadata": {},
   "outputs": [
    {
     "data": {
      "text/plain": [
       "'\\n1. (9.8, 0.98, -0.98)\\t2. (8.8, 3.0, -1.4)\\n3. (9.5, 0.90, -1.1)\\t4. (10., 1.0, -1.1)\\n'"
      ]
     },
     "execution_count": 71,
     "metadata": {},
     "output_type": "execute_result"
    }
   ],
   "source": [
    "# Apartado 1\n",
    "# Respuestas:\n",
    "'''\n",
    "1. (9.8, 0.98, -0.98)\t2. (8.8, 3.0, -1.4)\n",
    "3. (9.5, 0.90, -1.1)\t4. (10., 1.0, -1.1)\n",
    "\n",
    "−1.130,0.818,1.953,1.958,−0.180,1.050,2.361,−2.860,1.597,\n",
    "'''"
   ]
  },
  {
   "cell_type": "code",
   "execution_count": 85,
   "metadata": {},
   "outputs": [
    {
     "data": {
      "text/html": [
       "<html><script type=\"math/tex; mode=display\">\\newcommand{\\Bold}[1]{\\mathbf{#1}}\\left[\\begin{array}{rrr}\n",
       "-\\frac{113}{100} & \\frac{979}{500} & \\frac{2361}{1000} \\\\\n",
       "\\frac{409}{500} & -\\frac{9}{50} & -\\frac{143}{50} \\\\\n",
       "\\frac{1953}{1000} & \\frac{21}{20} & \\frac{1597}{1000}\n",
       "\\end{array}\\right]</script></html>"
      ],
      "text/latex": [
       "\\begin{math}\n",
       "\\newcommand{\\Bold}[1]{\\mathbf{#1}}\\left[\\begin{array}{rrr}\n",
       "-\\frac{113}{100} & \\frac{979}{500} & \\frac{2361}{1000} \\\\\n",
       "\\frac{409}{500} & -\\frac{9}{50} & -\\frac{143}{50} \\\\\n",
       "\\frac{1953}{1000} & \\frac{21}{20} & \\frac{1597}{1000}\n",
       "\\end{array}\\right]\n",
       "\\end{math}"
      ],
      "text/plain": [
       "[ -113/100   979/500 2361/1000]\n",
       "[  409/500     -9/50   -143/50]\n",
       "[1953/1000     21/20 1597/1000]"
      ]
     },
     "metadata": {},
     "output_type": "display_data"
    }
   ],
   "source": [
    "A = matrix_from_copypaste(QQ, 3, 3, '−1.130,0.818,1.953,1.958,−0.180,1.050,2.361,−2.860,1.597')\n",
    "show(A)"
   ]
  },
  {
   "cell_type": "code",
   "execution_count": 86,
   "metadata": {},
   "outputs": [
    {
     "data": {
      "text/html": [
       "<html><script type=\"math/tex; mode=display\">\\newcommand{\\Bold}[1]{\\mathbf{#1}}\\left(-12,\\,11,\\,19\\right)</script></html>"
      ],
      "text/latex": [
       "\\begin{math}\n",
       "\\newcommand{\\Bold}[1]{\\mathbf{#1}}\\left(-12,\\,11,\\,19\\right)\n",
       "\\end{math}"
      ],
      "text/plain": [
       "(-12, 11, 19)"
      ]
     },
     "metadata": {},
     "output_type": "display_data"
    }
   ],
   "source": [
    "B = vector_from_copypaste(QQ, '−12.000,11.000,19.000')\n",
    "show(B)"
   ]
  },
  {
   "cell_type": "code",
   "execution_count": 84,
   "metadata": {},
   "outputs": [
    {
     "ename": "SyntaxError",
     "evalue": "invalid character in identifier (<ipython-input-84-aa8b51bd1914>, line 2)",
     "output_type": "error",
     "traceback": [
      "\u001b[0;36m  File \u001b[0;32m\"<ipython-input-84-aa8b51bd1914>\"\u001b[0;36m, line \u001b[0;32m2\u001b[0m\n\u001b[0;31m    A = matrix(RealField(Integer(6)), [[(−RealNumber('1.130')),RealNumber('0.818'),RealNumber('1.953')], [RealNumber('1.958'),−RealNumber('0.180'),RealNumber('1.050')], [RealNumber('2.361'),−RealNumber('2.860'),RealNumber('1.597')]])\u001b[0m\n\u001b[0m                                                   ^\u001b[0m\n\u001b[0;31mSyntaxError\u001b[0m\u001b[0;31m:\u001b[0m invalid character in identifier\n"
     ]
    }
   ],
   "source": [
    "# Con precision 6 para la mantisa:\n",
    "A = matrix(RealField(6), [[−1.130,0.818,1.953], [1.958,−0.180,1.050], [2.361,−2.860,1.597]])\n",
    "show(A)\n",
    "B = matrix(RealField(6), [[−12.000,11.000,19.000]])\n",
    "show(B)"
   ]
  },
  {
   "cell_type": "code",
   "execution_count": 79,
   "metadata": {},
   "outputs": [
    {
     "data": {
      "text/html": [
       "<html><script type=\"math/tex; mode=display\">\\newcommand{\\Bold}[1]{\\mathbf{#1}}\\left[\\begin{array}{rrr|r}\n",
       "-\\frac{113}{100} & \\frac{979}{500} & \\frac{2361}{1000} & -12 \\\\\n",
       "\\frac{409}{500} & -\\frac{9}{50} & -\\frac{143}{50} & 11 \\\\\n",
       "\\frac{1953}{1000} & \\frac{21}{20} & \\frac{1597}{1000} & 19\n",
       "\\end{array}\\right]</script></html>"
      ],
      "text/latex": [
       "\\begin{math}\n",
       "\\newcommand{\\Bold}[1]{\\mathbf{#1}}\\left[\\begin{array}{rrr|r}\n",
       "-\\frac{113}{100} & \\frac{979}{500} & \\frac{2361}{1000} & -12 \\\\\n",
       "\\frac{409}{500} & -\\frac{9}{50} & -\\frac{143}{50} & 11 \\\\\n",
       "\\frac{1953}{1000} & \\frac{21}{20} & \\frac{1597}{1000} & 19\n",
       "\\end{array}\\right]\n",
       "\\end{math}"
      ],
      "text/plain": [
       "[ -113/100   979/500 2361/1000|      -12]\n",
       "[  409/500     -9/50   -143/50|       11]\n",
       "[1953/1000     21/20 1597/1000|       19]"
      ]
     },
     "metadata": {},
     "output_type": "display_data"
    }
   ],
   "source": [
    "# Escalonamiento simple sin pivoteo mas sustitución regresiva\n",
    "M = block_matrix([[A,B.column()]])\n",
    "show(M)"
   ]
  },
  {
   "cell_type": "code",
   "execution_count": 80,
   "metadata": {},
   "outputs": [
    {
     "data": {
      "text/html": [
       "<html><script type=\"math/tex; mode=display\">\\newcommand{\\Bold}[1]{\\mathbf{#1}}\\left[\\begin{array}{rrr|r}\n",
       "-\\frac{113}{100} & \\frac{979}{500} & \\frac{2361}{1000} & -12 \\\\\n",
       "0 & \\frac{349561}{282500} & -\\frac{650251}{565000} & \\frac{1307}{565} \\\\\n",
       "0 & 0 & \\frac{3426275617}{349561000} & -\\frac{7011649}{699122}\n",
       "\\end{array}\\right]</script></html>"
      ],
      "text/latex": [
       "\\begin{math}\n",
       "\\newcommand{\\Bold}[1]{\\mathbf{#1}}\\left[\\begin{array}{rrr|r}\n",
       "-\\frac{113}{100} & \\frac{979}{500} & \\frac{2361}{1000} & -12 \\\\\n",
       "0 & \\frac{349561}{282500} & -\\frac{650251}{565000} & \\frac{1307}{565} \\\\\n",
       "0 & 0 & \\frac{3426275617}{349561000} & -\\frac{7011649}{699122}\n",
       "\\end{array}\\right]\n",
       "\\end{math}"
      ],
      "text/plain": [
       "[            -113/100              979/500            2361/1000|                 -12]\n",
       "[                   0        349561/282500       -650251/565000|            1307/565]\n",
       "[                   0                    0 3426275617/349561000|     -7011649/699122]"
      ]
     },
     "metadata": {},
     "output_type": "display_data"
    }
   ],
   "source": [
    "F,U = forma_escalonada(M)\n",
    "show(U)"
   ]
  },
  {
   "cell_type": "code",
   "execution_count": 81,
   "metadata": {},
   "outputs": [
    {
     "data": {
      "text/plain": [
       "(34509054000/3426275617, 3144624750/3426275617, -3505824500/3426275617)"
      ]
     },
     "execution_count": 81,
     "metadata": {},
     "output_type": "execute_result"
    }
   ],
   "source": [
    "sustitucion_regresiva(U)"
   ]
  },
  {
   "cell_type": "code",
   "execution_count": null,
   "metadata": {},
   "outputs": [],
   "source": [
    "# Apartado 2\n",
    "# Respuestas:\n",
    "'''\n",
    "1. (7.9, 6.0, -3.0)\t2. (10., 0.55, -0.93)\n",
    "3. (10., 0.91, -1.0)\t4. (11., 1.2, 2.6)\n",
    "'''"
   ]
  },
  {
   "cell_type": "code",
   "execution_count": 87,
   "metadata": {},
   "outputs": [
    {
     "name": "stdout",
     "output_type": "stream",
     "text": [
      "Matriz original:\n"
     ]
    },
    {
     "data": {
      "text/html": [
       "<html><script type=\"math/tex; mode=display\">\\newcommand{\\Bold}[1]{\\mathbf{#1}}\\left[\\begin{array}{rrr|r}\n",
       "-\\frac{113}{100} & \\frac{979}{500} & \\frac{2361}{1000} & -12 \\\\\n",
       "\\frac{409}{500} & -\\frac{9}{50} & -\\frac{143}{50} & 11 \\\\\n",
       "\\frac{1953}{1000} & \\frac{21}{20} & \\frac{1597}{1000} & 19\n",
       "\\end{array}\\right]</script></html>"
      ],
      "text/latex": [
       "\\begin{math}\n",
       "\\newcommand{\\Bold}[1]{\\mathbf{#1}}\\left[\\begin{array}{rrr|r}\n",
       "-\\frac{113}{100} & \\frac{979}{500} & \\frac{2361}{1000} & -12 \\\\\n",
       "\\frac{409}{500} & -\\frac{9}{50} & -\\frac{143}{50} & 11 \\\\\n",
       "\\frac{1953}{1000} & \\frac{21}{20} & \\frac{1597}{1000} & 19\n",
       "\\end{array}\\right]\n",
       "\\end{math}"
      ],
      "text/plain": [
       "[ -113/100   979/500 2361/1000|      -12]\n",
       "[  409/500     -9/50   -143/50|       11]\n",
       "[1953/1000     21/20 1597/1000|       19]"
      ]
     },
     "metadata": {},
     "output_type": "display_data"
    },
    {
     "name": "stdout",
     "output_type": "stream",
     "text": [
      "Transformaciones elementales realizadas:\n"
     ]
    },
    {
     "data": {
      "text/html": [
       "<script type=\"math/tex\">F_{1,3}</script>"
      ],
      "text/plain": [
       "<script type=\"math/tex\">F_{1,3}</script>"
      ]
     },
     "metadata": {},
     "output_type": "display_data"
    },
    {
     "data": {
      "text/html": [
       "<script type=\"math/tex\">F_{2,1}(-\\frac{818}{1953})</script>"
      ],
      "text/plain": [
       "<script type=\"math/tex\">F_{2,1}(-\\frac{818}{1953})</script>"
      ]
     },
     "metadata": {},
     "output_type": "display_data"
    },
    {
     "data": {
      "text/html": [
       "<script type=\"math/tex\">F_{3,1}(\\frac{1130}{1953})</script>"
      ],
      "text/plain": [
       "<script type=\"math/tex\">F_{3,1}(\\frac{1130}{1953})</script>"
      ]
     },
     "metadata": {},
     "output_type": "display_data"
    },
    {
     "data": {
      "text/html": [
       "<script type=\"math/tex\">F_{2,3}</script>"
      ],
      "text/plain": [
       "<script type=\"math/tex\">F_{2,3}</script>"
      ]
     },
     "metadata": {},
     "output_type": "display_data"
    },
    {
     "data": {
      "text/html": [
       "<script type=\"math/tex\">F_{3,2}(\\frac{28820}{119297})</script>"
      ],
      "text/plain": [
       "<script type=\"math/tex\">F_{3,2}(\\frac{28820}{119297})</script>"
      ]
     },
     "metadata": {},
     "output_type": "display_data"
    },
    {
     "name": "stdout",
     "output_type": "stream",
     "text": [
      "Forma escalonada simple:\n"
     ]
    },
    {
     "data": {
      "text/html": [
       "<html><script type=\"math/tex; mode=display\">\\newcommand{\\Bold}[1]{\\mathbf{#1}}\\left[\\begin{array}{rrr|r}\n",
       "\\frac{1953}{1000} & \\frac{21}{20} & \\frac{1597}{1000} & 19 \\\\\n",
       "0 & \\frac{119297}{46500} & \\frac{6415643}{1953000} & -\\frac{1966}{1953} \\\\\n",
       "0 & 0 & -\\frac{3426275617}{1252618500} & \\frac{7011649}{2505237}\n",
       "\\end{array}\\right]</script></html>"
      ],
      "text/latex": [
       "\\begin{math}\n",
       "\\newcommand{\\Bold}[1]{\\mathbf{#1}}\\left[\\begin{array}{rrr|r}\n",
       "\\frac{1953}{1000} & \\frac{21}{20} & \\frac{1597}{1000} & 19 \\\\\n",
       "0 & \\frac{119297}{46500} & \\frac{6415643}{1953000} & -\\frac{1966}{1953} \\\\\n",
       "0 & 0 & -\\frac{3426275617}{1252618500} & \\frac{7011649}{2505237}\n",
       "\\end{array}\\right]\n",
       "\\end{math}"
      ],
      "text/plain": [
       "[             1953/1000                  21/20              1597/1000|                    19]\n",
       "[                     0           119297/46500        6415643/1953000|            -1966/1953]\n",
       "[                     0                      0 -3426275617/1252618500|       7011649/2505237]"
      ]
     },
     "metadata": {},
     "output_type": "display_data"
    },
    {
     "data": {
      "text/plain": [
       "(34509054000/3426275617, 3144624750/3426275617, -3505824500/3426275617)"
      ]
     },
     "execution_count": 87,
     "metadata": {},
     "output_type": "execute_result"
    }
   ],
   "source": [
    "# Escalonamiento simple con pivoteo parcial escalado más sustituión regresiva\n",
    "F,U = forma_escalonada(M, False, True, algoritmo=\"pivoteo parcial escalado\")\n",
    "sustitucion_regresiva(U)"
   ]
  },
  {
   "cell_type": "code",
   "execution_count": null,
   "metadata": {},
   "outputs": [],
   "source": []
  },
  {
   "cell_type": "code",
   "execution_count": null,
   "metadata": {},
   "outputs": [],
   "source": [
    "# Ejercicio 2"
   ]
  },
  {
   "cell_type": "code",
   "execution_count": null,
   "metadata": {},
   "outputs": [],
   "source": [
    "# Apartado 1\n",
    "# Respuestas:\n",
    "'''\n",
    "1. -1 2. 3 3. 9 4. 7\n",
    "'''"
   ]
  },
  {
   "cell_type": "code",
   "execution_count": 88,
   "metadata": {},
   "outputs": [
    {
     "data": {
      "text/html": [
       "<html><script type=\"math/tex; mode=display\">\\newcommand{\\Bold}[1]{\\mathbf{#1}}\\left[\\begin{array}{rrr}\n",
       "81 & -81 & -54 \\\\\n",
       "-81 & 145 & 126 \\\\\n",
       "-54 & 126 & 198\n",
       "\\end{array}\\right]</script></html>"
      ],
      "text/latex": [
       "\\begin{math}\n",
       "\\newcommand{\\Bold}[1]{\\mathbf{#1}}\\left[\\begin{array}{rrr}\n",
       "81 & -81 & -54 \\\\\n",
       "-81 & 145 & 126 \\\\\n",
       "-54 & 126 & 198\n",
       "\\end{array}\\right]\n",
       "\\end{math}"
      ],
      "text/plain": [
       "[ 81 -81 -54]\n",
       "[-81 145 126]\n",
       "[-54 126 198]"
      ]
     },
     "metadata": {},
     "output_type": "display_data"
    }
   ],
   "source": [
    "A = matrix_from_copypaste(QQ, 3, 3, '81,−81,−54,−81,145,126,−54,126,198')\n",
    "show(A)"
   ]
  },
  {
   "cell_type": "code",
   "execution_count": 89,
   "metadata": {},
   "outputs": [
    {
     "data": {
      "text/html": [
       "<html><script type=\"math/tex; mode=display\">\\newcommand{\\Bold}[1]{\\mathbf{#1}}\\left(-324,\\,388,\\,288\\right)</script></html>"
      ],
      "text/latex": [
       "\\begin{math}\n",
       "\\newcommand{\\Bold}[1]{\\mathbf{#1}}\\left(-324,\\,388,\\,288\\right)\n",
       "\\end{math}"
      ],
      "text/plain": [
       "(-324, 388, 288)"
      ]
     },
     "metadata": {},
     "output_type": "display_data"
    }
   ],
   "source": [
    "B = vector_from_copypaste(QQ, '−324,388,288')\n",
    "show(B)"
   ]
  },
  {
   "cell_type": "code",
   "execution_count": 90,
   "metadata": {},
   "outputs": [
    {
     "data": {
      "text/html": [
       "<html><script type=\"math/tex; mode=display\">\\newcommand{\\Bold}[1]{\\mathbf{#1}}\\mathrm{True}</script></html>"
      ],
      "text/latex": [
       "\\begin{math}\n",
       "\\newcommand{\\Bold}[1]{\\mathbf{#1}}\\mathrm{True}\n",
       "\\end{math}"
      ],
      "text/plain": [
       "True"
      ]
     },
     "metadata": {},
     "output_type": "display_data"
    }
   ],
   "source": [
    "show(A.is_symmetric())"
   ]
  },
  {
   "cell_type": "code",
   "execution_count": 93,
   "metadata": {},
   "outputs": [
    {
     "name": "stdout",
     "output_type": "stream",
     "text": [
      "orden: 1 signo: positivo.\n",
      "orden: 2 signo: positivo.\n",
      "orden: 3 signo: positivo.\n"
     ]
    }
   ],
   "source": [
    "# Orden de la matriz A\n",
    "orden = 3\n",
    "\n",
    "for i in range(orden):\n",
    "    menor_principal = A[:i + 1, :i + 1].det()\n",
    "    if menor_principal >0   : signo = 'positivo'\n",
    "    elif menor_principal < 0: signo = 'negativo'\n",
    "    else                    : signo = 'nulo'\n",
    "    print('orden: %i signo: %s.'%(i+1, signo))  "
   ]
  },
  {
   "cell_type": "code",
   "execution_count": 94,
   "metadata": {},
   "outputs": [
    {
     "data": {
      "text/html": [
       "<html><script type=\"math/tex; mode=display\">\\newcommand{\\Bold}[1]{\\mathbf{#1}}\\left[\\begin{array}{rrr}\n",
       "9 & -9 & -6 \\\\\n",
       "0 & 8 & 9 \\\\\n",
       "0 & 0 & 9\n",
       "\\end{array}\\right]</script></html>"
      ],
      "text/latex": [
       "\\begin{math}\n",
       "\\newcommand{\\Bold}[1]{\\mathbf{#1}}\\left[\\begin{array}{rrr}\n",
       "9 & -9 & -6 \\\\\n",
       "0 & 8 & 9 \\\\\n",
       "0 & 0 & 9\n",
       "\\end{array}\\right]\n",
       "\\end{math}"
      ],
      "text/plain": [
       "[ 9 -9 -6]\n",
       "[ 0  8  9]\n",
       "[ 0  0  9]"
      ]
     },
     "metadata": {},
     "output_type": "display_data"
    }
   ],
   "source": [
    "# Si todo se cumple: hallar la descomposicion y el elemento t2,3 de T\n",
    "T = Cholesky(A)\n",
    "show(T)"
   ]
  },
  {
   "cell_type": "code",
   "execution_count": 95,
   "metadata": {},
   "outputs": [
    {
     "data": {
      "text/html": [
       "<html><script type=\"math/tex; mode=display\">\\newcommand{\\Bold}[1]{\\mathbf{#1}}\\mathrm{True}</script></html>"
      ],
      "text/latex": [
       "\\begin{math}\n",
       "\\newcommand{\\Bold}[1]{\\mathbf{#1}}\\mathrm{True}\n",
       "\\end{math}"
      ],
      "text/plain": [
       "True"
      ]
     },
     "metadata": {},
     "output_type": "display_data"
    }
   ],
   "source": [
    "show(T.transpose()*T==A)"
   ]
  },
  {
   "cell_type": "code",
   "execution_count": null,
   "metadata": {},
   "outputs": [],
   "source": [
    "# Si todo lo anterior es correcto: todos los ordenes positivos y la traspuesta es True entonces resolvemos:"
   ]
  },
  {
   "cell_type": "code",
   "execution_count": null,
   "metadata": {},
   "outputs": [],
   "source": [
    "# Apartado 2\n",
    "# Respuestas:\n",
    "'''\n",
    "1. [-36, 8, 0] 2. [-19, 1, -3] 3. [-18, -14, 0] 4. [-17, 22, 10]\n",
    "'''"
   ]
  },
  {
   "cell_type": "code",
   "execution_count": 96,
   "metadata": {},
   "outputs": [
    {
     "data": {
      "text/html": [
       "<html><script type=\"math/tex; mode=display\">\\newcommand{\\Bold}[1]{\\mathbf{#1}}\\left(-36,\\,8,\\,0\\right)</script></html>"
      ],
      "text/latex": [
       "\\begin{math}\n",
       "\\newcommand{\\Bold}[1]{\\mathbf{#1}}\\left(-36,\\,8,\\,0\\right)\n",
       "\\end{math}"
      ],
      "text/plain": [
       "(-36, 8, 0)"
      ]
     },
     "metadata": {},
     "output_type": "display_data"
    }
   ],
   "source": [
    "# Hallar la solucion del sistema auxiliar por sustitucion progresiva\n",
    "G = sustitucion_progresiva2(T.transpose(),B)\n",
    "show(G)"
   ]
  },
  {
   "cell_type": "code",
   "execution_count": 97,
   "metadata": {},
   "outputs": [],
   "source": [
    "# Apartado 3\n",
    "# Respuestas:\n",
    "'''\n",
    "1. [-3, -3, -3] 2. [0, 0, -1] 3. [1, 0, 0] 4. [-3, 1, 0]\n",
    "'''"
   ]
  },
  {
   "cell_type": "code",
   "execution_count": 98,
   "metadata": {},
   "outputs": [
    {
     "data": {
      "text/html": [
       "<html><script type=\"math/tex; mode=display\">\\newcommand{\\Bold}[1]{\\mathbf{#1}}\\left(-3,\\,1,\\,0\\right)</script></html>"
      ],
      "text/latex": [
       "\\begin{math}\n",
       "\\newcommand{\\Bold}[1]{\\mathbf{#1}}\\left(-3,\\,1,\\,0\\right)\n",
       "\\end{math}"
      ],
      "text/plain": [
       "(-3, 1, 0)"
      ]
     },
     "metadata": {},
     "output_type": "display_data"
    }
   ],
   "source": [
    "# Hallar la solucion final del sistema Ax=b\n",
    "Z = sustitucion_regresiva2(T,G)\n",
    "show(Z)"
   ]
  },
  {
   "cell_type": "code",
   "execution_count": null,
   "metadata": {},
   "outputs": [],
   "source": []
  },
  {
   "cell_type": "code",
   "execution_count": null,
   "metadata": {},
   "outputs": [],
   "source": [
    "# Ejercicio 3"
   ]
  },
  {
   "cell_type": "code",
   "execution_count": null,
   "metadata": {},
   "outputs": [],
   "source": [
    "# Apartado 1\n",
    "# Respuestas:\n",
    "'''\n",
    "1. La matriz es singular y no tiene ninguna propiedad más.\n",
    "2. Es regular, simétrica y definida positiva, aunque no es diagonal dominante.\n",
    "3. Tan solo es simétrica y singular.\n",
    "4. Ninguna de las otras respuestas\n",
    "'''"
   ]
  },
  {
   "cell_type": "code",
   "execution_count": 99,
   "metadata": {},
   "outputs": [
    {
     "data": {
      "text/html": [
       "<html><script type=\"math/tex; mode=display\">\\newcommand{\\Bold}[1]{\\mathbf{#1}}\\left[\\begin{array}{rrrrr}\n",
       "199 & 15 & 48 & -47 & -63 \\\\\n",
       "15 & 91 & -84 & -39 & 9 \\\\\n",
       "48 & -84 & 170 & 55 & -81 \\\\\n",
       "-47 & -39 & 55 & 65 & 9 \\\\\n",
       "-63 & 9 & -81 & 9 & 81\n",
       "\\end{array}\\right]</script></html>"
      ],
      "text/latex": [
       "\\begin{math}\n",
       "\\newcommand{\\Bold}[1]{\\mathbf{#1}}\\left[\\begin{array}{rrrrr}\n",
       "199 & 15 & 48 & -47 & -63 \\\\\n",
       "15 & 91 & -84 & -39 & 9 \\\\\n",
       "48 & -84 & 170 & 55 & -81 \\\\\n",
       "-47 & -39 & 55 & 65 & 9 \\\\\n",
       "-63 & 9 & -81 & 9 & 81\n",
       "\\end{array}\\right]\n",
       "\\end{math}"
      ],
      "text/plain": [
       "[199  15  48 -47 -63]\n",
       "[ 15  91 -84 -39   9]\n",
       "[ 48 -84 170  55 -81]\n",
       "[-47 -39  55  65   9]\n",
       "[-63   9 -81   9  81]"
      ]
     },
     "metadata": {},
     "output_type": "display_data"
    }
   ],
   "source": [
    "A = matrix_from_copypaste(QQ, 5, 5, '199,15,48,−47,−63,15,91,−84,−39,9,48,−84,170,55,−81,−47,−39,55,65,9,−63,9,−81,9,81')\n",
    "show(A)"
   ]
  },
  {
   "cell_type": "code",
   "execution_count": null,
   "metadata": {},
   "outputs": [],
   "source": [
    "# Se quiere estudiar si la matriz es regular, diagonal dominante, simétrica y def. positiva:"
   ]
  },
  {
   "cell_type": "code",
   "execution_count": 100,
   "metadata": {},
   "outputs": [
    {
     "data": {
      "text/html": [
       "<html><script type=\"math/tex; mode=display\">\\newcommand{\\Bold}[1]{\\mathbf{#1}}\\left[\\begin{array}{rrrrr}\n",
       "1 & 0 & 0 & 0 & 0 \\\\\n",
       "0 & 1 & 0 & 0 & 0 \\\\\n",
       "0 & 0 & 1 & 0 & 0 \\\\\n",
       "0 & 0 & 0 & 1 & 0 \\\\\n",
       "0 & 0 & 0 & 0 & 1\n",
       "\\end{array}\\right]</script></html>"
      ],
      "text/latex": [
       "\\begin{math}\n",
       "\\newcommand{\\Bold}[1]{\\mathbf{#1}}\\left[\\begin{array}{rrrrr}\n",
       "1 & 0 & 0 & 0 & 0 \\\\\n",
       "0 & 1 & 0 & 0 & 0 \\\\\n",
       "0 & 0 & 1 & 0 & 0 \\\\\n",
       "0 & 0 & 0 & 1 & 0 \\\\\n",
       "0 & 0 & 0 & 0 & 1\n",
       "\\end{array}\\right]\n",
       "\\end{math}"
      ],
      "text/plain": [
       "[1 0 0 0 0]\n",
       "[0 1 0 0 0]\n",
       "[0 0 1 0 0]\n",
       "[0 0 0 1 0]\n",
       "[0 0 0 0 1]"
      ]
     },
     "metadata": {},
     "output_type": "display_data"
    },
    {
     "data": {
      "text/html": [
       "<html><script type=\"math/tex; mode=display\">\\newcommand{\\Bold}[1]{\\mathbf{#1}}\\left[\\begin{array}{rrrrr}\n",
       "1 & 0 & 0 & 0 & 0 \\\\\n",
       "0 & 1 & 0 & 0 & 0 \\\\\n",
       "0 & 0 & 1 & 0 & 0 \\\\\n",
       "0 & 0 & 0 & 1 & 0 \\\\\n",
       "0 & 0 & 0 & 0 & 1\n",
       "\\end{array}\\right]</script></html>"
      ],
      "text/latex": [
       "\\begin{math}\n",
       "\\newcommand{\\Bold}[1]{\\mathbf{#1}}\\left[\\begin{array}{rrrrr}\n",
       "1 & 0 & 0 & 0 & 0 \\\\\n",
       "0 & 1 & 0 & 0 & 0 \\\\\n",
       "0 & 0 & 1 & 0 & 0 \\\\\n",
       "0 & 0 & 0 & 1 & 0 \\\\\n",
       "0 & 0 & 0 & 0 & 1\n",
       "\\end{array}\\right]\n",
       "\\end{math}"
      ],
      "text/plain": [
       "[1 0 0 0 0]\n",
       "[0 1 0 0 0]\n",
       "[0 0 1 0 0]\n",
       "[0 0 0 1 0]\n",
       "[0 0 0 0 1]"
      ]
     },
     "metadata": {},
     "output_type": "display_data"
    },
    {
     "data": {
      "text/html": [
       "<html><script type=\"math/tex; mode=display\">\\newcommand{\\Bold}[1]{\\mathbf{#1}}\\left[\\begin{array}{rrrrr}\n",
       "1 & 0 & 0 & 0 & 0 \\\\\n",
       "0 & 1 & 0 & 0 & 0 \\\\\n",
       "0 & 0 & 1 & 0 & 0 \\\\\n",
       "0 & 0 & 0 & 1 & 0 \\\\\n",
       "0 & 0 & 0 & 0 & 1\n",
       "\\end{array}\\right]</script></html>"
      ],
      "text/latex": [
       "\\begin{math}\n",
       "\\newcommand{\\Bold}[1]{\\mathbf{#1}}\\left[\\begin{array}{rrrrr}\n",
       "1 & 0 & 0 & 0 & 0 \\\\\n",
       "0 & 1 & 0 & 0 & 0 \\\\\n",
       "0 & 0 & 1 & 0 & 0 \\\\\n",
       "0 & 0 & 0 & 1 & 0 \\\\\n",
       "0 & 0 & 0 & 0 & 1\n",
       "\\end{array}\\right]\n",
       "\\end{math}"
      ],
      "text/plain": [
       "[1 0 0 0 0]\n",
       "[0 1 0 0 0]\n",
       "[0 0 1 0 0]\n",
       "[0 0 0 1 0]\n",
       "[0 0 0 0 1]"
      ]
     },
     "metadata": {},
     "output_type": "display_data"
    }
   ],
   "source": [
    "# Diagonal dominante:\n",
    "F,U = forma_escalonada(A, True)\n",
    "\n",
    "# A tiene inversa si su forma escalonada canonica es la identidad I\n",
    "# Si F*A = A*F = I, diagonal dominante\n",
    "# Una matriz es REGULAR si y solo si su forma escalonada canónica es la matriz unidad (esto es la U)\n",
    "# REGULAR = NO SINGULAR\n",
    "# SINGULAR = NO REGULAR\n",
    "# Toda matriz diagonalmente dominante por filas o por columnas es regular pero no necesariamente al revés!!!!!!!\n",
    "show(U)\n",
    "show(F*A)\n",
    "show(A*F)"
   ]
  },
  {
   "cell_type": "code",
   "execution_count": null,
   "metadata": {},
   "outputs": [],
   "source": [
    "# Simetría:\n",
    "show(A.is_symmetric())"
   ]
  },
  {
   "cell_type": "code",
   "execution_count": 101,
   "metadata": {},
   "outputs": [
    {
     "name": "stdout",
     "output_type": "stream",
     "text": [
      "orden: 1 signo: positivo.\n",
      "orden: 2 signo: positivo.\n",
      "orden: 3 signo: positivo.\n",
      "orden: 4 signo: positivo.\n",
      "orden: 5 signo: positivo.\n"
     ]
    }
   ],
   "source": [
    "# Orden de la matriz A\n",
    "orden = 5\n",
    "\n",
    "# Definida positiva: buscamos sus menores:\n",
    "for i in range(orden):\n",
    "    menor_principal = A[:i + 1, :i + 1].det()\n",
    "    if menor_principal >0   : signo = 'positivo'\n",
    "    elif menor_principal < 0: signo = 'negativo'\n",
    "    else                    : signo = 'nulo'\n",
    "    print('orden: %i signo: %s.'%(i+1, signo))"
   ]
  },
  {
   "cell_type": "code",
   "execution_count": null,
   "metadata": {},
   "outputs": [],
   "source": []
  },
  {
   "cell_type": "code",
   "execution_count": null,
   "metadata": {},
   "outputs": [],
   "source": [
    "# Ejercicio 4"
   ]
  },
  {
   "cell_type": "code",
   "execution_count": null,
   "metadata": {},
   "outputs": [],
   "source": [
    "# Apartado 1\n",
    "# Respuestas:\n",
    "'''\n",
    "1. La matriz  A  no admite ni descomposición LU ni descomposición PLU.\n",
    "2. La matriz  A  admite descomposicion LU sin intercambio de filas.\n",
    "3. La matriz  A  no admite descomposición LU porque es singular.\n",
    "4. La matriz  A  no admite descomposicion LU sin intercambio de filas, pero sí admite descomposición PLU.\n",
    "'''"
   ]
  },
  {
   "cell_type": "code",
   "execution_count": 111,
   "metadata": {},
   "outputs": [
    {
     "data": {
      "text/html": [
       "<html><script type=\"math/tex; mode=display\">\\newcommand{\\Bold}[1]{\\mathbf{#1}}\\left[\\begin{array}{rrrrr}\n",
       "3 & 3 & -3 & -1 & 2 \\\\\n",
       "-3 & -5 & 2 & -1 & -4 \\\\\n",
       "9 & 5 & -10 & -8 & 1 \\\\\n",
       "-6 & -2 & 11 & 1 & -2 \\\\\n",
       "21 & 9 & -32 & -10 & 5\n",
       "\\end{array}\\right]</script></html>"
      ],
      "text/latex": [
       "\\begin{math}\n",
       "\\newcommand{\\Bold}[1]{\\mathbf{#1}}\\left[\\begin{array}{rrrrr}\n",
       "3 & 3 & -3 & -1 & 2 \\\\\n",
       "-3 & -5 & 2 & -1 & -4 \\\\\n",
       "9 & 5 & -10 & -8 & 1 \\\\\n",
       "-6 & -2 & 11 & 1 & -2 \\\\\n",
       "21 & 9 & -32 & -10 & 5\n",
       "\\end{array}\\right]\n",
       "\\end{math}"
      ],
      "text/plain": [
       "[  3   3  -3  -1   2]\n",
       "[ -3  -5   2  -1  -4]\n",
       "[  9   5 -10  -8   1]\n",
       "[ -6  -2  11   1  -2]\n",
       "[ 21   9 -32 -10   5]"
      ]
     },
     "metadata": {},
     "output_type": "display_data"
    }
   ],
   "source": [
    "A = matrix_from_copypaste(QQ, 5, 5, '3,−3,9,−6,21,3,−5,5,−2,9,−3,2,−10,11,−32,−1,−1,−8,1,−10,2,−4,1,−2,5')\n",
    "show(A)"
   ]
  },
  {
   "cell_type": "code",
   "execution_count": 112,
   "metadata": {},
   "outputs": [
    {
     "data": {
      "text/html": [
       "<html><script type=\"math/tex; mode=display\">\\newcommand{\\Bold}[1]{\\mathbf{#1}}\\left(3,\\,-1,\\,-3,\\,2,\\,3\\right)</script></html>"
      ],
      "text/latex": [
       "\\begin{math}\n",
       "\\newcommand{\\Bold}[1]{\\mathbf{#1}}\\left(3,\\,-1,\\,-3,\\,2,\\,3\\right)\n",
       "\\end{math}"
      ],
      "text/plain": [
       "(3, -1, -3, 2, 3)"
      ]
     },
     "metadata": {},
     "output_type": "display_data"
    }
   ],
   "source": [
    "B = vector_from_copypaste(QQ, '3,−1,−3,2,3')\n",
    "show(B)"
   ]
  },
  {
   "cell_type": "code",
   "execution_count": 113,
   "metadata": {},
   "outputs": [
    {
     "data": {
      "text/html": [
       "<html><script type=\"math/tex; mode=display\">\\newcommand{\\Bold}[1]{\\mathbf{#1}}\\mathrm{True}</script></html>"
      ],
      "text/latex": [
       "\\begin{math}\n",
       "\\newcommand{\\Bold}[1]{\\mathbf{#1}}\\mathrm{True}\n",
       "\\end{math}"
      ],
      "text/plain": [
       "True"
      ]
     },
     "metadata": {},
     "output_type": "display_data"
    }
   ],
   "source": [
    "# ¿Existe descomposicion LU para A? \n",
    "L,U = descompLU(A)\n",
    "show(L*U==A)"
   ]
  },
  {
   "cell_type": "code",
   "execution_count": 105,
   "metadata": {},
   "outputs": [
    {
     "data": {
      "text/html": [
       "<html><script type=\"math/tex; mode=display\">\\newcommand{\\Bold}[1]{\\mathbf{#1}}\\mathrm{True}</script></html>"
      ],
      "text/latex": [
       "\\begin{math}\n",
       "\\newcommand{\\Bold}[1]{\\mathbf{#1}}\\mathrm{True}\n",
       "\\end{math}"
      ],
      "text/plain": [
       "True"
      ]
     },
     "metadata": {},
     "output_type": "display_data"
    }
   ],
   "source": [
    "P,L,U = descompPLU(A)\n",
    "show(L*U==P*A)"
   ]
  },
  {
   "cell_type": "code",
   "execution_count": null,
   "metadata": {},
   "outputs": [],
   "source": [
    "# Apartado 2\n",
    "# Respuestas:\n",
    "'''\n",
    "1. 1 2. 135/13 3. 39/7 4. -13/4\n",
    "'''"
   ]
  },
  {
   "cell_type": "code",
   "execution_count": 106,
   "metadata": {},
   "outputs": [
    {
     "data": {
      "text/html": [
       "<html><script type=\"math/tex; mode=display\">\\newcommand{\\Bold}[1]{\\mathbf{#1}}\\left[\\begin{array}{rrrrr}\n",
       "3 & 3 & -3 & -1 & 2 \\\\\n",
       "0 & -2 & -1 & -2 & -2 \\\\\n",
       "0 & 0 & 1 & -1 & -1 \\\\\n",
       "0 & 0 & 0 & -2 & 1 \\\\\n",
       "0 & 0 & 0 & 0 & 0\n",
       "\\end{array}\\right]</script></html>"
      ],
      "text/latex": [
       "\\begin{math}\n",
       "\\newcommand{\\Bold}[1]{\\mathbf{#1}}\\left[\\begin{array}{rrrrr}\n",
       "3 & 3 & -3 & -1 & 2 \\\\\n",
       "0 & -2 & -1 & -2 & -2 \\\\\n",
       "0 & 0 & 1 & -1 & -1 \\\\\n",
       "0 & 0 & 0 & -2 & 1 \\\\\n",
       "0 & 0 & 0 & 0 & 0\n",
       "\\end{array}\\right]\n",
       "\\end{math}"
      ],
      "text/plain": [
       "[ 3  3 -3 -1  2]\n",
       "[ 0 -2 -1 -2 -2]\n",
       "[ 0  0  1 -1 -1]\n",
       "[ 0  0  0 -2  1]\n",
       "[ 0  0  0  0  0]"
      ]
     },
     "metadata": {},
     "output_type": "display_data"
    }
   ],
   "source": [
    "# Hallar la matriz U de LU, si es posible, de lo contrario la matriz U de PLU con intercambio de filas. Indicar el valor U3,3\n",
    "L,U = descompLU(A)\n",
    "show(U)"
   ]
  },
  {
   "cell_type": "code",
   "execution_count": 107,
   "metadata": {},
   "outputs": [
    {
     "data": {
      "text/html": [
       "<html><script type=\"math/tex; mode=display\">\\newcommand{\\Bold}[1]{\\mathbf{#1}}\\left[\\begin{array}{rrrrr}\n",
       "21 & 9 & -32 & -10 & 5 \\\\\n",
       "0 & -\\frac{26}{7} & -\\frac{18}{7} & -\\frac{17}{7} & -\\frac{23}{7} \\\\\n",
       "0 & 0 & \\frac{38}{13} & -\\frac{58}{13} & -\\frac{28}{13} \\\\\n",
       "0 & 0 & 0 & -\\frac{2}{19} & \\frac{1}{19} \\\\\n",
       "0 & 0 & 0 & 0 & 0\n",
       "\\end{array}\\right]</script></html>"
      ],
      "text/latex": [
       "\\begin{math}\n",
       "\\newcommand{\\Bold}[1]{\\mathbf{#1}}\\left[\\begin{array}{rrrrr}\n",
       "21 & 9 & -32 & -10 & 5 \\\\\n",
       "0 & -\\frac{26}{7} & -\\frac{18}{7} & -\\frac{17}{7} & -\\frac{23}{7} \\\\\n",
       "0 & 0 & \\frac{38}{13} & -\\frac{58}{13} & -\\frac{28}{13} \\\\\n",
       "0 & 0 & 0 & -\\frac{2}{19} & \\frac{1}{19} \\\\\n",
       "0 & 0 & 0 & 0 & 0\n",
       "\\end{array}\\right]\n",
       "\\end{math}"
      ],
      "text/plain": [
       "[    21      9    -32    -10      5]\n",
       "[     0  -26/7  -18/7  -17/7  -23/7]\n",
       "[     0      0  38/13 -58/13 -28/13]\n",
       "[     0      0      0  -2/19   1/19]\n",
       "[     0      0      0      0      0]"
      ]
     },
     "metadata": {},
     "output_type": "display_data"
    }
   ],
   "source": [
    "# Si no se puede LU, hacer PLU:\n",
    "P,L,U = descompPLU(A)\n",
    "show(U)"
   ]
  },
  {
   "cell_type": "code",
   "execution_count": null,
   "metadata": {},
   "outputs": [],
   "source": [
    "# Apartado 3\n",
    "# Respuestas:\n",
    "'''\n",
    "1. (3, 2, -16, 60, 10)\t2. (-10, 48, 306/7, 10, -9/7)\n",
    "3. (34, -52/3, 43/7, -21/2, 5)\t4. (-9, 1, 4, -8, -4)\n",
    "'''"
   ]
  },
  {
   "cell_type": "code",
   "execution_count": 114,
   "metadata": {},
   "outputs": [
    {
     "data": {
      "text/html": [
       "<html><script type=\"math/tex; mode=display\">\\newcommand{\\Bold}[1]{\\mathbf{#1}}\\left[\\begin{array}{r}\n",
       "3 \\\\\n",
       "2 \\\\\n",
       "-16 \\\\\n",
       "61 \\\\\n",
       "11\n",
       "\\end{array}\\right]</script></html>"
      ],
      "text/latex": [
       "\\begin{math}\n",
       "\\newcommand{\\Bold}[1]{\\mathbf{#1}}\\left[\\begin{array}{r}\n",
       "3 \\\\\n",
       "2 \\\\\n",
       "-16 \\\\\n",
       "61 \\\\\n",
       "11\n",
       "\\end{array}\\right]\n",
       "\\end{math}"
      ],
      "text/plain": [
       "[  3]\n",
       "[  2]\n",
       "[-16]\n",
       "[ 61]\n",
       "[ 11]"
      ]
     },
     "metadata": {},
     "output_type": "display_data"
    }
   ],
   "source": [
    "# Determinar la solucion del sistema auxiliar con la descomposicion que se haya usado antes (LU o PLU):\n",
    "\n",
    "# Comentar/descomentar o bien L,U o P,L,U en cada caso dependiendo de la que se uso en el apartado anterior!!!!!!!!\n",
    "L,U = descompLU(A)\n",
    "#P,L,U = descompPLU(A)\n",
    "\n",
    "P*A == L*U\n",
    "BP = P*B\n",
    "G = modifica_lado_derecho(L,BP)\n",
    "show(G)"
   ]
  },
  {
   "cell_type": "code",
   "execution_count": null,
   "metadata": {},
   "outputs": [],
   "source": [
    "# Apartado 4\n",
    "# Respuestas:\n",
    "'''\n",
    "1. (-2, 2, 1, -3, 2)\t2. (3, -2, -1, -2, 1)\n",
    "3. El sistema no tiene solución.\t4. (2, -2, 3, -3, -3)\n",
    "'''"
   ]
  },
  {
   "cell_type": "code",
   "execution_count": 115,
   "metadata": {},
   "outputs": [
    {
     "ename": "ZeroDivisionError",
     "evalue": "rational division by zero",
     "output_type": "error",
     "traceback": [
      "\u001b[0;31m---------------------------------------------------------------------------\u001b[0m",
      "\u001b[0;31mZeroDivisionError\u001b[0m                         Traceback (most recent call last)",
      "\u001b[0;32m<ipython-input-115-1ca5e9c9e07f>\u001b[0m in \u001b[0;36m<module>\u001b[0;34m\u001b[0m\n\u001b[1;32m      1\u001b[0m \u001b[0;31m# Dar la solucion al sistema Ax=b\u001b[0m\u001b[0;34m\u001b[0m\u001b[0;34m\u001b[0m\u001b[0;34m\u001b[0m\u001b[0m\n\u001b[0;32m----> 2\u001b[0;31m \u001b[0mZ\u001b[0m \u001b[0;34m=\u001b[0m \u001b[0msustitucion_regresiva2\u001b[0m\u001b[0;34m(\u001b[0m\u001b[0mU\u001b[0m\u001b[0;34m,\u001b[0m\u001b[0mG\u001b[0m\u001b[0;34m)\u001b[0m\u001b[0;34m\u001b[0m\u001b[0;34m\u001b[0m\u001b[0m\n\u001b[0m\u001b[1;32m      3\u001b[0m \u001b[0mshow\u001b[0m\u001b[0;34m(\u001b[0m\u001b[0mZ\u001b[0m\u001b[0;34m)\u001b[0m\u001b[0;34m\u001b[0m\u001b[0;34m\u001b[0m\u001b[0m\n",
      "\u001b[0;32m<ipython-input-37-5221fef62f10>\u001b[0m in \u001b[0;36msustitucion_regresiva2\u001b[0;34m(U, g)\u001b[0m\n\u001b[1;32m     11\u001b[0m     \u001b[0mx\u001b[0m \u001b[0;34m=\u001b[0m \u001b[0mcopy\u001b[0m\u001b[0;34m(\u001b[0m\u001b[0mg\u001b[0m\u001b[0;34m)\u001b[0m\u001b[0;34m\u001b[0m\u001b[0;34m\u001b[0m\u001b[0m\n\u001b[1;32m     12\u001b[0m     \u001b[0;32mfor\u001b[0m \u001b[0mk\u001b[0m \u001b[0;32min\u001b[0m \u001b[0mrange\u001b[0m\u001b[0;34m(\u001b[0m\u001b[0mn\u001b[0m \u001b[0;34m-\u001b[0m \u001b[0mInteger\u001b[0m\u001b[0;34m(\u001b[0m\u001b[0;36m1\u001b[0m\u001b[0;34m)\u001b[0m\u001b[0;34m,\u001b[0m \u001b[0;34m-\u001b[0m\u001b[0mInteger\u001b[0m\u001b[0;34m(\u001b[0m\u001b[0;36m1\u001b[0m\u001b[0;34m)\u001b[0m\u001b[0;34m,\u001b[0m \u001b[0;34m-\u001b[0m\u001b[0mInteger\u001b[0m\u001b[0;34m(\u001b[0m\u001b[0;36m1\u001b[0m\u001b[0;34m)\u001b[0m\u001b[0;34m)\u001b[0m\u001b[0;34m:\u001b[0m\u001b[0;34m\u001b[0m\u001b[0;34m\u001b[0m\u001b[0m\n\u001b[0;32m---> 13\u001b[0;31m         \u001b[0mx\u001b[0m\u001b[0;34m[\u001b[0m\u001b[0mk\u001b[0m\u001b[0;34m]\u001b[0m \u001b[0;34m=\u001b[0m \u001b[0;34m(\u001b[0m\u001b[0mg\u001b[0m\u001b[0;34m[\u001b[0m\u001b[0mk\u001b[0m\u001b[0;34m]\u001b[0m \u001b[0;34m-\u001b[0m \u001b[0msum\u001b[0m\u001b[0;34m(\u001b[0m\u001b[0mU\u001b[0m\u001b[0;34m[\u001b[0m\u001b[0mk\u001b[0m\u001b[0;34m,\u001b[0m \u001b[0mj\u001b[0m\u001b[0;34m]\u001b[0m\u001b[0;34m*\u001b[0m\u001b[0mx\u001b[0m\u001b[0;34m[\u001b[0m\u001b[0mj\u001b[0m\u001b[0;34m]\u001b[0m \u001b[0;32mfor\u001b[0m \u001b[0mj\u001b[0m \u001b[0;32min\u001b[0m \u001b[0mrange\u001b[0m\u001b[0;34m(\u001b[0m\u001b[0mk\u001b[0m \u001b[0;34m+\u001b[0m \u001b[0mInteger\u001b[0m\u001b[0;34m(\u001b[0m\u001b[0;36m1\u001b[0m\u001b[0;34m)\u001b[0m\u001b[0;34m,\u001b[0m \u001b[0mn\u001b[0m\u001b[0;34m)\u001b[0m\u001b[0;34m)\u001b[0m\u001b[0;34m)\u001b[0m\u001b[0;34m/\u001b[0m\u001b[0mU\u001b[0m\u001b[0;34m[\u001b[0m\u001b[0mk\u001b[0m\u001b[0;34m,\u001b[0m \u001b[0mk\u001b[0m\u001b[0;34m]\u001b[0m\u001b[0;34m\u001b[0m\u001b[0;34m\u001b[0m\u001b[0m\n\u001b[0m\u001b[1;32m     14\u001b[0m     \u001b[0;32mreturn\u001b[0m \u001b[0mx\u001b[0m\u001b[0;34m\u001b[0m\u001b[0;34m\u001b[0m\u001b[0m\n",
      "\u001b[0;32m/opt/sagemath-9.2/local/lib/python3.7/site-packages/sage/structure/element.pyx\u001b[0m in \u001b[0;36msage.structure.element.Vector.__truediv__ (build/cythonized/sage/structure/element.c:22973)\u001b[0;34m()\u001b[0m\n\u001b[1;32m   3501\u001b[0m         \u001b[0;32mif\u001b[0m \u001b[0misinstance\u001b[0m\u001b[0;34m(\u001b[0m\u001b[0mright\u001b[0m\u001b[0;34m,\u001b[0m \u001b[0mRingElement\u001b[0m\u001b[0;34m)\u001b[0m\u001b[0;34m:\u001b[0m\u001b[0;34m\u001b[0m\u001b[0;34m\u001b[0m\u001b[0m\n\u001b[1;32m   3502\u001b[0m             \u001b[0;31m# Let __mul__ do the job\u001b[0m\u001b[0;34m\u001b[0m\u001b[0;34m\u001b[0m\u001b[0;34m\u001b[0m\u001b[0m\n\u001b[0;32m-> 3503\u001b[0;31m             \u001b[0;32mreturn\u001b[0m \u001b[0mself\u001b[0m \u001b[0;34m*\u001b[0m \u001b[0;34m~\u001b[0m\u001b[0mright\u001b[0m\u001b[0;34m\u001b[0m\u001b[0;34m\u001b[0m\u001b[0m\n\u001b[0m\u001b[1;32m   3504\u001b[0m         \u001b[0;32mif\u001b[0m \u001b[0misinstance\u001b[0m\u001b[0;34m(\u001b[0m\u001b[0mright\u001b[0m\u001b[0;34m,\u001b[0m \u001b[0mVector\u001b[0m\u001b[0;34m)\u001b[0m\u001b[0;34m:\u001b[0m\u001b[0;34m\u001b[0m\u001b[0;34m\u001b[0m\u001b[0m\n\u001b[1;32m   3505\u001b[0m             \u001b[0;32mtry\u001b[0m\u001b[0;34m:\u001b[0m\u001b[0;34m\u001b[0m\u001b[0;34m\u001b[0m\u001b[0m\n",
      "\u001b[0;32m/opt/sagemath-9.2/local/lib/python3.7/site-packages/sage/rings/rational.pyx\u001b[0m in \u001b[0;36msage.rings.rational.Rational.__invert__ (build/cythonized/sage/rings/rational.c:21742)\u001b[0;34m()\u001b[0m\n\u001b[1;32m   2496\u001b[0m         \"\"\"\n\u001b[1;32m   2497\u001b[0m         \u001b[0;32mif\u001b[0m \u001b[0mself\u001b[0m\u001b[0;34m.\u001b[0m\u001b[0mis_zero\u001b[0m\u001b[0;34m(\u001b[0m\u001b[0;34m)\u001b[0m\u001b[0;34m:\u001b[0m\u001b[0;34m\u001b[0m\u001b[0;34m\u001b[0m\u001b[0m\n\u001b[0;32m-> 2498\u001b[0;31m             \u001b[0;32mraise\u001b[0m \u001b[0mZeroDivisionError\u001b[0m\u001b[0;34m(\u001b[0m\u001b[0;34m'rational division by zero'\u001b[0m\u001b[0;34m)\u001b[0m\u001b[0;34m\u001b[0m\u001b[0;34m\u001b[0m\u001b[0m\n\u001b[0m\u001b[1;32m   2499\u001b[0m         \u001b[0mcdef\u001b[0m \u001b[0mRational\u001b[0m \u001b[0mx\u001b[0m\u001b[0;34m\u001b[0m\u001b[0;34m\u001b[0m\u001b[0m\n\u001b[1;32m   2500\u001b[0m         \u001b[0mx\u001b[0m \u001b[0;34m=\u001b[0m \u001b[0;34m<\u001b[0m\u001b[0mRational\u001b[0m\u001b[0;34m>\u001b[0m \u001b[0mRational\u001b[0m\u001b[0;34m.\u001b[0m\u001b[0m__new__\u001b[0m\u001b[0;34m(\u001b[0m\u001b[0mRational\u001b[0m\u001b[0;34m)\u001b[0m\u001b[0;34m\u001b[0m\u001b[0;34m\u001b[0m\u001b[0m\n",
      "\u001b[0;31mZeroDivisionError\u001b[0m: rational division by zero"
     ]
    }
   ],
   "source": [
    "# Dar la solucion al sistema Ax=b ---- El sistema puede no tener solución, en cuyo caso el algoritmo falla, OJO!\n",
    "Z = sustitucion_regresiva2(U,G)\n",
    "show(Z)"
   ]
  },
  {
   "cell_type": "code",
   "execution_count": null,
   "metadata": {},
   "outputs": [],
   "source": []
  }
 ],
 "metadata": {
  "kernelspec": {
   "display_name": "SageMath 9.2",
   "language": "sage",
   "name": "sagemath"
  },
  "language": "python",
  "language_info": {
   "codemirror_mode": {
    "name": "ipython",
    "version": 3
   },
   "file_extension": ".py",
   "mimetype": "text/x-python",
   "name": "python",
   "nbconvert_exporter": "python",
   "pygments_lexer": "ipython3",
   "version": "3.7.7"
  }
 },
 "nbformat": 4,
 "nbformat_minor": 2
}
