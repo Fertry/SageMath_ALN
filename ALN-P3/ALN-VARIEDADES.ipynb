{
 "cells": [
  {
   "cell_type": "markdown",
   "metadata": {},
   "source": [
    "<h5 style=\"text-align: center;\">ESCUELA DE INGENIERÍA INFORMÁTICA. UNIVERSIDAD DE SEVILLA. ÁLGEBRA LINEAL Y NUMÉRICA</h5>\n",
    "<hr>\n",
    "\n",
    "# Variedades lineales.\n",
    "\n",
    "En esta sesión nos marcamos los siguientes objetivos:\n",
    "* Trabajar la representación de <a href=\"#variedades\">variedades lineales</a> en sus diferentes formas y las operaciones con variedades lineales.</p>\n",
    "* Expresar la solución general de un sistema lineal de ecuaciones compatible indeterminado como una <a href=\"#afin\">variedad afín</a>.</p>\n",
    "* Mostrar algunas <a href=\"#ejemplos\">aplicaciones prácticas</a>  de todo lo anterior.</p>\n",
    "\n",
    "La práctica finaliza con la realización por parte del alumnado de un <a href=\"#cuestionario\">cuestionario personalizado.</a></p>\n",
    "<p>La siguiente instrucción carga en memoria todas las funciones y herramientas definidas en las prácticas anteriores de la asignatura:</p>"
   ]
  },
  {
   "cell_type": "code",
   "execution_count": 1,
   "metadata": {
    "scrolled": false
   },
   "outputs": [],
   "source": [
    "load('CODE/codigoALN.sage')"
   ]
  },
  {
   "cell_type": "markdown",
   "metadata": {},
   "source": [
    "<div style=\"color: #000000; background-color: #ffffff; margin: 8px; text-align: left;\">\n",
    "<h3><a name=\"variedades\"></a></h3>\n",
    "<h2>Variedades lineales y sistemas de ecuaciones relacionados</h2>\n",
    "<p>A continuación se proporciona un resumen teórico de los principales conceptos relacionados con esta sección.</p>\n",
    "</div>\n",
    "\n",
    "* Las <strong>variedades lineales</strong> $L$ del espacio $\\mathbb R^n$ son los conjuntos de soluciones de los sistemas de ecuaciones lineales homogéneas de $n$ variables. Las variedades lineales admiten varias representaciones mediante el cálculo de bases, ecuaciones paramétricas y ecuaciones implícitas.\n",
    "* Una<strong> base</strong> de $L$ consiste en una familia ${\\cal B}=( {\\bf v_1},\\ldots,{\\bf v_r})$ formada de vectores de $L$, tal que cualquier vector ${\\bf b}$ de $L$ se descompone de manera única como combinación lineal de los vectores de ${\\bf v_i}$. Es decir, el sistema $AX={\\bf b}$ es compatible determinado para todo ${\\bf b} \\in L$, con $A$ la matriz cuyas columnas se corresponden con los vectores de la base ${\\cal B}$. Para <strong>encontrar una base</strong> de $L$, basta hacer una reducción por filas de la matriz $A$ (método de Gauss) y elegir los vectores iniciales que se corresponden con las columnas que contienen los pivotes de la forma escalonada. En particular, de aquí se deduce que todas las bases constan del mismo número de elementos, $r$, que coincide con el rango de la matriz del sistema anterior, y se denomina<strong> dimensión de la variedad</strong>. Por otra parte, el sistema  $A{\\bf x}={\\bf b}$ da las <strong>ecuaciones vectoriales</strong> si se expresa de forma equivalente como combinación de columnas y da las <strong>ecuaciones paramétricas</strong> de la variedad si se deja tal cual para un vector genérico $b$ y con parámetros dados por el vector $x$.</li>\n",
    "* Para encontrar un sistema de <strong>ecuaciones implícitas</strong> para $L$ se  procede de la siguiente forma: escribir la condición para que un vector con componentes indeterminadas ${\\bf x}$ sea combinación lineal de los elementos de ${\\cal B}$. Se traduce en condición de compatibilidad del sistema  $A {\\bf t} = {\\bf x}$. Despues de escalonar la matriz ampliada $[A|{\\bf x}]$ por el método de Gauss, esta condición aparece como un sistema de ecuaciones implícitas para $L$.\n",
    "* Dadas dos variedades lineales $L$ y $W$  de un mismo espacio vectorial, se define dos nuevas variedades:\n",
    "  * <strong>$L\\cap W$, variedad lineal intersección</strong> de $L$ y $W$,  formada por todos los vectores que pertenecen simultáneamente a $L$ y a $W$. El procedimiento más rápido para describir $L\\cap W$ es por un sistema de ecuaciones implícitas: el sistema resultante de juntar las ecuaciones implícitas de ambas variedades.\n",
    "  * <strong>$L+ W$, Variedad lineal suma</strong> de $L$ y $W$ , formada por todas las sumas de un elemento $L$ y un elemento de $W$. El procedimiento para describir $L+ W$ es tomando como sistema generador la unión de sistemas generadores de $L$ y de $W$.\n",
    "  * <strong>Teorema de las dimensiones</strong>: Siempre se verifica que $$\\dim(L+W)=\\dim(L)+\\dim(W)-\\dim(L\\cap W)$$\n",
    "* Una <strong>variedad suplementaria (o \"complementaria\")</strong> de $L$ es una variedad $W$ tal que cualquier vector del espacio $V$ se descompone de manera única como suma de un vector de $L$ y un vector de $W$. Cuando $W$ es un suplementario de $L$, se nota  $L \\oplus W=V$. Se tiene: $$ L \\oplus W = V \\Leftrightarrow \\left\\lbrace \\begin{array}{rcl} L + W &=& V \\\\ L\\cap W &=& \\{0\\}\\end{array}\\right.$$ En general, la variedad suplementaria $W$ no está unívocamente determinado. Para encontrar una variedad de este tipo basta extender o ampliar una base de $L$ a otra de $V$. Los vectores que se añaden conforman una base para una variedad suplementaria $W$. Se concluye la relación  $$\\dim(L)+\\dim(W)=\\dim(V).$$</li>\n",
    "\n",
    "\n",
    "<p><em>Observación: para esta práctica, es muy importante tener claro a cada momento el \"tipo\" del objeto que se considera. No hay que confundir matriz, variedad lineal, sistema de ecuaciones, sistema de generadores, base... Así es incorrecto hablar de \"la dimensión de una matriz\", \"la matriz de una variedad\" (¿Qué se quiere decir? ¿una matriz representando un sistema de ecuaciones implícitas para la variedad?¿una matriz cuyas columnas son generadores de la variedad?).</em></p>\n",
    "\n",
    "---"
   ]
  },
  {
   "cell_type": "markdown",
   "metadata": {},
   "source": [
    "### Ejemplo 1: variedades lineales, con los métodos estudiados en clase.\n",
    "\n",
    "A continuación, consideraremos\n",
    "\n",
    "* la variedad lineal $W$ de $\\mathbb R^4$ generada por los vectores\n",
    "$$w_1 = (4,-5,2,6), w_2=(2,-2,1,3), w_3=(6,-3,3,9), w_4=(4,-1,5,6)$$\n",
    "* y la variedad lineal $L$ de $\\mathbb R^4$ que es el conjunto de las soluciones del sistema de ecuaciones lineales siguiente, de variables $x_1$, $x_2$, $x_3$, $x_4$:\n",
    "$$\\left\\{ \\begin{matrix}x_1&+x_2&-x_3&-x_4&=&0\\\\ x_1&-x_2&-x_3&+x_4&=&0\\end{matrix}\\right.$$\n",
    "\n",
    "Buscaremos bases y ecuaciones implícitas para las dos variedades, y también para las variedades intersección, $L \\cap W$, y suma, $L + W$. Buscaremos también complementarios de $W$ en $\\mathbb R^4$. Utilizaremos los métodos estudiados en clase, basados en el método de Gauss."
   ]
  },
  {
   "cell_type": "markdown",
   "metadata": {},
   "source": [
    "#### Una base de $W$, a partir de generadores.\n",
    "\n",
    "Utilizamos el resultado siguiente: \n",
    "> Siendo la matriz $G$ cuyas columnas dan las coordenadas de los vectores considerados, obtenemos una base de la variedad que generan, guardando, de estos vectores, los de las columnas que contendran los pivotes en la matriz $U$ obtenida de $G$ aplicando el método de Gauss. \n",
    "\n",
    "Recordamos el porqué: las relaciones lineales entre estos vectores son las soluciones de $GX=0,$ que son las mismas que las de $U X=0$."
   ]
  },
  {
   "cell_type": "code",
   "execution_count": 2,
   "metadata": {},
   "outputs": [
    {
     "data": {
      "text/html": [
       "<html><script type=\"math/tex; mode=display\">\\newcommand{\\Bold}[1]{\\mathbf{#1}}\\left(\\begin{array}{rrrr}\n",
       "4 & 2 & 6 & 4 \\\\\n",
       "-5 & -2 & -3 & -1 \\\\\n",
       "2 & 1 & 3 & 5 \\\\\n",
       "6 & 3 & 9 & 6\n",
       "\\end{array}\\right)</script></html>"
      ],
      "text/latex": [
       "\\begin{math}\n",
       "\\newcommand{\\Bold}[1]{\\mathbf{#1}}\\left(\\begin{array}{rrrr}\n",
       "4 & 2 & 6 & 4 \\\\\n",
       "-5 & -2 & -3 & -1 \\\\\n",
       "2 & 1 & 3 & 5 \\\\\n",
       "6 & 3 & 9 & 6\n",
       "\\end{array}\\right)\n",
       "\\end{math}"
      ],
      "text/plain": [
       "[ 4  2  6  4]\n",
       "[-5 -2 -3 -1]\n",
       "[ 2  1  3  5]\n",
       "[ 6  3  9  6]"
      ]
     },
     "metadata": {},
     "output_type": "display_data"
    }
   ],
   "source": [
    "# Definimos los vectores\n",
    "w1 = vector(QQ, [4, -5, 2, 6] )\n",
    "w2 = vector(QQ, [2, -2, 1, 3] )\n",
    "w3 = vector(QQ, [6, -3, 3, 9] )\n",
    "w4 = vector(QQ, [4, -1, 5, 6] )\n",
    "# Montamos la matrix cuyas columnas representan los vectores\n",
    "G = matrix(QQ,[w1, w2, w3, w4 ]).transpose() \n",
    "show(G)"
   ]
  },
  {
   "cell_type": "markdown",
   "metadata": {},
   "source": [
    "&#9888; Hemos llamado $G$ a esta matriz de generadores de $W$. Llamarla \"W\" habría sido un error, que conduciría a temibles confusiones. $W$ es una variedad, no es una matriz, y no hay *una*, sino *varias* maneras de representar $W$ mediante matrices."
   ]
  },
  {
   "cell_type": "code",
   "execution_count": 3,
   "metadata": {},
   "outputs": [
    {
     "data": {
      "text/plain": [
       "[  4   2   6   4]\n",
       "[  0 1/2 9/2   4]\n",
       "[  0   0   0   3]\n",
       "[  0   0   0   0]"
      ]
     },
     "execution_count": 3,
     "metadata": {},
     "output_type": "execute_result"
    }
   ],
   "source": [
    "# Aplicamos el método de Gauss\n",
    "F, U = forma_escalonada(G)\n",
    "U"
   ]
  },
  {
   "cell_type": "markdown",
   "metadata": {},
   "source": [
    "Vemos que los pivotes de $U$ estan en columnas 1, 2 y 4. Luego una base de $W$ viene dada por ${\\cal C}=\\left({\\bf w_1},{\\bf w_2},{\\bf w_4}\\right)$, y la dimensión de $W$ es 3."
   ]
  },
  {
   "cell_type": "code",
   "execution_count": 4,
   "metadata": {},
   "outputs": [],
   "source": [
    "# Nombramos esta base, \"C\".\n",
    "C = [w1, w2, w4]"
   ]
  },
  {
   "cell_type": "markdown",
   "metadata": {},
   "source": [
    "#### Un sistema de ecuaciones implícitas de $W$, a partir de generadores de $W$."
   ]
  },
  {
   "cell_type": "markdown",
   "metadata": {},
   "source": [
    "Para encontrar un sistema de ecuaciones implícitas para $W$, procedemos de la siguiente forma:  construimos una matriz $G$ que tenga generadores de W como columnas (o una base si previamente ha sido calculada), y escalonamos el sistema de matriz ampliada $(G|X)$, donde $X$ representa una columna de variables $x_1, \\ldots, x_4$. En el sistema escalonado, vemos claramente las condiciones para que haya soluciones. Son las condiciones para que $(x_1,\\ldots,x_4)$ sea combinación lineal de los generadores de $W$; es decir, forman un sistema de ecuaciones implícitas para $W$. \n",
    "\n",
    "Téngase en cuenta que hemos de cambiar el dominio sobre el que venimos trabajando (cuerpo de los números racionales, QQ), a \"SR\"  (Symbolic Ring), para poder trabajar con las variables $x_i$."
   ]
  },
  {
   "cell_type": "code",
   "execution_count": 5,
   "metadata": {},
   "outputs": [
    {
     "data": {
      "text/html": [
       "<html><script type=\"math/tex; mode=display\">\\newcommand{\\Bold}[1]{\\mathbf{#1}}\\left(\\begin{array}{rrrrr}\n",
       "4 & 2 & 6 & 4 & x_{1} \\\\\n",
       "-5 & -2 & -3 & -1 & x_{2} \\\\\n",
       "2 & 1 & 3 & 5 & x_{3} \\\\\n",
       "6 & 3 & 9 & 6 & x_{4}\n",
       "\\end{array}\\right)</script></html>"
      ],
      "text/latex": [
       "\\begin{math}\n",
       "\\newcommand{\\Bold}[1]{\\mathbf{#1}}\\left(\\begin{array}{rrrrr}\n",
       "4 & 2 & 6 & 4 & x_{1} \\\\\n",
       "-5 & -2 & -3 & -1 & x_{2} \\\\\n",
       "2 & 1 & 3 & 5 & x_{3} \\\\\n",
       "6 & 3 & 9 & 6 & x_{4}\n",
       "\\end{array}\\right)\n",
       "\\end{math}"
      ],
      "text/plain": [
       "[ 4  2  6  4 x1]\n",
       "[-5 -2 -3 -1 x2]\n",
       "[ 2  1  3  5 x3]\n",
       "[ 6  3  9  6 x4]"
      ]
     },
     "metadata": {},
     "output_type": "display_data"
    }
   ],
   "source": [
    "## matrices cuyas columnas son los wi\n",
    "G = matrix(QQ,[w1, w2, w3, w4]).transpose() \n",
    "### columna de variables del vector genérico\n",
    "X = column_matrix(SR,[['x1', 'x2', 'x3', 'x4']]) \n",
    "### cambiamos la matriz G al dominio SR (para cálculo simbólico)\n",
    "G = G.change_ring(SR)\n",
    "### montamos la matriz ampliada\n",
    "show(G.augment(X))"
   ]
  },
  {
   "cell_type": "code",
   "execution_count": 6,
   "metadata": {},
   "outputs": [
    {
     "data": {
      "text/html": [
       "<html><script type=\"math/tex; mode=display\">\\newcommand{\\Bold}[1]{\\mathbf{#1}}\\left(\\begin{array}{rrrrr}\n",
       "4 & 2 & 6 & 4 & x_{1} \\\\\n",
       "0 & \\frac{1}{2} & \\frac{9}{2} & 4 & \\frac{5}{4} \\, x_{1} + x_{2} \\\\\n",
       "0 & 0 & 0 & 3 & -\\frac{1}{2} \\, x_{1} + x_{3} \\\\\n",
       "0 & 0 & 0 & 0 & -\\frac{3}{2} \\, x_{1} + x_{4}\n",
       "\\end{array}\\right)</script></html>"
      ],
      "text/latex": [
       "\\begin{math}\n",
       "\\newcommand{\\Bold}[1]{\\mathbf{#1}}\\left(\\begin{array}{rrrrr}\n",
       "4 & 2 & 6 & 4 & x_{1} \\\\\n",
       "0 & \\frac{1}{2} & \\frac{9}{2} & 4 & \\frac{5}{4} \\, x_{1} + x_{2} \\\\\n",
       "0 & 0 & 0 & 3 & -\\frac{1}{2} \\, x_{1} + x_{3} \\\\\n",
       "0 & 0 & 0 & 0 & -\\frac{3}{2} \\, x_{1} + x_{4}\n",
       "\\end{array}\\right)\n",
       "\\end{math}"
      ],
      "text/plain": [
       "[           4            2            6            4           x1]\n",
       "[           0          1/2          9/2            4  5/4*x1 + x2]\n",
       "[           0            0            0            3 -1/2*x1 + x3]\n",
       "[           0            0            0            0 -3/2*x1 + x4]"
      ]
     },
     "metadata": {},
     "output_type": "display_data"
    }
   ],
   "source": [
    "F, U = forma_escalonada(G.augment(X))\n",
    "show(U)"
   ]
  },
  {
   "cell_type": "markdown",
   "metadata": {},
   "source": [
    "Interpretamos esta matriz como la matriz ampliada de un sistema de ecuaciones escalonado. Su ultima fila corresponde a la ecuación:  \n",
    "$$0=-\\frac{3}{2}x_1 +x_4.$$\n",
    "Es una ecuación implícita para $W$."
   ]
  },
  {
   "cell_type": "markdown",
   "metadata": {},
   "source": [
    "#### Una variedad complementaria de $W$, a partir de una base de $W$.\n",
    "\n",
    "Hemos determinado que $(w_1, w_2, w_4)$ es una base de $W$. Si completamos esta base de $W$ en una base de $\\mathbb R^4$, los vectores adicionales formarán una base de una variedad complementaria de $W$ en $\\mathbb R^4$. \n",
    "Probaremos completar con vectores de la \"base canónica\" de $\\mathbb R^4$:\n",
    "$$u_1=(1,0,0,0), u_2=(0,1,0,0), u_3=(0,0,1,0), u_4=(0,0,0,1).$$\n",
    "Probemos con $u_1$. Se trata de comprobar si $(w_1, w_2, w_4, u_1)$ forman una base de $\\mathbb R^4$. La condición para esto, es que la matriz cuyas columnas son estos vectores sea de rango $4$. "
   ]
  },
  {
   "cell_type": "code",
   "execution_count": 7,
   "metadata": {},
   "outputs": [
    {
     "data": {
      "text/html": [
       "<html><script type=\"math/tex; mode=display\">\\newcommand{\\Bold}[1]{\\mathbf{#1}}\\left(\\begin{array}{rrrr}\n",
       "4 & 2 & 4 & 1 \\\\\n",
       "0 & \\frac{1}{2} & 4 & \\frac{5}{4} \\\\\n",
       "0 & 0 & 3 & -\\frac{1}{2} \\\\\n",
       "0 & 0 & 0 & -\\frac{3}{2}\n",
       "\\end{array}\\right)</script></html>"
      ],
      "text/latex": [
       "\\begin{math}\n",
       "\\newcommand{\\Bold}[1]{\\mathbf{#1}}\\left(\\begin{array}{rrrr}\n",
       "4 & 2 & 4 & 1 \\\\\n",
       "0 & \\frac{1}{2} & 4 & \\frac{5}{4} \\\\\n",
       "0 & 0 & 3 & -\\frac{1}{2} \\\\\n",
       "0 & 0 & 0 & -\\frac{3}{2}\n",
       "\\end{array}\\right)\n",
       "\\end{math}"
      ],
      "text/plain": [
       "[   4    2    4    1]\n",
       "[   0  1/2    4  5/4]\n",
       "[   0    0    3 -1/2]\n",
       "[   0    0    0 -3/2]"
      ]
     },
     "metadata": {},
     "output_type": "display_data"
    }
   ],
   "source": [
    "u1=(1,0,0,0)\n",
    "# Matriz cuyas columnas son w1, w2, w4, u1\n",
    "M = matrix([w1,w2,w4,u1]).transpose()\n",
    "# Aplicamos el método de Gauss\n",
    "F, U = forma_escalonada(M)\n",
    "# En la matriz escalonada leeremos el rango de M\n",
    "show(U)"
   ]
  },
  {
   "cell_type": "markdown",
   "metadata": {},
   "source": [
    "Vemos que $M$ tiene rango $4$. Por tanto $(w_1, w_2,w_4,u_1)$ es una base de $\\mathbb R^4$, y la variedad generada por $u_1$ es una variedad complementaria de $W$ en $\\mathbb R^4$.\n",
    "\n",
    ">&#9758;  Probar con $u_2$, $u_3$, $u_4$ en vez de $u_1$. ¿Cuáles de estos vectores extienden la base $(w_1, w_2, w_4)$ en una base de $\\mathbb R^4$? ¿Cuáles generan una variedad complementaria de $W$ en $\\mathbb{R}^4$?"
   ]
  },
  {
   "cell_type": "markdown",
   "metadata": {},
   "source": [
    "#### Una base de $L$, a partir de un sistema de ecuaciones implícitas de $L$.\n",
    "\n",
    "Obtenemos una base de $L$, resolviendo el sistema de ecuaciones implícitas mediante el método de Gauss-Jordan."
   ]
  },
  {
   "cell_type": "code",
   "execution_count": 8,
   "metadata": {},
   "outputs": [
    {
     "data": {
      "text/html": [
       "<html><script type=\"math/tex; mode=display\">\\newcommand{\\Bold}[1]{\\mathbf{#1}}\\left(\\begin{array}{rrrr}\n",
       "1 & 0 & -1 & 0 \\\\\n",
       "0 & 1 & 0 & -1\n",
       "\\end{array}\\right)</script></html>"
      ],
      "text/latex": [
       "\\begin{math}\n",
       "\\newcommand{\\Bold}[1]{\\mathbf{#1}}\\left(\\begin{array}{rrrr}\n",
       "1 & 0 & -1 & 0 \\\\\n",
       "0 & 1 & 0 & -1\n",
       "\\end{array}\\right)\n",
       "\\end{math}"
      ],
      "text/plain": [
       "[ 1  0 -1  0]\n",
       "[ 0  1  0 -1]"
      ]
     },
     "metadata": {},
     "output_type": "display_data"
    }
   ],
   "source": [
    "## matriz de los coeficientes del sistema de ecuaciones implícitas proporcionado para L\n",
    "A = matrix(QQ, [[1,1,-1,-1],[1,-1,-1,1]])\n",
    "## Método de Gauss-Jordan\n",
    "F, U = forma_escalonada(A, true)\n",
    "show(U)"
   ]
  },
  {
   "cell_type": "markdown",
   "metadata": {},
   "source": [
    "Es la matriz de coeficientes del sistema escalonado\n",
    "$$\\left\\{ \\begin{matrix}x_1&&-x_3&&=&0\\\\&x_2&&-x_4&=&0\\end{matrix}\\right.$$\n",
    "en el cual $x_3$ y $x_4$ son las variables libres. Les asociamos parámetros: $x_3=s$, $x_4=t$. Obtenemos que la forma general de las soluciones es \n",
    "$$(x_1,x_2,x_3,x_4)=(s,t,s,t)=s(1,0,1,0)+ t(0,1,0,1).$$ \n",
    "Por tanto, $L$ admite como base \n",
    "$$((1,0,1,0), (0,1,0,1)).$$\n"
   ]
  },
  {
   "cell_type": "code",
   "execution_count": 9,
   "metadata": {},
   "outputs": [],
   "source": [
    "## generadores de L\n",
    "v1 = (1,0,1,0)\n",
    "v2 = (0,1,0,1)"
   ]
  },
  {
   "cell_type": "markdown",
   "metadata": {},
   "source": [
    "#### Determinación de la variedad interseccion $W \\cap L$.\n",
    "\n",
    "La manera directa de definir la intersección $W \\cap L$ es mediante un sistema de ecuaciones implícitas: basta juntar un sistema de ecuaciones implicítas para $W$, con un sistema de ecuaciones implícitas para $L$."
   ]
  },
  {
   "cell_type": "code",
   "execution_count": 10,
   "metadata": {},
   "outputs": [
    {
     "data": {
      "text/html": [
       "<html><script type=\"math/tex; mode=display\">\\newcommand{\\Bold}[1]{\\mathbf{#1}}\\left(\\begin{array}{rrrr}\n",
       "1 & 1 & -1 & -1 \\\\\n",
       "1 & -1 & -1 & 1\n",
       "\\end{array}\\right)</script></html>"
      ],
      "text/latex": [
       "\\begin{math}\n",
       "\\newcommand{\\Bold}[1]{\\mathbf{#1}}\\left(\\begin{array}{rrrr}\n",
       "1 & 1 & -1 & -1 \\\\\n",
       "1 & -1 & -1 & 1\n",
       "\\end{array}\\right)\n",
       "\\end{math}"
      ],
      "text/plain": [
       "[ 1  1 -1 -1]\n",
       "[ 1 -1 -1  1]"
      ]
     },
     "metadata": {},
     "output_type": "display_data"
    },
    {
     "data": {
      "text/html": [
       "<html><script type=\"math/tex; mode=display\">\\newcommand{\\Bold}[1]{\\mathbf{#1}}\\left(\\begin{array}{rrrr}\n",
       "-\\frac{3}{2} & 0 & 0 & 1\n",
       "\\end{array}\\right)</script></html>"
      ],
      "text/latex": [
       "\\begin{math}\n",
       "\\newcommand{\\Bold}[1]{\\mathbf{#1}}\\left(\\begin{array}{rrrr}\n",
       "-\\frac{3}{2} & 0 & 0 & 1\n",
       "\\end{array}\\right)\n",
       "\\end{math}"
      ],
      "text/plain": [
       "[-3/2    0    0    1]"
      ]
     },
     "metadata": {},
     "output_type": "display_data"
    },
    {
     "data": {
      "text/html": [
       "<html><script type=\"math/tex; mode=display\">\\newcommand{\\Bold}[1]{\\mathbf{#1}}\\left(\\begin{array}{rrrr}\n",
       "1 & 1 & -1 & -1 \\\\\n",
       "1 & -1 & -1 & 1 \\\\\n",
       "\\hline\n",
       " -\\frac{3}{2} & 0 & 0 & 1\n",
       "\\end{array}\\right)</script></html>"
      ],
      "text/latex": [
       "\\begin{math}\n",
       "\\newcommand{\\Bold}[1]{\\mathbf{#1}}\\left(\\begin{array}{rrrr}\n",
       "1 & 1 & -1 & -1 \\\\\n",
       "1 & -1 & -1 & 1 \\\\\n",
       "\\hline\n",
       " -\\frac{3}{2} & 0 & 0 & 1\n",
       "\\end{array}\\right)\n",
       "\\end{math}"
      ],
      "text/plain": [
       "[   1    1   -1   -1]\n",
       "[   1   -1   -1    1]\n",
       "[-------------------]\n",
       "[-3/2    0    0    1]"
      ]
     },
     "metadata": {},
     "output_type": "display_data"
    }
   ],
   "source": [
    "# matriz de coeficientes de un sistema de ecuaciones implícitas para L\n",
    "show(A)\n",
    "# matriz de coeficientes de un sistema de ecuaciones implícitas para W\n",
    "AW = matrix(QQ,[[-3/2,0,0,1]]) # para la ecuación única 3/2 x1 + x4=0\n",
    "show(AW)\n",
    "# matriz de coeficientes de la intersección\n",
    "A_int = block_matrix([[A],[AW]])\n",
    "show(A_int)"
   ]
  },
  {
   "cell_type": "code",
   "execution_count": 11,
   "metadata": {},
   "outputs": [
    {
     "data": {
      "text/html": [
       "<html><script type=\"math/tex; mode=display\">\\newcommand{\\Bold}[1]{\\mathbf{#1}}\\left(\\begin{array}{rrrr}\n",
       "1 & 0 & 0 & -\\frac{2}{3} \\\\\n",
       "0 & 1 & 0 & -1 \\\\\n",
       "\\hline\n",
       " 0 & 0 & 1 & -\\frac{2}{3}\n",
       "\\end{array}\\right)</script></html>"
      ],
      "text/latex": [
       "\\begin{math}\n",
       "\\newcommand{\\Bold}[1]{\\mathbf{#1}}\\left(\\begin{array}{rrrr}\n",
       "1 & 0 & 0 & -\\frac{2}{3} \\\\\n",
       "0 & 1 & 0 & -1 \\\\\n",
       "\\hline\n",
       " 0 & 0 & 1 & -\\frac{2}{3}\n",
       "\\end{array}\\right)\n",
       "\\end{math}"
      ],
      "text/plain": [
       "[   1    0    0 -2/3]\n",
       "[   0    1    0   -1]\n",
       "[-------------------]\n",
       "[   0    0    1 -2/3]"
      ]
     },
     "metadata": {},
     "output_type": "display_data"
    }
   ],
   "source": [
    "# determinación de la dimensión y de una base.\n",
    "F, U = forma_escalonada(A_int, true) # Aplicamos Gauss-Jordan para resolver el sistema\n",
    "show(U) "
   ]
  },
  {
   "cell_type": "markdown",
   "metadata": {},
   "source": [
    "La matriz obtenida es la matriz de coeficientes de un sistema con una sola variable libre. Por tanto $L \\cap W$ tiene dimensión $1$. Obtenemos como forma general de solución:\n",
    "$$(x_1, x_2, x_3, x_4)=(-2/3 t, -t, -2/3 t, t)=t(-2/3, -1, -2/3, 1).$$\n",
    "Por tanto el vector $(-2/3, -1, -2/3, 1)$ forma una base de $L \\cap W$."
   ]
  },
  {
   "cell_type": "markdown",
   "metadata": {},
   "source": [
    "#### Determinación de la variedad suma $L + W$.\n",
    "\n",
    "Admite como sistema generador el sistema obtenido reuniendo generadores de $L$ con generadores de $W$. Hemos calculado anteriormente un sistema de generadores de $L$ (son $v_1, v_2$) y $W$ viene definido mediante generadores $w_1, w_2, w_3, w_4$. Por tanto, $L+W$ es generada por $w_1, w_2, w_3, w_4, v_1, v_2$. \n",
    "\n",
    "Nos proponemos determinar la dimensión de $L+W$."
   ]
  },
  {
   "cell_type": "code",
   "execution_count": 12,
   "metadata": {},
   "outputs": [
    {
     "data": {
      "text/html": [
       "<html><script type=\"math/tex; mode=display\">\\newcommand{\\Bold}[1]{\\mathbf{#1}}\\left(\\begin{array}{rrrr|rr}\n",
       "4 & 2 & 6 & 4 & 1 & 0 \\\\\n",
       "-5 & -2 & -3 & -1 & 0 & 1 \\\\\n",
       "2 & 1 & 3 & 5 & 1 & 0 \\\\\n",
       "6 & 3 & 9 & 6 & 0 & 1\n",
       "\\end{array}\\right)</script></html>"
      ],
      "text/latex": [
       "\\begin{math}\n",
       "\\newcommand{\\Bold}[1]{\\mathbf{#1}}\\left(\\begin{array}{rrrr|rr}\n",
       "4 & 2 & 6 & 4 & 1 & 0 \\\\\n",
       "-5 & -2 & -3 & -1 & 0 & 1 \\\\\n",
       "2 & 1 & 3 & 5 & 1 & 0 \\\\\n",
       "6 & 3 & 9 & 6 & 0 & 1\n",
       "\\end{array}\\right)\n",
       "\\end{math}"
      ],
      "text/plain": [
       "[ 4  2  6  4| 1  0]\n",
       "[-5 -2 -3 -1| 0  1]\n",
       "[ 2  1  3  5| 1  0]\n",
       "[ 6  3  9  6| 0  1]"
      ]
     },
     "metadata": {},
     "output_type": "display_data"
    }
   ],
   "source": [
    "# matriz cuyas columnas son generadores de W\n",
    "M = matrix([w1, w2, w3, w4]).transpose()\n",
    "# matriz cuyas columnas son generadores de L\n",
    "M2 = matrix([v1, v2]).transpose()\n",
    "# matriz cuyas columnas son generadores de W+L\n",
    "M_suma = block_matrix([[M, M2]])\n",
    "show(M_suma)"
   ]
  },
  {
   "cell_type": "code",
   "execution_count": 13,
   "metadata": {},
   "outputs": [
    {
     "data": {
      "text/html": [
       "<html><script type=\"math/tex; mode=display\">\\newcommand{\\Bold}[1]{\\mathbf{#1}}\\left(\\begin{array}{rrrr|rr}\n",
       "4 & 2 & 6 & 4 & 1 & 0 \\\\\n",
       "0 & \\frac{1}{2} & \\frac{9}{2} & 4 & \\frac{5}{4} & 1 \\\\\n",
       "0 & 0 & 0 & 3 & \\frac{1}{2} & 0 \\\\\n",
       "0 & 0 & 0 & 0 & -\\frac{3}{2} & 1\n",
       "\\end{array}\\right)</script></html>"
      ],
      "text/latex": [
       "\\begin{math}\n",
       "\\newcommand{\\Bold}[1]{\\mathbf{#1}}\\left(\\begin{array}{rrrr|rr}\n",
       "4 & 2 & 6 & 4 & 1 & 0 \\\\\n",
       "0 & \\frac{1}{2} & \\frac{9}{2} & 4 & \\frac{5}{4} & 1 \\\\\n",
       "0 & 0 & 0 & 3 & \\frac{1}{2} & 0 \\\\\n",
       "0 & 0 & 0 & 0 & -\\frac{3}{2} & 1\n",
       "\\end{array}\\right)\n",
       "\\end{math}"
      ],
      "text/plain": [
       "[   4    2    6    4|   1    0]\n",
       "[   0  1/2  9/2    4| 5/4    1]\n",
       "[   0    0    0    3| 1/2    0]\n",
       "[   0    0    0    0|-3/2    1]"
      ]
     },
     "metadata": {},
     "output_type": "display_data"
    }
   ],
   "source": [
    "# Aplicamos el método de Gauss para determinar la dimensión. Será el número de pivotes\n",
    "F, U = forma_escalonada(M_suma)\n",
    "show(U)"
   ]
  },
  {
   "cell_type": "markdown",
   "metadata": {},
   "source": [
    "Conclusión: $\\dim (L+W)=4$. Como la única variedad de dimensión $4$ en $\\mathbb R^4$ es $\\mathbb R^4$, comcluimos que $L+W=\\mathbb R^4$."
   ]
  },
  {
   "cell_type": "markdown",
   "metadata": {},
   "source": [
    "&#9996; **Atajo:** Podriamos habernos ahorrado los ultimos cálculos, usando la relación:\n",
    "$$\\dim(L+W)=\\dim L + \\dim W - \\dim(L \\cap W).$$\n",
    "En efecto, ya hemos determinado que $\\dim L=2$, $\\dim W=3$, $\\dim(L \\cap W)=1$. De aquí ya se deducía que $\\dim(L+W)=4$. y, en consecuencia, que $L+W=\\mathbb R^4$."
   ]
  },
  {
   "cell_type": "markdown",
   "metadata": {},
   "source": [
    "#### Coordenadas de un vector con respecto a una base de una variedad.\n",
    "\n",
    "El vector $w_3$ está en $W$ pero no es un vector de la base $(w_1, w_2, w_4)$ calculada. Nos proponemos hallar las coordenadas de $w_3$ con respecto a esta base. Son simplemente los coeficiente de la única combinación lineal de la forma\n",
    "$$w_3 = x w_1 + y w_2 + z w_4$$\n",
    "y se obtienen resolviendo un sistema de ecuaciones."
   ]
  },
  {
   "cell_type": "code",
   "execution_count": 14,
   "metadata": {},
   "outputs": [
    {
     "data": {
      "text/html": [
       "<html><script type=\"math/tex; mode=display\">\\newcommand{\\Bold}[1]{\\mathbf{#1}}\\left(\\begin{array}{rrrr}\n",
       "1 & 0 & 0 & -3 \\\\\n",
       "0 & 1 & 0 & 9 \\\\\n",
       "0 & 0 & 1 & 0 \\\\\n",
       "0 & 0 & 0 & 0\n",
       "\\end{array}\\right)</script></html>"
      ],
      "text/latex": [
       "\\begin{math}\n",
       "\\newcommand{\\Bold}[1]{\\mathbf{#1}}\\left(\\begin{array}{rrrr}\n",
       "1 & 0 & 0 & -3 \\\\\n",
       "0 & 1 & 0 & 9 \\\\\n",
       "0 & 0 & 1 & 0 \\\\\n",
       "0 & 0 & 0 & 0\n",
       "\\end{array}\\right)\n",
       "\\end{math}"
      ],
      "text/plain": [
       "[ 1  0  0 -3]\n",
       "[ 0  1  0  9]\n",
       "[ 0  0  1  0]\n",
       "[ 0  0  0  0]"
      ]
     },
     "metadata": {},
     "output_type": "display_data"
    }
   ],
   "source": [
    "# matriz de los coeficientes del sistema\n",
    "M = matrix([w1, w2, w4]).transpose()\n",
    "# matriz ampliada\n",
    "MM= M.augment(w3)\n",
    "# resolución por Gauss-Jordan\n",
    "F, U = forma_escalonada(MM, true)\n",
    "show(U)"
   ]
  },
  {
   "cell_type": "markdown",
   "metadata": {},
   "source": [
    "Es la matriz ampliada del sistema\n",
    "$$ \\left\\lbrace \\begin{matrix} x & & &=&-3 \\\\ & y &&=&9\\\\ &&z&=&0\\end{matrix} \\right.$$\n",
    "Por tanto, las coordenadas de $w_3$ con respecto a la base $(w_1, w_2, w_4)$ son $-3, 9,0$. Comprobamos:"
   ]
  },
  {
   "cell_type": "code",
   "execution_count": 15,
   "metadata": {},
   "outputs": [
    {
     "data": {
      "text/plain": [
       "((6, -3, 3, 9), (6, -3, 3, 9))"
      ]
     },
     "execution_count": 15,
     "metadata": {},
     "output_type": "execute_result"
    }
   ],
   "source": [
    "-3*w1+9*w2+0*w4, w3"
   ]
  },
  {
   "cell_type": "markdown",
   "metadata": {},
   "source": [
    "---\n",
    "\n",
    "### Ejemplo 2: Variedades lineales otra vez, con los métodos de SAGE.\n",
    "\n",
    "SAGE es capaz de manipular directamente variedades lineales. Vamos a repetir el ejemplo 1, usando esta vez los métodos propios de SAGE para variedades lineales."
   ]
  },
  {
   "cell_type": "code",
   "execution_count": 16,
   "metadata": {},
   "outputs": [
    {
     "name": "stdout",
     "output_type": "stream",
     "text": [
      "Vector space of degree 4 and dimension 3 over Rational Field\n",
      "Basis matrix:\n",
      "[  1   0   0 3/2]\n",
      "[  0   1   0   0]\n",
      "[  0   0   1   0]\n"
     ]
    }
   ],
   "source": [
    "# Definimos el \"espacio ambiente\".\n",
    "V = QQ^4 # espacios de las sucesiones de 4 números racionales \n",
    "# Definimos los vectores w1, w2... como elementos de este espacio\n",
    "w1 = V([4, -5, 2, 6] )\n",
    "w2 = V([2, -2, 1, 3] )\n",
    "w3 = V([6, -3, 3, 9] )\n",
    "w4 = V([4, -1, 5, 6] )\n",
    "# variedad W generada por los wi\n",
    "W = V.subspace([w1,w2,w3,w4])\n",
    "print(W)"
   ]
  },
  {
   "cell_type": "markdown",
   "metadata": {},
   "source": [
    "**Explicación de esta descripción de $W$:**\n",
    "* *Vector Space:* $W$ es una espacio vectorial (todas las variedades son espacios vectoriales)\n",
    "* *degree 4*: es la dimensión del espacio ambiente $V$\n",
    "* *dimensión 3*: es la dimensión de $W$\n",
    "* *basis matrix*: matriz cuyas **filas** forman una base de la variedad. \n",
    "\n",
    "**Dimensión, base:** podemos acceder directamente a la dimensión o a la base de $W$ con la cuál SAGE trabaja (base corriente)."
   ]
  },
  {
   "cell_type": "code",
   "execution_count": 17,
   "metadata": {
    "scrolled": true
   },
   "outputs": [
    {
     "name": "stdout",
     "output_type": "stream",
     "text": [
      "3\n"
     ]
    }
   ],
   "source": [
    "print(W.dimension())"
   ]
  },
  {
   "cell_type": "code",
   "execution_count": 18,
   "metadata": {},
   "outputs": [
    {
     "name": "stdout",
     "output_type": "stream",
     "text": [
      "[\n",
      "(1, 0, 0, 3/2),\n",
      "(0, 1, 0, 0),\n",
      "(0, 0, 1, 0)\n",
      "]\n"
     ]
    }
   ],
   "source": [
    "print(W.basis())"
   ]
  },
  {
   "cell_type": "markdown",
   "metadata": {},
   "source": [
    "**Coordenadas con respecto a una base de la variedad.** A continuación comprobamos que $w_3$ está en $W$, y calculamos sus coordenadas con respecto a la base de trabajo."
   ]
  },
  {
   "cell_type": "code",
   "execution_count": 19,
   "metadata": {},
   "outputs": [
    {
     "name": "stdout",
     "output_type": "stream",
     "text": [
      "True\n",
      "[6, -3, 3]\n"
     ]
    }
   ],
   "source": [
    "print(w3 in W)\n",
    "print(W.coordinates(w3))"
   ]
  },
  {
   "cell_type": "markdown",
   "metadata": {},
   "source": [
    "Si queremos trabajar con la base $(w_1, w_2, w_4)$, redefinimos $W$ de la manera siguiente:"
   ]
  },
  {
   "cell_type": "code",
   "execution_count": 20,
   "metadata": {},
   "outputs": [
    {
     "data": {
      "text/plain": [
       "Vector space of degree 4 and dimension 3 over Rational Field\n",
       "User basis matrix:\n",
       "[ 4 -5  2  6]\n",
       "[ 2 -2  1  3]\n",
       "[ 4 -1  5  6]"
      ]
     },
     "execution_count": 20,
     "metadata": {},
     "output_type": "execute_result"
    }
   ],
   "source": [
    "W2 = V.subspace_with_basis([w1, w2, w4])\n",
    "W2"
   ]
  },
  {
   "cell_type": "code",
   "execution_count": 21,
   "metadata": {},
   "outputs": [
    {
     "data": {
      "text/plain": [
       "True"
      ]
     },
     "execution_count": 21,
     "metadata": {},
     "output_type": "execute_result"
    }
   ],
   "source": [
    "# Comprobamos que W y W2 son la misma variedad\n",
    "W2 == W"
   ]
  },
  {
   "cell_type": "markdown",
   "metadata": {},
   "source": [
    "Obtenemos ahora las coordenadas de $w_3$ con respecto a la base $(w_1, w_2, w_4)$."
   ]
  },
  {
   "cell_type": "code",
   "execution_count": 22,
   "metadata": {},
   "outputs": [
    {
     "data": {
      "text/plain": [
       "[-3, 9, 0]"
      ]
     },
     "execution_count": 22,
     "metadata": {},
     "output_type": "execute_result"
    }
   ],
   "source": [
    "W2.coordinates(w3)"
   ]
  },
  {
   "cell_type": "markdown",
   "metadata": {},
   "source": [
    "**Variedad a partir de un sistema de ecuaciones.** Definamos ahora la variedad $L$. Es el conjunto de soluciones de un sistema $AX=0$. En matemáticas, la variedad de las soluciones del sistema de ecuaciones homogéneas de matriz de coeficientes $A$ se llama **núcleo (a la derecha) de la matriz**. Esto en inglés se dice  `right_kernel`, y es el nombre del método que hace falta utilizar aquí."
   ]
  },
  {
   "cell_type": "code",
   "execution_count": 23,
   "metadata": {},
   "outputs": [
    {
     "data": {
      "text/plain": [
       "Vector space of degree 4 and dimension 2 over Rational Field\n",
       "Basis matrix:\n",
       "[1 0 1 0]\n",
       "[0 1 0 1]"
      ]
     },
     "execution_count": 23,
     "metadata": {},
     "output_type": "execute_result"
    }
   ],
   "source": [
    "# variedad L de las soluciones del sistema AX=0\n",
    "A = matrix(QQ, [[1,1,-1,-1],[1,-1,-1,1]])\n",
    "L = A.right_kernel()\n",
    "L"
   ]
  },
  {
   "cell_type": "code",
   "execution_count": 24,
   "metadata": {},
   "outputs": [
    {
     "data": {
      "text/plain": [
       "[\n",
       "(1, 0, 1, 0),\n",
       "(0, 1, 0, 1)\n",
       "]"
      ]
     },
     "execution_count": 24,
     "metadata": {},
     "output_type": "execute_result"
    }
   ],
   "source": [
    "L.basis()"
   ]
  },
  {
   "cell_type": "markdown",
   "metadata": {},
   "source": [
    "**Variedades suma e intersección.** Para $L+W$ y $L \\cap W$:"
   ]
  },
  {
   "cell_type": "code",
   "execution_count": 25,
   "metadata": {},
   "outputs": [
    {
     "data": {
      "text/plain": [
       "Vector space of degree 4 and dimension 4 over Rational Field\n",
       "Basis matrix:\n",
       "[1 0 0 0]\n",
       "[0 1 0 0]\n",
       "[0 0 1 0]\n",
       "[0 0 0 1]"
      ]
     },
     "execution_count": 25,
     "metadata": {},
     "output_type": "execute_result"
    }
   ],
   "source": [
    "SUMA = L + W\n",
    "SUMA"
   ]
  },
  {
   "cell_type": "code",
   "execution_count": 26,
   "metadata": {},
   "outputs": [
    {
     "data": {
      "text/plain": [
       "True"
      ]
     },
     "execution_count": 26,
     "metadata": {},
     "output_type": "execute_result"
    }
   ],
   "source": [
    "# Comprobamos que es el espacio entero\n",
    "SUMA == V"
   ]
  },
  {
   "cell_type": "code",
   "execution_count": 27,
   "metadata": {},
   "outputs": [
    {
     "data": {
      "text/plain": [
       "Vector space of degree 4 and dimension 1 over Rational Field\n",
       "Basis matrix:\n",
       "[  1 3/2   1 3/2]"
      ]
     },
     "execution_count": 27,
     "metadata": {},
     "output_type": "execute_result"
    }
   ],
   "source": [
    "INTER = L.intersection(W)\n",
    "INTER"
   ]
  },
  {
   "cell_type": "markdown",
   "metadata": {},
   "source": [
    "**Hallar ecuaciones implícitas.** \n",
    "Para hallar ecuaciones implícitas de la variedad generada por vectores $u_1$, $u_2 \\ldots$, montabamos la matriz $M$ cuyas columnas son estos vectores, y buscabamos las condiciones de compatibilidad del sistema de matriz ampliada $(M|X)$ con $X$ vector de variables. Para programar una función que realiza esta tarea, no es muy conveniente trabajar con variables. Es mejor representar las expresiones de la columna adicional por sus filas de coeficientes. Por ejemplo, la matriz\n",
    "$$\\left(\\begin{array}{rrrr|rrrr}\n",
    "4 & 2 & 6 & 4 & x_{1} \\\\\n",
    "0 & \\frac{1}{2} & \\frac{9}{2} & 4 & \\frac{5}{4} \\, x_{1} &+ x_{2} &&\\\\\n",
    "0 & 0 & 0 & 3 & -\\frac{1}{2} \\, x_{1} &&+ x_{3}& \\\\\n",
    "0 & 0 & 0 & 0 & -\\frac{3}{2} \\, x_{1} &&&+ x_{4}\n",
    "\\end{array}\\right)$$\n",
    "es, de esta manera, representada como\n",
    "$$\\left(\\begin{array}{rrrr|rrrr}\n",
    "4 & 2 & 6 & 4 & 1 & 0 & 0 & 0 \\\\\n",
    "0 & \\frac{1}{2} & \\frac{9}{2} & 4 & \\frac{5}{4} & 1 & 0 & 0 \\\\\n",
    "0 & 0 & 0 & 3 & -\\frac{1}{2}  & 0 & 1 & 0 \\\\\n",
    "0 & 0 & 0 & 0 & -\\frac{3}{2} & 0 & 0 & 1 \n",
    "\\end{array}\\right)$$\n",
    "Esto da lugar a la función siguiente, que podremos utilizar en el resto de la práctica."
   ]
  },
  {
   "cell_type": "code",
   "execution_count": 28,
   "metadata": {},
   "outputs": [],
   "source": [
    "def matriz_ecuaciones_implicitas(L):\n",
    "    \"\"\"\n",
    "    Calcula la matriz de coeficientes de un sistema de ecuaciones implicitas para L.\n",
    "    \n",
    "    INPUT:\n",
    "    - L -- variedad de un espacio vectorial.         \n",
    "    \"\"\"\n",
    "    M = L.basis_matrix().transpose() # las columnas de M forman una base de L\n",
    "    (p, q) = M.dimensions() # numeros de filas y de columnas\n",
    "    K = L.base()            # cuerpo de coeficientes \n",
    "    Id = identity_matrix(K, p)\n",
    "    MM = block_matrix([[M, Id]])\n",
    "    F, U = forma_escalonada(MM)\n",
    "    return matrix(K, [ R[q:] for R in U.rows() if R[:q] == vector(K, [0]*q) ])"
   ]
  },
  {
   "cell_type": "code",
   "execution_count": 29,
   "metadata": {},
   "outputs": [
    {
     "data": {
      "text/plain": [
       "[-3/2    0    0    1]"
      ]
     },
     "execution_count": 29,
     "metadata": {},
     "output_type": "execute_result"
    }
   ],
   "source": [
    "# matriz de coeficientes de un sistema de ecuaciones implícitas para W:\n",
    "matriz_ecuaciones_implicitas(W)"
   ]
  },
  {
   "cell_type": "code",
   "execution_count": 30,
   "metadata": {
    "scrolled": true
   },
   "outputs": [
    {
     "data": {
      "text/plain": [
       "[-3/2    1    0    0]\n",
       "[   0 -2/3    1    0]\n",
       "[   0    0 -3/2    1]"
      ]
     },
     "execution_count": 30,
     "metadata": {},
     "output_type": "execute_result"
    }
   ],
   "source": [
    "# para la intersección de L y W\n",
    "matriz_ecuaciones_implicitas(L.intersection(W))"
   ]
  },
  {
   "cell_type": "code",
   "execution_count": null,
   "metadata": {},
   "outputs": [],
   "source": []
  },
  {
   "cell_type": "markdown",
   "metadata": {},
   "source": [
    "<hr>\n",
    "<p><a name=\"afin\"></a></p>\n",
    "\n",
    "### Ejemplo 3 (variedad afín)\n",
    " \n",
    "#### Variedades afines. \n",
    "Las *variedades lineales* de $\\mathbb R^n$ son los conjuntos de soluciones de los sistemas de ecuaciones lineales homogéneas de $n$ variables. Las *variedades afines* de $\\mathbb R^n$ son los conjuntos de soluciones de los sistemas de ecuaciones lineales compatibles de $n$ variables (no necesariamente homogéneos). \n",
    "\n",
    "Para un ejemplo concreto, describamos las variedades afines de $\\mathbb R^2$. Recordemos antes que las variedades  de $\\mathbb R^2$ son:\n",
    "* las rectas de $\\mathbb R^2$ que pasan por el origen.\n",
    "* el propio espacio $\\mathbb R^2$\n",
    "* el conjunto de un solo elemento $\\{(0,0)\\}$\n",
    "\n",
    "Las variedades afines de $\\mathbb R^2$ son:\n",
    "* las rectas de $\\mathbb R^2$ (las que pasan por el origen y también las otras)\n",
    "* el propio espacio $\\mathbb R^2$\n",
    "* los conjuntos de un solo punto de $\\mathbb R^2$\n",
    "Las variedades afines son, por tanto, más generales que las variedades lineales pero no muy diferentes: \n",
    "> Si $T$ es la variedad afín formada de las soluciones del sistema compatible $AX=b$, si $c$ es una solución (cualquiera) del sistema, y si $L$ es la variedad de las soluciones  del sistema homogéno $AX=0$ (de misma matriz de coeficientes que el sistema que define $T$) entonces: $T$ se obtiene de $L$ por la traslación de vector $c$.\n",
    "\n",
    "Dicho de otra manera, los elementos de $T$ son las sumas $c+v$, para $v$ en $L$. Notamos: $T = c + L$.\n",
    "\n",
    "\n",
    "#### Ejercicio:\n",
    "Dado el sistema de ecuaciones lineales $Ax=b$ de orden 4 no homogéneo:\n",
    "  $$\\left\\{ \\begin{array}{rrrrrrrr} x_1&-&x_2&+&x_3&+&x_4 &=& 2\\\\ -2x_1&+&x_2& & &+&x_4 &=& 0\\\\ -x_1& & &+&x_3&+&2x_4 &=& 2\\\\& &-x_2&+&2x_3&+&3x_4 &=& 4 \\end{array}\\right.$$\n",
    "\n",
    "* a) Comprobar que es compatible indeterminado (tiene infinitas soluciones) y obtener una expresión de la solución general del mismo.\n",
    "* b) Expresar el conjunto de las soluciones como $c+L$ donde $c$ es una solución particular del sistema y $L$ es cierta variedad lineal de $\\mathbb{R}^4$.\n",
    "\n",
    "Resolvemos a):"
   ]
  },
  {
   "cell_type": "code",
   "execution_count": 31,
   "metadata": {},
   "outputs": [
    {
     "data": {
      "text/html": [
       "<html><script type=\"math/tex; mode=display\">\\newcommand{\\Bold}[1]{\\mathbf{#1}}\\left(\\begin{array}{rrrr}\n",
       "1 & -1 & 1 & 1 \\\\\n",
       "-2 & 1 & 0 & 1 \\\\\n",
       "-1 & 0 & 1 & 2 \\\\\n",
       "0 & -1 & 2 & 3\n",
       "\\end{array}\\right)</script></html>"
      ],
      "text/latex": [
       "\\begin{math}\n",
       "\\newcommand{\\Bold}[1]{\\mathbf{#1}}\\left(\\begin{array}{rrrr}\n",
       "1 & -1 & 1 & 1 \\\\\n",
       "-2 & 1 & 0 & 1 \\\\\n",
       "-1 & 0 & 1 & 2 \\\\\n",
       "0 & -1 & 2 & 3\n",
       "\\end{array}\\right)\n",
       "\\end{math}"
      ],
      "text/plain": [
       "[ 1 -1  1  1]\n",
       "[-2  1  0  1]\n",
       "[-1  0  1  2]\n",
       "[ 0 -1  2  3]"
      ]
     },
     "metadata": {},
     "output_type": "display_data"
    },
    {
     "data": {
      "text/html": [
       "<html><script type=\"math/tex; mode=display\">\\newcommand{\\Bold}[1]{\\mathbf{#1}}\\left(2,\\,0,\\,2,\\,4\\right)</script></html>"
      ],
      "text/latex": [
       "\\begin{math}\n",
       "\\newcommand{\\Bold}[1]{\\mathbf{#1}}\\left(2,\\,0,\\,2,\\,4\\right)\n",
       "\\end{math}"
      ],
      "text/plain": [
       "(2, 0, 2, 4)"
      ]
     },
     "metadata": {},
     "output_type": "display_data"
    }
   ],
   "source": [
    "## matriz de los coeficientes del sistema\n",
    "A = matrix(QQ, [\n",
    "[1, -1, 1, 1], \n",
    "[-2, 1, 0, 1], \n",
    "[-1, 0, 1, 2], \n",
    "[0, -1, 2, 3]\n",
    "]) \n",
    "show(A)\n",
    "## termino independiente\n",
    "b = vector(QQ, [2, 0, 2, 4])\n",
    "show(b)"
   ]
  },
  {
   "cell_type": "code",
   "execution_count": 32,
   "metadata": {},
   "outputs": [
    {
     "data": {
      "text/html": [
       "<html><script type=\"math/tex; mode=display\">\\newcommand{\\Bold}[1]{\\mathbf{#1}}\\left(\\begin{array}{rrrr|r}\n",
       "1 & -1 & 1 & 1 & 2 \\\\\n",
       "-2 & 1 & 0 & 1 & 0 \\\\\n",
       "-1 & 0 & 1 & 2 & 2 \\\\\n",
       "0 & -1 & 2 & 3 & 4\n",
       "\\end{array}\\right)</script></html>"
      ],
      "text/latex": [
       "\\begin{math}\n",
       "\\newcommand{\\Bold}[1]{\\mathbf{#1}}\\left(\\begin{array}{rrrr|r}\n",
       "1 & -1 & 1 & 1 & 2 \\\\\n",
       "-2 & 1 & 0 & 1 & 0 \\\\\n",
       "-1 & 0 & 1 & 2 & 2 \\\\\n",
       "0 & -1 & 2 & 3 & 4\n",
       "\\end{array}\\right)\n",
       "\\end{math}"
      ],
      "text/plain": [
       "[ 1 -1  1  1| 2]\n",
       "[-2  1  0  1| 0]\n",
       "[-1  0  1  2| 2]\n",
       "[ 0 -1  2  3| 4]"
      ]
     },
     "metadata": {},
     "output_type": "display_data"
    }
   ],
   "source": [
    "## matriz ampliada del sistema\n",
    "M = block_matrix([[A,b.column()]]) \n",
    "show(M)"
   ]
  },
  {
   "cell_type": "code",
   "execution_count": 33,
   "metadata": {},
   "outputs": [
    {
     "data": {
      "text/html": [
       "<html><script type=\"math/tex; mode=display\">\\newcommand{\\Bold}[1]{\\mathbf{#1}}\\left(\\begin{array}{rrrr|r}\n",
       "1 & 0 & -1 & -2 & -2 \\\\\n",
       "0 & 1 & -2 & -3 & -4 \\\\\n",
       "0 & 0 & 0 & 0 & 0 \\\\\n",
       "0 & 0 & 0 & 0 & 0\n",
       "\\end{array}\\right)</script></html>"
      ],
      "text/latex": [
       "\\begin{math}\n",
       "\\newcommand{\\Bold}[1]{\\mathbf{#1}}\\left(\\begin{array}{rrrr|r}\n",
       "1 & 0 & -1 & -2 & -2 \\\\\n",
       "0 & 1 & -2 & -3 & -4 \\\\\n",
       "0 & 0 & 0 & 0 & 0 \\\\\n",
       "0 & 0 & 0 & 0 & 0\n",
       "\\end{array}\\right)\n",
       "\\end{math}"
      ],
      "text/plain": [
       "[ 1  0 -1 -2|-2]\n",
       "[ 0  1 -2 -3|-4]\n",
       "[ 0  0  0  0| 0]\n",
       "[ 0  0  0  0| 0]"
      ]
     },
     "metadata": {},
     "output_type": "display_data"
    }
   ],
   "source": [
    "## Resolvemos mediante el método de Gauss-Jordan\n",
    "F, U = forma_escalonada(M, True)\n",
    "show(U)"
   ]
  },
  {
   "cell_type": "markdown",
   "metadata": {},
   "source": [
    "<p>Esta matriz es la matriz ampliada del sistema</p>\n",
    "<p>$$\\left\\lbrace \\begin{array}{ccccl}x_1 &  & -x_3 & -2 x_4 &= -2 \\\\ & x_2 & -2 x_3 & -3 x_4 &= -4\\\\ &&&0&=0\\\\&&&0&=0\\end{array}\\right.$$</p>\n",
    "<p>El sistema es compatible puesto que es escalonada sin ecuación del tipo $0=1$. Por otra parte, es indeterminado ya que hay variables libres (son $x_3$ y $x_4$). Una parametrización del conjunto de las soluciones viene dada por:</p>\n",
    "<p>$$\\left\\{ \\begin{array}{rrrrrrrr} x_1&=& -2 &+&\\lambda &+&2\\mu \\\\  x_2&=& -4 &+&2\\lambda &+&3\\mu \\\\  x_3&=&  & &\\lambda & &  \\\\  x_4&=&  & & & &\\mu \\end{array}\\right.$$</p>\n",
    "<p>Resolvemos b)</p>\n",
    "<p>Obsérvese que de forma vectorial, la solución general puede expresarse como</p>\n",
    "<p>$(x_1,x_2,x_3,x_4)=(-2,-4,0,0)+\\lambda (1,2,1,0)+\\mu(2,3,0,1)$</p>\n",
    "<p>Si denominamos</p>\n",
    "<ul>\n",
    "<li>$c=(-2,-4,0,0)$ a la solución particular para $\\lambda=\\mu=0$</li>\n",
    "<li>y  $L$ a la variedad lineal de $R^4$ generada por los vectores $(1,2,1,0),(2,3,0,1)$,</li>\n",
    "</ul>\n",
    "<p>podemos expresar de forma general el conjunto de las soluciones como  $c+L$ indicando así  que podemos sumar a $c$ cualquier vector de la variedad $L$ para obtener otra solución del sistema no homogéneo.</p>\n",
    "\n",
    "**Solución alternativa:** podemos \n",
    "* obtener el vector $c$ mediante la orden  `A.solve_right(b)` (¡que no devuelve todas las soluciones sino solamente una!). \n",
    "* Por otra parte, la variedad $L$ se obtiene como el núcleo de la matriz $A$."
   ]
  },
  {
   "cell_type": "code",
   "execution_count": 34,
   "metadata": {},
   "outputs": [
    {
     "data": {
      "text/html": [
       "<html><script type=\"math/tex; mode=display\">\\newcommand{\\Bold}[1]{\\mathbf{#1}}\\left(-2,\\,-4,\\,0,\\,0\\right)</script></html>"
      ],
      "text/latex": [
       "\\begin{math}\n",
       "\\newcommand{\\Bold}[1]{\\mathbf{#1}}\\left(-2,\\,-4,\\,0,\\,0\\right)\n",
       "\\end{math}"
      ],
      "text/plain": [
       "(-2, -4, 0, 0)"
      ]
     },
     "metadata": {},
     "output_type": "display_data"
    }
   ],
   "source": [
    "# solución particular del sistema\n",
    "c = A.solve_right(b)   \n",
    "show(c)"
   ]
  },
  {
   "cell_type": "code",
   "execution_count": 35,
   "metadata": {},
   "outputs": [
    {
     "data": {
      "text/plain": [
       "[\n",
       "(1, 0, -3, 2),\n",
       "(0, 1, 2, -1)\n",
       "]"
      ]
     },
     "execution_count": 35,
     "metadata": {},
     "output_type": "execute_result"
    }
   ],
   "source": [
    "L = A.right_kernel()  ## construimos la variedad lineal L\n",
    "L.basis()             ## pedimos una base de L"
   ]
  },
  {
   "cell_type": "code",
   "execution_count": 36,
   "metadata": {},
   "outputs": [
    {
     "data": {
      "text/plain": [
       "2"
      ]
     },
     "execution_count": 36,
     "metadata": {},
     "output_type": "execute_result"
    }
   ],
   "source": [
    "L.dimension()      ## preguntamos por la dimensión de L"
   ]
  },
  {
   "cell_type": "markdown",
   "metadata": {},
   "source": [
    "<hr>\n",
    "\n",
    "<p><a name=\"ejemplos\"></a></p>\n",
    "\n",
    "### Ejemplo 4. Aplicación práctica: juego <em>Lights Out</em>.\n",
    "\n",
    "Consideramos el juego siguiente, \"Lights out\".\n",
    "\n",
    "<p>El juego consiste en conseguir apagar todas las luces de un tablero cuadrado $n \\times n$, con la peculiaridad de que cuando se cambia el estado de una luz, también se modifica el estado de las luces contiguas horizontal y verticalmente. En el ejemplo dado más abajo, se entiende que la luz está encendida/apagada en función de si la casilla correspondiente está o no marcada. El juego consiste en partir de una configuración inicial de luces encendidas y realizar una serie de pulsaciones  (encendidos-apagados) hasta apagar todas las luces. Se puede elegir la configuración inicial libremente pero ¿tendrá solución el juego? En caso afirmativo, ¿cuál es el menor número de pulsaciones que resuelve el juego?</p>"
   ]
  },
  {
   "cell_type": "code",
   "execution_count": 37,
   "metadata": {},
   "outputs": [
    {
     "data": {
      "text/html": [
       "<h3>Lights Out</h3>\n",
       "<form name=\"lightsform\">\n",
       "<p align=\"left\"><span style=\"font-size: small;\">El siguiente tablero doble sirve para practicar el juego Lights Out.</span></p>\n",
       "<p align=\"left\"><span style=\"font-size: small;\">1. Marque en el tablero superior las luces activadas inicialmente.</span></p>\n",
       "<p align=\"left\"><span style=\"font-size: small;\">2. Pulse en la barra intermedia para comenzar.</span></p>\n",
       "<p align=\"left\"><span style=\"font-size: small;\">3. Puede jugar en el tablero interactivo inferior.</span></p>\n",
       "<p align=\"left\"> </p>\n",
       "<form name=\"lightsform\">\n",
       "<center>\n",
       "<table border=\"1\" cellpadding=\"5\">\n",
       "<tbody>\n",
       "<tr>\n",
       "<td><input type=\"checkbox\" name=\"aa\" value=\"0\" /></td>\n",
       "<td><input type=\"checkbox\" name=\"bb\" value=\"0\" /></td>\n",
       "<td><input type=\"checkbox\" name=\"cc\" value=\"0\" /></td>\n",
       "<td><input type=\"checkbox\" name=\"dd\" value=\"0\" /></td>\n",
       "</tr>\n",
       "<tr>\n",
       "<td><input type=\"checkbox\" name=\"ff\" value=\"0\" /></td>\n",
       "<td><input type=\"checkbox\" name=\"gg\" value=\"0\" /></td>\n",
       "<td><input type=\"checkbox\" name=\"hh\" value=\"0\" /></td>\n",
       "<td><input type=\"checkbox\" name=\"ii\" value=\"0\" /></td>\n",
       "</tr>\n",
       "<tr>\n",
       "<td><input type=\"checkbox\" name=\"kk\" value=\"0\" /></td>\n",
       "<td><input type=\"checkbox\" name=\"ll\" value=\"0\" /></td>\n",
       "<td><input type=\"checkbox\" name=\"mm\" value=\"0\" /></td>\n",
       "<td><input type=\"checkbox\" name=\"nn\" value=\"0\" /></td>\n",
       "</tr>\n",
       "<tr>\n",
       "<td><input type=\"checkbox\" name=\"pp\" value=\"0\" /></td>\n",
       "<td><input type=\"checkbox\" name=\"qq\" value=\"0\" /></td>\n",
       "<td><input type=\"checkbox\" name=\"rr\" value=\"0\" /></td>\n",
       "<td><input type=\"checkbox\" name=\"ss\" value=\"0\" /></td>\n",
       "</tr>\n",
       "</tbody>\n",
       "</table>\n",
       "<input onclick=\"form.a.checked=form.aa.checked;\n",
       "\tform.b.checked=form.bb.checked;\n",
       "\tform.c.checked=form.cc.checked;\n",
       "\tform.d.checked=form.dd.checked;\n",
       "\tform.f.checked=form.ff.checked;\n",
       "\tform.g.checked=form.gg.checked;\n",
       "\tform.h.checked=form.hh.checked;\n",
       "\tform.i.checked=form.ii.checked;\n",
       "\tform.k.checked=form.kk.checked;\n",
       "\tform.l.checked=form.ll.checked;\n",
       "\tform.m.checked=form.mm.checked;\n",
       "\tform.n.checked=form.nn.checked;\n",
       "\tform.p.checked=form.pp.checked;\n",
       "\tform.q.checked=form.qq.checked;\n",
       "\tform.r.checked=form.rr.checked;\n",
       "\tform.s.checked=form.ss.checked;\n",
       "\t\" type=\"button\" value=\"Pulsa para iniciar abajo con las luces arriba marcadas\" />\n",
       "<table border=\"1\" cellpadding=\"5\">\n",
       "<tbody>\n",
       "<tr>\n",
       "<td><input onclick=\"form.b.checked=1-form.b.checked\n",
       "form.f.checked=1-form.f.checked;\" type=\"checkbox\" name=\"a\" value=\"form.aa.checked\" /></td>\n",
       "<td><input onclick=\"\n",
       "form.g.checked=1-form.g.checked\n",
       "form.a.checked=1-form.a.checked\n",
       "form.c.checked=1-form.c.checked\" type=\"checkbox\" name=\"b\" value=\"0\" /></td>\n",
       "<td><input onclick=\"\n",
       "form.h.checked=1-form.h.checked\n",
       "form.b.checked=1-form.b.checked\n",
       "form.d.checked=1-form.d.checked\" type=\"checkbox\" name=\"c\" value=\"0\" /></td>\n",
       "<td><input onclick=\"\n",
       "form.i.checked=1-form.i.checked\n",
       "form.c.checked=1-form.c.checked\" type=\"checkbox\" name=\"d\" value=\"0\" /></td>\n",
       "</tr>\n",
       "<tr>\n",
       "<td><input onclick=\"\n",
       "form.a.checked=1-form.a.checked\n",
       "form.g.checked=1-form.g.checked\n",
       "form.k.checked=1-form.k.checked\" type=\"checkbox\" name=\"f\" value=\"0\" /></td>\n",
       "<td><input onclick=\"\n",
       "form.l.checked=1-form.l.checked\n",
       "form.b.checked=1-form.b.checked\n",
       "form.f.checked=1-form.f.checked\n",
       "form.h.checked=1-form.h.checked\" type=\"checkbox\" name=\"g\" value=\"0\" /></td>\n",
       "<td><input onclick=\"\n",
       "form.c.checked=1-form.c.checked\n",
       "form.g.checked=1-form.g.checked\n",
       "form.i.checked=1-form.i.checked\n",
       "form.m.checked=1-form.m.checked\" type=\"checkbox\" name=\"h\" value=\"0\" /></td>\n",
       "<td><input onclick=\"form.d.checked=1-form.d.checked\n",
       "form.h.checked=1-form.h.checked\n",
       "form.n.checked=1-form.n.checked\" type=\"checkbox\" name=\"i\" value=\"0\" /></td>\n",
       "</tr>\n",
       "<tr>\n",
       "<td><input onclick=\"\n",
       "form.f.checked=1-form.f.checked\n",
       "form.l.checked=1-form.l.checked\n",
       "form.p.checked=1-form.p.checked\" type=\"checkbox\" name=\"k\" value=\"0\" /></td>\n",
       "<td><input onclick=\"\n",
       "form.k.checked=1-form.k.checked\n",
       "form.m.checked=1-form.m.checked\n",
       "form.g.checked=1-form.g.checked\n",
       "form.q.checked=1-form.q.checked\" type=\"checkbox\" name=\"l\" value=\"0\" /></td>\n",
       "<td><input onclick=\"\n",
       "form.l.checked=1-form.l.checked\n",
       "form.r.checked=1-form.r.checked\n",
       "form.h.checked=1-form.h.checked\n",
       "form.n.checked=1-form.n.checked\" type=\"checkbox\" name=\"m\" value=\"0\" /></td>\n",
       "<td><input onclick=\"\n",
       "form.s.checked=1-form.s.checked\n",
       "form.i.checked=1-form.i.checked\n",
       "form.m.checked=1-form.m.checked\" type=\"checkbox\" name=\"n\" value=\"0\" /></td>\n",
       "</tr>\n",
       "<tr>\n",
       "<td><input onclick=\"\n",
       "form.q.checked=1-form.q.checked\n",
       "form.k.checked=1-form.k.checked\" type=\"checkbox\" name=\"p\" value=\"0\" /></td>\n",
       "<td><input onclick=\"\n",
       "form.r.checked=1-form.r.checked\n",
       "form.l.checked=1-form.l.checked\n",
       "form.p.checked=1-form.p.checked\" type=\"checkbox\" name=\"q\" value=\"0\" /></td>\n",
       "<td><input onclick=\"\n",
       "form.s.checked=1-form.s.checked\n",
       "form.m.checked=1-form.m.checked\n",
       "form.q.checked=1-form.q.checked\" type=\"checkbox\" name=\"r\" value=\"0\" /></td>\n",
       "<td><input onclick=\"\n",
       "form.n.checked=1-form.n.checked\n",
       "form.r.checked=1-form.r.checked\" type=\"checkbox\" name=\"s\" value=\"0\" /></td>\n",
       "</tr>\n",
       "</tbody>\n",
       "</table>\n",
       "</center>\n",
       "</form>"
      ],
      "text/plain": [
       "<IPython.core.display.HTML object>"
      ]
     },
     "execution_count": 37,
     "metadata": {},
     "output_type": "execute_result"
    }
   ],
   "source": [
    "# Para jugar con un tablero 4x4.\n",
    "from IPython.display import HTML\n",
    "HTML(filename = \"CODE/lightsout.html\") "
   ]
  },
  {
   "cell_type": "markdown",
   "metadata": {},
   "source": [
    "Se hace la siguiente modelización del problema. \n",
    "    \n",
    "* Numérense las casillas (bombillas) de uno hasta el número total de casillas, recorridas por filas, de arriba a abajo y de izquierda a derecha. Para $n=4$:\n",
    "$$\\begin{array}{ccccc}1&2&3&4\\\\ 5&6&7&8 \\\\ 9&10&11&12 \\\\ 13&14&15&16\\end{array}$$\n",
    "* Se asocia a cada casilla $p$ un vector ${\\bf v_p}$ de bits ($0$ o $1$) de longitud $n^2$, que indica (con $1$) los números de las casillas afectadas al pulsar en la casilla número $p$.  \n",
    "Por ejemplo, para $n=4$, se tiene\n",
    "$${\\bf v}_1=(1,1,0,0,1,0,0,0,0,0,0,0,0,0,0,0)$$\n",
    "ya que al pulsar la casilla $1$, las casillas que cambian de estado son la $1$, la $2$ y la $5$.\n",
    "* Si ${\\bf b}$ es un vector de bits de longitud $n^2$ representando el estado inicial de las bombillas, y que pulsamos $x_1$ veces en la casilla número $1$, $x_2$ veces en la casilla número $2$ ... alcanzamos el estado \n",
    "$$b+x_1{\\bf v_1}+\\ldots +x_{n^2}{\\bf v_{n^2}}$$\n",
    "Trabajamos modulo $2$ (es decir con $1+1=0$) ya que pulsar dos veces en la misma casilla no tiene efecto.\n",
    "* Tratamos pues de obtener una secuencia de pulsaciones $x_1, x_2, \\ldots$ tal que\n",
    "$${\\bf b} + x_1{\\bf v_1}+\\ldots +x_{n^2}{\\bf v_{n^2}}={\\bf 0}$$\n",
    "Esto es equivalente a\n",
    "$$x_1{\\bf v_1}+\\ldots +x_{n^2}{\\bf v_{n^2}}=-{\\bf b}$$\n",
    "y como $-{\\bf b}={\\bf b}$ (tenemos -$1=1$ como consecuencia de $1+1=0$), es equivalente a\n",
    "$$x_1{\\bf v_1}+\\ldots +x_{n^2}{\\bf v_{n^2}}={\\bf b}$$\n",
    "\n",
    "\n",
    "Consideremos la matriz del sistema, $A$, cuyas columnas son los vectores ${\\bf v_p}$. Tenemos que $A_{p,q}=1$ cuando,  siendo $(i,j)$ y $(i', j')$ las coordenadas de las casillas en el tablero, se verifica: *$(i,j)$ y $(i',j')$ están a distancia $0$ (cuando $p$=$q$) o $1$ (cuando $p$ y $q$ son adyacentes).* O lo que es equivalente, a distancia a lo sumo $1$.\n",
    "\n",
    "Tómese el caso $n=4$, y la matriz $A$ asociada, que se construye de forma automatizada a continuación. Se  trabaja con el anillo de números: $\\mathbb{Z}_2=$IntegerModRing(2). Es el anillo de los bits  ( enteros modulo $2$), es decir los números $0$ y $1$ con la regla $1+1=0$."
   ]
  },
  {
   "cell_type": "code",
   "execution_count": 38,
   "metadata": {},
   "outputs": [
    {
     "data": {
      "text/html": [
       "<html><script type=\"math/tex; mode=display\">\\newcommand{\\Bold}[1]{\\mathbf{#1}}\\left(\\begin{array}{rrrrrrrrrrrrrrrr}\n",
       "1 & 1 & 0 & 0 & 1 & 0 & 0 & 0 & 0 & 0 & 0 & 0 & 0 & 0 & 0 & 0 \\\\\n",
       "1 & 1 & 1 & 0 & 0 & 1 & 0 & 0 & 0 & 0 & 0 & 0 & 0 & 0 & 0 & 0 \\\\\n",
       "0 & 1 & 1 & 1 & 0 & 0 & 1 & 0 & 0 & 0 & 0 & 0 & 0 & 0 & 0 & 0 \\\\\n",
       "0 & 0 & 1 & 1 & 0 & 0 & 0 & 1 & 0 & 0 & 0 & 0 & 0 & 0 & 0 & 0 \\\\\n",
       "1 & 0 & 0 & 0 & 1 & 1 & 0 & 0 & 1 & 0 & 0 & 0 & 0 & 0 & 0 & 0 \\\\\n",
       "0 & 1 & 0 & 0 & 1 & 1 & 1 & 0 & 0 & 1 & 0 & 0 & 0 & 0 & 0 & 0 \\\\\n",
       "0 & 0 & 1 & 0 & 0 & 1 & 1 & 1 & 0 & 0 & 1 & 0 & 0 & 0 & 0 & 0 \\\\\n",
       "0 & 0 & 0 & 1 & 0 & 0 & 1 & 1 & 0 & 0 & 0 & 1 & 0 & 0 & 0 & 0 \\\\\n",
       "0 & 0 & 0 & 0 & 1 & 0 & 0 & 0 & 1 & 1 & 0 & 0 & 1 & 0 & 0 & 0 \\\\\n",
       "0 & 0 & 0 & 0 & 0 & 1 & 0 & 0 & 1 & 1 & 1 & 0 & 0 & 1 & 0 & 0 \\\\\n",
       "0 & 0 & 0 & 0 & 0 & 0 & 1 & 0 & 0 & 1 & 1 & 1 & 0 & 0 & 1 & 0 \\\\\n",
       "0 & 0 & 0 & 0 & 0 & 0 & 0 & 1 & 0 & 0 & 1 & 1 & 0 & 0 & 0 & 1 \\\\\n",
       "0 & 0 & 0 & 0 & 0 & 0 & 0 & 0 & 1 & 0 & 0 & 0 & 1 & 1 & 0 & 0 \\\\\n",
       "0 & 0 & 0 & 0 & 0 & 0 & 0 & 0 & 0 & 1 & 0 & 0 & 1 & 1 & 1 & 0 \\\\\n",
       "0 & 0 & 0 & 0 & 0 & 0 & 0 & 0 & 0 & 0 & 1 & 0 & 0 & 1 & 1 & 1 \\\\\n",
       "0 & 0 & 0 & 0 & 0 & 0 & 0 & 0 & 0 & 0 & 0 & 1 & 0 & 0 & 1 & 1\n",
       "\\end{array}\\right)</script></html>"
      ],
      "text/latex": [
       "\\begin{math}\n",
       "\\newcommand{\\Bold}[1]{\\mathbf{#1}}\\left(\\begin{array}{rrrrrrrrrrrrrrrr}\n",
       "1 & 1 & 0 & 0 & 1 & 0 & 0 & 0 & 0 & 0 & 0 & 0 & 0 & 0 & 0 & 0 \\\\\n",
       "1 & 1 & 1 & 0 & 0 & 1 & 0 & 0 & 0 & 0 & 0 & 0 & 0 & 0 & 0 & 0 \\\\\n",
       "0 & 1 & 1 & 1 & 0 & 0 & 1 & 0 & 0 & 0 & 0 & 0 & 0 & 0 & 0 & 0 \\\\\n",
       "0 & 0 & 1 & 1 & 0 & 0 & 0 & 1 & 0 & 0 & 0 & 0 & 0 & 0 & 0 & 0 \\\\\n",
       "1 & 0 & 0 & 0 & 1 & 1 & 0 & 0 & 1 & 0 & 0 & 0 & 0 & 0 & 0 & 0 \\\\\n",
       "0 & 1 & 0 & 0 & 1 & 1 & 1 & 0 & 0 & 1 & 0 & 0 & 0 & 0 & 0 & 0 \\\\\n",
       "0 & 0 & 1 & 0 & 0 & 1 & 1 & 1 & 0 & 0 & 1 & 0 & 0 & 0 & 0 & 0 \\\\\n",
       "0 & 0 & 0 & 1 & 0 & 0 & 1 & 1 & 0 & 0 & 0 & 1 & 0 & 0 & 0 & 0 \\\\\n",
       "0 & 0 & 0 & 0 & 1 & 0 & 0 & 0 & 1 & 1 & 0 & 0 & 1 & 0 & 0 & 0 \\\\\n",
       "0 & 0 & 0 & 0 & 0 & 1 & 0 & 0 & 1 & 1 & 1 & 0 & 0 & 1 & 0 & 0 \\\\\n",
       "0 & 0 & 0 & 0 & 0 & 0 & 1 & 0 & 0 & 1 & 1 & 1 & 0 & 0 & 1 & 0 \\\\\n",
       "0 & 0 & 0 & 0 & 0 & 0 & 0 & 1 & 0 & 0 & 1 & 1 & 0 & 0 & 0 & 1 \\\\\n",
       "0 & 0 & 0 & 0 & 0 & 0 & 0 & 0 & 1 & 0 & 0 & 0 & 1 & 1 & 0 & 0 \\\\\n",
       "0 & 0 & 0 & 0 & 0 & 0 & 0 & 0 & 0 & 1 & 0 & 0 & 1 & 1 & 1 & 0 \\\\\n",
       "0 & 0 & 0 & 0 & 0 & 0 & 0 & 0 & 0 & 0 & 1 & 0 & 0 & 1 & 1 & 1 \\\\\n",
       "0 & 0 & 0 & 0 & 0 & 0 & 0 & 0 & 0 & 0 & 0 & 1 & 0 & 0 & 1 & 1\n",
       "\\end{array}\\right)\n",
       "\\end{math}"
      ],
      "text/plain": [
       "[1 1 0 0 1 0 0 0 0 0 0 0 0 0 0 0]\n",
       "[1 1 1 0 0 1 0 0 0 0 0 0 0 0 0 0]\n",
       "[0 1 1 1 0 0 1 0 0 0 0 0 0 0 0 0]\n",
       "[0 0 1 1 0 0 0 1 0 0 0 0 0 0 0 0]\n",
       "[1 0 0 0 1 1 0 0 1 0 0 0 0 0 0 0]\n",
       "[0 1 0 0 1 1 1 0 0 1 0 0 0 0 0 0]\n",
       "[0 0 1 0 0 1 1 1 0 0 1 0 0 0 0 0]\n",
       "[0 0 0 1 0 0 1 1 0 0 0 1 0 0 0 0]\n",
       "[0 0 0 0 1 0 0 0 1 1 0 0 1 0 0 0]\n",
       "[0 0 0 0 0 1 0 0 1 1 1 0 0 1 0 0]\n",
       "[0 0 0 0 0 0 1 0 0 1 1 1 0 0 1 0]\n",
       "[0 0 0 0 0 0 0 1 0 0 1 1 0 0 0 1]\n",
       "[0 0 0 0 0 0 0 0 1 0 0 0 1 1 0 0]\n",
       "[0 0 0 0 0 0 0 0 0 1 0 0 1 1 1 0]\n",
       "[0 0 0 0 0 0 0 0 0 0 1 0 0 1 1 1]\n",
       "[0 0 0 0 0 0 0 0 0 0 0 1 0 0 1 1]"
      ]
     },
     "metadata": {},
     "output_type": "display_data"
    }
   ],
   "source": [
    "# En este bloque de instrucciones basta modificar el valor N = 4 \n",
    "# para adaptarlo a cualquier otro tamaño.\n",
    "\n",
    "N = 4   ## tamaño del tablero\n",
    "Z2  = IntegerModRing(2) \n",
    "vec = [vector([i,j]) for j in range(N) for i in range(N)] \n",
    "A   = matrix(Z2, N^2, N^2, lambda p, q: 1 if  norm(vec[p]-vec[q])  <= 1  else 0 )\n",
    "##### El coeficiente (p,q) de A es \n",
    "##### 1 si el vector diferencia (posicion de p - posicion de q) tiene longitud <= 1\n",
    "\n",
    "show(A)"
   ]
  },
  {
   "cell_type": "markdown",
   "metadata": {},
   "source": [
    "<p> </p>\n",
    "<p><em>a) Razonar que el conjunto de estados iniciales ${\\bf b}$ para los que el problema admite ser resuelto conforma una variedad lineal $W$. Encontrar la dimensión, una base y unas ecuaciones implícitas de $W$.</em></p>\n",
    "<p>El espacio de vectores ${\\bf b}$ para los que existe solución es el espacio generado por las columnas de $A$. Calculamos dimensión, base y ecuaciones implícitas de esta variedad.</p>"
   ]
  },
  {
   "cell_type": "code",
   "execution_count": 39,
   "metadata": {},
   "outputs": [
    {
     "data": {
      "text/html": [
       "<html><script type=\"math/tex; mode=display\">\\newcommand{\\Bold}[1]{\\mathbf{#1}}12</script></html>"
      ],
      "text/latex": [
       "\\begin{math}\n",
       "\\newcommand{\\Bold}[1]{\\mathbf{#1}}12\n",
       "\\end{math}"
      ],
      "text/plain": [
       "12"
      ]
     },
     "metadata": {},
     "output_type": "display_data"
    },
    {
     "data": {
      "text/html": [
       "<html><script type=\"math/tex; mode=display\">\\newcommand{\\Bold}[1]{\\mathbf{#1}}\\left(\\begin{array}{rrrrrrrrrrrrrrrr}\n",
       "1 & 1 & 0 & 1 & 0 & 0 & 0 & 1 & 1 & 1 & 1 & 0 & 0 & 1 & 0 & 0 \\\\\n",
       "0 & 1 & 1 & 1 & 1 & 0 & 1 & 0 & 1 & 1 & 0 & 0 & 1 & 0 & 0 & 0 \\\\\n",
       "0 & 0 & 1 & 1 & 0 & 1 & 0 & 0 & 1 & 1 & 0 & 1 & 0 & 1 & 0 & 1 \\\\\n",
       "0 & 0 & 0 & 1 & 0 & 0 & 1 & 1 & 0 & 1 & 0 & 1 & 1 & 1 & 1 & 0\n",
       "\\end{array}\\right)</script></html>"
      ],
      "text/latex": [
       "\\begin{math}\n",
       "\\newcommand{\\Bold}[1]{\\mathbf{#1}}\\left(\\begin{array}{rrrrrrrrrrrrrrrr}\n",
       "1 & 1 & 0 & 1 & 0 & 0 & 0 & 1 & 1 & 1 & 1 & 0 & 0 & 1 & 0 & 0 \\\\\n",
       "0 & 1 & 1 & 1 & 1 & 0 & 1 & 0 & 1 & 1 & 0 & 0 & 1 & 0 & 0 & 0 \\\\\n",
       "0 & 0 & 1 & 1 & 0 & 1 & 0 & 0 & 1 & 1 & 0 & 1 & 0 & 1 & 0 & 1 \\\\\n",
       "0 & 0 & 0 & 1 & 0 & 0 & 1 & 1 & 0 & 1 & 0 & 1 & 1 & 1 & 1 & 0\n",
       "\\end{array}\\right)\n",
       "\\end{math}"
      ],
      "text/plain": [
       "[1 1 0 1 0 0 0 1 1 1 1 0 0 1 0 0]\n",
       "[0 1 1 1 1 0 1 0 1 1 0 0 1 0 0 0]\n",
       "[0 0 1 1 0 1 0 0 1 1 0 1 0 1 0 1]\n",
       "[0 0 0 1 0 0 1 1 0 1 0 1 1 1 1 0]"
      ]
     },
     "metadata": {},
     "output_type": "display_data"
    }
   ],
   "source": [
    "W = A.column_space() # el espacio generado por las columnas de la matriz\n",
    "show(W.dimension())\n",
    "M = matriz_ecuaciones_implicitas(W)\n",
    "show(M)"
   ]
  },
  {
   "cell_type": "markdown",
   "metadata": {},
   "source": [
    "Se trata  de una variedad lineal $W$ de dimensión 12. La matriz M es la matriz de coeficientes de un sistema de ecuaciones implícitas para W.\n",
    "\n",
    "*b) Resolver el problema concreto para el vector ${\\bf b_1}\\in W$ dado más abajo, encontrando todas las soluciones diferentes que admite ese problema. Aquí entendemos por solución a una secuencia  de casillas de entre $\\{{\\bf x_0},\\ldots ,{\\bf x_{15}}\\}$ distintas entre sí y que indican las posiciones donde hay que pulsar para resolver el puzle. El orden de pulsación es indistinto.*"
   ]
  },
  {
   "cell_type": "code",
   "execution_count": 40,
   "metadata": {},
   "outputs": [
    {
     "data": {
      "text/plain": [
       "(1, 1, 0, 1, 0, 0, 1, 1, 0, 0, 0, 1, 1, 0, 1, 0)"
      ]
     },
     "execution_count": 40,
     "metadata": {},
     "output_type": "execute_result"
    }
   ],
   "source": [
    "b1 = vector(Z2, [1, 1, 0, 1, 0, 0, 1, 1, 0, 0, 0, 1, 1, 0, 1, 0])\n",
    "b1"
   ]
  },
  {
   "cell_type": "code",
   "execution_count": 41,
   "metadata": {},
   "outputs": [
    {
     "data": {
      "text/html": [
       "<html><script type=\"math/tex; mode=display\">\\newcommand{\\Bold}[1]{\\mathbf{#1}}\\left(\\begin{array}{rrrr}\n",
       "1 & 1 & 0 & 1 \\\\\n",
       "0 & 0 & 1 & 1 \\\\\n",
       "0 & 0 & 0 & 1 \\\\\n",
       "1 & 0 & 1 & 0\n",
       "\\end{array}\\right)</script></html>"
      ],
      "text/latex": [
       "\\begin{math}\n",
       "\\newcommand{\\Bold}[1]{\\mathbf{#1}}\\left(\\begin{array}{rrrr}\n",
       "1 & 1 & 0 & 1 \\\\\n",
       "0 & 0 & 1 & 1 \\\\\n",
       "0 & 0 & 0 & 1 \\\\\n",
       "1 & 0 & 1 & 0\n",
       "\\end{array}\\right)\n",
       "\\end{math}"
      ],
      "text/plain": [
       "[1 1 0 1]\n",
       "[0 0 1 1]\n",
       "[0 0 0 1]\n",
       "[1 0 1 0]"
      ]
     },
     "metadata": {},
     "output_type": "display_data"
    }
   ],
   "source": [
    "show(matrix(N, list(b1)))  # configuración inicial de luces encendidas"
   ]
  },
  {
   "cell_type": "markdown",
   "metadata": {},
   "source": [
    "<p>Primero comprobamos si efectivamente existe solución para esa configuración inicial de luces encendidas. Podemos hacerlo de dos formas:</p>\n",
    "<p><span style=\"text-decoration: underline;\">1ª forma</span></p>\n",
    "<p>El vector ${\\bf b_1}$ ha de verificar las ecuaciones implícitas de $W$</p>"
   ]
  },
  {
   "cell_type": "code",
   "execution_count": 42,
   "metadata": {},
   "outputs": [
    {
     "data": {
      "text/plain": [
       "(0, 0, 0, 0)"
      ]
     },
     "execution_count": 42,
     "metadata": {},
     "output_type": "execute_result"
    }
   ],
   "source": [
    "M*b1"
   ]
  },
  {
   "cell_type": "markdown",
   "metadata": {},
   "source": [
    "<p>luego se cumplen las 4 ecuaciones implícitas.</p>\n",
    "<p><span style=\"text-decoration: underline;\">2ª forma</span></p>\n",
    "<p>El vector  ${\\bf b_1}$   ha de pertenecer a la variedad $W$ de las columnas de la matriz $A$</p>"
   ]
  },
  {
   "cell_type": "code",
   "execution_count": 43,
   "metadata": {},
   "outputs": [
    {
     "data": {
      "text/plain": [
       "True"
      ]
     },
     "execution_count": 43,
     "metadata": {},
     "output_type": "execute_result"
    }
   ],
   "source": [
    "W = A.column_space()  ## el subespacio generado por las columnas de la matriz A\n",
    "b1 in W"
   ]
  },
  {
   "cell_type": "markdown",
   "metadata": {},
   "source": [
    "<p>Encontramos la solución del puzle, resolviendo el sistema $Ax=b_1$:</p>"
   ]
  },
  {
   "cell_type": "code",
   "execution_count": 44,
   "metadata": {},
   "outputs": [
    {
     "data": {
      "text/html": [
       "<html><script type=\"math/tex; mode=display\">\\newcommand{\\Bold}[1]{\\mathbf{#1}}\\left(0,\\,0,\\,1,\\,0,\\,1,\\,0,\\,1,\\,0,\\,1,\\,0,\\,1,\\,0,\\,0,\\,0,\\,0,\\,0\\right)</script></html>"
      ],
      "text/latex": [
       "\\begin{math}\n",
       "\\newcommand{\\Bold}[1]{\\mathbf{#1}}\\left(0,\\,0,\\,1,\\,0,\\,1,\\,0,\\,1,\\,0,\\,1,\\,0,\\,1,\\,0,\\,0,\\,0,\\,0,\\,0\\right)\n",
       "\\end{math}"
      ],
      "text/plain": [
       "(0, 0, 1, 0, 1, 0, 1, 0, 1, 0, 1, 0, 0, 0, 0, 0)"
      ]
     },
     "metadata": {},
     "output_type": "display_data"
    }
   ],
   "source": [
    "c = A.solve_right(b1) # una solución particular\n",
    "show(c)"
   ]
  },
  {
   "cell_type": "code",
   "execution_count": 45,
   "metadata": {},
   "outputs": [
    {
     "data": {
      "text/html": [
       "<html><script type=\"math/tex; mode=display\">\\newcommand{\\Bold}[1]{\\mathbf{#1}}\\left(\\begin{array}{rrrr}\n",
       "0 & 0 & 1 & 0 \\\\\n",
       "1 & 0 & 1 & 0 \\\\\n",
       "1 & 0 & 1 & 0 \\\\\n",
       "0 & 0 & 0 & 0\n",
       "\\end{array}\\right)</script></html>"
      ],
      "text/latex": [
       "\\begin{math}\n",
       "\\newcommand{\\Bold}[1]{\\mathbf{#1}}\\left(\\begin{array}{rrrr}\n",
       "0 & 0 & 1 & 0 \\\\\n",
       "1 & 0 & 1 & 0 \\\\\n",
       "1 & 0 & 1 & 0 \\\\\n",
       "0 & 0 & 0 & 0\n",
       "\\end{array}\\right)\n",
       "\\end{math}"
      ],
      "text/plain": [
       "[0 0 1 0]\n",
       "[1 0 1 0]\n",
       "[1 0 1 0]\n",
       "[0 0 0 0]"
      ]
     },
     "metadata": {},
     "output_type": "display_data"
    }
   ],
   "source": [
    "show(matrix(N,list(c)))  # mostramos la solución particular de pulsaciones sobre el tablero"
   ]
  },
  {
   "cell_type": "code",
   "execution_count": 46,
   "metadata": {},
   "outputs": [
    {
     "data": {
      "text/plain": [
       "[\n",
       "(1, 0, 0, 0, 1, 1, 0, 0, 1, 0, 1, 0, 0, 1, 1, 1),\n",
       "(0, 1, 0, 0, 1, 1, 1, 0, 0, 0, 0, 1, 1, 1, 0, 1),\n",
       "(0, 0, 1, 0, 0, 1, 1, 1, 1, 0, 0, 0, 1, 0, 1, 1),\n",
       "(0, 0, 0, 1, 0, 0, 1, 1, 0, 1, 0, 1, 1, 1, 1, 0)\n",
       "]"
      ]
     },
     "execution_count": 46,
     "metadata": {},
     "output_type": "execute_result"
    }
   ],
   "source": [
    "### Ahora una base de la variedad lineal asociada\n",
    "L = A.right_kernel()\n",
    "C = L.basis()            # base de L\n",
    "C"
   ]
  },
  {
   "cell_type": "markdown",
   "metadata": {},
   "source": [
    "<p>Como $\\dim(L)=4$, la solución general del problema puede expresarse como $x=c+t_1v_1+t_2v_2+t_3v_3+t_4v_4$ y puesto que los parámetros $t_i$ tan solo toman valores binarios, resulta que hay un total de $2^4=16$ soluciones posibles para el juego. De entre ellas, las que menos pulsaciones (encendidos/apagados) utilizan serán aquellas que tengan menos cantidad de 1s en el vector correspondiente.</p>"
   ]
  },
  {
   "cell_type": "code",
   "execution_count": 47,
   "metadata": {},
   "outputs": [
    {
     "data": {
      "text/plain": [
       "5"
      ]
     },
     "execution_count": 47,
     "metadata": {},
     "output_type": "execute_result"
    }
   ],
   "source": [
    "len(c.nonzero_positions())  # número de pulsaciones de la solución particular"
   ]
  },
  {
   "cell_type": "markdown",
   "metadata": {},
   "source": [
    "<p>El siguiente código genera todas las soluciones posibles y contabiliza el número de pulsaciones en cada solución:</p>"
   ]
  },
  {
   "cell_type": "code",
   "execution_count": 48,
   "metadata": {},
   "outputs": [
    {
     "name": "stdout",
     "output_type": "stream",
     "text": [
      "(0, 0, 1, 0, 1, 0, 1, 0, 1, 0, 1, 0, 0, 0, 0, 0) , nº pulsaciones: 5\n",
      "(1, 0, 1, 0, 0, 1, 1, 0, 0, 0, 0, 0, 0, 1, 1, 1) , nº pulsaciones: 7\n",
      "(0, 1, 1, 0, 0, 1, 0, 0, 1, 0, 1, 1, 1, 1, 0, 1) , nº pulsaciones: 9\n",
      "(1, 1, 1, 0, 1, 0, 0, 0, 0, 0, 0, 1, 1, 0, 1, 0) , nº pulsaciones: 7\n",
      "(0, 0, 0, 0, 1, 1, 0, 1, 0, 0, 1, 0, 1, 0, 1, 1) , nº pulsaciones: 7\n",
      "(1, 0, 0, 0, 0, 0, 0, 1, 1, 0, 0, 0, 1, 1, 0, 0) , nº pulsaciones: 5\n",
      "(0, 1, 0, 0, 0, 0, 1, 1, 0, 0, 1, 1, 0, 1, 1, 0) , nº pulsaciones: 7\n",
      "(1, 1, 0, 0, 1, 1, 1, 1, 1, 0, 0, 1, 0, 0, 0, 1) , nº pulsaciones: 9\n",
      "(0, 0, 1, 1, 1, 0, 0, 1, 1, 1, 1, 1, 1, 1, 1, 0) , nº pulsaciones: 11\n",
      "(1, 0, 1, 1, 0, 1, 0, 1, 0, 1, 0, 1, 1, 0, 0, 1) , nº pulsaciones: 9\n",
      "(0, 1, 1, 1, 0, 1, 1, 1, 1, 1, 1, 0, 0, 0, 1, 1) , nº pulsaciones: 11\n",
      "(1, 1, 1, 1, 1, 0, 1, 1, 0, 1, 0, 0, 0, 1, 0, 0) , nº pulsaciones: 9\n",
      "(0, 0, 0, 1, 1, 1, 1, 0, 0, 1, 1, 1, 0, 1, 0, 1) , nº pulsaciones: 9\n",
      "(1, 0, 0, 1, 0, 0, 1, 0, 1, 1, 0, 1, 0, 0, 1, 0) , nº pulsaciones: 7\n",
      "(0, 1, 0, 1, 0, 0, 0, 0, 0, 1, 1, 0, 1, 0, 0, 0) , nº pulsaciones: 5\n",
      "(1, 1, 0, 1, 1, 1, 0, 0, 1, 1, 0, 0, 1, 1, 1, 1) , nº pulsaciones: 11\n"
     ]
    }
   ],
   "source": [
    "## no es necesario modificar este código, tan solo actualizar c y L\n",
    "for sol in L:\n",
    "    print(c + sol, ', nº pulsaciones:', len((c + sol).nonzero_positions()))"
   ]
  },
  {
   "cell_type": "markdown",
   "metadata": {},
   "source": [
    "<p>Luego hay tres  formas óptimas de resolver el puzle, con tan sólo 5 pulsaciones:</p>"
   ]
  },
  {
   "cell_type": "code",
   "execution_count": 49,
   "metadata": {},
   "outputs": [
    {
     "data": {
      "text/html": [
       "<html><script type=\"math/tex; mode=display\">\\newcommand{\\Bold}[1]{\\mathbf{#1}}\\left(\\begin{array}{rrrr}\n",
       "0 & 0 & 1 & 0 \\\\\n",
       "1 & 0 & 1 & 0 \\\\\n",
       "1 & 0 & 1 & 0 \\\\\n",
       "0 & 0 & 0 & 0\n",
       "\\end{array}\\right)</script></html>"
      ],
      "text/latex": [
       "\\begin{math}\n",
       "\\newcommand{\\Bold}[1]{\\mathbf{#1}}\\left(\\begin{array}{rrrr}\n",
       "0 & 0 & 1 & 0 \\\\\n",
       "1 & 0 & 1 & 0 \\\\\n",
       "1 & 0 & 1 & 0 \\\\\n",
       "0 & 0 & 0 & 0\n",
       "\\end{array}\\right)\n",
       "\\end{math}"
      ],
      "text/plain": [
       "[0 0 1 0]\n",
       "[1 0 1 0]\n",
       "[1 0 1 0]\n",
       "[0 0 0 0]"
      ]
     },
     "metadata": {},
     "output_type": "display_data"
    },
    {
     "data": {
      "text/html": [
       "<html><script type=\"math/tex; mode=display\">\\newcommand{\\Bold}[1]{\\mathbf{#1}}\\left(\\begin{array}{rrrr}\n",
       "1 & 0 & 0 & 0 \\\\\n",
       "0 & 0 & 0 & 1 \\\\\n",
       "1 & 0 & 0 & 0 \\\\\n",
       "1 & 1 & 0 & 0\n",
       "\\end{array}\\right)</script></html>"
      ],
      "text/latex": [
       "\\begin{math}\n",
       "\\newcommand{\\Bold}[1]{\\mathbf{#1}}\\left(\\begin{array}{rrrr}\n",
       "1 & 0 & 0 & 0 \\\\\n",
       "0 & 0 & 0 & 1 \\\\\n",
       "1 & 0 & 0 & 0 \\\\\n",
       "1 & 1 & 0 & 0\n",
       "\\end{array}\\right)\n",
       "\\end{math}"
      ],
      "text/plain": [
       "[1 0 0 0]\n",
       "[0 0 0 1]\n",
       "[1 0 0 0]\n",
       "[1 1 0 0]"
      ]
     },
     "metadata": {},
     "output_type": "display_data"
    },
    {
     "data": {
      "text/html": [
       "<html><script type=\"math/tex; mode=display\">\\newcommand{\\Bold}[1]{\\mathbf{#1}}\\left(\\begin{array}{rrrr}\n",
       "0 & 1 & 0 & 1 \\\\\n",
       "0 & 0 & 0 & 0 \\\\\n",
       "0 & 1 & 1 & 0 \\\\\n",
       "1 & 0 & 0 & 0\n",
       "\\end{array}\\right)</script></html>"
      ],
      "text/latex": [
       "\\begin{math}\n",
       "\\newcommand{\\Bold}[1]{\\mathbf{#1}}\\left(\\begin{array}{rrrr}\n",
       "0 & 1 & 0 & 1 \\\\\n",
       "0 & 0 & 0 & 0 \\\\\n",
       "0 & 1 & 1 & 0 \\\\\n",
       "1 & 0 & 0 & 0\n",
       "\\end{array}\\right)\n",
       "\\end{math}"
      ],
      "text/plain": [
       "[0 1 0 1]\n",
       "[0 0 0 0]\n",
       "[0 1 1 0]\n",
       "[1 0 0 0]"
      ]
     },
     "metadata": {},
     "output_type": "display_data"
    }
   ],
   "source": [
    "n_pulsaciones = 5\n",
    "\n",
    "for sol in L:\n",
    "    if len((c + sol).nonzero_positions()) == n_pulsaciones:\n",
    "         show(matrix(4, list(c+sol))) # pulsaciones a realizar"
   ]
  },
  {
   "cell_type": "markdown",
   "metadata": {},
   "source": [
    "<p><em>c) Comprobar que el juego no tiene solución para la posición inicial  ${\\bf b2}$ dada más abajo.</em></p>"
   ]
  },
  {
   "cell_type": "code",
   "execution_count": 50,
   "metadata": {},
   "outputs": [
    {
     "data": {
      "text/plain": [
       "(0, 1, 0, 1, 0, 0, 1, 1, 0, 0, 0, 1, 1, 0, 1, 0)"
      ]
     },
     "execution_count": 50,
     "metadata": {},
     "output_type": "execute_result"
    }
   ],
   "source": [
    "b2 = vector(Z2, [0, 1, 0, 1, 0, 0, 1, 1, 0, 0, 0, 1, 1, 0, 1, 0])\n",
    "b2"
   ]
  },
  {
   "cell_type": "code",
   "execution_count": 51,
   "metadata": {},
   "outputs": [
    {
     "data": {
      "text/html": [
       "<html><script type=\"math/tex; mode=display\">\\newcommand{\\Bold}[1]{\\mathbf{#1}}\\left(\\begin{array}{rrrr}\n",
       "0 & 1 & 0 & 1 \\\\\n",
       "0 & 0 & 1 & 1 \\\\\n",
       "0 & 0 & 0 & 1 \\\\\n",
       "1 & 0 & 1 & 0\n",
       "\\end{array}\\right)</script></html>"
      ],
      "text/latex": [
       "\\begin{math}\n",
       "\\newcommand{\\Bold}[1]{\\mathbf{#1}}\\left(\\begin{array}{rrrr}\n",
       "0 & 1 & 0 & 1 \\\\\n",
       "0 & 0 & 1 & 1 \\\\\n",
       "0 & 0 & 0 & 1 \\\\\n",
       "1 & 0 & 1 & 0\n",
       "\\end{array}\\right)\n",
       "\\end{math}"
      ],
      "text/plain": [
       "[0 1 0 1]\n",
       "[0 0 1 1]\n",
       "[0 0 0 1]\n",
       "[1 0 1 0]"
      ]
     },
     "metadata": {},
     "output_type": "display_data"
    }
   ],
   "source": [
    "show(matrix(N,list(b2)))  # configuración inicial de luces encendidas"
   ]
  },
  {
   "cell_type": "code",
   "execution_count": 52,
   "metadata": {},
   "outputs": [
    {
     "data": {
      "text/plain": [
       "False"
      ]
     },
     "execution_count": 52,
     "metadata": {},
     "output_type": "execute_result"
    }
   ],
   "source": [
    "b2 in W"
   ]
  },
  {
   "cell_type": "markdown",
   "metadata": {},
   "source": [
    "<p>Como ${\\bf b_2}\\notin W$ ( la variedad generada por las columnas de $A$), el sistema carece de solución. Lo comprobamos de otra forma, escalonando la matriz ampliada del sistema $A x = b_2$.</p>"
   ]
  },
  {
   "cell_type": "code",
   "execution_count": 53,
   "metadata": {},
   "outputs": [
    {
     "data": {
      "text/html": [
       "<html><script type=\"math/tex; mode=display\">\\newcommand{\\Bold}[1]{\\mathbf{#1}}\\left(\\begin{array}{rrrrrrrrrrrrrrrr|r}\n",
       "1 & 0 & 0 & 0 & 0 & 0 & 0 & 0 & 0 & 0 & 0 & 0 & 0 & 1 & 1 & 1 & 0 \\\\\n",
       "0 & 1 & 0 & 0 & 0 & 0 & 0 & 0 & 0 & 0 & 0 & 0 & 1 & 1 & 0 & 1 & 0 \\\\\n",
       "0 & 0 & 1 & 0 & 0 & 0 & 0 & 0 & 0 & 0 & 0 & 0 & 1 & 0 & 1 & 1 & 0 \\\\\n",
       "0 & 0 & 0 & 1 & 0 & 0 & 0 & 0 & 0 & 0 & 0 & 0 & 1 & 1 & 1 & 0 & 0 \\\\\n",
       "0 & 0 & 0 & 0 & 1 & 0 & 0 & 0 & 0 & 0 & 0 & 0 & 1 & 0 & 1 & 0 & 0 \\\\\n",
       "0 & 0 & 0 & 0 & 0 & 1 & 0 & 0 & 0 & 0 & 0 & 0 & 0 & 0 & 0 & 1 & 0 \\\\\n",
       "0 & 0 & 0 & 0 & 0 & 0 & 1 & 0 & 0 & 0 & 0 & 0 & 1 & 0 & 0 & 0 & 0 \\\\\n",
       "0 & 0 & 0 & 0 & 0 & 0 & 0 & 1 & 0 & 0 & 0 & 0 & 0 & 1 & 0 & 1 & 0 \\\\\n",
       "0 & 0 & 0 & 0 & 0 & 0 & 0 & 0 & 1 & 0 & 0 & 0 & 1 & 1 & 0 & 0 & 0 \\\\\n",
       "0 & 0 & 0 & 0 & 0 & 0 & 0 & 0 & 0 & 1 & 0 & 0 & 1 & 1 & 1 & 0 & 0 \\\\\n",
       "0 & 0 & 0 & 0 & 0 & 0 & 0 & 0 & 0 & 0 & 1 & 0 & 0 & 1 & 1 & 1 & 0 \\\\\n",
       "0 & 0 & 0 & 0 & 0 & 0 & 0 & 0 & 0 & 0 & 0 & 1 & 0 & 0 & 1 & 1 & 0 \\\\\n",
       "0 & 0 & 0 & 0 & 0 & 0 & 0 & 0 & 0 & 0 & 0 & 0 & 0 & 0 & 0 & 0 & 1 \\\\\n",
       "0 & 0 & 0 & 0 & 0 & 0 & 0 & 0 & 0 & 0 & 0 & 0 & 0 & 0 & 0 & 0 & 0 \\\\\n",
       "0 & 0 & 0 & 0 & 0 & 0 & 0 & 0 & 0 & 0 & 0 & 0 & 0 & 0 & 0 & 0 & 0 \\\\\n",
       "0 & 0 & 0 & 0 & 0 & 0 & 0 & 0 & 0 & 0 & 0 & 0 & 0 & 0 & 0 & 0 & 0\n",
       "\\end{array}\\right)</script></html>"
      ],
      "text/latex": [
       "\\begin{math}\n",
       "\\newcommand{\\Bold}[1]{\\mathbf{#1}}\\left(\\begin{array}{rrrrrrrrrrrrrrrr|r}\n",
       "1 & 0 & 0 & 0 & 0 & 0 & 0 & 0 & 0 & 0 & 0 & 0 & 0 & 1 & 1 & 1 & 0 \\\\\n",
       "0 & 1 & 0 & 0 & 0 & 0 & 0 & 0 & 0 & 0 & 0 & 0 & 1 & 1 & 0 & 1 & 0 \\\\\n",
       "0 & 0 & 1 & 0 & 0 & 0 & 0 & 0 & 0 & 0 & 0 & 0 & 1 & 0 & 1 & 1 & 0 \\\\\n",
       "0 & 0 & 0 & 1 & 0 & 0 & 0 & 0 & 0 & 0 & 0 & 0 & 1 & 1 & 1 & 0 & 0 \\\\\n",
       "0 & 0 & 0 & 0 & 1 & 0 & 0 & 0 & 0 & 0 & 0 & 0 & 1 & 0 & 1 & 0 & 0 \\\\\n",
       "0 & 0 & 0 & 0 & 0 & 1 & 0 & 0 & 0 & 0 & 0 & 0 & 0 & 0 & 0 & 1 & 0 \\\\\n",
       "0 & 0 & 0 & 0 & 0 & 0 & 1 & 0 & 0 & 0 & 0 & 0 & 1 & 0 & 0 & 0 & 0 \\\\\n",
       "0 & 0 & 0 & 0 & 0 & 0 & 0 & 1 & 0 & 0 & 0 & 0 & 0 & 1 & 0 & 1 & 0 \\\\\n",
       "0 & 0 & 0 & 0 & 0 & 0 & 0 & 0 & 1 & 0 & 0 & 0 & 1 & 1 & 0 & 0 & 0 \\\\\n",
       "0 & 0 & 0 & 0 & 0 & 0 & 0 & 0 & 0 & 1 & 0 & 0 & 1 & 1 & 1 & 0 & 0 \\\\\n",
       "0 & 0 & 0 & 0 & 0 & 0 & 0 & 0 & 0 & 0 & 1 & 0 & 0 & 1 & 1 & 1 & 0 \\\\\n",
       "0 & 0 & 0 & 0 & 0 & 0 & 0 & 0 & 0 & 0 & 0 & 1 & 0 & 0 & 1 & 1 & 0 \\\\\n",
       "0 & 0 & 0 & 0 & 0 & 0 & 0 & 0 & 0 & 0 & 0 & 0 & 0 & 0 & 0 & 0 & 1 \\\\\n",
       "0 & 0 & 0 & 0 & 0 & 0 & 0 & 0 & 0 & 0 & 0 & 0 & 0 & 0 & 0 & 0 & 0 \\\\\n",
       "0 & 0 & 0 & 0 & 0 & 0 & 0 & 0 & 0 & 0 & 0 & 0 & 0 & 0 & 0 & 0 & 0 \\\\\n",
       "0 & 0 & 0 & 0 & 0 & 0 & 0 & 0 & 0 & 0 & 0 & 0 & 0 & 0 & 0 & 0 & 0\n",
       "\\end{array}\\right)\n",
       "\\end{math}"
      ],
      "text/plain": [
       "[1 0 0 0 0 0 0 0 0 0 0 0 0 1 1 1|0]\n",
       "[0 1 0 0 0 0 0 0 0 0 0 0 1 1 0 1|0]\n",
       "[0 0 1 0 0 0 0 0 0 0 0 0 1 0 1 1|0]\n",
       "[0 0 0 1 0 0 0 0 0 0 0 0 1 1 1 0|0]\n",
       "[0 0 0 0 1 0 0 0 0 0 0 0 1 0 1 0|0]\n",
       "[0 0 0 0 0 1 0 0 0 0 0 0 0 0 0 1|0]\n",
       "[0 0 0 0 0 0 1 0 0 0 0 0 1 0 0 0|0]\n",
       "[0 0 0 0 0 0 0 1 0 0 0 0 0 1 0 1|0]\n",
       "[0 0 0 0 0 0 0 0 1 0 0 0 1 1 0 0|0]\n",
       "[0 0 0 0 0 0 0 0 0 1 0 0 1 1 1 0|0]\n",
       "[0 0 0 0 0 0 0 0 0 0 1 0 0 1 1 1|0]\n",
       "[0 0 0 0 0 0 0 0 0 0 0 1 0 0 1 1|0]\n",
       "[0 0 0 0 0 0 0 0 0 0 0 0 0 0 0 0|1]\n",
       "[0 0 0 0 0 0 0 0 0 0 0 0 0 0 0 0|0]\n",
       "[0 0 0 0 0 0 0 0 0 0 0 0 0 0 0 0|0]\n",
       "[0 0 0 0 0 0 0 0 0 0 0 0 0 0 0 0|0]"
      ]
     },
     "metadata": {},
     "output_type": "display_data"
    }
   ],
   "source": [
    "F, U = forma_escalonada(block_matrix( [ [A , b2.column()] ]), True)\n",
    "show(U)"
   ]
  },
  {
   "cell_type": "markdown",
   "metadata": {},
   "source": [
    "<p>La ultima fila no-nula representa la ecuación $0=1$. Por tanto el sistema no tiene solución.</p>\n",
    "<p>En conclusión, hay configuraciones iniciales, como ${\\bf b_2}$, para las que no existe solución al puzle Lights Out.</p>\n",
    "\n",
    "<hr>"
   ]
  },
  {
   "cell_type": "markdown",
   "metadata": {},
   "source": [
    "<hr>\n",
    "\n",
    "<h3><a name=\"cuestionario\"></a></h3>\n",
    "<h3>CUESTIONARIO PARA EL ALUMNADO</h3>\n",
    "\n",
    "Introduzca en la variable NUMERO_CUESTIONARIO, que aparece más abajo, el número correspondiente a su cuestionario asignado y ejecuta la celda (*Shift* + *Enter* desde dentro de la celda). Accederá a un cuestionario con respuestas tipo test que se entregará cumplimentado antes de finalizar esta sesión práctica, siguiendo un modelo impreso que entregará el profesor y/o on-line en la plataforma de enseñanza virtual (seguir las instrucciones dadas en la clase de laboratorio por el docente).\n",
    "\n",
    "**Ayuda para copiar los datos de los enunciados:**\n",
    "\n",
    "* Se puede utilizar la función `matrix_from_copypaste` para copiar y pegar los coeficientes de las matrices. Selecciona con el ratón todos los datos del interior de la matriz y cópialos con Ctrl+C. Luego, pégalos (entre comillas) con Ctrl+V en el interior de la siguiente orden:\n",
    "      A = matrix_from_copypaste(QQ, 3, 4, 'pegar_aqui_los_coeficientes' )   # matriz de orden 3x4 para datos en QQ.\n",
    "* De forma análoga, se puede utilizar la función `vector_from_copypaste` para copiar y pegar los coeficientes de los vectores.\n",
    "      b = vector_from_copypaste(QQ, 'pegar_aqui_los_coeficientes' )    # vector para datos en QQ."
   ]
  },
  {
   "cell_type": "code",
   "execution_count": 54,
   "metadata": {},
   "outputs": [
    {
     "data": {
      "text/html": [
       "<center><h4>E.T.S.I.I. - GRADOS EN INGENIERÍA INFORMÁTICA</h4></center><center><h4>Álgebra Lineal y Numérica - TERCERA PRÁCTICA DE LABORATORIO</h4></center><hr  align=center><center>APELLIDOS, NOMBRE: <INPUT value= \"\",type=text size=70> <INPUT type=submit value=200-1267F><hr  align=center></center><hr  align=center><b> <span style=\"color: #0000ff;\">EJERCICIO 1 </span></b><br> Sea <script type=\"math/tex\">L</script> la variedad lineal definida por las ecuaciones implícitas <script type=\"math/tex; mode=display\">\\left(\\begin{array}{rrrrrrrrrr}2,&3,&2,&1,&3,&3,&2,&2,&1,&2,\\\\2,&3,&2,&1,&3,&3,&2,&2,&1,&2,\\\\2,&4,&3,&1,&4,&5,&3,&3,&1,&4,\\\\2,&3,&2,&1,&3,&3,&2,&2,&1,&2,\\end{array}\\right) {\\bf x}={\\bf 0}</script> y <script type=\"math/tex\">W</script> la variedad lineal generada por los vectores columnas de la matriz <script type=\"math/tex; mode=display\">\\left(\\begin{array}{rrrrrr}9,&8,&6,&9,&6,&6,\\\\3,&3,&2,&4,&2,&2,\\\\5,&4,&3,&5,&3,&3,\\\\5,&5,&3,&4,&3,&3,\\\\3,&4,&3,&5,&3,&3,\\\\4,&3,&3,&5,&3,&3,\\\\6,&5,&4,&5,&4,&4,\\\\6,&4,&4,&6,&4,&4,\\\\4,&3,&2,&3,&2,&2,\\\\4,&3,&3,&5,&3,&3,\\end{array}\\right)</script> \n",
       " Responder a las siguientes cuestiones:<ol><li>Identificar alguna base <script type=\"math/tex\">B</script> de la variedad <script type=\"math/tex\">L</script> de entre las propuestas en las respuestas tipo test.</li><li>Hallar la dimensión de una variedad <script type=\"math/tex\">\\overline{L}</script> complementaria a <script type=\"math/tex\">L</script>.</li><li>Identificar una matriz <script type=\"math/tex\">A</script> para que <script type=\"math/tex\">A{\\bf x}={\\bf 0}</script> sea un sistema de ecuaciones implícitas de <script type=\"math/tex\">W</script>\n",
       "de entre las propuestas en las respuestas tipo test.</li><li>Determinar la dimensión de <script type=\"math/tex\">L \\cap W</script>.</li><li>Determinar la dimensión de <script type=\"math/tex\">L+W</script>.</li></ol>Marcar la respuesta correcta.<br><hr  align=center><b> <span style=\"color: #ff0000;\">Respuesta al apartado 1 </span></b><br><br> 1.<input type=checkbox> B=[\n",
       "(1, 0, 0, 0, 0, 0, 0, 0, -1, 0),\n",
       "(0, 1, 0, 0, 0, 0, 0, -1, 0, -1),\n",
       "(0, 0, 1, 0, 0, 0, 0, 0, 0, -1),\n",
       "(0, 0, 0, 1, 0, 0, -1, -1, 0, 0),\n",
       "(0, 0, 0, 0, 1, 0, 1, -1, 0, -1),\n",
       "(0, 0, 0, 0, 0, 1, 0, 0, -1, 0)\n",
       "] <br> 2.<input type=checkbox> B=[\n",
       "(1, 0, 0, 0, 0, 0, 0, -1, 1, -3),\n",
       "(0, 1, 0, 0, 0, 0, 0, -1, 0, -1),\n",
       "(0, 0, 1, 0, 0, 0, 0, 0, 0, 0),\n",
       "(0, 0, 0, 1, 0, 0, 0, -1, 1, -1),\n",
       "(0, 0, 0, 0, 1, 0, 0, -1, 1, -1),\n",
       "(0, 0, 0, 0, 0, 1, 0, -1, 1, -2),\n",
       "(0, 0, 0, 0, 0, 0, 1, 0, 0, 0)\n",
       "] <br> 3.<input type=checkbox> B=[\n",
       "(1, 0, 0, 0, 0, 0, 0, -1, 0, 1),\n",
       "(0, 1, 0, 0, 0, 0, 0, 1, 0, -3),\n",
       "(0, 0, 1, 0, 0, 0, 0, 0, 0, 0),\n",
       "(0, 0, 0, 1, 0, 0, 0, 1, 0, -3),\n",
       "(0, 0, 0, 0, 1, 0, 0, -1, 0, 1),\n",
       "(0, 0, 0, 0, 0, 1, 0, 1, 0, -3),\n",
       "(0, 0, 0, 0, 0, 0, 1, 1, 0, -3),\n",
       "(0, 0, 0, 0, 0, 0, 0, 0, 1, -1)\n",
       "] <br> 4.<input type=checkbox> B=[\n",
       "(1, 0, 0, 0, 0, 0, 0, 0, -2, 0),\n",
       "(0, 1, 0, 0, 0, 0, 0, 0, -2, -1/2),\n",
       "(0, 0, 1, 0, 0, 0, 0, 0, -1, -1/2),\n",
       "(0, 0, 0, 1, 0, 0, 0, 0, -1, 0),\n",
       "(0, 0, 0, 0, 1, 0, 0, 0, -2, -1/2),\n",
       "(0, 0, 0, 0, 0, 1, 0, 0, -1, -1),\n",
       "(0, 0, 0, 0, 0, 0, 1, 0, -1, -1/2),\n",
       "(0, 0, 0, 0, 0, 0, 0, 1, -1, -1/2)\n",
       "]<br><br><b> <span style=\"color: #ff0000;\">Respuesta al apartado 2 </span></b><br><br> 1.<input type=checkbox> 4 <br> 2.<input type=checkbox> 3 <br> 3.<input type=checkbox> 2 <br> 4.<input type=checkbox> 1<br><br><b> <span style=\"color: #ff0000;\">Respuesta al apartado 3 </span></b><br><br> 1.<input type=checkbox> A=[\n",
       "(1, 0, 0, 0, 0, 2, -5/2, -2, 0, 2),\n",
       "(0, 1, 0, 0, 0, 0, -3/2, 1, 0, 0),\n",
       "(0, 0, 1, 0, 0, 0, -1, 0, 0, 1),\n",
       "(0, 0, 0, 1, 0, 2, -5/2, -1, 0, 1),\n",
       "(0, 0, 0, 0, 1, -1, 0, 1, 0, -1)\n",
       "] <br> 2.<input type=checkbox> A=[\n",
       "(1, 0, 0, 0, 0, 0, 0, -2, 1/2, 0),\n",
       "(0, 1, 0, 0, 0, 0, 0, -2, 0, 0),\n",
       "(0, 0, 1, 0, 0, 0, 0, -1, -3/2, 0),\n",
       "(0, 0, 0, 1, 0, 0, 0, -1, -1/2, 0),\n",
       "(0, 0, 0, 0, 1, 0, 0, -1, 0, 0),\n",
       "(0, 0, 0, 0, 0, 1, 0, -1, 0, 0),\n",
       "(0, 0, 0, 0, 0, 0, 1, 0, -3/2, 0),\n",
       "(0, 0, 0, 0, 0, 0, 0, 0, 0, 1)\n",
       "] <br> 3.<input type=checkbox> A=[\n",
       "(1, 0, 0, 0, 0, 0, -1, 3/2, -1, -2),\n",
       "(0, 1, 0, 0, 0, 0, 0, 3/2, -1, -2),\n",
       "(0, 0, 1, 0, 0, 0, 0, 1/2, -1, -1),\n",
       "(0, 0, 0, 1, 0, 0, -1, 3/2, -1, -1),\n",
       "(0, 0, 0, 0, 1, 0, -1, 5/2, 0, -3),\n",
       "(0, 0, 0, 0, 0, 1, 0, 0, 0, -1)\n",
       "] <br> 4.<input type=checkbox> A=[\n",
       "(1, 0, 0, 0, 0, 1, 0, 1/3, -2/3, -1/3),\n",
       "(0, 1, 0, 0, 0, -1, 0, 0, 0, -1),\n",
       "(0, 0, 1, 0, 0, -1, 0, 1/3, -2/3, -1/3),\n",
       "(0, 0, 0, 1, 0, 0, 0, -1/3, -1/3, -2/3),\n",
       "(0, 0, 0, 0, 1, -1, 0, 0, 0, 0),\n",
       "(0, 0, 0, 0, 0, 0, 1, 0, -1, 0)\n",
       "]<br><br><b> <span style=\"color: #ff0000;\">Respuesta al apartado 4 </span></b><br><br> 1.<input type=checkbox> 4 <br> 2.<input type=checkbox> 0 <br> 3.<input type=checkbox> 1 <br> 4.<input type=checkbox> 2<br><br><b> <span style=\"color: #ff0000;\">Respuesta al apartado 5 </span></b><br><br> 1.<input type=checkbox> 10 <br> 2.<input type=checkbox> 6 <br> 3.<input type=checkbox> 9 <br> 4.<input type=checkbox> 7<br><br><hr  align=center><b> <span style=\"color: #0000ff;\">EJERCICIO 2 </span></b><br> Considérese el juego Lights Out para un mallado <script type=\"math/tex\">5\\times 5</script>, y una situación inicial de bombillas encendidas \n",
       " <script type=\"math/tex\">{\\bf b}=(0, 0, 1, 1, 0, 1, 0, 0, 0, 1, 0, 0, 0, 0, 0, 1, 1, 1, 0, 1, 1, 1, 0, 0, 1).</script> \n",
       " Responder a las siguientes cuestiones:<ol><li>Encontrar una solución para el problema dado.</li><li>Indicar cuántas de entre las siguientes situaciones iniciales <script type=\"math/tex\">{\\bf b}</script>, expresadas como filas de \n",
       "la matriz, originan un problema sin solución: \n",
       " <script type=\"math/tex\">\\left(\\begin{array}{rrrrrrrrrrrrrrrrrrrrrrrrr}1,&0,&1,&0,&1,&1,&1,&0,&1,&1,&0,&0,&1,&0,&0,&1,&0,&0,&0,&0,&1,&0,&0,&1,&0,\\\\1,&1,&0,&0,&1,&1,&1,&1,&0,&1,&0,&1,&0,&1,&0,&1,&1,&1,&0,&1,&1,&1,&1,&0,&1,\\\\1,&0,&0,&0,&0,&1,&0,&1,&1,&0,&0,&1,&1,&0,&0,&1,&0,&1,&1,&0,&1,&0,&0,&1,&0,\\\\0,&0,&0,&0,&0,&0,&1,&1,&1,&0,&0,&0,&1,&0,&0,&0,&0,&1,&0,&1,&0,&0,&0,&1,&1,\\end{array}\\right)</script></li></ol>Marcar la respuesta correcta.<br><hr  align=center><b> <span style=\"color: #ff0000;\">Respuesta al apartado 1 </span></b><br><br> 1.<input type=checkbox> (0, 1, 1, 0, 1, 1, 1, 0, 0, 1, 1, 0, 0, 1, 0, 0, 0, 1, 1, 0, 0, 0, 0, 0, 0) <br> 2.<input type=checkbox> (0, 1, 0, 0, 0, 1, 1, 0, 1, 0, 1, 1, 0, 1, 0, 1, 1, 0, 0, 1, 0, 0, 0, 0, 0) <br> 3.<input type=checkbox> (1, 1, 0, 0, 0, 1, 0, 1, 0, 0, 1, 1, 0, 0, 0, 1, 1, 1, 0, 0, 0, 0, 1, 0, 0) <br> 4.<input type=checkbox> (0, 1, 0, 0, 1, 1, 1, 0, 1, 0, 1, 1, 1, 1, 1, 1, 1, 0, 0, 0, 0, 1, 1, 0, 0)<br><br><b> <span style=\"color: #ff0000;\">Respuesta al apartado 2 </span></b><br><br> 1.<input type=checkbox> 0 <br> 2.<input type=checkbox> 2 <br> 3.<input type=checkbox> 1 <br> 4.<input type=checkbox> 4<br><br><hr  align=center><center><span style=\"font-size: x-small;\"> Final del documento </span></center>"
      ],
      "text/plain": [
       "<center><h4>E.T.S.I.I. - GRADOS EN INGENIERÍA INFORMÁTICA</h4></center><center><h4>Álgebra Lineal y Numérica - TERCERA PRÁCTICA DE LABORATORIO</h4></center><hr  align=center><center>APELLIDOS, NOMBRE: <INPUT value= \"\",type=text size=70> <INPUT type=submit value=200-1267F><hr  align=center></center><hr  align=center><b> <span style=\"color: #0000ff;\">EJERCICIO 1 </span></b><br> Sea <script type=\"math/tex\">L</script> la variedad lineal definida por las ecuaciones implícitas <script type=\"math/tex; mode=display\">\\left(\\begin{array}{rrrrrrrrrr}2,&3,&2,&1,&3,&3,&2,&2,&1,&2,\\\\2,&3,&2,&1,&3,&3,&2,&2,&1,&2,\\\\2,&4,&3,&1,&4,&5,&3,&3,&1,&4,\\\\2,&3,&2,&1,&3,&3,&2,&2,&1,&2,\\end{array}\\right) {\\bf x}={\\bf 0}</script> y <script type=\"math/tex\">W</script> la variedad lineal generada por los vectores columnas de la matriz <script type=\"math/tex; mode=display\">\\left(\\begin{array}{rrrrrr}9,&8,&6,&9,&6,&6,\\\\3,&3,&2,&4,&2,&2,\\\\5,&4,&3,&5,&3,&3,\\\\5,&5,&3,&4,&3,&3,\\\\3,&4,&3,&5,&3,&3,\\\\4,&3,&3,&5,&3,&3,\\\\6,&5,&4,&5,&4,&4,\\\\6,&4,&4,&6,&4,&4,\\\\4,&3,&2,&3,&2,&2,\\\\4,&3,&3,&5,&3,&3,\\end{array}\\right)</script> \n",
       " Responder a las siguientes cuestiones:<ol><li>Identificar alguna base <script type=\"math/tex\">B</script> de la variedad <script type=\"math/tex\">L</script> de entre las propuestas en las respuestas tipo test.</li><li>Hallar la dimensión de una variedad <script type=\"math/tex\">\\overline{L}</script> complementaria a <script type=\"math/tex\">L</script>.</li><li>Identificar una matriz <script type=\"math/tex\">A</script> para que <script type=\"math/tex\">A{\\bf x}={\\bf 0}</script> sea un sistema de ecuaciones implícitas de <script type=\"math/tex\">W</script>\n",
       "de entre las propuestas en las respuestas tipo test.</li><li>Determinar la dimensión de <script type=\"math/tex\">L \\cap W</script>.</li><li>Determinar la dimensión de <script type=\"math/tex\">L+W</script>.</li></ol>Marcar la respuesta correcta.<br><hr  align=center><b> <span style=\"color: #ff0000;\">Respuesta al apartado 1 </span></b><br><br> 1.<input type=checkbox> B=[\n",
       "(1, 0, 0, 0, 0, 0, 0, 0, -1, 0),\n",
       "(0, 1, 0, 0, 0, 0, 0, -1, 0, -1),\n",
       "(0, 0, 1, 0, 0, 0, 0, 0, 0, -1),\n",
       "(0, 0, 0, 1, 0, 0, -1, -1, 0, 0),\n",
       "(0, 0, 0, 0, 1, 0, 1, -1, 0, -1),\n",
       "(0, 0, 0, 0, 0, 1, 0, 0, -1, 0)\n",
       "] <br> 2.<input type=checkbox> B=[\n",
       "(1, 0, 0, 0, 0, 0, 0, -1, 1, -3),\n",
       "(0, 1, 0, 0, 0, 0, 0, -1, 0, -1),\n",
       "(0, 0, 1, 0, 0, 0, 0, 0, 0, 0),\n",
       "(0, 0, 0, 1, 0, 0, 0, -1, 1, -1),\n",
       "(0, 0, 0, 0, 1, 0, 0, -1, 1, -1),\n",
       "(0, 0, 0, 0, 0, 1, 0, -1, 1, -2),\n",
       "(0, 0, 0, 0, 0, 0, 1, 0, 0, 0)\n",
       "] <br> 3.<input type=checkbox> B=[\n",
       "(1, 0, 0, 0, 0, 0, 0, -1, 0, 1),\n",
       "(0, 1, 0, 0, 0, 0, 0, 1, 0, -3),\n",
       "(0, 0, 1, 0, 0, 0, 0, 0, 0, 0),\n",
       "(0, 0, 0, 1, 0, 0, 0, 1, 0, -3),\n",
       "(0, 0, 0, 0, 1, 0, 0, -1, 0, 1),\n",
       "(0, 0, 0, 0, 0, 1, 0, 1, 0, -3),\n",
       "(0, 0, 0, 0, 0, 0, 1, 1, 0, -3),\n",
       "(0, 0, 0, 0, 0, 0, 0, 0, 1, -1)\n",
       "] <br> 4.<input type=checkbox> B=[\n",
       "(1, 0, 0, 0, 0, 0, 0, 0, -2, 0),\n",
       "(0, 1, 0, 0, 0, 0, 0, 0, -2, -1/2),\n",
       "(0, 0, 1, 0, 0, 0, 0, 0, -1, -1/2),\n",
       "(0, 0, 0, 1, 0, 0, 0, 0, -1, 0),\n",
       "(0, 0, 0, 0, 1, 0, 0, 0, -2, -1/2),\n",
       "(0, 0, 0, 0, 0, 1, 0, 0, -1, -1),\n",
       "(0, 0, 0, 0, 0, 0, 1, 0, -1, -1/2),\n",
       "(0, 0, 0, 0, 0, 0, 0, 1, -1, -1/2)\n",
       "]<br><br><b> <span style=\"color: #ff0000;\">Respuesta al apartado 2 </span></b><br><br> 1.<input type=checkbox> 4 <br> 2.<input type=checkbox> 3 <br> 3.<input type=checkbox> 2 <br> 4.<input type=checkbox> 1<br><br><b> <span style=\"color: #ff0000;\">Respuesta al apartado 3 </span></b><br><br> 1.<input type=checkbox> A=[\n",
       "(1, 0, 0, 0, 0, 2, -5/2, -2, 0, 2),\n",
       "(0, 1, 0, 0, 0, 0, -3/2, 1, 0, 0),\n",
       "(0, 0, 1, 0, 0, 0, -1, 0, 0, 1),\n",
       "(0, 0, 0, 1, 0, 2, -5/2, -1, 0, 1),\n",
       "(0, 0, 0, 0, 1, -1, 0, 1, 0, -1)\n",
       "] <br> 2.<input type=checkbox> A=[\n",
       "(1, 0, 0, 0, 0, 0, 0, -2, 1/2, 0),\n",
       "(0, 1, 0, 0, 0, 0, 0, -2, 0, 0),\n",
       "(0, 0, 1, 0, 0, 0, 0, -1, -3/2, 0),\n",
       "(0, 0, 0, 1, 0, 0, 0, -1, -1/2, 0),\n",
       "(0, 0, 0, 0, 1, 0, 0, -1, 0, 0),\n",
       "(0, 0, 0, 0, 0, 1, 0, -1, 0, 0),\n",
       "(0, 0, 0, 0, 0, 0, 1, 0, -3/2, 0),\n",
       "(0, 0, 0, 0, 0, 0, 0, 0, 0, 1)\n",
       "] <br> 3.<input type=checkbox> A=[\n",
       "(1, 0, 0, 0, 0, 0, -1, 3/2, -1, -2),\n",
       "(0, 1, 0, 0, 0, 0, 0, 3/2, -1, -2),\n",
       "(0, 0, 1, 0, 0, 0, 0, 1/2, -1, -1),\n",
       "(0, 0, 0, 1, 0, 0, -1, 3/2, -1, -1),\n",
       "(0, 0, 0, 0, 1, 0, -1, 5/2, 0, -3),\n",
       "(0, 0, 0, 0, 0, 1, 0, 0, 0, -1)\n",
       "] <br> 4.<input type=checkbox> A=[\n",
       "(1, 0, 0, 0, 0, 1, 0, 1/3, -2/3, -1/3),\n",
       "(0, 1, 0, 0, 0, -1, 0, 0, 0, -1),\n",
       "(0, 0, 1, 0, 0, -1, 0, 1/3, -2/3, -1/3),\n",
       "(0, 0, 0, 1, 0, 0, 0, -1/3, -1/3, -2/3),\n",
       "(0, 0, 0, 0, 1, -1, 0, 0, 0, 0),\n",
       "(0, 0, 0, 0, 0, 0, 1, 0, -1, 0)\n",
       "]<br><br><b> <span style=\"color: #ff0000;\">Respuesta al apartado 4 </span></b><br><br> 1.<input type=checkbox> 4 <br> 2.<input type=checkbox> 0 <br> 3.<input type=checkbox> 1 <br> 4.<input type=checkbox> 2<br><br><b> <span style=\"color: #ff0000;\">Respuesta al apartado 5 </span></b><br><br> 1.<input type=checkbox> 10 <br> 2.<input type=checkbox> 6 <br> 3.<input type=checkbox> 9 <br> 4.<input type=checkbox> 7<br><br><hr  align=center><b> <span style=\"color: #0000ff;\">EJERCICIO 2 </span></b><br> Considérese el juego Lights Out para un mallado <script type=\"math/tex\">5\\times 5</script>, y una situación inicial de bombillas encendidas \n",
       " <script type=\"math/tex\">{\\bf b}=(0, 0, 1, 1, 0, 1, 0, 0, 0, 1, 0, 0, 0, 0, 0, 1, 1, 1, 0, 1, 1, 1, 0, 0, 1).</script> \n",
       " Responder a las siguientes cuestiones:<ol><li>Encontrar una solución para el problema dado.</li><li>Indicar cuántas de entre las siguientes situaciones iniciales <script type=\"math/tex\">{\\bf b}</script>, expresadas como filas de \n",
       "la matriz, originan un problema sin solución: \n",
       " <script type=\"math/tex\">\\left(\\begin{array}{rrrrrrrrrrrrrrrrrrrrrrrrr}1,&0,&1,&0,&1,&1,&1,&0,&1,&1,&0,&0,&1,&0,&0,&1,&0,&0,&0,&0,&1,&0,&0,&1,&0,\\\\1,&1,&0,&0,&1,&1,&1,&1,&0,&1,&0,&1,&0,&1,&0,&1,&1,&1,&0,&1,&1,&1,&1,&0,&1,\\\\1,&0,&0,&0,&0,&1,&0,&1,&1,&0,&0,&1,&1,&0,&0,&1,&0,&1,&1,&0,&1,&0,&0,&1,&0,\\\\0,&0,&0,&0,&0,&0,&1,&1,&1,&0,&0,&0,&1,&0,&0,&0,&0,&1,&0,&1,&0,&0,&0,&1,&1,\\end{array}\\right)</script></li></ol>Marcar la respuesta correcta.<br><hr  align=center><b> <span style=\"color: #ff0000;\">Respuesta al apartado 1 </span></b><br><br> 1.<input type=checkbox> (0, 1, 1, 0, 1, 1, 1, 0, 0, 1, 1, 0, 0, 1, 0, 0, 0, 1, 1, 0, 0, 0, 0, 0, 0) <br> 2.<input type=checkbox> (0, 1, 0, 0, 0, 1, 1, 0, 1, 0, 1, 1, 0, 1, 0, 1, 1, 0, 0, 1, 0, 0, 0, 0, 0) <br> 3.<input type=checkbox> (1, 1, 0, 0, 0, 1, 0, 1, 0, 0, 1, 1, 0, 0, 0, 1, 1, 1, 0, 0, 0, 0, 1, 0, 0) <br> 4.<input type=checkbox> (0, 1, 0, 0, 1, 1, 1, 0, 1, 0, 1, 1, 1, 1, 1, 1, 1, 0, 0, 0, 0, 1, 1, 0, 0)<br><br><b> <span style=\"color: #ff0000;\">Respuesta al apartado 2 </span></b><br><br> 1.<input type=checkbox> 0 <br> 2.<input type=checkbox> 2 <br> 3.<input type=checkbox> 1 <br> 4.<input type=checkbox> 4<br><br><hr  align=center><center><span style=\"font-size: x-small;\"> Final del documento </span></center>"
      ]
     },
     "metadata": {},
     "output_type": "display_data"
    }
   ],
   "source": [
    "NUMERO_ALUMNO = 200 # Cambiar este número por tu número\n",
    "\n",
    "NOMBRE_FICHERO_EXAMEN='CODE/ALN_L3_t.htl'\n",
    "load('CODE/show_html.sage')\n",
    "load('CODE/codigo_examinar_html.sage')\n",
    "\n",
    "if NUMERO_ALUMNO > 0:\n",
    "    lector_examenes(NOMBRE_FICHERO_EXAMEN, NUMERO_ALUMNO, False)"
   ]
  },
  {
   "cell_type": "code",
   "execution_count": null,
   "metadata": {},
   "outputs": [],
   "source": [
    "A = matrix_from_copypaste(QQ, 4, 10, 'pegar_aqui_los_coeficientes' )  ## una matriz de orden 4x10 en QQ\n",
    "show(A)"
   ]
  },
  {
   "cell_type": "code",
   "execution_count": null,
   "metadata": {},
   "outputs": [],
   "source": [
    "b = vector_from_copypaste(QQ, 'pegar_aqui_los_coeficientes')  ## un vector en QQ\n",
    "show(b)"
   ]
  },
  {
   "cell_type": "code",
   "execution_count": null,
   "metadata": {},
   "outputs": [],
   "source": []
  }
 ],
 "metadata": {
  "kernelspec": {
   "display_name": "SageMath 9.2",
   "language": "sage",
   "name": "sagemath"
  },
  "language": "python"
 },
 "nbformat": 4,
 "nbformat_minor": 2
}
