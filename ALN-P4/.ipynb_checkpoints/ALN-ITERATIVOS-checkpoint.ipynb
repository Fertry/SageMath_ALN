{
 "cells": [
  {
   "cell_type": "markdown",
   "metadata": {},
   "source": [
    "E.T.S. Ingeniería Informática - Universidad de Sevilla - \n",
    "Grados en Ingeniería Informática - Álgebra Lineal y Numérica.\n",
    "<hr>"
   ]
  },
  {
   "cell_type": "markdown",
   "metadata": {},
   "source": [
    "# Resolución de sistemas lineales mediante métodos iterativos"
   ]
  },
  {
   "cell_type": "markdown",
   "metadata": {},
   "source": [
    "En esta sesión nos marcamos los siguientes objetivos:\n",
    "\n",
    "* Plantear [métodos iterativos de resolución de sistemas lineales del tipo punto fijo](#Métodos-de-punto-fijo.) y caracterizar la convergencia de los mismos.\n",
    "* Conocer los métodos [de Jacobi](#Método-de-Jacobi.), [de Gauss-Seidel](#Método-de-Gauss-Seidel.) y [SOR](#Método-S.O.R.).\n",
    "\n",
    "La práctica finaliza con la realización por parte del alumnado de un [cuestionario personalizado](#CUESTIONARIO-PARA-EL-ALUMNADO)."
   ]
  },
  {
   "cell_type": "markdown",
   "metadata": {},
   "source": [
    "## Introducción\n",
    "\n",
    "Sean $b$ y $c$  dos números. Consideramos la sucesión de números $(x_n)_{n \\ge 0}$ definida por la elección de un valor inicial $x_0$ y la relación:\n",
    "para cualquier $n \\ge 0$, $x_{n+1}=b x_n +c$.\n",
    "\n",
    "Veamos un ejemplo: "
   ]
  },
  {
   "cell_type": "code",
   "execution_count": 1,
   "metadata": {
    "scrolled": false
   },
   "outputs": [
    {
     "name": "stdout",
     "output_type": "stream",
     "text": [
      "x_ 0 = 1\n",
      "x_ 1 = 5\n",
      "x_ 2 = 13\n",
      "x_ 3 = 29\n",
      "x_ 4 = 61\n",
      "x_ 5 = 125\n",
      "x_ 6 = 253\n",
      "x_ 7 = 509\n",
      "x_ 8 = 1021\n",
      "x_ 9 = 2045\n",
      "x_ 10 = 4093\n"
     ]
    }
   ],
   "source": [
    "b = 2\n",
    "c = 3\n",
    "x = 1 # valor inicial\n",
    "for i in range(11):    \n",
    "    print(\"x_\",i,\"=\", x)\n",
    "    x = b *x + c"
   ]
  },
  {
   "cell_type": "markdown",
   "metadata": {},
   "source": [
    "En este caso, la sucesión parece tender al infinito.\n",
    "\n",
    "Probamos con otro ejemplo:"
   ]
  },
  {
   "cell_type": "code",
   "execution_count": 2,
   "metadata": {
    "scrolled": false
   },
   "outputs": [
    {
     "name": "stdout",
     "output_type": "stream",
     "text": [
      "x_ 0 = 1\n",
      "x_ 1 = 3.50000000000000\n",
      "x_ 2 = 4.75000000000000\n",
      "x_ 3 = 5.37500000000000\n",
      "x_ 4 = 5.68750000000000\n",
      "x_ 5 = 5.84375000000000\n",
      "x_ 6 = 5.92187500000000\n",
      "x_ 7 = 5.96093750000000\n",
      "x_ 8 = 5.98046875000000\n",
      "x_ 9 = 5.99023437500000\n",
      "x_ 10 = 5.99511718750000\n"
     ]
    }
   ],
   "source": [
    "b = 0.5\n",
    "c = 3\n",
    "x = 1 # valor inicial\n",
    "for i in range(11):    \n",
    "    print(\"x_\",i,\"=\", x)\n",
    "    x = b *x + c"
   ]
  },
  {
   "cell_type": "markdown",
   "metadata": {},
   "source": [
    "En este caso, la sucesión parece claramente tender a 6. Después de 10 iteraciones, obtenemos un término que aproxima 6 con un error inferior a 0.005.\n",
    "\n",
    "*(¿Por qué, en este caso,la sucesión converge, y no en el anterior?\n",
    "¿Por qué el límite es 6? ¿Tiene alguna influencia el valor inicial?)*\n",
    "\n",
    "Otro ejemplo más:"
   ]
  },
  {
   "cell_type": "code",
   "execution_count": 3,
   "metadata": {
    "scrolled": false
   },
   "outputs": [
    {
     "name": "stdout",
     "output_type": "stream",
     "text": [
      "x_ 0 = 1\n",
      "x_ 1 = 36.1000000000000\n",
      "x_ 2 = 39.6100000000000\n",
      "x_ 3 = 39.9610000000000\n",
      "x_ 4 = 39.9961000000000\n",
      "x_ 5 = 39.9996100000000\n",
      "x_ 6 = 39.9999610000000\n",
      "x_ 7 = 39.9999961000000\n",
      "x_ 8 = 39.9999996100000\n",
      "x_ 9 = 39.9999999610000\n",
      "x_ 10 = 39.9999999961000\n"
     ]
    }
   ],
   "source": [
    "b = 0.1\n",
    "c = 36\n",
    "x = 1 # valor inicial\n",
    "for i in range(11):    \n",
    "    print(\"x_\",i,\"=\", x)\n",
    "    x = b *x + c"
   ]
  },
  {
   "cell_type": "markdown",
   "metadata": {},
   "source": [
    "En este caso parece claramente que la sucesión converge hacia 40. Además, la convergencia parece ser mucho más rápida. \n",
    "\n",
    "*(¿Por qué $40$?¿Qué puede controlar la velocidad de convergencia?)*"
   ]
  },
  {
   "cell_type": "markdown",
   "metadata": {},
   "source": [
    "Se puede demostrar elementalmente los resultados siguientes sobre estas sucesiones.\n",
    "> Sean $b$ y $c$ dos números y sea $(x_n)_{n \\ge 0}$ una sucesión que cumple: $$\\forall n \\ge 0,\\quad  x_{n+1}= b x_n +c.$$ Entonces:\n",
    "* Si $|b| < 1$, la sucesión $(x_n)_{n \\ge 0}$ siempre converge, para cualquiera elección de valor inicial $x_0$ y del término independiente $c$.  En este caso, el límite es la solución de la ecuación $x = b x + c$.\n",
    "* Si $|b| \\ge 1$, la sucesión casi nunca converge, excepto quizás para algunos valores iniciales excepcionales $x_0$ o terminos independientes excepcionales $c$.\n",
    "* Además, en el caso de convergencia, cuanto menor es $|b|$, mayor es la velocidad de convergencia. Más precisamente, si $\\bar{x}$ es la solución de la ecuación $x=bx+c$, entonces el error $||x_n-\\bar{x}||$ (cometido al aproximar $\\bar{x}$ con $x_n$) tiende a ser multiplicado por $|b|$ a cada paso, para $n$ grande. De ahí la influencia del tamaño de $|b|$."
   ]
  },
  {
   "cell_type": "markdown",
   "metadata": {},
   "source": [
    "#### Sucesiones de vectores.\n",
    "\n",
    "Generalizamos el estudio anterior, cambiando las sucesiónes de números $(x_n)_{n \\ge 0}$ por sucesiones de matrices-columnas $(X_n)_{n \\ge 0}$, y cambiamos las relaciones $x_{n+1} = b x_n + c$ (con $b$, $c$ números) por relaciones:\n",
    "$$X_{n+1} = B X_n + C,$$\n",
    "con $B$ matriz cuadrada y $C$ matriz-columna. Veamos algunos ejemplos."
   ]
  },
  {
   "cell_type": "code",
   "execution_count": 4,
   "metadata": {
    "scrolled": false
   },
   "outputs": [
    {
     "data": {
      "text/html": [
       "<html><script type=\"math/tex; mode=display\">\\newcommand{\\Bold}[1]{\\mathbf{#1}}\\left(\\begin{array}{rr}\n",
       "1.0 & 1.0 \\\\\n",
       "1.0 & 0.0\n",
       "\\end{array}\\right)</script></html>"
      ],
      "text/latex": [
       "\\begin{math}\n",
       "\\newcommand{\\Bold}[1]{\\mathbf{#1}}\\left(\\begin{array}{rr}\n",
       "1.0 & 1.0 \\\\\n",
       "1.0 & 0.0\n",
       "\\end{array}\\right)\n",
       "\\end{math}"
      ],
      "text/plain": [
       "[1.0 1.0]\n",
       "[1.0 0.0]"
      ]
     },
     "metadata": {},
     "output_type": "display_data"
    },
    {
     "data": {
      "text/html": [
       "<html><script type=\"math/tex; mode=display\">\\newcommand{\\Bold}[1]{\\mathbf{#1}}\\left(0.0,\\,1.0\\right)</script></html>"
      ],
      "text/latex": [
       "\\begin{math}\n",
       "\\newcommand{\\Bold}[1]{\\mathbf{#1}}\\left(0.0,\\,1.0\\right)\n",
       "\\end{math}"
      ],
      "text/plain": [
       "(0.0, 1.0)"
      ]
     },
     "metadata": {},
     "output_type": "display_data"
    },
    {
     "name": "stdout",
     "output_type": "stream",
     "text": [
      "x_ 1 = (0.0, 1.0)\n",
      "x_ 2 = (1.0, 1.0)\n",
      "x_ 3 = (2.0, 2.0)\n",
      "x_ 4 = (4.0, 3.0)\n",
      "x_ 5 = (7.0, 5.0)\n",
      "x_ 6 = (12.0, 8.0)\n",
      "x_ 7 = (20.0, 13.0)\n",
      "x_ 8 = (33.0, 21.0)\n",
      "x_ 9 = (54.0, 34.0)\n",
      "x_ 10 = (88.0, 55.0)\n"
     ]
    }
   ],
   "source": [
    "B = matrix(RDF, [[1,1],[1,0]])\n",
    "C = vector(RDF,[0,1])\n",
    "show(B);show(C)\n",
    "\n",
    "X = vector(RDF,[0,0])\n",
    "for i in range(10):\n",
    "    X = B*X + C\n",
    "    print(\"x_\",i+1,\"=\", X)"
   ]
  },
  {
   "cell_type": "markdown",
   "metadata": {},
   "source": [
    "Esta sucesión parece no converger.\n",
    "Nuevo ejemplo:"
   ]
  },
  {
   "cell_type": "code",
   "execution_count": 5,
   "metadata": {
    "scrolled": false
   },
   "outputs": [
    {
     "data": {
      "text/html": [
       "<html><script type=\"math/tex; mode=display\">\\newcommand{\\Bold}[1]{\\mathbf{#1}}\\left(\\begin{array}{rr}\n",
       "0.5 & 0.15 \\\\\n",
       "0.75 & 0.05\n",
       "\\end{array}\\right)</script></html>"
      ],
      "text/latex": [
       "\\begin{math}\n",
       "\\newcommand{\\Bold}[1]{\\mathbf{#1}}\\left(\\begin{array}{rr}\n",
       "0.5 & 0.15 \\\\\n",
       "0.75 & 0.05\n",
       "\\end{array}\\right)\n",
       "\\end{math}"
      ],
      "text/plain": [
       "[ 0.5 0.15]\n",
       "[0.75 0.05]"
      ]
     },
     "metadata": {},
     "output_type": "display_data"
    },
    {
     "data": {
      "text/html": [
       "<html><script type=\"math/tex; mode=display\">\\newcommand{\\Bold}[1]{\\mathbf{#1}}\\left(0.0,\\,1.0\\right)</script></html>"
      ],
      "text/latex": [
       "\\begin{math}\n",
       "\\newcommand{\\Bold}[1]{\\mathbf{#1}}\\left(0.0,\\,1.0\\right)\n",
       "\\end{math}"
      ],
      "text/plain": [
       "(0.0, 1.0)"
      ]
     },
     "metadata": {},
     "output_type": "display_data"
    },
    {
     "name": "stdout",
     "output_type": "stream",
     "text": [
      "x_ 1 = (0.0, 1.0)\n",
      "x_ 2 = (0.15, 1.05)\n",
      "x_ 3 = (0.23249999999999998, 1.165)\n",
      "x_ 4 = (0.291, 1.232625)\n",
      "x_ 5 = (0.33039375, 1.27988125)\n",
      "x_ 6 = (0.3571790625, 1.311789375)\n",
      "x_ 7 = (0.3753579375, 1.333473765625)\n",
      "x_ 8 = (0.38770003359375, 1.3481921414062499)\n",
      "x_ 9 = (0.39607883800781246, 1.358184632265625)\n",
      "x_ 10 = (0.40176711384374997, 1.3649683601191407)\n",
      "x_ 11 = (0.4056288109397461, 1.3695737533887695)\n",
      "x_ 12 = (0.40825046847818847, 1.372700295874248)\n",
      "x_ 13 = (0.41003027862023145, 1.3748228661523538)\n",
      "x_ 14 = (0.41123856923296875, 1.3762638522727912)\n",
      "x_ 15 = (0.4120588624574031, 1.3772421195383662)\n",
      "x_ 16 = (0.4126157491594564, 1.3779062528199706)\n",
      "x_ 17 = (0.4129938125027238, 1.3783571245105908)\n",
      "x_ 18 = (0.41325047492795053, 1.3786632156025724)\n",
      "x_ 19 = (0.41342471980436113, 1.3788710169760916)\n",
      "x_ 20 = (0.41354301244859426, 1.3790120907020755)\n"
     ]
    }
   ],
   "source": [
    "B = matrix(RDF, [[0.5,0.15],[0.75,0.05]])\n",
    "C = vector(RDF,[0,1])\n",
    "show(B);show(C)\n",
    "\n",
    "X = vector(RDF,[0,0]) # comenzamos por el vector nulo.\n",
    "for i in range(20):\n",
    "    X = B*X + C\n",
    "    print(\"x_\",i+1,\"=\", X)"
   ]
  },
  {
   "cell_type": "markdown",
   "metadata": {},
   "source": [
    "Esta sucesión parece converger hacia un vector cercano a $(0.41, 1.38)$.\n",
    "\n",
    "Estos ejemplos nos llevan a las preguntas siguientes:\n",
    "1. ¿Qué determina esta vez la convergencia o la no convergencia de tal sucesión, y, en caso de convergencia, la velocidad de convergencia?\n",
    "2. ¿Cómo se determina el vector límite?\n",
    "\n",
    "La respuesta a la segunda de estas preguntas es sencilla: si $$\\forall n, \\quad X_{n+1} = B X_n + C$$ y, además, la sucesión de término general $X_n$ converge, con límite $\\bar{X}$, entonces, \"pasando al límite\", se debe tener $$\\bar{X}=B \\bar{X} + C.$$ El límite debe ser solución de la ecuación $X = B X + C$. \n",
    "\n",
    "Comprobamoslo en el ejemplo anterior. Para esto, escribimos:\n",
    "\\begin{align*}X = BX + C &\\Leftrightarrow& X - BX = C\\\\ &\\Leftrightarrow& (I-B)X = C \\end{align*}\n",
    "siendo $I$ la matriz identidad del mismo orden que $B$. Se trata de un sistema lineal de ecuaciones con matriz de coeficientes dada por $(I-B)$ y vector de términos independientes dado por $C$."
   ]
  },
  {
   "cell_type": "code",
   "execution_count": 6,
   "metadata": {
    "scrolled": false
   },
   "outputs": [
    {
     "data": {
      "text/plain": [
       "True"
      ]
     },
     "execution_count": 6,
     "metadata": {},
     "output_type": "execute_result"
    }
   ],
   "source": [
    "I = identity_matrix(QQ, 2, 2)\n",
    "# Comprobamos que la matriz de los coeficientes del sistema es regular, \n",
    "# de manera que el sistema tiene una única solución.\n",
    "(I-B).is_invertible()"
   ]
  },
  {
   "cell_type": "code",
   "execution_count": 7,
   "metadata": {
    "scrolled": false
   },
   "outputs": [
    {
     "data": {
      "text/plain": [
       "(0.4137931034482758, 1.3793103448275863)"
      ]
     },
     "execution_count": 7,
     "metadata": {},
     "output_type": "execute_result"
    }
   ],
   "source": [
    "(I-B).solve_right(C)  # hallamos una solución del sistema"
   ]
  },
  {
   "cell_type": "markdown",
   "metadata": {},
   "source": [
    "Adivinamos que la respuesta a la primera pregunta es: que la sucesión converge cuando la matriz $B$ es \"pequeña\". Pero resulta mucho más lioso dar un criterio preciso. queda así:\n",
    "\n",
    "> * un **autovalor** (\"eigenvalue\" en inglés) de una matriz cuadrada $B$ es un número $\\lambda$ tal que el sistema de ecuaciones $(B-\\lambda I)X=0$ tenga soluciones no triviales (llamadas **autovectores**); es decir, tal que la matriz $B-\\lambda I$ sea singular (tiene determinante nulo).\n",
    "* Toda matriz $B$ tiene autovalores (puede no tener autovalores reales, pero siempre tiene autovalores complejos). El **radio espectral** $\\rho$ de $B$ es el mayor valor absoluto de sus autovalores (autovalores imaginarios incluidos).\n",
    "* Si $B$ tiene radio espectral $<1$ entonces cualquiera sucesión $(X_n)_{n\\ge 0}$ que cumple una relación  $\\forall n, \\quad X_{n+1} = B X_n + C$ converge hacia la única solución $\\bar{X}$ de la ecuación $X = B X + C$. Además, en este caso, cuanto menor es el radio espectral, más rápida es la convergencia. En este caso decimos que *el método converge*.\n",
    "* Si, al contrario, $B$ tiene radio  espectral $ \\ge 1$, entonces para casi todas las elecciones de valor incial $X_0$ y del termino constante $C$, la sucesión definida por $\\forall n, \\quad X_{n+1} = B X_n + C$ resulta diverge.\n",
    "* En general (excepto para matrices $B$ excepcionales), el error $||X_n- \\bar{X}||$ (cometido al aproximar $\\bar{X}$ por $X_n$) tiende a ser multiplicado por $\\rho$ a cada paso. Por esto disminuye si $\\rho <1$ y aumenta si $\\rho > 1$. En particular: *cuanto más pequeño es el radio espectral de $B$, más rápida será la convergencia* de las sucesiones $(X_n)_{n \\ge 0}$ que cumplen $\\forall n, \\quad X_{n+1} = B X_n + C$.\n",
    "\n",
    "A continuación, consideramos los dos ejemplos anteriores de matrices $B$, calculando en cada caso los autovalores, y el radio espectral."
   ]
  },
  {
   "cell_type": "code",
   "execution_count": 8,
   "metadata": {
    "scrolled": false
   },
   "outputs": [
    {
     "data": {
      "text/html": [
       "<html><script type=\"math/tex; mode=display\">\\newcommand{\\Bold}[1]{\\mathbf{#1}}\\left(\\begin{array}{rr}\n",
       "0.5 & 0.15 \\\\\n",
       "0.75 & 0.05\n",
       "\\end{array}\\right)</script></html>"
      ],
      "text/latex": [
       "\\begin{math}\n",
       "\\newcommand{\\Bold}[1]{\\mathbf{#1}}\\left(\\begin{array}{rr}\n",
       "0.5 & 0.15 \\\\\n",
       "0.75 & 0.05\n",
       "\\end{array}\\right)\n",
       "\\end{math}"
      ],
      "text/plain": [
       "[ 0.5 0.15]\n",
       "[0.75 0.05]"
      ]
     },
     "metadata": {},
     "output_type": "display_data"
    },
    {
     "data": {
      "text/html": [
       "<html><script type=\"math/tex; mode=display\">\\newcommand{\\Bold}[1]{\\mathbf{#1}}\\left[0.6788873605350878, -0.1288873605350878\\right]</script></html>"
      ],
      "text/latex": [
       "\\begin{math}\n",
       "\\newcommand{\\Bold}[1]{\\mathbf{#1}}\\left[0.6788873605350878, -0.1288873605350878\\right]\n",
       "\\end{math}"
      ],
      "text/plain": [
       "[0.6788873605350878, -0.1288873605350878]"
      ]
     },
     "metadata": {},
     "output_type": "display_data"
    }
   ],
   "source": [
    "B = matrix(RDF, [[0.5,0.15],[0.75,0.05]])  # para el cálculo de autovalores combiene usar el dominio numérico dado por RDF\n",
    "show(B)\n",
    "# todos los autovalores:\n",
    "show(B.eigenvalues())"
   ]
  },
  {
   "cell_type": "markdown",
   "metadata": {},
   "source": [
    "Vemos que el radio espectral de $B$ es aproximadamante 0.67. Es menor que $1$: es por esto que las sucesiones que cumplen:\n",
    "$$\\forall n, \\quad X_{n+1} = B X_n + C$$\n",
    "convergen todas."
   ]
  },
  {
   "cell_type": "code",
   "execution_count": 9,
   "metadata": {
    "scrolled": false
   },
   "outputs": [
    {
     "data": {
      "text/html": [
       "<html><script type=\"math/tex; mode=display\">\\newcommand{\\Bold}[1]{\\mathbf{#1}}\\left(\\begin{array}{rr}\n",
       "1.0 & 1.0 \\\\\n",
       "1.0 & 0.0\n",
       "\\end{array}\\right)</script></html>"
      ],
      "text/latex": [
       "\\begin{math}\n",
       "\\newcommand{\\Bold}[1]{\\mathbf{#1}}\\left(\\begin{array}{rr}\n",
       "1.0 & 1.0 \\\\\n",
       "1.0 & 0.0\n",
       "\\end{array}\\right)\n",
       "\\end{math}"
      ],
      "text/plain": [
       "[1.0 1.0]\n",
       "[1.0 0.0]"
      ]
     },
     "metadata": {},
     "output_type": "display_data"
    },
    {
     "data": {
      "text/html": [
       "<html><script type=\"math/tex; mode=display\">\\newcommand{\\Bold}[1]{\\mathbf{#1}}\\left[1.618033988749895, -0.6180339887498948\\right]</script></html>"
      ],
      "text/latex": [
       "\\begin{math}\n",
       "\\newcommand{\\Bold}[1]{\\mathbf{#1}}\\left[1.618033988749895, -0.6180339887498948\\right]\n",
       "\\end{math}"
      ],
      "text/plain": [
       "[1.618033988749895, -0.6180339887498948]"
      ]
     },
     "metadata": {},
     "output_type": "display_data"
    }
   ],
   "source": [
    "B = matrix(RDF, [[1,1],[1,0]])\n",
    "show(B)\n",
    "# todos los autovalores\n",
    "show(B.eigenvalues())"
   ]
  },
  {
   "cell_type": "markdown",
   "metadata": {},
   "source": [
    "En este caso, el radio espectral de $B$ es aproximadamente 1.618, es $\\geq 1$. Por esto las sucesiones que cumplen\n",
    "$$\\forall n, \\quad X_{n+1} = B X_n + C$$\n",
    "son casi todas divergentes."
   ]
  },
  {
   "cell_type": "markdown",
   "metadata": {},
   "source": [
    "## Métodos de punto fijo.\n",
    "Cuando una sucesión de columnas $X_n$ cumple una relación\n",
    "$$\\forall n, \\quad X_{n+1} = B X_n +C$$\n",
    "y converge, los vectores $X_n$ son aproximaciones del límite. Este límite es solución de la ecuación $X = BX + C$.\n",
    "\n",
    "\n",
    "Ahora consideramos el problema al revés: empezamos con una ecuación $X=BX + C$ con solución única, que queremos resolver. Elegimos una aproximación inicial $X_0$ de la solución y definimos $X_1$, $X_2 \\ldots$ mediante la relación $$\\forall n \\ge 0,\\quad X_{n+1} = B X_n + C.$$\n",
    "\n",
    "Si $B$ tiene radio espectral $< 1 $, entonces la sucesión de los $X_n$ converge a la solución. Esta sucesión \"resuelve\" la ecuación, en el sentido de proporcionar aproximaciones arbitrariamente buenas de la solución (cuanta más precisión necesitemos, más terminos calcularemos)."
   ]
  },
  {
   "cell_type": "markdown",
   "metadata": {},
   "source": [
    "#### Ejemplo\n",
    "\n",
    "Intentamos resolver de esta manera la ecuación $X = B X + C$ con:\n",
    "$$B=\\begin{bmatrix} 1 & -1/3 \\\\ 3/4 & 0\\end{bmatrix},\\qquad \n",
    "C=\\begin{bmatrix} 1/3 \\\\ 1/4 \\end{bmatrix}$$"
   ]
  },
  {
   "cell_type": "code",
   "execution_count": 10,
   "metadata": {
    "scrolled": true
   },
   "outputs": [
    {
     "data": {
      "text/html": [
       "<html><script type=\"math/tex; mode=display\">\\newcommand{\\Bold}[1]{\\mathbf{#1}}\\left(\\begin{array}{rr}\n",
       "1.0 & -0.3333333333333333 \\\\\n",
       "0.75 & 0.0\n",
       "\\end{array}\\right)</script></html>"
      ],
      "text/latex": [
       "\\begin{math}\n",
       "\\newcommand{\\Bold}[1]{\\mathbf{#1}}\\left(\\begin{array}{rr}\n",
       "1.0 & -0.3333333333333333 \\\\\n",
       "0.75 & 0.0\n",
       "\\end{array}\\right)\n",
       "\\end{math}"
      ],
      "text/plain": [
       "[                1.0 -0.3333333333333333]\n",
       "[               0.75                 0.0]"
      ]
     },
     "metadata": {},
     "output_type": "display_data"
    },
    {
     "data": {
      "text/html": [
       "<html><script type=\"math/tex; mode=display\">\\newcommand{\\Bold}[1]{\\mathbf{#1}}\\left(0.3333333333333333,\\,0.25\\right)</script></html>"
      ],
      "text/latex": [
       "\\begin{math}\n",
       "\\newcommand{\\Bold}[1]{\\mathbf{#1}}\\left(0.3333333333333333,\\,0.25\\right)\n",
       "\\end{math}"
      ],
      "text/plain": [
       "(0.3333333333333333, 0.25)"
      ]
     },
     "metadata": {},
     "output_type": "display_data"
    },
    {
     "name": "stdout",
     "output_type": "stream",
     "text": [
      "x_ 1 = (0.3333333333333333, 0.25)\n",
      "x_ 2 = (0.5833333333333333, 0.5)\n",
      "x_ 3 = (0.75, 0.6875)\n",
      "x_ 4 = (0.8541666666666667, 0.8125)\n",
      "x_ 5 = (0.9166666666666667, 0.890625)\n",
      "x_ 6 = (0.953125, 0.9375)\n",
      "x_ 7 = (0.9739583333333333, 0.96484375)\n",
      "x_ 8 = (0.9856770833333333, 0.98046875)\n",
      "x_ 9 = (0.9921875, 0.9892578125)\n",
      "x_ 10 = (0.9957682291666667, 0.994140625)\n",
      "x_ 11 = (0.9977213541666667, 0.996826171875)\n",
      "x_ 12 = (0.998779296875, 0.998291015625)\n",
      "x_ 13 = (0.9993489583333333, 0.99908447265625)\n",
      "x_ 14 = (0.9996541341145833, 0.99951171875)\n",
      "x_ 15 = (0.99981689453125, 0.9997406005859375)\n",
      "x_ 16 = (0.9999033610026042, 0.9998626708984375)\n",
      "x_ 17 = (0.9999491373697917, 0.9999275207519531)\n",
      "x_ 18 = (0.9999732971191406, 0.9999618530273438)\n",
      "x_ 19 = (0.9999860127766926, 0.9999799728393555)\n",
      "x_ 20 = (0.9999926884969075, 0.9999895095825195)\n",
      "x_ 21 = (0.9999961853027344, 0.9999945163726807)\n"
     ]
    }
   ],
   "source": [
    "B = matrix(RDF, [[1, -1/3], [3/4, 0]])\n",
    "C = vector(RDF, [1/3, 1/4])\n",
    "show(B);show(C)\n",
    "X = vector(RDF, [0,0])\n",
    "for i in range(21):\n",
    "    X = B*X + C\n",
    "    print(\"x_\",i+1,\"=\", X)"
   ]
  },
  {
   "cell_type": "markdown",
   "metadata": {},
   "source": [
    "La sucesión parece converger hacia $(1,1)$. Comprobamos que es solución de la ecuación."
   ]
  },
  {
   "cell_type": "code",
   "execution_count": 11,
   "metadata": {
    "scrolled": false
   },
   "outputs": [
    {
     "data": {
      "text/html": [
       "<html><script type=\"math/tex; mode=display\">\\newcommand{\\Bold}[1]{\\mathbf{#1}}\\left(1.0,\\,1.0\\right)</script></html>"
      ],
      "text/latex": [
       "\\begin{math}\n",
       "\\newcommand{\\Bold}[1]{\\mathbf{#1}}\\left(1.0,\\,1.0\\right)\n",
       "\\end{math}"
      ],
      "text/plain": [
       "(1.0, 1.0)"
      ]
     },
     "metadata": {},
     "output_type": "display_data"
    }
   ],
   "source": [
    "S = vector([1,1])\n",
    "show(B*S+C) # debe ser igual a S"
   ]
  },
  {
   "cell_type": "markdown",
   "metadata": {},
   "source": [
    "El hecho de que haya convergencia sugiere que el radio espectral de B es $<1$. Lo comprobamos:"
   ]
  },
  {
   "cell_type": "code",
   "execution_count": 12,
   "metadata": {
    "scrolled": false
   },
   "outputs": [
    {
     "data": {
      "text/plain": [
       "[0.5, 0.5]"
      ]
     },
     "execution_count": 12,
     "metadata": {},
     "output_type": "execute_result"
    }
   ],
   "source": [
    "B.eigenvalues()"
   ]
  },
  {
   "cell_type": "markdown",
   "metadata": {},
   "source": [
    "Hay un solo autovalor, es 0.5 (es repetido, veremos la significación de esto al estudiar autovalores en detalle).\n",
    "\n",
    "Aprovechamos este ejemplo para comprobar visualmente que la aproximación incial $X_0$ no tiene mucha influencia sobre el comportamiento de la sucesión. El siguiente código genera una serie de gráficas donde representamos la sucesión de puntos $X_n$ del plano para diferentes valores iniciales:"
   ]
  },
  {
   "cell_type": "code",
   "execution_count": 13,
   "metadata": {
    "scrolled": false
   },
   "outputs": [
    {
     "data": {
      "image/png": "[encoded data removed]",
      "text/plain": [
       "Graphics object consisting of 8 graphics primitives"
      ]
     },
     "metadata": {},
     "output_type": "display_data"
    }
   ],
   "source": [
    "B = matrix([[1, -1/3], [3/4, 0]])\n",
    "C = vector([1/3, 1/4])\n",
    "\n",
    "Lista_valores_iniciales=[(0,0),    (1,0),    (2,1),     (3,2),  (1,2)]  # probaremos con diferentes valores iniciales\n",
    "Lista_colores =         ['cyan', 'green', 'yellow', 'orange', 'purple']\n",
    "\n",
    "grafica = ( point((1,1), color='red', size=50) \n",
    "           + circle((1,1),0.05,color='red') +\n",
    "           circle((1,1),0.1,color='red'))\n",
    "\n",
    "for (color, L0) in zip(Lista_colores, Lista_valores_iniciales): \n",
    "    # (zip para recorrer las dos listas juntas)\n",
    "    res = []\n",
    "    X = vector(RDF, L0)\n",
    "    for i in range(8):\n",
    "        res.append(X.list())\n",
    "        X = B*X + C\n",
    "    grafica += list_plot(res, color=color, plotjoined=True,linestyle='--',marker='D')\n",
    "show(grafica)"
   ]
  },
  {
   "cell_type": "markdown",
   "metadata": {},
   "source": [
    "Para cada una de las cinco aproximaciones inciales elegidas, obtenemos una sucesión de aproximaciones. Las cinco sucesiones son representadas en colores distintos. *(Es interesante observar como, en cada caso, las aproximaciones tienden a seguir una dirección determinada, siempre la misma, para acercarse a la solución. Esto tiene su explicación, en términos de autovectores.)*"
   ]
  },
  {
   "cell_type": "markdown",
   "metadata": {},
   "source": [
    "#### El método del punto fijo en matemáticas (aparte del álgebra lineal).\n",
    "\n",
    "La ecuación $X=BX+C$ puede ser escrita de la forma: $X=g(X)$, siendo $g(X)=BX+C$.\n",
    "\n",
    "Una *gran idea de las matemáticas* es que una ecuación de la forma $x=g(x)$ puede ser \"resuelta\" (en circonstancias favorables) aplicando de manera repetida la función $g$ a partir de una aproximación inicial $x_0$ de una solución. Este método de resolución se llama **método del punto fijo**. \n",
    "\n",
    "En la asignatura de de Cálculo Infinitesimal y Numérico, se presenta la misma idea, aplicada a ecuaciones no-lineales de una variable, como por ejemplo $x=\\cos(x)$ o $x=\\exp(-x)$. En este caso, la condición de convergencia  \"radio espectral $<1$\" es reemplazada (entre otras condiciones) por una condición analoga del tipo $|g'|<1$: ver el \"Teorema del punto fijo\" en dicha asignatura.  \n"
   ]
  },
  {
   "cell_type": "markdown",
   "metadata": {},
   "source": [
    "#### Sistemas de ecuaciones lineales en general.\n",
    "\n",
    "Un sistema de ecuaciones lineales, en general, no se presenta de la forma $X=BX+C$, más bien de la forma $AX=b$.  Un reto ahora es transformar un sistema $AX=b$ en un sistema de la forma $X=BX+ C$, de manera que las sucesiones definidas por el método del punto fijo tiendan a la solución (y, de ser posible, rápidamente).\n",
    "\n",
    "Vamos a estudiar varios métodos para transformar sistemas $AX=b$ (con tantas ecuaciones como variables, esto es matriz $A$ cuadrada, y solución única) en sistemas $X = BX+C$. Cada uno de estos métodos mejora (pero complica) al anterior:\n",
    "* el método de [Jacobi](https://es.wikipedia.org/wiki/Carl_Gustav_Jakob_Jacobi).\n",
    "* el método de [Gauss](https://es.wikipedia.org/wiki/Carl_Friedrich_Gauss)-[Seidel](https://es.wikipedia.org/wiki/Philipp_Ludwig_von_Seidel).\n",
    "* el método de relajación \"SOR\" (\"**s**uccessive **o**ver**r**elaxation\").\n",
    "\n",
    "(*Jacobi, Gauss, Seidel ... ¿Por qué estos métodos, tan bien adaptados a cálculos con ordenadores, fueron diseñados por matemáticos del siglo XIX?)*"
   ]
  },
  {
   "cell_type": "markdown",
   "metadata": {},
   "source": [
    "## Método de Jacobi.\n",
    "\n",
    "Lo introducimos con un ejemplo. Digamos que queremos resolver un sistema de dos ecuaciones en dos variables $AX=b$ con:\n",
    "$$A=\\begin{bmatrix}a_{11} & a_{12} \\\\ a_{21} & a_{22} \\end{bmatrix}, \\qquad\n",
    "b = \\begin{bmatrix} b_1 \\\\ b_2 \\end{bmatrix}$$\n",
    "Poniendo $$X=\\begin{bmatrix} x \\\\ y\\end{bmatrix},$$ el sistema es\n",
    "$$ \\left\\lbrace \\begin{matrix}a_{11} x &+& a_{12} y&=& b_1\\\\ a_{21} x &+& a_{22} y&=& b_2\\end{matrix}\\right.$$\n",
    "\n",
    "> La idea del método de Jacobi es: \n",
    "* despejar la primera variable en la primera ecuación, \n",
    "* despejar la segunda variable en la segunda ecuación, \n",
    "* ... (si hay más ecuaciones y variables se sigue así),\n",
    "\n",
    "> para poder presentar el sistema en la forma $X=BX+C$.\n",
    "\n",
    "Despejar $x$ en la primera ecuación da\n",
    "$$x = (b_1 - a_{12} y)/a_{11}.$$\n",
    "Despejar $y$ en la segunda ecuación da\n",
    "$$y=(b_2-a_{21} x)/a_{22}.$$\n",
    "\n",
    "*(Observación: no es posible si $a_{11}$ o $a_{22}$ es cero).*\n",
    "\n",
    "El sistema es, por tanto, equivalente a:\n",
    "$$ (\\ast)  \\left\\lbrace \\begin{matrix} x &=& (b_1 - a_{12} y)/a_{11} \\\\ y&=&(b_2-a_{21} x)/a_{22} \\end{matrix}\\right.$$\n",
    "de la forma\n",
    "$$X=BX+C$$ con \n",
    "$$B=\\begin{bmatrix} 0  & -\\frac{a_{12}}{a_{11}} \\\\ -\\frac{a_{21}}{a_{22}}  & 0\\end{bmatrix}, \\qquad C=\\begin{bmatrix} \\frac{b_1}{a_{11}} \\\\ \\frac{b_2}{a_{22}} \\end{bmatrix}$$\n",
    "\n",
    "Se define ahora una sucesión $$X_n = \\begin{bmatrix} x_n \\\\ y_n \\end{bmatrix},$$ eligiendo arbitrariamente $X_0$ y definiendo los $X_n$ mediante la relación $X_{n+1}=B X_n + C$. Es decir, en el sistema sustituimos los $x, y$ a la izquierda por $x_{n+1}, y_{n+1}$ y los de la derecha por $x_n, y_n$. Esto da lugar a las formulas:\n",
    "$$  \\left\\lbrace \\begin{matrix} x_{n+1} &=& (b_1 - a_{12} y_n)/a_{11} \\\\ y_{n+1}&=&(b_2-a_{21} x_n)/a_{22} \\end{matrix}\\right.$$\n"
   ]
  },
  {
   "cell_type": "markdown",
   "metadata": {},
   "source": [
    "Para tres ecuaciones en tres variables, con un sistema\n",
    "$$ \\left\\lbrace \\begin{matrix}a_{11} x &+& a_{12} y&+&a_{13}z &=& b_1\\\\ a_{21} x &+& a_{22} y&+&a_{23}z&=& b_2\\\\ a_{31}x &+& a_{32} y&+&a_{33}z &=& b_3 \\end{matrix}\\right.$$\n",
    "al despejar cada variable de la ecuación que le corresponde obtenemos (a condición que $a_{11}$, $a_{22}$ y $a_{33}$ sean distintos de $0$) el sistema equivalente:\n",
    "$$ \\left\\lbrace \\begin{matrix}x &=& (b_1-( a_{12} y + a_{13}z))/a_{11}\\\\y &=& (b_2-( a_{21} x + a_{23}z))/a_{22}\\\\z &=& (b_3-( a_{31} x + a_{32}y))/a_{33} \\end{matrix}\\right.$$\n",
    "Las aproximaciones son entonces definidas por las relaciones:\n",
    "$$ \\left\\lbrace \\begin{matrix}x_{n+1} &=& (b_1-( a_{12} y_n + a_{13}z_n))/a_{11}\\\\y_{n+1} &=& (b_2-( a_{21} x_n + a_{23}z_n))/a_{22}\\\\z_{n+1} &=& (b_3-( a_{31} x_n + a_{32}y_n))/a_{33} \\end{matrix}\\right.$$\n",
    "\n",
    "De esta forma, el sistema $AX=b$ se ha reescrito $X=BX+C$ con\n",
    "$$B=\\begin{bmatrix} 0  & -\\frac{a_{12}}{a_{11}} & -\\frac{a_{13}}{a_{11}} \\\\ -\\frac{a_{21}}{a_{22}}  & 0 & -\\frac{a_{23}}{a_{22}} \\\\   -\\frac{a_{31}}{a_{33}} & -\\frac{a_{32}}{a_{33}} & 0 \\end{bmatrix}, \\qquad C=\\begin{bmatrix} \\frac{b_1}{a_{11}} \\\\ \\frac{b_2}{a_{22}} \\\\ \\frac{b_3}{a_{33}} \\end{bmatrix}$$"
   ]
  },
  {
   "cell_type": "markdown",
   "metadata": {},
   "source": [
    "A continuación, implementamos los cálculos que permiten calcular una aproximación $X_{n+1}$ a partir de la anterior, $X_n$."
   ]
  },
  {
   "cell_type": "code",
   "execution_count": 1,
   "metadata": {
    "scrolled": false
   },
   "outputs": [],
   "source": [
    "def iteracion_Jacobi(X, N, A, b):\n",
    "    r\"\"\"\n",
    "    Calcula una aproximacion de la solucion del sistema AX=b a partir de la anterior, en el método de Jacobi.\n",
    "    \n",
    "    INPUT:\n",
    "    - X -- vector: aproximación de la solución.\n",
    "    - N -- entero: longitud de X y b, y orden de A.\n",
    "    - A -- matriz cuadrada.\n",
    "    - b -- vector.\n",
    "    \n",
    "    OUTPUT: un vector.\n",
    "    \n",
    "    Se supone que A no contiene 0 en su diagonal.\n",
    "    \"\"\"\n",
    "    return vector([\n",
    "        (b[i]-add(A[i,j]*X[j] for j in range(N) if j!=i))/A[i,i] for i in range(N)\n",
    "    ])"
   ]
  },
  {
   "cell_type": "markdown",
   "metadata": {},
   "source": [
    "#### Ejemplo.\n",
    "Aplicamos el método de Jacobi para resolver $Ax=b$ con \n",
    "$$A=\\left[\\begin{array}{cc} 2 & 1\\\\ 3 & 4\\end{array}\\right],\\quad b=\\left[\\begin{array}{c} 3\\\\ 7\\end{array}\\right]$$"
   ]
  },
  {
   "cell_type": "code",
   "execution_count": 15,
   "metadata": {
    "scrolled": false
   },
   "outputs": [
    {
     "name": "stdout",
     "output_type": "stream",
     "text": [
      "X_ 1 = (1.5, 1.75)\n",
      "X_ 2 = (0.625, 0.625)\n",
      "X_ 3 = (1.1875, 1.28125)\n",
      "X_ 4 = (0.859375, 0.859375)\n",
      "X_ 5 = (1.0703125, 1.10546875)\n",
      "X_ 6 = (0.947265625, 0.947265625)\n",
      "X_ 7 = (1.0263671875, 1.03955078125)\n",
      "X_ 8 = (0.980224609375, 0.980224609375)\n",
      "X_ 9 = (1.0098876953125, 1.01483154296875)\n",
      "X_ 10 = (0.992584228515625, 0.992584228515625)\n",
      "X_ 11 = (1.0037078857421875, 1.0055618286132812)\n",
      "X_ 12 = (0.9972190856933594, 0.9972190856933594)\n",
      "X_ 13 = (1.0013904571533203, 1.0020856857299805)\n",
      "X_ 14 = (0.9989571571350098, 0.9989571571350098)\n",
      "X_ 15 = (1.0005214214324951, 1.0007821321487427)\n",
      "X_ 16 = (0.9996089339256287, 0.9996089339256287)\n",
      "X_ 17 = (1.0001955330371857, 1.0002932995557785)\n",
      "X_ 18 = (0.9998533502221107, 0.9998533502221107)\n",
      "X_ 19 = (1.0000733248889446, 1.000109987333417)\n",
      "X_ 20 = (0.9999450063332915, 0.9999450063332915)\n",
      "X_ 21 = (1.0000274968333542, 1.0000412452500314)\n"
     ]
    }
   ],
   "source": [
    "A = matrix(RDF,[[2,1],[3,4]])\n",
    "b = vector([3,7])\n",
    "X = vector([0.,0.]) # valor incial arbitrario\n",
    "\n",
    "for i  in range(21):\n",
    "    X = iteracion_Jacobi(X, 2, A, b)\n",
    "    print(\"X_\",i+1,\"=\", X)\n"
   ]
  },
  {
   "cell_type": "markdown",
   "metadata": {},
   "source": [
    "##### Algunas condiciones suficientes de convergencia del método de Jacobi.\n",
    "\n",
    "Se dice que una matriz $A$ es *diagonal dominante por filas* o, simplemente, *diagonal dominante* si verifica que para cualquiera fila, el valor absoluto del coeficiente de la diagonal es estrictamente mayor que la suma de los valores absolutos de los otros coeficientes de la fila:\n",
    "$$|a_{ii}|>\\sum_{j\\,|\\;j\\neq i} |a_{ij}|,$$\n",
    "\n",
    "> **Teorema.** Si $A$ es una matriz cuadrada y diagonal dominante entonces tiene inversa.\n",
    "\n",
    "\n",
    "\n",
    "> **Teorema.** Si $A$ es una matriz diagonal dominante entonces el método de Jacobi para $AX=b$ converge para cualquier valor inicial $X_0$.\n"
   ]
  },
  {
   "cell_type": "markdown",
   "metadata": {},
   "source": [
    "#### Ejemplo.\n",
    "\n",
    "Aplicamos el método de Jacobi para el sistema $AX=b$ con\n",
    "\n",
    "$$A=\\left[\\begin{array}{cc} 3 & 1 & 0\\\\ 1 & 3 & 1 \\\\ 0 & 1 & 3\\end{array}\\right],\\quad b=\\left[\\begin{array}{c} 1 \\\\ 1 \\\\ 1\\end{array}\\right]$$\n",
    "\n",
    "Como $A$ es de diagonal dominante, sabemos que el método converge."
   ]
  },
  {
   "cell_type": "code",
   "execution_count": 16,
   "metadata": {
    "scrolled": false
   },
   "outputs": [
    {
     "name": "stdout",
     "output_type": "stream",
     "text": [
      "X_ 1 = (0.3333333333333333, 0.3333333333333333, 0.3333333333333333)\n",
      "X_ 2 = (0.22222222222222224, 0.11111111111111112, 0.11111111111111112)\n",
      "X_ 3 = (0.2962962962962963, 0.2222222222222222, 0.2222222222222222)\n",
      "X_ 4 = (0.25925925925925924, 0.16049382716049385, 0.16049382716049385)\n",
      "X_ 5 = (0.27983539094650206, 0.1934156378600823, 0.1934156378600823)\n",
      "X_ 6 = (0.26886145404663925, 0.17558299039780523, 0.17558299039780523)\n",
      "X_ 7 = (0.27480566986739824, 0.1851851851851852, 0.1851851851851852)\n",
      "X_ 8 = (0.2716049382716049, 0.18000304831580552, 0.18000304831580552)\n",
      "X_ 9 = (0.27333231722806484, 0.18279733780419652, 0.18279733780419652)\n",
      "X_ 10 = (0.2724008873986012, 0.18129011498924621, 0.18129011498924621)\n"
     ]
    }
   ],
   "source": [
    "A = matrix(RDF,[[3,1,0],[1,3,1],[1,1,3]])\n",
    "b = vector([1,1,1])\n",
    "X = vector([0,0,0]) # valor incial arbitrario\n",
    "for i  in range(10):\n",
    "    X = iteracion_Jacobi(X, 3, A, b)\n",
    "    print(\"X_\",i+1,\"=\", X)"
   ]
  },
  {
   "cell_type": "markdown",
   "metadata": {},
   "source": [
    "#### El error residual.\n",
    "\n",
    "¿Cuántas iteraciones realizar para obtener una buena aproximación de la solución? Si queremos una aproximación de la solución $\\bar{X}$ del sistema con una precisión dada (digamos un error $\\le \\varepsilon$), basta interrumpir el cálculo cuando $||X_n - \\bar{X}|| \\le \\varepsilon$. Pero no podemos realizar este test, ya que no conocemos $\\bar{X}$, que es precisamente lo que pretendemos calcular.\n",
    "\n",
    "Un posible criterio de parada es obtener un valor pequeño para $||A X_n - b||$ (el llamado \"error residual\"). En el ejemplo anterior continuaremos los calculos hasta tener un error residual $< 10^{-8}$.\n",
    "\n",
    "Este criterio de parada (\"error residual pequeño\") no siempre es razonable: hay sistemas y aproximaciones de la solución con error residual pequeño, pero error grande de la aproximación (ver el ultimo ejemplo de la práctica)."
   ]
  },
  {
   "cell_type": "code",
   "execution_count": 17,
   "metadata": {
    "scrolled": false
   },
   "outputs": [
    {
     "name": "stdout",
     "output_type": "stream",
     "text": [
      "X_ 31 = (0.2727272734909388, 0.1818181830538194, 0.1818181830538194)\n"
     ]
    }
   ],
   "source": [
    "A = matrix(RDF,[[3,1,0],[1,3,1],[1,1,3]])\n",
    "b = vector([1,1,1])\n",
    "error_residual = 10^(-8)\n",
    "\n",
    "X = vector([0,0,0]) # valor incial\n",
    "\n",
    "for i  in range(1000):\n",
    "    if (A*X-b).norm() <= error_residual:\n",
    "        print(\"X_\",i,\"=\", X)\n",
    "        break   # salida anticipada del bucle con error residual menor o igual al especificado\n",
    "    else:\n",
    "        X = iteracion_Jacobi(X, 3, A, b)\n",
    "else: # este bloque se ejecutará solamente si se termina el bucle sin \"break\" \n",
    "    print(\"No se alcanzó la precisión deseada.\")"
   ]
  },
  {
   "cell_type": "markdown",
   "metadata": {},
   "source": [
    "Comprobamos [de visu](https://es.wikipedia.org/wiki/De_visu):"
   ]
  },
  {
   "cell_type": "code",
   "execution_count": 18,
   "metadata": {
    "scrolled": false
   },
   "outputs": [
    {
     "data": {
      "text/plain": [
       "(1.0000000035266359, 1.0000000057062164, 1.0000000057062164)"
      ]
     },
     "execution_count": 18,
     "metadata": {},
     "output_type": "execute_result"
    }
   ],
   "source": [
    "A*X  # debe dar un valor próximo al vector b"
   ]
  },
  {
   "cell_type": "markdown",
   "metadata": {},
   "source": [
    "#### Ejemplo: cuando debemos reordenar las ecuaciones.\n",
    "\n",
    "Queremos resolver por el método de Jacobi el sistema $AX=b$, con\n",
    "$$A=\\left[\\begin{array}{cc} 0 & 1 & 3\\\\ 2 & 1 & 1 \\\\ 1 & 4 & 1\\end{array}\\right],\\quad b=\\left[\\begin{array}{c} 1 \\\\ 5 \\\\ 7\\end{array}\\right]$$\n",
    "\n",
    "No es posible, ya que $A$ tiene un cero en la diagonal. Pero basta cambiar el orden de las ecuaciones para superar esta dificultad."
   ]
  },
  {
   "cell_type": "code",
   "execution_count": 19,
   "metadata": {
    "scrolled": false
   },
   "outputs": [
    {
     "data": {
      "text/html": [
       "<html><script type=\"math/tex; mode=display\">\\newcommand{\\Bold}[1]{\\mathbf{#1}}\\left(\\begin{array}{rrrr}\n",
       "0.0 & 1.0 & 3.0 & 1.0 \\\\\n",
       "2.0 & 1.0 & 1.0 & 5.0 \\\\\n",
       "0.0 & 4.0 & 1.0 & 7.0\n",
       "\\end{array}\\right)</script></html>"
      ],
      "text/latex": [
       "\\begin{math}\n",
       "\\newcommand{\\Bold}[1]{\\mathbf{#1}}\\left(\\begin{array}{rrrr}\n",
       "0.0 & 1.0 & 3.0 & 1.0 \\\\\n",
       "2.0 & 1.0 & 1.0 & 5.0 \\\\\n",
       "0.0 & 4.0 & 1.0 & 7.0\n",
       "\\end{array}\\right)\n",
       "\\end{math}"
      ],
      "text/plain": [
       "[0.0 1.0 3.0 1.0]\n",
       "[2.0 1.0 1.0 5.0]\n",
       "[0.0 4.0 1.0 7.0]"
      ]
     },
     "metadata": {},
     "output_type": "display_data"
    },
    {
     "data": {
      "text/html": [
       "<html><script type=\"math/tex; mode=display\">\\newcommand{\\Bold}[1]{\\mathbf{#1}}\\left(\\begin{array}{rrrr}\n",
       "2.0 & 1.0 & 1.0 & 5.0 \\\\\n",
       "0.0 & 4.0 & 1.0 & 7.0 \\\\\n",
       "0.0 & 1.0 & 3.0 & 1.0\n",
       "\\end{array}\\right)</script></html>"
      ],
      "text/latex": [
       "\\begin{math}\n",
       "\\newcommand{\\Bold}[1]{\\mathbf{#1}}\\left(\\begin{array}{rrrr}\n",
       "2.0 & 1.0 & 1.0 & 5.0 \\\\\n",
       "0.0 & 4.0 & 1.0 & 7.0 \\\\\n",
       "0.0 & 1.0 & 3.0 & 1.0\n",
       "\\end{array}\\right)\n",
       "\\end{math}"
      ],
      "text/plain": [
       "[2.0 1.0 1.0 5.0]\n",
       "[0.0 4.0 1.0 7.0]\n",
       "[0.0 1.0 3.0 1.0]"
      ]
     },
     "metadata": {},
     "output_type": "display_data"
    }
   ],
   "source": [
    "A = matrix(RDF,[[0,1,3],[2,1,1],[0,4,1]])\n",
    "b = vector([1,5,7])\n",
    "show(A.augment(b))\n",
    "M = A.augment(b) # matriz ampliada\n",
    "\n",
    "MM = matrix([M.row(1),M.row(2), M.row(0)]) # las filas de MM son las filas 1,2,0 de M, en este orden\n",
    "\n",
    "# separamos la matriz ampliada en matriz de coefcientes AA + columna de los terminos indep.\n",
    "AA = MM.matrix_from_columns([0,1,2])\n",
    "bb = MM.column(-1)\n",
    "## AA X = bb es equivalente a AX=b\n",
    "show(AA.augment(bb))"
   ]
  },
  {
   "cell_type": "code",
   "execution_count": 20,
   "metadata": {
    "scrolled": false
   },
   "outputs": [
    {
     "name": "stdout",
     "output_type": "stream",
     "text": [
      "X_ 17 = (1.727272729069844, 1.818181818023249, -0.27272727131776947)\n"
     ]
    }
   ],
   "source": [
    "# Aplicamos ahora el método de Jacobi\n",
    "X = vector([0,0,0]) # valor inicial arbitrario\n",
    "for i  in range(1000):\n",
    "    if (AA*X-bb).norm() < 10^(-8):\n",
    "        print(\"X_\",i,\"=\", X)\n",
    "        break   # salida anticipada del bucle\n",
    "    else:\n",
    "        X = iteracion_Jacobi(X, 3, AA, bb)\n",
    "else: # este bloque se ejecutará solamente si se termina el bucle sin \"break\" \n",
    "    print(\"No se alcanzó la precisión deseada.\")"
   ]
  },
  {
   "cell_type": "markdown",
   "metadata": {},
   "source": [
    "## Método de Gauss Seidel.\n",
    "\n",
    "Es una mejora del método de Jacobi.\n",
    "\n",
    "Volvemos al caso de un sistema de dos ecuaciones en dos incógnitas. En el método de Jacobi, cada aproximación es definida a partir de la anterior mediante las formulas:\n",
    "$$  \\left\\lbrace \\begin{matrix} x_{n+1} &=& (b_1 - a_{12} y_n)/a_{11} \\\\ y_{n+1}&=&(b_2-a_{21} x_n)/a_{22} \\end{matrix}\\right.$$\n",
    "\n",
    "> *Idea del método de Gauss-Seidel:*\n",
    "En la segunda formula, ¿por qué no utilizar $x_{n+1}$ que acaba de ser calculado, en vez de $x_n$? (Se supone que $x_{n+1}$ es \"mejor\" que $x_n$)\n",
    "\n",
    "Esto da lugar a las formulas:\n",
    "$$  \\left\\lbrace \\begin{matrix} x_{n+1} &=& (b_1 - a_{12} y_n)/a_{11} \\\\ y_{n+1}&=&(b_2-a_{21} x_{\\color{red}{n+1}})/a_{22} \\end{matrix}\\right.$$\n",
    "\n",
    "Para un sistema de 3 ecuaciones en 3 variables, las formulas en el método de Jacobi son:\n",
    "$$ \\left\\lbrace \\begin{matrix}x_{n+1} &=& (b_1-( a_{12} y_n + a_{13}z_n))/a_{11}\\\\y_{n+1} &=& (b_2-( a_{21} x_n + a_{23}z_n))/a_{22}\\\\z_{n+1} &=& (b_3-( a_{31} x_n + a_{32}y_n))/a_{33} \\end{matrix}\\right.$$\n",
    "En el método de Gauss-Seidel, utilizaremos $x_{n+1}$ e $y_{n+1}$ en vez de $x_n$ e $y_n$, cuando estos números harán sido calculados. Las formulas serán, por tanto:\n",
    "$$ \\left\\lbrace \\begin{matrix}x_{n+1} &=& (b_1-( a_{12} y_n + a_{13}z_n))/a_{11}\\\\y_{n+1} &=& (b_2-( a_{21} x_{\\color{red}{n+1}} + a_{23}z_n))/a_{22}\\\\z_{n+1} &=& (b_3-( a_{31} x_{\\color{red}{n+1}} + a_{32}y_{\\color{red}{n+1}}))/a_{33} \\end{matrix}\\right.$$"
   ]
  },
  {
   "cell_type": "code",
   "execution_count": 2,
   "metadata": {
    "scrolled": false
   },
   "outputs": [],
   "source": [
    "def iteracion_Gauss_Seidel(X, N, A, b):\n",
    "    r\"\"\"\n",
    "    Calcula una aproximación de la solución del sistema AX=b a partir de la anterior,\n",
    "    por el método de Gauss-Seidel.\n",
    "    \n",
    "    INPUT:\n",
    "    - X -- vector: aproximación de la solución.\n",
    "    - N -- entero: longitud de X y b, y orden de A.\n",
    "    - A -- matriz cuadrada.\n",
    "    - b -- vector.\n",
    "    \n",
    "    OUTPUT: un vector.\n",
    "    \n",
    "    Se supone que A es sin 0 en su diagonal.\n",
    "    \"\"\"\n",
    "    for i in range(N):\n",
    "        X[i] = (b[i] - add(A[i,j]*X[j] for j in range(N) if j!=i))/A[i,i]\n",
    "    return copy(X)"
   ]
  },
  {
   "cell_type": "markdown",
   "metadata": {},
   "source": [
    "#### Ejemplo.\n",
    "\n",
    "Aplicamos el método de Gauss-Seidel para resolver $Ax=b$ con \n",
    "$$A=\\left[\\begin{array}{cc} 2 & 1\\\\ 3 & 4\\end{array}\\right],\\quad b=\\left[\\begin{array}{c} 3\\\\ 7\\end{array}\\right]$$"
   ]
  },
  {
   "cell_type": "code",
   "execution_count": 22,
   "metadata": {
    "scrolled": false
   },
   "outputs": [
    {
     "name": "stdout",
     "output_type": "stream",
     "text": [
      "X_ 1 = (1.50000000000000, 0.625000000000000) , error residual= 0.625\n",
      "X_ 2 = (1.18750000000000, 0.859375000000000) , error residual= 0.234375\n",
      "X_ 3 = (1.07031250000000, 0.947265625000000) , error residual= 0.087890625\n",
      "X_ 4 = (1.02636718750000, 0.980224609375000) , error residual= 0.032958984375\n",
      "X_ 5 = (1.00988769531250, 0.992584228515625) , error residual= 0.012359619140625\n",
      "X_ 6 = (1.00370788574219, 0.997219085693359) , error residual= 0.004634857177734375\n",
      "X_ 7 = (1.00139045715332, 0.998957157135010) , error residual= 0.0017380714416503906\n",
      "X_ 8 = (1.00052142143250, 0.999608933925629) , error residual= 0.0006517767906188965\n",
      "X_ 9 = (1.00019553303719, 0.999853350222111) , error residual= 0.0002444162964820862\n",
      "X_ 10 = (1.00007332488894, 0.999945006333292) , error residual= 9.165611118078232e-05\n",
      "X_ 11 = (1.00002749683335, 0.999979377374984) , error residual= 3.437104169279337e-05\n",
      "X_ 12 = (1.00001031131251, 0.999992266515619) , error residual= 1.2889140634797513e-05\n",
      "X_ 13 = (1.00000386674219, 0.999997099943357) , error residual= 4.8334277380490676e-06\n",
      "X_ 14 = (1.00000145002832, 0.999998912478759) , error residual= 1.8125354017684003e-06\n",
      "X_ 15 = (1.00000054376062, 0.999999592179535) , error residual= 6.797007756631501e-07\n",
      "X_ 16 = (1.00000020391023, 0.999999847067325) , error residual= 2.548877908736813e-07\n",
      "X_ 17 = (1.00000007646634, 0.999999942650247) , error residual= 9.558292157763049e-08\n",
      "X_ 18 = (1.00000002867488, 0.999999978493843) , error residual= 3.5843595647122584e-08\n",
      "X_ 19 = (1.00000001075308, 0.999999991935191) , error residual= 1.3441348478693271e-08\n",
      "X_ 20 = (1.00000000403240, 0.999999996975697) , error residual= 5.040505790532279e-09\n",
      "X_ 21 = (1.00000000151215, 0.999999998865886) , error residual= 1.890189782471907e-09\n"
     ]
    }
   ],
   "source": [
    "A = matrix(RDF,[[2,1],[3,4]])\n",
    "b = vector(RDF, [3,7])\n",
    "X = vector([0.,0.]) # valor inicial arbitrario\n",
    "\n",
    "for i  in range(21):\n",
    "    X = iteracion_Gauss_Seidel(X, 2, A, b)\n",
    "    print(\"X_\", i+1,\"=\", X,\", error residual=\", (A*X-b).norm())"
   ]
  },
  {
   "cell_type": "markdown",
   "metadata": {},
   "source": [
    "Observamos, efectivamente, una convergencia más rápida que con el método de Jacobi."
   ]
  },
  {
   "cell_type": "markdown",
   "metadata": {},
   "source": [
    "> **Teorema.** Si $A$ es una matriz diagonal dominante entonces el método de Gauss-Seidel converge para cualquier valor inicial $X_0$.\n",
    "\n",
    "> **Teorema.** Si $A$ es una matriz simétrica y definida positiva entonces el método de Gauss-Seidel converge para cualquier valor inicial $X_0$."
   ]
  },
  {
   "cell_type": "markdown",
   "metadata": {},
   "source": [
    "## Método S.O.R. (de relajación)\n",
    "\n",
    "El método SOR es una mejora del método de Gauss-Seidel. Aplica \"relajación\", una técnica general de mejora de los métodos iterativos en cálculo numérico, e involucra un paramétro $\\omega$ que hay que ajustar para obtener un buen comportamiento.\n",
    "\n",
    "La idea es la siguiente: partiendo de una aproximación $x_n$ de algún número, tenemos un metodo que proporciona una nueva aproximación $x'_{n+1}$. En vez de utilizar este número como nueva aproximación, calculamos *otra* nueva aproximación $x_{n+1}$ mediante:\n",
    "$$x_{n+1} =   x_n + \\omega (x'_{n+1} - x_n).$$\n",
    "\n",
    "En el caso que nos interesa, $x'_{n+1}$ es la aproximación proporcionada por las formulas de la iteración de Gauss-Seidel. Aplicamos esta \"relajación\" para cada cálculo de componente."
   ]
  },
  {
   "cell_type": "markdown",
   "metadata": {},
   "source": [
    "#### Ejemplo:\n",
    "\n",
    "Aplicamos el método SOR con $\\omega=1.2$ para resolver $Ax=b$ con \n",
    "$$A=\\left[\\begin{array}{cc} 2 & 1\\\\ 3 & 4\\end{array}\\right],\\quad b=\\left[\\begin{array}{c} 3\\\\ 7\\end{array}\\right]$$\n",
    "\n",
    "Empezamos con $X_0=\\begin{bmatrix} x_0 \\\\ y_0 \\end{bmatrix}=\\begin{bmatrix} 1 \\\\ 2 \\end{bmatrix}$. \n",
    "Utilizamos la formula de Gauss_Seidel para $x_1$ para calcular un \"borrador\" $x'_1$ de $x_1$: \n",
    "$$x'_1 = (3 - 1 \\times 2)/2 = 0.5$$\n",
    "e inmediatamente aplicamos relajación:\n",
    "$$x_1  = x_0 + \\omega (x'_1-x_0) = 1 + 1.2 \\times (0.5-1) = 0.4$$\n",
    "\n",
    "Luego utilizamos la formula de Gauss-Seidel para $y_1$, calculando con ella un \"borrador\" $y'_1$ de $y_1$:\n",
    "$$y'_1 = (7-3  x_1)/4 =  (7-3 \\times 0.4)/4 = 1.45  $$\n",
    "Ahora aplicamos relajación para calcular $y_1$:\n",
    "$$y_1  = y_0 + \\omega (y'_1-y_0) = 2 + 1.2 \\times (1.45-2) = 1.34$$\n",
    "\n",
    "La nueva aproximación es, por tanto, $X_1=\\begin{bmatrix} 0.4 \\\\ 1.34 \\end{bmatrix}$.\n",
    "Seguimos así en los pasos siguientes."
   ]
  },
  {
   "cell_type": "markdown",
   "metadata": {},
   "source": [
    "A continuación, implementamos el método SOR y lo aplicamos al ejemplo anterior."
   ]
  },
  {
   "cell_type": "code",
   "execution_count": 3,
   "metadata": {
    "scrolled": false
   },
   "outputs": [],
   "source": [
    "def iteracion_SOR(X, omega, N, A, b):\n",
    "    for i in range(N):\n",
    "        xx = (b[i] - add(A[i,j]*X[j] for j in range(N) if j!=i))/A[i,i] # formula Gauss-Seidel\n",
    "        X[i] = X[i] + omega*(xx-X[i]) # relajación\n",
    "    return X\n"
   ]
  },
  {
   "cell_type": "code",
   "execution_count": 24,
   "metadata": {
    "scrolled": false
   },
   "outputs": [
    {
     "name": "stdout",
     "output_type": "stream",
     "text": [
      "X_ 1 = (0.400000000000000, 1.34000000000000)\n",
      "X_ 2 = (0.916000000000000, 1.00760000000000)\n",
      "X_ 3 = (1.01224000000000, 0.987464000000000)\n",
      "X_ 4 = (1.00507360000000, 0.997940960000000)\n",
      "X_ 5 = (1.00022070400000, 1.00021317440000)\n",
      "X_ 6 = (0.999827954560000, 1.00011220601600)\n",
      "X_ 7 = (0.999967085478400, 1.00000718186624)\n",
      "X_ 8 = (1.00000227378458, 0.999996517220634)\n",
      "X_ 9 = (1.00000163491070, 0.999999225136239)\n",
      "X_ 10 = (1.00000013793612, 1.00000003083025)\n"
     ]
    }
   ],
   "source": [
    "A = matrix(RDF,[[2,1],[3,4]])\n",
    "b = vector([3,7])\n",
    "X = vector([1.,2]) # valor inicial arbitrario\n",
    "omega = 1.2  # valor de relajación elegido\n",
    "\n",
    "for i  in range(10):\n",
    "    X = iteracion_SOR(X,omega,2,A,b)\n",
    "    print(\"X_\", i+1,\"=\", X)"
   ]
  },
  {
   "cell_type": "markdown",
   "metadata": {},
   "source": [
    "¿Cómo elegir el paraḿetro $\\omega$ de manera que obtengamos una convergencia rápida? ¡Es un problema que no tiene solución simple!"
   ]
  },
  {
   "cell_type": "markdown",
   "metadata": {},
   "source": [
    "> **Teorema.** Una condición necesaria para que converja el método de relajación es que $\\omega\\in(0,2)$. Esto significa que si $\\omega \\le 0$, o $\\omega \\ge 2$, entonces no se tendrá convergencia (excepto para algunos valores iniciales excepcionales).\n",
    "\n",
    "> **Teorema .** Si $A$ es diagonal dominante, entonces el método de relajación es convergente cualquiera que sea $\\omega\\in(0,1]$.\n",
    "\n",
    "> **Teorema .** Si $A$ es simétrica y definida positiva, entonces el método de relajación converge si, y sólo si, $\\omega\\in(0,2).$"
   ]
  },
  {
   "cell_type": "markdown",
   "metadata": {},
   "source": [
    "Aplicaremos el método S.O.R., para varios valores de $\\omega$, para el sistema $AX=b$ con $$A=\\begin{bmatrix} 2 & 1\\\\ 3 & 4\\end{bmatrix},\\quad b=\\begin{bmatrix} 3\\\\ 7\\end{bmatrix}.$$"
   ]
  },
  {
   "cell_type": "code",
   "execution_count": 25,
   "metadata": {
    "scrolled": false
   },
   "outputs": [],
   "source": [
    "A = matrix(RDF,[[2,1],[3,4]])\n",
    "b = vector([3,7])"
   ]
  },
  {
   "cell_type": "code",
   "execution_count": 26,
   "metadata": {
    "scrolled": true
   },
   "outputs": [
    {
     "data": {
      "image/png": "[encoded data removed]",
      "text/plain": [
       "Graphics object consisting of 6 graphics primitives"
      ]
     },
     "metadata": {},
     "output_type": "display_data"
    }
   ],
   "source": [
    "Lista_colores = ['green', 'yellow', 'orange']\n",
    "Lista_omega =   [0.5,      1.5,       1.13  ]\n",
    "\n",
    "grafica = ( point((1,1), color='red', size=50) \n",
    "           + circle((1,1),0.05,color='red') +\n",
    "           circle((1,1),0.1,color='red'))\n",
    "\n",
    "for (color, omega) in zip(Lista_colores, Lista_omega):\n",
    "    X = vector([0.,0.])\n",
    "    res = [list(X)]\n",
    "    for i in range(8):\n",
    "        res.append(X.list())\n",
    "        X = iteracion_SOR(X, omega, 2, A, b)\n",
    "    grafica += list_plot(res, color=color, plotjoined=True,linestyle='--',marker='D')\n",
    "show(grafica)"
   ]
  },
  {
   "cell_type": "markdown",
   "metadata": {},
   "source": [
    "Para cada uno de los valores de $\\omega$, obtenemos una sucesión de aproximaciones en un color diferente. Las tres sucesiones convergen al mismo vector solución pero la de color verde toma el recorrido más corto *(mayor velocidad de convergencia)*."
   ]
  },
  {
   "cell_type": "markdown",
   "metadata": {},
   "source": [
    "## Matrices de los métodos.\n",
    "\n",
    "En cada uno de los tres métodos, el sistema $AX=b$ se transforma en un sistema $X = BX+C$. Llameremos la matriz $B$ \"matriz del método\". Su radio espectral determina la convergencia, o no convergencia, del método (el radio espectral tiene que ser menor que $1$ para tener convergencia), y, en caso de convergencia, su velocidad de convergencia (cuanto más pequeño es el radio espectral, más rápida es la convergencia). \n",
    "\n",
    "\n",
    "Al *aplicar* los métodos, no necesitamos calcular la matriz del método. Sin embargo, vamos a realizar aquí el cálculo de las matrices de los métodos de Jacobi, de Gauss-Seidel, y SOR, para hacer un estudio teórico.\n",
    "\n",
    "\n",
    "* En el caso del método de Jacobi, descomponemos $A$ en $A=D + (A-D)$, donde $D$ es la parte diagonal de $A$. Por ejemplo, \n",
    "para $$A=\\begin{bmatrix}\\color{red}{a_{11}} & a_{12} & a_{13} \\\\a_{21} & \\color{red}{a_{22}} & a_{23} \\\\a_{31} & a_{32} & \\color{red}{a_{33}} \\end{bmatrix},$$\n",
    "se tiene\n",
    "$$D=\\begin{bmatrix}a_{11} & 0 & 0 \\\\ 0 & a_{22} & 0 \\\\0 & 0 & a_{33} \\end{bmatrix},\\qquad\n",
    "A-D=\\begin{bmatrix} 0 & a_{12} & a_{13} \\\\a_{21} & 0 & a_{23} \\\\a_{31} & a_{32} & 0 \\end{bmatrix}$$\n",
    "Entonces la matriz del método de Jacobi es $$B=D^{-1}(D-A).$$\n",
    "\n",
    "* En el caso del método de Gauss-Seidel, descomponemos $A$ en $A=L + (A-L)$. donde $L$ es la parte triangular inferior de $A$, diagonal incluída. Para\n",
    "$$A=\\begin{bmatrix} \\color{red}{a_{11}} & a_{12} & a_{13} \\\\\\color{red}{a_{21}} & \\color{red}{a_{22}} & a_{23} \\\\\\color{red}{a_{31}} & \\color{red}{a_{32}} & \\color{red}{a_{33}} \\end{bmatrix},$$\n",
    "se tiene\n",
    "$$L=\\begin{bmatrix} a_{11}&0&0  \\\\a_{21} & a_{22}&0 \\\\a_{31} & a_{32} & a_{33} \\end{bmatrix},\\qquad\n",
    "A-L=\\begin{bmatrix}0 & a_{12} & a_{13} \\\\0 & 0 & a_{23} \\\\0&0&0 \\end{bmatrix}$$\n",
    "Entonces la matriz del método de Gauss-Seidel es $B=L^{-1}(A-L).$\n",
    "\n",
    "* En el caso del método SOR, se puede mostrar que la matriz del método es $$B=(D+\\omega E)^{-1} \\left((1-\\omega)D - \\omega F \\right),$$\n",
    "siendo $D$ la parte diagonal de $A$, $E$ la parte triangular inferior (diagonal excluida) y $F$ la parte triangular superior (diagonal excluida).\n",
    "\n",
    "Por ejemplo, para $$A=\\begin{bmatrix}\\color{red}{a_{11}} & a_{12} & a_{13} \\\\\\color{blue}{a_{21}} & \\color{red}{a_{22}} & a_{23} \\\\\\color{blue}{a_{31}} & \\color{blue}{a_{32}} & \\color{red}{a_{33}} \\end{bmatrix},$$\n",
    "se tiene\n",
    "$$D=\\begin{bmatrix}a_{11} & 0 & 0 \\\\ 0 & a_{22} & 0 \\\\0 & 0 & a_{33} \\end{bmatrix},\\quad\n",
    "E=\\begin{bmatrix} 0&0&0  \\\\a_{21} & 0&0 \\\\a_{31} & a_{32} & 0 \\end{bmatrix},\\quad\n",
    "F= \\begin{bmatrix}0 & a_{12} & a_{13} \\\\0 & 0 & a_{23} \\\\0&0&0 \\end{bmatrix}.$$"
   ]
  },
  {
   "cell_type": "markdown",
   "metadata": {},
   "source": [
    "#### Ejemplo 10\n",
    "\n",
    "Consideremos el sistema\n",
    "$$\\left(\\begin{array}{rrrrrrr}10 &    2    & -3   &   2   &  -4 &3  &0\\\\    -2   & -12    &  5   &   0    &  0    &  2    &  1\\\\     1    &  1  &    8   &   1    &  1   &   1    &  1\\\\    -1    &  0    &  4    & 15   &  -5    & -1   &  -2\\\\     1    &  0   &   1    &  0   &   5    &  0   &   1\\\\     0   &   0    & -1   &  -2   &  -3    & -8    &  1\\\\     1    & -2  &   -3   &   0    &  2    &  3    & 12\\end{array}\\right)  \\left(\\begin{array}{r} x_1 \\\\ x_2 \\\\ x_3 \\\\ x_4 \\\\ x_5 \\\\ x_6 \\\\ x_7 \\end{array}\\right)=\\left(\\begin{array}{r} 10 \\\\ -6 \\\\ 14 \\\\ 10 \\\\ 8 \\\\ -13 \\\\13 \\end{array}\\right)$$\n",
    "\n",
    "1. Hacer un estudio previo sobre la convergencia de los métodos iterativos de Jacobi y  de Gauss-Seidel para saber cuál converge con mayor velocidad (determinar los radios espectrales de las matrices de los métodos).\n",
    "2. Encontrar un $\\omega \\in (0,2)$ que haga que el método S.O.R. sea más rápido que el de Jacobi y el de Gauss-Seidel.\n",
    "3. Resolver el sistema por Jacobi, Gauss-Seidel y por  S.O.R. con un $\\omega$ adecuado, comparando el número de iteraciones necesarias en cada método para llegar a la solución aproximada con un error residual  $< 10^{-12}$."
   ]
  },
  {
   "cell_type": "code",
   "execution_count": 27,
   "metadata": {
    "scrolled": false
   },
   "outputs": [
    {
     "data": {
      "text/html": [
       "<html><script type=\"math/tex; mode=display\">\\newcommand{\\Bold}[1]{\\mathbf{#1}}\\left(\\begin{array}{rrrrrrr}\n",
       "10.0 & 2.0 & -3.0 & 2.0 & -4.0 & 3.0 & 0.0 \\\\\n",
       "-2.0 & -12.0 & 5.0 & 0.0 & 0.0 & 2.0 & 1.0 \\\\\n",
       "1.0 & 1.0 & 8.0 & 1.0 & 1.0 & 1.0 & 1.0 \\\\\n",
       "-1.0 & 0.0 & 4.0 & 15.0 & -5.0 & -1.0 & -2.0 \\\\\n",
       "1.0 & 0.0 & 1.0 & 0.0 & 5.0 & 0.0 & 1.0 \\\\\n",
       "0.0 & 0.0 & -1.0 & -2.0 & -3.0 & -8.0 & 1.0 \\\\\n",
       "1.0 & -2.0 & -3.0 & 0.0 & 2.0 & 3.0 & 13.0\n",
       "\\end{array}\\right)</script></html>"
      ],
      "text/latex": [
       "\\begin{math}\n",
       "\\newcommand{\\Bold}[1]{\\mathbf{#1}}\\left(\\begin{array}{rrrrrrr}\n",
       "10.0 & 2.0 & -3.0 & 2.0 & -4.0 & 3.0 & 0.0 \\\\\n",
       "-2.0 & -12.0 & 5.0 & 0.0 & 0.0 & 2.0 & 1.0 \\\\\n",
       "1.0 & 1.0 & 8.0 & 1.0 & 1.0 & 1.0 & 1.0 \\\\\n",
       "-1.0 & 0.0 & 4.0 & 15.0 & -5.0 & -1.0 & -2.0 \\\\\n",
       "1.0 & 0.0 & 1.0 & 0.0 & 5.0 & 0.0 & 1.0 \\\\\n",
       "0.0 & 0.0 & -1.0 & -2.0 & -3.0 & -8.0 & 1.0 \\\\\n",
       "1.0 & -2.0 & -3.0 & 0.0 & 2.0 & 3.0 & 13.0\n",
       "\\end{array}\\right)\n",
       "\\end{math}"
      ],
      "text/plain": [
       "[ 10.0   2.0  -3.0   2.0  -4.0   3.0   0.0]\n",
       "[ -2.0 -12.0   5.0   0.0   0.0   2.0   1.0]\n",
       "[  1.0   1.0   8.0   1.0   1.0   1.0   1.0]\n",
       "[ -1.0   0.0   4.0  15.0  -5.0  -1.0  -2.0]\n",
       "[  1.0   0.0   1.0   0.0   5.0   0.0   1.0]\n",
       "[  0.0   0.0  -1.0  -2.0  -3.0  -8.0   1.0]\n",
       "[  1.0  -2.0  -3.0   0.0   2.0   3.0  13.0]"
      ]
     },
     "metadata": {},
     "output_type": "display_data"
    },
    {
     "data": {
      "text/html": [
       "<html><script type=\"math/tex; mode=display\">\\newcommand{\\Bold}[1]{\\mathbf{#1}}\\left(10,\\,-6,\\,14,\\,10,\\,8,\\,-13,\\,14\\right)</script></html>"
      ],
      "text/latex": [
       "\\begin{math}\n",
       "\\newcommand{\\Bold}[1]{\\mathbf{#1}}\\left(10,\\,-6,\\,14,\\,10,\\,8,\\,-13,\\,14\\right)\n",
       "\\end{math}"
      ],
      "text/plain": [
       "(10, -6, 14, 10, 8, -13, 14)"
      ]
     },
     "metadata": {},
     "output_type": "display_data"
    }
   ],
   "source": [
    "A = matrix(RDF, \n",
    "[\n",
    "[10, 2, -3, 2, -4, 3, 0],\n",
    "[-2, -12, 5, 0, 0, 2, 1],\n",
    "[1, 1, 8, 1, 1, 1, 1],\n",
    "[-1, 0, 4, 15, -5, -1, -2],\n",
    "[1, 0, 1, 0, 5, 0, 1],\n",
    "[0, 0, -1, -2, -3, -8, 1],\n",
    "[1, -2, -3, 0, 2, 3, 13]\n",
    "])\n",
    "show(A)\n",
    "b = vector([10, -6, 14, 10, 8, -13, 14])\n",
    "show(b)"
   ]
  },
  {
   "cell_type": "markdown",
   "metadata": {},
   "source": [
    "Calculamos las matrices $J$ y $G$ de los métodos de Jacobi y de Gauss-Seidel, y sus radios espectrales."
   ]
  },
  {
   "cell_type": "code",
   "execution_count": 28,
   "metadata": {
    "scrolled": false
   },
   "outputs": [
    {
     "data": {
      "text/plain": [
       "[-0.2735362906380897 + 0.23081641973750922*I,\n",
       " -0.2735362906380897 - 0.23081641973750922*I,\n",
       " -0.005468105842221257 + 0.3629247815315212*I,\n",
       " -0.005468105842221257 - 0.3629247815315212*I,\n",
       " 0.08680021467701175,\n",
       " 0.23560428914180515 + 0.23565257535753098*I,\n",
       " 0.23560428914180515 - 0.23565257535753098*I]"
      ]
     },
     "execution_count": 28,
     "metadata": {},
     "output_type": "execute_result"
    }
   ],
   "source": [
    "# Jacobi: matriz J\n",
    "D = diagonal_matrix(A.diagonal())\n",
    "J = D.inverse()*(D-A)\n",
    "J.eigenvalues()"
   ]
  },
  {
   "cell_type": "markdown",
   "metadata": {},
   "source": [
    "Observamos que algunos de los autovalores de J son complejos. Para comparar mejor, consideramos los valores absolutos."
   ]
  },
  {
   "cell_type": "code",
   "execution_count": 29,
   "metadata": {
    "scrolled": true
   },
   "outputs": [
    {
     "data": {
      "text/plain": [
       "[0.3579082590783391,\n",
       " 0.3579082590783391,\n",
       " 0.3629659725528057,\n",
       " 0.3629659725528057,\n",
       " 0.08680021467701175,\n",
       " 0.3332289263174074,\n",
       " 0.3332289263174074]"
      ]
     },
     "execution_count": 29,
     "metadata": {},
     "output_type": "execute_result"
    }
   ],
   "source": [
    "list(map(abs, J.eigenvalues())) # = aplicar \"abs\" a cada termino de la lista de autovalores"
   ]
  },
  {
   "cell_type": "code",
   "execution_count": 30,
   "metadata": {},
   "outputs": [
    {
     "data": {
      "text/plain": [
       "0.3629659725528057"
      ]
     },
     "execution_count": 30,
     "metadata": {},
     "output_type": "execute_result"
    }
   ],
   "source": [
    "max(map(abs, J.eigenvalues()))"
   ]
  },
  {
   "cell_type": "markdown",
   "metadata": {},
   "source": [
    "El radio espectral de $J$ es por tanto aproximadamente 0.36."
   ]
  },
  {
   "cell_type": "code",
   "execution_count": 31,
   "metadata": {
    "scrolled": false
   },
   "outputs": [
    {
     "data": {
      "text/plain": [
       "[0.0,\n",
       " -0.12346225832299837 + 0.08572787313826924*I,\n",
       " -0.12346225832299837 - 0.08572787313826924*I,\n",
       " 0.18450073674409784 + 0.04848811789782376*I,\n",
       " 0.18450073674409784 - 0.04848811789782376*I,\n",
       " -2.2467019769197398e-17,\n",
       " 0.025989282474040396]"
      ]
     },
     "execution_count": 31,
     "metadata": {},
     "output_type": "execute_result"
    }
   ],
   "source": [
    "# Gauss-Seidel: matriz G\n",
    "L = matrix(RDF, 7, 7, lambda i,j: 0 if i < j else A[i,j])\n",
    "G = L.inverse()*(A-L)\n",
    "G.eigenvalues()"
   ]
  },
  {
   "cell_type": "code",
   "execution_count": 32,
   "metadata": {
    "scrolled": false
   },
   "outputs": [
    {
     "data": {
      "text/plain": [
       "[0.0,\n",
       " 0.15030701069153748,\n",
       " 0.15030701069153748,\n",
       " 0.19076587597468303,\n",
       " 0.19076587597468303,\n",
       " 2.2467019769197398e-17,\n",
       " 0.025989282474040396]"
      ]
     },
     "execution_count": 32,
     "metadata": {},
     "output_type": "execute_result"
    }
   ],
   "source": [
    "# valores absolutos de los autovalores de la matriz del método de Gauss-Seidel\n",
    "list(map(abs, G.eigenvalues()))"
   ]
  },
  {
   "cell_type": "code",
   "execution_count": 33,
   "metadata": {},
   "outputs": [
    {
     "data": {
      "text/plain": [
       "0.19076587597468303"
      ]
     },
     "execution_count": 33,
     "metadata": {},
     "output_type": "execute_result"
    }
   ],
   "source": [
    "max(map(abs, G.eigenvalues()))"
   ]
  },
  {
   "cell_type": "markdown",
   "metadata": {},
   "source": [
    "El radio espectral del método de Gauss-Seidel es menor que el del método de Jacobi, pero ambos son $<1$ (valen respectivamente  0.19 y 0.36). Por tanto, ambos métodos convergen, pero el método de Gauss-Seidel será más rápido."
   ]
  },
  {
   "cell_type": "markdown",
   "metadata": {},
   "source": [
    "**Nota sobre el uso del radio espectral para determinar si un método es convergente:**\n",
    "*A lo largo de esta práctica se utiliza con frecuencia el radio espectral de distintas matrices. Nuestro objetivo es puramente académico, con idea de entender la convergencia y su velocidad en pequeños ejemplos comparativos entre distintos métodos iterativos. No obstante, el cálculo efectivo del radio espectral es un problema de cálculo numérico tan complejo o más que la propia resolución de los sistemas lineales (como estudiaremos en el último tema de la asignatura), por lo que en problemas reales y con matrices grandes no se recurre al radio espectral sino a otros criterios de convergencia más sencillos.*"
   ]
  },
  {
   "cell_type": "markdown",
   "metadata": {},
   "source": [
    "Para hallar un paramétro $\\omega$ apropiado en el método SOR, podemos probar mediante tanteo en el intervalo $(0,2)$ ó utilizar un pequeño bucle que calcule los valores de los radios espectrales para $\\omega$ entre 0 y 2 con incrementos de 0.1 y, en un segundo bucle similar, afinamos una segunda cifra decimal con incrementos de 0.01. De forma visual, localizamos los valores óptimos, correspondientes al menor radio espectral"
   ]
  },
  {
   "cell_type": "code",
   "execution_count": 34,
   "metadata": {
    "scrolled": false
   },
   "outputs": [
    {
     "name": "stdout",
     "output_type": "stream",
     "text": [
      "0.000000000000000 1.0\n",
      "0.100000000000000 0.922819757738464\n",
      "0.200000000000000 0.8441471032759666\n",
      "0.300000000000000 0.7639787886799371\n",
      "0.400000000000000 0.6823314129731725\n",
      "0.500000000000000 0.5992303814295336\n",
      "0.600000000000000 0.5146600301430895\n",
      "0.700000000000000 0.4284407047592237\n",
      "0.800000000000000 0.34000055723963574\n",
      "0.900000000000000 0.2479826602128392\n",
      "1.00000000000000 0.19076587597468334\n",
      "1.10000000000000 0.39286843951604966\n",
      "1.20000000000000 0.5920872970351831\n",
      "1.30000000000000 0.78497803843898\n",
      "1.40000000000000 0.97791642741401\n",
      "1.50000000000000 1.1726629715311705\n",
      "1.60000000000000 1.3700499362228569\n",
      "1.70000000000000 1.5706713541646111\n",
      "1.80000000000000 1.7751167730137989\n",
      "1.90000000000000 1.984071166546882\n",
      "2.00000000000000 2.1983481750163008\n"
     ]
    },
    {
     "data": {
      "image/png": "[encoded data removed]",
      "text/plain": [
       "Graphics object consisting of 1 graphics primitive"
      ]
     },
     "execution_count": 34,
     "metadata": {},
     "output_type": "execute_result"
    }
   ],
   "source": [
    "# Descomposición de la matriz A\n",
    "D = diagonal_matrix(A.diagonal())\n",
    "E = matrix(RDF, 7,7, lambda i,j: 0 if i <= j else A[i,j])\n",
    "F = matrix(RDF, 7,7, lambda i,j: 0 if i >= j else A[i,j])\n",
    "res = []\n",
    "# Bucle para probar valores de omega\n",
    "for omega in [0, 0.1 .. 2]: \n",
    "    S = (D + omega*E).inverse()*((1 - omega)*D - omega*F)\n",
    "    # Cada vez calculamso el radio espectral\n",
    "    rho = max(abs(t) for t in S.eigenvalues())\n",
    "    res.append( (omega, rho) )\n",
    "    print(omega, rho)\n",
    "list_plot(res)"
   ]
  },
  {
   "cell_type": "markdown",
   "metadata": {},
   "source": [
    "Vemos que conviene buscar el $\\omega$ que minimiza el radio espectral de $S$, entre 0.9 y 1.1. Repetimos la busqueda, en este intervalo."
   ]
  },
  {
   "cell_type": "code",
   "execution_count": 35,
   "metadata": {
    "scrolled": false
   },
   "outputs": [
    {
     "name": "stdout",
     "output_type": "stream",
     "text": [
      "0.900000000000000 0.24798266021283952\n",
      "0.910000000000000 0.2384944351656273\n",
      "0.920000000000000 0.22894196477096548\n",
      "0.930000000000000 0.21932243727169626\n",
      "0.940000000000000 0.20963370695710593\n",
      "0.950000000000000 0.19987490078995554\n",
      "0.960000000000000 0.1900474500832398\n",
      "0.970000000000000 0.18015686752154986\n",
      "0.980000000000000 0.17021585745417978\n",
      "0.990000000000000 0.17664865241792405\n",
      "1.00000000000000 0.19076587597468303\n",
      "1.01000000000000 0.20506856426442774\n",
      "1.02000000000000 0.2194908976003678\n",
      "1.03000000000000 0.23398905187225982\n",
      "1.04000000000000 0.24853302880843878\n",
      "1.05000000000000 0.2688729626097567\n",
      "1.06000000000000 0.30199525492394685\n",
      "1.07000000000000 0.3268693354439182\n",
      "1.08000000000000 0.3497638767071131\n",
      "1.09000000000000 0.3716367137427919\n",
      "1.10000000000000 0.3928684395160508\n"
     ]
    },
    {
     "data": {
      "image/png": "[encoded data removed]",
      "text/plain": [
       "Graphics object consisting of 1 graphics primitive"
      ]
     },
     "execution_count": 35,
     "metadata": {},
     "output_type": "execute_result"
    }
   ],
   "source": [
    "res = []\n",
    "for omega in [0.9, 0.91 .. 1.1]:\n",
    "    S = (D + omega*E).inverse()*((1 - omega)*D - omega*F)\n",
    "    rho = max(abs(t) for t in S.eigenvalues())\n",
    "    res.append( (omega, rho) )\n",
    "    print(omega, rho)\n",
    "list_plot(res)"
   ]
  },
  {
   "cell_type": "markdown",
   "metadata": {},
   "source": [
    "El valor optimo encontrado con este método es $\\omega = 0.98$."
   ]
  },
  {
   "cell_type": "markdown",
   "metadata": {},
   "source": [
    "Comparamos los tres métodos."
   ]
  },
  {
   "cell_type": "code",
   "execution_count": 36,
   "metadata": {
    "scrolled": false
   },
   "outputs": [
    {
     "name": "stdout",
     "output_type": "stream",
     "text": [
      "31 (0.99999999999997, 0.9999999999999606, 0.9999999999999697, 0.9999999999999996, 0.9999999999999709, 0.9999999999999911, 1.000000000000014)\n"
     ]
    }
   ],
   "source": [
    "# Jacobi\n",
    "X = vector(RDF,[0]*7)\n",
    "for i in range(1000):\n",
    "    if (A*X-b).norm() < 10^(-12):\n",
    "        print(i, X)\n",
    "        break\n",
    "    X = iteracion_Jacobi(X, 7, A, b)\n",
    "else:\n",
    "    print(\"No se alcanzó la precisión deseada.\")\n",
    "    print(i, X)"
   ]
  },
  {
   "cell_type": "code",
   "execution_count": 37,
   "metadata": {
    "scrolled": false
   },
   "outputs": [
    {
     "name": "stdout",
     "output_type": "stream",
     "text": [
      "20 (0.9999999999999488, 1.0000000000000127, 0.9999999999999954, 0.999999999999968, 1.0000000000000142, 1.0000000000000013, 1.0000000000000022)\n"
     ]
    }
   ],
   "source": [
    "# Gauss-Seidel\n",
    "X = vector(RDF,[0]*7)\n",
    "for i in range(1000):\n",
    "    if (A*X-b).norm() < 10^(-12):\n",
    "        print(i, X)\n",
    "        break\n",
    "    X = iteracion_Gauss_Seidel(X, 7, A, b)\n",
    "else:\n",
    "    print(\"No se alcanzó la precisión deseada.\")\n",
    "    print(i, X)"
   ]
  },
  {
   "cell_type": "code",
   "execution_count": 38,
   "metadata": {
    "scrolled": false
   },
   "outputs": [
    {
     "name": "stdout",
     "output_type": "stream",
     "text": [
      "19 (0.9999999999999689, 0.9999999999999966, 0.9999999999999971, 1.0000000000000024, 1.0000000000000049, 0.9999999999999994, 1.0000000000000007)\n"
     ]
    }
   ],
   "source": [
    "# SOR con omega = 0.98\n",
    "X = vector(RDF,[0]*7)\n",
    "for i in range(1000):\n",
    "    if (A*X-b).norm() < 10^(-12):\n",
    "        print(i, X)\n",
    "        break\n",
    "    X = iteracion_SOR(X, 0.98, 7, A, b)\n",
    "else:\n",
    "    print(\"No se alcanzó la precisión deseada.\")\n",
    "    print(i, X)"
   ]
  },
  {
   "cell_type": "markdown",
   "metadata": {},
   "source": [
    "Bastaron:\n",
    "* 31 iteraciones con el método de Jacobi\n",
    "* 20 con el método de Gauss-Seidel\n",
    "* 19 con el método SOR con $\\omega=0.98$\n",
    "para alcanzar la precisión deseada.\n",
    "\n",
    "Como conclusión, el método más eficiente ha sido el de relajación aunque el coste computacional para encontrar el valor $\\omega$ adecuado ha sido muy superior al coste de cualquiera de los otros dos métodos. **No es práctica esta forma de encontrar un valor óptimo para el parámetro de relajación**. Debe entenderse este ejercicio como una ilustración de la importancia de elegir un valor del parámetro $\\omega$  adecuado y su repercusión sobre la velocidad de convergencia."
   ]
  },
  {
   "cell_type": "markdown",
   "metadata": {},
   "source": [
    "#### Ejemplo  (sistema mal condicionado).\n",
    "\n",
    "Consideremos el sistema $5 \\times 5$ de matriz de coeficientes $A=\\left( \\frac{1}{i+j-1}\\right)_{1 \\le i,j \\le 5}$ y solución el vector $x=(1,-1,1,-1,1)$, tomando como vector de términos independientes el valor de $b=Ax$. Se pide:\n",
    "1. Hacer un estudio previo sobre la convergencia de los métodos iterativos de Jacobi, de Gauss-Seidel y de relajación para $\\omega =0.1$, para saber cuál de ellos converge con mayor velocidad.\n",
    "2. Aplicar los tres métodos iterados hasta obtener un error residual $ < 10^{-6}$  y sopesar qué está ocurriendo.\n",
    "\n",
    "(Nota: la matriz $A$ es conocida como matriz de Hilbert y es un buen ejemplo de matriz muy mal condicionada para sistemas de ecuaciones.Son muy usadas para poner de manifiesto las dificultades numéricas de algunos métodos numéricos.)"
   ]
  },
  {
   "cell_type": "code",
   "execution_count": 39,
   "metadata": {
    "scrolled": false
   },
   "outputs": [
    {
     "data": {
      "text/html": [
       "<html><script type=\"math/tex; mode=display\">\\newcommand{\\Bold}[1]{\\mathbf{#1}}\\left(\\begin{array}{rrrrr}\n",
       "1.0 & 0.5 & 0.3333333333333333 & 0.25 & 0.2 \\\\\n",
       "0.5 & 0.3333333333333333 & 0.25 & 0.2 & 0.16666666666666666 \\\\\n",
       "0.3333333333333333 & 0.25 & 0.2 & 0.16666666666666666 & 0.14285714285714285 \\\\\n",
       "0.25 & 0.2 & 0.16666666666666666 & 0.14285714285714285 & 0.125 \\\\\n",
       "0.2 & 0.16666666666666666 & 0.14285714285714285 & 0.125 & 0.1111111111111111\n",
       "\\end{array}\\right)</script></html>"
      ],
      "text/latex": [
       "\\begin{math}\n",
       "\\newcommand{\\Bold}[1]{\\mathbf{#1}}\\left(\\begin{array}{rrrrr}\n",
       "1.0 & 0.5 & 0.3333333333333333 & 0.25 & 0.2 \\\\\n",
       "0.5 & 0.3333333333333333 & 0.25 & 0.2 & 0.16666666666666666 \\\\\n",
       "0.3333333333333333 & 0.25 & 0.2 & 0.16666666666666666 & 0.14285714285714285 \\\\\n",
       "0.25 & 0.2 & 0.16666666666666666 & 0.14285714285714285 & 0.125 \\\\\n",
       "0.2 & 0.16666666666666666 & 0.14285714285714285 & 0.125 & 0.1111111111111111\n",
       "\\end{array}\\right)\n",
       "\\end{math}"
      ],
      "text/plain": [
       "[                1.0                 0.5  0.3333333333333333                0.25                 0.2]\n",
       "[                0.5  0.3333333333333333                0.25                 0.2 0.16666666666666666]\n",
       "[ 0.3333333333333333                0.25                 0.2 0.16666666666666666 0.14285714285714285]\n",
       "[               0.25                 0.2 0.16666666666666666 0.14285714285714285               0.125]\n",
       "[                0.2 0.16666666666666666 0.14285714285714285               0.125  0.1111111111111111]"
      ]
     },
     "metadata": {},
     "output_type": "display_data"
    }
   ],
   "source": [
    "A = matrix(RDF, 5, 5, lambda i,j: 1/(i+j+1)) # matriz de Hilbert de orden 5\n",
    "X_exacto = vector(RDF, [1, -1, 1, -1, 1])\n",
    "b = A*X_exacto ### calculamos b para que la solución sea la propuesta en el enunciado\n",
    "show(A)"
   ]
  },
  {
   "cell_type": "markdown",
   "metadata": {},
   "source": [
    "Determinamos las matrices J, G, S de los tres métodos y sus radios espectrales."
   ]
  },
  {
   "cell_type": "code",
   "execution_count": 40,
   "metadata": {
    "scrolled": false
   },
   "outputs": [
    {
     "data": {
      "text/plain": [
       "3.444142191165952"
      ]
     },
     "execution_count": 40,
     "metadata": {},
     "output_type": "execute_result"
    }
   ],
   "source": [
    "# Jacobi\n",
    "D = diagonal_matrix(A.diagonal())\n",
    "J = D.inverse()*(A-D)\n",
    "rho_J = max(abs(t) for t in J.eigenvalues())\n",
    "rho_J"
   ]
  },
  {
   "cell_type": "markdown",
   "metadata": {},
   "source": [
    "El método de Jacobi diverge aquí, ya que el radio espectral de la matriz del método es $>1$."
   ]
  },
  {
   "cell_type": "code",
   "execution_count": 41,
   "metadata": {
    "scrolled": false
   },
   "outputs": [
    {
     "data": {
      "text/plain": [
       "0.9999576712229572"
      ]
     },
     "execution_count": 41,
     "metadata": {},
     "output_type": "execute_result"
    }
   ],
   "source": [
    "# Gauss-Seidel\n",
    "L = matrix(5, 5, lambda i,j: 0 if i < j else A[i,j])\n",
    "G = L.inverse()*(A-L)\n",
    "rho_G= max(abs(t) for t in G.eigenvalues())\n",
    "rho_G"
   ]
  },
  {
   "cell_type": "code",
   "execution_count": 42,
   "metadata": {
    "scrolled": false
   },
   "outputs": [
    {
     "data": {
      "text/plain": [
       "0.9999977774173188"
      ]
     },
     "execution_count": 42,
     "metadata": {},
     "output_type": "execute_result"
    }
   ],
   "source": [
    "# SOR con omega = 0.1\n",
    "omega = 0.1\n",
    "E = matrix( 5, 5, lambda i,j: 0 if i <= j else A[i,j])\n",
    "F = matrix(5, 5, lambda i,j: 0 if i >= j else A[i,j])\n",
    "D = diagonal_matrix(A.diagonal())\n",
    "S = (D + omega*E).inverse()*((1 - omega)*D - omega*F)\n",
    "rho_S = max(abs(t) for t in S.eigenvalues())\n",
    "rho_S"
   ]
  },
  {
   "cell_type": "markdown",
   "metadata": {},
   "source": [
    "Los radios espectrales de las matrices de los métodos de Gauss-Seidel y SOR ($\\omega$=0.1) son $<1$ pero muy cerca de $1$: los dos métodos van a converger, pero muy lentamente, y SOR más lentamente que Gauss-Seidel."
   ]
  },
  {
   "cell_type": "code",
   "execution_count": 43,
   "metadata": {
    "scrolled": false
   },
   "outputs": [
    {
     "name": "stdout",
     "output_type": "stream",
     "text": [
      "No se alcanzó la precisión deseada.\n",
      "99 (-5.955186114777215e+52, -1.2437158689781507e+53, -1.6266997690077658e+53, -1.8866962910841102e+53, -2.0764275590948073e+53)\n"
     ]
    }
   ],
   "source": [
    "# Jacobi; para constatar la divergencia\n",
    "X = vector(RDF,[0]*5)\n",
    "for i in range(100):\n",
    "    if (A*X-b).norm() < 10^(-6):\n",
    "        print(i, X)\n",
    "        break\n",
    "    X = iteracion_Jacobi(X, 5, A, b)\n",
    "else:\n",
    "    print(\"No se alcanzó la precisión deseada.\")\n",
    "    print(i, X)"
   ]
  },
  {
   "cell_type": "code",
   "execution_count": 44,
   "metadata": {
    "scrolled": false
   },
   "outputs": [
    {
     "name": "stdout",
     "output_type": "stream",
     "text": [
      "No se alcanzó la precisión deseada.\n",
      "99 (0.990735844728053, -0.812726932436216, 0.151960636911040, 0.322743990855607, 0.338015212402790)\n"
     ]
    }
   ],
   "source": [
    "# Gauss-Seidel\n",
    "X = vector(RR,[0]*5)\n",
    "for i in range(100):\n",
    "    if (A*X-b).norm() < 10^(-6):\n",
    "        print(i, X)\n",
    "        break\n",
    "    X = iteracion_Gauss_Seidel(X, 5, A, b)\n",
    "else:\n",
    "    print(\"No se alcanzó la precisión deseada.\")\n",
    "    print(i, X)"
   ]
  },
  {
   "cell_type": "markdown",
   "metadata": {},
   "source": [
    "Repetimos con más pasos."
   ]
  },
  {
   "cell_type": "code",
   "execution_count": 45,
   "metadata": {
    "scrolled": false
   },
   "outputs": [
    {
     "name": "stdout",
     "output_type": "stream",
     "text": [
      "45951 (0.998380532797291, -0.970271735008125, 0.873347121519316, -0.810380776654773, 0.907840432403136)\n"
     ]
    }
   ],
   "source": [
    "# Gauss-Seidel\n",
    "X = vector(RR,[0]*5)\n",
    "for i in range(100000):\n",
    "    if (A*X-b).norm() < 10^(-6):\n",
    "        print(i, X)\n",
    "        break\n",
    "    X = iteracion_Gauss_Seidel(X, 5, A, b)\n",
    "else:\n",
    "    print(\"No se alcanzó la precisión deseada.\")\n",
    "    print(i, X)"
   ]
  },
  {
   "cell_type": "code",
   "execution_count": 46,
   "metadata": {
    "scrolled": false
   },
   "outputs": [
    {
     "data": {
      "text/plain": [
       "(-6.855006595696267e-08, 3.8517866718379423e-07, -7.804720379978036e-07, 4.876458651326132e-07, 0.0)"
      ]
     },
     "execution_count": 46,
     "metadata": {},
     "output_type": "execute_result"
    }
   ],
   "source": [
    "A*X-b"
   ]
  },
  {
   "cell_type": "markdown",
   "metadata": {},
   "source": [
    "Observese que a pesar de tener un error residual pequeño, el error de la aproximación es bastante grande:"
   ]
  },
  {
   "cell_type": "code",
   "execution_count": 47,
   "metadata": {
    "scrolled": false
   },
   "outputs": [
    {
     "data": {
      "text/plain": [
       "0.110793663900585"
      ]
     },
     "execution_count": 47,
     "metadata": {},
     "output_type": "execute_result"
    }
   ],
   "source": [
    "X_exacto = vector(RDF,[1,-1,1,-1,1])\n",
    "(X-X_exacto).norm() / X_exacto.norm() # error relativo"
   ]
  },
  {
   "cell_type": "markdown",
   "metadata": {},
   "source": [
    "El error relativo es de 11 %."
   ]
  },
  {
   "cell_type": "code",
   "execution_count": 49,
   "metadata": {
    "scrolled": true
   },
   "outputs": [
    {
     "name": "stdout",
     "output_type": "stream",
     "text": [
      "No se alcanzó la precisión deseada.\n",
      "99999 (0.990381565102128, -0.8202147606727231, 0.22535259343614544, 0.16886309328078136, 0.42862815160884976)\n"
     ]
    }
   ],
   "source": [
    "# SOR\n",
    "omega = 0.1\n",
    "X = vector(RDF,[0]*5)\n",
    "for i in range(100000):\n",
    "    if (A*X-b).norm() < 10^(-6):\n",
    "        print(i, X)\n",
    "        break\n",
    "    else:\n",
    "        X = iteracion_SOR(X, omega, 5, A, b)\n",
    "else:\n",
    "    print(\"No se alcanzó la precisión deseada.\")\n",
    "    print(i, X)"
   ]
  },
  {
   "cell_type": "code",
   "execution_count": 50,
   "metadata": {},
   "outputs": [
    {
     "data": {
      "text/plain": [
       "0.6819384973784354"
      ]
     },
     "execution_count": 50,
     "metadata": {},
     "output_type": "execute_result"
    }
   ],
   "source": [
    "X_exacto = vector(RDF,[1,-1,1,-1,1])\n",
    "(X-X_exacto).norm() / X_exacto.norm() # error relativo"
   ]
  },
  {
   "cell_type": "markdown",
   "metadata": {},
   "source": [
    "El error relativo es de 68 %.\n",
    "\n",
    "Lo que sucede es que el radio espectral está muy próximo a 1 en Gauss-Seidel y en método de relajación, aunque por debajo de 1, por lo que la convergencia es excesivamente lenta. En el caso del método de Jacobi, el radio supera el valor 1, por lo que no converge."
   ]
  },
  {
   "cell_type": "markdown",
   "metadata": {},
   "source": [
    "<hr>\n",
    "\n",
    "<h3><a name=\"cuestionario\"></a></h3>\n",
    "<h3>CUESTIONARIO PARA EL ALUMNADO</h3>\n",
    "\n",
    "Introduzca en la variable NUMERO_CUESTIONARIO, que aparece más abajo, el número correspondiente a su cuestionario asignado y ejecuta la celda (*Shift* + *Enter* desde dentro de la celda). Accederá a un cuestionario con respuestas tipo test que se entregará cumplimentado antes de finalizar esta sesión práctica, siguiendo un modelo impreso que entregará el profesor y/o on-line en la plataforma de enseñanza virtual (seguir las instrucciones dadas en la clase de laboratorio por el docente).\n",
    "\n",
    "**Ayuda para copiar los datos de los enunciados:**\n",
    "\n",
    "* Se puede utilizar la función `matrix_from_copypaste` para copiar y pegar los coeficientes de las matrices. Selecciona con el ratón todos los datos del interior de la matriz y cópialos con Ctrl+C. Luego, pégalos (entre comillas) con Ctrl+V en el interior de la siguiente orden:\n",
    "      A = matrix_from_copypaste(RDF, 5, 5, 'pegar_aqui_los_coeficientes' )   # matriz de orden 5x5 para datos en RDF.\n",
    "* De forma análoga, se puede utilizar la función `vector_from_copypaste` para copiar y pegar los coeficientes de los vectores.\n",
    "      b = vector_from_copypaste(RDF, 'pegar_aqui_los_coeficientes' )    # vector para datos en RDF.\n",
    "\n",
    "_Observaciones:_\n",
    "* se puede utilizar la función `matrix_from_copypaste` para copiar y pegar los coeficientes de las matrices.\n",
    "* Utilizar el formato `RDF` (*Real Double Field*) para almacenar los números en coma flotante.\n",
    "* En el ejercicio 2, apartado 3, la 'tolerancia' es sobre el error residual $||AX-b||$. "
   ]
  },
  {
   "cell_type": "code",
   "execution_count": 1,
   "metadata": {
    "scrolled": false
   },
   "outputs": [
    {
     "data": {
      "text/html": [
       "<center><h4>E.T.S.I.I. - GRADOS EN INGENIERÍA INFORMÁTICA</h4></center><center><h4>Álgebra Lineal y Numérica - CUARTA PRÁCTICA DE LABORATORIO</h4></center><hr  align=center><center>APELLIDOS, NOMBRE: <INPUT value= \"\",type=text size=70> <INPUT type=submit value=81-7C34C><hr  align=center></center><hr  align=center><b> <span style=\"color: #0000ff;\">EJERCICIO 1 </span></b><br> Dada la matriz <script type=\"math/tex; mode=display\">A=\\left(\\begin{array}{rrrrr}-0.57486294277,&-0.499906990589,&0.237538891096,&-0.202598125163,&0.0860960308289,\\\\-0.675303753138,&0.877573020116,&0.372016307091,&-0.284829060786,&0.305464790385,\\\\-0.212341335913,&0.404484524767,&0.334502523686,&-0.261353885268,&0.735612603894,\\\\0.066742340323,&-0.170632866829,&0.0815988121588,&-0.830433036079,&-0.326214035652,\\\\-0.38331335899,&-0.64292829579,&-0.180826820671,&-0.174827273423,&0.694218334301,\\end{array}\\right)</script> y el sistema de ecuaciones <script type=\"math/tex\">Ax=b</script>, se pide responder a las siguientes cuestiones:<ol><li>Para el valor de relajación <script type=\"math/tex\">\\omega = 1.3</script>, ordenar de más a menos rápidos los métodos iterados que sean convergentes \n",
       " asociados al sistema <script type=\"math/tex\">Ax=b</script>, de entre Jacobi, Gauss-Seidel y Relajación.</li><li>Hallar el radio espectral de la matriz <script type=\"math/tex\">A</script>.</li><li>Deducir si tiene garantizada o no la convergencia un método iterado que tuviese a la matriz <script type=\"math/tex\">A</script>\n",
       " como matriz de iteración.</li></ol>Ayuda: Para cargar en memoria la matriz <script type=\"math/tex\">A</script>, seleccionar con el ratón los números de la matriz, copiar\n",
       " y pegar dentro de la siguiente orden y borrar y volver a escribir los signos negativos:\n",
       "         A=transpose(matrix(RDF,5,[pegar aquí la lista de números])).<br><hr  align=center><b> <span style=\"color: #ff0000;\">Respuesta al apartado 1 </span></b><br><br> <table style=\" width:100%\"> <tr> <td style=\"border:none; text-align:left\">1.<input type=checkbox> Jacobi Gauss-Seidel Relajación     </td> <td style=\"border:none; text-align:left\">2.<input type=checkbox> Gauss-Seidel Relajación     </td> </tr> <tr> <td style=\"border:none; text-align:left\">3.<input type=checkbox> Relajación     </td> <td style=\"border:none; text-align:left\">4.<input type=checkbox> No converge ningún método    </td> </tr> </table><br><br><b> <span style=\"color: #ff0000;\">Respuesta al apartado 2 </span></b><br><br> <table style=\" width:100%\"> <tr> <td style=\"border:none; text-align:left\">1.<input type=checkbox> 0.996290756941054    </td> <td style=\"border:none; text-align:left\">2.<input type=checkbox> 1.30839300995773    </td> </tr> <tr> <td style=\"border:none; text-align:left\">3.<input type=checkbox> 1.33138907553155    </td> <td style=\"border:none; text-align:left\">4.<input type=checkbox> 1.25140155465419    </td> </tr> </table><br><br><b> <span style=\"color: #ff0000;\">Respuesta al apartado 3 </span></b><br><br> 1.<input type=checkbox> Hay convergencia porque el radio espectral es mayor o igual que 1. <br> 2.<input type=checkbox> Hay convergencia porque el radio espectral es menor que 1. <br> 3.<input type=checkbox> No hay convergencia porque el radio espectral es menor que 1. <br> 4.<input type=checkbox> La convergencia depende del valor inicial <script type=\"math/tex\">x_0</script> de la iteración.<br><br><hr  align=center><b> <span style=\"color: #0000ff;\">EJERCICIO 2 </span></b><br> Dado el sistema de ecuaciones de matriz ampliada <script type=\"math/tex; mode=display\">(A|{\\bf b})=\\left(\\begin{array}{rrrrrr}3,&1,&20,&2,&4,&230,\\\\18,&1,&5,&2,&4,&170,\\\\3,&1,&5,&2,&19,&200,\\\\3,&16,&5,&2,&4,&110,\\\\3,&1,&5,&17,&4,&140,\\end{array}\\right)</script> se pide responder a las siguientes cuestiones:<ol><li>Señalar cómo se tienen que reordenar las ecuaciones del sistema para llegar a una matriz de coeficientes que \n",
       " sea diagonal dominante por filas. El resto del ejercicio se trabajará con este nuevo sistema reordenado.</li><li>Determinar con dos cifras decimales de precisión el valor <script type=\"math/tex\">\\omega</script> que hace que el método de relajación converja más rápido.</li><li>Fijado un valor <script type=\"math/tex\">\\omega = 1.10</script> y una tolerancia de <script type=\"math/tex\">0.0001</script>, determinar la suma del número mínimo de iteraciones que requieren \n",
       " los tres métodos iterados para dar una salida acorde al nivel de tolerancia.</li></ol>Ayuda: Para cargar en memoria la matriz <script type=\"math/tex\">A</script> y el vector <script type=\"math/tex\">b</script>, seleccionar con el ratón los números correspondientes, copiar\n",
       " y pegar dentro de las siguientes órdenes:\n",
       "         A=transpose(matrix(RDF,5,[pegar aquí la lista de números]))\n",
       "         b=vector(RDF,[pegar aquí la lista de números]).<br><hr  align=center><b> <span style=\"color: #ff0000;\">Respuesta al apartado 1 </span></b><br><br> <table style=\" width:100%\"> <tr> <td style=\"border:none; text-align:left\">1.<input type=checkbox> [3, 4, 2, 1, 5]    </td> <td style=\"border:none; text-align:left\">2.<input type=checkbox> [2, 4, 1, 5, 3]    </td> </tr> <tr> <td style=\"border:none; text-align:left\">3.<input type=checkbox> [3, 2, 4, 5, 1]    </td> <td style=\"border:none; text-align:left\">4.<input type=checkbox> [5, 1, 2, 4, 3]    </td> </tr> </table><br><br><b> <span style=\"color: #ff0000;\">Respuesta al apartado 2 </span></b><br><br> <table style=\" width:100%\"> <tr> <td style=\"border:none; text-align:left\">1.<input type=checkbox> 0.20    </td> <td style=\"border:none; text-align:left\">2.<input type=checkbox> 0.47    </td> </tr> <tr> <td style=\"border:none; text-align:left\">3.<input type=checkbox> 1.40    </td> <td style=\"border:none; text-align:left\">4.<input type=checkbox> Ninguna de las otras respuestas.    </td> </tr> </table><br><br><b> <span style=\"color: #ff0000;\">Respuesta al apartado 3 </span></b><br><br> <table style=\" width:100%\"> <tr> <td style=\"border:none; text-align:left\">1.<input type=checkbox> 37    </td> <td style=\"border:none; text-align:left\">2.<input type=checkbox> 203    </td> </tr> <tr> <td style=\"border:none; text-align:left\">3.<input type=checkbox> 51    </td> <td style=\"border:none; text-align:left\">4.<input type=checkbox> 38    </td> </tr> </table><br><br><hr  align=center><b> <span style=\"color: #0000ff;\">EJERCICIO 3 </span></b><br> En un asilo de matemáticos, las tartas de cumpleaños se reparten entre los 10 inquilinos de la siguiente \n",
       " manera: el primero en ponerse en fila recibe una porción de un cierto tamaño predeterminado, y los siguientes\n",
       " reciben una porción de tamaño un 29/50 del tamaño del anterior, y otra de tamaño un 21/50 del tamaño del posterior,\n",
       " hasta llegar al  último que recibe una de otro tamaño prefijado. Se pide:<ol><li>Identificar la matriz de coeficientes del sistema lineal que modela el problema del enunciado\n",
       "para variables <script type=\"math/tex\">x_1,x_2,\\dots,x_{10}</script>, donde <script type=\"math/tex\">x_i</script> es la porción correspondiente a la posición <script type=\"math/tex\">i</script> en la fila.</li><li>Si eres goloso y te gustan las tartas, ¿cuál es la posición más adelantada de la fila en la que te deberías\n",
       " situar si  el tamaño de la porción que recibe el primero es 1 y el tamaño de la porción que recibe\n",
       " el último es 4?</li><li>Supuesto que el tamaño de la porción que recibe el primero es ahora 1 y el tamaño de la porción que recibe\n",
       " el último es 4, determinar el tamaño de la porción de tarta que se llevaría la persona que ocupa la\n",
       " posición 7 de la fila.</li></ol>Marcar la respuesta correcta.<br><hr  align=center><b> <span style=\"color: #ff0000;\">Respuesta al apartado 1 </span></b><br><br> 1.<input type=checkbox> <script type=\"math/tex\">\\left(\\begin{array}{rrrrrrrrrr}1.00,&0.00,&0.00,&0.00,&0.00,&0.00,&0.00,&0.00,&0.00,&0.00,\\\\0.09,&-1.0,&0.91,&0.00,&0.00,&0.00,&0.00,&0.00,&0.00,&0.00,\\\\0.00,&0.09,&-1.0,&0.91,&0.00,&0.00,&0.00,&0.00,&0.00,&0.00,\\\\0.00,&0.00,&0.09,&-1.0,&0.91,&0.00,&0.00,&0.00,&0.00,&0.00,\\\\0.00,&0.00,&0.00,&0.09,&-1.0,&0.91,&0.00,&0.00,&0.00,&0.00,\\\\0.00,&0.00,&0.00,&0.00,&0.09,&-1.0,&0.91,&0.00,&0.00,&0.00,\\\\0.00,&0.00,&0.00,&0.00,&0.00,&0.09,&-1.0,&0.91,&0.00,&0.00,\\\\0.00,&0.00,&0.00,&0.00,&0.00,&0.00,&0.09,&-1.0,&0.91,&0.00,\\\\0.00,&0.00,&0.00,&0.00,&0.00,&0.00,&0.00,&0.09,&-1.0,&0.91,\\\\0.00,&0.00,&0.00,&0.00,&0.00,&0.00,&0.00,&0.00,&0.00,&1.00,\\end{array}\\right)</script> <br> 2.<input type=checkbox> <script type=\"math/tex\">\\left(\\begin{array}{rrrrrrrrrr}1.00,&0.00,&0.00,&0.00,&0.00,&0.00,&0.00,&0.00,&0.00,&0.00,\\\\0.58,&-1.0,&0.42,&0.00,&0.00,&0.00,&0.00,&0.00,&0.00,&0.00,\\\\0.00,&0.58,&-1.0,&0.42,&0.00,&0.00,&0.00,&0.00,&0.00,&0.00,\\\\0.00,&0.00,&0.58,&-1.0,&0.42,&0.00,&0.00,&0.00,&0.00,&0.00,\\\\0.00,&0.00,&0.00,&0.58,&-1.0,&0.42,&0.00,&0.00,&0.00,&0.00,\\\\0.00,&0.00,&0.00,&0.00,&0.58,&-1.0,&0.42,&0.00,&0.00,&0.00,\\\\0.00,&0.00,&0.00,&0.00,&0.00,&0.58,&-1.0,&0.42,&0.00,&0.00,\\\\0.00,&0.00,&0.00,&0.00,&0.00,&0.00,&0.58,&-1.0,&0.42,&0.00,\\\\0.00,&0.00,&0.00,&0.00,&0.00,&0.00,&0.00,&0.58,&-1.0,&0.42,\\\\0.00,&0.00,&0.00,&0.00,&0.00,&0.00,&0.00,&0.00,&0.00,&1.00,\\end{array}\\right)</script> <br> 3.<input type=checkbox> <script type=\"math/tex\">\\left(\\begin{array}{rrrrrrrrrr}1.00,&0.00,&0.00,&0.00,&0.00,&0.00,&0.00,&0.00,&0.00,&0.00,\\\\0.18,&-1.0,&0.82,&0.00,&0.00,&0.00,&0.00,&0.00,&0.00,&0.00,\\\\0.00,&0.18,&-1.0,&0.82,&0.00,&0.00,&0.00,&0.00,&0.00,&0.00,\\\\0.00,&0.00,&0.18,&-1.0,&0.82,&0.00,&0.00,&0.00,&0.00,&0.00,\\\\0.00,&0.00,&0.00,&0.18,&-1.0,&0.82,&0.00,&0.00,&0.00,&0.00,\\\\0.00,&0.00,&0.00,&0.00,&0.18,&-1.0,&0.82,&0.00,&0.00,&0.00,\\\\0.00,&0.00,&0.00,&0.00,&0.00,&0.18,&-1.0,&0.82,&0.00,&0.00,\\\\0.00,&0.00,&0.00,&0.00,&0.00,&0.00,&0.18,&-1.0,&0.82,&0.00,\\\\0.00,&0.00,&0.00,&0.00,&0.00,&0.00,&0.00,&0.18,&-1.0,&0.82,\\\\0.00,&0.00,&0.00,&0.00,&0.00,&0.00,&0.00,&0.00,&0.00,&1.00,\\end{array}\\right)</script> <br> 4.<input type=checkbox> <script type=\"math/tex\">\\left(\\begin{array}{rrrrrrrrrr}1.00,&0.00,&0.00,&0.00,&0.00,&0.00,&0.00,&0.00,&0.00,&0.00,\\\\0.65,&-1.0,&0.35,&0.00,&0.00,&0.00,&0.00,&0.00,&0.00,&0.00,\\\\0.00,&0.65,&-1.0,&0.35,&0.00,&0.00,&0.00,&0.00,&0.00,&0.00,\\\\0.00,&0.00,&0.65,&-1.0,&0.35,&0.00,&0.00,&0.00,&0.00,&0.00,\\\\0.00,&0.00,&0.00,&0.65,&-1.0,&0.35,&0.00,&0.00,&0.00,&0.00,\\\\0.00,&0.00,&0.00,&0.00,&0.65,&-1.0,&0.35,&0.00,&0.00,&0.00,\\\\0.00,&0.00,&0.00,&0.00,&0.00,&0.65,&-1.0,&0.35,&0.00,&0.00,\\\\0.00,&0.00,&0.00,&0.00,&0.00,&0.00,&0.65,&-1.0,&0.35,&0.00,\\\\0.00,&0.00,&0.00,&0.00,&0.00,&0.00,&0.00,&0.65,&-1.0,&0.35,\\\\0.00,&0.00,&0.00,&0.00,&0.00,&0.00,&0.00,&0.00,&0.00,&1.00,\\end{array}\\right)</script><br><br><b> <span style=\"color: #ff0000;\">Respuesta al apartado 2 </span></b><br><br> <table style=\" width:100%\"> <tr> <td style=\"border:none; text-align:left\">1.<input type=checkbox> 9    </td> <td style=\"border:none; text-align:left\">2.<input type=checkbox> 2    </td> </tr> <tr> <td style=\"border:none; text-align:left\">3.<input type=checkbox> 7    </td> <td style=\"border:none; text-align:left\">4.<input type=checkbox> Ninguna de las otras respuestas.    </td> </tr> </table><br><br><b> <span style=\"color: #ff0000;\">Respuesta al apartado 3 </span></b><br><br> <table style=\" width:100%\"> <tr> <td style=\"border:none; text-align:left\">1.<input type=checkbox> 1.11096433289300    </td> <td style=\"border:none; text-align:left\">2.<input type=checkbox> 1.00072098053353    </td> </tr> <tr> <td style=\"border:none; text-align:left\">3.<input type=checkbox> 2.03137712134945    </td> <td style=\"border:none; text-align:left\">4.<input type=checkbox> 1.00325624658717    </td> </tr> </table><br><br><hr  align=center><center><span style=\"font-size: x-small;\"> Final del documento </span></center>"
      ],
      "text/plain": [
       "<center><h4>E.T.S.I.I. - GRADOS EN INGENIERÍA INFORMÁTICA</h4></center><center><h4>Álgebra Lineal y Numérica - CUARTA PRÁCTICA DE LABORATORIO</h4></center><hr  align=center><center>APELLIDOS, NOMBRE: <INPUT value= \"\",type=text size=70> <INPUT type=submit value=81-7C34C><hr  align=center></center><hr  align=center><b> <span style=\"color: #0000ff;\">EJERCICIO 1 </span></b><br> Dada la matriz <script type=\"math/tex; mode=display\">A=\\left(\\begin{array}{rrrrr}-0.57486294277,&-0.499906990589,&0.237538891096,&-0.202598125163,&0.0860960308289,\\\\-0.675303753138,&0.877573020116,&0.372016307091,&-0.284829060786,&0.305464790385,\\\\-0.212341335913,&0.404484524767,&0.334502523686,&-0.261353885268,&0.735612603894,\\\\0.066742340323,&-0.170632866829,&0.0815988121588,&-0.830433036079,&-0.326214035652,\\\\-0.38331335899,&-0.64292829579,&-0.180826820671,&-0.174827273423,&0.694218334301,\\end{array}\\right)</script> y el sistema de ecuaciones <script type=\"math/tex\">Ax=b</script>, se pide responder a las siguientes cuestiones:<ol><li>Para el valor de relajación <script type=\"math/tex\">\\omega = 1.3</script>, ordenar de más a menos rápidos los métodos iterados que sean convergentes \n",
       " asociados al sistema <script type=\"math/tex\">Ax=b</script>, de entre Jacobi, Gauss-Seidel y Relajación.</li><li>Hallar el radio espectral de la matriz <script type=\"math/tex\">A</script>.</li><li>Deducir si tiene garantizada o no la convergencia un método iterado que tuviese a la matriz <script type=\"math/tex\">A</script>\n",
       " como matriz de iteración.</li></ol>Ayuda: Para cargar en memoria la matriz <script type=\"math/tex\">A</script>, seleccionar con el ratón los números de la matriz, copiar\n",
       " y pegar dentro de la siguiente orden y borrar y volver a escribir los signos negativos:\n",
       "         A=transpose(matrix(RDF,5,[pegar aquí la lista de números])).<br><hr  align=center><b> <span style=\"color: #ff0000;\">Respuesta al apartado 1 </span></b><br><br> <table style=\" width:100%\"> <tr> <td style=\"border:none; text-align:left\">1.<input type=checkbox> Jacobi Gauss-Seidel Relajación     </td> <td style=\"border:none; text-align:left\">2.<input type=checkbox> Gauss-Seidel Relajación     </td> </tr> <tr> <td style=\"border:none; text-align:left\">3.<input type=checkbox> Relajación     </td> <td style=\"border:none; text-align:left\">4.<input type=checkbox> No converge ningún método    </td> </tr> </table><br><br><b> <span style=\"color: #ff0000;\">Respuesta al apartado 2 </span></b><br><br> <table style=\" width:100%\"> <tr> <td style=\"border:none; text-align:left\">1.<input type=checkbox> 0.996290756941054    </td> <td style=\"border:none; text-align:left\">2.<input type=checkbox> 1.30839300995773    </td> </tr> <tr> <td style=\"border:none; text-align:left\">3.<input type=checkbox> 1.33138907553155    </td> <td style=\"border:none; text-align:left\">4.<input type=checkbox> 1.25140155465419    </td> </tr> </table><br><br><b> <span style=\"color: #ff0000;\">Respuesta al apartado 3 </span></b><br><br> 1.<input type=checkbox> Hay convergencia porque el radio espectral es mayor o igual que 1. <br> 2.<input type=checkbox> Hay convergencia porque el radio espectral es menor que 1. <br> 3.<input type=checkbox> No hay convergencia porque el radio espectral es menor que 1. <br> 4.<input type=checkbox> La convergencia depende del valor inicial <script type=\"math/tex\">x_0</script> de la iteración.<br><br><hr  align=center><b> <span style=\"color: #0000ff;\">EJERCICIO 2 </span></b><br> Dado el sistema de ecuaciones de matriz ampliada <script type=\"math/tex; mode=display\">(A|{\\bf b})=\\left(\\begin{array}{rrrrrr}3,&1,&20,&2,&4,&230,\\\\18,&1,&5,&2,&4,&170,\\\\3,&1,&5,&2,&19,&200,\\\\3,&16,&5,&2,&4,&110,\\\\3,&1,&5,&17,&4,&140,\\end{array}\\right)</script> se pide responder a las siguientes cuestiones:<ol><li>Señalar cómo se tienen que reordenar las ecuaciones del sistema para llegar a una matriz de coeficientes que \n",
       " sea diagonal dominante por filas. El resto del ejercicio se trabajará con este nuevo sistema reordenado.</li><li>Determinar con dos cifras decimales de precisión el valor <script type=\"math/tex\">\\omega</script> que hace que el método de relajación converja más rápido.</li><li>Fijado un valor <script type=\"math/tex\">\\omega = 1.10</script> y una tolerancia de <script type=\"math/tex\">0.0001</script>, determinar la suma del número mínimo de iteraciones que requieren \n",
       " los tres métodos iterados para dar una salida acorde al nivel de tolerancia.</li></ol>Ayuda: Para cargar en memoria la matriz <script type=\"math/tex\">A</script> y el vector <script type=\"math/tex\">b</script>, seleccionar con el ratón los números correspondientes, copiar\n",
       " y pegar dentro de las siguientes órdenes:\n",
       "         A=transpose(matrix(RDF,5,[pegar aquí la lista de números]))\n",
       "         b=vector(RDF,[pegar aquí la lista de números]).<br><hr  align=center><b> <span style=\"color: #ff0000;\">Respuesta al apartado 1 </span></b><br><br> <table style=\" width:100%\"> <tr> <td style=\"border:none; text-align:left\">1.<input type=checkbox> [3, 4, 2, 1, 5]    </td> <td style=\"border:none; text-align:left\">2.<input type=checkbox> [2, 4, 1, 5, 3]    </td> </tr> <tr> <td style=\"border:none; text-align:left\">3.<input type=checkbox> [3, 2, 4, 5, 1]    </td> <td style=\"border:none; text-align:left\">4.<input type=checkbox> [5, 1, 2, 4, 3]    </td> </tr> </table><br><br><b> <span style=\"color: #ff0000;\">Respuesta al apartado 2 </span></b><br><br> <table style=\" width:100%\"> <tr> <td style=\"border:none; text-align:left\">1.<input type=checkbox> 0.20    </td> <td style=\"border:none; text-align:left\">2.<input type=checkbox> 0.47    </td> </tr> <tr> <td style=\"border:none; text-align:left\">3.<input type=checkbox> 1.40    </td> <td style=\"border:none; text-align:left\">4.<input type=checkbox> Ninguna de las otras respuestas.    </td> </tr> </table><br><br><b> <span style=\"color: #ff0000;\">Respuesta al apartado 3 </span></b><br><br> <table style=\" width:100%\"> <tr> <td style=\"border:none; text-align:left\">1.<input type=checkbox> 37    </td> <td style=\"border:none; text-align:left\">2.<input type=checkbox> 203    </td> </tr> <tr> <td style=\"border:none; text-align:left\">3.<input type=checkbox> 51    </td> <td style=\"border:none; text-align:left\">4.<input type=checkbox> 38    </td> </tr> </table><br><br><hr  align=center><b> <span style=\"color: #0000ff;\">EJERCICIO 3 </span></b><br> En un asilo de matemáticos, las tartas de cumpleaños se reparten entre los 10 inquilinos de la siguiente \n",
       " manera: el primero en ponerse en fila recibe una porción de un cierto tamaño predeterminado, y los siguientes\n",
       " reciben una porción de tamaño un 29/50 del tamaño del anterior, y otra de tamaño un 21/50 del tamaño del posterior,\n",
       " hasta llegar al  último que recibe una de otro tamaño prefijado. Se pide:<ol><li>Identificar la matriz de coeficientes del sistema lineal que modela el problema del enunciado\n",
       "para variables <script type=\"math/tex\">x_1,x_2,\\dots,x_{10}</script>, donde <script type=\"math/tex\">x_i</script> es la porción correspondiente a la posición <script type=\"math/tex\">i</script> en la fila.</li><li>Si eres goloso y te gustan las tartas, ¿cuál es la posición más adelantada de la fila en la que te deberías\n",
       " situar si  el tamaño de la porción que recibe el primero es 1 y el tamaño de la porción que recibe\n",
       " el último es 4?</li><li>Supuesto que el tamaño de la porción que recibe el primero es ahora 1 y el tamaño de la porción que recibe\n",
       " el último es 4, determinar el tamaño de la porción de tarta que se llevaría la persona que ocupa la\n",
       " posición 7 de la fila.</li></ol>Marcar la respuesta correcta.<br><hr  align=center><b> <span style=\"color: #ff0000;\">Respuesta al apartado 1 </span></b><br><br> 1.<input type=checkbox> <script type=\"math/tex\">\\left(\\begin{array}{rrrrrrrrrr}1.00,&0.00,&0.00,&0.00,&0.00,&0.00,&0.00,&0.00,&0.00,&0.00,\\\\0.09,&-1.0,&0.91,&0.00,&0.00,&0.00,&0.00,&0.00,&0.00,&0.00,\\\\0.00,&0.09,&-1.0,&0.91,&0.00,&0.00,&0.00,&0.00,&0.00,&0.00,\\\\0.00,&0.00,&0.09,&-1.0,&0.91,&0.00,&0.00,&0.00,&0.00,&0.00,\\\\0.00,&0.00,&0.00,&0.09,&-1.0,&0.91,&0.00,&0.00,&0.00,&0.00,\\\\0.00,&0.00,&0.00,&0.00,&0.09,&-1.0,&0.91,&0.00,&0.00,&0.00,\\\\0.00,&0.00,&0.00,&0.00,&0.00,&0.09,&-1.0,&0.91,&0.00,&0.00,\\\\0.00,&0.00,&0.00,&0.00,&0.00,&0.00,&0.09,&-1.0,&0.91,&0.00,\\\\0.00,&0.00,&0.00,&0.00,&0.00,&0.00,&0.00,&0.09,&-1.0,&0.91,\\\\0.00,&0.00,&0.00,&0.00,&0.00,&0.00,&0.00,&0.00,&0.00,&1.00,\\end{array}\\right)</script> <br> 2.<input type=checkbox> <script type=\"math/tex\">\\left(\\begin{array}{rrrrrrrrrr}1.00,&0.00,&0.00,&0.00,&0.00,&0.00,&0.00,&0.00,&0.00,&0.00,\\\\0.58,&-1.0,&0.42,&0.00,&0.00,&0.00,&0.00,&0.00,&0.00,&0.00,\\\\0.00,&0.58,&-1.0,&0.42,&0.00,&0.00,&0.00,&0.00,&0.00,&0.00,\\\\0.00,&0.00,&0.58,&-1.0,&0.42,&0.00,&0.00,&0.00,&0.00,&0.00,\\\\0.00,&0.00,&0.00,&0.58,&-1.0,&0.42,&0.00,&0.00,&0.00,&0.00,\\\\0.00,&0.00,&0.00,&0.00,&0.58,&-1.0,&0.42,&0.00,&0.00,&0.00,\\\\0.00,&0.00,&0.00,&0.00,&0.00,&0.58,&-1.0,&0.42,&0.00,&0.00,\\\\0.00,&0.00,&0.00,&0.00,&0.00,&0.00,&0.58,&-1.0,&0.42,&0.00,\\\\0.00,&0.00,&0.00,&0.00,&0.00,&0.00,&0.00,&0.58,&-1.0,&0.42,\\\\0.00,&0.00,&0.00,&0.00,&0.00,&0.00,&0.00,&0.00,&0.00,&1.00,\\end{array}\\right)</script> <br> 3.<input type=checkbox> <script type=\"math/tex\">\\left(\\begin{array}{rrrrrrrrrr}1.00,&0.00,&0.00,&0.00,&0.00,&0.00,&0.00,&0.00,&0.00,&0.00,\\\\0.18,&-1.0,&0.82,&0.00,&0.00,&0.00,&0.00,&0.00,&0.00,&0.00,\\\\0.00,&0.18,&-1.0,&0.82,&0.00,&0.00,&0.00,&0.00,&0.00,&0.00,\\\\0.00,&0.00,&0.18,&-1.0,&0.82,&0.00,&0.00,&0.00,&0.00,&0.00,\\\\0.00,&0.00,&0.00,&0.18,&-1.0,&0.82,&0.00,&0.00,&0.00,&0.00,\\\\0.00,&0.00,&0.00,&0.00,&0.18,&-1.0,&0.82,&0.00,&0.00,&0.00,\\\\0.00,&0.00,&0.00,&0.00,&0.00,&0.18,&-1.0,&0.82,&0.00,&0.00,\\\\0.00,&0.00,&0.00,&0.00,&0.00,&0.00,&0.18,&-1.0,&0.82,&0.00,\\\\0.00,&0.00,&0.00,&0.00,&0.00,&0.00,&0.00,&0.18,&-1.0,&0.82,\\\\0.00,&0.00,&0.00,&0.00,&0.00,&0.00,&0.00,&0.00,&0.00,&1.00,\\end{array}\\right)</script> <br> 4.<input type=checkbox> <script type=\"math/tex\">\\left(\\begin{array}{rrrrrrrrrr}1.00,&0.00,&0.00,&0.00,&0.00,&0.00,&0.00,&0.00,&0.00,&0.00,\\\\0.65,&-1.0,&0.35,&0.00,&0.00,&0.00,&0.00,&0.00,&0.00,&0.00,\\\\0.00,&0.65,&-1.0,&0.35,&0.00,&0.00,&0.00,&0.00,&0.00,&0.00,\\\\0.00,&0.00,&0.65,&-1.0,&0.35,&0.00,&0.00,&0.00,&0.00,&0.00,\\\\0.00,&0.00,&0.00,&0.65,&-1.0,&0.35,&0.00,&0.00,&0.00,&0.00,\\\\0.00,&0.00,&0.00,&0.00,&0.65,&-1.0,&0.35,&0.00,&0.00,&0.00,\\\\0.00,&0.00,&0.00,&0.00,&0.00,&0.65,&-1.0,&0.35,&0.00,&0.00,\\\\0.00,&0.00,&0.00,&0.00,&0.00,&0.00,&0.65,&-1.0,&0.35,&0.00,\\\\0.00,&0.00,&0.00,&0.00,&0.00,&0.00,&0.00,&0.65,&-1.0,&0.35,\\\\0.00,&0.00,&0.00,&0.00,&0.00,&0.00,&0.00,&0.00,&0.00,&1.00,\\end{array}\\right)</script><br><br><b> <span style=\"color: #ff0000;\">Respuesta al apartado 2 </span></b><br><br> <table style=\" width:100%\"> <tr> <td style=\"border:none; text-align:left\">1.<input type=checkbox> 9    </td> <td style=\"border:none; text-align:left\">2.<input type=checkbox> 2    </td> </tr> <tr> <td style=\"border:none; text-align:left\">3.<input type=checkbox> 7    </td> <td style=\"border:none; text-align:left\">4.<input type=checkbox> Ninguna de las otras respuestas.    </td> </tr> </table><br><br><b> <span style=\"color: #ff0000;\">Respuesta al apartado 3 </span></b><br><br> <table style=\" width:100%\"> <tr> <td style=\"border:none; text-align:left\">1.<input type=checkbox> 1.11096433289300    </td> <td style=\"border:none; text-align:left\">2.<input type=checkbox> 1.00072098053353    </td> </tr> <tr> <td style=\"border:none; text-align:left\">3.<input type=checkbox> 2.03137712134945    </td> <td style=\"border:none; text-align:left\">4.<input type=checkbox> 1.00325624658717    </td> </tr> </table><br><br><hr  align=center><center><span style=\"font-size: x-small;\"> Final del documento </span></center>"
      ]
     },
     "metadata": {},
     "output_type": "display_data"
    }
   ],
   "source": [
    "NUMERO_CUESTIONARIO = 81 # Cambiar al número de cuestionario proporcionado por el profesorado.\n",
    "\n",
    "\n",
    "####  NO MODIFICAR EL CÓDIGO DE ABAJO:  ########################\n",
    "\n",
    "NOMBRE_FICHERO_EXAMEN = 'ALN_L4_t.htl'\n",
    "\n",
    "load('show_html.sage')\n",
    "load('codigo_examinar_html.sage')\n",
    "\n",
    "if NUMERO_CUESTIONARIO > 0:\n",
    "    lector_examenes(NOMBRE_FICHERO_EXAMEN, NUMERO_CUESTIONARIO, False)"
   ]
  },
  {
   "cell_type": "code",
   "execution_count": null,
   "metadata": {},
   "outputs": [],
   "source": [
    "## la siguiente función es una alternativa mejorada a la ayuda proporcionada en los enunciados\n",
    "## de los ejercicios para cargar en memoria las matrices proporcionadas.\n",
    "## la siguiente instrucción genera una matriz A de tipo RDF y tamaño 5x5 sin más que \n",
    "## copiar y pegar entre las comillas los números de la matriz del enunciado, seleccionados con el ratón.\n",
    "## los parámetros RDF y 5, 5  pueden cambiarse a conveniencia\n",
    "\n",
    "A= matrix_from_copypaste(RDF,5,5,\" pegar_aqui_datos_copiados \")\n",
    "show(A)"
   ]
  },
  {
   "cell_type": "code",
   "execution_count": null,
   "metadata": {},
   "outputs": [],
   "source": [
    "# Funciones FUNDAMENTALES para resolver la práctica: Ejecutarlas TODAS ANTES de empezar!!!!"
   ]
  },
  {
   "cell_type": "code",
   "execution_count": 2,
   "metadata": {},
   "outputs": [],
   "source": [
    "def radio_espectral(B):\n",
    "    A = copy(B)\n",
    "    return vector((A.change_ring(CC)).eigenvalues()).norm(Infinity)"
   ]
  },
  {
   "cell_type": "code",
   "execution_count": 3,
   "metadata": {},
   "outputs": [],
   "source": [
    "def tril(A, k = 0):\n",
    "    L = copy(A)\n",
    "    m = L.nrows()\n",
    "    n = L.ncols()\n",
    "    for i in range(m):\n",
    "        for j in range(i + 1 + k, n):\n",
    "            L[i, j] = 0\n",
    "    return(L)\n",
    "\n",
    "def triu(A, k = 0):\n",
    "    L = copy(A).transpose()\n",
    "    return(tril(L, k).transpose())\n",
    "\n",
    "def descomposicion(A):\n",
    "    m = A.nrows()\n",
    "    n = A.ncols()\n",
    "    n = min(m, n)\n",
    "    D = diagonal_matrix([A[i, i] for i in range(n)])\n",
    "    E = -tril(A, -1)\n",
    "    F = -triu(A, -1)"
   ]
  },
  {
   "cell_type": "code",
   "execution_count": 4,
   "metadata": {},
   "outputs": [],
   "source": [
    "def matriz_jacobi(A):\n",
    "    k = 1\n",
    "    m = A.nrows()\n",
    "    n = A.ncols()\n",
    "    if m !=  n:\n",
    "        k = 0\n",
    "        print(\"La matriz no es cuadrada colega\")        \n",
    "    else:\n",
    "        for i in range(m):\n",
    "            k = k*A[i, i]\n",
    "        if k == 0:\n",
    "            print(\"Es necesario permutar las filas de la matriz!!!\")\n",
    "        else:\n",
    "            D = diagonal_matrix([A[j, j] for j in range(m)])\n",
    "            D1 = diagonal_matrix([1/A[j, j] for j in range(m)])\n",
    "            EF = -A + D\n",
    "            J = D1*(EF)\n",
    "            return(J)"
   ]
  },
  {
   "cell_type": "code",
   "execution_count": 5,
   "metadata": {},
   "outputs": [],
   "source": [
    "def matriz_gauss_seidel(A):\n",
    "    k = 1\n",
    "    m = A.nrows()\n",
    "    n = A.ncols()\n",
    "    if m != n:\n",
    "        k = 0\n",
    "        print(\"La matriz no es cuadrada colega\")    \n",
    "    else:\n",
    "        for i in range(m):\n",
    "            k = k*A[i, i]\n",
    "        if k == 0:\n",
    "            print(\"Es necesario permutar las filas de la matriz!!!\")\n",
    "        else:\n",
    "            DE1 = tril(A, 0).inverse()\n",
    "            F = -triu(A, -1)\n",
    "            return(DE1*F)"
   ]
  },
  {
   "cell_type": "code",
   "execution_count": 6,
   "metadata": {},
   "outputs": [],
   "source": [
    "def matriz_relajacion(A, w):\n",
    "    k = 1\n",
    "    m = A.nrows()\n",
    "    n = A.ncols()\n",
    "    if m != n:\n",
    "        k = 0\n",
    "        print(\"La matriz no es cuadrada colega\")\n",
    "    else:\n",
    "        for i in range(m):\n",
    "            k = k*A[i, i]\n",
    "        if k == 0:\n",
    "            print(\"Es necesario permutar las filas de la matriz!\")\n",
    "        else:\n",
    "            k = 1\n",
    "            D = diagonal_matrix([A[j, j] for j in range(m)])\n",
    "            E = -tril(A, -1)\n",
    "            F = -triu(A, -1)\n",
    "            DwE1 = (D - w*E).inverse()\n",
    "            return(DwE1*((1 - w)*D + w*F))"
   ]
  },
  {
   "cell_type": "code",
   "execution_count": 7,
   "metadata": {},
   "outputs": [],
   "source": [
    "def metodo_jacobi(A, b, tol = 10^-14, maxiter = 1000, veriter = False, solosiconverge = True):\n",
    "    k = 1\n",
    "    m = A.nrows()\n",
    "    n = A.ncols()\n",
    "    if m != n:\n",
    "        k = 0\n",
    "        print(\"La matriz no es cuadrada colega\")\n",
    "    else: \n",
    "        for i in range(m):\n",
    "            k = k*A[i, i]\n",
    "        if k == 0:\n",
    "            print(\"Es necesario permutar las ecuaciones (no puede haber ceros en la diagonal)\")\n",
    "        else:\n",
    "            k = 1; n = 0\n",
    "            J = matriz_jacobi(A)\n",
    "            R = radio_espectral(J).n()\n",
    "            if solosiconverge and R >= 1:\n",
    "                k = 0\n",
    "                print(\"El método NO es convergente miarma: \")\n",
    "                print(\"El radio espectral de la matriz de Jacobi es: \", R)\n",
    "            else:\n",
    "                x0 = vector(A.base_ring(), [0 for h in range(m)])\n",
    "                x1 = copy(x0)\n",
    "                while (A*x0 - b).norm() > tol and n < maxiter:\n",
    "                    n = n + 1\n",
    "                    for i in range(m):\n",
    "                        si = 0; ss = 0\n",
    "                        for t in range(i):\n",
    "                            si = si + A[i, t]*x0[t]\n",
    "                        for t in range(i + 1, m):\n",
    "                            ss = ss + A[i, t]*x0[t]\n",
    "                        x1[i] = 1/A[i, i]*(b[i] - si - ss)\n",
    "                    x0 = copy(x1)\n",
    "                    if veriter:\n",
    "                        print(\"Iteración: \", n, \" = \", x0)\n",
    "    if k == 1:\n",
    "        if n < maxiter:\n",
    "            print(\"Nº de iteraciones realizadas: \", n) \n",
    "        else:\n",
    "            print(\"Abortado en la iteración: \", maxiter)\n",
    "        print(\"El radio espectral de la matriz de Jacobi es: \", R)\n",
    "        Error = (A*x0 - b).norm().n()\n",
    "        print(\"Error de la aproximación: \", Error)"
   ]
  },
  {
   "cell_type": "code",
   "execution_count": 8,
   "metadata": {},
   "outputs": [],
   "source": [
    "def metodo_gauss_seidel(A, b, tol = 10^-14, maxiter = 1000, veriter = False, solosiconverge = True):\n",
    "    k = 1\n",
    "    m = A.nrows()\n",
    "    n = A.ncols()\n",
    "    if m != n:\n",
    "        k = 0\n",
    "        print(\"La matriz no es cuadrada colega\")\n",
    "    else: \n",
    "        for i in range(m):\n",
    "            k = k*A[i, i]\n",
    "        if k == 0:\n",
    "            print(\"Es necesario permutar las ecuaciones (no puede haber ceros en la diagonal)\")\n",
    "        else:\n",
    "            k = 1; n = 0\n",
    "            L = matriz_gauss_seidel(A)\n",
    "            R = radio_espectral(L).n()\n",
    "            if solosiconverge and R >= 1:\n",
    "                k = 0\n",
    "                print(\"El método NO es convergente miarma: \")\n",
    "                print(\"El radio espectral de la matriz de Gauss Seidel es: \", R)\n",
    "            else:\n",
    "                x0 = vector(A.base_ring(), [0 for h in range(m)])\n",
    "                x1 = copy(x0)\n",
    "                while (A*x0 - b).norm() > tol and n < maxiter:\n",
    "                    n = n + 1\n",
    "                    for i in range(m):\n",
    "                        si = 0; ss = 0\n",
    "                        for t in range(i):\n",
    "                            si = si + A[i, t]*x1[t]\n",
    "                        for t in range(i + 1, m):\n",
    "                            ss = ss + A[i, t]*x0[t]\n",
    "                        x1[i] = 1/A[i, i]*(b[i] - si - ss)\n",
    "                    x0 = copy(x1)\n",
    "                    if veriter:\n",
    "                        print(\"Iteración: \", n, \" = \", x0)\n",
    "    if k == 1:\n",
    "        if n < maxiter:\n",
    "            print(\"Nº de iteraciones realizadas: \", n) \n",
    "        else:\n",
    "            print(\"Abortado en la iteración: \", maxiter)\n",
    "        print(\"El radio espectral de la matriz de Gauss Seidel es: \", R)\n",
    "        Error = (A*x0 - b).norm().n()\n",
    "        print(\"Error de la aproximación: \", Error)"
   ]
  },
  {
   "cell_type": "code",
   "execution_count": 9,
   "metadata": {},
   "outputs": [],
   "source": [
    "def metodo_relajacion(A, b, w, tol = 10^-14, maxiter = 1000, veriter = False, solosiconverge = True):\n",
    "    k = 1\n",
    "    m = A.nrows()\n",
    "    n = A.ncols()\n",
    "    if m != n:\n",
    "        k = 0\n",
    "        print(\"La matriz no es cuadrada colega\")\n",
    "    else: \n",
    "        for i in range(m):\n",
    "            k = k*A[i, i]\n",
    "        if k == 0:\n",
    "            print(\"Es necesario permutar las ecuaciones (no puede haber ceros en la diagonal)\")\n",
    "        else:\n",
    "            k = 1; n = 0\n",
    "            Lw = matriz_relajacion(A, w)\n",
    "            R = radio_espectral(Lw).n()\n",
    "            if solosiconverge and R >= 1:\n",
    "                k = 0\n",
    "                print(\"El método NO es convergente miarma: \")\n",
    "                print(\"El radio espectral de la matriz de relajación es: \", R)\n",
    "            else:\n",
    "                x0 = vector(A.base_ring(), [0 for h in range(m)])\n",
    "                x1 = copy(x0)\n",
    "                while (A*x0 - b).norm() > tol and n < maxiter:\n",
    "                    n = n + 1\n",
    "                    for i in range(m):\n",
    "                        si = 0; ss = 0\n",
    "                        for t in range(i):\n",
    "                            si = si + A[i, t]*x1[t]\n",
    "                        for t in range(i + 1, m):\n",
    "                            ss = ss + A[i, t]*x0[t]\n",
    "                        x1[i] = w/A[i, i]*(b[i] - si - ss) + (1 - w)*x0[i]\n",
    "                    x0 = copy(x1)\n",
    "                    if veriter:\n",
    "                        print(\"Iteración: \", n, \" = \", x0)\n",
    "    if k == 1:\n",
    "        if n < maxiter:\n",
    "            print(\"Nº de iteraciones realizadas: \", n) \n",
    "        else:\n",
    "            print(\"Abortado en la iteración: \", maxiter)\n",
    "        print(\"El radio espectral de la matriz de relajación es: \", R)\n",
    "        Error = (A*x0 - b).norm().n()\n",
    "        print(\"Error de la aproximación: \", Error)"
   ]
  },
  {
   "cell_type": "code",
   "execution_count": null,
   "metadata": {},
   "outputs": [],
   "source": []
  },
  {
   "cell_type": "code",
   "execution_count": null,
   "metadata": {},
   "outputs": [],
   "source": [
    "# EJERCICIO 1\n",
    "'''\n",
    "Dada la matriz A y el sistema de ecuaciones  Ax=b , se pide responder a las siguientes cuestiones:\n",
    "\n",
    "Ayuda: Para cargar en memoria la matriz  A , seleccionar con el ratón los números de la matriz, copiar y pegar dentro de\n",
    "la siguiente orden y borrar y volver a escribir los signos negativos: \n",
    "A=transpose(matrix(RDF,5,[pegar aquí la lista de números])).\n",
    "'''"
   ]
  },
  {
   "cell_type": "code",
   "execution_count": null,
   "metadata": {},
   "outputs": [],
   "source": [
    "# Apartado 1\n",
    "'''\n",
    "Para el valor de relajación  ω=1.3 , ordenar de más a menos rápidos los métodos iterados que sean convergentes \n",
    "asociados al sistema  Ax=b , de entre Jacobi, Gauss-Seidel y Relajación.\n",
    "\n",
    "1. Jacobi Gauss-Seidel Relajación\t2. Gauss-Seidel Relajación\n",
    "3. Relajación\t4. No converge ningún método\n",
    "'''"
   ]
  },
  {
   "cell_type": "code",
   "execution_count": 26,
   "metadata": {},
   "outputs": [
    {
     "data": {
      "text/html": [
       "<html><script type=\"math/tex; mode=display\">\\newcommand{\\Bold}[1]{\\mathbf{#1}}\\left[\\begin{array}{rrrrr}\n",
       "-0.57486294277 & -0.499906990589 & 0.237538891096 & -0.202598125163 & 0.0860960308289 \\\\\n",
       "-0.675303753138 & 0.877573020116 & 0.372016307091 & -0.284829060786 & 0.305464790385 \\\\\n",
       "-0.212341335913 & 0.404484524767 & 0.334502523686 & -0.261353885268 & 0.735612603894 \\\\\n",
       "0.066742340323 & -0.170632866829 & 0.0815988121588 & -0.830433036079 & -0.326214035652 \\\\\n",
       "-0.38331335899 & -0.64292829579 & -0.180826820671 & -0.174827273423 & 0.694218334301\n",
       "\\end{array}\\right]</script></html>"
      ],
      "text/plain": [
       "[ -0.57486294277 -0.499906990589  0.237538891096 -0.202598125163 0.0860960308289]\n",
       "[-0.675303753138  0.877573020116  0.372016307091 -0.284829060786  0.305464790385]\n",
       "[-0.212341335913  0.404484524767  0.334502523686 -0.261353885268  0.735612603894]\n",
       "[ 0.066742340323 -0.170632866829 0.0815988121588 -0.830433036079 -0.326214035652]\n",
       "[ -0.38331335899  -0.64292829579 -0.180826820671 -0.174827273423  0.694218334301]"
      ]
     },
     "metadata": {},
     "output_type": "display_data"
    },
    {
     "name": "stdout",
     "output_type": "stream",
     "text": [
      "Jacobi:  1.15659710446431\n",
      "Gauss:  1.15563149803222\n",
      "Relajacion:  2.08558878665361\n"
     ]
    },
    {
     "name": "stderr",
     "output_type": "stream",
     "text": [
      "/opt/sagemath-9.1/local/lib/python3.7/site-packages/sage/repl/ipython_kernel/__main__.py:3: UserWarning: Using generic algorithm for an inexact ring, which will probably give incorrect results due to numerical precision issues.\n",
      "  IPKernelApp.launch_instance(kernel_class=SageKernel)\n"
     ]
    }
   ],
   "source": [
    "# Pegar los valores de la matriz y REESCRIBIR TODOS LOS SIMBOLOS NEGATIVOS QUE NO SE PILLAN!!!\n",
    "A= matrix_from_copypaste(RDF,5,5,\"-0.57486294277,-0.675303753138,-0.212341335913,0.066742340323,-0.38331335899,-0.499906990589,0.877573020116,0.404484524767,-0.170632866829,-0.64292829579,0.237538891096,0.372016307091,0.334502523686,0.0815988121588,-0.180826820671,-0.202598125163,-0.284829060786,-0.261353885268,-0.830433036079,-0.174827273423,0.0860960308289,0.305464790385,0.735612603894,-0.326214035652,0.694218334301\")\n",
    "\n",
    "show(A)\n",
    "\n",
    "# Ahora probar los distintos métodos iterativos: cambiar el valor de ω en Relajación por el dado:\n",
    "Jacobi = matriz_jacobi(A)\n",
    "Gauss = matriz_gauss_seidel(A)\n",
    "Relajacion = matriz_relajacion(A, 1.3)\n",
    "\n",
    "# Ordenar los valores resultantes de mas a menos:\n",
    "print(\"Jacobi: \", radio_espectral(Jacobi))\n",
    "print(\"Gauss: \", radio_espectral(Gauss))\n",
    "print(\"Relajacion: \", radio_espectral(Relajacion))\n",
    "\n",
    "# En el peor de los casos ninguno converge y peta."
   ]
  },
  {
   "cell_type": "code",
   "execution_count": null,
   "metadata": {},
   "outputs": [],
   "source": [
    "# Apartado 2\n",
    "'''\n",
    "Hallar el radio espectral de la matriz  A .\n",
    "\n",
    "1. 0.996290756941054\t2. 1.30839300995773\n",
    "3. 1.33138907553155\t4. 1.25140155465419\n",
    "'''"
   ]
  },
  {
   "cell_type": "code",
   "execution_count": 12,
   "metadata": {},
   "outputs": [
    {
     "name": "stdout",
     "output_type": "stream",
     "text": [
      "Radio:  0.996290756940634\n"
     ]
    },
    {
     "name": "stderr",
     "output_type": "stream",
     "text": [
      "/opt/sagemath-9.1/local/lib/python3.7/site-packages/sage/repl/ipython_kernel/__main__.py:3: UserWarning: Using generic algorithm for an inexact ring, which will probably give incorrect results due to numerical precision issues.\n",
      "  IPKernelApp.launch_instance(kernel_class=SageKernel)\n"
     ]
    }
   ],
   "source": [
    "print(\"Radio: \", radio_espectral(A))"
   ]
  },
  {
   "cell_type": "code",
   "execution_count": null,
   "metadata": {},
   "outputs": [],
   "source": [
    "# Apartado 3\n",
    "'''\n",
    "Deducir si tiene garantizada o no la convergencia un método iterado que tuviese a la matriz  A  como matriz de iteración.\n",
    "\n",
    "1. Hay convergencia porque el radio espectral es mayor o igual que 1.\n",
    "2. Hay convergencia porque el radio espectral es menor que 1. <--\n",
    "3. No hay convergencia porque el radio espectral es menor que 1.\n",
    "4. La convergencia depende del valor inicial  x0  de la iteración.\n",
    "'''"
   ]
  },
  {
   "cell_type": "code",
   "execution_count": null,
   "metadata": {},
   "outputs": [],
   "source": [
    "# Tomar el resultado del apartado 2:\n",
    "# Si el nº en VALOR ABSOLUTO es >= 1 ----> NO\n",
    "# Si el nº en VALOR ABSOLUTO es < 1 -----> SI"
   ]
  },
  {
   "cell_type": "code",
   "execution_count": null,
   "metadata": {},
   "outputs": [],
   "source": []
  },
  {
   "cell_type": "code",
   "execution_count": null,
   "metadata": {},
   "outputs": [],
   "source": [
    "# EJERCICIO 2\n",
    "'''\n",
    "Dado el sistema de ecuaciones de matriz ampliada (A|b) se pide responder a las siguientes cuestiones:\n",
    "\n",
    "Ayuda: Para cargar en memoria la matriz  A  y el vector  b , seleccionar con el ratón los números correspondientes, copiar\n",
    "y pegar dentro de las siguientes órdenes: \n",
    "A=transpose(matrix(RDF,5,[pegar aquí la lista de números])) \n",
    "b=vector(RDF,[pegar aquí la lista de números]).\n",
    "'''"
   ]
  },
  {
   "cell_type": "code",
   "execution_count": null,
   "metadata": {},
   "outputs": [],
   "source": [
    "# Apartado 1\n",
    "'''\n",
    "Señalar cómo se tienen que reordenar las ecuaciones del sistema para llegar a una matriz de coeficientes que sea diagonal\n",
    "dominante por filas. El resto del ejercicio se trabajará con este nuevo sistema reordenado.\n",
    "\n",
    "1. [3, 4, 2, 1, 5]\t2. [2, 4, 1, 5, 3]\n",
    "3. [3, 2, 4, 5, 1]\t4. [5, 1, 2, 4, 3]\n",
    "'''"
   ]
  },
  {
   "cell_type": "code",
   "execution_count": 15,
   "metadata": {
    "scrolled": true
   },
   "outputs": [
    {
     "name": "stdout",
     "output_type": "stream",
     "text": [
      "Matriz y vector originales: \n"
     ]
    },
    {
     "data": {
      "text/html": [
       "<html><script type=\"math/tex; mode=display\">\\newcommand{\\Bold}[1]{\\mathbf{#1}}\\left[\\begin{array}{rrrrr}\n",
       "3.0 & 1.0 & 20.0 & 2.0 & 4.0 \\\\\n",
       "18.0 & 1.0 & 5.0 & 2.0 & 4.0 \\\\\n",
       "3.0 & 1.0 & 5.0 & 2.0 & 19.0 \\\\\n",
       "3.0 & 16.0 & 5.0 & 2.0 & 4.0 \\\\\n",
       "3.0 & 1.0 & 5.0 & 17.0 & 4.0 \\\\\n",
       "230.0 & 170.0 & 200.0 & 110.0 & 140.0\n",
       "\\end{array}\\right]</script></html>"
      ],
      "text/plain": [
       "[  3.0   1.0  20.0   2.0   4.0]\n",
       "[ 18.0   1.0   5.0   2.0   4.0]\n",
       "[  3.0   1.0   5.0   2.0  19.0]\n",
       "[  3.0  16.0   5.0   2.0   4.0]\n",
       "[  3.0   1.0   5.0  17.0   4.0]\n",
       "[230.0 170.0 200.0 110.0 140.0]"
      ]
     },
     "metadata": {},
     "output_type": "display_data"
    },
    {
     "data": {
      "text/html": [
       "<html><script type=\"math/tex; mode=display\">\\newcommand{\\Bold}[1]{\\mathbf{#1}}\\left(230,\\,170,\\,200,\\,110,\\,140\\right)</script></html>"
      ],
      "text/plain": [
       "(230, 170, 200, 110, 140)"
      ]
     },
     "metadata": {},
     "output_type": "display_data"
    },
    {
     "name": "stdout",
     "output_type": "stream",
     "text": [
      "Matriz reordenada: \n"
     ]
    },
    {
     "data": {
      "text/html": [
       "<html><script type=\"math/tex; mode=display\">\\newcommand{\\Bold}[1]{\\mathbf{#1}}\\left[\\begin{array}{rrrrr}\n",
       "18.0 & 1.0 & 5.0 & 2.0 & 4.0 \\\\\n",
       "3.0 & 16.0 & 5.0 & 2.0 & 4.0 \\\\\n",
       "3.0 & 1.0 & 20.0 & 2.0 & 4.0 \\\\\n",
       "3.0 & 1.0 & 5.0 & 17.0 & 4.0 \\\\\n",
       "3.0 & 1.0 & 5.0 & 2.0 & 19.0\n",
       "\\end{array}\\right]</script></html>"
      ],
      "text/plain": [
       "[18.0  1.0  5.0  2.0  4.0]\n",
       "[ 3.0 16.0  5.0  2.0  4.0]\n",
       "[ 3.0  1.0 20.0  2.0  4.0]\n",
       "[ 3.0  1.0  5.0 17.0  4.0]\n",
       "[ 3.0  1.0  5.0  2.0 19.0]"
      ]
     },
     "metadata": {},
     "output_type": "display_data"
    },
    {
     "data": {
      "text/html": [
       "<html><script type=\"math/tex; mode=display\">\\newcommand{\\Bold}[1]{\\mathbf{#1}}\\left(230,\\,170,\\,200,\\,110,\\,140\\right)</script></html>"
      ],
      "text/plain": [
       "(230, 170, 200, 110, 140)"
      ]
     },
     "metadata": {},
     "output_type": "display_data"
    }
   ],
   "source": [
    "# Pegar los valores de la matriz junto con la ampliada: \n",
    "A = matrix(RDF,[[3,1,20,2,4],[18,1,5,2,4],[3,1,5,2,19],[3,16,5,2,4],[3,1,5,17,4],[230,170,200,110,140]])\n",
    "b = vector([230,170,200,110,140])\n",
    "\n",
    "# Mostrar la matriz:\n",
    "print(\"Matriz y vector originales: \")\n",
    "show(A)\n",
    "show(b)\n",
    "\n",
    "# Comprobar que filas hay que cambiar para que sea diagonal dominante, esto es, que el valor del nº en la diagonal principal \n",
    "# sea mayor que la suma del resto de nº en dicha columna. \n",
    "# La reordenacion sería:\n",
    "# 2, 4, 1, 5, 3\n",
    "\n",
    "# Reordenamos la matriz en base a dicho criterio, quedando A2 que será la matriz para el resto de apartados:\n",
    "# Osea escribimos A2 por filas en base al orden que hemos determinado antes: POR FILAS!!!\n",
    "print(\"Matriz reordenada: \")\n",
    "A2 = matrix(RDF, [[18,1,5,2,4],[3,16,5,2,4],[3,1,20,2,4],[3,1,5,17,4],[3,1,5,2,19]])\n",
    "show(A2)\n",
    "show(b)"
   ]
  },
  {
   "cell_type": "code",
   "execution_count": null,
   "metadata": {},
   "outputs": [],
   "source": [
    "# Apartado 2 \n",
    "'''\n",
    "Determinar con dos cifras decimales de precisión el valor  ω  que hace que el método de relajación converja más rápido.\n",
    "\n",
    "1. 0.20\t2. 0.47\n",
    "3. 1.40\t4. Ninguna de las otras respuestas.\n",
    "'''"
   ]
  },
  {
   "cell_type": "code",
   "execution_count": 18,
   "metadata": {},
   "outputs": [
    {
     "name": "stderr",
     "output_type": "stream",
     "text": [
      "/opt/sagemath-9.1/local/lib/python3.7/site-packages/sage/repl/ipython_kernel/__main__.py:3: UserWarning: Using generic algorithm for an inexact ring, which will probably give incorrect results due to numerical precision issues.\n",
      "  IPKernelApp.launch_instance(kernel_class=SageKernel)\n"
     ]
    },
    {
     "name": "stdout",
     "output_type": "stream",
     "text": [
      "Abortado en la iteración:  1000\n",
      "El radio espectral de la matriz de relajación es:  0.474699433754081\n",
      "Error de la aproximación:  4.01943669423046e-14\n"
     ]
    }
   ],
   "source": [
    "# Probamos los valores que nos dan: con la matriz A2 nueva!!!\n",
    "SOR = metodo_relajacion(A2, b, 1.40)\n",
    "\n",
    "# La solución será el valor cuyo rango espectral devuelto sea menor (puede pasar que ninguno converga). "
   ]
  },
  {
   "cell_type": "code",
   "execution_count": 19,
   "metadata": {},
   "outputs": [
    {
     "data": {
      "text/plain": [
       "'\\nFijado un valor  ω=1.10  y una tolerancia de 0.0001, determinar la suma del número mínimo de iteraciones que requieren\\nlos tres métodos iterados para dar una salida acorde al nivel de tolerancia.\\n\\n1. 37\\t2. 203\\n3. 51\\t4. 38\\n'"
      ]
     },
     "execution_count": 19,
     "metadata": {},
     "output_type": "execute_result"
    }
   ],
   "source": [
    "# Apartado 3\n",
    "'''\n",
    "Fijado un valor  ω=1.10  y una tolerancia de 0.0001, determinar la suma del número mínimo de iteraciones que requieren\n",
    "los tres métodos iterados para dar una salida acorde al nivel de tolerancia.\n",
    "\n",
    "1. 37\t2. 203\n",
    "3. 51\t4. 38\n",
    "'''"
   ]
  },
  {
   "cell_type": "code",
   "execution_count": 20,
   "metadata": {},
   "outputs": [
    {
     "name": "stdout",
     "output_type": "stream",
     "text": [
      "Jacobi: \n",
      "Nº de iteraciones realizadas:  33\n",
      "El radio espectral de la matriz de Jacobi es:  0.623015567867264\n",
      "Error de la aproximación:  0.0000666255578852289\n",
      "$$$$$$$$$$$$$$$$$$$$$$$$$$$$$$$$$$$\n",
      "Gauss Seidel: \n",
      "Nº de iteraciones realizadas:  8\n",
      "El radio espectral de la matriz de Gauss Seidel es:  0.138822006932540\n",
      "Error de la aproximación:  0.0000501638620249001\n",
      "$$$$$$$$$$$$$$$$$$$$$$$$$$$$$$$$$$$\n",
      "SOR - Relajación: \n",
      "Nº de iteraciones realizadas:  10\n",
      "El radio espectral de la matriz de relajación es:  0.200496147134698\n",
      "Error de la aproximación:  0.0000405393799392048\n",
      "$$$$$$$$$$$$$$$$$$$$$$$$$$$$$$$$$$$\n"
     ]
    },
    {
     "name": "stderr",
     "output_type": "stream",
     "text": [
      "/opt/sagemath-9.1/local/lib/python3.7/site-packages/sage/repl/ipython_kernel/__main__.py:3: UserWarning: Using generic algorithm for an inexact ring, which will probably give incorrect results due to numerical precision issues.\n",
      "  IPKernelApp.launch_instance(kernel_class=SageKernel)\n"
     ]
    }
   ],
   "source": [
    "# Ejecutar los tres métodos (cambiar el valor de ω por el que nos dan) y sumar el nº de iteraciones de las tres ejecuciones\n",
    "# Cambiar el valor de la tolerancia en el campo tol por el que nos den:\n",
    "\n",
    "print(\"Jacobi: \")\n",
    "metodo_jacobi(A2, b, tol = 1*10^(-4))\n",
    "print(\"$$$$$$$$$$$$$$$$$$$$$$$$$$$$$$$$$$$\")\n",
    "print(\"Gauss Seidel: \")\n",
    "metodo_gauss_seidel(A2, b, tol = 1*10^(-4))\n",
    "print(\"$$$$$$$$$$$$$$$$$$$$$$$$$$$$$$$$$$$\")\n",
    "print(\"SOR - Relajación: \") \n",
    "metodo_relajacion(A2, b, 1.10, tol = 1*10^(-4))\n",
    "print(\"$$$$$$$$$$$$$$$$$$$$$$$$$$$$$$$$$$$\")"
   ]
  },
  {
   "cell_type": "code",
   "execution_count": null,
   "metadata": {},
   "outputs": [],
   "source": []
  },
  {
   "cell_type": "code",
   "execution_count": null,
   "metadata": {},
   "outputs": [],
   "source": [
    "# EJERCICIO 3\n",
    "'''\n",
    "En un asilo de matemáticos, las tartas de cumpleaños se reparten entre los 10 inquilinos de la siguiente manera: el primero\n",
    "en ponerse en fila recibe una porción de un cierto tamaño predeterminado, y los siguientes reciben una porción de tamaño\n",
    "un 29/50 del tamaño del anterior, y otra de tamaño un 21/50 del tamaño del posterior, hasta llegar al último que recibe \n",
    "una de otro tamaño prefijado. Se pide:\n",
    "'''"
   ]
  },
  {
   "cell_type": "code",
   "execution_count": null,
   "metadata": {},
   "outputs": [],
   "source": [
    "# Apartado 1\n",
    "'''\n",
    "Identificar la matriz de coeficientes del sistema lineal que modela el problema del enunciado para variables  x1,x2,…,x10 ,\n",
    "donde  xi  es la porción correspondiente a la posición  i  en la fila.\n",
    "'''"
   ]
  },
  {
   "cell_type": "code",
   "execution_count": 21,
   "metadata": {},
   "outputs": [
    {
     "data": {
      "text/html": [
       "<html><script type=\"math/tex; mode=display\">\\newcommand{\\Bold}[1]{\\mathbf{#1}}\\left[\\begin{array}{rrrrrrrrrr}\n",
       "1.0 & 0.0 & 0.0 & 0.0 & 0.0 & 0.0 & 0.0 & 0.0 & 0.0 & 0.0 \\\\\n",
       "0.58 & -1.0 & 0.42 & 0.0 & 0.0 & 0.0 & 0.0 & 0.0 & 0.0 & 0.0 \\\\\n",
       "0.0 & 0.58 & -1.0 & 0.42 & 0.0 & 0.0 & 0.0 & 0.0 & 0.0 & 0.0 \\\\\n",
       "0.0 & 0.0 & 0.58 & -1.0 & 0.42 & 0.0 & 0.0 & 0.0 & 0.0 & 0.0 \\\\\n",
       "0.0 & 0.0 & 0.0 & 0.58 & -1.0 & 0.42 & 0.0 & 0.0 & 0.0 & 0.0 \\\\\n",
       "0.0 & 0.0 & 0.0 & 0.0 & 0.58 & -1.0 & 0.42 & 0.0 & 0.0 & 0.0 \\\\\n",
       "0.0 & 0.0 & 0.0 & 0.0 & 0.0 & 0.58 & -1.0 & 0.42 & 0.0 & 0.0 \\\\\n",
       "0.0 & 0.0 & 0.0 & 0.0 & 0.0 & 0.0 & 0.58 & -1.0 & 0.42 & 0.0 \\\\\n",
       "0.0 & 0.0 & 0.0 & 0.0 & 0.0 & 0.0 & 0.0 & 0.58 & -1.0 & 0.42 \\\\\n",
       "0.0 & 0.0 & 0.0 & 0.0 & 0.0 & 0.0 & 0.0 & 0.0 & 0.0 & 1.0\n",
       "\\end{array}\\right]</script></html>"
      ],
      "text/plain": [
       "[ 1.0  0.0  0.0  0.0  0.0  0.0  0.0  0.0  0.0  0.0]\n",
       "[0.58 -1.0 0.42  0.0  0.0  0.0  0.0  0.0  0.0  0.0]\n",
       "[ 0.0 0.58 -1.0 0.42  0.0  0.0  0.0  0.0  0.0  0.0]\n",
       "[ 0.0  0.0 0.58 -1.0 0.42  0.0  0.0  0.0  0.0  0.0]\n",
       "[ 0.0  0.0  0.0 0.58 -1.0 0.42  0.0  0.0  0.0  0.0]\n",
       "[ 0.0  0.0  0.0  0.0 0.58 -1.0 0.42  0.0  0.0  0.0]\n",
       "[ 0.0  0.0  0.0  0.0  0.0 0.58 -1.0 0.42  0.0  0.0]\n",
       "[ 0.0  0.0  0.0  0.0  0.0  0.0 0.58 -1.0 0.42  0.0]\n",
       "[ 0.0  0.0  0.0  0.0  0.0  0.0  0.0 0.58 -1.0 0.42]\n",
       "[ 0.0  0.0  0.0  0.0  0.0  0.0  0.0  0.0  0.0  1.0]"
      ]
     },
     "metadata": {},
     "output_type": "display_data"
    }
   ],
   "source": [
    "# Probar con las matrices del enunciado: OJO CAMBIAR LOS SIMBOLOS NEGATIVOS A MANO!!!!!!1\n",
    "T2 = transpose(matrix(RDF, 10, [1.00,0.58,0.00,0.00,0.00,0.00,0.00,0.00,0.00,0.00,0.00,-1.0,0.58,0.00,0.00,0.00,0.00,0.00,0.00,0.00,0.00,0.42,-1.0,0.58,0.00,0.00,0.00,0.00,0.00,0.00,0.00,0.00,0.42,-1.0,0.58,0.00,0.00,0.00,0.00,0.00,0.00,0.00,0.00,0.42,-1.0,0.58,0.00,0.00,0.00,0.00,0.00,0.00,0.00,0.00,0.42,-1.0,0.58,0.00,0.00,0.00,0.00,0.00,0.00,0.00,0.00,0.42,-1.0,0.58,0.00,0.00,0.00,0.00,0.00,0.00,0.00,0.00,0.42,-1.0,0.58,0.00,0.00,0.00,0.00,0.00,0.00,0.00,0.00,0.42,-1.0,0.00,0.00,0.00,0.00,0.00,0.00,0.00,0.00,0.00,0.42,1.00]))\n",
    "show(T2)\n",
    "\n",
    "# Etc. Solo hace falta copiar la matriz para el apartado 2, solo mirar una a una CUAL DE ELLAS CONTIENE LOS VALORES que se dan\n",
    "# en el enunciado como\"anterior\" y \"posterior\". Es decir, que matriz contiene el valor 29/50 y 21/50 (en este caso) del\n",
    "# enunciado (como real)."
   ]
  },
  {
   "cell_type": "code",
   "execution_count": null,
   "metadata": {},
   "outputs": [],
   "source": [
    "# Apartado 2\n",
    "'''\n",
    "Si eres goloso y te gustan las tartas, ¿cuál es la posición más adelantada de la fila en la que te deberías situar si el\n",
    "tamaño de la porción que recibe el primero es 1 y el tamaño de la porción que recibe el último es 4?\n",
    "\n",
    "1. 9\t2. 2\n",
    "3. 7\t4. Ninguna de las otras respuestas.\n",
    "'''"
   ]
  },
  {
   "cell_type": "code",
   "execution_count": 22,
   "metadata": {},
   "outputs": [
    {
     "name": "stdout",
     "output_type": "stream",
     "text": [
      "Posición:  1  - Valor:  1.0\n",
      "Posición:  2  - Valor:  1.0661968569768645\n",
      "Posición:  3  - Valor:  1.15761156423063\n",
      "Posición:  4  - Valor:  1.2838509218667824\n",
      "Posición:  5  - Valor:  1.4581814633643262\n",
      "Posición:  6  - Valor:  1.6989236397180774\n",
      "Posición:  7  - Valor:  2.0313771213494483\n",
      "Posición:  8  - Valor:  2.4904795483641986\n",
      "Posición:  9  - Valor:  3.124478138051235\n",
      "Posición:  10  - Valor:  4.0\n"
     ]
    }
   ],
   "source": [
    "# Editar el vector tal que el primer nº es la porción que recibe el 1º y el último nº la porción del último:\n",
    "vv = vector(RDF,[1,0,0,0,0,0,0,0,0,4])\n",
    "\n",
    "# La T será la elegida en el apartado anterior!!!!! (T1, T2, T3 o T4)\n",
    "soluciones = T2 \\ vv\n",
    "\n",
    "# Mostrar las posiciones; la posición con mayor valor (SIN CONTAR LA 1º O LA ÚLTIMA) será el resultado:\n",
    "for i in range(10):\n",
    "    print(\"Posición: \", i+1, \" - Valor: \", soluciones[i])"
   ]
  },
  {
   "cell_type": "code",
   "execution_count": null,
   "metadata": {},
   "outputs": [],
   "source": [
    "# Apartado 3\n",
    "'''\n",
    "Supuesto que el tamaño de la porción que recibe el primero es ahora 1 y el tamaño de la porción que recibe el último es 4,\n",
    "determinar el tamaño de la porción de tarta que se llevaría la persona que ocupa la posición 7 de la fila.\n",
    "\n",
    "1. 1.11096433289300\t2. 1.00072098053353\n",
    "3. 2.03137712134945\t4. 1.00325624658717\n",
    "'''"
   ]
  },
  {
   "cell_type": "code",
   "execution_count": 23,
   "metadata": {},
   "outputs": [
    {
     "name": "stdout",
     "output_type": "stream",
     "text": [
      "Posición:  1  - Valor:  1.0\n",
      "Posición:  2  - Valor:  1.0661968569768645\n",
      "Posición:  3  - Valor:  1.15761156423063\n",
      "Posición:  4  - Valor:  1.2838509218667824\n",
      "Posición:  5  - Valor:  1.4581814633643262\n",
      "Posición:  6  - Valor:  1.6989236397180774\n",
      "Posición:  7  - Valor:  2.0313771213494483\n",
      "Posición:  8  - Valor:  2.4904795483641986\n",
      "Posición:  9  - Valor:  3.124478138051235\n",
      "Posición:  10  - Valor:  4.0\n"
     ]
    }
   ],
   "source": [
    "# Editar el vector tal que el primer nº es la porción que recibe el 1º y el último nº la porción del último:\n",
    "vvv = vector(RDF,[1,0,0,0,0,0,0,0,0,4])\n",
    "\n",
    "# La T será la elegida en el apartado anterior!!!!! (T1, T2, T3 o T4)\n",
    "soluciones = T2 \\ vvv\n",
    "\n",
    "# Mostrar las posiciones; la posición QUE NOS PIDAN será el resultado:\n",
    "for i in range(10):\n",
    "    print(\"Posición: \", i+1, \" - Valor: \", soluciones[i])"
   ]
  },
  {
   "cell_type": "code",
   "execution_count": null,
   "metadata": {},
   "outputs": [],
   "source": [
    "# FIN"
   ]
  }
 ],
 "metadata": {
  "kernelspec": {
   "display_name": "SageMath 9.1",
   "language": "sage",
   "name": "sagemath"
  },
  "language_info": {
   "codemirror_mode": {
    "name": "ipython",
    "version": 3
   },
   "file_extension": ".py",
   "mimetype": "text/x-python",
   "name": "python",
   "nbconvert_exporter": "python",
   "pygments_lexer": "ipython3",
   "version": "3.7.3"
  }
 },
 "nbformat": 4,
 "nbformat_minor": 2
}
