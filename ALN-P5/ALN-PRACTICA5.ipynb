{
 "cells": [
  {
   "cell_type": "markdown",
   "metadata": {},
   "source": [
    "<p> </p>\n",
    "<h3 style=\"font-size: 1.17em; text-align: center;\">ESCUELA DE INGENIERÍA INFORMÁTICA</h3>\n",
    "<h3 style=\"font-size: 1.17em; text-align: center;\">UNIVERSIDAD DE SEVILLA</h3>\n",
    "<h4 style=\"font-size: 1em; text-align: center;\"><strong>ÁLGEBRA LINEAL Y NUMÉRICA</strong></h4>\n",
    "<h3 style=\"font-size: 1.17em;\">Quinta práctica: descomposiciones QR y SVD de una matriz.</h3>\n",
    "<p>En esta quinta sesión nos marcamos los siguientes objetivos:</p>\n",
    "<p>- Estudiar la <a href=\"#QR\">descomposición QR</a> de una matriz y aportar algoritmos de cálculo.</p>\n",
    "<p>- Aplicar la descomposición QR a la <a href=\"#resolucion\">resolución de sistemas lineales</a>, analizando las ventajas.</p>\n",
    "<p>- Estudiar la <a href=\"#DVS\">descomposición en valores singulares (SVD)</a> de una matriz y  aportar un algoritmo para su cálculo.</p>\n",
    "<p>- <a href=\"#aplicar\">Aplicar  la SVD</a> al problema del cálculo del rango de una matriz y a la compresión de imágenes digitales.</p>\n",
    "<p>La práctica finaliza con la realización por parte del alumnado de un <a href=\"#cuestionario\">cuestionario personalizado.</a></p>"
   ]
  },
  {
   "cell_type": "markdown",
   "metadata": {},
   "source": [
    "<h3><strong><a name=\"QR\"></a></strong></h3>\n",
    "<h3><strong>Factorización QR de una matriz</strong></h3>\n",
    "<p><strong>Teorema</strong></p>\n",
    "<p><em>Dada una matriz $A\\in \\mathbb{R}^{m \\times n}$ de rango $n$, existe una matriz  $Q\\in \\mathbb{R}^{m \\times n}$ y otra $R$ no singular de orden $n$, tales que $A=QR$, donde $Q^tQ=I_n\\ $  y $R$ es triangular superior.</em></p>\n",
    "<p>La <strong>demostración </strong>consiste en  una interpretación matricial de todo el proceso de ortonormalización de Gram-Schmidt aplicado a las columnas $ a_1,a_2,\\dots,a_n$ de la matriz $A$. A continuación se proporciona la formulación resultante de dicho proceso.</p>\n",
    "<p>Si $q_1,q_2,\\dots,q_n$ son las columnas de la matriz buscada $Q$, resultado del proceso de ortonormalización de Gram-Schmidt aplicado sobre las columnas de $A$, tenemos las siguientes fórmulas</p>\n",
    "<p>\\begin{align*} \\text{Para cualquier } k\\in\\{1,\\ldots,n\\},\\qquad  y_{k} =& a_{k}-\\sum_{i=1}^{k-1} \\left\\langle q_i,a_{k} \\right\\rangle q_i, \\\\  q_k =& \\frac{1}{\\parallel y_k\\parallel_2}. y_k\\end{align*}</p>\n",
    "<p>donde $\\left\\langle a,b \\right\\rangle$ representa el producto escalar usual en $\\mathbb{R}^m$ y $\\parallel a \\parallel_2$ es la norma euclídea asociada.</p>\n",
    "<p>Además, sabemos, cada $y_k$ es ortogonal a todos los vectores precedentes $y_1,\\ldots,y_{k-1}$ y, consecuentemente, también es ortogonal a los vectores $a_1,\\ldots,a_{k-1}$; esto es $\\left\\langle y_{k},a_i \\right\\rangle=0$ para cualquier $i \\in \\{1,2,\\dots k-1\\}$.</p>\n",
    "<p>Denotemos $R=Q^t A$. Tenemos</p>\n",
    "<p>\\begin{align*}R &=Q^t A\\\\[5mm] &=\\left(\\begin{array}{c} q_1^t \\\\ q_2^t\\\\ \\vdots \\\\ q_n^t\\end{array}\\right)\\left( a_1\\ a_2\\ \\dots \\ a_n\\right)\\\\[5mm] & =\\left(\\begin{array}{cccc} q_1^t a_1 & q_1^t a_2 & \\cdots & q_1^t a_n\\\\ q_2^t a_1 & q_2^t a_2 & \\cdots & q_2^t a_n\\\\ \\vdots & \\vdots & \\ddots & \\vdots \\\\ q_n^t a_1 & q_n^t a_2 & \\cdots & q_n^t a_n\\end{array}\\right)\\\\[5mm]&=\\left(\\begin{array}{cccc} \\left\\langle q_1, a_1\\right\\rangle  & \\left\\langle q_1, a_2\\right\\rangle  & \\cdots & \\left\\langle q_1, a_n\\right\\rangle \\\\ \\left\\langle q_2, a_1\\right\\rangle  & \\left\\langle q_2, a_2\\right\\rangle  & \\cdots & \\left\\langle q_2, a_n\\right\\rangle \\\\ \\vdots & \\vdots & \\ddots & \\vdots \\\\ \\left\\langle q_n, a_1\\right\\rangle  & \\left\\langle q_n, a_2\\right\\rangle  & \\cdots & \\left\\langle q_n,a_n\\right\\rangle \\end{array}\\right)\\\\[5mm]&=\\left(\\begin{array}{cccc} \\left\\langle q_1, a_1\\right\\rangle  & \\left\\langle q_1, a_2\\right\\rangle  & \\cdots & \\left\\langle q_1, a_n\\right\\rangle \\\\ 0 & \\left\\langle q_2, a_2\\right\\rangle  & \\cdots & \\left\\langle q_2, a_n\\right\\rangle \\\\ \\vdots & \\vdots & \\ddots & \\vdots \\\\ 0 & 0 & \\cdots & \\left\\langle q_n,a_n\\right\\rangle \\end{array}\\right)\\end{align*}</p>\n",
    "<p>De dónde $R$  es una matriz triangular superior (es la matriz $R$ buscada) y cada $r_{ii}=\\left\\langle q_i,a_i \\right\\rangle \\neq 0$, por lo que $R$ es también una matriz no singular.</p>\n",
    "<p style=\"text-align: center;\"><span style=\"color: #0000ff;\"><br /></span></p>\n",
    "<p>La siguiente función proporciona la descomposición $A=QR$, siguiendo el proceso vectorial descrito anteriormente:</p>\n",
    "<p style=\"text-align: center;\"><span style=\"color: #0000ff;\">Q, R = factorizacion_QR(A)</span></p>\n",
    "<p> </p>\n",
    "\n",
    "> Ejecutar las dos celdas que siguen para poder utilizar las funciones que definen."
   ]
  },
  {
   "cell_type": "code",
   "execution_count": 1,
   "metadata": {},
   "outputs": [],
   "source": [
    "#auto\n",
    "def tril(A,k):\n",
    "    return matrix(A.base_ring(), A.nrows(), A.ncols(), lambda i,j: A[i,j] if j <= i+k else 0)\n",
    "    \n",
    "def triu(A):\n",
    "    L = copy(A).transpose()\n",
    "    return(tril(L, 0).transpose())\n",
    "    \n",
    "def factorizacion_QR(A):\n",
    "    q = []  # Lista de los vectores qi (columnas de Q)\n",
    "    for ak in A.columns():\n",
    "        yk = ak - sum( qi.dot_product(ak) * qi for qi in q )# dot_product es el p.escalar usual\n",
    "        qk = yk/yk.norm(2)\n",
    "        q.append(qk)\n",
    "    Q = matrix(q).transpose()\n",
    "    R = triu(Q.transpose()*A) # Q.transpose()*A ya es triangular superior, excepto por los redondeos\n",
    "                              # Aplicar triu elimina los coeficientes muy pequeños debajo de la diag. \n",
    "    return Q, R"
   ]
  },
  {
   "cell_type": "code",
   "execution_count": 2,
   "metadata": {},
   "outputs": [],
   "source": [
    "def forma_escalonada(M, canon = False, ver_transfo = False, algoritmo = 'sin pivotear'):\n",
    "    A  = copy(M)\n",
    "    m  = A.nrows() # número de filas\n",
    "    n  = A.ncols() # número de columnas\n",
    "    mindim = min(m, n)\n",
    "    lista_transfos = []                         # Lista que recordará las operaciones realizadas.\n",
    "    F  = copy(identity_matrix(base_ring(A), m)) \n",
    "    s  = 0\n",
    "    for k in range(mindim):\n",
    "        (r, s) = busca_pivote[algoritmo](A,  k, s)\n",
    "        if (r < m) and (s < n):   # Si hemos encontrado un pivote...\n",
    "            if (r != k):          #    Si el pivote no está en la primera fila considerada...  \n",
    "                A.swap_rows(k, r) #    ... lo colocamos allí (fila k)\n",
    "                F.swap_rows(k, r)\n",
    "                lista_transfos.append( ('swap',(k+1,r+1)) )\n",
    "            piv = A[k, s]             # Valor del pivote. Su posicion es ahora: fila k, col s.\n",
    "            ### reduccion debajo del pivote ### \n",
    "            for t in range(k + 1, m): # reducimos los coeficientes DEBAJO del pivote.\n",
    "                multip = A[t, s]*piv^-1 \n",
    "                if multip != 0:\n",
    "                    A[t, s] = 0\n",
    "                    F[t] = F[t] - multip*F[k]\n",
    "                    lista_transfos.append( ('combination', (t+1, k+1, -multip)))\n",
    "                    for v in range(s + 1, n):\n",
    "                        A[t, v] = A[t, v] - multip*A[k, v]\n",
    "            ### reduccion encima del pivote ###            \n",
    "            if canon:    \n",
    "                for t in range(k):   \n",
    "                    multip = A[t, s]*piv^(-1)\n",
    "                    if multip != 0:\n",
    "                        A[t, s] = 0\n",
    "                        F[t] = F[t] - multip*F[k]\n",
    "                        lista_transfos.append( ('combination',(t+1, k+1, -multip)))\n",
    "                        for v in range(s + 1, n):\n",
    "                            A[t, v] = A[t, v] - multip*A[k, v]\n",
    "                F[k] = F[k]*piv^(-1)  # reducimos también el pivote a 1.\n",
    "                A[k] = A[k]*piv^(-1)\n",
    "                lista_transfos.append( ('rescale', (k+1, piv^(-1))) )\n",
    "        s = s+1        \n",
    "    print\n",
    "    ## Presentación de los resultados\n",
    "    if ver_transfo: \n",
    "        show_operations(M, lista_transfos)\n",
    "        if canon: print('Forma escalonada canónica:')\n",
    "        else: print('Forma escalonada simple:')\n",
    "        show(A)\n",
    "    return(F, A)    \n",
    "        \n",
    "busca_pivote={}\n",
    "\n",
    "def busca_pivote_sin_pivotear(A, k, s):\n",
    "    '''Se busca como pivote el primer coeficiente no-nulo, \n",
    "    en las filas k y siguientes, columna s y siguientes.'''\n",
    "    r = k\n",
    "    (m, n) = A.dimensions()\n",
    "    while (r < m) and (s < n) and (A[r, s] == 0):\n",
    "       r = r + 1                    # ... en primer lugar en la misma columna s.\n",
    "       if r == m: (r, s) = (k, s+1) # pasamos a la columna siguiente\n",
    "    return(r,s)\n",
    "    \n",
    "busca_pivote['sin pivotear'] = busca_pivote_sin_pivotear\n",
    "\n",
    "def show_operations(M, lista_transfos):\n",
    "    'Presentacion de las operaciones elementales.'\n",
    "    print('Matriz original:')\n",
    "    show(M)\n",
    "    print\n",
    "    print('Transformaciones elementales realizadas:')\n",
    "    for (tipo, parametros) in lista_transfos:\n",
    "        if tipo == 'swap':\n",
    "            (indice1, indice2) = parametros\n",
    "            pretty_print(html('$F_{%s,%s}$'%(latex(indice1), latex(indice2))))\n",
    "            print\n",
    "        elif tipo == 'combination':\n",
    "            (indice1, indice2, factor) = parametros\n",
    "            pretty_print(html('$F_{%s,%s}(%s)$'%(latex(indice1),latex(indice2), latex(factor))))  \n",
    "            print\n",
    "        elif tipo == 'rescale':\n",
    "            (indice, factor) = parametros\n",
    "            pretty_print(html('$F_{%s}(%s)$'%(latex(indice), latex(factor))))  \n",
    "            print\n",
    "    return None\n",
    "    \n",
    "def sustitucion_regresiva(U):\n",
    "    m = U.ncols()\n",
    "    n = U.nrows()\n",
    "    # Se separa la ultima columna: U = ( M | x )\n",
    "    M = U.submatrix(ncols=m-1) # Las m-1 primeras columnas (se quita la ultima)\n",
    "    x = U.column(-1)           # La ultima columna.\n",
    "    for k in range(n - 1, -1, -1):\n",
    "        x[k] = (x[k] - sum(M[k, j]*x[j] for j in range(k + 1, n)))/M[k, k]\n",
    "    return x"
   ]
  },
  {
   "cell_type": "markdown",
   "metadata": {},
   "source": [
    "<h3><span style=\"color: #0000ff;\">Ejemplo 1</span></h3>\n",
    "<p>Vamos a hallar la factorización $QR$ de una matriz $A$ de orden $4 \\times 3$:</p>"
   ]
  },
  {
   "cell_type": "code",
   "execution_count": 3,
   "metadata": {},
   "outputs": [
    {
     "data": {
      "text/html": [
       "<html><script type=\"math/tex; mode=display\">\\newcommand{\\Bold}[1]{\\mathbf{#1}}\\left(\\begin{array}{rrr}\n",
       "1.0 & 2.0 & -1.0 \\\\\n",
       "3.0 & 4.0 & 0.0 \\\\\n",
       "-1.0 & 0.0 & 1.0 \\\\\n",
       "1.0 & 1.0 & 1.0\n",
       "\\end{array}\\right)</script></html>"
      ],
      "text/latex": [
       "\\begin{math}\n",
       "\\newcommand{\\Bold}[1]{\\mathbf{#1}}\\left(\\begin{array}{rrr}\n",
       "1.0 & 2.0 & -1.0 \\\\\n",
       "3.0 & 4.0 & 0.0 \\\\\n",
       "-1.0 & 0.0 & 1.0 \\\\\n",
       "1.0 & 1.0 & 1.0\n",
       "\\end{array}\\right)\n",
       "\\end{math}"
      ],
      "text/plain": [
       "[ 1.0  2.0 -1.0]\n",
       "[ 3.0  4.0  0.0]\n",
       "[-1.0  0.0  1.0]\n",
       "[ 1.0  1.0  1.0]"
      ]
     },
     "metadata": {},
     "output_type": "display_data"
    }
   ],
   "source": [
    "A = matrix(RDF, [[1, 2, -1], [3, 4, 0], [-1, 0, 1], [1, 1, 1]])\n",
    "show(A)"
   ]
  },
  {
   "cell_type": "markdown",
   "metadata": {},
   "source": [
    "<p>Comprobamos que el rango coincide con el número de columnas:</p>"
   ]
  },
  {
   "cell_type": "code",
   "execution_count": 4,
   "metadata": {},
   "outputs": [
    {
     "data": {
      "text/plain": [
       "3"
      ]
     },
     "execution_count": 4,
     "metadata": {},
     "output_type": "execute_result"
    }
   ],
   "source": [
    "A.rank()"
   ]
  },
  {
   "cell_type": "code",
   "execution_count": 5,
   "metadata": {},
   "outputs": [
    {
     "data": {
      "text/html": [
       "<html><script type=\"math/tex; mode=display\">\\newcommand{\\Bold}[1]{\\mathbf{#1}}\\left(\\begin{array}{rrr}\n",
       "0.2886751345948129 & 0.49999999999999967 & -0.5883484054145521 \\\\\n",
       "0.8660254037844388 & 0.16666666666666546 & 0.13074409009212282 \\\\\n",
       "-0.2886751345948129 & 0.8333333333333336 & 0.45760431532242923 \\\\\n",
       "0.2886751345948129 & -0.16666666666666696 & 0.6537204504606136\n",
       "\\end{array}\\right)</script></html>"
      ],
      "text/latex": [
       "\\begin{math}\n",
       "\\newcommand{\\Bold}[1]{\\mathbf{#1}}\\left(\\begin{array}{rrr}\n",
       "0.2886751345948129 & 0.49999999999999967 & -0.5883484054145521 \\\\\n",
       "0.8660254037844388 & 0.16666666666666546 & 0.13074409009212282 \\\\\n",
       "-0.2886751345948129 & 0.8333333333333336 & 0.45760431532242923 \\\\\n",
       "0.2886751345948129 & -0.16666666666666696 & 0.6537204504606136\n",
       "\\end{array}\\right)\n",
       "\\end{math}"
      ],
      "text/plain": [
       "[  0.2886751345948129  0.49999999999999967  -0.5883484054145521]\n",
       "[  0.8660254037844388  0.16666666666666546  0.13074409009212282]\n",
       "[ -0.2886751345948129   0.8333333333333336  0.45760431532242923]\n",
       "[  0.2886751345948129 -0.16666666666666696   0.6537204504606136]"
      ]
     },
     "metadata": {},
     "output_type": "display_data"
    },
    {
     "data": {
      "text/html": [
       "<html><script type=\"math/tex; mode=display\">\\newcommand{\\Bold}[1]{\\mathbf{#1}}\\left(\\begin{array}{rrr}\n",
       "3.4641016151377557 & 4.3301270189221945 & -0.2886751345948129 \\\\\n",
       "0.0 & 1.4999999999999942 & 0.16666666666666696 \\\\\n",
       "0.0 & 0.0 & 1.699673171197595\n",
       "\\end{array}\\right)</script></html>"
      ],
      "text/latex": [
       "\\begin{math}\n",
       "\\newcommand{\\Bold}[1]{\\mathbf{#1}}\\left(\\begin{array}{rrr}\n",
       "3.4641016151377557 & 4.3301270189221945 & -0.2886751345948129 \\\\\n",
       "0.0 & 1.4999999999999942 & 0.16666666666666696 \\\\\n",
       "0.0 & 0.0 & 1.699673171197595\n",
       "\\end{array}\\right)\n",
       "\\end{math}"
      ],
      "text/plain": [
       "[ 3.4641016151377557  4.3301270189221945 -0.2886751345948129]\n",
       "[                0.0  1.4999999999999942 0.16666666666666696]\n",
       "[                0.0                 0.0   1.699673171197595]"
      ]
     },
     "metadata": {},
     "output_type": "display_data"
    }
   ],
   "source": [
    "Q, R = factorizacion_QR(A)\n",
    "show(Q)\n",
    "show(R)"
   ]
  },
  {
   "cell_type": "markdown",
   "metadata": {},
   "source": [
    "<p>Comprobamos si la factorización $QR$ es correcta:</p>"
   ]
  },
  {
   "cell_type": "code",
   "execution_count": 6,
   "metadata": {},
   "outputs": [
    {
     "data": {
      "text/plain": [
       "False"
      ]
     },
     "execution_count": 6,
     "metadata": {},
     "output_type": "execute_result"
    }
   ],
   "source": [
    "Q*R == A  ## trabajando con valores decimales, es difícil obtener una identidad exacta"
   ]
  },
  {
   "cell_type": "code",
   "execution_count": 7,
   "metadata": {},
   "outputs": [
    {
     "data": {
      "text/html": [
       "<html><script type=\"math/tex; mode=display\">\\newcommand{\\Bold}[1]{\\mathbf{#1}}\\left(\\begin{array}{rrr}\n",
       "4.440892098500626 \\times 10^{-16} & -2.886579864025407 \\times 10^{-15} & 1.1102230246251565 \\times 10^{-16} \\\\\n",
       "1.7763568394002505 \\times 10^{-15} & -8.881784197001252 \\times 10^{-16} & 0.0 \\\\\n",
       "-4.440892098500626 \\times 10^{-16} & -4.884981308350689 \\times 10^{-15} & 0.0 \\\\\n",
       "4.440892098500626 \\times 10^{-16} & 8.881784197001252 \\times 10^{-16} & 2.220446049250313 \\times 10^{-16}\n",
       "\\end{array}\\right)</script></html>"
      ],
      "text/latex": [
       "\\begin{math}\n",
       "\\newcommand{\\Bold}[1]{\\mathbf{#1}}\\left(\\begin{array}{rrr}\n",
       "4.440892098500626 \\times 10^{-16} & -2.886579864025407 \\times 10^{-15} & 1.1102230246251565 \\times 10^{-16} \\\\\n",
       "1.7763568394002505 \\times 10^{-15} & -8.881784197001252 \\times 10^{-16} & 0.0 \\\\\n",
       "-4.440892098500626 \\times 10^{-16} & -4.884981308350689 \\times 10^{-15} & 0.0 \\\\\n",
       "4.440892098500626 \\times 10^{-16} & 8.881784197001252 \\times 10^{-16} & 2.220446049250313 \\times 10^{-16}\n",
       "\\end{array}\\right)\n",
       "\\end{math}"
      ],
      "text/plain": [
       "[ 4.440892098500626e-16 -2.886579864025407e-15 1.1102230246251565e-16]\n",
       "[1.7763568394002505e-15 -8.881784197001252e-16                    0.0]\n",
       "[-4.440892098500626e-16 -4.884981308350689e-15                    0.0]\n",
       "[ 4.440892098500626e-16  8.881784197001252e-16  2.220446049250313e-16]"
      ]
     },
     "metadata": {},
     "output_type": "display_data"
    }
   ],
   "source": [
    "show(Q*R - A)  ## vemos la matriz diferencia entre ambos lados de la igualdad anterior"
   ]
  },
  {
   "cell_type": "markdown",
   "metadata": {},
   "source": [
    "<p>Obsérvese que las diferencias entre $QR$ y $A$ se deben a pequeños errores de redondeo, del orden de $10^{-16}$ aproximadamente. Existe un método en Sage que, aplicado sobre una matriz $A$, devuelve otra matriz donde se sustituyen  los números próximos a cero por cero, con un nivel de tolerancia determinado, es decir, que si $|a|<tol$ entonces reemplazamos $a=0$. La sintaxis es</p>\n",
    "<p><span style=\"font-family: arial,helvetica,sans-serif; color: #0000ff;\">A.zero_at(tol)</span></p>\n",
    "<p>donde tol es el nivel de tolerancia.</p>\n",
    "<p>Lo aplicamos al resultado anterior, con un nivel de tolerancia tol=$10^{-14}$.</p>"
   ]
  },
  {
   "cell_type": "code",
   "execution_count": 8,
   "metadata": {},
   "outputs": [
    {
     "data": {
      "text/html": [
       "<html><script type=\"math/tex; mode=display\">\\newcommand{\\Bold}[1]{\\mathbf{#1}}\\left(\\begin{array}{rrr}\n",
       "0.0 & 0.0 & 0.0 \\\\\n",
       "0.0 & 0.0 & 0.0 \\\\\n",
       "0.0 & 0.0 & 0.0 \\\\\n",
       "0.0 & 0.0 & 0.0\n",
       "\\end{array}\\right)</script></html>"
      ],
      "text/latex": [
       "\\begin{math}\n",
       "\\newcommand{\\Bold}[1]{\\mathbf{#1}}\\left(\\begin{array}{rrr}\n",
       "0.0 & 0.0 & 0.0 \\\\\n",
       "0.0 & 0.0 & 0.0 \\\\\n",
       "0.0 & 0.0 & 0.0 \\\\\n",
       "0.0 & 0.0 & 0.0\n",
       "\\end{array}\\right)\n",
       "\\end{math}"
      ],
      "text/plain": [
       "[0.0 0.0 0.0]\n",
       "[0.0 0.0 0.0]\n",
       "[0.0 0.0 0.0]\n",
       "[0.0 0.0 0.0]"
      ]
     },
     "metadata": {},
     "output_type": "display_data"
    }
   ],
   "source": [
    "show((Q*R - A).zero_at(10^(-14)) ) # comprobamos que, salvo pequeños errores, QR = A   pues   QR-A = O"
   ]
  },
  {
   "cell_type": "code",
   "execution_count": 9,
   "metadata": {},
   "outputs": [
    {
     "data": {
      "text/html": [
       "<html><script type=\"math/tex; mode=display\">\\newcommand{\\Bold}[1]{\\mathbf{#1}}\\left(\\begin{array}{rrr}\n",
       "4.440892098500626 \\times 10^{-16} & -2.886579864025407 \\times 10^{-15} & 1.1102230246251565 \\times 10^{-16} \\\\\n",
       "1.7763568394002505 \\times 10^{-15} & -8.881784197001252 \\times 10^{-16} & 0.0 \\\\\n",
       "-4.440892098500626 \\times 10^{-16} & -4.884981308350689 \\times 10^{-15} & 0.0 \\\\\n",
       "4.440892098500626 \\times 10^{-16} & 8.881784197001252 \\times 10^{-16} & 2.220446049250313 \\times 10^{-16}\n",
       "\\end{array}\\right)</script></html>"
      ],
      "text/latex": [
       "\\begin{math}\n",
       "\\newcommand{\\Bold}[1]{\\mathbf{#1}}\\left(\\begin{array}{rrr}\n",
       "4.440892098500626 \\times 10^{-16} & -2.886579864025407 \\times 10^{-15} & 1.1102230246251565 \\times 10^{-16} \\\\\n",
       "1.7763568394002505 \\times 10^{-15} & -8.881784197001252 \\times 10^{-16} & 0.0 \\\\\n",
       "-4.440892098500626 \\times 10^{-16} & -4.884981308350689 \\times 10^{-15} & 0.0 \\\\\n",
       "4.440892098500626 \\times 10^{-16} & 8.881784197001252 \\times 10^{-16} & 2.220446049250313 \\times 10^{-16}\n",
       "\\end{array}\\right)\n",
       "\\end{math}"
      ],
      "text/plain": [
       "[ 4.440892098500626e-16 -2.886579864025407e-15 1.1102230246251565e-16]\n",
       "[1.7763568394002505e-15 -8.881784197001252e-16                    0.0]\n",
       "[-4.440892098500626e-16 -4.884981308350689e-15                    0.0]\n",
       "[ 4.440892098500626e-16  8.881784197001252e-16  2.220446049250313e-16]"
      ]
     },
     "metadata": {},
     "output_type": "display_data"
    }
   ],
   "source": [
    "show((Q*R - A).zero_at(10^-16)) # si bajamos el nivel de tolerancia, siguen visibles algunos errores"
   ]
  },
  {
   "cell_type": "markdown",
   "metadata": {},
   "source": [
    "<p>Otra posibilidad para comprobar cómo de próximos están los valores de las matrices  $QR$ y $A$ es hallar la norma matricial de $QR-A$ para ver si está próxima a cero.</p>"
   ]
  },
  {
   "cell_type": "code",
   "execution_count": 10,
   "metadata": {},
   "outputs": [
    {
     "data": {
      "text/plain": [
       "5.811753869912703e-15"
      ]
     },
     "execution_count": 10,
     "metadata": {},
     "output_type": "execute_result"
    }
   ],
   "source": [
    "(Q*R - A).norm(2)  ## norma euclídea de la diferencia"
   ]
  },
  {
   "cell_type": "markdown",
   "metadata": {},
   "source": [
    "<p>Comprobamos finalmente si $Q^t Q = I$:</p>"
   ]
  },
  {
   "cell_type": "code",
   "execution_count": 11,
   "metadata": {},
   "outputs": [
    {
     "data": {
      "text/html": [
       "<html><script type=\"math/tex; mode=display\">\\newcommand{\\Bold}[1]{\\mathbf{#1}}\\left(\\begin{array}{rrr}\n",
       "0.2886751345948129 & 0.49999999999999967 & -0.5883484054145521 \\\\\n",
       "0.8660254037844388 & 0.16666666666666546 & 0.13074409009212282 \\\\\n",
       "-0.2886751345948129 & 0.8333333333333336 & 0.45760431532242923 \\\\\n",
       "0.2886751345948129 & -0.16666666666666696 & 0.6537204504606136\n",
       "\\end{array}\\right)</script></html>"
      ],
      "text/latex": [
       "\\begin{math}\n",
       "\\newcommand{\\Bold}[1]{\\mathbf{#1}}\\left(\\begin{array}{rrr}\n",
       "0.2886751345948129 & 0.49999999999999967 & -0.5883484054145521 \\\\\n",
       "0.8660254037844388 & 0.16666666666666546 & 0.13074409009212282 \\\\\n",
       "-0.2886751345948129 & 0.8333333333333336 & 0.45760431532242923 \\\\\n",
       "0.2886751345948129 & -0.16666666666666696 & 0.6537204504606136\n",
       "\\end{array}\\right)\n",
       "\\end{math}"
      ],
      "text/plain": [
       "[  0.2886751345948129  0.49999999999999967  -0.5883484054145521]\n",
       "[  0.8660254037844388  0.16666666666666546  0.13074409009212282]\n",
       "[ -0.2886751345948129   0.8333333333333336  0.45760431532242923]\n",
       "[  0.2886751345948129 -0.16666666666666696   0.6537204504606136]"
      ]
     },
     "metadata": {},
     "output_type": "display_data"
    }
   ],
   "source": [
    "show(Q)"
   ]
  },
  {
   "cell_type": "code",
   "execution_count": 12,
   "metadata": {},
   "outputs": [
    {
     "data": {
      "text/plain": [
       "1.4823034685234727e-15"
      ]
     },
     "execution_count": 12,
     "metadata": {},
     "output_type": "execute_result"
    }
   ],
   "source": [
    "(Q.transpose()*Q - 1).norm(2)"
   ]
  },
  {
   "cell_type": "code",
   "execution_count": 13,
   "metadata": {},
   "outputs": [
    {
     "data": {
      "text/html": [
       "<html><script type=\"math/tex; mode=display\">\\newcommand{\\Bold}[1]{\\mathbf{#1}}\\left(\\begin{array}{rrr}\n",
       "4.440892098500626 \\times 10^{-16} & -1.2698175844150228 \\times 10^{-15} & 2.220446049250313 \\times 10^{-16} \\\\\n",
       "-1.2698175844150228 \\times 10^{-15} & -2.220446049250313 \\times 10^{-16} & -1.942890293094024 \\times 10^{-16} \\\\\n",
       "2.220446049250313 \\times 10^{-16} & -1.942890293094024 \\times 10^{-16} & 0.0\n",
       "\\end{array}\\right)</script></html>"
      ],
      "text/latex": [
       "\\begin{math}\n",
       "\\newcommand{\\Bold}[1]{\\mathbf{#1}}\\left(\\begin{array}{rrr}\n",
       "4.440892098500626 \\times 10^{-16} & -1.2698175844150228 \\times 10^{-15} & 2.220446049250313 \\times 10^{-16} \\\\\n",
       "-1.2698175844150228 \\times 10^{-15} & -2.220446049250313 \\times 10^{-16} & -1.942890293094024 \\times 10^{-16} \\\\\n",
       "2.220446049250313 \\times 10^{-16} & -1.942890293094024 \\times 10^{-16} & 0.0\n",
       "\\end{array}\\right)\n",
       "\\end{math}"
      ],
      "text/plain": [
       "[  4.440892098500626e-16 -1.2698175844150228e-15   2.220446049250313e-16]\n",
       "[-1.2698175844150228e-15  -2.220446049250313e-16  -1.942890293094024e-16]\n",
       "[  2.220446049250313e-16  -1.942890293094024e-16                     0.0]"
      ]
     },
     "metadata": {},
     "output_type": "display_data"
    }
   ],
   "source": [
    "show(Q.transpose()*Q - 1)  # calculamos el valor numérico de   Q^t*Q-I; la matriz identidad aquí se expresa con 1"
   ]
  },
  {
   "cell_type": "code",
   "execution_count": 14,
   "metadata": {},
   "outputs": [
    {
     "data": {
      "text/html": [
       "<html><script type=\"math/tex; mode=display\">\\newcommand{\\Bold}[1]{\\mathbf{#1}}\\left(\\begin{array}{rrr}\n",
       "0.0 & 0.0 & 0.0 \\\\\n",
       "0.0 & 0.0 & 0.0 \\\\\n",
       "0.0 & 0.0 & 0.0\n",
       "\\end{array}\\right)</script></html>"
      ],
      "text/latex": [
       "\\begin{math}\n",
       "\\newcommand{\\Bold}[1]{\\mathbf{#1}}\\left(\\begin{array}{rrr}\n",
       "0.0 & 0.0 & 0.0 \\\\\n",
       "0.0 & 0.0 & 0.0 \\\\\n",
       "0.0 & 0.0 & 0.0\n",
       "\\end{array}\\right)\n",
       "\\end{math}"
      ],
      "text/plain": [
       "[0.0 0.0 0.0]\n",
       "[0.0 0.0 0.0]\n",
       "[0.0 0.0 0.0]"
      ]
     },
     "metadata": {},
     "output_type": "display_data"
    }
   ],
   "source": [
    "show((Q.transpose()*Q - 1).zero_at(10^-14))"
   ]
  },
  {
   "cell_type": "markdown",
   "metadata": {},
   "source": [
    "<p>Es importante no confundir $Q^tQ=I_n$ con $QQ^t$ pues esta última no tiene porqué verificar $QQ^t=I_m$.</p>"
   ]
  },
  {
   "cell_type": "code",
   "execution_count": 15,
   "metadata": {},
   "outputs": [
    {
     "data": {
      "text/html": [
       "<html><script type=\"math/tex; mode=display\">\\newcommand{\\Bold}[1]{\\mathbf{#1}}\\left(\\begin{array}{rrrr}\n",
       "0.6794871794871793 & 0.2564102564102557 & 0.06410256410256399 & -0.38461538461538475 \\\\\n",
       "0.2564102564102557 & 0.7948717948717948 & -0.051282051282052266 & 0.307692307692308 \\\\\n",
       "0.06410256410256399 & -0.051282051282052266 & 0.9871794871794874 & 0.07692307692307654 \\\\\n",
       "-0.38461538461538475 & 0.307692307692308 & 0.07692307692307654 & 0.5384615384615388\n",
       "\\end{array}\\right)</script></html>"
      ],
      "text/latex": [
       "\\begin{math}\n",
       "\\newcommand{\\Bold}[1]{\\mathbf{#1}}\\left(\\begin{array}{rrrr}\n",
       "0.6794871794871793 & 0.2564102564102557 & 0.06410256410256399 & -0.38461538461538475 \\\\\n",
       "0.2564102564102557 & 0.7948717948717948 & -0.051282051282052266 & 0.307692307692308 \\\\\n",
       "0.06410256410256399 & -0.051282051282052266 & 0.9871794871794874 & 0.07692307692307654 \\\\\n",
       "-0.38461538461538475 & 0.307692307692308 & 0.07692307692307654 & 0.5384615384615388\n",
       "\\end{array}\\right)\n",
       "\\end{math}"
      ],
      "text/plain": [
       "[   0.6794871794871793    0.2564102564102557   0.06410256410256399  -0.38461538461538475]\n",
       "[   0.2564102564102557    0.7948717948717948 -0.051282051282052266     0.307692307692308]\n",
       "[  0.06410256410256399 -0.051282051282052266    0.9871794871794874   0.07692307692307654]\n",
       "[ -0.38461538461538475     0.307692307692308   0.07692307692307654    0.5384615384615388]"
      ]
     },
     "metadata": {},
     "output_type": "display_data"
    }
   ],
   "source": [
    "show(Q*Q.transpose())   ### no se obtiene la matriz unidad de orden 4"
   ]
  },
  {
   "cell_type": "markdown",
   "metadata": {},
   "source": [
    "<h3><span style=\"color: #0000ff;\">Ejemplo 2</span></h3>\n",
    "<p><em>Sea  $H_{15}$ la matriz de Hilbert de orden $15$ (los coeficientes $h_{ij}$ de $H_{n}$ vienen definidos como $h_{ij}= 1/(i+j-1)$) .</em></p>\n",
    "<p><em>Calcular la descomposición $QR$ para la matriz $H_{15}$ y analizar los errores cometidos.</em></p>\n",
    "\n",
    "<p>Facilitamos una función que genera la matriz de Hilbert de orden n</p>"
   ]
  },
  {
   "cell_type": "code",
   "execution_count": 16,
   "metadata": {},
   "outputs": [],
   "source": [
    "def matrizHilbert(n):\n",
    "    r\"\"\"\n",
    "    Calcula la matriz de Hilbert de orden n.\n",
    "    Una tal función ya está proporcionada por SAGE8 (matrix.hilbert) \n",
    "    pero no por las versiones anteriores.\n",
    "    \"\"\"\n",
    "    return matrix(QQ, n, lambda i, j: 1/(i+j+1) )\n",
    "    # 1/(i+j+1) en vez de 1/(i+j-1) ya que i,j empiezan a 0"
   ]
  },
  {
   "cell_type": "code",
   "execution_count": 17,
   "metadata": {},
   "outputs": [],
   "source": [
    "A = matrizHilbert(15).n()"
   ]
  },
  {
   "cell_type": "code",
   "execution_count": 18,
   "metadata": {},
   "outputs": [],
   "source": [
    "Q, R = factorizacion_QR(A)"
   ]
  },
  {
   "cell_type": "code",
   "execution_count": 19,
   "metadata": {},
   "outputs": [
    {
     "data": {
      "text/plain": [
       "0.00031997644119073474"
      ]
     },
     "execution_count": 19,
     "metadata": {},
     "output_type": "execute_result"
    }
   ],
   "source": [
    "(Q*R - A).norm(2)"
   ]
  },
  {
   "cell_type": "code",
   "execution_count": 20,
   "metadata": {},
   "outputs": [
    {
     "data": {
      "text/plain": [
       "7.996252222451787"
      ]
     },
     "execution_count": 20,
     "metadata": {},
     "output_type": "execute_result"
    }
   ],
   "source": [
    "(Q.transpose()*Q - 1).norm(2)"
   ]
  },
  {
   "cell_type": "markdown",
   "metadata": {},
   "source": [
    "<p>En este ejemplo, los errores numéricos son considerablemente grandes. En consecuencia, tal descomposición obtenida no puede utilizarse en cálculos prácticos poque no tendrían validez o fiabilidad.</p>\n",
    "<p>Podemos intentar identificar las matrices que tienen un mal comportamiento numérico con ayuda del estudio del <span style=\"background-color: #ffffff; color: #ff0000;\"><em>número de condición</em></span> de tales matrices. El número de condición de una matriz $A$, que notaremos <span style=\"color: #ff0000;\">$\\kappa(A)$</span>, estima cuánto se amplifican como máximo los errores relativos sobre los datos cuando resolvemos sistemas $Ax=b$ (es decir, sistemas con matriz de coeficientes igual a $A$, cuadrada y no singular).</p>\n",
    "<p>La siguiente función proporciona el número de condición de una matriz $A$ regular, para la norma especificada:</p>\n",
    "<p style=\"text-align: center;\"><span style=\"color: #0000ff;\">numero_condicion(A, p)</span></p>\n",
    "<p>donde</p>\n",
    "<ul>\n",
    "<li>p=1 se refiere a la norma-1,</li>\n",
    "<li>p=2 para la norma euclídea (valor por defecto).</li>\n",
    "<li>y p=Infinity para la  norma infinito.</li>\n",
    "</ul>\n",
    "<p>Si la matriz es singular o se utiliza otra norma diferente, se imprime un mensaje de error.</p>"
   ]
  },
  {
   "cell_type": "code",
   "execution_count": 21,
   "metadata": {},
   "outputs": [],
   "source": [
    "def numero_condicion(A, p = 2):\n",
    "    try:\n",
    "        B = A.inverse() \n",
    "        cond = 0\n",
    "        if p == 2: \n",
    "            cond = A.norm(2)*B.norm(2) \n",
    "        if p == 1: \n",
    "            cond = A.norm(1)*B.norm(1) \n",
    "        if p == Infinity: \n",
    "            cond = A.norm(Infinity)*B.norm(Infinity) \n",
    "    except ZeroDivisionError:\n",
    "        print(' Error: la matriz ha de ser cuadrada y no singular.')\n",
    "    if cond == 0:\n",
    "        print(' Error: sólo se contemplan las normas p=1, p=2, p=Infinity.')\n",
    "    return cond"
   ]
  },
  {
   "cell_type": "code",
   "execution_count": 22,
   "metadata": {},
   "outputs": [
    {
     "data": {
      "text/plain": [
       "4.197819332639827e+17"
      ]
     },
     "execution_count": 22,
     "metadata": {},
     "output_type": "execute_result"
    }
   ],
   "source": [
    "numero_condicion(A)"
   ]
  },
  {
   "cell_type": "markdown",
   "metadata": {},
   "source": [
    "<p>Observamos que la matriz de Hilbert de orden 15 tiene un número de condición superior a $4\\cdot 10^{17}$, de ahí su mal comportamiento en los cálculos numéricos de su descomposición QR.</p>\n",
    "<p>Las matrices de Hilbert son conocidas en la literatura matemática por tratarse de ejemplos de matrices muy mal condicionadas para realizar cálculos numéricos con ellas.</p>\n",
    "<p>En vista de los resultados obtenidos anteriormente, el método de descomposición $QR$ por ortonormalización de Gram-Schmidt puede amplificar errores para matrices mal condicionadas, obteniéndose que la matriz $Q$ de la descomposición no es ortogonal, lo que invalida dicha descomposición. En consecuencia habría que introducir algún refinamiento o método alternativo para abordar este tipo de descomposición, que tuviera en cuenta el condicionamiento de las matrices. Estudiaremos otras formas alternativas de descomposiciones $QR$, tales como descomposición de Givens y descomposición de Householder, en un próximo tema.</p>\n",
    "\n",
    "<h3><strong><a name=\"resolucion\"></a></strong></h3>\n",
    "<h3><strong>Aplicación de la descomposición $QR$ a la resolución de sistemas lineales</strong></h3>\n",
    "<p>Dado un  sistema lineal  $Ax=b$, si la matriz $A$ <strong>cuadrada</strong> admite descomposición $A=QR$ donde $Q$ es una <strong>matriz ortogonal</strong> ($Q^t=Q^{-1}$ ) y $R$ es una matriz triangular superior, podemos hacer la siguiente transformación:</p>\n",
    "<p>\\begin{align*}Ax=b&\\Leftrightarrow QRx=b\\\\ &\\Leftrightarrow Rx=Q^t b\\end{align*}</p>\n",
    "<p>de donde resulta un sistema lineal equivalente con matriz de coeficientes triangular. El coste computacional para resolver dicho sistema es de orden $n^2$, siendo $n$ el orden de la matriz $A$, sin embargo, el coste computacional de la descomposición $QR$ a partir del método de Gram-Schmidt es superior a cualquier método de escalonamiento del sistema original de los ya estudiados.</p>\n",
    "<p>¿Dónde radica el interés?</p>\n",
    "<p>En el condicionamiento de los sistemas resultantes. Sabemos que, para la norma euclídea (o \"norma espectral\") de las matrices, el número de condición de una matriz es 1 (el mínimo posible) si y solo si dicha matriz es ortogonal y además $\\kappa(A)=\\kappa(QR)=\\kappa(R)$ por ser $Q$ matriz ortogonal. En conclusión, los sistemas $Ax=b$ y $Rx=Q^tb$ están igualmente condicionados.</p>\n",
    "<p>Esto no sucede con los métodos de escalonamiento, donde la matriz $A$ admite una descomposición del tipo $PA=LU$ siendo $P$ una matriz de permutación (y por tanto ortogonal), $L$ una matriz triangular inferior unitaria y $U$ una matriz triangular superior. En tales casos resulta $\\kappa(PA)=\\kappa(A)=\\kappa(LU)\\leq\\kappa(L)\\kappa(U)$. Al resolverse el sistema lineal $Ax=b$ en tres etapas:</p>\n",
    "1. $b'=Pb$,\n",
    "2. $Lg=b'$, \n",
    "3. $Ux=g$.\n",
    "<p>los errores de una etapa se transmiten a la siguiente, pudiendo amplificarse hasta el límite marcado por el número de condición de la matriz de cada etapa. Así, en general, $\\kappa(A)$ es bastante menor que $\\kappa(L)\\kappa(U)$ con lo que corremos el riesgo, al escalonar, que la solución final esté afectada de mayores errores que utilizando el método de descomposición $QR$.</p>"
   ]
  },
  {
   "cell_type": "markdown",
   "metadata": {},
   "source": [
    "<h3><span style=\"color: #0000ff;\">Ejemplo 3</span></h3>\n",
    "<p><em>a) Generar una matriz aleatoria $A$ cuadrada de orden 20.</em></p>\n",
    "<p><em>b) Comprobar  que el número de condición, para la norma euclídea, en la descomposición $QR=A$ es el mismo para las matrices $A$ y $R$ y que, además, como $Q$ es una matriz ortogonal, tiene $\\kappa_2(Q)=1$.</em></p>\n",
    "<p><em>c) Comprobar que para la descomposición $PA=LU$ estudiada en temas anteriores, sucede que $\\kappa(A)$ es bastante menor que $\\kappa(L)\\kappa(U)$.</em></p>\n",
    "<p><em>d) Repetir el proceso tomando como A la matriz de Hilbert de orden 20. Comparar las soluciones que se obtiene del sistema cuya solución es el vector $(1,\\ldots ,1)^T$ según los métodos descritos en los apartados b) y c).</em></p>\n",
    "<p><em><strong>Observación:</strong> Para los apartados c y d, se redefine aquí la función </em>descompPLU<em> de la Práctica 2 y los procedimientos auxiliares modifica_lado_derecho y sustitucion_regresiva2.</em></p>"
   ]
  },
  {
   "cell_type": "code",
   "execution_count": 23,
   "metadata": {},
   "outputs": [],
   "source": [
    "def descompPLU(M):\n",
    "    r'Descomposicion PlU de A. Se tiene PA=LU.'\n",
    "    A = copy(M)\n",
    "    m = A.nrows(); n = A.ncols()\n",
    "    piv = list(range(n))\n",
    "    for k in range(m):\n",
    "        (vmax, q) = max(  (abs(A[s, k]), s) for s in range(k, m) )\n",
    "        if q != k:\n",
    "            piv[k], piv[q] = piv[q], piv[k]\n",
    "            A.swap_rows(q, k)\n",
    "        if A[k, k] != 0:\n",
    "            for t in range(k + 1, m):\n",
    "                A[t, k]    = A[t, k]/A[k, k]\n",
    "                A[t, k+1:] = A[t, k+1:] - A[t, k]*A[k, k+1:]\n",
    "    L = identity_matrix(base_ring(A), m) + tril(A, -1)\n",
    "    U = triu(A)\n",
    "    P = identity_matrix(base_ring(A), m).matrix_from_rows(piv)\n",
    "    return P, L, U\n",
    "            \n",
    "def modifica_lado_derecho(L, b):\n",
    "    r'''\n",
    "    \n",
    "    '''\n",
    "    g = copy(b)\n",
    "    n = len(b)\n",
    "    for k in range(n - 1):\n",
    "        for j in range(k + 1, n):\n",
    "            g[j] = g[j] - g[k]*L[j, k]\n",
    "    return g    \n",
    "\n",
    "\n",
    "            \n",
    "def sustitucion_regresiva2(U, g):\n",
    "    r'''\n",
    "    Resuelve Ux=g, con U triangular superior, por sustitucion regresiva.\n",
    "    '''\n",
    "    n = U.ncols()\n",
    "    x = copy(g)\n",
    "    for k in range(n - 1, -1, -1):\n",
    "        x[k] = (g[k] - sum(U[k, j]*x[j] for j in range(k + 1, n)))/U[k, k]\n",
    "    return x"
   ]
  },
  {
   "cell_type": "code",
   "execution_count": 24,
   "metadata": {},
   "outputs": [],
   "source": [
    "A = random_matrix(RDF, 20)  # generamos una matriz aleatoria de orden 20 \n",
    "                            # con coeficientes en el intervalo (-1,1)"
   ]
  },
  {
   "cell_type": "code",
   "execution_count": 25,
   "metadata": {},
   "outputs": [],
   "source": [
    "Q, R = factorizacion_QR(A)"
   ]
  },
  {
   "cell_type": "code",
   "execution_count": 26,
   "metadata": {},
   "outputs": [
    {
     "name": "stdout",
     "output_type": "stream",
     "text": [
      "47.87928279898998\n",
      "47.879282798989856\n"
     ]
    }
   ],
   "source": [
    "cond_A, cond_R = numero_condicion(A), numero_condicion(R)\n",
    "print(cond_A)\n",
    "print(cond_R)"
   ]
  },
  {
   "cell_type": "code",
   "execution_count": 27,
   "metadata": {},
   "outputs": [
    {
     "data": {
      "text/plain": [
       "1.0000000000000036"
      ]
     },
     "execution_count": 27,
     "metadata": {},
     "output_type": "execute_result"
    }
   ],
   "source": [
    "numero_condicion(Q)"
   ]
  },
  {
   "cell_type": "code",
   "execution_count": 28,
   "metadata": {},
   "outputs": [],
   "source": [
    "P, L, U = descompPLU(A)  # hallamos la descomposición PLU de la matriz A"
   ]
  },
  {
   "cell_type": "code",
   "execution_count": 29,
   "metadata": {},
   "outputs": [
    {
     "name": "stdout",
     "output_type": "stream",
     "text": [
      "47.87928279898998\n",
      "65.00599695193851\n",
      "17.744374749840492\n"
     ]
    }
   ],
   "source": [
    "cond_A, cond_U, cond_L = numero_condicion(A), numero_condicion(U), numero_condicion(L)\n",
    "print(cond_A)\n",
    "print(cond_U)\n",
    "print(cond_L)"
   ]
  },
  {
   "cell_type": "code",
   "execution_count": 30,
   "metadata": {},
   "outputs": [
    {
     "data": {
      "text/plain": [
       "1153.490770902186"
      ]
     },
     "execution_count": 30,
     "metadata": {},
     "output_type": "execute_result"
    }
   ],
   "source": [
    "cond_U * cond_L"
   ]
  },
  {
   "cell_type": "code",
   "execution_count": 31,
   "metadata": {},
   "outputs": [
    {
     "data": {
      "text/plain": [
       "14.03858493486804"
      ]
     },
     "execution_count": 31,
     "metadata": {},
     "output_type": "execute_result"
    }
   ],
   "source": [
    "cond_U * cond_L / cond_A  ### calculamos en qué proporción puede ser peor un resultado que otro"
   ]
  },
  {
   "cell_type": "markdown",
   "metadata": {},
   "source": [
    "<p>Luego los errores de transmisión en la descomposición $PA=LU$ podrían llegar a ser bastante mayores que en la descomposición $A=QR$.</p>\n",
    "<p>Probamos ahora con la matriz de Hilbert de orden 20:</p>"
   ]
  },
  {
   "cell_type": "code",
   "execution_count": 31,
   "metadata": {},
   "outputs": [],
   "source": [
    "A = matrizHilbert(20)"
   ]
  },
  {
   "cell_type": "markdown",
   "metadata": {},
   "source": [
    "<p>Primero generamos la solución de  $Ax=b$ tomando como vector solución $x_0=(1,1,\\dots, 1)$ y como vector de términos independientes $b=Ax_0$. De esta forma podemos controlar los errores de cálculo numérico que resulten.</p>"
   ]
  },
  {
   "cell_type": "code",
   "execution_count": 32,
   "metadata": {},
   "outputs": [
    {
     "data": {
      "text/plain": [
       "True"
      ]
     },
     "execution_count": 32,
     "metadata": {},
     "output_type": "execute_result"
    }
   ],
   "source": [
    "x0 = vector(QQ, [1]*20)  # esta es la solución exacta x0=(1,1,....,1)\n",
    "b  = A*x0\n",
    "\n",
    "A*x0 == b"
   ]
  },
  {
   "cell_type": "markdown",
   "metadata": {},
   "source": [
    "<p>Ahora pasamos tanto la matriz $A$ como el vector $b$ a valores decimales en el anillo RDF:</p>"
   ]
  },
  {
   "cell_type": "code",
   "execution_count": 33,
   "metadata": {},
   "outputs": [],
   "source": [
    "A = A.change_ring(RDF)\n",
    "b = vector(RDF, list(b))"
   ]
  },
  {
   "cell_type": "code",
   "execution_count": 34,
   "metadata": {},
   "outputs": [
    {
     "data": {
      "text/plain": [
       "False"
      ]
     },
     "execution_count": 34,
     "metadata": {},
     "output_type": "execute_result"
    }
   ],
   "source": [
    "A*x0 == b   ### al pasar a valores decimales, x0 ha dejado de ser la solución exacta"
   ]
  },
  {
   "cell_type": "code",
   "execution_count": 35,
   "metadata": {},
   "outputs": [
    {
     "data": {
      "text/plain": [
       "8.671119018262734e-16"
      ]
     },
     "execution_count": 35,
     "metadata": {},
     "output_type": "execute_result"
    }
   ],
   "source": [
    "(A*x0 - b).norm()   ### el error residual es muy pequeño"
   ]
  },
  {
   "cell_type": "markdown",
   "metadata": {},
   "source": [
    "<p>Ahora hallamos la solución aportada mediante escalonamiento directo del sistema:</p>"
   ]
  },
  {
   "cell_type": "code",
   "execution_count": 36,
   "metadata": {},
   "outputs": [
    {
     "data": {
      "text/plain": [
       "(1.000000124226477, 0.9999796755284203, 1.0008244799317345, 0.9855194857487556, 1.1365871296462322, 0.2313994092835615, 3.7153571964135423, -5.115792992417402, 9.694637349911602, -7.030204680429338, 8.615582812887048, -12.276898850221569, 20.760586096148497, -13.261390805736797, -2.1988590931521714, 19.541494241608962, -20.704358420716225, 15.62232969107717, -4.703545047394849, 1.986752247745273)"
      ]
     },
     "execution_count": 36,
     "metadata": {},
     "output_type": "execute_result"
    }
   ],
   "source": [
    "M = block_matrix([[A, b.column()]])        ### matriz ampliada del sistema\n",
    "F, U = forma_escalonada(M)                 ### escalonamiento de la matriz\n",
    "xd = sustitucion_regresiva(U)              ### solución por sustitución regresiva\n",
    "xd"
   ]
  },
  {
   "cell_type": "markdown",
   "metadata": {},
   "source": [
    "<p>Ahora, la solución mediante descomposición $PA = LU$:</p>"
   ]
  },
  {
   "cell_type": "code",
   "execution_count": 37,
   "metadata": {},
   "outputs": [
    {
     "data": {
      "text/plain": [
       "(1.0000000086426724, 0.9999986657161956, 1.000051870354066, 0.9991154891259608, 1.0081538624512598, 0.9554259795063353, 1.1480447591128848, 0.7179174753630226, 1.2219909210581241, 1.1349811979685378, 0.9046499198959809, -0.1506153244366207, 3.2583719348362883, 0.5724925380487212, -2.78859172959099, 7.021744897670579, -3.3827258983473394, 2.625929343329312, 0.7555313550930265, 0.9975327354788517)"
      ]
     },
     "execution_count": 37,
     "metadata": {},
     "output_type": "execute_result"
    }
   ],
   "source": [
    "P, L, U = descompPLU(A)\n",
    "bp = P*b                                       # obtenemos el vector P*b\n",
    "g    = modifica_lado_derecho(L,bp)             # g es la solución del sistema auxiliar Lg=Pb\n",
    "xplu = sustitucion_regresiva2(U, g)            # xplu es la solución final del sistema Ux=g\n",
    "xplu"
   ]
  },
  {
   "cell_type": "markdown",
   "metadata": {},
   "source": [
    "<p>Finalmente, mediante descomposición $A=QR$ obtenida por el método de Gram-Schmidt:</p>"
   ]
  },
  {
   "cell_type": "code",
   "execution_count": 38,
   "metadata": {},
   "outputs": [
    {
     "data": {
      "text/plain": [
       "(0.8639999562240867, 6.018869270821345, -44.006551600550765, 161.75173964201045, -258.81763207602336, 179.26238773673535, -31.18507816656844, -0.13740106983900408, -0.024896980678297955, -0.007911399589380218, -0.003350256911802129, -0.001693401105151087, -0.0009651329934336842, -0.0005996529240060421, -0.00039761880975771436, -0.0002773012323048984, -0.00020135710218152547, -0.000151082049442507, -0.00011648243490877969, 6.361184332914029)"
      ]
     },
     "execution_count": 38,
     "metadata": {},
     "output_type": "execute_result"
    }
   ],
   "source": [
    "Q, R = factorizacion_QR(A)\n",
    "bq = Q.transpose()*b                   ### obtenemos el vector Q^t*b\n",
    "xqr = sustitucion_regresiva2(R,bq)     ### xqr es la solución del sistema Ax=b \n",
    "                                       ### mediante descomposicion QR\n",
    "xqr"
   ]
  },
  {
   "cell_type": "markdown",
   "metadata": {},
   "source": [
    "<p>Comparamos la norma del error absoluto obtenido por cada método:</p>"
   ]
  },
  {
   "cell_type": "code",
   "execution_count": 39,
   "metadata": {},
   "outputs": [
    {
     "name": "stdout",
     "output_type": "stream",
     "text": [
      "45.67300403263424\n",
      "8.905818207115125\n",
      "358.12232114681\n"
     ]
    }
   ],
   "source": [
    "print((xd - x0).norm())     ## método directo de escalonamiento\n",
    "print((xplu - x0).norm())   ## método descomposicion PLU\n",
    "print((xqr - x0).norm())    ## método descomposicion QR"
   ]
  },
  {
   "cell_type": "code",
   "execution_count": 40,
   "metadata": {},
   "outputs": [
    {
     "name": "stdout",
     "output_type": "stream",
     "text": [
      "8.671119018262734e-16\n",
      "1.7867348644430382e-15\n",
      "7.611305586242616e-16\n",
      "1.4316566172596348e-05\n"
     ]
    }
   ],
   "source": [
    "print((A*x0 - b).norm())     ## error residual de la solución exacta x0\n",
    "print((A*xd - b).norm())     ## error residual de la solución mediante escalonamiento\n",
    "print((A*xplu - b).norm())   ## error residual mediante PLU\n",
    "print((A*xqr - b).norm())    ## error residual mediante QR"
   ]
  },
  {
   "cell_type": "markdown",
   "metadata": {},
   "source": [
    "<p>La solución más próxima a la realidad, pese al mal condicionamiento, se obtiene mediante la descomposición $PLU$, seguida del escalonamiento directo y, finalmente, los peores resultados se obtienen para la factorización QR de la matriz.</p>\n",
    "<p>Es una conclusión errónea pensar que este tipo de ejemplos invalida el uso de la descomposición $QR$ como método de resolución de sistemas de ecuaciones. La conclusión es que el método de Gram-Schmidt como procedimiento para obtener una descomposición de tipo $A=QR$ está muy mal condicionado. En un próximo tema veremos técnicas de descomposición $QR$ más sofisticadas y que funcionan bastante mejor para sistemas mal condicionados que las técnicas basadas en escalonamiento; concretamente, estudiaremos factorizaciones  $A=QR$ mediante transformaciones de Householder y mediante rotaciones de Givens.</p>\n",
    "\n",
    "<h3><span style=\"color: #0000ff;\">Ejemplo 4</span></h3>\n",
    "<p><em>Resolver el sistema lineal $Ax=b$ mediante la descomposición $A=QR$, para </em></p>\n",
    "<p>$$\\left(\\begin{array}{ccc}1 & 2 & -1\\\\ 3 & 4 & 0\\\\ -1 & 0 & 1\\end{array}\\right),\\ \\ b=\\left(\\begin{array}{c}2\\\\ -1\\\\ 3\\end{array}\\right)$$</p>"
   ]
  },
  {
   "cell_type": "code",
   "execution_count": 41,
   "metadata": {},
   "outputs": [
    {
     "data": {
      "text/html": [
       "<html><script type=\"math/tex; mode=display\">\\newcommand{\\Bold}[1]{\\mathbf{#1}}\\left(\\begin{array}{rrr}\n",
       "1.0 & 2.0 & -1.0 \\\\\n",
       "3.0 & 4.0 & 0.0 \\\\\n",
       "-1.0 & 0.0 & 1.0\n",
       "\\end{array}\\right)</script></html>"
      ],
      "text/latex": [
       "\\begin{math}\n",
       "\\newcommand{\\Bold}[1]{\\mathbf{#1}}\\left(\\begin{array}{rrr}\n",
       "1.0 & 2.0 & -1.0 \\\\\n",
       "3.0 & 4.0 & 0.0 \\\\\n",
       "-1.0 & 0.0 & 1.0\n",
       "\\end{array}\\right)\n",
       "\\end{math}"
      ],
      "text/plain": [
       "[ 1.0  2.0 -1.0]\n",
       "[ 3.0  4.0  0.0]\n",
       "[-1.0  0.0  1.0]"
      ]
     },
     "metadata": {},
     "output_type": "display_data"
    },
    {
     "data": {
      "text/html": [
       "<html><script type=\"math/tex; mode=display\">\\newcommand{\\Bold}[1]{\\mathbf{#1}}\\left(2.0,\\,-1.0,\\,3.0\\right)</script></html>"
      ],
      "text/latex": [
       "\\begin{math}\n",
       "\\newcommand{\\Bold}[1]{\\mathbf{#1}}\\left(2.0,\\,-1.0,\\,3.0\\right)\n",
       "\\end{math}"
      ],
      "text/plain": [
       "(2.0, -1.0, 3.0)"
      ]
     },
     "metadata": {},
     "output_type": "display_data"
    }
   ],
   "source": [
    "A = matrix(RDF, [[1, 2, -1], [3, 4, 0], [-1, 0, 1]])\n",
    "b = vector(RDF, [2, -1, 3]);\n",
    "show(A)\n",
    "show(b)"
   ]
  },
  {
   "cell_type": "code",
   "execution_count": 42,
   "metadata": {},
   "outputs": [
    {
     "data": {
      "text/html": [
       "<html><script type=\"math/tex; mode=display\">\\newcommand{\\Bold}[1]{\\mathbf{#1}}\\left(\\begin{array}{rrr}\n",
       "0.30151134457776363 & 0.4923659639173309 & -0.8164965809277261 \\\\\n",
       "0.9045340337332909 & 0.12309149097933261 & 0.4082482904638632 \\\\\n",
       "-0.30151134457776363 & 0.8616404368553291 & 0.4082482904638631\n",
       "\\end{array}\\right)</script></html>"
      ],
      "text/latex": [
       "\\begin{math}\n",
       "\\newcommand{\\Bold}[1]{\\mathbf{#1}}\\left(\\begin{array}{rrr}\n",
       "0.30151134457776363 & 0.4923659639173309 & -0.8164965809277261 \\\\\n",
       "0.9045340337332909 & 0.12309149097933261 & 0.4082482904638632 \\\\\n",
       "-0.30151134457776363 & 0.8616404368553291 & 0.4082482904638631\n",
       "\\end{array}\\right)\n",
       "\\end{math}"
      ],
      "text/plain": [
       "[ 0.30151134457776363   0.4923659639173309  -0.8164965809277261]\n",
       "[  0.9045340337332909  0.12309149097933261   0.4082482904638632]\n",
       "[-0.30151134457776363   0.8616404368553291   0.4082482904638631]"
      ]
     },
     "metadata": {},
     "output_type": "display_data"
    },
    {
     "data": {
      "text/html": [
       "<html><script type=\"math/tex; mode=display\">\\newcommand{\\Bold}[1]{\\mathbf{#1}}\\left(\\begin{array}{rrr}\n",
       "3.3166247903554003 & 4.221158824088691 & -0.6030226891555273 \\\\\n",
       "0.0 & 1.4770978917519924 & 0.3692744729379982 \\\\\n",
       "0.0 & 0.0 & 1.2247448713915892\n",
       "\\end{array}\\right)</script></html>"
      ],
      "text/latex": [
       "\\begin{math}\n",
       "\\newcommand{\\Bold}[1]{\\mathbf{#1}}\\left(\\begin{array}{rrr}\n",
       "3.3166247903554003 & 4.221158824088691 & -0.6030226891555273 \\\\\n",
       "0.0 & 1.4770978917519924 & 0.3692744729379982 \\\\\n",
       "0.0 & 0.0 & 1.2247448713915892\n",
       "\\end{array}\\right)\n",
       "\\end{math}"
      ],
      "text/plain": [
       "[ 3.3166247903554003   4.221158824088691 -0.6030226891555273]\n",
       "[                0.0  1.4770978917519924  0.3692744729379982]\n",
       "[                0.0                 0.0  1.2247448713915892]"
      ]
     },
     "metadata": {},
     "output_type": "display_data"
    }
   ],
   "source": [
    "Q, R = factorizacion_QR(A)\n",
    "show(Q)\n",
    "show(R)"
   ]
  },
  {
   "cell_type": "code",
   "execution_count": 43,
   "metadata": {},
   "outputs": [
    {
     "data": {
      "text/html": [
       "<html><script type=\"math/tex; mode=display\">\\newcommand{\\Bold}[1]{\\mathbf{#1}}\\left(-1.2060453783110545,\\,3.4465617474213164,\\,-0.8164965809277263\\right)</script></html>"
      ],
      "text/latex": [
       "\\begin{math}\n",
       "\\newcommand{\\Bold}[1]{\\mathbf{#1}}\\left(-1.2060453783110545,\\,3.4465617474213164,\\,-0.8164965809277263\\right)\n",
       "\\end{math}"
      ],
      "text/plain": [
       "(-1.2060453783110545, 3.4465617474213164, -0.8164965809277263)"
      ]
     },
     "metadata": {},
     "output_type": "display_data"
    }
   ],
   "source": [
    "bq = Q.transpose()*b; show(bq)"
   ]
  },
  {
   "cell_type": "code",
   "execution_count": 45,
   "metadata": {},
   "outputs": [
    {
     "data": {
      "text/plain": [
       "(-3.666666666666667, 2.500000000000001, -0.6666666666666667)"
      ]
     },
     "execution_count": 45,
     "metadata": {},
     "output_type": "execute_result"
    }
   ],
   "source": [
    "sustitucion_regresiva2(R, bq)"
   ]
  },
  {
   "cell_type": "markdown",
   "metadata": {},
   "source": [
    "<p>Comparamos con la solución obtenida mediante  solve_right:</p>"
   ]
  },
  {
   "cell_type": "code",
   "execution_count": 46,
   "metadata": {},
   "outputs": [
    {
     "data": {
      "text/plain": [
       "(-3.6666666666666674, 2.5000000000000004, -0.6666666666666669)"
      ]
     },
     "execution_count": 46,
     "metadata": {},
     "output_type": "execute_result"
    }
   ],
   "source": [
    "A.solve_right(b)"
   ]
  },
  {
   "cell_type": "markdown",
   "metadata": {},
   "source": [
    "<h3><a name=\"DVS\"></a></h3>\n",
    "<h3>Descomposición en valores singulares (SVD) de una matriz</h3>\n",
    "<p><strong>Teorema (Descomposición en valores singulares)</strong></p>\n",
    "<p>Toda matriz real $A$, de orden $m\\times n$ puede ser factorizada de la forma $A=U\\Sigma V^t$ donde</p>\n",
    "<ul>\n",
    "<li>$U$ es una matriz ortogonal $m\\times m$,</li>\n",
    "<li>$\\Sigma$ es una matriz diagonal $m\\times n$</li>\n",
    "<li>$V$ es una matriz ortogonal de orden $n\\times n$.</li>\n",
    "</ul>\n",
    "<p><strong>Idea constructiva de demostración:</strong></p>\n",
    "<p>La matriz $A^tA$ es simétrica de orden $n\\times n$ y semidefinida positiva.</p>\n",
    "<p>Resulta, por ello, que sus autovalores son reales no negativos $\\lambda_1 \\ge \\lambda_2 \\ge \\cdots \\ge \\lambda_n$. Las raíces cuadradas de los autovalores, $\\sigma_i = \\sqrt{\\lambda_i}$, son los <strong>valores singulares</strong> de la matriz $A$. Sea $r$ el número de valores singulares no-nulos. Entonces $r$ es el rango de $A$, y tenemos:</p>\n",
    "<p>$$\\sigma_1 \\ge \\sigma_2 \\ge \\cdots \\ge \\sigma_r >0, \\quad \\sigma_{r+1}=\\sigma_{r+2}= \\cdots = \\sigma_n=0.$$</p>\n",
    "<p> </p>\n",
    "<p>Sea $\\{v_1,v_2,\\ldots,v_n\\}$ un conjunto ortonormal de autovectores de $A^tA$, dispuestos de forma que</p>\n",
    "<p>$$A^tAv_i=\\sigma_i^2v_i$$</p>\n",
    "<p>Se verifica entonces que</p>\n",
    "<p>$$\\|Av_i\\|^2_2=v_i^tA^tAv_i=v_i^t\\sigma_i^2v_i=\\sigma_i^2$$</p>\n",
    "<p>Construimos la matriz $V$ de orden $n\\times n$ cuyas columnas son $v_1,v_2,\\ldots,v_n$ y definimos</p>\n",
    "<p>$$u_i=\\sigma_i^{-1}Av_i\\ \\  1\\leq i\\leq r$$</p>\n",
    "<p>Los vectores $u_i$, con $i\\le r$, constituyen un sistema ortonormal.</p>\n",
    "<p>Elegimos vectores adicionales $u_{r+1},u_{r+2},\\ldots,u_m$ de tal forma que $\\{u_1,\\ldots,u_m\\}$ constituya una base ortonormal de $\\mathbb{R}^m$ y construimos la matriz $U$ de orden $m\\times m$ cuyas columnas son los vectores $u_i$. Por otra parte,  la matriz $\\Sigma$ de orden $m\\times n$ es una matriz diagonal cuyos elementos diagonales $\\Sigma_{ii}=\\sigma_i\\ $ para $1\\leq i\\leq r$  y los restantes elementos nulos. Finalmente se tiene que</p>\n",
    "<p>$$A=U\\Sigma V^t$$</p>\n",
    "<p>$$ A=U \\Sigma V^t = (u_1\\ u_2\\dots\\ u_m) \\left(\\begin{array}{cccccc} \\sigma_1 &  &  & & &  \\\\ & \\ddots &  & & &  \\\\  &  &\\sigma_r &  & & \\\\  & & & 0 & &\\\\  & & & & \\ddots & \\\\  & & & & & 0\\end{array}\\right) \\left(\\begin{array}{c}v_1^t\\\\ v_2^t\\\\ \\vdots \\\\ v_n^t\\end{array}\\right)$$</p>\n",
    "<p>Una forma especialmente interesante de expresar la descomposición anterior es la siguiente:</p>\n",
    "<p>$$A=U\\Sigma V^t=\\sigma_1u_1v_1^t+\\sigma_2u_2v_2^t+\\dots+\\sigma_ru_rv_r^t+0+\\dots+0$$</p>\n",
    "<p>que expresa a la matriz $A$, de rango $r$, como suma de $r$ matrices, cada una de ellas de rango 1.</p>\n",
    "<div style=\"color: #000000; background-image: initial; background-attachment: initial; background-origin: initial; background-clip: initial; background-color: #ffffff; background-position: initial initial; background-repeat: initial initial; margin: 8px;\">\n",
    "<p>Podemos calcular la descomposición en valores singulares de una matriz $A$ con la instrucción:</p>\n",
    "<p style=\"text-align: center;\"><span style=\"color: #0000ff;\">U, D, V =A.SVD()</span></p>\n",
    "<p style=\"text-align: left;\"><span style=\"background-color: #ffffff;\"><span style=\"color: #000000;\">resultando $A=UDV^t$. Es necesario, para usar la instrucción anterior, que la matriz $A$ esté definida en el anillo de números RDF.<br /></span></span></p>\n",
    "</div>"
   ]
  },
  {
   "cell_type": "markdown",
   "metadata": {},
   "source": [
    "<h3><span style=\"color: #0000ff;\">Ejemplo 5</span></h3>\n",
    "<p>Hallar la descomposición en valores singulares de la siguiente matriz $A$. </p>"
   ]
  },
  {
   "cell_type": "code",
   "execution_count": 47,
   "metadata": {},
   "outputs": [
    {
     "data": {
      "text/html": [
       "<html><script type=\"math/tex; mode=display\">\\newcommand{\\Bold}[1]{\\mathbf{#1}}\\left(\\begin{array}{rrr}\n",
       "1.0 & 2.0 & -1.0 \\\\\n",
       "3.0 & 4.0 & 0.0 \\\\\n",
       "-1.0 & 0.0 & 1.0\n",
       "\\end{array}\\right)</script></html>"
      ],
      "text/latex": [
       "\\begin{math}\n",
       "\\newcommand{\\Bold}[1]{\\mathbf{#1}}\\left(\\begin{array}{rrr}\n",
       "1.0 & 2.0 & -1.0 \\\\\n",
       "3.0 & 4.0 & 0.0 \\\\\n",
       "-1.0 & 0.0 & 1.0\n",
       "\\end{array}\\right)\n",
       "\\end{math}"
      ],
      "text/plain": [
       "[ 1.0  2.0 -1.0]\n",
       "[ 3.0  4.0  0.0]\n",
       "[-1.0  0.0  1.0]"
      ]
     },
     "metadata": {},
     "output_type": "display_data"
    }
   ],
   "source": [
    "A = matrix(RDF, [[1, 2, -1], [3, 4, 0], [-1, 0, 1]])  ### hemos usado el tipo RDF\n",
    "show(A)"
   ]
  },
  {
   "cell_type": "code",
   "execution_count": 48,
   "metadata": {},
   "outputs": [
    {
     "data": {
      "text/html": [
       "<html><script type=\"math/tex; mode=display\">\\newcommand{\\Bold}[1]{\\mathbf{#1}}\\left(\\begin{array}{rrr}\n",
       "5.520839421931228 & 0.0 & 0.0 \\\\\n",
       "0.0 & 1.3776994213725522 & 0.0 \\\\\n",
       "0.0 & 0.0 & 0.788844966770898\n",
       "\\end{array}\\right)</script></html>"
      ],
      "text/latex": [
       "\\begin{math}\n",
       "\\newcommand{\\Bold}[1]{\\mathbf{#1}}\\left(\\begin{array}{rrr}\n",
       "5.520839421931228 & 0.0 & 0.0 \\\\\n",
       "0.0 & 1.3776994213725522 & 0.0 \\\\\n",
       "0.0 & 0.0 & 0.788844966770898\n",
       "\\end{array}\\right)\n",
       "\\end{math}"
      ],
      "text/plain": [
       "[ 5.520839421931228                0.0                0.0]\n",
       "[               0.0 1.3776994213725522                0.0]\n",
       "[               0.0                0.0  0.788844966770898]"
      ]
     },
     "metadata": {},
     "output_type": "display_data"
    },
    {
     "data": {
      "text/html": [
       "<html><script type=\"math/tex; mode=display\">\\newcommand{\\Bold}[1]{\\mathbf{#1}}\\left(\\begin{array}{rrr}\n",
       "-0.4151229007686267 & 0.42688677935578045 & 0.8033932131084324 \\\\\n",
       "-0.9012628450527317 & -0.31341613739142543 & -0.29915816711247517 \\\\\n",
       "0.12408973118230823 & -0.8482558590625172 & 0.5148434093792152\n",
       "\\end{array}\\right)</script></html>"
      ],
      "text/latex": [
       "\\begin{math}\n",
       "\\newcommand{\\Bold}[1]{\\mathbf{#1}}\\left(\\begin{array}{rrr}\n",
       "-0.4151229007686267 & 0.42688677935578045 & 0.8033932131084324 \\\\\n",
       "-0.9012628450527317 & -0.31341613739142543 & -0.29915816711247517 \\\\\n",
       "0.12408973118230823 & -0.8482558590625172 & 0.5148434093792152\n",
       "\\end{array}\\right)\n",
       "\\end{math}"
      ],
      "text/plain": [
       "[ -0.4151229007686267  0.42688677935578045   0.8033932131084324]\n",
       "[ -0.9012628450527317 -0.31341613739142543 -0.29915816711247517]\n",
       "[ 0.12408973118230823  -0.8482558590625172   0.5148434093792152]"
      ]
     },
     "metadata": {},
     "output_type": "display_data"
    },
    {
     "data": {
      "text/html": [
       "<html><script type=\"math/tex; mode=display\">\\newcommand{\\Bold}[1]{\\mathbf{#1}}\\left(\\begin{array}{rrr}\n",
       "-0.5874108843351766 & 0.24308221448650816 & -0.7719193545733267 \\\\\n",
       "-0.8033736978708719 & -0.290259968648128 & 0.5199421623312244 \\\\\n",
       "0.09766859543295936 & -0.9255593917197985 & -0.3657877224093639\n",
       "\\end{array}\\right)</script></html>"
      ],
      "text/latex": [
       "\\begin{math}\n",
       "\\newcommand{\\Bold}[1]{\\mathbf{#1}}\\left(\\begin{array}{rrr}\n",
       "-0.5874108843351766 & 0.24308221448650816 & -0.7719193545733267 \\\\\n",
       "-0.8033736978708719 & -0.290259968648128 & 0.5199421623312244 \\\\\n",
       "0.09766859543295936 & -0.9255593917197985 & -0.3657877224093639\n",
       "\\end{array}\\right)\n",
       "\\end{math}"
      ],
      "text/plain": [
       "[-0.5874108843351766 0.24308221448650816 -0.7719193545733267]\n",
       "[-0.8033736978708719  -0.290259968648128  0.5199421623312244]\n",
       "[0.09766859543295936 -0.9255593917197985 -0.3657877224093639]"
      ]
     },
     "metadata": {},
     "output_type": "display_data"
    }
   ],
   "source": [
    "U, D, V = A.SVD()\n",
    "show(D)\n",
    "show(U)\n",
    "show(V)"
   ]
  },
  {
   "cell_type": "markdown",
   "metadata": {},
   "source": [
    "<p>Compobamos la relación <span style=\"background-color: #ffffff;\"><span style=\"color: #000000;\"> $A=UDV^t$ </span></span> y si las matrices $U$ y $V$ son ortogonales.</p>"
   ]
  },
  {
   "cell_type": "code",
   "execution_count": 49,
   "metadata": {},
   "outputs": [
    {
     "data": {
      "text/plain": [
       "False"
      ]
     },
     "execution_count": 49,
     "metadata": {},
     "output_type": "execute_result"
    }
   ],
   "source": [
    "U*D*V.transpose() == A  ### nunca se da la igualdad exacta debido a errores numéricos"
   ]
  },
  {
   "cell_type": "code",
   "execution_count": 50,
   "metadata": {},
   "outputs": [
    {
     "data": {
      "text/html": [
       "<html><script type=\"math/tex; mode=display\">\\newcommand{\\Bold}[1]{\\mathbf{#1}}\\left(\\begin{array}{rrr}\n",
       "0.0 & 0.0 & 0.0 \\\\\n",
       "0.0 & 0.0 & 0.0 \\\\\n",
       "0.0 & 0.0 & 0.0\n",
       "\\end{array}\\right)</script></html>"
      ],
      "text/latex": [
       "\\begin{math}\n",
       "\\newcommand{\\Bold}[1]{\\mathbf{#1}}\\left(\\begin{array}{rrr}\n",
       "0.0 & 0.0 & 0.0 \\\\\n",
       "0.0 & 0.0 & 0.0 \\\\\n",
       "0.0 & 0.0 & 0.0\n",
       "\\end{array}\\right)\n",
       "\\end{math}"
      ],
      "text/plain": [
       "[0.0 0.0 0.0]\n",
       "[0.0 0.0 0.0]\n",
       "[0.0 0.0 0.0]"
      ]
     },
     "metadata": {},
     "output_type": "display_data"
    }
   ],
   "source": [
    "show((U*D*V.transpose() - A).zero_at(10^-15))   ### la igualdad se tiene para un nivel de tolerancia adecuado"
   ]
  },
  {
   "cell_type": "code",
   "execution_count": 51,
   "metadata": {},
   "outputs": [
    {
     "data": {
      "text/html": [
       "<html><script type=\"math/tex; mode=display\">\\newcommand{\\Bold}[1]{\\mathbf{#1}}\\left(\\begin{array}{rrr}\n",
       "8.881784197001252 \\times 10^{-16} & -6.938893903907228 \\times 10^{-17} & -9.71445146547012 \\times 10^{-17} \\\\\n",
       "-6.938893903907228 \\times 10^{-17} & 8.881784197001252 \\times 10^{-16} & -5.551115123125783 \\times 10^{-17} \\\\\n",
       "-9.71445146547012 \\times 10^{-17} & -5.551115123125783 \\times 10^{-17} & 8.881784197001252 \\times 10^{-16}\n",
       "\\end{array}\\right)</script></html>"
      ],
      "text/latex": [
       "\\begin{math}\n",
       "\\newcommand{\\Bold}[1]{\\mathbf{#1}}\\left(\\begin{array}{rrr}\n",
       "8.881784197001252 \\times 10^{-16} & -6.938893903907228 \\times 10^{-17} & -9.71445146547012 \\times 10^{-17} \\\\\n",
       "-6.938893903907228 \\times 10^{-17} & 8.881784197001252 \\times 10^{-16} & -5.551115123125783 \\times 10^{-17} \\\\\n",
       "-9.71445146547012 \\times 10^{-17} & -5.551115123125783 \\times 10^{-17} & 8.881784197001252 \\times 10^{-16}\n",
       "\\end{array}\\right)\n",
       "\\end{math}"
      ],
      "text/plain": [
       "[ 8.881784197001252e-16 -6.938893903907228e-17  -9.71445146547012e-17]\n",
       "[-6.938893903907228e-17  8.881784197001252e-16 -5.551115123125783e-17]\n",
       "[ -9.71445146547012e-17 -5.551115123125783e-17  8.881784197001252e-16]"
      ]
     },
     "metadata": {},
     "output_type": "display_data"
    }
   ],
   "source": [
    "show(U.transpose()*U - 1) # comprobamos que U es ortogonal."
   ]
  },
  {
   "cell_type": "code",
   "execution_count": 52,
   "metadata": {},
   "outputs": [
    {
     "data": {
      "text/html": [
       "<html><script type=\"math/tex; mode=display\">\\newcommand{\\Bold}[1]{\\mathbf{#1}}\\left(\\begin{array}{rrr}\n",
       "0.0 & 0.0 & 0.0 \\\\\n",
       "0.0 & 0.0 & 0.0 \\\\\n",
       "0.0 & 0.0 & 0.0\n",
       "\\end{array}\\right)</script></html>"
      ],
      "text/latex": [
       "\\begin{math}\n",
       "\\newcommand{\\Bold}[1]{\\mathbf{#1}}\\left(\\begin{array}{rrr}\n",
       "0.0 & 0.0 & 0.0 \\\\\n",
       "0.0 & 0.0 & 0.0 \\\\\n",
       "0.0 & 0.0 & 0.0\n",
       "\\end{array}\\right)\n",
       "\\end{math}"
      ],
      "text/plain": [
       "[0.0 0.0 0.0]\n",
       "[0.0 0.0 0.0]\n",
       "[0.0 0.0 0.0]"
      ]
     },
     "metadata": {},
     "output_type": "display_data"
    }
   ],
   "source": [
    "show((U.transpose()*U - 1).zero_at(10^-15))"
   ]
  },
  {
   "cell_type": "code",
   "execution_count": 53,
   "metadata": {},
   "outputs": [
    {
     "data": {
      "text/html": [
       "<html><script type=\"math/tex; mode=display\">\\newcommand{\\Bold}[1]{\\mathbf{#1}}\\left(\\begin{array}{rrr}\n",
       "2.220446049250313 \\times 10^{-16} & 9.71445146547012 \\times 10^{-17} & -2.7755575615628914 \\times 10^{-17} \\\\\n",
       "9.71445146547012 \\times 10^{-17} & 4.440892098500626 \\times 10^{-16} & 0.0 \\\\\n",
       "-2.7755575615628914 \\times 10^{-17} & 0.0 & 4.440892098500626 \\times 10^{-16}\n",
       "\\end{array}\\right)</script></html>"
      ],
      "text/latex": [
       "\\begin{math}\n",
       "\\newcommand{\\Bold}[1]{\\mathbf{#1}}\\left(\\begin{array}{rrr}\n",
       "2.220446049250313 \\times 10^{-16} & 9.71445146547012 \\times 10^{-17} & -2.7755575615628914 \\times 10^{-17} \\\\\n",
       "9.71445146547012 \\times 10^{-17} & 4.440892098500626 \\times 10^{-16} & 0.0 \\\\\n",
       "-2.7755575615628914 \\times 10^{-17} & 0.0 & 4.440892098500626 \\times 10^{-16}\n",
       "\\end{array}\\right)\n",
       "\\end{math}"
      ],
      "text/plain": [
       "[  2.220446049250313e-16    9.71445146547012e-17 -2.7755575615628914e-17]\n",
       "[   9.71445146547012e-17   4.440892098500626e-16                     0.0]\n",
       "[-2.7755575615628914e-17                     0.0   4.440892098500626e-16]"
      ]
     },
     "metadata": {},
     "output_type": "display_data"
    }
   ],
   "source": [
    "show(V.transpose()*V - 1) # comprobamos que V es ortogonal."
   ]
  },
  {
   "cell_type": "code",
   "execution_count": 54,
   "metadata": {},
   "outputs": [
    {
     "data": {
      "text/html": [
       "<html><script type=\"math/tex; mode=display\">\\newcommand{\\Bold}[1]{\\mathbf{#1}}\\left(\\begin{array}{rrr}\n",
       "0.0 & 0.0 & 0.0 \\\\\n",
       "0.0 & 0.0 & 0.0 \\\\\n",
       "0.0 & 0.0 & 0.0\n",
       "\\end{array}\\right)</script></html>"
      ],
      "text/latex": [
       "\\begin{math}\n",
       "\\newcommand{\\Bold}[1]{\\mathbf{#1}}\\left(\\begin{array}{rrr}\n",
       "0.0 & 0.0 & 0.0 \\\\\n",
       "0.0 & 0.0 & 0.0 \\\\\n",
       "0.0 & 0.0 & 0.0\n",
       "\\end{array}\\right)\n",
       "\\end{math}"
      ],
      "text/plain": [
       "[0.0 0.0 0.0]\n",
       "[0.0 0.0 0.0]\n",
       "[0.0 0.0 0.0]"
      ]
     },
     "metadata": {},
     "output_type": "display_data"
    }
   ],
   "source": [
    "show((V.transpose()*V - 1).zero_at(10^-15))"
   ]
  },
  {
   "cell_type": "markdown",
   "metadata": {},
   "source": [
    "<h3><a name=\"aplicar\"></a></h3>\n",
    "<h3>Aplicación de la SVD al cálculo del rango de una matriz</h3>\n",
    "<p>De la expresión $A=U\\Sigma V^t$ y, puesto que $U$ y $V$ son matrices ortogonales (no singulares) se deduce que </p>\n",
    "<p>$$\\operatorname{rango}(A)=\\operatorname{rango}(\\Sigma)=r$$</p>\n",
    "<p>siendo $r$ el número de valores singulares no nulos. Podría pensarse que para calcular el rango de una matriz $A$ nada mejor que escalonarla mediante transformaciones elementales y contar el número de pivotes, no obstante, los errores de redondeo y de transmisión durante todo el proceso podrían dar lugar a que filas que sean proporcionales (que se anularían durante el escalonamiento) no lo hagan debido precisamente a esos errores, con lo que el valor final del rango sería erróneo. El siguiente teorema (debido a <a href=\"https://es.wikipedia.org/wiki/Hermann_Weyl\">Hermann Weyl</a>) proporciona una interesante cota.</p>\n",
    "<p><strong>Teorema</strong></p>\n",
    "<p><em>Sea $A$ una matriz que pretendemos estudiar. Sea $A'$ una aproximación de $A$,  y sean <em>$\\sigma_1 \\geq \\sigma_2 \\geq \\cdots$ los valores singulares de $A'$.</em></em> <em></em></p>\n",
    "<p><em>Si $A$ tiene rango $r$, entonces </em></p>\n",
    "<p><em>$$\\parallel A-A'\\parallel_2\\ge \\sigma_{r+1}.$$</em></p>\n",
    "<p>En conclusión, si el valor de $\\sigma_{r+1}$ es muy elevado, se plantean dos posibilidades:</p>\n",
    "<ul>\n",
    "<li>o bien el error cometido al aproximar $A$ por $A'$  es grande también,</li>\n",
    "<li>o bien el rango de $A$ es mayor que $r$.</li>\n",
    "</ul>\n",
    "<p>De esta forma podemos elegir como rango de la matriz $A$ el menor $r$ tal que $\\sigma_{r+1}$ (el $(r+1)$-ésimo valor singular de una buena aproximación $A'$) tenga un valor despreciable, muy próximo a cero. Al resultado de determinar el rango de esta forma se le  denomina  <span style=\"color: #ff0000;\"><em>rango numérico</em></span> de la matriz $A$.</p>"
   ]
  },
  {
   "cell_type": "markdown",
   "metadata": {},
   "source": [
    "<div style=\"color: #000000; background-image: initial; background-attachment: initial; background-origin: initial; background-clip: initial; background-color: #ffffff; background-position: initial initial; background-repeat: initial initial; margin: 8px;\">\n",
    "<p>La siguiente función calcula el<strong style=\"font-weight: bold;\"> rango numérico de una matriz </strong>a partir de su descomposición en valores singulares, con un nivel de tolerancia $\\delta$, dado, esto es  $\\sigma_{r+1}\\leq \\delta$</p>\n",
    "<p style=\"text-align: center;\"><span style=\"color: #0000ff;\">rango_SVD(A, tol)</span></p>\n",
    "<p style=\"text-align: left;\">el parámetro tol es opcional y su valor por defecto es tol$=10^{-14}$</p>\n",
    "</div>"
   ]
  },
  {
   "cell_type": "code",
   "execution_count": 55,
   "metadata": {},
   "outputs": [],
   "source": [
    "def rango_SVD(A, tol = 10^(-14)):\n",
    "    U, D, V = A.SVD()\n",
    "    return len([s for s in D.diagonal() if s > tol])"
   ]
  },
  {
   "cell_type": "markdown",
   "metadata": {},
   "source": [
    "<h3><span style=\"color: #0000ff;\">Ejemplo 6</span></h3>\n",
    "<p><em>Generar una matriz  aleatoria A, cuadrada y de orden 10. Modificar dos filas mediante las siguientes transformaciones:</em></p>\n",
    "<div id=\"_mcePaste\" style=\"position: absolute; left: -10000px; top: 16px; width: 1px; height: 1px; overflow-x: hidden; overflow-y: hidden;\"><em>A[3]=0.1*A[7]-4.2*A[5]</em></div>\n",
    "<div id=\"_mcePaste\" style=\"position: absolute; left: -10000px; top: 16px; width: 1px; height: 1px; overflow-x: hidden; overflow-y: hidden;\"><em>A[4]=-0.1*A[9]+4.2*A[2]</em></div>\n",
    "<p><em>A[3]=0.1*A[7]-4.2*A[5]</em></p>\n",
    "<p><em>A[4]=-0.2*A[9]+3.7*A[2]</em></p>\n",
    "<p><em>Obviamente como la matriz $A$ tiene al menos dos filas combinaciones lineales de otras, su determinante debe ser nulo y su rango menor o igual a 8.</em></p>\n",
    "<p><em>a) Hacer las comprobaciones oportunas mediante las ordenes  <strong>A.det()</strong> (que nos proporciona el determinante) y <strong>A.echelon_form()</strong> (que nos devuelve la forma escalonada canónica)  para ver el rango de A. ¿Qué sucede?</em></p>\n",
    "<p><em>b) Deducir el rango de A  a partir de la descomposición SVD de la matriz.</em></p>\n",
    "<p><em>c) Utilizar la instrucción <span style=\"color: #0000ff;\">rango_SVD(A)</span> para comprobar el resultado.</em></p>"
   ]
  },
  {
   "cell_type": "code",
   "execution_count": 56,
   "metadata": {},
   "outputs": [],
   "source": [
    "A = random_matrix(RDF, 10)\n",
    "A[3] = 0.1*A[7] - 4.2*A[5]  # cambiamos la fila 4 por una combinación lineal de las filas 6 y 8\n",
    "A[4] = -0.2*A[9] + 3.7*A[2] # cambiamos la fila 5 por una combinación lineal de las filas 3 y 10"
   ]
  },
  {
   "cell_type": "code",
   "execution_count": 57,
   "metadata": {},
   "outputs": [
    {
     "data": {
      "text/plain": [
       "1.623233604041052e-30"
      ]
     },
     "execution_count": 57,
     "metadata": {},
     "output_type": "execute_result"
    }
   ],
   "source": [
    "A.det()   ### el determinante no es idéntico a cero"
   ]
  },
  {
   "cell_type": "code",
   "execution_count": 58,
   "metadata": {},
   "outputs": [
    {
     "data": {
      "text/html": [
       "<html><script type=\"math/tex; mode=display\">\\newcommand{\\Bold}[1]{\\mathbf{#1}}\\left(\\begin{array}{rrrrrrrrrr}\n",
       "0.9111370257412943 & 0.5757247410296051 & 0.22319645654956943 & -0.2569740758680208 & -0.6959913620178733 & 0.49832459816060415 & 0.8320032974445524 & 0.5378409289439559 & 0.7069511604436582 & -0.15161138068093805 \\\\\n",
       "0.0 & -0.3874048751375523 & -0.23276763593177063 & 0.033206229583802316 & -0.6900268602583817 & 0.45433038167508577 & 0.353888338482953 & -0.09122721974948911 & -0.05071457563618542 & -0.34332044104691145 \\\\\n",
       "0.0 & 0.0 & 0.4821771211396302 & 0.9027846407502423 & 2.284844089459523 & -2.1634395786139793 & -1.1161806975293316 & -0.6226785545847575 & 0.301045729124824 & 1.7116297238048515 \\\\\n",
       "0.0 & 0.0 & 0.0 & 2.849112992032051 & 4.428040484156421 & -3.864342963443451 & 5.151436940400483 & 1.5403270643223907 & 4.12151338321848 & 1.0560247314175664 \\\\\n",
       "0.0 & 0.0 & 0.0 & 0.0 & -0.29783231082504336 & -0.04176063403201906 & -0.11655508168943071 & 0.037891863621306456 & -0.0860915360652567 & 0.10882582354002714 \\\\\n",
       "0.0 & 0.0 & 0.0 & 0.0 & 0.0 & 0.04481638772608135 & 0.1255600422589461 & 0.03643165589752096 & 0.029721952573912445 & -0.0826365537341912 \\\\\n",
       "0.0 & 0.0 & 0.0 & 0.0 & 0.0 & 0.0 & 7.333718971311054 & 1.760576558814458 & 3.403315590972733 & -2.2233980403688913 \\\\\n",
       "0.0 & 0.0 & 0.0 & 0.0 & 0.0 & 0.0 & 0.0 & -1.1563965789728588 \\times 10^{-14} & 3.488878672082447 \\times 10^{-15} & -9.826356596347796 \\times 10^{-16} \\\\\n",
       "0.0 & 0.0 & 0.0 & 0.0 & 0.0 & 0.0 & 0.0 & 0.0 & -0.8601953393080141 & -0.4135674188820746 \\\\\n",
       "0.0 & 0.0 & 0.0 & 0.0 & 0.0 & 0.0 & 0.0 & 0.0 & 0.0 & -4.730670898859417 \\times 10^{-15}\n",
       "\\end{array}\\right)</script></html>"
      ],
      "text/latex": [
       "\\begin{math}\n",
       "\\newcommand{\\Bold}[1]{\\mathbf{#1}}\\left(\\begin{array}{rrrrrrrrrr}\n",
       "0.9111370257412943 & 0.5757247410296051 & 0.22319645654956943 & -0.2569740758680208 & -0.6959913620178733 & 0.49832459816060415 & 0.8320032974445524 & 0.5378409289439559 & 0.7069511604436582 & -0.15161138068093805 \\\\\n",
       "0.0 & -0.3874048751375523 & -0.23276763593177063 & 0.033206229583802316 & -0.6900268602583817 & 0.45433038167508577 & 0.353888338482953 & -0.09122721974948911 & -0.05071457563618542 & -0.34332044104691145 \\\\\n",
       "0.0 & 0.0 & 0.4821771211396302 & 0.9027846407502423 & 2.284844089459523 & -2.1634395786139793 & -1.1161806975293316 & -0.6226785545847575 & 0.301045729124824 & 1.7116297238048515 \\\\\n",
       "0.0 & 0.0 & 0.0 & 2.849112992032051 & 4.428040484156421 & -3.864342963443451 & 5.151436940400483 & 1.5403270643223907 & 4.12151338321848 & 1.0560247314175664 \\\\\n",
       "0.0 & 0.0 & 0.0 & 0.0 & -0.29783231082504336 & -0.04176063403201906 & -0.11655508168943071 & 0.037891863621306456 & -0.0860915360652567 & 0.10882582354002714 \\\\\n",
       "0.0 & 0.0 & 0.0 & 0.0 & 0.0 & 0.04481638772608135 & 0.1255600422589461 & 0.03643165589752096 & 0.029721952573912445 & -0.0826365537341912 \\\\\n",
       "0.0 & 0.0 & 0.0 & 0.0 & 0.0 & 0.0 & 7.333718971311054 & 1.760576558814458 & 3.403315590972733 & -2.2233980403688913 \\\\\n",
       "0.0 & 0.0 & 0.0 & 0.0 & 0.0 & 0.0 & 0.0 & -1.1563965789728588 \\times 10^{-14} & 3.488878672082447 \\times 10^{-15} & -9.826356596347796 \\times 10^{-16} \\\\\n",
       "0.0 & 0.0 & 0.0 & 0.0 & 0.0 & 0.0 & 0.0 & 0.0 & -0.8601953393080141 & -0.4135674188820746 \\\\\n",
       "0.0 & 0.0 & 0.0 & 0.0 & 0.0 & 0.0 & 0.0 & 0.0 & 0.0 & -4.730670898859417 \\times 10^{-15}\n",
       "\\end{array}\\right)\n",
       "\\end{math}"
      ],
      "text/plain": [
       "[     0.9111370257412943      0.5757247410296051     0.22319645654956943     -0.2569740758680208     -0.6959913620178733     0.49832459816060415      0.8320032974445524      0.5378409289439559      0.7069511604436582    -0.15161138068093805]\n",
       "[                    0.0     -0.3874048751375523    -0.23276763593177063    0.033206229583802316     -0.6900268602583817     0.45433038167508577       0.353888338482953    -0.09122721974948911    -0.05071457563618542    -0.34332044104691145]\n",
       "[                    0.0                     0.0      0.4821771211396302      0.9027846407502423       2.284844089459523     -2.1634395786139793     -1.1161806975293316     -0.6226785545847575       0.301045729124824      1.7116297238048515]\n",
       "[                    0.0                     0.0                     0.0       2.849112992032051       4.428040484156421      -3.864342963443451       5.151436940400483      1.5403270643223907        4.12151338321848      1.0560247314175664]\n",
       "[                    0.0                     0.0                     0.0                     0.0    -0.29783231082504336    -0.04176063403201906    -0.11655508168943071    0.037891863621306456     -0.0860915360652567     0.10882582354002714]\n",
       "[                    0.0                     0.0                     0.0                     0.0                     0.0     0.04481638772608135      0.1255600422589461     0.03643165589752096    0.029721952573912445     -0.0826365537341912]\n",
       "[                    0.0                     0.0                     0.0                     0.0                     0.0                     0.0       7.333718971311054       1.760576558814458       3.403315590972733     -2.2233980403688913]\n",
       "[                    0.0                     0.0                     0.0                     0.0                     0.0                     0.0                     0.0 -1.1563965789728588e-14   3.488878672082447e-15  -9.826356596347796e-16]\n",
       "[                    0.0                     0.0                     0.0                     0.0                     0.0                     0.0                     0.0                     0.0     -0.8601953393080141     -0.4135674188820746]\n",
       "[                    0.0                     0.0                     0.0                     0.0                     0.0                     0.0                     0.0                     0.0                     0.0  -4.730670898859417e-15]"
      ]
     },
     "metadata": {},
     "output_type": "display_data"
    }
   ],
   "source": [
    "F, U = forma_escalonada(A)   ### nuestro algoritmo de escalonamiento devuelve 10 pivotes, por lo que el rango sería 10\n",
    "show(U)"
   ]
  },
  {
   "cell_type": "code",
   "execution_count": 60,
   "metadata": {},
   "outputs": [
    {
     "data": {
      "text/html": [
       "<html><script type=\"math/tex; mode=display\">\\newcommand{\\Bold}[1]{\\mathbf{#1}}\\left(\\begin{array}{rrrrrrrrrr}\n",
       "0.9999999999999999 & 0.0 & 0.0 & 0.0 & 0.0 & 0.0 & 0.0 & 0.0 & 0.0 & 0.0 \\\\\n",
       "0.0 & 0.9999999999999999 & 0.0 & 0.0 & 0.0 & 0.0 & 0.0 & 0.0 & 0.0 & 0.0 \\\\\n",
       "0.0 & 0.0 & 1.0 & 0.0 & 0.0 & 0.0 & 0.0 & 0.0 & 0.0 & 0.0 \\\\\n",
       "0.0 & 0.0 & 0.0 & 1.0 & 0.0 & 0.0 & 0.0 & 0.0 & 0.0 & 0.0 \\\\\n",
       "0.0 & 0.0 & 0.0 & 0.0 & 1.0 & 0.0 & 0.0 & 0.0 & 0.0 & 0.0 \\\\\n",
       "0.0 & 0.0 & 0.0 & 0.0 & 0.0 & 1.0 & 0.0 & 0.0 & 0.0 & 0.0 \\\\\n",
       "0.0 & 0.0 & 0.0 & 0.0 & 0.0 & 0.0 & 1.0 & 0.0 & 0.0 & 0.0 \\\\\n",
       "0.0 & 0.0 & 0.0 & 0.0 & 0.0 & 0.0 & 0.0 & 1.0 & 0.0 & 0.0 \\\\\n",
       "0.0 & 0.0 & 0.0 & 0.0 & 0.0 & 0.0 & 0.0 & 0.0 & 1.0 & 0.0 \\\\\n",
       "0.0 & 0.0 & 0.0 & 0.0 & 0.0 & 0.0 & 0.0 & 0.0 & 0.0 & 1.0\n",
       "\\end{array}\\right)</script></html>"
      ],
      "text/latex": [
       "\\begin{math}\n",
       "\\newcommand{\\Bold}[1]{\\mathbf{#1}}\\left(\\begin{array}{rrrrrrrrrr}\n",
       "0.9999999999999999 & 0.0 & 0.0 & 0.0 & 0.0 & 0.0 & 0.0 & 0.0 & 0.0 & 0.0 \\\\\n",
       "0.0 & 0.9999999999999999 & 0.0 & 0.0 & 0.0 & 0.0 & 0.0 & 0.0 & 0.0 & 0.0 \\\\\n",
       "0.0 & 0.0 & 1.0 & 0.0 & 0.0 & 0.0 & 0.0 & 0.0 & 0.0 & 0.0 \\\\\n",
       "0.0 & 0.0 & 0.0 & 1.0 & 0.0 & 0.0 & 0.0 & 0.0 & 0.0 & 0.0 \\\\\n",
       "0.0 & 0.0 & 0.0 & 0.0 & 1.0 & 0.0 & 0.0 & 0.0 & 0.0 & 0.0 \\\\\n",
       "0.0 & 0.0 & 0.0 & 0.0 & 0.0 & 1.0 & 0.0 & 0.0 & 0.0 & 0.0 \\\\\n",
       "0.0 & 0.0 & 0.0 & 0.0 & 0.0 & 0.0 & 1.0 & 0.0 & 0.0 & 0.0 \\\\\n",
       "0.0 & 0.0 & 0.0 & 0.0 & 0.0 & 0.0 & 0.0 & 1.0 & 0.0 & 0.0 \\\\\n",
       "0.0 & 0.0 & 0.0 & 0.0 & 0.0 & 0.0 & 0.0 & 0.0 & 1.0 & 0.0 \\\\\n",
       "0.0 & 0.0 & 0.0 & 0.0 & 0.0 & 0.0 & 0.0 & 0.0 & 0.0 & 1.0\n",
       "\\end{array}\\right)\n",
       "\\end{math}"
      ],
      "text/plain": [
       "[0.9999999999999999                0.0                0.0                0.0                0.0                0.0                0.0                0.0                0.0                0.0]\n",
       "[               0.0 0.9999999999999999                0.0                0.0                0.0                0.0                0.0                0.0                0.0                0.0]\n",
       "[               0.0                0.0                1.0                0.0                0.0                0.0                0.0                0.0                0.0                0.0]\n",
       "[               0.0                0.0                0.0                1.0                0.0                0.0                0.0                0.0                0.0                0.0]\n",
       "[               0.0                0.0                0.0                0.0                1.0                0.0                0.0                0.0                0.0                0.0]\n",
       "[               0.0                0.0                0.0                0.0                0.0                1.0                0.0                0.0                0.0                0.0]\n",
       "[               0.0                0.0                0.0                0.0                0.0                0.0                1.0                0.0                0.0                0.0]\n",
       "[               0.0                0.0                0.0                0.0                0.0                0.0                0.0                1.0                0.0                0.0]\n",
       "[               0.0                0.0                0.0                0.0                0.0                0.0                0.0                0.0                1.0                0.0]\n",
       "[               0.0                0.0                0.0                0.0                0.0                0.0                0.0                0.0                0.0                1.0]"
      ]
     },
     "metadata": {},
     "output_type": "display_data"
    }
   ],
   "source": [
    "UU = A.echelon_form()  # calculamos la forma canónica escalonada implementada en SageMath\n",
    "show(UU.zero_at(10^-14))"
   ]
  },
  {
   "cell_type": "code",
   "execution_count": 61,
   "metadata": {},
   "outputs": [
    {
     "data": {
      "text/plain": [
       "[0.9999999999999999,\n",
       " 0.9999999999999999,\n",
       " 1.0,\n",
       " 1.0,\n",
       " 1.0,\n",
       " 1.0,\n",
       " 1.0,\n",
       " 1.0,\n",
       " 1.0,\n",
       " 1.0]"
      ]
     },
     "execution_count": 61,
     "metadata": {},
     "output_type": "execute_result"
    }
   ],
   "source": [
    "UU.diagonal()"
   ]
  },
  {
   "cell_type": "markdown",
   "metadata": {},
   "source": [
    "<p>Se han obtenido 10 pivotes, por lo que el rango sería 10. Lo comprobamos con la función rank()  que también proporciona el rango siguiendo el método de escalonamiento:</p>"
   ]
  },
  {
   "cell_type": "code",
   "execution_count": 62,
   "metadata": {},
   "outputs": [
    {
     "data": {
      "text/plain": [
       "10"
      ]
     },
     "execution_count": 62,
     "metadata": {},
     "output_type": "execute_result"
    }
   ],
   "source": [
    "A.rank()"
   ]
  },
  {
   "cell_type": "markdown",
   "metadata": {},
   "source": [
    "<p>Ahora estudiamos el rango numérico a partir de la descomposición SVD:</p>"
   ]
  },
  {
   "cell_type": "code",
   "execution_count": 63,
   "metadata": {},
   "outputs": [],
   "source": [
    "U, D, V = A.SVD()"
   ]
  },
  {
   "cell_type": "code",
   "execution_count": 64,
   "metadata": {},
   "outputs": [
    {
     "data": {
      "text/plain": [
       "[7.306895822383303,\n",
       " 7.02647541668554,\n",
       " 3.1260579985780073,\n",
       " 2.0254006192689515,\n",
       " 1.1281312892711948,\n",
       " 0.9531378125309682,\n",
       " 0.761553782285831,\n",
       " 0.5094587639223316,\n",
       " 5.20738310239742e-16,\n",
       " 2.7437563747106303e-16]"
      ]
     },
     "execution_count": 64,
     "metadata": {},
     "output_type": "execute_result"
    }
   ],
   "source": [
    "D.diagonal()  # mostramos los valores singulares ordenados de mayor a menor"
   ]
  },
  {
   "cell_type": "markdown",
   "metadata": {},
   "source": [
    "<p>Obsérvese que los dos últimos valores singulares son muy pequeños, con lo que el rango estimado de la matriz es 10 - 2 = 8. Lo comprobamos con la función rango_SVD:</p>"
   ]
  },
  {
   "cell_type": "code",
   "execution_count": 65,
   "metadata": {},
   "outputs": [
    {
     "data": {
      "text/plain": [
       "8"
      ]
     },
     "execution_count": 65,
     "metadata": {},
     "output_type": "execute_result"
    }
   ],
   "source": [
    "rango_SVD(A)"
   ]
  },
  {
   "cell_type": "markdown",
   "metadata": {},
   "source": [
    "<h3><strong>Una aplicación de la descomposición SVD a la compresión de imágenes </strong></h3>\n",
    "<p>Vamos a analizar una sencilla, y rudimentaria, aplicación de la descomposición SVD de una matriz al problema de <strong>compresión de imágenes (con pérdida de calidad)</strong>.</p>\n",
    "<p>Una fotografía digital en blanco y negro a resolución $m\\times n$ píxeles se puede interpretar matemáticamente como una matriz de dimensión $m\\times n$ cuyos elementos, que están en el intervalo $[0,1]$, indican la tonalidad de gris de un pixel de la pantalla del ordenador, en una gama de grises que va desde el negro (0) hasta el blanco (1). Sea $A=(a_{ij})$ la matriz asociada a una fotografía en blanco y negro de dimensión $m\\times n$. Aproximaremos $A$ por matrices $A_1$, $A_2$, $A_3$, $\\ldots$, $A_k \\ldots$ que pueden almacenarse en menos espacio de memoria.</p>\n",
    "<p>Sean $\\sigma_1 \\le \\cdots \\le  \\sigma_r$ los valores singulares no nulos de $A$ ordenados de mayor  a menor. Así, se tiene que existen matrices ortogonales $U$ y $V$ tales que</p>\n",
    "<p>$$ A=U \\Sigma V^t = U \\left(\\begin{array}{cccccc} \\sigma_1 &  &  & & &  \\\\ & \\ddots &  & & &  \\\\  &  &\\sigma_r &  & & \\\\  & & & 0 & &\\\\  & & & & \\ddots & \\\\  & & & & & 0\\end{array}\\right) V^t$$</p>\n",
    "<p>Para cualquier $k \\le r$, ponemos $$\\Sigma_k =\\left(\\begin{array}{cccccc} \\sigma_1 &  &  & & &  \\\\ & \\ddots &  & & &  \\\\  &  &\\sigma_k &  & & \\\\  & & & 0 & &\\\\ & & & & \\ddots & \\\\  & & & & & 0\\end{array}\\right)$$</p>\n",
    "<p>y $A_k = U \\Sigma_k V^t$.</p>\n",
    "<p>Ahora bien, cómo son no nulos los k primeros valores de la matriz $\\Sigma_k$, basta multiplicar las k primeras columnas de $U$ y las k primeras filas de $V^t$ o, equivalentemente, las k primeras columnas de $V$. De esta forma, la cantidad de datos para construir $A_k$ se reduce a $k(m+n+1)$, frente a los $m\\times n$ datos de la matriz $A$. Así, conseguimos un factor de compresión (en tanto por uno) de</p>\n",
    "<p>$$\\frac{k(m+n+1)}{mn}$$</p>\n",
    "<p>Podemos experimentar con diferentes  valores de $k$, buscando que la imagen de la fotografía $A_k$ sea visualmente equivalente a la de $A$, hasta encontrar un equilibrio adecuado entre el mayor factor de compresión posible y la calidad visual resultante. Si se trata de obtener una compresión de la imagen, no tiene sentido tomar $k$ mayor que la mitad del número de filas o  columnas de la imagen pues, de hacerlo, el número de datos no disminuiría respecto de la  matriz original.</p>"
   ]
  },
  {
   "cell_type": "markdown",
   "metadata": {},
   "source": [
    "<h3><span style=\"color: #0000ff;\">Ejemplo 7</span></h3>\n",
    "<p>El siguiente bloque de instrucciones genera una matriz $A$ que representa una imagen digital en blanco y negro a partir de un fichero denominado Lena256.png, que está guardado en un directorio especificado en la variable global DATA.</p>"
   ]
  },
  {
   "cell_type": "code",
   "execution_count": 66,
   "metadata": {},
   "outputs": [
    {
     "name": "stdout",
     "output_type": "stream",
     "text": [
      "matriz de orden: 256 x 256\n"
     ]
    }
   ],
   "source": [
    "nombre_fichero = 'Lena256.png'  ######   el nombre del fichero debe ir entre comillas\n",
    "\n",
    "\n",
    "###### no hay que modificar este codigo, el cual almacena en la matriz A los datos de la imagen elegida.\n",
    "\n",
    "import pylab \n",
    "imagen      = pylab.imread(nombre_fichero)\n",
    "imagenmedia = pylab.mean(imagen, 2)\n",
    "A           = matrix(imagenmedia)\n",
    "m = A.nrows(); n = A.ncols()\n",
    "print('matriz de orden:',m,'x',n)"
   ]
  },
  {
   "cell_type": "markdown",
   "metadata": {},
   "source": [
    "<p>Podemos visualizar la imagen mediante la siguiente instrucción:</p>"
   ]
  },
  {
   "cell_type": "code",
   "execution_count": 67,
   "metadata": {},
   "outputs": [
    {
     "data": {
      "image/png": "[encoded data removed]",
      "text/plain": [
       "Graphics object consisting of 1 graphics primitive"
      ]
     },
     "metadata": {},
     "output_type": "display_data"
    }
   ],
   "source": [
    "show(matrix_plot(A, figsize = 4, cmap = 'gray') ) \n",
    "### podemos eliminar el parámetro cmap='gray' para conseguir tonalidades invertidas"
   ]
  },
  {
   "cell_type": "markdown",
   "metadata": {},
   "source": [
    "<p>Hallamos la descomposición $A=UDV^t$:</p>"
   ]
  },
  {
   "cell_type": "code",
   "execution_count": 68,
   "metadata": {},
   "outputs": [],
   "source": [
    "U, D, V = A.SVD()"
   ]
  },
  {
   "cell_type": "markdown",
   "metadata": {},
   "source": [
    "<p>Visualizamos la lista de valores singulares de la matriz $A$, ordenados de mayor a menor:</p>"
   ]
  },
  {
   "cell_type": "code",
   "execution_count": 69,
   "metadata": {},
   "outputs": [
    {
     "data": {
      "image/png": "[encoded data removed]",
      "text/plain": [
       "Graphics object consisting of 1 graphics primitive"
      ]
     },
     "execution_count": 69,
     "metadata": {},
     "output_type": "execute_result"
    }
   ],
   "source": [
    "list_plot(D.diagonal())"
   ]
  },
  {
   "cell_type": "markdown",
   "metadata": {},
   "source": [
    "<p>Con objeto de diferenciar mejor los valores más pequeños, vamos a representar nuevamente los mismos pero prescindiendo de los 10 primeros valores:</p>"
   ]
  },
  {
   "cell_type": "code",
   "execution_count": 70,
   "metadata": {},
   "outputs": [
    {
     "data": {
      "image/png": "[encoded data removed]",
      "text/plain": [
       "Graphics object consisting of 1 graphics primitive"
      ]
     },
     "execution_count": 70,
     "metadata": {},
     "output_type": "execute_result"
    }
   ],
   "source": [
    "list_plot(D.diagonal()[10:])"
   ]
  },
  {
   "cell_type": "markdown",
   "metadata": {},
   "source": [
    "<p>Vamos a visualizar $A_{50}$:</p>"
   ]
  },
  {
   "cell_type": "code",
   "execution_count": 71,
   "metadata": {},
   "outputs": [
    {
     "data": {
      "image/png": "[encoded data removed]",
      "text/plain": [
       "Graphics object consisting of 1 graphics primitive"
      ]
     },
     "execution_count": 71,
     "metadata": {},
     "output_type": "execute_result"
    }
   ],
   "source": [
    "k = 50  ### tan solo hay que modificar el valor asignado a k\n",
    "\n",
    "Ak = U[:,0:k]*D[0:k,0:k]*(V[:,0:k].transpose())\n",
    "matrix_plot(Ak, figsize = 4, cmap = 'gray')"
   ]
  },
  {
   "cell_type": "markdown",
   "metadata": {},
   "source": [
    "<p>Calculamos el factor de compresión:</p>"
   ]
  },
  {
   "cell_type": "code",
   "execution_count": 72,
   "metadata": {},
   "outputs": [
    {
     "data": {
      "text/plain": [
       "0.391387939453125"
      ]
     },
     "execution_count": 72,
     "metadata": {},
     "output_type": "execute_result"
    }
   ],
   "source": [
    "(k*(m + n + 1)/(m*n)).n()"
   ]
  },
  {
   "cell_type": "markdown",
   "metadata": {},
   "source": [
    "<p>Calculamos la norma de la diferencia entre las matrices que representan las imágenes original y comprimida. Este valor lo llamaremos <strong>nivel de tolerancia de la aproximación</strong> (realmente es el error absoluto entre ambas matrices). Obviamente, mientras más próximo a cero sea el nivel de tolerancia, mayor será la similitud entre ambas imágenes.</p>"
   ]
  },
  {
   "cell_type": "code",
   "execution_count": 73,
   "metadata": {},
   "outputs": [
    {
     "data": {
      "text/plain": [
       "1.3564892787869303"
      ]
     },
     "execution_count": 73,
     "metadata": {},
     "output_type": "execute_result"
    }
   ],
   "source": [
    "(Ak - A).norm(2)  ## nivel de tolerancia de la imagen Ak como aproximación a la imagen A"
   ]
  },
  {
   "cell_type": "markdown",
   "metadata": {},
   "source": [
    "<p>Repetimos para $A_{20}$:</p>"
   ]
  },
  {
   "cell_type": "code",
   "execution_count": 74,
   "metadata": {},
   "outputs": [
    {
     "data": {
      "image/png": "[encoded data removed]",
      "text/plain": [
       "Graphics object consisting of 1 graphics primitive"
      ]
     },
     "execution_count": 74,
     "metadata": {},
     "output_type": "execute_result"
    }
   ],
   "source": [
    "k = 20  ### tan solo hay que modificar el valor asignado a k\n",
    "\n",
    "Ak = U[:, 0:k]*D[0:k, 0:k]*(V[:, 0:k].transpose())\n",
    "matrix_plot(Ak, figsize = 4, cmap = 'gray')"
   ]
  },
  {
   "cell_type": "code",
   "execution_count": 75,
   "metadata": {},
   "outputs": [
    {
     "data": {
      "text/plain": [
       "0.156555175781250"
      ]
     },
     "execution_count": 75,
     "metadata": {},
     "output_type": "execute_result"
    }
   ],
   "source": [
    "(k*(m + n + 1)/(m*n)).n()  ## factor de compresión obtenido con Ak"
   ]
  },
  {
   "cell_type": "code",
   "execution_count": 76,
   "metadata": {},
   "outputs": [
    {
     "data": {
      "text/plain": [
       "3.466302446104441"
      ]
     },
     "execution_count": 76,
     "metadata": {},
     "output_type": "execute_result"
    }
   ],
   "source": [
    "(Ak - A).norm(2)  ## nivel de tolerancia de la imagen Ak como aproximación a la imagen A"
   ]
  },
  {
   "cell_type": "markdown",
   "metadata": {},
   "source": [
    "<div style=\"color: #000000; background-image: initial; background-attachment: initial; background-origin: initial; background-clip: initial; background-color: #ffffff; background-position: initial initial; background-repeat: initial initial; margin: 8px;\">\n",
    "<p>Obviamente, se obtiene una peor aproximación (mayor error)  tomando 20 valores que si tomamos 50 valores singulares.</p>\n",
    "<p>El siguiente script permite automatizar el proceso de cálculo de los $A_k$, obtener el factor de compresión y comparar visualmente el resultado con la imagen original:</p>\n",
    "</div>"
   ]
  },
  {
   "cell_type": "code",
   "execution_count": 77,
   "metadata": {},
   "outputs": [
    {
     "name": "stdout",
     "output_type": "stream",
     "text": [
      "matriz de orden: 256 x 256\n"
     ]
    },
    {
     "data": {
      "application/vnd.jupyter.widget-view+json": {
       "model_id": "e51e0a9d39864b31bae7b746b3983444",
       "version_major": 2,
       "version_minor": 0
      },
      "text/plain": [
       "Manual interactive function <function compresion_imagen_SVD at 0x6ffdac3558c0> with 1 widget\n",
       "  k: SelectionSli…"
      ]
     },
     "metadata": {},
     "output_type": "display_data"
    }
   ],
   "source": [
    "nombre_fichero = 'Lena256.png'  ### el nombre del fichero debe ir entre comillas\n",
    "\n",
    "import pylab \n",
    "imagen      = pylab.imread(nombre_fichero)\n",
    "imagenmedia = pylab.mean(imagen, 2)\n",
    "A = matrix(imagenmedia)\n",
    "m = A.nrows(); n = A.ncols()\n",
    "print('matriz de orden: %s x %s'%(m,n))\n",
    "U, D, V = A.SVD()\n",
    "\n",
    "load(\"codigo_examinar_html.sage\") ## para definir show_html\n",
    "\n",
    "@interact\n",
    "def compresion_imagen_SVD(k = (\"num. valores singulares (calidad)\",(20,(1..floor(0.5*min(m,n))))),auto_update=False):\n",
    "    factor = 100*(k*(m + n + 1)/(m*n)).n()\n",
    "    show_html(\"<h2>Imagen comprimida usando %s valores singulares</h2>\"%k)\n",
    "    show_html(\"    Izquierda: Compresión al %.2f%%. Derecha: original\"%factor)\n",
    "    Ak = U[:, 0:k]*D[0:k, 0:k]*(V[:, 0:k].transpose())\n",
    "    g = graphics_array([matrix_plot(Ak, cmap='gray'), matrix_plot(A, cmap='gray')])\n",
    "    g.show(axes = False, figsize = [8, 3])"
   ]
  },
  {
   "cell_type": "markdown",
   "metadata": {},
   "source": [
    "<p>El script anterior puede utilizarse como una función y llamarse desde cualquier otra celda de cálculo.</p>"
   ]
  },
  {
   "cell_type": "code",
   "execution_count": 78,
   "metadata": {},
   "outputs": [
    {
     "data": {
      "text/html": [
       "<h2>Imagen comprimida usando 50 valores singulares</h2>"
      ],
      "text/plain": [
       "<h2>Imagen comprimida usando 50 valores singulares</h2>"
      ]
     },
     "metadata": {},
     "output_type": "display_data"
    },
    {
     "data": {
      "text/html": [
       "    Izquierda: Compresión al 39.14%. Derecha: original"
      ],
      "text/plain": [
       "    Izquierda: Compresión al 39.14%. Derecha: original"
      ]
     },
     "metadata": {},
     "output_type": "display_data"
    },
    {
     "data": {
      "image/png": "[encoded data removed]",
      "text/plain": [
       "Graphics Array of size 1 x 2"
      ]
     },
     "metadata": {},
     "output_type": "display_data"
    }
   ],
   "source": [
    "compresion_imagen_SVD(50)"
   ]
  },
  {
   "cell_type": "markdown",
   "metadata": {},
   "source": [
    "<p>También se puede optar por buscar el menor valor $k$ que se estima razonable para tener una buena compresión visual para un nivel de tolerancia dado, <span style=\"color: #0000ff;\">tol</span>, de la aproximación obtenida, en el sentido de que la diferencia $A-A_k$ tenga norma menor que <span style=\"color: #0000ff;\">tol</span>.</p>\n",
    "<p>Por ejemplo, tomando <span style=\"color: #0000ff;\">tol</span>=2 en el ejemplo anterior, tendremos:</p>"
   ]
  },
  {
   "cell_type": "code",
   "execution_count": 79,
   "metadata": {},
   "outputs": [
    {
     "name": "stdout",
     "output_type": "stream",
     "text": [
      "NIVEL DE TOLERANCIA:  2\n"
     ]
    },
    {
     "data": {
      "text/html": [
       "<h2>Imagen comprimida usando 35 valores singulares</h2>"
      ],
      "text/plain": [
       "<h2>Imagen comprimida usando 35 valores singulares</h2>"
      ]
     },
     "metadata": {},
     "output_type": "display_data"
    },
    {
     "data": {
      "text/html": [
       "    Izquierda: Compresión al 27.40%. Derecha: original"
      ],
      "text/plain": [
       "    Izquierda: Compresión al 27.40%. Derecha: original"
      ]
     },
     "metadata": {},
     "output_type": "display_data"
    },
    {
     "data": {
      "image/png": "[encoded data removed]",
      "text/plain": [
       "Graphics Array of size 1 x 2"
      ]
     },
     "metadata": {},
     "output_type": "display_data"
    }
   ],
   "source": [
    "tol = 2  ## basta modificar tan solo el nivel de tolerancia elegido\n",
    "\n",
    "### no modificar este código\n",
    "k = 0\n",
    "norma = tol + 1\n",
    "while norma > tol:\n",
    "    k = k+1\n",
    "    Ak    = U[:,0:k]*D[0:k,0:k]*(V[:,0:k].transpose())\n",
    "    norma = (A - Ak).norm(2)\n",
    "print('NIVEL DE TOLERANCIA: ', tol)\n",
    "compresion_imagen_SVD(k)"
   ]
  },
  {
   "cell_type": "code",
   "execution_count": 80,
   "metadata": {},
   "outputs": [
    {
     "name": "stdout",
     "output_type": "stream",
     "text": [
      "1.9507802009668014\n"
     ]
    },
    {
     "data": {
      "text/plain": [
       "True"
      ]
     },
     "execution_count": 80,
     "metadata": {},
     "output_type": "execute_result"
    }
   ],
   "source": [
    "print((A - Ak).norm(2))\n",
    "(A - Ak).norm(2) < tol"
   ]
  },
  {
   "cell_type": "markdown",
   "metadata": {},
   "source": [
    "<hr>\n",
    "\n",
    "<h3><a name=\"cuestionario\"></a></h3>\n",
    "<h3>CUESTIONARIO PARA EL ALUMNADO</h3>\n",
    "\n",
    "Introduzca en la variable NUMERO_CUESTIONARIO, que aparece más abajo, el número correspondiente a su cuestionario asignado y ejecuta la celda (*Shift* + *Enter* desde dentro de la celda). Accederá a un cuestionario con respuestas tipo test que se entregará cumplimentado antes de finalizar esta sesión práctica, siguiendo un modelo impreso que entregará el profesor y/o on-line en la plataforma de enseñanza virtual (seguir las instrucciones dadas en la clase de laboratorio por el docente).\n",
    "\n",
    "**Ayuda para copiar los datos de los enunciados:**\n",
    "\n",
    "* Se puede utilizar la función `matrix_from_copypaste` para copiar y pegar los coeficientes de las matrices. Selecciona con el ratón todos los datos del interior de la matriz y cópialos con Ctrl+C. Luego, pégalos (entre comillas) con Ctrl+V en el interior de la siguiente orden:\n",
    "      A = matrix_from_copypaste(RDF, 5, 5, 'pegar_aqui_los_coeficientes' )   # matriz de orden 5x5 para datos en RDF.\n",
    "* De forma análoga, se puede utilizar la función `vector_from_copypaste` para copiar y pegar los coeficientes de los vectores.\n",
    "      b = vector_from_copypaste(RDF, 'pegar_aqui_los_coeficientes' )    # vector para datos en RDF.\n",
    "\n",
    "_Observaciones:_\n",
    "* Aunque los enunciados contienen instrucciones para copiar y pegar los datos, es más cómodo usar la función `matrix_from_copypaste`.\n",
    "* Utilizar el formato `RDF` (*Real Double Field*) para almacenar los números en coma flotante.\n",
    "* Prestar especial atención a la tolerancia numérica proporcionada en los enunciados a la hora de elegir una respuesta tipo test."
   ]
  },
  {
   "cell_type": "code",
   "execution_count": 81,
   "metadata": {},
   "outputs": [
    {
     "data": {
      "text/html": [
       "<center><h4>E.T.S.I.I. - GRADOS EN INGENIERÍA INFORMÁTICA</h4></center><center><h4>Álgebra Lineal y Numérica - QUINTA PRÁCTICA DE LABORATORIO</h4></center><hr  align=center><center>APELLIDOS, NOMBRE: <INPUT value= \"\",type=text size=70> <INPUT type=submit value=1-1CC1E5><hr  align=center></center><hr  align=center><b> <span style=\"color: #0000ff;\">EJERCICIO 1 </span></b><br> Dado el sistema lineal de matriz ampliada <script type=\"math/tex; mode=display\">\\displaystyle (A|b)=\\left(\\begin{array}{rrrrrr}-1, &0, &-1, &2, &45, &119, \\\\0, &0, &4, &-1, &1, &31, \\\\28, &0, &-2, &0, &1, &241, \\\\-13, &0, &1, &-1, &-26, &-188, \\\\-1, &2, &1, &1, &9, &25\\end{array}\\right) ,</script> se pide:<ol><li>Guardar los datos de la matriz <script type=\"math/tex\">A</script> y el vector <script type=\"math/tex\">b</script> empleando el anillo de números RDF.\n",
       "Encontrar la solución del sistema <script type=\"math/tex\">Ax=b</script> mediante la factorización PLU.</li><li>Calcular la proporción <script type=\"math/tex\">\\kappa (L)*\\kappa (U)/ \\kappa (A)</script> entre el producto de los números de condición de <script type=\"math/tex\">L</script> y <script type=\"math/tex\">U</script>\n",
       " y el número de condición de <script type=\"math/tex\">A</script>, todos calculados para la norma euclídea.</li><li>Encontrar la solución del sistema <script type=\"math/tex\">Ax=b</script> mediante la factorización QR.</li></ol>Marcar la respuesta correcta, para una precisión numérica de al menos 6 cifras decimales exactas.\n",
       "Ayuda: puede copiar y pegar los datos de la matriz desde el enunciado hasta instrucciones del tipo:\n",
       "    A=matrix(RDF,5,5,[pegar_datos_aqui]).transpose()\n",
       "    b=vector(RDF,[pegar_datos_aqui])\n",
       " es importante borrar y reescribir todos los signos negativos.<br><hr  align=center><b> <span style=\"color: #ff0000;\">Respuesta al apartado 1 </span></b><br><br> 1.<input type=checkbox> (-5.999999999999731, 9.517967809251575e-13, -5.000000000000181, -0.9999999999999664, 3.9999999999999862) <br> 2.<input type=checkbox> (6.000000000000207, -0.9999999999987617, 9.726540560627149e-14, 6.99999999999871, 0.999999999999998) <br> 3.<input type=checkbox> (-6.000000000001364, 3.590110664893138e-13, -4.000000000000868, -6.999999999999995, -7.000000000000019) <br> 4.<input type=checkbox> (9.000000000000055, -1.2434497875801753e-12, 7.000000000000719, 2.7730212170035414e-12, 2.999999999999894)<br><br><b> <span style=\"color: #ff0000;\">Respuesta al apartado 2 </span></b><br><br> 1.<input type=checkbox> 1.4750466722 <br> 2.<input type=checkbox> 1.5831613122 <br> 3.<input type=checkbox> 5.13290939088 <br> 4.<input type=checkbox> 2.54162366331<br><br><b> <span style=\"color: #ff0000;\">Respuesta al apartado 3 </span></b><br><br> 1.<input type=checkbox> (9.000000000052173, -1.1767350109333355e-09, 7.000000000682193, 2.6292533514181197e-09, 2.9999999998993556) <br> 2.<input type=checkbox> (-2.707441575326192e-06, 9.000003361347742, 1.1744743983038653e-06, 8.000003575626275, -7.999999902701969) <br> 3.<input type=checkbox> (-6.000000000465033, -1.6310013290821006e-09, -4.999999999683415, -1.0000000000566314, 4.0000000000238405) <br> 4.<input type=checkbox> (-8.000000008428547, 1.7461190873670007e-08, 8.999999999998847, 4.999999998609731, -7.999999995259712)<br><br><hr  align=center><b> <span style=\"color: #0000ff;\">EJERCICIO 2 </span></b><br> Dado el sistema lineal de matriz ampliada <script type=\"math/tex; mode=display\">\\displaystyle (B|c)=\\left(\\begin{array}{rrrrrr}2, &4, &0, &1, &-1, &-1, \\\\1, &-1, &1, &-3, &-2, &8, \\\\-16, &-1, &-2, &0, &-9, &-73, \\\\25, &-1, &-3, &0, &0, &78, \\\\0, &6, &1, &1, &6, &13\\end{array}\\right) ,</script> se pide:<ol><li>Guardar los datos de la matriz <script type=\"math/tex\">B</script> y el vector <script type=\"math/tex\">c</script> empleando el anillo de números RDF.\n",
       "Encontrar la solución del sistema <script type=\"math/tex\">Bx=c</script> mediante la factorización PLU.</li><li>Calcular la proporción <script type=\"math/tex\">\\kappa (L)*\\kappa (U)/ \\kappa (B)</script> entre el producto de los números de condición de <script type=\"math/tex\">L</script> y <script type=\"math/tex\">U</script>\n",
       " y el número de condición de <script type=\"math/tex\">B</script>, todos calculados para la norma euclídea.</li><li>Encontrar la solución del sistema <script type=\"math/tex\">Bx=c</script> mediante la factorización QR.</li><li>Bajo el supuesto de que los sistemas <script type=\"math/tex\">Ax=b</script> del ejercicio anterior y <script type=\"math/tex\">Bx=c</script> de este ejercicio \n",
       "son dos modelizaciones diferentes del mismo problema, ¿qué vector sería más fiable tomar\n",
       "como aproximación a la solución del problema?</li></ol>Marcar la respuesta correcta, para una precisión numérica de al menos 6 cifras decimales exactas.<br><hr  align=center><b> <span style=\"color: #ff0000;\">Respuesta al apartado 1 </span></b><br><br> 1.<input type=checkbox> (1.0000000000000007, 0.0, 8.0, -2.2373960190919183e-16, -0.9999999999999999) <br> 2.<input type=checkbox> (3.0, 5.921189464667501e-16, -0.9999999999999996, -3.9999999999999996, 2.9999999999999996) <br> 3.<input type=checkbox> (-2.999999999999999, 4.999999999999997, 1.9999999999999996, 2.50572578237053e-16, 5.825344495042133e-16) <br> 4.<input type=checkbox> Ninguna de las otras respuestas.<br><br><b> <span style=\"color: #ff0000;\">Respuesta al apartado 2 </span></b><br><br> 1.<input type=checkbox> 1.26559431201 <br> 2.<input type=checkbox> 1.47125059775 <br> 3.<input type=checkbox> 2.77718964894 <br> 4.<input type=checkbox> Ninguna de las otras respuestas.<br><br><b> <span style=\"color: #ff0000;\">Respuesta al apartado 3 </span></b><br><br> 1.<input type=checkbox> (-1.0000000000000004, 3.9999999999999987, -4.999999999999997, 3.0397934443368668e-15, -4.000000000000003) <br> 2.<input type=checkbox> (0.9999999999999987, -1.1029328106779408e-15, 8.0, -2.4940313946435545e-16, -1.0000000000000002) <br> 3.<input type=checkbox> (3.0000000000000027, -7.186012158661211e-16, -0.9999999999999727, -3.9999999999999845, 2.99999999999999) <br> 4.<input type=checkbox> Ninguna de las otras respuestas.<br><br><b> <span style=\"color: #ff0000;\">Respuesta al apartado 4 </span></b><br><br> 1.<input type=checkbox> (3.0, 0.0, -1.0, -4.0, 3.0) <br> 2.<input type=checkbox> (-3.0, 5.0, 2.0, 0.0, 0.0) <br> 3.<input type=checkbox> (7.0, 4.0, 7.0, -3.0, 0.0) <br> 4.<input type=checkbox> (-1.0, 0.0, 9.0, 5.0, -3.0)<br><br><hr  align=center><b> <span style=\"color: #0000ff;\">EJERCICIO 3 </span></b><br> Dada la matriz <script type=\"math/tex; mode=display\">A=\\left(\\begin{array}{rrrrrrrrrr}44, &-4, &-47, &1808, &-12, &-3, &26, &68, &19, &23, \\\\-104, &5, &-223, &870, &8, &142, &-1649, &-4, &-13, &-20, \\\\126, &21, &103, &854, &-10, &392, &-4823, &-28, &13, &10, \\\\1, &1, &4, &0, &-1, &1, &4, &4, &0, &1, \\\\-1, &1, &1, &0, &1, &2, &-1, &4, &-2, &-1, \\\\11, &-1, &17, &-1, &0, &-1, &1, &0, &1, &1, \\\\1, &0, &-1, &-61, &1, &0, &533, &-1, &0, &1, \\\\2, &2, &0, &1, &0, &46, &0, &0, &-1, &0, \\\\-1, &1, &13, &-225, &0, &0, &1, &-7, &-1, &-1, \\\\-3, &-3, &1, &-10, &1, &0, &0, &0, &-1, &-2\\end{array}\\right),</script> guardarla en memoria declarando sus coeficientes en el anillo RDF. Se pide:<ol><li>Comprobar mediante escalonamiento que el rango es 10. Señalar cuál es su\n",
       " rango numérico estimado a partir de la descomposición SVD de la matriz,\n",
       " para un nivel de tolerancia por defecto de <script type=\"math/tex\">10^{-14}</script>.</li></ol>Marcar la respuesta correcta.<br><hr  align=center><b> <span style=\"color: #ff0000;\">Respuesta al apartado 1 </span></b><br><br> <table style=\" width:100%\"> <tr> <td style=\"border:none; text-align:left\">1.<input type=checkbox> 7    </td> <td style=\"border:none; text-align:left\">2.<input type=checkbox> 9    </td> </tr> <tr> <td style=\"border:none; text-align:left\">3.<input type=checkbox> 8    </td> <td style=\"border:none; text-align:left\">4.<input type=checkbox> Ninguna de las otras respuestas.    </td> </tr> </table><br><br><hr  align=center><b> <span style=\"color: #0000ff;\">EJERCICIO 4 </span></b><br> Para este ejercicio se debe utilizar la imagen en blanco y negro de 256x256 pixeles denominada\n",
       " imagen9.png. Se pide:<ol><li>Para una tolerancia dada de 2.9, determinar el número k mínimo de valores singulares \n",
       "que proporciona una compresión visual con dicho nivel de tolerancia, utilizando descomposición SVD.</li><li>Determinar el valor k mínimo para obtener un factor de compresión de al menos el 44 por ciento.</li></ol>Marcar la respuesta correcta.<br><hr  align=center><b> <span style=\"color: #ff0000;\">Respuesta al apartado 1 </span></b><br><br> 1.<input type=checkbox> 9 <br> 2.<input type=checkbox> 62 <br> 3.<input type=checkbox> 16 <br> 4.<input type=checkbox> Ninguna de las otras respuestas.<br><br><b> <span style=\"color: #ff0000;\">Respuesta al apartado 2 </span></b><br><br> 1.<input type=checkbox> 45 <br> 2.<input type=checkbox> 68 <br> 3.<input type=checkbox> 49 <br> 4.<input type=checkbox> Ninguna de las otras respuestas.<br><br><hr  align=center><center><span style=\"font-size: x-small;\"> Final del documento </span></center>"
      ],
      "text/plain": [
       "<center><h4>E.T.S.I.I. - GRADOS EN INGENIERÍA INFORMÁTICA</h4></center><center><h4>Álgebra Lineal y Numérica - QUINTA PRÁCTICA DE LABORATORIO</h4></center><hr  align=center><center>APELLIDOS, NOMBRE: <INPUT value= \"\",type=text size=70> <INPUT type=submit value=1-1CC1E5><hr  align=center></center><hr  align=center><b> <span style=\"color: #0000ff;\">EJERCICIO 1 </span></b><br> Dado el sistema lineal de matriz ampliada <script type=\"math/tex; mode=display\">\\displaystyle (A|b)=\\left(\\begin{array}{rrrrrr}-1, &0, &-1, &2, &45, &119, \\\\0, &0, &4, &-1, &1, &31, \\\\28, &0, &-2, &0, &1, &241, \\\\-13, &0, &1, &-1, &-26, &-188, \\\\-1, &2, &1, &1, &9, &25\\end{array}\\right) ,</script> se pide:<ol><li>Guardar los datos de la matriz <script type=\"math/tex\">A</script> y el vector <script type=\"math/tex\">b</script> empleando el anillo de números RDF.\n",
       "Encontrar la solución del sistema <script type=\"math/tex\">Ax=b</script> mediante la factorización PLU.</li><li>Calcular la proporción <script type=\"math/tex\">\\kappa (L)*\\kappa (U)/ \\kappa (A)</script> entre el producto de los números de condición de <script type=\"math/tex\">L</script> y <script type=\"math/tex\">U</script>\n",
       " y el número de condición de <script type=\"math/tex\">A</script>, todos calculados para la norma euclídea.</li><li>Encontrar la solución del sistema <script type=\"math/tex\">Ax=b</script> mediante la factorización QR.</li></ol>Marcar la respuesta correcta, para una precisión numérica de al menos 6 cifras decimales exactas.\n",
       "Ayuda: puede copiar y pegar los datos de la matriz desde el enunciado hasta instrucciones del tipo:\n",
       "    A=matrix(RDF,5,5,[pegar_datos_aqui]).transpose()\n",
       "    b=vector(RDF,[pegar_datos_aqui])\n",
       " es importante borrar y reescribir todos los signos negativos.<br><hr  align=center><b> <span style=\"color: #ff0000;\">Respuesta al apartado 1 </span></b><br><br> 1.<input type=checkbox> (-5.999999999999731, 9.517967809251575e-13, -5.000000000000181, -0.9999999999999664, 3.9999999999999862) <br> 2.<input type=checkbox> (6.000000000000207, -0.9999999999987617, 9.726540560627149e-14, 6.99999999999871, 0.999999999999998) <br> 3.<input type=checkbox> (-6.000000000001364, 3.590110664893138e-13, -4.000000000000868, -6.999999999999995, -7.000000000000019) <br> 4.<input type=checkbox> (9.000000000000055, -1.2434497875801753e-12, 7.000000000000719, 2.7730212170035414e-12, 2.999999999999894)<br><br><b> <span style=\"color: #ff0000;\">Respuesta al apartado 2 </span></b><br><br> 1.<input type=checkbox> 1.4750466722 <br> 2.<input type=checkbox> 1.5831613122 <br> 3.<input type=checkbox> 5.13290939088 <br> 4.<input type=checkbox> 2.54162366331<br><br><b> <span style=\"color: #ff0000;\">Respuesta al apartado 3 </span></b><br><br> 1.<input type=checkbox> (9.000000000052173, -1.1767350109333355e-09, 7.000000000682193, 2.6292533514181197e-09, 2.9999999998993556) <br> 2.<input type=checkbox> (-2.707441575326192e-06, 9.000003361347742, 1.1744743983038653e-06, 8.000003575626275, -7.999999902701969) <br> 3.<input type=checkbox> (-6.000000000465033, -1.6310013290821006e-09, -4.999999999683415, -1.0000000000566314, 4.0000000000238405) <br> 4.<input type=checkbox> (-8.000000008428547, 1.7461190873670007e-08, 8.999999999998847, 4.999999998609731, -7.999999995259712)<br><br><hr  align=center><b> <span style=\"color: #0000ff;\">EJERCICIO 2 </span></b><br> Dado el sistema lineal de matriz ampliada <script type=\"math/tex; mode=display\">\\displaystyle (B|c)=\\left(\\begin{array}{rrrrrr}2, &4, &0, &1, &-1, &-1, \\\\1, &-1, &1, &-3, &-2, &8, \\\\-16, &-1, &-2, &0, &-9, &-73, \\\\25, &-1, &-3, &0, &0, &78, \\\\0, &6, &1, &1, &6, &13\\end{array}\\right) ,</script> se pide:<ol><li>Guardar los datos de la matriz <script type=\"math/tex\">B</script> y el vector <script type=\"math/tex\">c</script> empleando el anillo de números RDF.\n",
       "Encontrar la solución del sistema <script type=\"math/tex\">Bx=c</script> mediante la factorización PLU.</li><li>Calcular la proporción <script type=\"math/tex\">\\kappa (L)*\\kappa (U)/ \\kappa (B)</script> entre el producto de los números de condición de <script type=\"math/tex\">L</script> y <script type=\"math/tex\">U</script>\n",
       " y el número de condición de <script type=\"math/tex\">B</script>, todos calculados para la norma euclídea.</li><li>Encontrar la solución del sistema <script type=\"math/tex\">Bx=c</script> mediante la factorización QR.</li><li>Bajo el supuesto de que los sistemas <script type=\"math/tex\">Ax=b</script> del ejercicio anterior y <script type=\"math/tex\">Bx=c</script> de este ejercicio \n",
       "son dos modelizaciones diferentes del mismo problema, ¿qué vector sería más fiable tomar\n",
       "como aproximación a la solución del problema?</li></ol>Marcar la respuesta correcta, para una precisión numérica de al menos 6 cifras decimales exactas.<br><hr  align=center><b> <span style=\"color: #ff0000;\">Respuesta al apartado 1 </span></b><br><br> 1.<input type=checkbox> (1.0000000000000007, 0.0, 8.0, -2.2373960190919183e-16, -0.9999999999999999) <br> 2.<input type=checkbox> (3.0, 5.921189464667501e-16, -0.9999999999999996, -3.9999999999999996, 2.9999999999999996) <br> 3.<input type=checkbox> (-2.999999999999999, 4.999999999999997, 1.9999999999999996, 2.50572578237053e-16, 5.825344495042133e-16) <br> 4.<input type=checkbox> Ninguna de las otras respuestas.<br><br><b> <span style=\"color: #ff0000;\">Respuesta al apartado 2 </span></b><br><br> 1.<input type=checkbox> 1.26559431201 <br> 2.<input type=checkbox> 1.47125059775 <br> 3.<input type=checkbox> 2.77718964894 <br> 4.<input type=checkbox> Ninguna de las otras respuestas.<br><br><b> <span style=\"color: #ff0000;\">Respuesta al apartado 3 </span></b><br><br> 1.<input type=checkbox> (-1.0000000000000004, 3.9999999999999987, -4.999999999999997, 3.0397934443368668e-15, -4.000000000000003) <br> 2.<input type=checkbox> (0.9999999999999987, -1.1029328106779408e-15, 8.0, -2.4940313946435545e-16, -1.0000000000000002) <br> 3.<input type=checkbox> (3.0000000000000027, -7.186012158661211e-16, -0.9999999999999727, -3.9999999999999845, 2.99999999999999) <br> 4.<input type=checkbox> Ninguna de las otras respuestas.<br><br><b> <span style=\"color: #ff0000;\">Respuesta al apartado 4 </span></b><br><br> 1.<input type=checkbox> (3.0, 0.0, -1.0, -4.0, 3.0) <br> 2.<input type=checkbox> (-3.0, 5.0, 2.0, 0.0, 0.0) <br> 3.<input type=checkbox> (7.0, 4.0, 7.0, -3.0, 0.0) <br> 4.<input type=checkbox> (-1.0, 0.0, 9.0, 5.0, -3.0)<br><br><hr  align=center><b> <span style=\"color: #0000ff;\">EJERCICIO 3 </span></b><br> Dada la matriz <script type=\"math/tex; mode=display\">A=\\left(\\begin{array}{rrrrrrrrrr}44, &-4, &-47, &1808, &-12, &-3, &26, &68, &19, &23, \\\\-104, &5, &-223, &870, &8, &142, &-1649, &-4, &-13, &-20, \\\\126, &21, &103, &854, &-10, &392, &-4823, &-28, &13, &10, \\\\1, &1, &4, &0, &-1, &1, &4, &4, &0, &1, \\\\-1, &1, &1, &0, &1, &2, &-1, &4, &-2, &-1, \\\\11, &-1, &17, &-1, &0, &-1, &1, &0, &1, &1, \\\\1, &0, &-1, &-61, &1, &0, &533, &-1, &0, &1, \\\\2, &2, &0, &1, &0, &46, &0, &0, &-1, &0, \\\\-1, &1, &13, &-225, &0, &0, &1, &-7, &-1, &-1, \\\\-3, &-3, &1, &-10, &1, &0, &0, &0, &-1, &-2\\end{array}\\right),</script> guardarla en memoria declarando sus coeficientes en el anillo RDF. Se pide:<ol><li>Comprobar mediante escalonamiento que el rango es 10. Señalar cuál es su\n",
       " rango numérico estimado a partir de la descomposición SVD de la matriz,\n",
       " para un nivel de tolerancia por defecto de <script type=\"math/tex\">10^{-14}</script>.</li></ol>Marcar la respuesta correcta.<br><hr  align=center><b> <span style=\"color: #ff0000;\">Respuesta al apartado 1 </span></b><br><br> <table style=\" width:100%\"> <tr> <td style=\"border:none; text-align:left\">1.<input type=checkbox> 7    </td> <td style=\"border:none; text-align:left\">2.<input type=checkbox> 9    </td> </tr> <tr> <td style=\"border:none; text-align:left\">3.<input type=checkbox> 8    </td> <td style=\"border:none; text-align:left\">4.<input type=checkbox> Ninguna de las otras respuestas.    </td> </tr> </table><br><br><hr  align=center><b> <span style=\"color: #0000ff;\">EJERCICIO 4 </span></b><br> Para este ejercicio se debe utilizar la imagen en blanco y negro de 256x256 pixeles denominada\n",
       " imagen9.png. Se pide:<ol><li>Para una tolerancia dada de 2.9, determinar el número k mínimo de valores singulares \n",
       "que proporciona una compresión visual con dicho nivel de tolerancia, utilizando descomposición SVD.</li><li>Determinar el valor k mínimo para obtener un factor de compresión de al menos el 44 por ciento.</li></ol>Marcar la respuesta correcta.<br><hr  align=center><b> <span style=\"color: #ff0000;\">Respuesta al apartado 1 </span></b><br><br> 1.<input type=checkbox> 9 <br> 2.<input type=checkbox> 62 <br> 3.<input type=checkbox> 16 <br> 4.<input type=checkbox> Ninguna de las otras respuestas.<br><br><b> <span style=\"color: #ff0000;\">Respuesta al apartado 2 </span></b><br><br> 1.<input type=checkbox> 45 <br> 2.<input type=checkbox> 68 <br> 3.<input type=checkbox> 49 <br> 4.<input type=checkbox> Ninguna de las otras respuestas.<br><br><hr  align=center><center><span style=\"font-size: x-small;\"> Final del documento </span></center>"
      ]
     },
     "metadata": {},
     "output_type": "display_data"
    }
   ],
   "source": [
    "NUMERO_CUESTIONARIO = 1 # Cambiar al número de cuestionario proporcionado por el profesorado.\n",
    "\n",
    "\n",
    "####  NO MODIFICAR EL CÓDIGO DE ABAJO:  ########################\n",
    "\n",
    "NOMBRE_FICHERO_EXAMEN = 'ALN_L5_t.htl'\n",
    "\n",
    "load('show_html.sage')\n",
    "load('codigo_examinar_html.sage')\n",
    "\n",
    "if NUMERO_CUESTIONARIO > 0:\n",
    "    lector_examenes(NOMBRE_FICHERO_EXAMEN, NUMERO_CUESTIONARIO, False)"
   ]
  },
  {
   "cell_type": "code",
   "execution_count": 0,
   "metadata": {},
   "outputs": [],
   "source": [
    "# EJERCICIO 1\n",
    "'''\n",
    "Marcar la respuesta correcta, para una precisión numérica de al menos 6 cifras decimales exactas. Ayuda: puede copiar\n",
    "y pegar los datos de la matriz desde el enunciado hasta instrucciones del tipo: \n",
    "A=matrix(RDF,5,5,[pegar_datos_aqui]).transpose() b=vector(RDF,[pegar_datos_aqui]) es importante borrar y\n",
    "reescribir todos los signos negativos.\n",
    "'''"
   ]
  },
  {
   "cell_type": "code",
   "execution_count": null,
   "metadata": {},
   "outputs": [],
   "source": [
    "# EJERCICIO 1 - APARTADO 1\n",
    "'''\n",
    "Guardar los datos de la matriz  A  y el vector  b  empleando el anillo de números RDF. Encontrar la solución del sistema  \n",
    "Ax=b  mediante la factorización PLU.\n",
    "'''"
   ]
  },
  {
   "cell_type": "code",
   "execution_count": null,
   "metadata": {},
   "outputs": [],
   "source": []
  },
  {
   "cell_type": "code",
   "execution_count": null,
   "metadata": {},
   "outputs": [],
   "source": [
    "'''\n",
    "1. (-5.999999999999731, 9.517967809251575e-13, -5.000000000000181, -0.9999999999999664, 3.9999999999999862)\n",
    "2. (6.000000000000207, -0.9999999999987617, 9.726540560627149e-14, 6.99999999999871, 0.999999999999998)\n",
    "3. (-6.000000000001364, 3.590110664893138e-13, -4.000000000000868, -6.999999999999995, -7.000000000000019)\n",
    "4. (9.000000000000055, -1.2434497875801753e-12, 7.000000000000719, 2.7730212170035414e-12, 2.999999999999894)\n",
    "'''"
   ]
  },
  {
   "cell_type": "code",
   "execution_count": null,
   "metadata": {},
   "outputs": [],
   "source": []
  },
  {
   "cell_type": "code",
   "execution_count": null,
   "metadata": {},
   "outputs": [],
   "source": [
    "# EJERCICIO 1 - APARTADO 2\n",
    "'''\n",
    "Calcular la proporción  κ(L)∗κ(U)/κ(A)  entre el producto de los números de condición de  L  y  U  y el número de condición\n",
    "de  A , todos calculados para la norma euclídea.\n",
    "'''"
   ]
  },
  {
   "cell_type": "code",
   "execution_count": null,
   "metadata": {},
   "outputs": [],
   "source": []
  },
  {
   "cell_type": "code",
   "execution_count": null,
   "metadata": {},
   "outputs": [],
   "source": [
    "'''\n",
    "1. 1.4750466722\n",
    "2. 1.5831613122\n",
    "3. 5.13290939088\n",
    "4. 2.54162366331\n",
    "'''"
   ]
  },
  {
   "cell_type": "code",
   "execution_count": null,
   "metadata": {},
   "outputs": [],
   "source": []
  },
  {
   "cell_type": "code",
   "execution_count": null,
   "metadata": {},
   "outputs": [],
   "source": [
    "# EJERCICIO 1 - APARTADO 3\n",
    "'''\n",
    "Encontrar la solución del sistema  Ax=b  mediante la factorización QR.\n",
    "'''"
   ]
  },
  {
   "cell_type": "code",
   "execution_count": null,
   "metadata": {},
   "outputs": [],
   "source": []
  },
  {
   "cell_type": "code",
   "execution_count": null,
   "metadata": {},
   "outputs": [],
   "source": [
    "'''\n",
    "1. (9.000000000052173, -1.1767350109333355e-09, 7.000000000682193, 2.6292533514181197e-09, 2.9999999998993556)\n",
    "2. (-2.707441575326192e-06, 9.000003361347742, 1.1744743983038653e-06, 8.000003575626275, -7.999999902701969)\n",
    "3. (-6.000000000465033, -1.6310013290821006e-09, -4.999999999683415, -1.0000000000566314, 4.0000000000238405)\n",
    "4. (-8.000000008428547, 1.7461190873670007e-08, 8.999999999998847, 4.999999998609731, -7.999999995259712)\n",
    "'''"
   ]
  },
  {
   "cell_type": "code",
   "execution_count": null,
   "metadata": {},
   "outputs": [],
   "source": []
  },
  {
   "cell_type": "code",
   "execution_count": null,
   "metadata": {},
   "outputs": [],
   "source": []
  },
  {
   "cell_type": "code",
   "execution_count": null,
   "metadata": {},
   "outputs": [],
   "source": [
    "# EJERCICIO 2 \n",
    "'''\n",
    "Marcar la respuesta correcta, para una precisión numérica de al menos 6 cifras decimales exactas.\n",
    "'''"
   ]
  },
  {
   "cell_type": "code",
   "execution_count": null,
   "metadata": {},
   "outputs": [],
   "source": [
    "# EJERCICIO 2 - APARTADO 1\n",
    "'''\n",
    "Guardar los datos de la matriz  B  y el vector  c  empleando el anillo de números RDF. Encontrar la solución del \n",
    "sistema  Bx=c  mediante la factorización PLU.\n",
    "'''"
   ]
  },
  {
   "cell_type": "code",
   "execution_count": null,
   "metadata": {},
   "outputs": [],
   "source": []
  },
  {
   "cell_type": "code",
   "execution_count": null,
   "metadata": {},
   "outputs": [],
   "source": [
    "'''\n",
    "1. (1.0000000000000007, 0.0, 8.0, -2.2373960190919183e-16, -0.9999999999999999)\n",
    "2. (3.0, 5.921189464667501e-16, -0.9999999999999996, -3.9999999999999996, 2.9999999999999996)\n",
    "3. (-2.999999999999999, 4.999999999999997, 1.9999999999999996, 2.50572578237053e-16, 5.825344495042133e-16)\n",
    "4. Ninguna de las otras respuestas.\n",
    "'''"
   ]
  },
  {
   "cell_type": "code",
   "execution_count": null,
   "metadata": {},
   "outputs": [],
   "source": []
  },
  {
   "cell_type": "code",
   "execution_count": null,
   "metadata": {},
   "outputs": [],
   "source": [
    "# EJERCICIO 2 - APARTADO 2\n",
    "'''\n",
    "Calcular la proporción  κ(L)∗κ(U)/κ(B)  entre el producto de los números de condición de  L  y  U  y el número de \n",
    "condición de  B , todos calculados para la norma euclídea.\n",
    "'''"
   ]
  },
  {
   "cell_type": "code",
   "execution_count": null,
   "metadata": {},
   "outputs": [],
   "source": []
  },
  {
   "cell_type": "code",
   "execution_count": null,
   "metadata": {},
   "outputs": [],
   "source": [
    "'''\n",
    "1. 1.26559431201\n",
    "2. 1.47125059775\n",
    "3. 2.77718964894\n",
    "4. Ninguna de las otras respuestas.\n",
    "'''"
   ]
  },
  {
   "cell_type": "code",
   "execution_count": null,
   "metadata": {},
   "outputs": [],
   "source": []
  },
  {
   "cell_type": "code",
   "execution_count": null,
   "metadata": {},
   "outputs": [],
   "source": [
    "# EJERCICIO 2 - APARTADO 3\n",
    "'''\n",
    "Encontrar la solución del sistema  Bx=c  mediante la factorización QR.\n",
    "'''"
   ]
  },
  {
   "cell_type": "code",
   "execution_count": null,
   "metadata": {},
   "outputs": [],
   "source": []
  },
  {
   "cell_type": "code",
   "execution_count": null,
   "metadata": {},
   "outputs": [],
   "source": [
    "'''\n",
    "1. (-1.0000000000000004, 3.9999999999999987, -4.999999999999997, 3.0397934443368668e-15, -4.000000000000003)\n",
    "2. (0.9999999999999987, -1.1029328106779408e-15, 8.0, -2.4940313946435545e-16, -1.0000000000000002)\n",
    "3. (3.0000000000000027, -7.186012158661211e-16, -0.9999999999999727, -3.9999999999999845, 2.99999999999999)\n",
    "4. Ninguna de las otras respuestas.\n",
    "'''"
   ]
  },
  {
   "cell_type": "code",
   "execution_count": null,
   "metadata": {},
   "outputs": [],
   "source": []
  },
  {
   "cell_type": "code",
   "execution_count": null,
   "metadata": {},
   "outputs": [],
   "source": [
    "# EJERCICIO 2 - APARTADO 4\n",
    "'''\n",
    "Bajo el supuesto de que los sistemas  Ax=b  del ejercicio anterior y  Bx=c  de este ejercicio son dos modelizaciones \n",
    "diferentes del mismo problema, ¿qué vector sería más fiable tomar como aproximación a la solución del problema?\n",
    "'''"
   ]
  },
  {
   "cell_type": "code",
   "execution_count": null,
   "metadata": {},
   "outputs": [],
   "source": []
  },
  {
   "cell_type": "code",
   "execution_count": null,
   "metadata": {},
   "outputs": [],
   "source": [
    "'''\n",
    "1. (3.0, 0.0, -1.0, -4.0, 3.0)\n",
    "2. (-3.0, 5.0, 2.0, 0.0, 0.0)\n",
    "3. (7.0, 4.0, 7.0, -3.0, 0.0)\n",
    "4. (-1.0, 0.0, 9.0, 5.0, -3.0)\n",
    "'''"
   ]
  },
  {
   "cell_type": "code",
   "execution_count": null,
   "metadata": {},
   "outputs": [],
   "source": []
  },
  {
   "cell_type": "code",
   "execution_count": null,
   "metadata": {},
   "outputs": [],
   "source": []
  },
  {
   "cell_type": "code",
   "execution_count": null,
   "metadata": {},
   "outputs": [],
   "source": [
    "# EJERCICIO 3 \n",
    "'''\n",
    "Dada la matriz A, guardarla en memoria declarando sus coeficientes en el anillo RDF.\n",
    "'''"
   ]
  },
  {
   "cell_type": "code",
   "execution_count": null,
   "metadata": {},
   "outputs": [],
   "source": [
    "# EJERCICIO 3 - APARTADO 1\n",
    "'''\n",
    "Comprobar mediante escalonamiento que el rango es 10. Señalar cuál es su rango numérico estimado a partir de la \n",
    "descomposición SVD de la matriz, para un nivel de tolerancia por defecto de  10−14 .\n",
    "'''"
   ]
  },
  {
   "cell_type": "code",
   "execution_count": null,
   "metadata": {},
   "outputs": [],
   "source": []
  },
  {
   "cell_type": "code",
   "execution_count": null,
   "metadata": {},
   "outputs": [],
   "source": [
    "'''\n",
    "1. 7\t2. 9\n",
    "3. 8\t4. Ninguna de las otras respuestas.\n",
    "'''"
   ]
  },
  {
   "cell_type": "code",
   "execution_count": null,
   "metadata": {},
   "outputs": [],
   "source": []
  },
  {
   "cell_type": "code",
   "execution_count": null,
   "metadata": {},
   "outputs": [],
   "source": []
  },
  {
   "cell_type": "code",
   "execution_count": null,
   "metadata": {},
   "outputs": [],
   "source": [
    "# EJERCICIO 4\n",
    "'''\n",
    "Para este ejercicio se debe utilizar la imagen en blanco y negro de 256x256 pixeles denominada imagen9.png.\n",
    "'''"
   ]
  },
  {
   "cell_type": "code",
   "execution_count": null,
   "metadata": {},
   "outputs": [],
   "source": [
    "# EJERCICIO 4 - APARTADO 1\n",
    "'''\n",
    "Para una tolerancia dada de 2.9, determinar el número k mínimo de valores singulares que proporciona una compresión\n",
    "visual con dicho nivel de tolerancia, utilizando descomposición SVD.\n",
    "'''"
   ]
  },
  {
   "cell_type": "code",
   "execution_count": null,
   "metadata": {},
   "outputs": [],
   "source": []
  },
  {
   "cell_type": "code",
   "execution_count": null,
   "metadata": {},
   "outputs": [],
   "source": [
    "'''\n",
    "1. 9\n",
    "2. 62\n",
    "3. 16\n",
    "4. Ninguna de las otras respuestas.\n",
    "'''"
   ]
  },
  {
   "cell_type": "code",
   "execution_count": null,
   "metadata": {},
   "outputs": [],
   "source": []
  },
  {
   "cell_type": "code",
   "execution_count": null,
   "metadata": {},
   "outputs": [],
   "source": [
    "# EJERCICIO 4 - APARTADO 2\n",
    "'''\n",
    "Determinar el valor k mínimo para obtener un factor de compresión de al menos el 44 por ciento.\n",
    "'''"
   ]
  },
  {
   "cell_type": "code",
   "execution_count": null,
   "metadata": {},
   "outputs": [],
   "source": []
  },
  {
   "cell_type": "code",
   "execution_count": null,
   "metadata": {},
   "outputs": [],
   "source": [
    "'''\n",
    "1. 45\n",
    "2. 68\n",
    "3. 49\n",
    "4. Ninguna de las otras respuestas.\n",
    "'''"
   ]
  },
  {
   "cell_type": "code",
   "execution_count": null,
   "metadata": {},
   "outputs": [],
   "source": []
  },
  {
   "cell_type": "code",
   "execution_count": null,
   "metadata": {},
   "outputs": [],
   "source": [
    "# FIN"
   ]
  }
 ],
 "metadata": {
  "kernelspec": {
   "display_name": "SageMath 9.2",
   "language": "sage",
   "name": "sagemath"
  },
  "language": "python",
  "language_info": {
   "codemirror_mode": {
    "name": "ipython",
    "version": 3
   },
   "file_extension": ".py",
   "mimetype": "text/x-python",
   "name": "python",
   "nbconvert_exporter": "python",
   "pygments_lexer": "ipython3",
   "version": "3.7.7"
  }
 },
 "nbformat": 4,
 "nbformat_minor": 4
}
